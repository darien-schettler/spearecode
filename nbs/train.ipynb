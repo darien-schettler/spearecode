{
 "cells": [
  {
   "cell_type": "markdown",
   "id": "0acb0112-c7aa-4f44-b9f2-b00adce49d8e",
   "metadata": {},
   "source": [
    "<br>\n",
    "\n",
    "<b>Imports and Constants</b>"
   ]
  },
  {
   "cell_type": "code",
   "execution_count": 1,
   "id": "6d4bf6c3-8590-4e25-95f7-24a62edd1c25",
   "metadata": {},
   "outputs": [],
   "source": [
    "# !pip install -q --upgrade tokenizer-viz\n",
    "\n",
    "# Regular imports (native python and pypi packages)\n",
    "import os\n",
    "import sys\n",
    "import ast\n",
    "import random\n",
    "import numpy as np\n",
    "import pandas as pd\n",
    "from glob import glob\n",
    "import tensorflow as tf\n",
    "import sentencepiece as spm\n",
    "import matplotlib.pyplot as plt\n",
    "from IPython.display import HTML, display\n",
    "from tokenizer_viz import TokenVisualization\n",
    "from tqdm.notebook import tqdm; tqdm.pandas()\n",
    "from typing import Callable, List, Optional, Union\n",
    "\n",
    "# Add project root into path so imports work\n",
    "PROJECT_DIR = os.path.dirname(os.getcwd())\n",
    "sys.path.insert(0, PROJECT_DIR) \n",
    "\n",
    "# Our project imports\n",
    "from spearecode.utils.preprocessing_utils import (\n",
    "    load_from_txt_file, preprocess_shakespeare, save_to_txt_file, print_check_speare, get_spm_assets\n",
    ")\n",
    "from spearecode.utils.general_utils import (\n",
    "    tf_xla_jit, tf_set_memory_growth, seed_it_all, flatten_l_o_l, print_ln\n",
    ")\n",
    "from spearecode.utils.filtering_utils import (\n",
    "    save_ds_version, drop_str_from_col_names, pad_truncate_centered,\n",
    "    get_metadata_df, check_chunks, tokenize, get_n_tokens,\n",
    "    get_n_lines, get_n_chars\n",
    ")\n",
    "from spearecode.utils.tfrecord_utils import write_tfrecords, load_tfrecord_dataset\n",
    "\n",
    "TRAIN_STYLE = \"rcts_bpe_v4\"\n",
    "CHUNK_STYLE, TOK_STYLE, DS_VERSION = TRAIN_STYLE.split(\"_\")\n",
    "\n",
    "### DEFINE PATHS --- [PROJECT_DIR=\"/home/paperspace/home/spearecode\"] --- ###\n",
    "NBS_PATH = os.path.join(PROJECT_DIR, \"nbs\")\n",
    "DATA_PATH = os.path.join(PROJECT_DIR, \"data\")\n",
    "SS_TEXT_PATH = os.path.join(DATA_PATH, \"t8.shakespeare.txt\")\n",
    "PREPROCESSED_FULL_TEXT_PATH = SS_TEXT_PATH.replace(\".txt\", \"_preprocessed.txt\")\n",
    "\n",
    "DATASETS_PATH = os.path.join(DATA_PATH, \"datasets\") \n",
    "META_DIR = os.path.join(DATASETS_PATH, \"meta\") \n",
    "TFRECORD_DIR = os.path.join(DATASETS_PATH, \"tfrecords\", TRAIN_STYLE)\n",
    "MODELS_DIR = os.path.join(PROJECT_DIR, \"models\")\n",
    "\n",
    "# Specific Paths\n",
    "SPM_MODEL_PATH = os.path.join(MODELS_DIR, f\"spearecode_{TOK_STYLE}\")\n",
    "DATA_CSV_PATH  = os.path.join(DATASETS_PATH, f\"{DS_VERSION}_{CHUNK_STYLE}_{TOK_STYLE}.csv\")\n",
    "META_CSV_PATH  = os.path.join(META_DIR, f\"{DS_VERSION}_{CHUNK_STYLE}_{TOK_STYLE}.csv\")\n",
    "\n",
    "sp, encoder, decoder = get_spm_assets(SPM_MODEL_PATH)\n",
    "viz_tool = TokenVisualization(encoder, decoder, background_color=\"#FBFBFB\", transparency=0.4)"
   ]
  },
  {
   "cell_type": "markdown",
   "id": "2accc846-874c-4bfc-9bef-b01ca883f5a1",
   "metadata": {},
   "source": [
    "<br>\n",
    "\n",
    "<b>Instantiate expected tools for the reset of the notebook</b>"
   ]
  },
  {
   "cell_type": "code",
   "execution_count": 2,
   "id": "c2dec0a8-a181-492a-ac75-f397776c522c",
   "metadata": {},
   "outputs": [
    {
     "data": {
      "text/html": [
       "<div>\n",
       "<style scoped>\n",
       "    .dataframe tbody tr th:only-of-type {\n",
       "        vertical-align: middle;\n",
       "    }\n",
       "\n",
       "    .dataframe tbody tr th {\n",
       "        vertical-align: top;\n",
       "    }\n",
       "\n",
       "    .dataframe thead th {\n",
       "        text-align: right;\n",
       "    }\n",
       "</style>\n",
       "<table border=\"1\" class=\"dataframe\">\n",
       "  <thead>\n",
       "    <tr style=\"text-align: right;\">\n",
       "      <th></th>\n",
       "      <th>content</th>\n",
       "      <th>token_content</th>\n",
       "      <th>n_tokens</th>\n",
       "      <th>n_chars</th>\n",
       "      <th>n_lines</th>\n",
       "    </tr>\n",
       "  </thead>\n",
       "  <tbody>\n",
       "    <tr>\n",
       "      <th>0</th>\n",
       "      <td>1\\n  From fairest creatures we desire increase...</td>\n",
       "      <td>[0, 0, 0, 0, 0, 0, 0, 0, 0, 0, 0, 0, 0, 0, 0, ...</td>\n",
       "      <td>173</td>\n",
       "      <td>643</td>\n",
       "      <td>15</td>\n",
       "    </tr>\n",
       "    <tr>\n",
       "      <th>1</th>\n",
       "      <td>2\\n  When forty winters shall besiege thy brow...</td>\n",
       "      <td>[0, 0, 0, 0, 0, 0, 0, 0, 0, 0, 0, 0, 0, 0, 0, ...</td>\n",
       "      <td>180</td>\n",
       "      <td>662</td>\n",
       "      <td>15</td>\n",
       "    </tr>\n",
       "    <tr>\n",
       "      <th>2</th>\n",
       "      <td>3\\n  Look in thy glass and tell the face thou ...</td>\n",
       "      <td>[0, 0, 0, 0, 0, 0, 0, 0, 0, 0, 0, 0, 0, 0, 0, ...</td>\n",
       "      <td>170</td>\n",
       "      <td>643</td>\n",
       "      <td>15</td>\n",
       "    </tr>\n",
       "    <tr>\n",
       "      <th>3</th>\n",
       "      <td>4\\n  Unthrifty loveliness why dost thou spend,...</td>\n",
       "      <td>[0, 0, 0, 0, 0, 0, 0, 0, 0, 0, 0, 0, 0, 0, 0, ...</td>\n",
       "      <td>166</td>\n",
       "      <td>619</td>\n",
       "      <td>15</td>\n",
       "    </tr>\n",
       "    <tr>\n",
       "      <th>4</th>\n",
       "      <td>5\\n  Those hours that with gentle work did fra...</td>\n",
       "      <td>[0, 0, 0, 0, 0, 0, 0, 0, 0, 0, 0, 0, 0, 0, 0, ...</td>\n",
       "      <td>164</td>\n",
       "      <td>652</td>\n",
       "      <td>15</td>\n",
       "    </tr>\n",
       "    <tr>\n",
       "      <th>...</th>\n",
       "      <td>...</td>\n",
       "      <td>...</td>\n",
       "      <td>...</td>\n",
       "      <td>...</td>\n",
       "      <td>...</td>\n",
       "    </tr>\n",
       "    <tr>\n",
       "      <th>26717</th>\n",
       "      <td>'This said, his wat'ry eyes he did dismount,  ...</td>\n",
       "      <td>[0, 0, 0, 0, 0, 0, 0, 0, 0, 0, 0, 0, 0, 0, 0, ...</td>\n",
       "      <td>264</td>\n",
       "      <td>961</td>\n",
       "      <td>23</td>\n",
       "    </tr>\n",
       "    <tr>\n",
       "      <th>26718</th>\n",
       "      <td>'O father, what a hell of witchcraft lies\\n  I...</td>\n",
       "      <td>[0, 0, 0, 0, 0, 0, 0, 0, 0, 0, 0, 0, 0, 0, 0, ...</td>\n",
       "      <td>262</td>\n",
       "      <td>941</td>\n",
       "      <td>23</td>\n",
       "    </tr>\n",
       "    <tr>\n",
       "      <th>26719</th>\n",
       "      <td>'For lo, his passion, but an art of craft,\\n  ...</td>\n",
       "      <td>[0, 0, 0, 0, 0, 0, 0, 0, 0, 0, 0, 0, 0, 0, 0, ...</td>\n",
       "      <td>268</td>\n",
       "      <td>965</td>\n",
       "      <td>23</td>\n",
       "    </tr>\n",
       "    <tr>\n",
       "      <th>26720</th>\n",
       "      <td>'In him a plenitude of subtle matter,\\n  Appli...</td>\n",
       "      <td>[0, 0, 0, 0, 0, 0, 0, 0, 0, 0, 0, 0, 0, 0, 0, ...</td>\n",
       "      <td>274</td>\n",
       "      <td>964</td>\n",
       "      <td>23</td>\n",
       "    </tr>\n",
       "    <tr>\n",
       "      <th>26721</th>\n",
       "      <td>'That not a heart which in his level came\\n  C...</td>\n",
       "      <td>[0, 0, 0, 0, 0, 0, 0, 0, 0, 0, 0, 0, 0, 0, 0, ...</td>\n",
       "      <td>275</td>\n",
       "      <td>963</td>\n",
       "      <td>23</td>\n",
       "    </tr>\n",
       "  </tbody>\n",
       "</table>\n",
       "<p>26722 rows × 5 columns</p>\n",
       "</div>"
      ],
      "text/plain": [
       "                                                 content  \\\n",
       "0      1\\n  From fairest creatures we desire increase...   \n",
       "1      2\\n  When forty winters shall besiege thy brow...   \n",
       "2      3\\n  Look in thy glass and tell the face thou ...   \n",
       "3      4\\n  Unthrifty loveliness why dost thou spend,...   \n",
       "4      5\\n  Those hours that with gentle work did fra...   \n",
       "...                                                  ...   \n",
       "26717  'This said, his wat'ry eyes he did dismount,  ...   \n",
       "26718  'O father, what a hell of witchcraft lies\\n  I...   \n",
       "26719  'For lo, his passion, but an art of craft,\\n  ...   \n",
       "26720  'In him a plenitude of subtle matter,\\n  Appli...   \n",
       "26721  'That not a heart which in his level came\\n  C...   \n",
       "\n",
       "                                           token_content  n_tokens  n_chars  \\\n",
       "0      [0, 0, 0, 0, 0, 0, 0, 0, 0, 0, 0, 0, 0, 0, 0, ...       173      643   \n",
       "1      [0, 0, 0, 0, 0, 0, 0, 0, 0, 0, 0, 0, 0, 0, 0, ...       180      662   \n",
       "2      [0, 0, 0, 0, 0, 0, 0, 0, 0, 0, 0, 0, 0, 0, 0, ...       170      643   \n",
       "3      [0, 0, 0, 0, 0, 0, 0, 0, 0, 0, 0, 0, 0, 0, 0, ...       166      619   \n",
       "4      [0, 0, 0, 0, 0, 0, 0, 0, 0, 0, 0, 0, 0, 0, 0, ...       164      652   \n",
       "...                                                  ...       ...      ...   \n",
       "26717  [0, 0, 0, 0, 0, 0, 0, 0, 0, 0, 0, 0, 0, 0, 0, ...       264      961   \n",
       "26718  [0, 0, 0, 0, 0, 0, 0, 0, 0, 0, 0, 0, 0, 0, 0, ...       262      941   \n",
       "26719  [0, 0, 0, 0, 0, 0, 0, 0, 0, 0, 0, 0, 0, 0, 0, ...       268      965   \n",
       "26720  [0, 0, 0, 0, 0, 0, 0, 0, 0, 0, 0, 0, 0, 0, 0, ...       274      964   \n",
       "26721  [0, 0, 0, 0, 0, 0, 0, 0, 0, 0, 0, 0, 0, 0, 0, ...       275      963   \n",
       "\n",
       "       n_lines  \n",
       "0           15  \n",
       "1           15  \n",
       "2           15  \n",
       "3           15  \n",
       "4           15  \n",
       "...        ...  \n",
       "26717       23  \n",
       "26718       23  \n",
       "26719       23  \n",
       "26720       23  \n",
       "26721       23  \n",
       "\n",
       "[26722 rows x 5 columns]"
      ]
     },
     "metadata": {},
     "output_type": "display_data"
    },
    {
     "data": {
      "text/html": [
       "<div>\n",
       "<style scoped>\n",
       "    .dataframe tbody tr th:only-of-type {\n",
       "        vertical-align: middle;\n",
       "    }\n",
       "\n",
       "    .dataframe tbody tr th {\n",
       "        vertical-align: top;\n",
       "    }\n",
       "\n",
       "    .dataframe thead th {\n",
       "        text-align: right;\n",
       "    }\n",
       "</style>\n",
       "<table border=\"1\" class=\"dataframe\">\n",
       "  <thead>\n",
       "    <tr style=\"text-align: right;\">\n",
       "      <th></th>\n",
       "      <th>n_tokens</th>\n",
       "      <th>n_chars</th>\n",
       "      <th>n_lines</th>\n",
       "    </tr>\n",
       "  </thead>\n",
       "  <tbody>\n",
       "    <tr>\n",
       "      <th>0</th>\n",
       "      <td>173</td>\n",
       "      <td>643</td>\n",
       "      <td>15</td>\n",
       "    </tr>\n",
       "    <tr>\n",
       "      <th>1</th>\n",
       "      <td>180</td>\n",
       "      <td>662</td>\n",
       "      <td>15</td>\n",
       "    </tr>\n",
       "    <tr>\n",
       "      <th>2</th>\n",
       "      <td>170</td>\n",
       "      <td>643</td>\n",
       "      <td>15</td>\n",
       "    </tr>\n",
       "    <tr>\n",
       "      <th>3</th>\n",
       "      <td>166</td>\n",
       "      <td>619</td>\n",
       "      <td>15</td>\n",
       "    </tr>\n",
       "    <tr>\n",
       "      <th>4</th>\n",
       "      <td>164</td>\n",
       "      <td>652</td>\n",
       "      <td>15</td>\n",
       "    </tr>\n",
       "    <tr>\n",
       "      <th>...</th>\n",
       "      <td>...</td>\n",
       "      <td>...</td>\n",
       "      <td>...</td>\n",
       "    </tr>\n",
       "    <tr>\n",
       "      <th>26717</th>\n",
       "      <td>264</td>\n",
       "      <td>961</td>\n",
       "      <td>23</td>\n",
       "    </tr>\n",
       "    <tr>\n",
       "      <th>26718</th>\n",
       "      <td>262</td>\n",
       "      <td>941</td>\n",
       "      <td>23</td>\n",
       "    </tr>\n",
       "    <tr>\n",
       "      <th>26719</th>\n",
       "      <td>268</td>\n",
       "      <td>965</td>\n",
       "      <td>23</td>\n",
       "    </tr>\n",
       "    <tr>\n",
       "      <th>26720</th>\n",
       "      <td>274</td>\n",
       "      <td>964</td>\n",
       "      <td>23</td>\n",
       "    </tr>\n",
       "    <tr>\n",
       "      <th>26721</th>\n",
       "      <td>275</td>\n",
       "      <td>963</td>\n",
       "      <td>23</td>\n",
       "    </tr>\n",
       "  </tbody>\n",
       "</table>\n",
       "<p>26722 rows × 3 columns</p>\n",
       "</div>"
      ],
      "text/plain": [
       "       n_tokens  n_chars  n_lines\n",
       "0           173      643       15\n",
       "1           180      662       15\n",
       "2           170      643       15\n",
       "3           166      619       15\n",
       "4           164      652       15\n",
       "...         ...      ...      ...\n",
       "26717       264      961       23\n",
       "26718       262      941       23\n",
       "26719       268      965       23\n",
       "26720       274      964       23\n",
       "26721       275      963       23\n",
       "\n",
       "[26722 rows x 3 columns]"
      ]
     },
     "metadata": {},
     "output_type": "display_data"
    },
    {
     "data": {
      "text/html": [
       "<style>span.token {font-family: Courier New; font-size: 1.1em; font-weight: 300; padding: 0px; margin-right: 0px; border-color: rgba(0, 0, 0, 0.05); border-style: ridge; border-radius: 0px;}</style><div style='background-color: #FBFBFB; line-height: 175%; padding: 25px; border-radius: 8px; margin-left: 10px; margin-right: 10px; margin-top: 20px; margin-bottom: 20px; overflow-x: auto; white-space: nowrap;'><span class='token' style='background-color: rgba(179, 226, 205, 0.4);'>I</span><span class='token' style='background-color: rgba(253, 205, 172, 0.4);'>&nbsp;saw</span><span class='token' style='background-color: rgba(203, 213, 232, 0.4);'>&nbsp;them</span><span class='token' style='background-color: rgba(244, 202, 228, 0.4);'>&nbsp;at</span><span class='token' style='background-color: rgba(230, 245, 201, 0.4);'>&nbsp;the</span><span class='token' style='background-color: rgba(255, 242, 174, 0.4);'>&nbsp;prison</span><span class='token' style='background-color: rgba(241, 226, 204, 0.4);'>;</span><span class='token' style='background-color: rgba(204, 204, 204, 0.4);'>&nbsp;a</span><span class='token' style='background-color: rgba(179, 226, 205, 0.4);'>&nbsp;saucy</span><span class='token' style='background-color: rgba(253, 205, 172, 0.4);'>&nbsp;friar</span><span class='token' style='background-color: rgba(203, 213, 232, 0.4);'>,</span><span class='token' style='background-color: rgba(244, 202, 228, 0.4);'><br></span><span class='token' style='background-color: rgba(179, 226, 205, 0.4);'>&nbsp;&nbsp;&nbsp;&nbsp;</span><span class='token' style='background-color: rgba(253, 205, 172, 0.4);'>A</span><span class='token' style='background-color: rgba(203, 213, 232, 0.4);'>&nbsp;very</span><span class='token' style='background-color: rgba(244, 202, 228, 0.4);'>&nbsp;scurvy</span><span class='token' style='background-color: rgba(230, 245, 201, 0.4);'>&nbsp;fellow</span><span class='token' style='background-color: rgba(255, 242, 174, 0.4);'>.</span><span class='token' style='background-color: rgba(241, 226, 204, 0.4);'>&nbsp;&nbsp;</span><span class='token' style='background-color: rgba(204, 204, 204, 0.4);'><br></span><span class='token' style='background-color: rgba(179, 226, 205, 0.4);'>&nbsp;&nbsp;</span><span class='token' style='background-color: rgba(253, 205, 172, 0.4);'>PETER</span><span class='token' style='background-color: rgba(203, 213, 232, 0.4);'>.</span><span class='token' style='background-color: rgba(244, 202, 228, 0.4);'>&nbsp;B</span><span class='token' style='background-color: rgba(230, 245, 201, 0.4);'>lessed</span><span class='token' style='background-color: rgba(255, 242, 174, 0.4);'>&nbsp;be</span><span class='token' style='background-color: rgba(241, 226, 204, 0.4);'>&nbsp;your</span><span class='token' style='background-color: rgba(204, 204, 204, 0.4);'>&nbsp;royal</span><span class='token' style='background-color: rgba(179, 226, 205, 0.4);'>&nbsp;Grace</span><span class='token' style='background-color: rgba(253, 205, 172, 0.4);'>!</span><span class='token' style='background-color: rgba(203, 213, 232, 0.4);'><br></span><span class='token' style='background-color: rgba(179, 226, 205, 0.4);'>&nbsp;&nbsp;&nbsp;&nbsp;</span><span class='token' style='background-color: rgba(253, 205, 172, 0.4);'>I</span><span class='token' style='background-color: rgba(203, 213, 232, 0.4);'>&nbsp;have</span><span class='token' style='background-color: rgba(244, 202, 228, 0.4);'>&nbsp;stood</span><span class='token' style='background-color: rgba(230, 245, 201, 0.4);'>&nbsp;by</span><span class='token' style='background-color: rgba(255, 242, 174, 0.4);'>,</span><span class='token' style='background-color: rgba(241, 226, 204, 0.4);'>&nbsp;my</span><span class='token' style='background-color: rgba(204, 204, 204, 0.4);'>&nbsp;lord</span><span class='token' style='background-color: rgba(179, 226, 205, 0.4);'>,</span><span class='token' style='background-color: rgba(253, 205, 172, 0.4);'>&nbsp;and</span><span class='token' style='background-color: rgba(203, 213, 232, 0.4);'>&nbsp;I</span><span class='token' style='background-color: rgba(244, 202, 228, 0.4);'>&nbsp;have</span><span class='token' style='background-color: rgba(230, 245, 201, 0.4);'>&nbsp;heard</span><span class='token' style='background-color: rgba(255, 242, 174, 0.4);'><br></span><span class='token' style='background-color: rgba(179, 226, 205, 0.4);'>&nbsp;&nbsp;&nbsp;&nbsp;</span><span class='token' style='background-color: rgba(253, 205, 172, 0.4);'>Your</span><span class='token' style='background-color: rgba(203, 213, 232, 0.4);'>&nbsp;royal</span><span class='token' style='background-color: rgba(244, 202, 228, 0.4);'>&nbsp;ear</span><span class='token' style='background-color: rgba(230, 245, 201, 0.4);'>&nbsp;abus</span><span class='token' style='background-color: rgba(255, 242, 174, 0.4);'>'</span><span class='token' style='background-color: rgba(241, 226, 204, 0.4);'>d</span><span class='token' style='background-color: rgba(204, 204, 204, 0.4);'>.</span><span class='token' style='background-color: rgba(179, 226, 205, 0.4);'>&nbsp;First</span><span class='token' style='background-color: rgba(253, 205, 172, 0.4);'>,</span><span class='token' style='background-color: rgba(203, 213, 232, 0.4);'>&nbsp;hath</span><span class='token' style='background-color: rgba(244, 202, 228, 0.4);'>&nbsp;this</span><span class='token' style='background-color: rgba(230, 245, 201, 0.4);'>&nbsp;woman</span><span class='token' style='background-color: rgba(255, 242, 174, 0.4);'><br></span><span class='token' style='background-color: rgba(179, 226, 205, 0.4);'>&nbsp;&nbsp;&nbsp;&nbsp;</span><span class='token' style='background-color: rgba(253, 205, 172, 0.4);'>Most</span><span class='token' style='background-color: rgba(203, 213, 232, 0.4);'>&nbsp;wrongfully</span><span class='token' style='background-color: rgba(244, 202, 228, 0.4);'>&nbsp;accus</span><span class='token' style='background-color: rgba(230, 245, 201, 0.4);'>'</span><span class='token' style='background-color: rgba(255, 242, 174, 0.4);'>d</span><span class='token' style='background-color: rgba(241, 226, 204, 0.4);'>&nbsp;your</span><span class='token' style='background-color: rgba(204, 204, 204, 0.4);'>&nbsp;substitute</span><span class='token' style='background-color: rgba(179, 226, 205, 0.4);'>;</span><span class='token' style='background-color: rgba(253, 205, 172, 0.4);'><br></span><span class='token' style='background-color: rgba(179, 226, 205, 0.4);'>&nbsp;&nbsp;&nbsp;&nbsp;</span><span class='token' style='background-color: rgba(253, 205, 172, 0.4);'>Who</span><span class='token' style='background-color: rgba(203, 213, 232, 0.4);'>&nbsp;is</span><span class='token' style='background-color: rgba(244, 202, 228, 0.4);'>&nbsp;as</span><span class='token' style='background-color: rgba(230, 245, 201, 0.4);'>&nbsp;free</span><span class='token' style='background-color: rgba(255, 242, 174, 0.4);'>&nbsp;from</span><span class='token' style='background-color: rgba(241, 226, 204, 0.4);'>&nbsp;touch</span><span class='token' style='background-color: rgba(204, 204, 204, 0.4);'>&nbsp;or</span><span class='token' style='background-color: rgba(179, 226, 205, 0.4);'>&nbsp;soil</span><span class='token' style='background-color: rgba(253, 205, 172, 0.4);'>&nbsp;with</span><span class='token' style='background-color: rgba(203, 213, 232, 0.4);'>&nbsp;her</span><span class='token' style='background-color: rgba(244, 202, 228, 0.4);'><br></span><span class='token' style='background-color: rgba(179, 226, 205, 0.4);'>&nbsp;&nbsp;&nbsp;&nbsp;</span><span class='token' style='background-color: rgba(253, 205, 172, 0.4);'>As</span><span class='token' style='background-color: rgba(203, 213, 232, 0.4);'>&nbsp;she</span><span class='token' style='background-color: rgba(244, 202, 228, 0.4);'>&nbsp;from</span><span class='token' style='background-color: rgba(230, 245, 201, 0.4);'>&nbsp;one</span><span class='token' style='background-color: rgba(255, 242, 174, 0.4);'>&nbsp;ung</span><span class='token' style='background-color: rgba(241, 226, 204, 0.4);'>ot</span><span class='token' style='background-color: rgba(204, 204, 204, 0.4);'>.</span><span class='token' style='background-color: rgba(179, 226, 205, 0.4);'><br></span><span class='token' style='background-color: rgba(179, 226, 205, 0.4);'>&nbsp;&nbsp;</span><span class='token' style='background-color: rgba(253, 205, 172, 0.4);'>DUKE</span><span class='token' style='background-color: rgba(203, 213, 232, 0.4);'>.</span><span class='token' style='background-color: rgba(244, 202, 228, 0.4);'>&nbsp;We</span><span class='token' style='background-color: rgba(230, 245, 201, 0.4);'>&nbsp;did</span><span class='token' style='background-color: rgba(255, 242, 174, 0.4);'>&nbsp;believe</span><span class='token' style='background-color: rgba(241, 226, 204, 0.4);'>&nbsp;no</span><span class='token' style='background-color: rgba(204, 204, 204, 0.4);'>&nbsp;less</span><span class='token' style='background-color: rgba(179, 226, 205, 0.4);'>.</span><span class='token' style='background-color: rgba(253, 205, 172, 0.4);'><br></span><span class='token' style='background-color: rgba(179, 226, 205, 0.4);'>&nbsp;&nbsp;&nbsp;&nbsp;</span><span class='token' style='background-color: rgba(253, 205, 172, 0.4);'>Know</span><span class='token' style='background-color: rgba(203, 213, 232, 0.4);'>&nbsp;you</span><span class='token' style='background-color: rgba(244, 202, 228, 0.4);'>&nbsp;that</span><span class='token' style='background-color: rgba(230, 245, 201, 0.4);'>&nbsp;Friar</span><span class='token' style='background-color: rgba(255, 242, 174, 0.4);'>&nbsp;Lod</span><span class='token' style='background-color: rgba(241, 226, 204, 0.4);'>ow</span><span class='token' style='background-color: rgba(204, 204, 204, 0.4);'>ick</span><span class='token' style='background-color: rgba(179, 226, 205, 0.4);'>&nbsp;that</span><span class='token' style='background-color: rgba(253, 205, 172, 0.4);'>&nbsp;she</span><span class='token' style='background-color: rgba(203, 213, 232, 0.4);'>&nbsp;speaks</span><span class='token' style='background-color: rgba(244, 202, 228, 0.4);'>&nbsp;of</span><span class='token' style='background-color: rgba(230, 245, 201, 0.4);'>?</span><span class='token' style='background-color: rgba(255, 242, 174, 0.4);'><br></span><span class='token' style='background-color: rgba(179, 226, 205, 0.4);'>&nbsp;&nbsp;</span><span class='token' style='background-color: rgba(253, 205, 172, 0.4);'>PETER</span><span class='token' style='background-color: rgba(203, 213, 232, 0.4);'>.</span><span class='token' style='background-color: rgba(244, 202, 228, 0.4);'>&nbsp;I</span><span class='token' style='background-color: rgba(230, 245, 201, 0.4);'>&nbsp;know</span><span class='token' style='background-color: rgba(255, 242, 174, 0.4);'>&nbsp;him</span><span class='token' style='background-color: rgba(241, 226, 204, 0.4);'>&nbsp;for</span><span class='token' style='background-color: rgba(204, 204, 204, 0.4);'>&nbsp;a</span><span class='token' style='background-color: rgba(179, 226, 205, 0.4);'>&nbsp;man</span><span class='token' style='background-color: rgba(253, 205, 172, 0.4);'>&nbsp;divine</span><span class='token' style='background-color: rgba(203, 213, 232, 0.4);'>&nbsp;and</span><span class='token' style='background-color: rgba(244, 202, 228, 0.4);'>&nbsp;holy</span><span class='token' style='background-color: rgba(230, 245, 201, 0.4);'>;</span><span class='token' style='background-color: rgba(255, 242, 174, 0.4);'><br></span><span class='token' style='background-color: rgba(179, 226, 205, 0.4);'>&nbsp;&nbsp;&nbsp;&nbsp;</span><span class='token' style='background-color: rgba(253, 205, 172, 0.4);'>Not</span><span class='token' style='background-color: rgba(203, 213, 232, 0.4);'>&nbsp;scurvy</span><span class='token' style='background-color: rgba(244, 202, 228, 0.4);'>,</span><span class='token' style='background-color: rgba(230, 245, 201, 0.4);'>&nbsp;nor</span><span class='token' style='background-color: rgba(255, 242, 174, 0.4);'>&nbsp;a</span><span class='token' style='background-color: rgba(241, 226, 204, 0.4);'>&nbsp;temp</span><span class='token' style='background-color: rgba(204, 204, 204, 0.4);'>or</span><span class='token' style='background-color: rgba(179, 226, 205, 0.4);'>ary</span><span class='token' style='background-color: rgba(253, 205, 172, 0.4);'>&nbsp;medd</span><span class='token' style='background-color: rgba(203, 213, 232, 0.4);'>ler</span><span class='token' style='background-color: rgba(244, 202, 228, 0.4);'>,</span><span class='token' style='background-color: rgba(230, 245, 201, 0.4);'><br></span><span class='token' style='background-color: rgba(179, 226, 205, 0.4);'>&nbsp;&nbsp;&nbsp;&nbsp;</span><span class='token' style='background-color: rgba(253, 205, 172, 0.4);'>As</span><span class='token' style='background-color: rgba(203, 213, 232, 0.4);'>&nbsp;he</span><span class='token' style='background-color: rgba(244, 202, 228, 0.4);'>'</span><span class='token' style='background-color: rgba(230, 245, 201, 0.4);'>s</span><span class='token' style='background-color: rgba(255, 242, 174, 0.4);'>&nbsp;reported</span><span class='token' style='background-color: rgba(241, 226, 204, 0.4);'>&nbsp;by</span><span class='token' style='background-color: rgba(204, 204, 204, 0.4);'>&nbsp;this</span><span class='token' style='background-color: rgba(179, 226, 205, 0.4);'>&nbsp;gentleman</span><span class='token' style='background-color: rgba(253, 205, 172, 0.4);'>;</span><span class='token' style='background-color: rgba(203, 213, 232, 0.4);'><br></span><span class='token' style='background-color: rgba(179, 226, 205, 0.4);'>&nbsp;&nbsp;&nbsp;&nbsp;</span><span class='token' style='background-color: rgba(253, 205, 172, 0.4);'>And</span><span class='token' style='background-color: rgba(203, 213, 232, 0.4);'>,</span><span class='token' style='background-color: rgba(244, 202, 228, 0.4);'>&nbsp;on</span><span class='token' style='background-color: rgba(230, 245, 201, 0.4);'>&nbsp;my</span><span class='token' style='background-color: rgba(255, 242, 174, 0.4);'>&nbsp;trust</span><span class='token' style='background-color: rgba(241, 226, 204, 0.4);'>,</span><span class='token' style='background-color: rgba(204, 204, 204, 0.4);'>&nbsp;a</span><span class='token' style='background-color: rgba(179, 226, 205, 0.4);'>&nbsp;man</span><span class='token' style='background-color: rgba(253, 205, 172, 0.4);'>&nbsp;that</span><span class='token' style='background-color: rgba(203, 213, 232, 0.4);'>&nbsp;never</span><span class='token' style='background-color: rgba(244, 202, 228, 0.4);'>&nbsp;yet</span><span class='token' style='background-color: rgba(230, 245, 201, 0.4);'><br></span><span class='token' style='background-color: rgba(179, 226, 205, 0.4);'>&nbsp;&nbsp;&nbsp;&nbsp;</span><span class='token' style='background-color: rgba(253, 205, 172, 0.4);'>Did</span><span class='token' style='background-color: rgba(203, 213, 232, 0.4);'>,</span><span class='token' style='background-color: rgba(244, 202, 228, 0.4);'>&nbsp;as</span><span class='token' style='background-color: rgba(230, 245, 201, 0.4);'>&nbsp;he</span><span class='token' style='background-color: rgba(255, 242, 174, 0.4);'>&nbsp;v</span><span class='token' style='background-color: rgba(241, 226, 204, 0.4);'>ouches</span><span class='token' style='background-color: rgba(204, 204, 204, 0.4);'>,</span><span class='token' style='background-color: rgba(179, 226, 205, 0.4);'>&nbsp;mis</span><span class='token' style='background-color: rgba(253, 205, 172, 0.4);'>rep</span><span class='token' style='background-color: rgba(203, 213, 232, 0.4);'>ort</span><span class='token' style='background-color: rgba(244, 202, 228, 0.4);'>&nbsp;your</span><span class='token' style='background-color: rgba(230, 245, 201, 0.4);'>&nbsp;Grace</span><span class='token' style='background-color: rgba(255, 242, 174, 0.4);'>.</span><span class='token' style='background-color: rgba(241, 226, 204, 0.4);'><br></span><span class='token' style='background-color: rgba(179, 226, 205, 0.4);'>&nbsp;&nbsp;</span><span class='token' style='background-color: rgba(253, 205, 172, 0.4);'>LUCIO</span><span class='token' style='background-color: rgba(203, 213, 232, 0.4);'>.</span><span class='token' style='background-color: rgba(244, 202, 228, 0.4);'>&nbsp;My</span><span class='token' style='background-color: rgba(230, 245, 201, 0.4);'>&nbsp;lord</span><span class='token' style='background-color: rgba(255, 242, 174, 0.4);'>,</span><span class='token' style='background-color: rgba(241, 226, 204, 0.4);'>&nbsp;most</span><span class='token' style='background-color: rgba(204, 204, 204, 0.4);'>&nbsp;villain</span><span class='token' style='background-color: rgba(179, 226, 205, 0.4);'>ously</span><span class='token' style='background-color: rgba(253, 205, 172, 0.4);'>;</span><span class='token' style='background-color: rgba(203, 213, 232, 0.4);'>&nbsp;believe</span><span class='token' style='background-color: rgba(244, 202, 228, 0.4);'>&nbsp;it</span><span class='token' style='background-color: rgba(230, 245, 201, 0.4);'>.</span><span class='token' style='background-color: rgba(255, 242, 174, 0.4);'><br></span><span class='token' style='background-color: rgba(179, 226, 205, 0.4);'>&nbsp;&nbsp;</span><span class='token' style='background-color: rgba(253, 205, 172, 0.4);'>PETER</span><span class='token' style='background-color: rgba(203, 213, 232, 0.4);'>.</span><span class='token' style='background-color: rgba(244, 202, 228, 0.4);'>&nbsp;Well</span><span class='token' style='background-color: rgba(230, 245, 201, 0.4);'>,</span><span class='token' style='background-color: rgba(255, 242, 174, 0.4);'>&nbsp;he</span><span class='token' style='background-color: rgba(241, 226, 204, 0.4);'>&nbsp;in</span><span class='token' style='background-color: rgba(204, 204, 204, 0.4);'>&nbsp;time</span><span class='token' style='background-color: rgba(179, 226, 205, 0.4);'>&nbsp;may</span><span class='token' style='background-color: rgba(253, 205, 172, 0.4);'>&nbsp;come</span><span class='token' style='background-color: rgba(203, 213, 232, 0.4);'>&nbsp;to</span><span class='token' style='background-color: rgba(244, 202, 228, 0.4);'>&nbsp;clear</span><span class='token' style='background-color: rgba(230, 245, 201, 0.4);'>&nbsp;himself</span><span class='token' style='background-color: rgba(255, 242, 174, 0.4);'>;</span><span class='token' style='background-color: rgba(241, 226, 204, 0.4);'><br></span><span class='token' style='background-color: rgba(179, 226, 205, 0.4);'>&nbsp;&nbsp;&nbsp;&nbsp;</span><span class='token' style='background-color: rgba(253, 205, 172, 0.4);'>But</span><span class='token' style='background-color: rgba(203, 213, 232, 0.4);'>&nbsp;at</span><span class='token' style='background-color: rgba(244, 202, 228, 0.4);'>&nbsp;this</span><span class='token' style='background-color: rgba(230, 245, 201, 0.4);'>&nbsp;instant</span><span class='token' style='background-color: rgba(255, 242, 174, 0.4);'>&nbsp;he</span><span class='token' style='background-color: rgba(241, 226, 204, 0.4);'>&nbsp;is</span><span class='token' style='background-color: rgba(204, 204, 204, 0.4);'>&nbsp;sick</span><span class='token' style='background-color: rgba(179, 226, 205, 0.4);'>,</span><span class='token' style='background-color: rgba(253, 205, 172, 0.4);'>&nbsp;my</span><span class='token' style='background-color: rgba(203, 213, 232, 0.4);'>&nbsp;lord</span><span class='token' style='background-color: rgba(244, 202, 228, 0.4);'>,</span><span class='token' style='background-color: rgba(230, 245, 201, 0.4);'><br></span><span class='token' style='background-color: rgba(179, 226, 205, 0.4);'>&nbsp;&nbsp;&nbsp;&nbsp;</span><span class='token' style='background-color: rgba(253, 205, 172, 0.4);'>Of</span><span class='token' style='background-color: rgba(203, 213, 232, 0.4);'>&nbsp;a</span><span class='token' style='background-color: rgba(244, 202, 228, 0.4);'>&nbsp;strange</span><span class='token' style='background-color: rgba(230, 245, 201, 0.4);'>&nbsp;fever</span><span class='token' style='background-color: rgba(255, 242, 174, 0.4);'>.</span><span class='token' style='background-color: rgba(241, 226, 204, 0.4);'>&nbsp;Upon</span><span class='token' style='background-color: rgba(204, 204, 204, 0.4);'>&nbsp;his</span><span class='token' style='background-color: rgba(179, 226, 205, 0.4);'>&nbsp;mere</span><span class='token' style='background-color: rgba(253, 205, 172, 0.4);'>&nbsp;request</span><span class='token' style='background-color: rgba(203, 213, 232, 0.4);'>-</span><span class='token' style='background-color: rgba(244, 202, 228, 0.4);'><br></span><span class='token' style='background-color: rgba(179, 226, 205, 0.4);'>&nbsp;&nbsp;&nbsp;&nbsp;</span><span class='token' style='background-color: rgba(253, 205, 172, 0.4);'>Being</span><span class='token' style='background-color: rgba(203, 213, 232, 0.4);'>&nbsp;come</span><span class='token' style='background-color: rgba(244, 202, 228, 0.4);'>&nbsp;to</span><span class='token' style='background-color: rgba(230, 245, 201, 0.4);'>&nbsp;knowledge</span><span class='token' style='background-color: rgba(255, 242, 174, 0.4);'>&nbsp;that</span><span class='token' style='background-color: rgba(241, 226, 204, 0.4);'>&nbsp;there</span><span class='token' style='background-color: rgba(204, 204, 204, 0.4);'>&nbsp;was</span><span class='token' style='background-color: rgba(179, 226, 205, 0.4);'>&nbsp;complaint</span><span class='token' style='background-color: rgba(253, 205, 172, 0.4);'><br></span><span class='token' style='background-color: rgba(179, 226, 205, 0.4);'>&nbsp;&nbsp;&nbsp;&nbsp;</span><span class='token' style='background-color: rgba(253, 205, 172, 0.4);'>Int</span><span class='token' style='background-color: rgba(203, 213, 232, 0.4);'>ended</span><span class='token' style='background-color: rgba(244, 202, 228, 0.4);'>&nbsp;'</span><span class='token' style='background-color: rgba(230, 245, 201, 0.4);'>gainst</span><span class='token' style='background-color: rgba(255, 242, 174, 0.4);'>&nbsp;Lord</span><span class='token' style='background-color: rgba(241, 226, 204, 0.4);'>&nbsp;Angelo</span><span class='token' style='background-color: rgba(204, 204, 204, 0.4);'>-</span><span class='token' style='background-color: rgba(179, 226, 205, 0.4);'>&nbsp;came</span><span class='token' style='background-color: rgba(253, 205, 172, 0.4);'>&nbsp;I</span><span class='token' style='background-color: rgba(203, 213, 232, 0.4);'>&nbsp;hither</span><span class='token' style='background-color: rgba(244, 202, 228, 0.4);'><br></span><span class='token' style='background-color: rgba(179, 226, 205, 0.4);'>&nbsp;&nbsp;&nbsp;&nbsp;</span><span class='token' style='background-color: rgba(253, 205, 172, 0.4);'>To</span><span class='token' style='background-color: rgba(203, 213, 232, 0.4);'>&nbsp;speak</span><span class='token' style='background-color: rgba(244, 202, 228, 0.4);'>,</span><span class='token' style='background-color: rgba(230, 245, 201, 0.4);'>&nbsp;as</span><span class='token' style='background-color: rgba(255, 242, 174, 0.4);'>&nbsp;from</span><span class='token' style='background-color: rgba(241, 226, 204, 0.4);'>&nbsp;his</span><span class='token' style='background-color: rgba(204, 204, 204, 0.4);'>&nbsp;mouth</span><span class='token' style='background-color: rgba(179, 226, 205, 0.4);'>,</span><span class='token' style='background-color: rgba(253, 205, 172, 0.4);'>&nbsp;what</span><span class='token' style='background-color: rgba(203, 213, 232, 0.4);'>&nbsp;he</span><span class='token' style='background-color: rgba(244, 202, 228, 0.4);'>&nbsp;doth</span><span class='token' style='background-color: rgba(230, 245, 201, 0.4);'>&nbsp;know</span><span class='token' style='background-color: rgba(255, 242, 174, 0.4);'><br></span></div>"
      ],
      "text/plain": [
       "<IPython.core.display.HTML object>"
      ]
     },
     "metadata": {},
     "output_type": "display_data"
    }
   ],
   "source": [
    "MASK_TOKEN_STR = \"[MASK]\"\n",
    "MASK_TOKEN_INT = encoder(MASK_TOKEN_STR)[0]\n",
    "\n",
    "train_df = pd.read_csv(DATA_CSV_PATH)\n",
    "train_df.token_content = train_df.token_content.apply(ast.literal_eval)\n",
    "meta_df  = pd.read_csv(META_CSV_PATH)\n",
    "\n",
    "display(train_df)\n",
    "display(meta_df)\n",
    "\n",
    "_ = viz_tool.visualize(train_df.token_content.sample(1).values[0], display_inline=True)"
   ]
  },
  {
   "cell_type": "markdown",
   "id": "75d5570e-b19d-4de3-8014-9206f5271759",
   "metadata": {},
   "source": [
    "<br>\n",
    "\n",
    "<b>Create Datasets</b>"
   ]
  },
  {
   "cell_type": "code",
   "execution_count": 5,
   "id": "c15f7871-e2ba-44c2-b4fb-974c7985ee3a",
   "metadata": {},
   "outputs": [],
   "source": [
    "# Get all tfrecords and shuffle\n",
    "ALL_TFRECORDS = sorted(glob(os.path.join(TFRECORD_DIR, \"*.tfrec\")))\n",
    "N_TOTAL_RECS = len(ALL_TFRECORDS)\n",
    "\n",
    "\n",
    "EX_PER_TFREC = 100\n",
    "VAL_PCT = 0.08\n",
    "N_VAL_RECS = int(VAL_PCT*N_TOTAL_RECS)\n",
    "\n",
    "VAL_TFRECORDS = ALL_TFRECORDS[:N_VAL_RECS]\n",
    "TRAIN_TFRECORDS = ALL_TFRECORDS[N_VAL_RECS:]\n",
    "\n",
    "random.shuffle(TRAIN_TFRECORDS)\n",
    "random.shuffle(VAL_TFRECORDS)"
   ]
  },
  {
   "cell_type": "markdown",
   "id": "0b3ab3af-9ce8-444f-943d-6944a3550184",
   "metadata": {},
   "source": [
    "<br>\n",
    "\n",
    "<b>Training Configuration</b>"
   ]
  },
  {
   "cell_type": "code",
   "execution_count": 19,
   "id": "71bf0125-77d4-4f2f-91be-4807a3abcf7c",
   "metadata": {},
   "outputs": [],
   "source": [
    "train_config = dict(\n",
    "    batch_size=128,\n",
    "    shuffle_buffer=256,\n",
    "    encoder_context_len=64,\n",
    "    decoder_context_len=96,\n",
    "    mask_token_id=sp.encode(\"[MASK]\")[0],\n",
    "    vocab_size=sp.vocab_size(),\n",
    "    n_epochs=250\n",
    ")"
   ]
  },
  {
   "cell_type": "markdown",
   "id": "04c91c42-6f70-4430-85e8-eb7c4dbdeac8",
   "metadata": {},
   "source": [
    "<br>\n",
    "\n",
    "<b>TF.Data Pipeline</b>"
   ]
  },
  {
   "cell_type": "code",
   "execution_count": 20,
   "id": "ddfef8be-bcba-4ee1-8208-3fda9babea73",
   "metadata": {},
   "outputs": [
    {
     "data": {
      "text/plain": [
       "(<PrefetchDataset element_spec=((TensorSpec(shape=(128, 64), dtype=tf.int32, name=None), TensorSpec(shape=(128, 96), dtype=tf.int32, name=None)), (TensorSpec(shape=(128, 64), dtype=tf.int32, name=None), TensorSpec(shape=(128, 96), dtype=tf.int32, name=None)), (TensorSpec(shape=(128, 64), dtype=tf.float32, name=None), TensorSpec(shape=(128, 96), dtype=tf.float32, name=None)))>,\n",
       " <PrefetchDataset element_spec=((TensorSpec(shape=(128, 64), dtype=tf.int32, name=None), TensorSpec(shape=(128, 96), dtype=tf.int32, name=None)), (TensorSpec(shape=(128, 64), dtype=tf.int32, name=None), TensorSpec(shape=(128, 96), dtype=tf.int32, name=None)), (TensorSpec(shape=(128, 64), dtype=tf.float32, name=None), TensorSpec(shape=(128, 96), dtype=tf.float32, name=None)))>)"
      ]
     },
     "execution_count": 20,
     "metadata": {},
     "output_type": "execute_result"
    }
   ],
   "source": [
    "from typing import Tuple\n",
    "\n",
    "# --- Pipeline Steps ---\n",
    "# \n",
    "# 1. Shuffle examples (shuffle_buffer)\n",
    "# 2. Batch examples (batch_size, drop_remainder, AUTOTUNE)\n",
    "# 3. Split sequence into encoder/decoder inputs [`split_on_pivot`]\n",
    "# 4. Split encoder inputs into:\n",
    "#       --> 'inputs' (masked sequence)\n",
    "#       --> 'labels' (unaltered sequence)\n",
    "#       --> 'weights' (sample weights; 1.0 for masked tokens and 0.0 for non-mask tokens)\n",
    "# 5. Split decoder inputs into:\n",
    "#       --> 'inputs' (unaltered sequence)\n",
    "#       --> 'labels' (sequence shifted by 1)\n",
    "\n",
    "def split_on_pivot(tokens: tf.Tensor, \n",
    "                   encoder_context_len: int = 128, \n",
    "                   decoder_context_len: int = 64, \n",
    "                   center_stray_lim: int = 8, \n",
    "                   seq_len: int = 384) -> Tuple[tf.Tensor, tf.Tensor]:\n",
    "    \"\"\" Sample encoder and decoder input sequences from a batch of tokens with random pivot indices.\n",
    "    \n",
    "    Args:\n",
    "        tokens: A batch of token sequences with shape (batch_size, seq_len).\n",
    "        encoder_context_len: The number of tokens to be sampled for the encoder input sequences.\n",
    "        decoder_context_len: The number of tokens to be sampled for the decoder input sequences.\n",
    "        seq_len: The total length of each token sequence in the batch.\n",
    "\n",
    "    Returns:\n",
    "        encoder_inputs: A tensor with shape (batch_size, encoder_context_len) containing the\n",
    "                        sampled encoder input sequences.\n",
    "        decoder_inputs: A tensor with shape (batch_size, decoder_context_len) containing the\n",
    "                        sampled decoder input sequences.\n",
    "\n",
    "    Raises:\n",
    "        AssertionError: If the sum of encoder_context_len and decoder_context_len is greater than seq_len.\n",
    "    \"\"\"\n",
    "    \n",
    "    # Add one to our decoder context length as we need it for AR head\n",
    "    decoder_context_len+=1\n",
    "    assert encoder_context_len + decoder_context_len <= seq_len\n",
    "    \n",
    "    batch_size = tf.shape(tokens)[0]\n",
    "    c_point = seq_len // 2\n",
    "    \n",
    "    # Sample random pivot indices for each sequence in the batch\n",
    "    pivot_indices = tf.random.uniform(\n",
    "        shape=(batch_size, 1), \n",
    "        minval=c_point - min((c_point - encoder_context_len), center_stray_lim),\n",
    "        maxval=c_point + min((c_point - decoder_context_len), center_stray_lim),\n",
    "        dtype=tf.int32\n",
    "    )\n",
    "\n",
    "    # Extract indices for examples before and after the pivot\n",
    "    indices_before = tf.range(-encoder_context_len, 0, dtype=tf.int32)\n",
    "    indices_after = tf.range(0, decoder_context_len, dtype=tf.int32)\n",
    "\n",
    "    # Compute the final indices for sampling from the data\n",
    "    indices_before = tf.expand_dims(pivot_indices, 1) + indices_before\n",
    "    indices_after = tf.expand_dims(pivot_indices, 1) + indices_after\n",
    "\n",
    "    # Gather the corresponding examples from the data\n",
    "    encoder_inputs = tf.squeeze(tf.gather(tokens, indices_before, axis=1, batch_dims=1))\n",
    "    decoder_inputs = tf.squeeze(tf.gather(tokens, indices_after, axis=1, batch_dims=1))\n",
    "\n",
    "    # Reshape the encoder_inputs and decoder_inputs tensors\n",
    "    encoder_inputs = tf.reshape(encoder_inputs, (batch_size, encoder_context_len))\n",
    "    decoder_inputs = tf.reshape(decoder_inputs, (batch_size, decoder_context_len))\n",
    "\n",
    "    return tf.cast(encoder_inputs, tf.int32), tf.cast(decoder_inputs, tf.int32)\n",
    "\n",
    "\n",
    "def mask_sequence(sequence, vocab_size, mask_token_id, \n",
    "                  pct_to_mask=0.15, pct_to_random=0.1, pct_to_keep=0.1):\n",
    "        \"\"\" Mask a sequence of tokens. \"\"\"\n",
    "\n",
    "        # Calculate the probability of masking each token\n",
    "        masking_prob = tf.random.uniform(shape=tf.shape(sequence), minval=0, maxval=1)\n",
    "        masking_prob = tf.where(sequence==0, 1.0, masking_prob)\n",
    "        # Calculate the mask based on the masking probability\n",
    "        mask = tf.cast(masking_prob < pct_to_mask, tf.int32)\n",
    "        \n",
    "        # Calculate the probability of replacing with a random token\n",
    "        random_prob_mask = tf.cast(masking_prob < (pct_to_mask * pct_to_random), tf.int32)\n",
    "\n",
    "        # Calculate the probability of keeping the original token\n",
    "        keep_prob_mask = tf.cast(masking_prob < (pct_to_mask * pct_to_keep), tf.int32)\n",
    "\n",
    "        # Replace the masked tokens with the mask_token_id\n",
    "        masked_sequence = tf.where(mask == 1, mask_token_id * tf.ones_like(sequence, dtype=tf.int32), sequence)\n",
    "\n",
    "        # Replace random_prob_mask tokens with random tokens\n",
    "        random_tokens = tf.random.uniform(\n",
    "            shape=tf.shape(sequence), minval=1, maxval=vocab_size, dtype=tf.int32\n",
    "        )\n",
    "\n",
    "        # Replace the masked tokens with the mask_token_id\n",
    "        masked_sequence = tf.where(random_prob_mask == 1, random_tokens, masked_sequence)\n",
    "\n",
    "        # Keep the original tokens for keep_prob_mask\n",
    "        masked_sequence = tf.where(keep_prob_mask == 1, sequence, masked_sequence)\n",
    "\n",
    "        # Generate sample weights for masked tokens\n",
    "        sample_weights = tf.cast(mask, tf.float32)\n",
    "\n",
    "        return masked_sequence, sequence, sample_weights\n",
    "\n",
    "\n",
    "def shift_and_split_decoder_inputs(x: tf.Tensor) -> Tuple[tf.Tensor, tf.Tensor]:\n",
    "    \"\"\" TBD \"\"\"\n",
    "    window_size = tf.shape(x)[1]-1\n",
    "    \n",
    "    # Get the indices for the first and second vectors\n",
    "    input_indices = tf.range(0, window_size, dtype=tf.int32)\n",
    "    output_indices = tf.range(1, window_size+1, dtype=tf.int32)\n",
    "\n",
    "    # Gather the corresponding columns for the first and second vectors\n",
    "    decoder_inputs = tf.gather(x, input_indices, axis=-1)\n",
    "    decoder_outputs = tf.gather(x, output_indices, axis=-1)\n",
    "\n",
    "    return decoder_inputs, decoder_outputs\n",
    "    \n",
    "def transform_sequence(sequence, vocab_size, mask_token_id, encoder_context_len, decoder_context_len, **kwargs):\n",
    "    \n",
    "    # Pivot split\n",
    "    encoder_inputs, decoder_inputs = split_on_pivot(sequence, encoder_context_len, decoder_context_len)\n",
    "    # Encoder transform\n",
    "    encoder_inputs, encoder_labels, encoder_sample_wts = mask_sequence(\n",
    "        encoder_inputs, vocab_size, tf.constant(MASK_TOKEN_INT, dtype=tf.int32)\n",
    "    )\n",
    "\n",
    "    # Decoder transform\n",
    "    decoder_inputs, decoder_labels = shift_and_split_decoder_inputs(decoder_inputs)\n",
    "    decoder_sample_wts = tf.ones_like(decoder_labels, dtype=tf.float32)\n",
    "    \n",
    "    _inputs = (encoder_inputs, decoder_inputs)\n",
    "    _labels = (encoder_labels, decoder_labels)\n",
    "    _sample_wts = (encoder_sample_wts, decoder_sample_wts)\n",
    "    return _inputs, _labels, _sample_wts\n",
    "    \n",
    "train_ds = load_tfrecord_dataset(TRAIN_TFRECORDS)\n",
    "train_ds = train_ds.shuffle(train_config[\"shuffle_buffer\"])\\\n",
    "                   .batch(train_config[\"batch_size\"], drop_remainder=True)\\\n",
    "                   .map(lambda x: transform_sequence(x, **train_config), num_parallel_calls=tf.data.AUTOTUNE)\\\n",
    "                   .prefetch(tf.data.AUTOTUNE)\n",
    "\n",
    "val_ds = load_tfrecord_dataset(VAL_TFRECORDS)\n",
    "val_ds = val_ds.shuffle(train_config[\"shuffle_buffer\"])\\\n",
    "               .batch(train_config[\"batch_size\"], drop_remainder=True)\\\n",
    "               .map(lambda x: transform_sequence(x, **train_config), num_parallel_calls=tf.data.AUTOTUNE)\\\n",
    "               .prefetch(tf.data.AUTOTUNE)\n",
    "\n",
    "train_ds, val_ds"
   ]
  },
  {
   "cell_type": "code",
   "execution_count": 21,
   "id": "0824746c-243e-46ec-8d8b-b0044d699ef1",
   "metadata": {},
   "outputs": [
    {
     "name": "stdout",
     "output_type": "stream",
     "text": [
      "\n",
      "\n",
      "FULL CONTEXT"
     ]
    },
    {
     "data": {
      "text/html": [
       "<style>span.token {font-family: Courier New; font-size: 1.1em; font-weight: 300; padding: 0px; margin-right: 0px; border-color: rgba(0, 0, 0, 0.05); border-style: ridge; border-radius: 0px;}</style><div style='background-color: #FBFBFB; line-height: 175%; padding: 25px; border-radius: 8px; margin-left: 10px; margin-right: 10px; margin-top: 20px; margin-bottom: 20px; overflow-x: auto; white-space: nowrap;'><span class='token' style='background-color: rgba(179, 226, 205, 0.4);'><br></span><span class='token' style='background-color: rgba(179, 226, 205, 0.4);'>&nbsp;&nbsp;</span><span class='token' style='background-color: rgba(253, 205, 172, 0.4);'>CAMPEIUS</span><span class='token' style='background-color: rgba(203, 213, 232, 0.4);'>.</span><span class='token' style='background-color: rgba(244, 202, 228, 0.4);'>&nbsp;Madam</span><span class='token' style='background-color: rgba(230, 245, 201, 0.4);'>,</span><span class='token' style='background-color: rgba(255, 242, 174, 0.4);'>&nbsp;you</span><span class='token' style='background-color: rgba(241, 226, 204, 0.4);'>'</span><span class='token' style='background-color: rgba(204, 204, 204, 0.4);'>ll</span><span class='token' style='background-color: rgba(179, 226, 205, 0.4);'>&nbsp;find</span><span class='token' style='background-color: rgba(253, 205, 172, 0.4);'>&nbsp;it</span><span class='token' style='background-color: rgba(203, 213, 232, 0.4);'>&nbsp;so</span><span class='token' style='background-color: rgba(244, 202, 228, 0.4);'>.</span><span class='token' style='background-color: rgba(230, 245, 201, 0.4);'>&nbsp;You</span><span class='token' style='background-color: rgba(255, 242, 174, 0.4);'>&nbsp;wrong</span><span class='token' style='background-color: rgba(241, 226, 204, 0.4);'>&nbsp;your</span><span class='token' style='background-color: rgba(204, 204, 204, 0.4);'>&nbsp;virtues</span><span class='token' style='background-color: rgba(179, 226, 205, 0.4);'><br></span><span class='token' style='background-color: rgba(179, 226, 205, 0.4);'>&nbsp;&nbsp;&nbsp;&nbsp;</span><span class='token' style='background-color: rgba(253, 205, 172, 0.4);'>With</span><span class='token' style='background-color: rgba(203, 213, 232, 0.4);'>&nbsp;these</span><span class='token' style='background-color: rgba(244, 202, 228, 0.4);'>&nbsp;weak</span><span class='token' style='background-color: rgba(230, 245, 201, 0.4);'>&nbsp;women</span><span class='token' style='background-color: rgba(255, 242, 174, 0.4);'>'</span><span class='token' style='background-color: rgba(241, 226, 204, 0.4);'>s</span><span class='token' style='background-color: rgba(204, 204, 204, 0.4);'>&nbsp;fears</span><span class='token' style='background-color: rgba(179, 226, 205, 0.4);'>.</span><span class='token' style='background-color: rgba(253, 205, 172, 0.4);'>&nbsp;A</span><span class='token' style='background-color: rgba(203, 213, 232, 0.4);'>&nbsp;noble</span><span class='token' style='background-color: rgba(244, 202, 228, 0.4);'>&nbsp;spirit</span><span class='token' style='background-color: rgba(230, 245, 201, 0.4);'>,</span><span class='token' style='background-color: rgba(255, 242, 174, 0.4);'><br></span><span class='token' style='background-color: rgba(179, 226, 205, 0.4);'>&nbsp;&nbsp;&nbsp;&nbsp;</span><span class='token' style='background-color: rgba(253, 205, 172, 0.4);'>As</span><span class='token' style='background-color: rgba(203, 213, 232, 0.4);'>&nbsp;yours</span><span class='token' style='background-color: rgba(244, 202, 228, 0.4);'>&nbsp;was</span><span class='token' style='background-color: rgba(230, 245, 201, 0.4);'>&nbsp;put</span><span class='token' style='background-color: rgba(255, 242, 174, 0.4);'>&nbsp;into</span><span class='token' style='background-color: rgba(241, 226, 204, 0.4);'>&nbsp;you</span><span class='token' style='background-color: rgba(204, 204, 204, 0.4);'>,</span><span class='token' style='background-color: rgba(179, 226, 205, 0.4);'>&nbsp;ever</span><span class='token' style='background-color: rgba(253, 205, 172, 0.4);'>&nbsp;cast</span><span class='token' style='background-color: rgba(203, 213, 232, 0.4);'>s</span><span class='token' style='background-color: rgba(244, 202, 228, 0.4);'>&nbsp;&nbsp;</span><span class='token' style='background-color: rgba(230, 245, 201, 0.4);'><br></span><span class='token' style='background-color: rgba(179, 226, 205, 0.4);'>&nbsp;&nbsp;&nbsp;&nbsp;</span><span class='token' style='background-color: rgba(253, 205, 172, 0.4);'>Such</span><span class='token' style='background-color: rgba(203, 213, 232, 0.4);'>&nbsp;doubts</span><span class='token' style='background-color: rgba(244, 202, 228, 0.4);'>&nbsp;as</span><span class='token' style='background-color: rgba(230, 245, 201, 0.4);'>&nbsp;false</span><span class='token' style='background-color: rgba(255, 242, 174, 0.4);'>&nbsp;coin</span><span class='token' style='background-color: rgba(241, 226, 204, 0.4);'>&nbsp;from</span><span class='token' style='background-color: rgba(204, 204, 204, 0.4);'>&nbsp;it</span><span class='token' style='background-color: rgba(179, 226, 205, 0.4);'>.</span><span class='token' style='background-color: rgba(253, 205, 172, 0.4);'>&nbsp;The</span><span class='token' style='background-color: rgba(203, 213, 232, 0.4);'>&nbsp;King</span><span class='token' style='background-color: rgba(244, 202, 228, 0.4);'>&nbsp;loves</span><span class='token' style='background-color: rgba(230, 245, 201, 0.4);'>&nbsp;you</span><span class='token' style='background-color: rgba(255, 242, 174, 0.4);'>;</span><span class='token' style='background-color: rgba(241, 226, 204, 0.4);'><br></span><span class='token' style='background-color: rgba(179, 226, 205, 0.4);'>&nbsp;&nbsp;&nbsp;&nbsp;</span><span class='token' style='background-color: rgba(253, 205, 172, 0.4);'>Be</span><span class='token' style='background-color: rgba(203, 213, 232, 0.4);'>w</span><span class='token' style='background-color: rgba(244, 202, 228, 0.4);'>are</span><span class='token' style='background-color: rgba(230, 245, 201, 0.4);'>&nbsp;you</span><span class='token' style='background-color: rgba(255, 242, 174, 0.4);'>&nbsp;lose</span><span class='token' style='background-color: rgba(241, 226, 204, 0.4);'>&nbsp;it</span><span class='token' style='background-color: rgba(204, 204, 204, 0.4);'>&nbsp;not</span><span class='token' style='background-color: rgba(179, 226, 205, 0.4);'>.</span><span class='token' style='background-color: rgba(253, 205, 172, 0.4);'>&nbsp;For</span><span class='token' style='background-color: rgba(203, 213, 232, 0.4);'>&nbsp;us</span><span class='token' style='background-color: rgba(244, 202, 228, 0.4);'>,</span><span class='token' style='background-color: rgba(230, 245, 201, 0.4);'>&nbsp;if</span><span class='token' style='background-color: rgba(255, 242, 174, 0.4);'>&nbsp;you</span><span class='token' style='background-color: rgba(241, 226, 204, 0.4);'>&nbsp;please</span><span class='token' style='background-color: rgba(204, 204, 204, 0.4);'><br></span><span class='token' style='background-color: rgba(179, 226, 205, 0.4);'>&nbsp;&nbsp;&nbsp;&nbsp;</span><span class='token' style='background-color: rgba(253, 205, 172, 0.4);'>To</span><span class='token' style='background-color: rgba(203, 213, 232, 0.4);'>&nbsp;trust</span><span class='token' style='background-color: rgba(244, 202, 228, 0.4);'>&nbsp;us</span><span class='token' style='background-color: rgba(230, 245, 201, 0.4);'>&nbsp;in</span><span class='token' style='background-color: rgba(255, 242, 174, 0.4);'>&nbsp;your</span><span class='token' style='background-color: rgba(241, 226, 204, 0.4);'>&nbsp;business</span><span class='token' style='background-color: rgba(204, 204, 204, 0.4);'>,</span><span class='token' style='background-color: rgba(179, 226, 205, 0.4);'>&nbsp;we</span><span class='token' style='background-color: rgba(253, 205, 172, 0.4);'>&nbsp;are</span><span class='token' style='background-color: rgba(203, 213, 232, 0.4);'>&nbsp;ready</span><span class='token' style='background-color: rgba(244, 202, 228, 0.4);'><br></span><span class='token' style='background-color: rgba(179, 226, 205, 0.4);'>&nbsp;&nbsp;&nbsp;&nbsp;</span><span class='token' style='background-color: rgba(253, 205, 172, 0.4);'>To</span><span class='token' style='background-color: rgba(203, 213, 232, 0.4);'>&nbsp;use</span><span class='token' style='background-color: rgba(244, 202, 228, 0.4);'>&nbsp;our</span><span class='token' style='background-color: rgba(230, 245, 201, 0.4);'>&nbsp;utmost</span><span class='token' style='background-color: rgba(255, 242, 174, 0.4);'>&nbsp;studies</span><span class='token' style='background-color: rgba(241, 226, 204, 0.4);'>&nbsp;in</span><span class='token' style='background-color: rgba(204, 204, 204, 0.4);'>&nbsp;your</span><span class='token' style='background-color: rgba(179, 226, 205, 0.4);'>&nbsp;service</span><span class='token' style='background-color: rgba(253, 205, 172, 0.4);'>.</span><span class='token' style='background-color: rgba(203, 213, 232, 0.4);'><br></span><span class='token' style='background-color: rgba(179, 226, 205, 0.4);'>&nbsp;&nbsp;</span><span class='token' style='background-color: rgba(253, 205, 172, 0.4);'>QUEEN</span><span class='token' style='background-color: rgba(203, 213, 232, 0.4);'>&nbsp;KATHARINE</span><span class='token' style='background-color: rgba(244, 202, 228, 0.4);'>.</span><span class='token' style='background-color: rgba(230, 245, 201, 0.4);'>&nbsp;Do</span><span class='token' style='background-color: rgba(255, 242, 174, 0.4);'>&nbsp;what</span><span class='token' style='background-color: rgba(241, 226, 204, 0.4);'>&nbsp;ye</span><span class='token' style='background-color: rgba(204, 204, 204, 0.4);'>&nbsp;will</span><span class='token' style='background-color: rgba(179, 226, 205, 0.4);'>&nbsp;my</span><span class='token' style='background-color: rgba(253, 205, 172, 0.4);'>&nbsp;lords</span><span class='token' style='background-color: rgba(203, 213, 232, 0.4);'>;</span><span class='token' style='background-color: rgba(244, 202, 228, 0.4);'>&nbsp;and</span><span class='token' style='background-color: rgba(230, 245, 201, 0.4);'>&nbsp;pray</span><span class='token' style='background-color: rgba(255, 242, 174, 0.4);'><br></span><span class='token' style='background-color: rgba(179, 226, 205, 0.4);'>&nbsp;&nbsp;&nbsp;&nbsp;&nbsp;&nbsp;</span><span class='token' style='background-color: rgba(253, 205, 172, 0.4);'>for</span><span class='token' style='background-color: rgba(203, 213, 232, 0.4);'>give</span><span class='token' style='background-color: rgba(244, 202, 228, 0.4);'>&nbsp;me</span><span class='token' style='background-color: rgba(230, 245, 201, 0.4);'><br></span><span class='token' style='background-color: rgba(179, 226, 205, 0.4);'>&nbsp;&nbsp;&nbsp;&nbsp;</span><span class='token' style='background-color: rgba(253, 205, 172, 0.4);'>If</span><span class='token' style='background-color: rgba(203, 213, 232, 0.4);'>&nbsp;I</span><span class='token' style='background-color: rgba(244, 202, 228, 0.4);'>&nbsp;have</span><span class='token' style='background-color: rgba(230, 245, 201, 0.4);'>&nbsp;us</span><span class='token' style='background-color: rgba(255, 242, 174, 0.4);'>'</span><span class='token' style='background-color: rgba(241, 226, 204, 0.4);'>d</span><span class='token' style='background-color: rgba(204, 204, 204, 0.4);'>&nbsp;myself</span><span class='token' style='background-color: rgba(179, 226, 205, 0.4);'>&nbsp;unmannerly</span><span class='token' style='background-color: rgba(253, 205, 172, 0.4);'>;</span><span class='token' style='background-color: rgba(203, 213, 232, 0.4);'><br></span><span class='token' style='background-color: rgba(179, 226, 205, 0.4);'>&nbsp;&nbsp;&nbsp;&nbsp;</span><span class='token' style='background-color: rgba(253, 205, 172, 0.4);'>You</span><span class='token' style='background-color: rgba(203, 213, 232, 0.4);'>&nbsp;know</span><span class='token' style='background-color: rgba(244, 202, 228, 0.4);'>&nbsp;I</span><span class='token' style='background-color: rgba(230, 245, 201, 0.4);'>&nbsp;am</span><span class='token' style='background-color: rgba(255, 242, 174, 0.4);'>&nbsp;a</span><span class='token' style='background-color: rgba(241, 226, 204, 0.4);'>&nbsp;woman</span><span class='token' style='background-color: rgba(204, 204, 204, 0.4);'>,</span><span class='token' style='background-color: rgba(179, 226, 205, 0.4);'>&nbsp;lack</span><span class='token' style='background-color: rgba(253, 205, 172, 0.4);'>ing</span><span class='token' style='background-color: rgba(203, 213, 232, 0.4);'>&nbsp;wit</span><span class='token' style='background-color: rgba(244, 202, 228, 0.4);'><br></span><span class='token' style='background-color: rgba(179, 226, 205, 0.4);'>&nbsp;&nbsp;&nbsp;&nbsp;</span><span class='token' style='background-color: rgba(253, 205, 172, 0.4);'>To</span><span class='token' style='background-color: rgba(203, 213, 232, 0.4);'>&nbsp;make</span><span class='token' style='background-color: rgba(244, 202, 228, 0.4);'>&nbsp;a</span><span class='token' style='background-color: rgba(230, 245, 201, 0.4);'>&nbsp;seem</span><span class='token' style='background-color: rgba(255, 242, 174, 0.4);'>ly</span><span class='token' style='background-color: rgba(241, 226, 204, 0.4);'>&nbsp;answer</span><span class='token' style='background-color: rgba(204, 204, 204, 0.4);'>&nbsp;to</span><span class='token' style='background-color: rgba(179, 226, 205, 0.4);'>&nbsp;such</span><span class='token' style='background-color: rgba(253, 205, 172, 0.4);'>&nbsp;persons</span><span class='token' style='background-color: rgba(203, 213, 232, 0.4);'>.</span><span class='token' style='background-color: rgba(244, 202, 228, 0.4);'><br></span><span class='token' style='background-color: rgba(179, 226, 205, 0.4);'>&nbsp;&nbsp;&nbsp;&nbsp;</span><span class='token' style='background-color: rgba(253, 205, 172, 0.4);'>Pray</span><span class='token' style='background-color: rgba(203, 213, 232, 0.4);'>&nbsp;do</span><span class='token' style='background-color: rgba(244, 202, 228, 0.4);'>&nbsp;my</span><span class='token' style='background-color: rgba(230, 245, 201, 0.4);'>&nbsp;service</span><span class='token' style='background-color: rgba(255, 242, 174, 0.4);'>&nbsp;to</span><span class='token' style='background-color: rgba(241, 226, 204, 0.4);'>&nbsp;his</span><span class='token' style='background-color: rgba(204, 204, 204, 0.4);'><br></span></div>"
      ],
      "text/plain": [
       "<IPython.core.display.HTML object>"
      ]
     },
     "metadata": {},
     "output_type": "display_data"
    },
    {
     "name": "stdout",
     "output_type": "stream",
     "text": [
      "\n",
      "ENCODER INPUT (MASKED)"
     ]
    },
    {
     "data": {
      "text/html": [
       "<style>span.token {font-family: Courier New; font-size: 1.1em; font-weight: 300; padding: 0px; margin-right: 0px; border-color: rgba(0, 0, 0, 0.05); border-style: ridge; border-radius: 0px;}</style><div style='background-color: #FBFBFB; line-height: 175%; padding: 25px; border-radius: 8px; margin-left: 10px; margin-right: 10px; margin-top: 20px; margin-bottom: 20px; overflow-x: auto; white-space: nowrap;'><span class='token' style='background-color: rgba(179, 226, 205, 0.4);'><br></span><span class='token' style='background-color: rgba(179, 226, 205, 0.4);'>&nbsp;&nbsp;</span><span class='token' style='background-color: rgba(253, 205, 172, 0.4);'>CAMPEIUS</span><span class='token' style='background-color: rgba(203, 213, 232, 0.4);'>.</span><span class='token' style='background-color: rgba(244, 202, 228, 0.4);'>&nbsp;Madam</span><span class='token' style='background-color: rgba(230, 245, 201, 0.4);'>,</span><span class='token' style='background-color: rgba(255, 242, 174, 0.4);'>[MASK]</span><span class='token' style='background-color: rgba(241, 226, 204, 0.4);'>'</span><span class='token' style='background-color: rgba(204, 204, 204, 0.4);'>ll</span><span class='token' style='background-color: rgba(179, 226, 205, 0.4);'>&nbsp;find</span><span class='token' style='background-color: rgba(253, 205, 172, 0.4);'>&nbsp;it</span><span class='token' style='background-color: rgba(203, 213, 232, 0.4);'>[MASK]</span><span class='token' style='background-color: rgba(244, 202, 228, 0.4);'>.</span><span class='token' style='background-color: rgba(230, 245, 201, 0.4);'>&nbsp;You</span><span class='token' style='background-color: rgba(255, 242, 174, 0.4);'>&nbsp;wrong</span><span class='token' style='background-color: rgba(241, 226, 204, 0.4);'>&nbsp;your</span><span class='token' style='background-color: rgba(204, 204, 204, 0.4);'>[MASK]</span><span class='token' style='background-color: rgba(179, 226, 205, 0.4);'><br></span><span class='token' style='background-color: rgba(179, 226, 205, 0.4);'>&nbsp;&nbsp;&nbsp;&nbsp;</span><span class='token' style='background-color: rgba(253, 205, 172, 0.4);'>With</span><span class='token' style='background-color: rgba(203, 213, 232, 0.4);'>&nbsp;these</span><span class='token' style='background-color: rgba(244, 202, 228, 0.4);'>&nbsp;weak</span><span class='token' style='background-color: rgba(230, 245, 201, 0.4);'>&nbsp;women</span><span class='token' style='background-color: rgba(255, 242, 174, 0.4);'>'</span><span class='token' style='background-color: rgba(241, 226, 204, 0.4);'>s</span><span class='token' style='background-color: rgba(204, 204, 204, 0.4);'>&nbsp;fears</span><span class='token' style='background-color: rgba(179, 226, 205, 0.4);'>.</span><span class='token' style='background-color: rgba(253, 205, 172, 0.4);'>&nbsp;A</span><span class='token' style='background-color: rgba(203, 213, 232, 0.4);'>&nbsp;noble</span><span class='token' style='background-color: rgba(244, 202, 228, 0.4);'>&nbsp;spirit</span><span class='token' style='background-color: rgba(230, 245, 201, 0.4);'>,</span><span class='token' style='background-color: rgba(255, 242, 174, 0.4);'><br></span><span class='token' style='background-color: rgba(179, 226, 205, 0.4);'>&nbsp;&nbsp;&nbsp;&nbsp;</span><span class='token' style='background-color: rgba(253, 205, 172, 0.4);'>As</span><span class='token' style='background-color: rgba(203, 213, 232, 0.4);'>&nbsp;yours</span><span class='token' style='background-color: rgba(244, 202, 228, 0.4);'>[MASK]</span><span class='token' style='background-color: rgba(230, 245, 201, 0.4);'>&nbsp;put</span><span class='token' style='background-color: rgba(255, 242, 174, 0.4);'>&nbsp;into</span><span class='token' style='background-color: rgba(241, 226, 204, 0.4);'>&nbsp;you</span><span class='token' style='background-color: rgba(204, 204, 204, 0.4);'>,</span><span class='token' style='background-color: rgba(179, 226, 205, 0.4);'>&nbsp;ever</span><span class='token' style='background-color: rgba(253, 205, 172, 0.4);'>&nbsp;cast</span><span class='token' style='background-color: rgba(203, 213, 232, 0.4);'>[MASK]</span><span class='token' style='background-color: rgba(244, 202, 228, 0.4);'>&nbsp;&nbsp;</span><span class='token' style='background-color: rgba(230, 245, 201, 0.4);'><br></span><span class='token' style='background-color: rgba(179, 226, 205, 0.4);'>&nbsp;&nbsp;&nbsp;&nbsp;</span><span class='token' style='background-color: rgba(253, 205, 172, 0.4);'>Such</span><span class='token' style='background-color: rgba(203, 213, 232, 0.4);'>&nbsp;doubts</span><span class='token' style='background-color: rgba(244, 202, 228, 0.4);'>&nbsp;as</span><span class='token' style='background-color: rgba(230, 245, 201, 0.4);'>[MASK]</span><span class='token' style='background-color: rgba(255, 242, 174, 0.4);'>&nbsp;coin</span><span class='token' style='background-color: rgba(241, 226, 204, 0.4);'>&nbsp;from</span><span class='token' style='background-color: rgba(204, 204, 204, 0.4);'>&nbsp;it</span><span class='token' style='background-color: rgba(179, 226, 205, 0.4);'>.</span><span class='token' style='background-color: rgba(253, 205, 172, 0.4);'>&nbsp;The</span><span class='token' style='background-color: rgba(203, 213, 232, 0.4);'>&nbsp;King</span><span class='token' style='background-color: rgba(244, 202, 228, 0.4);'>&nbsp;loves</span><span class='token' style='background-color: rgba(230, 245, 201, 0.4);'>&nbsp;you</span><span class='token' style='background-color: rgba(255, 242, 174, 0.4);'>;</span><span class='token' style='background-color: rgba(241, 226, 204, 0.4);'><br></span><span class='token' style='background-color: rgba(179, 226, 205, 0.4);'>&nbsp;&nbsp;&nbsp;&nbsp;</span><span class='token' style='background-color: rgba(253, 205, 172, 0.4);'>Be</span><span class='token' style='background-color: rgba(203, 213, 232, 0.4);'>w</span><span class='token' style='background-color: rgba(244, 202, 228, 0.4);'>are</span><span class='token' style='background-color: rgba(230, 245, 201, 0.4);'><br></span></div>"
      ],
      "text/plain": [
       "<IPython.core.display.HTML object>"
      ]
     },
     "metadata": {},
     "output_type": "display_data"
    },
    {
     "name": "stdout",
     "output_type": "stream",
     "text": [
      "\n",
      "DECODER INPUT (ORIGINAL SEQ)"
     ]
    },
    {
     "data": {
      "text/html": [
       "<style>span.token {font-family: Courier New; font-size: 1.1em; font-weight: 300; padding: 0px; margin-right: 0px; border-color: rgba(0, 0, 0, 0.05); border-style: ridge; border-radius: 0px;}</style><div style='background-color: #FBFBFB; line-height: 175%; padding: 25px; border-radius: 8px; margin-left: 10px; margin-right: 10px; margin-top: 20px; margin-bottom: 20px; overflow-x: auto; white-space: nowrap;'><span class='token' style='background-color: rgba(179, 226, 205, 0.4);'>&nbsp;you</span><span class='token' style='background-color: rgba(253, 205, 172, 0.4);'>&nbsp;lose</span><span class='token' style='background-color: rgba(203, 213, 232, 0.4);'>&nbsp;it</span><span class='token' style='background-color: rgba(244, 202, 228, 0.4);'>&nbsp;not</span><span class='token' style='background-color: rgba(230, 245, 201, 0.4);'>.</span><span class='token' style='background-color: rgba(255, 242, 174, 0.4);'>&nbsp;For</span><span class='token' style='background-color: rgba(241, 226, 204, 0.4);'>&nbsp;us</span><span class='token' style='background-color: rgba(204, 204, 204, 0.4);'>,</span><span class='token' style='background-color: rgba(179, 226, 205, 0.4);'>&nbsp;if</span><span class='token' style='background-color: rgba(253, 205, 172, 0.4);'>&nbsp;you</span><span class='token' style='background-color: rgba(203, 213, 232, 0.4);'>&nbsp;please</span><span class='token' style='background-color: rgba(244, 202, 228, 0.4);'><br></span><span class='token' style='background-color: rgba(179, 226, 205, 0.4);'>&nbsp;&nbsp;&nbsp;&nbsp;</span><span class='token' style='background-color: rgba(253, 205, 172, 0.4);'>To</span><span class='token' style='background-color: rgba(203, 213, 232, 0.4);'>&nbsp;trust</span><span class='token' style='background-color: rgba(244, 202, 228, 0.4);'>&nbsp;us</span><span class='token' style='background-color: rgba(230, 245, 201, 0.4);'>&nbsp;in</span><span class='token' style='background-color: rgba(255, 242, 174, 0.4);'>&nbsp;your</span><span class='token' style='background-color: rgba(241, 226, 204, 0.4);'>&nbsp;business</span><span class='token' style='background-color: rgba(204, 204, 204, 0.4);'>,</span><span class='token' style='background-color: rgba(179, 226, 205, 0.4);'>&nbsp;we</span><span class='token' style='background-color: rgba(253, 205, 172, 0.4);'>&nbsp;are</span><span class='token' style='background-color: rgba(203, 213, 232, 0.4);'>&nbsp;ready</span><span class='token' style='background-color: rgba(244, 202, 228, 0.4);'><br></span><span class='token' style='background-color: rgba(179, 226, 205, 0.4);'>&nbsp;&nbsp;&nbsp;&nbsp;</span><span class='token' style='background-color: rgba(253, 205, 172, 0.4);'>To</span><span class='token' style='background-color: rgba(203, 213, 232, 0.4);'>&nbsp;use</span><span class='token' style='background-color: rgba(244, 202, 228, 0.4);'>&nbsp;our</span><span class='token' style='background-color: rgba(230, 245, 201, 0.4);'>&nbsp;utmost</span><span class='token' style='background-color: rgba(255, 242, 174, 0.4);'>&nbsp;studies</span><span class='token' style='background-color: rgba(241, 226, 204, 0.4);'>&nbsp;in</span><span class='token' style='background-color: rgba(204, 204, 204, 0.4);'>&nbsp;your</span><span class='token' style='background-color: rgba(179, 226, 205, 0.4);'>&nbsp;service</span><span class='token' style='background-color: rgba(253, 205, 172, 0.4);'>.</span><span class='token' style='background-color: rgba(203, 213, 232, 0.4);'><br></span><span class='token' style='background-color: rgba(179, 226, 205, 0.4);'>&nbsp;&nbsp;</span><span class='token' style='background-color: rgba(253, 205, 172, 0.4);'>QUEEN</span><span class='token' style='background-color: rgba(203, 213, 232, 0.4);'>&nbsp;KATHARINE</span><span class='token' style='background-color: rgba(244, 202, 228, 0.4);'>.</span><span class='token' style='background-color: rgba(230, 245, 201, 0.4);'>&nbsp;Do</span><span class='token' style='background-color: rgba(255, 242, 174, 0.4);'>&nbsp;what</span><span class='token' style='background-color: rgba(241, 226, 204, 0.4);'>&nbsp;ye</span><span class='token' style='background-color: rgba(204, 204, 204, 0.4);'>&nbsp;will</span><span class='token' style='background-color: rgba(179, 226, 205, 0.4);'>&nbsp;my</span><span class='token' style='background-color: rgba(253, 205, 172, 0.4);'>&nbsp;lords</span><span class='token' style='background-color: rgba(203, 213, 232, 0.4);'>;</span><span class='token' style='background-color: rgba(244, 202, 228, 0.4);'>&nbsp;and</span><span class='token' style='background-color: rgba(230, 245, 201, 0.4);'>&nbsp;pray</span><span class='token' style='background-color: rgba(255, 242, 174, 0.4);'><br></span><span class='token' style='background-color: rgba(179, 226, 205, 0.4);'>&nbsp;&nbsp;&nbsp;&nbsp;&nbsp;&nbsp;</span><span class='token' style='background-color: rgba(253, 205, 172, 0.4);'>for</span><span class='token' style='background-color: rgba(203, 213, 232, 0.4);'>give</span><span class='token' style='background-color: rgba(244, 202, 228, 0.4);'>&nbsp;me</span><span class='token' style='background-color: rgba(230, 245, 201, 0.4);'><br></span><span class='token' style='background-color: rgba(179, 226, 205, 0.4);'>&nbsp;&nbsp;&nbsp;&nbsp;</span><span class='token' style='background-color: rgba(253, 205, 172, 0.4);'>If</span><span class='token' style='background-color: rgba(203, 213, 232, 0.4);'>&nbsp;I</span><span class='token' style='background-color: rgba(244, 202, 228, 0.4);'>&nbsp;have</span><span class='token' style='background-color: rgba(230, 245, 201, 0.4);'>&nbsp;us</span><span class='token' style='background-color: rgba(255, 242, 174, 0.4);'>'</span><span class='token' style='background-color: rgba(241, 226, 204, 0.4);'>d</span><span class='token' style='background-color: rgba(204, 204, 204, 0.4);'>&nbsp;myself</span><span class='token' style='background-color: rgba(179, 226, 205, 0.4);'>&nbsp;unmannerly</span><span class='token' style='background-color: rgba(253, 205, 172, 0.4);'>;</span><span class='token' style='background-color: rgba(203, 213, 232, 0.4);'><br></span><span class='token' style='background-color: rgba(179, 226, 205, 0.4);'>&nbsp;&nbsp;&nbsp;&nbsp;</span><span class='token' style='background-color: rgba(253, 205, 172, 0.4);'>You</span><span class='token' style='background-color: rgba(203, 213, 232, 0.4);'>&nbsp;know</span><span class='token' style='background-color: rgba(244, 202, 228, 0.4);'>&nbsp;I</span><span class='token' style='background-color: rgba(230, 245, 201, 0.4);'>&nbsp;am</span><span class='token' style='background-color: rgba(255, 242, 174, 0.4);'>&nbsp;a</span><span class='token' style='background-color: rgba(241, 226, 204, 0.4);'>&nbsp;woman</span><span class='token' style='background-color: rgba(204, 204, 204, 0.4);'>,</span><span class='token' style='background-color: rgba(179, 226, 205, 0.4);'>&nbsp;lack</span><span class='token' style='background-color: rgba(253, 205, 172, 0.4);'>ing</span><span class='token' style='background-color: rgba(203, 213, 232, 0.4);'>&nbsp;wit</span><span class='token' style='background-color: rgba(244, 202, 228, 0.4);'><br></span><span class='token' style='background-color: rgba(179, 226, 205, 0.4);'>&nbsp;&nbsp;&nbsp;&nbsp;</span><span class='token' style='background-color: rgba(253, 205, 172, 0.4);'>To</span><span class='token' style='background-color: rgba(203, 213, 232, 0.4);'>&nbsp;make</span><span class='token' style='background-color: rgba(244, 202, 228, 0.4);'>&nbsp;a</span><span class='token' style='background-color: rgba(230, 245, 201, 0.4);'>&nbsp;seem</span><span class='token' style='background-color: rgba(255, 242, 174, 0.4);'>ly</span><span class='token' style='background-color: rgba(241, 226, 204, 0.4);'>&nbsp;answer</span><span class='token' style='background-color: rgba(204, 204, 204, 0.4);'>&nbsp;to</span><span class='token' style='background-color: rgba(179, 226, 205, 0.4);'>&nbsp;such</span><span class='token' style='background-color: rgba(253, 205, 172, 0.4);'>&nbsp;persons</span><span class='token' style='background-color: rgba(203, 213, 232, 0.4);'>.</span><span class='token' style='background-color: rgba(244, 202, 228, 0.4);'><br></span><span class='token' style='background-color: rgba(179, 226, 205, 0.4);'>&nbsp;&nbsp;&nbsp;&nbsp;</span><span class='token' style='background-color: rgba(253, 205, 172, 0.4);'>Pray</span><span class='token' style='background-color: rgba(203, 213, 232, 0.4);'>&nbsp;do</span><span class='token' style='background-color: rgba(244, 202, 228, 0.4);'>&nbsp;my</span><span class='token' style='background-color: rgba(230, 245, 201, 0.4);'>&nbsp;service</span><span class='token' style='background-color: rgba(255, 242, 174, 0.4);'>&nbsp;to</span><span class='token' style='background-color: rgba(241, 226, 204, 0.4);'>&nbsp;his</span><span class='token' style='background-color: rgba(204, 204, 204, 0.4);'><br></span></div>"
      ],
      "text/plain": [
       "<IPython.core.display.HTML object>"
      ]
     },
     "metadata": {},
     "output_type": "display_data"
    },
    {
     "name": "stdout",
     "output_type": "stream",
     "text": [
      "\n",
      "ENCODER OUTPUT (ORIGINAL SEQ)"
     ]
    },
    {
     "data": {
      "text/html": [
       "<style>span.token {font-family: Courier New; font-size: 1.1em; font-weight: 300; padding: 0px; margin-right: 0px; border-color: rgba(0, 0, 0, 0.05); border-style: ridge; border-radius: 0px;}</style><div style='background-color: #FBFBFB; line-height: 175%; padding: 25px; border-radius: 8px; margin-left: 10px; margin-right: 10px; margin-top: 20px; margin-bottom: 20px; overflow-x: auto; white-space: nowrap;'><span class='token' style='background-color: rgba(179, 226, 205, 0.4);'><br></span><span class='token' style='background-color: rgba(179, 226, 205, 0.4);'>&nbsp;&nbsp;</span><span class='token' style='background-color: rgba(253, 205, 172, 0.4);'>CAMPEIUS</span><span class='token' style='background-color: rgba(203, 213, 232, 0.4);'>.</span><span class='token' style='background-color: rgba(244, 202, 228, 0.4);'>&nbsp;Madam</span><span class='token' style='background-color: rgba(230, 245, 201, 0.4);'>,</span><span class='token' style='background-color: rgba(255, 242, 174, 0.4);'>&nbsp;you</span><span class='token' style='background-color: rgba(241, 226, 204, 0.4);'>'</span><span class='token' style='background-color: rgba(204, 204, 204, 0.4);'>ll</span><span class='token' style='background-color: rgba(179, 226, 205, 0.4);'>&nbsp;find</span><span class='token' style='background-color: rgba(253, 205, 172, 0.4);'>&nbsp;it</span><span class='token' style='background-color: rgba(203, 213, 232, 0.4);'>&nbsp;so</span><span class='token' style='background-color: rgba(244, 202, 228, 0.4);'>.</span><span class='token' style='background-color: rgba(230, 245, 201, 0.4);'>&nbsp;You</span><span class='token' style='background-color: rgba(255, 242, 174, 0.4);'>&nbsp;wrong</span><span class='token' style='background-color: rgba(241, 226, 204, 0.4);'>&nbsp;your</span><span class='token' style='background-color: rgba(204, 204, 204, 0.4);'>&nbsp;virtues</span><span class='token' style='background-color: rgba(179, 226, 205, 0.4);'><br></span><span class='token' style='background-color: rgba(179, 226, 205, 0.4);'>&nbsp;&nbsp;&nbsp;&nbsp;</span><span class='token' style='background-color: rgba(253, 205, 172, 0.4);'>With</span><span class='token' style='background-color: rgba(203, 213, 232, 0.4);'>&nbsp;these</span><span class='token' style='background-color: rgba(244, 202, 228, 0.4);'>&nbsp;weak</span><span class='token' style='background-color: rgba(230, 245, 201, 0.4);'>&nbsp;women</span><span class='token' style='background-color: rgba(255, 242, 174, 0.4);'>'</span><span class='token' style='background-color: rgba(241, 226, 204, 0.4);'>s</span><span class='token' style='background-color: rgba(204, 204, 204, 0.4);'>&nbsp;fears</span><span class='token' style='background-color: rgba(179, 226, 205, 0.4);'>.</span><span class='token' style='background-color: rgba(253, 205, 172, 0.4);'>&nbsp;A</span><span class='token' style='background-color: rgba(203, 213, 232, 0.4);'>&nbsp;noble</span><span class='token' style='background-color: rgba(244, 202, 228, 0.4);'>&nbsp;spirit</span><span class='token' style='background-color: rgba(230, 245, 201, 0.4);'>,</span><span class='token' style='background-color: rgba(255, 242, 174, 0.4);'><br></span><span class='token' style='background-color: rgba(179, 226, 205, 0.4);'>&nbsp;&nbsp;&nbsp;&nbsp;</span><span class='token' style='background-color: rgba(253, 205, 172, 0.4);'>As</span><span class='token' style='background-color: rgba(203, 213, 232, 0.4);'>&nbsp;yours</span><span class='token' style='background-color: rgba(244, 202, 228, 0.4);'>&nbsp;was</span><span class='token' style='background-color: rgba(230, 245, 201, 0.4);'>&nbsp;put</span><span class='token' style='background-color: rgba(255, 242, 174, 0.4);'>&nbsp;into</span><span class='token' style='background-color: rgba(241, 226, 204, 0.4);'>&nbsp;you</span><span class='token' style='background-color: rgba(204, 204, 204, 0.4);'>,</span><span class='token' style='background-color: rgba(179, 226, 205, 0.4);'>&nbsp;ever</span><span class='token' style='background-color: rgba(253, 205, 172, 0.4);'>&nbsp;cast</span><span class='token' style='background-color: rgba(203, 213, 232, 0.4);'>s</span><span class='token' style='background-color: rgba(244, 202, 228, 0.4);'>&nbsp;&nbsp;</span><span class='token' style='background-color: rgba(230, 245, 201, 0.4);'><br></span><span class='token' style='background-color: rgba(179, 226, 205, 0.4);'>&nbsp;&nbsp;&nbsp;&nbsp;</span><span class='token' style='background-color: rgba(253, 205, 172, 0.4);'>Such</span><span class='token' style='background-color: rgba(203, 213, 232, 0.4);'>&nbsp;doubts</span><span class='token' style='background-color: rgba(244, 202, 228, 0.4);'>&nbsp;as</span><span class='token' style='background-color: rgba(230, 245, 201, 0.4);'>&nbsp;false</span><span class='token' style='background-color: rgba(255, 242, 174, 0.4);'>&nbsp;coin</span><span class='token' style='background-color: rgba(241, 226, 204, 0.4);'>&nbsp;from</span><span class='token' style='background-color: rgba(204, 204, 204, 0.4);'>&nbsp;it</span><span class='token' style='background-color: rgba(179, 226, 205, 0.4);'>.</span><span class='token' style='background-color: rgba(253, 205, 172, 0.4);'>&nbsp;The</span><span class='token' style='background-color: rgba(203, 213, 232, 0.4);'>&nbsp;King</span><span class='token' style='background-color: rgba(244, 202, 228, 0.4);'>&nbsp;loves</span><span class='token' style='background-color: rgba(230, 245, 201, 0.4);'>&nbsp;you</span><span class='token' style='background-color: rgba(255, 242, 174, 0.4);'>;</span><span class='token' style='background-color: rgba(241, 226, 204, 0.4);'><br></span><span class='token' style='background-color: rgba(179, 226, 205, 0.4);'>&nbsp;&nbsp;&nbsp;&nbsp;</span><span class='token' style='background-color: rgba(253, 205, 172, 0.4);'>Be</span><span class='token' style='background-color: rgba(203, 213, 232, 0.4);'>w</span><span class='token' style='background-color: rgba(244, 202, 228, 0.4);'>are</span><span class='token' style='background-color: rgba(230, 245, 201, 0.4);'><br></span></div>"
      ],
      "text/plain": [
       "<IPython.core.display.HTML object>"
      ]
     },
     "metadata": {},
     "output_type": "display_data"
    },
    {
     "name": "stdout",
     "output_type": "stream",
     "text": [
      "\n",
      "DECODER OUTPUT (SHIFTED SEQ)"
     ]
    },
    {
     "data": {
      "text/html": [
       "<style>span.token {font-family: Courier New; font-size: 1.1em; font-weight: 300; padding: 0px; margin-right: 0px; border-color: rgba(0, 0, 0, 0.05); border-style: ridge; border-radius: 0px;}</style><div style='background-color: #FBFBFB; line-height: 175%; padding: 25px; border-radius: 8px; margin-left: 10px; margin-right: 10px; margin-top: 20px; margin-bottom: 20px; overflow-x: auto; white-space: nowrap;'><span class='token' style='background-color: rgba(179, 226, 205, 0.4);'>&nbsp;lose</span><span class='token' style='background-color: rgba(253, 205, 172, 0.4);'>&nbsp;it</span><span class='token' style='background-color: rgba(203, 213, 232, 0.4);'>&nbsp;not</span><span class='token' style='background-color: rgba(244, 202, 228, 0.4);'>.</span><span class='token' style='background-color: rgba(230, 245, 201, 0.4);'>&nbsp;For</span><span class='token' style='background-color: rgba(255, 242, 174, 0.4);'>&nbsp;us</span><span class='token' style='background-color: rgba(241, 226, 204, 0.4);'>,</span><span class='token' style='background-color: rgba(204, 204, 204, 0.4);'>&nbsp;if</span><span class='token' style='background-color: rgba(179, 226, 205, 0.4);'>&nbsp;you</span><span class='token' style='background-color: rgba(253, 205, 172, 0.4);'>&nbsp;please</span><span class='token' style='background-color: rgba(203, 213, 232, 0.4);'><br></span><span class='token' style='background-color: rgba(179, 226, 205, 0.4);'>&nbsp;&nbsp;&nbsp;&nbsp;</span><span class='token' style='background-color: rgba(253, 205, 172, 0.4);'>To</span><span class='token' style='background-color: rgba(203, 213, 232, 0.4);'>&nbsp;trust</span><span class='token' style='background-color: rgba(244, 202, 228, 0.4);'>&nbsp;us</span><span class='token' style='background-color: rgba(230, 245, 201, 0.4);'>&nbsp;in</span><span class='token' style='background-color: rgba(255, 242, 174, 0.4);'>&nbsp;your</span><span class='token' style='background-color: rgba(241, 226, 204, 0.4);'>&nbsp;business</span><span class='token' style='background-color: rgba(204, 204, 204, 0.4);'>,</span><span class='token' style='background-color: rgba(179, 226, 205, 0.4);'>&nbsp;we</span><span class='token' style='background-color: rgba(253, 205, 172, 0.4);'>&nbsp;are</span><span class='token' style='background-color: rgba(203, 213, 232, 0.4);'>&nbsp;ready</span><span class='token' style='background-color: rgba(244, 202, 228, 0.4);'><br></span><span class='token' style='background-color: rgba(179, 226, 205, 0.4);'>&nbsp;&nbsp;&nbsp;&nbsp;</span><span class='token' style='background-color: rgba(253, 205, 172, 0.4);'>To</span><span class='token' style='background-color: rgba(203, 213, 232, 0.4);'>&nbsp;use</span><span class='token' style='background-color: rgba(244, 202, 228, 0.4);'>&nbsp;our</span><span class='token' style='background-color: rgba(230, 245, 201, 0.4);'>&nbsp;utmost</span><span class='token' style='background-color: rgba(255, 242, 174, 0.4);'>&nbsp;studies</span><span class='token' style='background-color: rgba(241, 226, 204, 0.4);'>&nbsp;in</span><span class='token' style='background-color: rgba(204, 204, 204, 0.4);'>&nbsp;your</span><span class='token' style='background-color: rgba(179, 226, 205, 0.4);'>&nbsp;service</span><span class='token' style='background-color: rgba(253, 205, 172, 0.4);'>.</span><span class='token' style='background-color: rgba(203, 213, 232, 0.4);'><br></span><span class='token' style='background-color: rgba(179, 226, 205, 0.4);'>&nbsp;&nbsp;</span><span class='token' style='background-color: rgba(253, 205, 172, 0.4);'>QUEEN</span><span class='token' style='background-color: rgba(203, 213, 232, 0.4);'>&nbsp;KATHARINE</span><span class='token' style='background-color: rgba(244, 202, 228, 0.4);'>.</span><span class='token' style='background-color: rgba(230, 245, 201, 0.4);'>&nbsp;Do</span><span class='token' style='background-color: rgba(255, 242, 174, 0.4);'>&nbsp;what</span><span class='token' style='background-color: rgba(241, 226, 204, 0.4);'>&nbsp;ye</span><span class='token' style='background-color: rgba(204, 204, 204, 0.4);'>&nbsp;will</span><span class='token' style='background-color: rgba(179, 226, 205, 0.4);'>&nbsp;my</span><span class='token' style='background-color: rgba(253, 205, 172, 0.4);'>&nbsp;lords</span><span class='token' style='background-color: rgba(203, 213, 232, 0.4);'>;</span><span class='token' style='background-color: rgba(244, 202, 228, 0.4);'>&nbsp;and</span><span class='token' style='background-color: rgba(230, 245, 201, 0.4);'>&nbsp;pray</span><span class='token' style='background-color: rgba(255, 242, 174, 0.4);'><br></span><span class='token' style='background-color: rgba(179, 226, 205, 0.4);'>&nbsp;&nbsp;&nbsp;&nbsp;&nbsp;&nbsp;</span><span class='token' style='background-color: rgba(253, 205, 172, 0.4);'>for</span><span class='token' style='background-color: rgba(203, 213, 232, 0.4);'>give</span><span class='token' style='background-color: rgba(244, 202, 228, 0.4);'>&nbsp;me</span><span class='token' style='background-color: rgba(230, 245, 201, 0.4);'><br></span><span class='token' style='background-color: rgba(179, 226, 205, 0.4);'>&nbsp;&nbsp;&nbsp;&nbsp;</span><span class='token' style='background-color: rgba(253, 205, 172, 0.4);'>If</span><span class='token' style='background-color: rgba(203, 213, 232, 0.4);'>&nbsp;I</span><span class='token' style='background-color: rgba(244, 202, 228, 0.4);'>&nbsp;have</span><span class='token' style='background-color: rgba(230, 245, 201, 0.4);'>&nbsp;us</span><span class='token' style='background-color: rgba(255, 242, 174, 0.4);'>'</span><span class='token' style='background-color: rgba(241, 226, 204, 0.4);'>d</span><span class='token' style='background-color: rgba(204, 204, 204, 0.4);'>&nbsp;myself</span><span class='token' style='background-color: rgba(179, 226, 205, 0.4);'>&nbsp;unmannerly</span><span class='token' style='background-color: rgba(253, 205, 172, 0.4);'>;</span><span class='token' style='background-color: rgba(203, 213, 232, 0.4);'><br></span><span class='token' style='background-color: rgba(179, 226, 205, 0.4);'>&nbsp;&nbsp;&nbsp;&nbsp;</span><span class='token' style='background-color: rgba(253, 205, 172, 0.4);'>You</span><span class='token' style='background-color: rgba(203, 213, 232, 0.4);'>&nbsp;know</span><span class='token' style='background-color: rgba(244, 202, 228, 0.4);'>&nbsp;I</span><span class='token' style='background-color: rgba(230, 245, 201, 0.4);'>&nbsp;am</span><span class='token' style='background-color: rgba(255, 242, 174, 0.4);'>&nbsp;a</span><span class='token' style='background-color: rgba(241, 226, 204, 0.4);'>&nbsp;woman</span><span class='token' style='background-color: rgba(204, 204, 204, 0.4);'>,</span><span class='token' style='background-color: rgba(179, 226, 205, 0.4);'>&nbsp;lack</span><span class='token' style='background-color: rgba(253, 205, 172, 0.4);'>ing</span><span class='token' style='background-color: rgba(203, 213, 232, 0.4);'>&nbsp;wit</span><span class='token' style='background-color: rgba(244, 202, 228, 0.4);'><br></span><span class='token' style='background-color: rgba(179, 226, 205, 0.4);'>&nbsp;&nbsp;&nbsp;&nbsp;</span><span class='token' style='background-color: rgba(253, 205, 172, 0.4);'>To</span><span class='token' style='background-color: rgba(203, 213, 232, 0.4);'>&nbsp;make</span><span class='token' style='background-color: rgba(244, 202, 228, 0.4);'>&nbsp;a</span><span class='token' style='background-color: rgba(230, 245, 201, 0.4);'>&nbsp;seem</span><span class='token' style='background-color: rgba(255, 242, 174, 0.4);'>ly</span><span class='token' style='background-color: rgba(241, 226, 204, 0.4);'>&nbsp;answer</span><span class='token' style='background-color: rgba(204, 204, 204, 0.4);'>&nbsp;to</span><span class='token' style='background-color: rgba(179, 226, 205, 0.4);'>&nbsp;such</span><span class='token' style='background-color: rgba(253, 205, 172, 0.4);'>&nbsp;persons</span><span class='token' style='background-color: rgba(203, 213, 232, 0.4);'>.</span><span class='token' style='background-color: rgba(244, 202, 228, 0.4);'><br></span><span class='token' style='background-color: rgba(179, 226, 205, 0.4);'>&nbsp;&nbsp;&nbsp;&nbsp;</span><span class='token' style='background-color: rgba(253, 205, 172, 0.4);'>Pray</span><span class='token' style='background-color: rgba(203, 213, 232, 0.4);'>&nbsp;do</span><span class='token' style='background-color: rgba(244, 202, 228, 0.4);'>&nbsp;my</span><span class='token' style='background-color: rgba(230, 245, 201, 0.4);'>&nbsp;service</span><span class='token' style='background-color: rgba(255, 242, 174, 0.4);'>&nbsp;to</span><span class='token' style='background-color: rgba(241, 226, 204, 0.4);'>&nbsp;his</span><span class='token' style='background-color: rgba(204, 204, 204, 0.4);'>&nbsp;Majesty</span><span class='token' style='background-color: rgba(179, 226, 205, 0.4);'><br></span></div>"
      ],
      "text/plain": [
       "<IPython.core.display.HTML object>"
      ]
     },
     "metadata": {},
     "output_type": "display_data"
    },
    {
     "name": "stdout",
     "output_type": "stream",
     "text": [
      "\n",
      "\n",
      "ENCODER SAMPLE WEIGHTS\n",
      "\n"
     ]
    },
    {
     "data": {
      "text/plain": [
       "array([0., 0., 0., 0., 0., 0., 1., 0., 0., 0., 0., 1., 0., 0., 0., 0., 1.,\n",
       "       0., 0., 0., 0., 0., 0., 0., 0., 0., 0., 0., 0., 0., 0., 0., 0., 0.,\n",
       "       0., 1., 0., 0., 0., 0., 0., 0., 1., 0., 0., 0., 0., 0., 0., 1., 0.,\n",
       "       0., 0., 0., 0., 0., 0., 0., 0., 0., 0., 0., 0., 0.], dtype=float32)"
      ]
     },
     "metadata": {},
     "output_type": "display_data"
    },
    {
     "name": "stdout",
     "output_type": "stream",
     "text": [
      "\n",
      "\n",
      "DECODER SAMPLE WEIGHTS\n",
      "\n"
     ]
    },
    {
     "data": {
      "text/plain": [
       "array([1., 1., 1., 1., 1., 1., 1., 1., 1., 1., 1., 1., 1., 1., 1., 1., 1.,\n",
       "       1., 1., 1., 1., 1., 1., 1., 1., 1., 1., 1., 1., 1., 1., 1., 1., 1.,\n",
       "       1., 1., 1., 1., 1., 1., 1., 1., 1., 1., 1., 1., 1., 1., 1., 1., 1.,\n",
       "       1., 1., 1., 1., 1., 1., 1., 1., 1., 1., 1., 1., 1., 1., 1., 1., 1.,\n",
       "       1., 1., 1., 1., 1., 1., 1., 1., 1., 1., 1., 1., 1., 1., 1., 1., 1.,\n",
       "       1., 1., 1., 1., 1., 1., 1., 1., 1., 1., 1.], dtype=float32)"
      ]
     },
     "metadata": {},
     "output_type": "display_data"
    },
    {
     "name": "stdin",
     "output_type": "stream",
     "text": [
      "\n",
      "\n",
      "x to break -->  x\n"
     ]
    }
   ],
   "source": [
    "from IPython.display import clear_output\n",
    "from spearecode.models.iso_backbones import DecoderOnlyBackbone\n",
    "from spearecode.models.iso_backbones import EncoderOnlyBackbone\n",
    "enc_train_ds = train_ds.map(lambda x,y,z: (x[0], y[0], z[0]))\n",
    "dec_train_ds = train_ds.map(lambda x,y,z: (x[1], y[1], z[1]))\n",
    "                            \n",
    "enc_val_ds = val_ds.map(lambda x,y,z: (x[0], y[0], z[0]))\n",
    "dec_val_ds = val_ds.map(lambda x,y,z: (x[1], y[1], z[1]))\n",
    "\n",
    "\n",
    "def check_dataset(ds, viz_tool, n_ex=4):\n",
    "    (x1,x2), (y1,y2), (s1, s2) = next(iter(ds.unbatch().batch(n_ex)))\n",
    "    for enc_in, dec_in, enc_out, dec_out, enc_sw, dec_sw in zip(x1,x2, y1,y2, s1, s2):\n",
    "        \n",
    "        print(\"\\n\\nFULL CONTEXT\", end=\"\")\n",
    "        orignal_seq = enc_out.numpy().tolist()+dec_in.numpy().tolist()\n",
    "        _ = viz_tool(orignal_seq, display_inline=True)\n",
    "        \n",
    "        print(\"\\nENCODER INPUT (MASKED)\", end=\"\")\n",
    "        _ = viz_tool(enc_in.numpy().tolist(), display_inline=True)\n",
    "        \n",
    "        print(\"\\nDECODER INPUT (ORIGINAL SEQ)\", end=\"\")\n",
    "        _ = viz_tool(dec_in.numpy().tolist(), display_inline=True)\n",
    "        \n",
    "        print(\"\\nENCODER OUTPUT (ORIGINAL SEQ)\", end=\"\")\n",
    "        _ = viz_tool(enc_out.numpy().tolist(), display_inline=True)\n",
    "        \n",
    "        print(\"\\nDECODER OUTPUT (SHIFTED SEQ)\", end=\"\")\n",
    "        _ = viz_tool(dec_out.numpy().tolist(), display_inline=True)\n",
    "        \n",
    "        print(\"\\n\\nENCODER SAMPLE WEIGHTS\\n\")\n",
    "        display(enc_sw.numpy())\n",
    "        \n",
    "        print(\"\\n\\nDECODER SAMPLE WEIGHTS\\n\")\n",
    "        display(dec_sw.numpy())\n",
    "        \n",
    "        input_text = input(\"\\n\\nx to break --> \")\n",
    "        if input_text: break\n",
    "        clear_output()\n",
    "        \n",
    "check_dataset(val_ds, viz_tool)"
   ]
  },
  {
   "cell_type": "markdown",
   "id": "3b4b7f79-3ca9-4f26-a24d-79cf1c4868b4",
   "metadata": {},
   "source": [
    "<div class=\"alert alert-block alert-warning\" style=\"font-size: 12px;\">\n",
    "<br><center><b style=\"font-size: 18px;\">TensorFloat-32 Warning:</b></center><br>This warning is related to the use of <b>TensorFloat-32</b> (<b>TF32</b>) in TensorFlow on NVIDIA Ampere architecture GPUs. <b>TensorFloat-32</b> is a new math mode in NVIDIA's A100 GPU for accelerating mixed-precision training in deep learning models. <b>TF32</b> combines the speed of lower-precision FP16 (half-precision) with the dynamic range of FP32 (single-precision).\n",
    "<br><br>\n",
    "The warning message you see is informing you that TensorFlow is using <b>TensorFloat-32</b> for matrix multiplication operations on the GPU. This is expected behavior and does not indicate a problem with your code or model. The warning message is logged only once to let you know that <b>TensorFloat-32</b> is being used for matrix multiplications.\n",
    "<br><br>\n",
    "<b>In most cases, using TensorFloat-32 can lead to significant speed improvements in training deep learning models without negatively impacting the model's accuracy or convergence.</b><br><br>\n",
    "\n",
    "</div>"
   ]
  },
  {
   "cell_type": "code",
   "execution_count": 22,
   "id": "8e31cad0-a7a4-4fc3-b9d6-e4349a6aaca7",
   "metadata": {},
   "outputs": [
    {
     "name": "stdout",
     "output_type": "stream",
     "text": [
      "Model: \"cllm_1\"\n",
      "_________________________________________________________________\n",
      " Layer (type)                Output Shape              Param #   \n",
      "=================================================================\n",
      " transformer_encoder_1 (Tran  multiple                 14487552  \n",
      " sformerEncoder)                                                 \n",
      "                                                                 \n",
      " transformer_decoder_2 (Tran  multiple                 58294272  \n",
      " sformerDecoder)                                                 \n",
      "                                                                 \n",
      "=================================================================\n",
      "Total params: 72,781,824\n",
      "Trainable params: 72,781,824\n",
      "Non-trainable params: 0\n",
      "_________________________________________________________________\n",
      "1/1 [==============================] - 1s 1s/step\n"
     ]
    },
    {
     "data": {
      "text/plain": [
       "((128, 64, 16000), (128, 96, 16000))"
      ]
     },
     "execution_count": 22,
     "metadata": {},
     "output_type": "execute_result"
    }
   ],
   "source": [
    "from spearecode.models.cllm_backbone import CLLM\n",
    "\n",
    "# --- Model Steps ---\n",
    "# \n",
    "# 1. Define Configurations\n",
    "# 2. Load Model Architecture\n",
    "# 3. Define Optimizer and Learning Rate Details\n",
    "# 4. Define Callbacks\n",
    "#       --> TBD\n",
    "#       --> TBD\n",
    "#       --> TBD\n",
    "# 5. Define Loss Functions\n",
    "#       --> MLM Loss\n",
    "#       --> AR Loss\n",
    "# 6. Define Metrics\n",
    "#       --> TBD\n",
    "#       --> TBD\n",
    "\n",
    "enc_vocab_size, dec_vocab_size       = sp.vocab_size(), sp.vocab_size()\n",
    "enc_context_len, dec_context_len     = train_config[\"encoder_context_len\"], train_config[\"decoder_context_len\"]\n",
    "enc_embed_dim, dec_embed_dim         = 256, 384\n",
    "enc_hidden_layers, dec_hidden_layers = 4, 6\n",
    "enc_attn_heads, dec_attn_heads       = 4, 6\n",
    "enc_ffn_act, dec_ffn_act             = \"gelu\", \"gelu\"\n",
    "enc_ffn_dropout, dec_ffn_dropout     = 0.15, 0.2\n",
    "enc_attn_dropout, dec_attn_dropout   = 0.15, 0.2\n",
    "enc_use_bias, dec_use_bias           = False, False\n",
    "enc_expansion, dec_expansion         = 4, 4\n",
    "\n",
    "enc_config = dict(\n",
    "    vocab_size=enc_vocab_size,\n",
    "    context_length=enc_context_len,\n",
    "    embedding_size=enc_embed_dim,\n",
    "    n_heads=enc_attn_heads,\n",
    "    n_layers=enc_hidden_layers,\n",
    "    use_bias=enc_use_bias,\n",
    "    ffn_act=enc_ffn_act,\n",
    "    expansion_factor=enc_expansion,\n",
    "    dropout_rate=enc_ffn_dropout,\n",
    ")\n",
    "\n",
    "dec_config = dict(\n",
    "    vocab_size=dec_vocab_size,\n",
    "    context_length=dec_context_len,\n",
    "    embedding_size=dec_embed_dim,\n",
    "    n_heads=dec_attn_heads,\n",
    "    n_layers=dec_hidden_layers,\n",
    "    use_bias=dec_use_bias,\n",
    "    ffn_act=dec_ffn_act,\n",
    "    expansion_factor=dec_expansion,\n",
    "    dropout_rate=dec_ffn_dropout,\n",
    ")\n",
    "\n",
    "cllm = CLLM(encoder_kwargs=enc_config, decoder_kwargs=dec_config, batch_size=train_config[\"batch_size\"])\n",
    "dec_bb = DecoderOnlyBackbone(**dec_config)\n",
    "# enc_bb = EncoderOnlyBackbone(**enc_config)\n",
    "\n",
    "cllm.summary()\n",
    "# test predict\n",
    "pred = cllm.predict(val_ds.take(1))\n",
    "pred[0].shape, pred[1].shape"
   ]
  },
  {
   "cell_type": "code",
   "execution_count": 23,
   "id": "8f4273ac-cfea-4d3d-9b76-a9a25591c841",
   "metadata": {},
   "outputs": [
    {
     "data": {
      "image/png": "[encoded data removed]",
      "text/plain": [
       "<Figure size 1800x1000 with 1 Axes>"
      ]
     },
     "metadata": {},
     "output_type": "display_data"
    }
   ],
   "source": [
    "from spearecode.optimizers import AdamWeightDecay, WarmUpCosineDecay, plot_learning_rate\n",
    "\n",
    "_n_ex_per_tfrec = 100\n",
    "approx_total_steps = N_TOTAL_RECS*_n_ex_per_tfrec\n",
    "approx_val_steps = N_VAL_RECS*_n_ex_per_tfrec\n",
    "approx_train_steps = approx_total_steps-approx_val_steps\n",
    "\n",
    "optimizer_config = dict(\n",
    "    use_basic_adam=True,\n",
    "    use_cdecay_lr=True,\n",
    "    weight_decay_rate=0.1,\n",
    "    clipnorm=True,\n",
    "    gradient_clip_norm=1.0,\n",
    "    beta_1=1.0,\n",
    "    beta_2=0.95,\n",
    "    exclude_from_weight_decay = ['layer_normalization', 'bias'],\n",
    ")\n",
    "\n",
    "lr_config = dict(\n",
    "    init_lr=0.00075,\n",
    "    min_lr=5e-05,\n",
    "    decay_portion=1.0,\n",
    "    warmup_portion=0.1,\n",
    "    hold_portion=0.01,\n",
    "    total_steps=approx_train_steps,\n",
    "    alpha=0.0,\n",
    "    decay_steps=approx_train_steps,\n",
    "    warmup_steps=int(approx_train_steps*0.05),\n",
    "    hold_steps=int(approx_train_steps*0.01),\n",
    ")\n",
    "\n",
    "# Instantiate our learning rate (or lr-schedule)\n",
    "if optimizer_config[\"use_cdecay_lr\"]:\n",
    "    optimizer_config.pop(\"use_cdecay_lr\")\n",
    "    lr=WarmUpCosineDecay(**lr_config)\n",
    "else:\n",
    "    lr=lr_config[\"init_lr\"]\n",
    "\n",
    "# Instantiate our optimizer (AdamW or just vanilla Adam)\n",
    "if not optimizer_config[\"use_basic_adam\"]:\n",
    "    optimizer_config.pop(\"use_basic_adam\")\n",
    "    optimizer = AdamWeightDecay(learning_rate=lr, **optimizer_config)\n",
    "else:\n",
    "    optimizer = tf.keras.optimizers.Adam(learning_rate=lr)\n",
    "    \n",
    "plot_learning_rate(**lr_config)"
   ]
  },
  {
   "cell_type": "code",
   "execution_count": 24,
   "id": "b7c7ac29-d1be-4d3b-bc76-11c47adb870c",
   "metadata": {},
   "outputs": [
    {
     "data": {
      "text/plain": [
       "[<keras.callbacks.ModelCheckpoint at 0x7fdca03642b0>,\n",
       " <keras.callbacks.EarlyStopping at 0x7fdcac070670>,\n",
       " <__main__.LearningRatePrinter at 0x7fdbe976b490>]"
      ]
     },
     "execution_count": 24,
     "metadata": {},
     "output_type": "execute_result"
    }
   ],
   "source": [
    "from spearecode.callbacks import get_callbacks\n",
    "\n",
    "class LearningRatePrinter(tf.keras.callbacks.Callback):\n",
    "    def on_epoch_end(self, epoch, logs=None):\n",
    "        lr = self.model.optimizer.learning_rate(self.model.optimizer.iterations)\n",
    "        print(f\"\\nLearning rate at the end of epoch {epoch}: {lr.numpy()}\")\n",
    "        \n",
    "CKPT_DIR = os.path.join(MODELS_DIR, \"ckpts\")\n",
    "if not os.path.isdir(CKPT_DIR): \n",
    "    os.makedirs(CKPT_DIR, exist_ok=True)\n",
    "\n",
    "cb_config = dict(\n",
    "    ckpt_dir=CKPT_DIR,\n",
    "    save_weights_only=True,\n",
    "    use_early_stopping=True,\n",
    "    es_patience=20,\n",
    "    verbose=1,\n",
    ")\n",
    "\n",
    "cb_list = get_callbacks(cb_config)+[LearningRatePrinter(),]\n",
    "cb_list"
   ]
  },
  {
   "cell_type": "code",
   "execution_count": 25,
   "id": "f9388b85-771f-45f7-a5e2-1ab38ac649b0",
   "metadata": {},
   "outputs": [],
   "source": [
    "loss_fn = tf.keras.losses.SparseCategoricalCrossentropy(from_logits=True)\n",
    "loss_fns = [\n",
    "    tf.keras.losses.SparseCategoricalCrossentropy(from_logits=True), # ENCODER MLM LOSS\n",
    "    tf.keras.losses.SparseCategoricalCrossentropy(from_logits=True), # DECODER AR  LOSS\n",
    "]\n",
    "\n",
    "metrics = [\n",
    "    #TBD\n",
    "]"
   ]
  },
  {
   "cell_type": "code",
   "execution_count": 26,
   "id": "5e384fc0-1613-47f8-834b-49fcc2fd882f",
   "metadata": {
    "tags": []
   },
   "outputs": [
    {
     "name": "stdout",
     "output_type": "stream",
     "text": [
      "Epoch 1/250\n",
      "    192/Unknown - 30s 134ms/step - loss: 5.0555 - output_1_loss: 1.2080 - output_2_loss: 6.9851\n",
      "Epoch 1: val_loss improved from inf to 4.32562, saving model to /home/paperspace/home/spearecode/models/ckpts\n",
      "\n",
      "Learning rate at the end of epoch 0: 0.00011659919255180284\n",
      "192/192 [==============================] - 36s 163ms/step - loss: 5.0555 - output_1_loss: 1.2080 - output_2_loss: 6.9851 - val_loss: 4.3256 - val_output_1_loss: 0.9569 - val_output_2_loss: 6.0150\n",
      "Epoch 2/250\n",
      "192/192 [==============================] - ETA: 0s - loss: 4.1116 - output_1_loss: 0.9485 - output_2_loss: 5.6979\n",
      "Epoch 2: val_loss improved from 4.32562 to 3.93112, saving model to /home/paperspace/home/spearecode/models/ckpts\n",
      "\n",
      "Learning rate at the end of epoch 1: 0.0002331983851036057\n",
      "192/192 [==============================] - 30s 157ms/step - loss: 4.1116 - output_1_loss: 0.9485 - output_2_loss: 5.6979 - val_loss: 3.9311 - val_output_1_loss: 0.9561 - val_output_2_loss: 5.4231\n",
      "Epoch 3/250\n",
      "192/192 [==============================] - ETA: 0s - loss: 11.1208 - output_1_loss: 1.0901 - output_2_loss: 16.1512\n",
      "Epoch 3: val_loss did not improve from 3.93112\n",
      "\n",
      "Learning rate at the end of epoch 2: 0.0003497975703794509\n",
      "192/192 [==============================] - 27s 139ms/step - loss: 11.1208 - output_1_loss: 1.0901 - output_2_loss: 16.1512 - val_loss: 7.2848 - val_output_1_loss: 2.5081 - val_output_2_loss: 9.6803\n",
      "Epoch 4/250\n",
      "192/192 [==============================] - ETA: 0s - loss: 6.8400 - output_1_loss: 1.1448 - output_2_loss: 9.6961\n",
      "Epoch 4: val_loss did not improve from 3.93112\n",
      "\n",
      "Learning rate at the end of epoch 3: 0.0004663967702072114\n",
      "192/192 [==============================] - 27s 138ms/step - loss: 6.8400 - output_1_loss: 1.1448 - output_2_loss: 9.6961 - val_loss: 6.7729 - val_output_1_loss: 0.9754 - val_output_2_loss: 9.6803\n"
     ]
    },
    {
     "ename": "KeyboardInterrupt",
     "evalue": "",
     "output_type": "error",
     "traceback": [
      "\u001b[0;31m---------------------------------------------------------------------------\u001b[0m",
      "\u001b[0;31mKeyboardInterrupt\u001b[0m                         Traceback (most recent call last)",
      "Cell \u001b[0;32mIn [26], line 5\u001b[0m\n\u001b[1;32m      1\u001b[0m \u001b[38;5;66;03m# loss_weights=[0.5, 0.5]\u001b[39;00m\n\u001b[1;32m      2\u001b[0m \u001b[38;5;66;03m# metrics = TBD\u001b[39;00m\n\u001b[1;32m      3\u001b[0m \u001b[38;5;66;03m# validation_data=val_ds, callbacks=cb_list\u001b[39;00m\n\u001b[1;32m      4\u001b[0m cllm\u001b[38;5;241m.\u001b[39mcompile(optimizer, loss\u001b[38;5;241m=\u001b[39mloss_fns, weighted_metrics\u001b[38;5;241m=\u001b[39m[], loss_weights\u001b[38;5;241m=\u001b[39m[\u001b[38;5;241m0.334\u001b[39m, \u001b[38;5;241m0.666\u001b[39m])\n\u001b[0;32m----> 5\u001b[0m history \u001b[38;5;241m=\u001b[39m \u001b[43mcllm\u001b[49m\u001b[38;5;241;43m.\u001b[39;49m\u001b[43mfit\u001b[49m\u001b[43m(\u001b[49m\u001b[43mtrain_ds\u001b[49m\u001b[43m,\u001b[49m\u001b[43m \u001b[49m\u001b[43mvalidation_data\u001b[49m\u001b[38;5;241;43m=\u001b[39;49m\u001b[43mval_ds\u001b[49m\u001b[43m,\u001b[49m\u001b[43m \u001b[49m\u001b[43mepochs\u001b[49m\u001b[38;5;241;43m=\u001b[39;49m\u001b[43mtrain_config\u001b[49m\u001b[43m[\u001b[49m\u001b[38;5;124;43m\"\u001b[39;49m\u001b[38;5;124;43mn_epochs\u001b[39;49m\u001b[38;5;124;43m\"\u001b[39;49m\u001b[43m]\u001b[49m\u001b[43m,\u001b[49m\u001b[43m \u001b[49m\u001b[43mcallbacks\u001b[49m\u001b[38;5;241;43m=\u001b[39;49m\u001b[43mcb_list\u001b[49m\u001b[43m)\u001b[49m\n\u001b[1;32m      6\u001b[0m \u001b[38;5;66;03m# dec_bb.compile(optimizer, loss=loss_fn, weighted_metrics=[])\u001b[39;00m\n\u001b[1;32m      7\u001b[0m \u001b[38;5;66;03m# history = dec_bb.fit(dec_train_ds, validation_data=dec_val_ds, epochs=train_config[\"n_epochs\"], callbacks=cb_list)\u001b[39;00m\n",
      "File \u001b[0;32m~/.local/lib/python3.9/site-packages/keras/utils/traceback_utils.py:64\u001b[0m, in \u001b[0;36mfilter_traceback.<locals>.error_handler\u001b[0;34m(*args, **kwargs)\u001b[0m\n\u001b[1;32m     62\u001b[0m filtered_tb \u001b[38;5;241m=\u001b[39m \u001b[38;5;28;01mNone\u001b[39;00m\n\u001b[1;32m     63\u001b[0m \u001b[38;5;28;01mtry\u001b[39;00m:\n\u001b[0;32m---> 64\u001b[0m   \u001b[38;5;28;01mreturn\u001b[39;00m \u001b[43mfn\u001b[49m\u001b[43m(\u001b[49m\u001b[38;5;241;43m*\u001b[39;49m\u001b[43margs\u001b[49m\u001b[43m,\u001b[49m\u001b[43m \u001b[49m\u001b[38;5;241;43m*\u001b[39;49m\u001b[38;5;241;43m*\u001b[39;49m\u001b[43mkwargs\u001b[49m\u001b[43m)\u001b[49m\n\u001b[1;32m     65\u001b[0m \u001b[38;5;28;01mexcept\u001b[39;00m \u001b[38;5;167;01mException\u001b[39;00m \u001b[38;5;28;01mas\u001b[39;00m e:  \u001b[38;5;66;03m# pylint: disable=broad-except\u001b[39;00m\n\u001b[1;32m     66\u001b[0m   filtered_tb \u001b[38;5;241m=\u001b[39m _process_traceback_frames(e\u001b[38;5;241m.\u001b[39m__traceback__)\n",
      "File \u001b[0;32m~/.local/lib/python3.9/site-packages/keras/engine/training.py:1397\u001b[0m, in \u001b[0;36mModel.fit\u001b[0;34m(self, x, y, batch_size, epochs, verbose, callbacks, validation_split, validation_data, shuffle, class_weight, sample_weight, initial_epoch, steps_per_epoch, validation_steps, validation_batch_size, validation_freq, max_queue_size, workers, use_multiprocessing)\u001b[0m\n\u001b[1;32m   1395\u001b[0m logs \u001b[38;5;241m=\u001b[39m \u001b[38;5;28;01mNone\u001b[39;00m\n\u001b[1;32m   1396\u001b[0m \u001b[38;5;28;01mfor\u001b[39;00m epoch, iterator \u001b[38;5;129;01min\u001b[39;00m data_handler\u001b[38;5;241m.\u001b[39menumerate_epochs():\n\u001b[0;32m-> 1397\u001b[0m   \u001b[38;5;28;43mself\u001b[39;49m\u001b[38;5;241;43m.\u001b[39;49m\u001b[43mreset_metrics\u001b[49m()\n\u001b[1;32m   1398\u001b[0m   callbacks\u001b[38;5;241m.\u001b[39mon_epoch_begin(epoch)\n\u001b[1;32m   1399\u001b[0m   \u001b[38;5;28;01mwith\u001b[39;00m data_handler\u001b[38;5;241m.\u001b[39mcatch_stop_iteration():\n",
      "\u001b[0;31mKeyboardInterrupt\u001b[0m: "
     ]
    }
   ],
   "source": [
    "# loss_weights=[0.5, 0.5]\n",
    "# metrics = TBD\n",
    "# validation_data=val_ds, callbacks=cb_list\n",
    "cllm.compile(optimizer, loss=loss_fns, weighted_metrics=[], loss_weights=[0.334, 0.666])\n",
    "history = cllm.fit(train_ds, validation_data=val_ds, epochs=train_config[\"n_epochs\"], callbacks=cb_list)\n",
    "# dec_bb.compile(optimizer, loss=loss_fn, weighted_metrics=[])\n",
    "# history = dec_bb.fit(dec_train_ds, validation_data=dec_val_ds, epochs=train_config[\"n_epochs\"], callbacks=cb_list)"
   ]
  },
  {
   "cell_type": "code",
   "execution_count": 27,
   "id": "baa3251c-9a42-45a2-9044-00441c086b6d",
   "metadata": {},
   "outputs": [
    {
     "name": "stdout",
     "output_type": "stream",
     "text": [
      "4/4 [==============================] - 1s 17ms/step\n"
     ]
    }
   ],
   "source": [
    "# x,y,s = next(iter(dec_val_ds))\n",
    "# _y = dec_bb.predict(x)\n",
    "\n",
    "x,y,s = next(iter(val_ds))\n",
    "_y = cllm.predict(x)"
   ]
  },
  {
   "cell_type": "code",
   "execution_count": 28,
   "id": "215242ab-d6c2-4465-bda7-56fd760f2e9c",
   "metadata": {},
   "outputs": [
    {
     "name": "stdout",
     "output_type": "stream",
     "text": [
      "ALL\n"
     ]
    },
    {
     "data": {
      "text/html": [
       "<style>span.token {font-family: Courier New; font-size: 1.1em; font-weight: 300; padding: 0px; margin-right: 0px; border-color: rgba(0, 0, 0, 0.05); border-style: ridge; border-radius: 0px;}</style><div style='background-color: #FBFBFB; line-height: 175%; padding: 25px; border-radius: 8px; margin-left: 10px; margin-right: 10px; margin-top: 20px; margin-bottom: 20px; overflow-x: auto; white-space: nowrap;'><span class='token' style='background-color: rgba(179, 226, 205, 0.4);'>.</span><span class='token' style='background-color: rgba(253, 205, 172, 0.4);'>&nbsp;As</span><span class='token' style='background-color: rgba(203, 213, 232, 0.4);'>&nbsp;the</span><span class='token' style='background-color: rgba(244, 202, 228, 0.4);'>&nbsp;Duke</span><span class='token' style='background-color: rgba(230, 245, 201, 0.4);'>&nbsp;said</span><span class='token' style='background-color: rgba(255, 242, 174, 0.4);'>,</span><span class='token' style='background-color: rgba(241, 226, 204, 0.4);'><br></span><span class='token' style='background-color: rgba(179, 226, 205, 0.4);'>&nbsp;&nbsp;&nbsp;&nbsp;</span><span class='token' style='background-color: rgba(253, 205, 172, 0.4);'>The</span><span class='token' style='background-color: rgba(203, 213, 232, 0.4);'>&nbsp;will</span><span class='token' style='background-color: rgba(244, 202, 228, 0.4);'>&nbsp;of</span><span class='token' style='background-color: rgba(230, 245, 201, 0.4);'>&nbsp;heaven</span><span class='token' style='background-color: rgba(255, 242, 174, 0.4);'>&nbsp;be</span><span class='token' style='background-color: rgba(241, 226, 204, 0.4);'>&nbsp;done</span><span class='token' style='background-color: rgba(204, 204, 204, 0.4);'>,</span><span class='token' style='background-color: rgba(179, 226, 205, 0.4);'>&nbsp;and</span><span class='token' style='background-color: rgba(253, 205, 172, 0.4);'>&nbsp;the</span><span class='token' style='background-color: rgba(203, 213, 232, 0.4);'>&nbsp;King</span><span class='token' style='background-color: rgba(244, 202, 228, 0.4);'>'</span><span class='token' style='background-color: rgba(230, 245, 201, 0.4);'>s</span><span class='token' style='background-color: rgba(255, 242, 174, 0.4);'>&nbsp;pleasure</span><span class='token' style='background-color: rgba(241, 226, 204, 0.4);'><br></span><span class='token' style='background-color: rgba(179, 226, 205, 0.4);'>&nbsp;&nbsp;&nbsp;&nbsp;</span><span class='token' style='background-color: rgba(253, 205, 172, 0.4);'>By</span><span class='token' style='background-color: rgba(203, 213, 232, 0.4);'>&nbsp;me</span><span class='token' style='background-color: rgba(244, 202, 228, 0.4);'>&nbsp;obey</span><span class='token' style='background-color: rgba(230, 245, 201, 0.4);'>'</span><span class='token' style='background-color: rgba(255, 242, 174, 0.4);'>d</span><span class='token' style='background-color: rgba(241, 226, 204, 0.4);'>.</span><span class='token' style='background-color: rgba(204, 204, 204, 0.4);'><br></span><span class='token' style='background-color: rgba(179, 226, 205, 0.4);'>&nbsp;&nbsp;</span><span class='token' style='background-color: rgba(253, 205, 172, 0.4);'>BRANDON</span><span class='token' style='background-color: rgba(203, 213, 232, 0.4);'>.</span><span class='token' style='background-color: rgba(244, 202, 228, 0.4);'>&nbsp;Here</span><span class='token' style='background-color: rgba(230, 245, 201, 0.4);'>&nbsp;is</span><span class='token' style='background-color: rgba(255, 242, 174, 0.4);'>&nbsp;warrant</span><span class='token' style='background-color: rgba(241, 226, 204, 0.4);'>&nbsp;from</span><span class='token' style='background-color: rgba(204, 204, 204, 0.4);'><br></span><span class='token' style='background-color: rgba(179, 226, 205, 0.4);'>&nbsp;&nbsp;&nbsp;&nbsp;</span><span class='token' style='background-color: rgba(253, 205, 172, 0.4);'>The</span><span class='token' style='background-color: rgba(203, 213, 232, 0.4);'>&nbsp;King</span><span class='token' style='background-color: rgba(244, 202, 228, 0.4);'>&nbsp;t</span><span class='token' style='background-color: rgba(230, 245, 201, 0.4);'>'</span><span class='token' style='background-color: rgba(255, 242, 174, 0.4);'>&nbsp;attach</span><span class='token' style='background-color: rgba(241, 226, 204, 0.4);'>&nbsp;Lord</span><span class='token' style='background-color: rgba(204, 204, 204, 0.4);'>&nbsp;Mont</span><span class='token' style='background-color: rgba(179, 226, 205, 0.4);'>ac</span><span class='token' style='background-color: rgba(253, 205, 172, 0.4);'>ute</span><span class='token' style='background-color: rgba(203, 213, 232, 0.4);'>&nbsp;and</span><span class='token' style='background-color: rgba(244, 202, 228, 0.4);'>&nbsp;the</span><span class='token' style='background-color: rgba(230, 245, 201, 0.4);'>&nbsp;bodies</span><span class='token' style='background-color: rgba(255, 242, 174, 0.4);'><br></span><span class='token' style='background-color: rgba(179, 226, 205, 0.4);'>&nbsp;&nbsp;&nbsp;&nbsp;</span><span class='token' style='background-color: rgba(253, 205, 172, 0.4);'>Of</span><span class='token' style='background-color: rgba(203, 213, 232, 0.4);'>&nbsp;the</span><span class='token' style='background-color: rgba(244, 202, 228, 0.4);'>&nbsp;Duke</span><span class='token' style='background-color: rgba(230, 245, 201, 0.4);'>'</span><span class='token' style='background-color: rgba(255, 242, 174, 0.4);'>s</span><span class='token' style='background-color: rgba(241, 226, 204, 0.4);'>&nbsp;confessor</span><span class='token' style='background-color: rgba(204, 204, 204, 0.4);'>,</span><span class='token' style='background-color: rgba(179, 226, 205, 0.4);'>&nbsp;John</span><span class='token' style='background-color: rgba(253, 205, 172, 0.4);'>&nbsp;de</span><span class='token' style='background-color: rgba(203, 213, 232, 0.4);'>&nbsp;la</span><span class='token' style='background-color: rgba(244, 202, 228, 0.4);'>&nbsp;Car</span><span class='token' style='background-color: rgba(230, 245, 201, 0.4);'>,</span><span class='token' style='background-color: rgba(255, 242, 174, 0.4);'><br></span><span class='token' style='background-color: rgba(179, 226, 205, 0.4);'>&nbsp;&nbsp;&nbsp;&nbsp;</span><span class='token' style='background-color: rgba(253, 205, 172, 0.4);'>One</span><span class='token' style='background-color: rgba(203, 213, 232, 0.4);'>&nbsp;G</span><span class='token' style='background-color: rgba(244, 202, 228, 0.4);'>il</span><span class='token' style='background-color: rgba(230, 245, 201, 0.4);'>bert</span><span class='token' style='background-color: rgba(255, 242, 174, 0.4);'>&nbsp;Pe</span><span class='token' style='background-color: rgba(241, 226, 204, 0.4);'>ck</span><span class='token' style='background-color: rgba(204, 204, 204, 0.4);'>,</span><span class='token' style='background-color: rgba(179, 226, 205, 0.4);'>&nbsp;his</span><span class='token' style='background-color: rgba(253, 205, 172, 0.4);'>&nbsp;chance</span><span class='token' style='background-color: rgba(203, 213, 232, 0.4);'>ll</span><span class='token' style='background-color: rgba(244, 202, 228, 0.4);'>or</span><span class='token' style='background-color: rgba(230, 245, 201, 0.4);'>-</span><span class='token' style='background-color: rgba(255, 242, 174, 0.4);'><br></span><span class='token' style='background-color: rgba(179, 226, 205, 0.4);'>&nbsp;&nbsp;</span><span class='token' style='background-color: rgba(253, 205, 172, 0.4);'>BUCKINGHAM</span><span class='token' style='background-color: rgba(203, 213, 232, 0.4);'>.</span><span class='token' style='background-color: rgba(244, 202, 228, 0.4);'>&nbsp;So</span><span class='token' style='background-color: rgba(230, 245, 201, 0.4);'>,</span><span class='token' style='background-color: rgba(255, 242, 174, 0.4);'>&nbsp;so</span><span class='token' style='background-color: rgba(241, 226, 204, 0.4);'>!</span><span class='token' style='background-color: rgba(204, 204, 204, 0.4);'><br></span><span class='token' style='background-color: rgba(179, 226, 205, 0.4);'>&nbsp;&nbsp;&nbsp;&nbsp;</span><span class='token' style='background-color: rgba(253, 205, 172, 0.4);'>These</span><span class='token' style='background-color: rgba(203, 213, 232, 0.4);'>&nbsp;are</span><span class='token' style='background-color: rgba(244, 202, 228, 0.4);'>&nbsp;the</span><span class='token' style='background-color: rgba(230, 245, 201, 0.4);'>&nbsp;limbs</span><span class='token' style='background-color: rgba(255, 242, 174, 0.4);'>&nbsp;o</span><span class='token' style='background-color: rgba(241, 226, 204, 0.4);'>'</span><span class='token' style='background-color: rgba(204, 204, 204, 0.4);'>&nbsp;th</span><span class='token' style='background-color: rgba(179, 226, 205, 0.4);'>'</span><span class='token' style='background-color: rgba(253, 205, 172, 0.4);'>&nbsp;plot</span><span class='token' style='background-color: rgba(203, 213, 232, 0.4);'>;</span><span class='token' style='background-color: rgba(244, 202, 228, 0.4);'>&nbsp;no</span><span class='token' style='background-color: rgba(230, 245, 201, 0.4);'>&nbsp;more</span><span class='token' style='background-color: rgba(255, 242, 174, 0.4);'>,</span><span class='token' style='background-color: rgba(241, 226, 204, 0.4);'>&nbsp;I</span><span class='token' style='background-color: rgba(204, 204, 204, 0.4);'>&nbsp;hope</span><span class='token' style='background-color: rgba(179, 226, 205, 0.4);'>.</span><span class='token' style='background-color: rgba(253, 205, 172, 0.4);'><br></span><span class='token' style='background-color: rgba(179, 226, 205, 0.4);'>&nbsp;&nbsp;</span><span class='token' style='background-color: rgba(253, 205, 172, 0.4);'>BRANDON</span><span class='token' style='background-color: rgba(203, 213, 232, 0.4);'>.</span><span class='token' style='background-color: rgba(244, 202, 228, 0.4);'>&nbsp;A</span><span class='token' style='background-color: rgba(230, 245, 201, 0.4);'>&nbsp;mon</span><span class='token' style='background-color: rgba(255, 242, 174, 0.4);'>k</span><span class='token' style='background-color: rgba(241, 226, 204, 0.4);'>&nbsp;o</span><span class='token' style='background-color: rgba(204, 204, 204, 0.4);'>'</span><span class='token' style='background-color: rgba(179, 226, 205, 0.4);'>&nbsp;th</span><span class='token' style='background-color: rgba(253, 205, 172, 0.4);'>'</span><span class='token' style='background-color: rgba(203, 213, 232, 0.4);'>&nbsp;Char</span><span class='token' style='background-color: rgba(244, 202, 228, 0.4);'>t</span><span class='token' style='background-color: rgba(230, 245, 201, 0.4);'>re</span><span class='token' style='background-color: rgba(255, 242, 174, 0.4);'>ux</span><span class='token' style='background-color: rgba(241, 226, 204, 0.4);'>.</span><span class='token' style='background-color: rgba(204, 204, 204, 0.4);'><br></span><span class='token' style='background-color: rgba(179, 226, 205, 0.4);'>&nbsp;&nbsp;</span><span class='token' style='background-color: rgba(253, 205, 172, 0.4);'>BUCKINGHAM</span><span class='token' style='background-color: rgba(203, 213, 232, 0.4);'>.</span><span class='token' style='background-color: rgba(244, 202, 228, 0.4);'>&nbsp;O</span><span class='token' style='background-color: rgba(230, 245, 201, 0.4);'>,</span><span class='token' style='background-color: rgba(255, 242, 174, 0.4);'>&nbsp;Nicholas</span><span class='token' style='background-color: rgba(241, 226, 204, 0.4);'>&nbsp;H</span><span class='token' style='background-color: rgba(204, 204, 204, 0.4);'>op</span><span class='token' style='background-color: rgba(179, 226, 205, 0.4);'>kins</span><span class='token' style='background-color: rgba(253, 205, 172, 0.4);'>?</span><span class='token' style='background-color: rgba(203, 213, 232, 0.4);'>&nbsp;&nbsp;</span><span class='token' style='background-color: rgba(244, 202, 228, 0.4);'><br></span><span class='token' style='background-color: rgba(179, 226, 205, 0.4);'>&nbsp;&nbsp;</span><span class='token' style='background-color: rgba(253, 205, 172, 0.4);'>BRANDON</span><span class='token' style='background-color: rgba(203, 213, 232, 0.4);'>.</span><span class='token' style='background-color: rgba(244, 202, 228, 0.4);'>&nbsp;He</span><span class='token' style='background-color: rgba(230, 245, 201, 0.4);'>.</span><span class='token' style='background-color: rgba(255, 242, 174, 0.4);'><br></span><span class='token' style='background-color: rgba(179, 226, 205, 0.4);'>&nbsp;&nbsp;</span><span class='token' style='background-color: rgba(253, 205, 172, 0.4);'>BUCKINGHAM</span><span class='token' style='background-color: rgba(203, 213, 232, 0.4);'>.</span><span class='token' style='background-color: rgba(244, 202, 228, 0.4);'>&nbsp;My</span><span class='token' style='background-color: rgba(230, 245, 201, 0.4);'>&nbsp;survey</span><span class='token' style='background-color: rgba(255, 242, 174, 0.4);'>or</span><span class='token' style='background-color: rgba(241, 226, 204, 0.4);'>&nbsp;is</span><span class='token' style='background-color: rgba(204, 204, 204, 0.4);'>&nbsp;false</span><span class='token' style='background-color: rgba(179, 226, 205, 0.4);'>.</span><span class='token' style='background-color: rgba(253, 205, 172, 0.4);'>&nbsp;The</span><span class='token' style='background-color: rgba(203, 213, 232, 0.4);'>&nbsp;o</span><span class='token' style='background-color: rgba(244, 202, 228, 0.4);'>'</span><span class='token' style='background-color: rgba(230, 245, 201, 0.4);'>er</span><span class='token' style='background-color: rgba(255, 242, 174, 0.4);'>-</span><span class='token' style='background-color: rgba(241, 226, 204, 0.4);'>great</span><span class='token' style='background-color: rgba(204, 204, 204, 0.4);'>&nbsp;Cardinal</span><span class='token' style='background-color: rgba(179, 226, 205, 0.4);'><br></span><span class='token' style='background-color: rgba(179, 226, 205, 0.4);'>&nbsp;&nbsp;&nbsp;&nbsp;</span><span class='token' style='background-color: rgba(253, 205, 172, 0.4);'>Hath</span><span class='token' style='background-color: rgba(203, 213, 232, 0.4);'>&nbsp;show</span><span class='token' style='background-color: rgba(244, 202, 228, 0.4);'><br></span></div>"
      ],
      "text/plain": [
       "<IPython.core.display.HTML object>"
      ]
     },
     "metadata": {},
     "output_type": "display_data"
    },
    {
     "name": "stdout",
     "output_type": "stream",
     "text": [
      "ENCODER\n"
     ]
    },
    {
     "data": {
      "text/html": [
       "<style>span.token {font-family: Courier New; font-size: 1.1em; font-weight: 300; padding: 0px; margin-right: 0px; border-color: rgba(0, 0, 0, 0.05); border-style: ridge; border-radius: 0px;}</style><div style='background-color: #FBFBFB; line-height: 175%; padding: 25px; border-radius: 8px; margin-left: 10px; margin-right: 10px; margin-top: 20px; margin-bottom: 20px; overflow-x: auto; white-space: nowrap;'><span class='token' style='background-color: rgba(179, 226, 205, 0.4);'>.</span><span class='token' style='background-color: rgba(253, 205, 172, 0.4);'>&nbsp;As</span><span class='token' style='background-color: rgba(203, 213, 232, 0.4);'>&nbsp;the</span><span class='token' style='background-color: rgba(244, 202, 228, 0.4);'>&nbsp;Duke</span><span class='token' style='background-color: rgba(230, 245, 201, 0.4);'>&nbsp;said</span><span class='token' style='background-color: rgba(255, 242, 174, 0.4);'>,</span><span class='token' style='background-color: rgba(241, 226, 204, 0.4);'><br></span><span class='token' style='background-color: rgba(179, 226, 205, 0.4);'>&nbsp;&nbsp;&nbsp;&nbsp;</span><span class='token' style='background-color: rgba(253, 205, 172, 0.4);'>The</span><span class='token' style='background-color: rgba(203, 213, 232, 0.4);'>&nbsp;will</span><span class='token' style='background-color: rgba(244, 202, 228, 0.4);'>&nbsp;of</span><span class='token' style='background-color: rgba(230, 245, 201, 0.4);'>&nbsp;heaven</span><span class='token' style='background-color: rgba(255, 242, 174, 0.4);'>&nbsp;be</span><span class='token' style='background-color: rgba(241, 226, 204, 0.4);'>&nbsp;done</span><span class='token' style='background-color: rgba(204, 204, 204, 0.4);'>,</span><span class='token' style='background-color: rgba(179, 226, 205, 0.4);'>&nbsp;and</span><span class='token' style='background-color: rgba(253, 205, 172, 0.4);'>&nbsp;the</span><span class='token' style='background-color: rgba(203, 213, 232, 0.4);'>&nbsp;King</span><span class='token' style='background-color: rgba(244, 202, 228, 0.4);'>'</span><span class='token' style='background-color: rgba(230, 245, 201, 0.4);'>s</span><span class='token' style='background-color: rgba(255, 242, 174, 0.4);'>&nbsp;pleasure</span><span class='token' style='background-color: rgba(241, 226, 204, 0.4);'><br></span><span class='token' style='background-color: rgba(179, 226, 205, 0.4);'>&nbsp;&nbsp;&nbsp;&nbsp;</span><span class='token' style='background-color: rgba(253, 205, 172, 0.4);'>By</span><span class='token' style='background-color: rgba(203, 213, 232, 0.4);'>&nbsp;me</span><span class='token' style='background-color: rgba(244, 202, 228, 0.4);'>&nbsp;obey</span><span class='token' style='background-color: rgba(230, 245, 201, 0.4);'>'</span><span class='token' style='background-color: rgba(255, 242, 174, 0.4);'>d</span><span class='token' style='background-color: rgba(241, 226, 204, 0.4);'>.</span><span class='token' style='background-color: rgba(204, 204, 204, 0.4);'><br></span><span class='token' style='background-color: rgba(179, 226, 205, 0.4);'>&nbsp;&nbsp;</span><span class='token' style='background-color: rgba(253, 205, 172, 0.4);'>BRANDON</span><span class='token' style='background-color: rgba(203, 213, 232, 0.4);'>.</span><span class='token' style='background-color: rgba(244, 202, 228, 0.4);'>&nbsp;Here</span><span class='token' style='background-color: rgba(230, 245, 201, 0.4);'>&nbsp;is</span><span class='token' style='background-color: rgba(255, 242, 174, 0.4);'>&nbsp;warrant</span><span class='token' style='background-color: rgba(241, 226, 204, 0.4);'>&nbsp;from</span><span class='token' style='background-color: rgba(204, 204, 204, 0.4);'><br></span><span class='token' style='background-color: rgba(179, 226, 205, 0.4);'>&nbsp;&nbsp;&nbsp;&nbsp;</span><span class='token' style='background-color: rgba(253, 205, 172, 0.4);'>The</span><span class='token' style='background-color: rgba(203, 213, 232, 0.4);'>&nbsp;King</span><span class='token' style='background-color: rgba(244, 202, 228, 0.4);'>&nbsp;t</span><span class='token' style='background-color: rgba(230, 245, 201, 0.4);'>'</span><span class='token' style='background-color: rgba(255, 242, 174, 0.4);'>&nbsp;attach</span><span class='token' style='background-color: rgba(241, 226, 204, 0.4);'>&nbsp;Lord</span><span class='token' style='background-color: rgba(204, 204, 204, 0.4);'>&nbsp;Mont</span><span class='token' style='background-color: rgba(179, 226, 205, 0.4);'>ac</span><span class='token' style='background-color: rgba(253, 205, 172, 0.4);'>ute</span><span class='token' style='background-color: rgba(203, 213, 232, 0.4);'>&nbsp;and</span><span class='token' style='background-color: rgba(244, 202, 228, 0.4);'>&nbsp;the</span><span class='token' style='background-color: rgba(230, 245, 201, 0.4);'>&nbsp;bodies</span><span class='token' style='background-color: rgba(255, 242, 174, 0.4);'><br></span><span class='token' style='background-color: rgba(179, 226, 205, 0.4);'>&nbsp;&nbsp;&nbsp;&nbsp;</span><span class='token' style='background-color: rgba(253, 205, 172, 0.4);'>Of</span><span class='token' style='background-color: rgba(203, 213, 232, 0.4);'>&nbsp;the</span><span class='token' style='background-color: rgba(244, 202, 228, 0.4);'>&nbsp;Duke</span><span class='token' style='background-color: rgba(230, 245, 201, 0.4);'>'</span><span class='token' style='background-color: rgba(255, 242, 174, 0.4);'>s</span><span class='token' style='background-color: rgba(241, 226, 204, 0.4);'>&nbsp;confessor</span><span class='token' style='background-color: rgba(204, 204, 204, 0.4);'>,</span><span class='token' style='background-color: rgba(179, 226, 205, 0.4);'>&nbsp;John</span><span class='token' style='background-color: rgba(253, 205, 172, 0.4);'>&nbsp;de</span><span class='token' style='background-color: rgba(203, 213, 232, 0.4);'>&nbsp;la</span><span class='token' style='background-color: rgba(244, 202, 228, 0.4);'>&nbsp;Car</span><span class='token' style='background-color: rgba(230, 245, 201, 0.4);'><br></span></div>"
      ],
      "text/plain": [
       "<IPython.core.display.HTML object>"
      ]
     },
     "metadata": {},
     "output_type": "display_data"
    },
    {
     "name": "stdout",
     "output_type": "stream",
     "text": [
      "DECODER\n"
     ]
    },
    {
     "data": {
      "text/html": [
       "<style>span.token {font-family: Courier New; font-size: 1.1em; font-weight: 300; padding: 0px; margin-right: 0px; border-color: rgba(0, 0, 0, 0.05); border-style: ridge; border-radius: 0px;}</style><div style='background-color: #FBFBFB; line-height: 175%; padding: 25px; border-radius: 8px; margin-left: 10px; margin-right: 10px; margin-top: 20px; margin-bottom: 20px; overflow-x: auto; white-space: nowrap;'><span class='token' style='background-color: rgba(179, 226, 205, 0.4);'>,</span><span class='token' style='background-color: rgba(253, 205, 172, 0.4);'><br></span><span class='token' style='background-color: rgba(179, 226, 205, 0.4);'>&nbsp;&nbsp;&nbsp;&nbsp;</span><span class='token' style='background-color: rgba(253, 205, 172, 0.4);'>One</span><span class='token' style='background-color: rgba(203, 213, 232, 0.4);'>&nbsp;G</span><span class='token' style='background-color: rgba(244, 202, 228, 0.4);'>il</span><span class='token' style='background-color: rgba(230, 245, 201, 0.4);'>bert</span><span class='token' style='background-color: rgba(255, 242, 174, 0.4);'>&nbsp;Pe</span><span class='token' style='background-color: rgba(241, 226, 204, 0.4);'>ck</span><span class='token' style='background-color: rgba(204, 204, 204, 0.4);'>,</span><span class='token' style='background-color: rgba(179, 226, 205, 0.4);'>&nbsp;his</span><span class='token' style='background-color: rgba(253, 205, 172, 0.4);'>&nbsp;chance</span><span class='token' style='background-color: rgba(203, 213, 232, 0.4);'>ll</span><span class='token' style='background-color: rgba(244, 202, 228, 0.4);'>or</span><span class='token' style='background-color: rgba(230, 245, 201, 0.4);'>-</span><span class='token' style='background-color: rgba(255, 242, 174, 0.4);'><br></span><span class='token' style='background-color: rgba(179, 226, 205, 0.4);'>&nbsp;&nbsp;</span><span class='token' style='background-color: rgba(253, 205, 172, 0.4);'>BUCKINGHAM</span><span class='token' style='background-color: rgba(203, 213, 232, 0.4);'>.</span><span class='token' style='background-color: rgba(244, 202, 228, 0.4);'>&nbsp;So</span><span class='token' style='background-color: rgba(230, 245, 201, 0.4);'>,</span><span class='token' style='background-color: rgba(255, 242, 174, 0.4);'>&nbsp;so</span><span class='token' style='background-color: rgba(241, 226, 204, 0.4);'>!</span><span class='token' style='background-color: rgba(204, 204, 204, 0.4);'><br></span><span class='token' style='background-color: rgba(179, 226, 205, 0.4);'>&nbsp;&nbsp;&nbsp;&nbsp;</span><span class='token' style='background-color: rgba(253, 205, 172, 0.4);'>These</span><span class='token' style='background-color: rgba(203, 213, 232, 0.4);'>&nbsp;are</span><span class='token' style='background-color: rgba(244, 202, 228, 0.4);'>&nbsp;the</span><span class='token' style='background-color: rgba(230, 245, 201, 0.4);'>&nbsp;limbs</span><span class='token' style='background-color: rgba(255, 242, 174, 0.4);'>&nbsp;o</span><span class='token' style='background-color: rgba(241, 226, 204, 0.4);'>'</span><span class='token' style='background-color: rgba(204, 204, 204, 0.4);'>&nbsp;th</span><span class='token' style='background-color: rgba(179, 226, 205, 0.4);'>'</span><span class='token' style='background-color: rgba(253, 205, 172, 0.4);'>&nbsp;plot</span><span class='token' style='background-color: rgba(203, 213, 232, 0.4);'>;</span><span class='token' style='background-color: rgba(244, 202, 228, 0.4);'>&nbsp;no</span><span class='token' style='background-color: rgba(230, 245, 201, 0.4);'>&nbsp;more</span><span class='token' style='background-color: rgba(255, 242, 174, 0.4);'>,</span><span class='token' style='background-color: rgba(241, 226, 204, 0.4);'>&nbsp;I</span><span class='token' style='background-color: rgba(204, 204, 204, 0.4);'>&nbsp;hope</span><span class='token' style='background-color: rgba(179, 226, 205, 0.4);'>.</span><span class='token' style='background-color: rgba(253, 205, 172, 0.4);'><br></span><span class='token' style='background-color: rgba(179, 226, 205, 0.4);'>&nbsp;&nbsp;</span><span class='token' style='background-color: rgba(253, 205, 172, 0.4);'>BRANDON</span><span class='token' style='background-color: rgba(203, 213, 232, 0.4);'>.</span><span class='token' style='background-color: rgba(244, 202, 228, 0.4);'>&nbsp;A</span><span class='token' style='background-color: rgba(230, 245, 201, 0.4);'>&nbsp;mon</span><span class='token' style='background-color: rgba(255, 242, 174, 0.4);'>k</span><span class='token' style='background-color: rgba(241, 226, 204, 0.4);'>&nbsp;o</span><span class='token' style='background-color: rgba(204, 204, 204, 0.4);'>'</span><span class='token' style='background-color: rgba(179, 226, 205, 0.4);'>&nbsp;th</span><span class='token' style='background-color: rgba(253, 205, 172, 0.4);'>'</span><span class='token' style='background-color: rgba(203, 213, 232, 0.4);'>&nbsp;Char</span><span class='token' style='background-color: rgba(244, 202, 228, 0.4);'>t</span><span class='token' style='background-color: rgba(230, 245, 201, 0.4);'>re</span><span class='token' style='background-color: rgba(255, 242, 174, 0.4);'>ux</span><span class='token' style='background-color: rgba(241, 226, 204, 0.4);'>.</span><span class='token' style='background-color: rgba(204, 204, 204, 0.4);'><br></span><span class='token' style='background-color: rgba(179, 226, 205, 0.4);'>&nbsp;&nbsp;</span><span class='token' style='background-color: rgba(253, 205, 172, 0.4);'>BUCKINGHAM</span><span class='token' style='background-color: rgba(203, 213, 232, 0.4);'>.</span><span class='token' style='background-color: rgba(244, 202, 228, 0.4);'>&nbsp;O</span><span class='token' style='background-color: rgba(230, 245, 201, 0.4);'>,</span><span class='token' style='background-color: rgba(255, 242, 174, 0.4);'>&nbsp;Nicholas</span><span class='token' style='background-color: rgba(241, 226, 204, 0.4);'>&nbsp;H</span><span class='token' style='background-color: rgba(204, 204, 204, 0.4);'>op</span><span class='token' style='background-color: rgba(179, 226, 205, 0.4);'>kins</span><span class='token' style='background-color: rgba(253, 205, 172, 0.4);'>?</span><span class='token' style='background-color: rgba(203, 213, 232, 0.4);'>&nbsp;&nbsp;</span><span class='token' style='background-color: rgba(244, 202, 228, 0.4);'><br></span><span class='token' style='background-color: rgba(179, 226, 205, 0.4);'>&nbsp;&nbsp;</span><span class='token' style='background-color: rgba(253, 205, 172, 0.4);'>BRANDON</span><span class='token' style='background-color: rgba(203, 213, 232, 0.4);'>.</span><span class='token' style='background-color: rgba(244, 202, 228, 0.4);'>&nbsp;He</span><span class='token' style='background-color: rgba(230, 245, 201, 0.4);'>.</span><span class='token' style='background-color: rgba(255, 242, 174, 0.4);'><br></span><span class='token' style='background-color: rgba(179, 226, 205, 0.4);'>&nbsp;&nbsp;</span><span class='token' style='background-color: rgba(253, 205, 172, 0.4);'>BUCKINGHAM</span><span class='token' style='background-color: rgba(203, 213, 232, 0.4);'>.</span><span class='token' style='background-color: rgba(244, 202, 228, 0.4);'>&nbsp;My</span><span class='token' style='background-color: rgba(230, 245, 201, 0.4);'>&nbsp;survey</span><span class='token' style='background-color: rgba(255, 242, 174, 0.4);'>or</span><span class='token' style='background-color: rgba(241, 226, 204, 0.4);'>&nbsp;is</span><span class='token' style='background-color: rgba(204, 204, 204, 0.4);'>&nbsp;false</span><span class='token' style='background-color: rgba(179, 226, 205, 0.4);'>.</span><span class='token' style='background-color: rgba(253, 205, 172, 0.4);'>&nbsp;The</span><span class='token' style='background-color: rgba(203, 213, 232, 0.4);'>&nbsp;o</span><span class='token' style='background-color: rgba(244, 202, 228, 0.4);'>'</span><span class='token' style='background-color: rgba(230, 245, 201, 0.4);'>er</span><span class='token' style='background-color: rgba(255, 242, 174, 0.4);'>-</span><span class='token' style='background-color: rgba(241, 226, 204, 0.4);'>great</span><span class='token' style='background-color: rgba(204, 204, 204, 0.4);'>&nbsp;Cardinal</span><span class='token' style='background-color: rgba(179, 226, 205, 0.4);'><br></span><span class='token' style='background-color: rgba(179, 226, 205, 0.4);'>&nbsp;&nbsp;&nbsp;&nbsp;</span><span class='token' style='background-color: rgba(253, 205, 172, 0.4);'>Hath</span><span class='token' style='background-color: rgba(203, 213, 232, 0.4);'>&nbsp;show</span><span class='token' style='background-color: rgba(244, 202, 228, 0.4);'><br></span></div>"
      ],
      "text/plain": [
       "<IPython.core.display.HTML object>"
      ]
     },
     "metadata": {},
     "output_type": "display_data"
    }
   ],
   "source": [
    "# display(HTML(viz_tool()))\n",
    "print(\"ALL\")\n",
    "_ = viz_tool(y[0][0].numpy().tolist()+x[1][0].numpy().tolist(), display_inline=True)\n",
    "\n",
    "print(\"ENCODER\")\n",
    "_ = viz_tool(y[0][0].numpy().tolist(), display_inline=True)\n",
    "\n",
    "print(\"DECODER\")\n",
    "_ = viz_tool(x[1][0].numpy().tolist(), display_inline=True)"
   ]
  },
  {
   "cell_type": "code",
   "execution_count": 29,
   "id": "4edbc00f-cb64-471e-a26b-27c56a5fc699",
   "metadata": {},
   "outputs": [
    {
     "name": "stdout",
     "output_type": "stream",
     "text": [
      "ENCODER INPUT\n"
     ]
    },
    {
     "data": {
      "text/html": [
       "<style>span.token {font-family: Courier New; font-size: 1.1em; font-weight: 300; padding: 0px; margin-right: 0px; border-color: rgba(0, 0, 0, 0.05); border-style: ridge; border-radius: 0px;}</style><div style='background-color: #FBFBFB; line-height: 175%; padding: 25px; border-radius: 8px; margin-left: 10px; margin-right: 10px; margin-top: 20px; margin-bottom: 20px; overflow-x: auto; white-space: nowrap;'><span class='token' style='background-color: rgba(179, 226, 205, 0.4);'>.</span><span class='token' style='background-color: rgba(253, 205, 172, 0.4);'>[MASK]</span><span class='token' style='background-color: rgba(203, 213, 232, 0.4);'>&nbsp;the</span><span class='token' style='background-color: rgba(244, 202, 228, 0.4);'>&nbsp;Duke</span><span class='token' style='background-color: rgba(230, 245, 201, 0.4);'>[MASK]</span><span class='token' style='background-color: rgba(255, 242, 174, 0.4);'>,</span><span class='token' style='background-color: rgba(241, 226, 204, 0.4);'><br></span><span class='token' style='background-color: rgba(179, 226, 205, 0.4);'>&nbsp;&nbsp;&nbsp;&nbsp;</span><span class='token' style='background-color: rgba(253, 205, 172, 0.4);'>The</span><span class='token' style='background-color: rgba(203, 213, 232, 0.4);'>&nbsp;will</span><span class='token' style='background-color: rgba(244, 202, 228, 0.4);'>&nbsp;of</span><span class='token' style='background-color: rgba(230, 245, 201, 0.4);'>&nbsp;heaven</span><span class='token' style='background-color: rgba(255, 242, 174, 0.4);'>&nbsp;be</span><span class='token' style='background-color: rgba(241, 226, 204, 0.4);'>&nbsp;done</span><span class='token' style='background-color: rgba(204, 204, 204, 0.4);'>[MASK]</span><span class='token' style='background-color: rgba(179, 226, 205, 0.4);'>&nbsp;and</span><span class='token' style='background-color: rgba(253, 205, 172, 0.4);'>&nbsp;the</span><span class='token' style='background-color: rgba(203, 213, 232, 0.4);'>[MASK]</span><span class='token' style='background-color: rgba(244, 202, 228, 0.4);'>'</span><span class='token' style='background-color: rgba(230, 245, 201, 0.4);'>[MASK]</span><span class='token' style='background-color: rgba(255, 242, 174, 0.4);'>&nbsp;pleasure</span><span class='token' style='background-color: rgba(241, 226, 204, 0.4);'><br></span><span class='token' style='background-color: rgba(179, 226, 205, 0.4);'>&nbsp;&nbsp;&nbsp;&nbsp;</span><span class='token' style='background-color: rgba(253, 205, 172, 0.4);'>By</span><span class='token' style='background-color: rgba(203, 213, 232, 0.4);'>&nbsp;me</span><span class='token' style='background-color: rgba(244, 202, 228, 0.4);'>&nbsp;obey</span><span class='token' style='background-color: rgba(230, 245, 201, 0.4);'>'</span><span class='token' style='background-color: rgba(255, 242, 174, 0.4);'>d</span><span class='token' style='background-color: rgba(241, 226, 204, 0.4);'>.</span><span class='token' style='background-color: rgba(204, 204, 204, 0.4);'>[MASK]</span><span class='token' style='background-color: rgba(179, 226, 205, 0.4);'>&nbsp;&nbsp;</span><span class='token' style='background-color: rgba(253, 205, 172, 0.4);'>BRANDON</span><span class='token' style='background-color: rgba(203, 213, 232, 0.4);'>[MASK]</span><span class='token' style='background-color: rgba(244, 202, 228, 0.4);'>[MASK]</span><span class='token' style='background-color: rgba(230, 245, 201, 0.4);'>&nbsp;is</span><span class='token' style='background-color: rgba(255, 242, 174, 0.4);'>&nbsp;warrant</span><span class='token' style='background-color: rgba(241, 226, 204, 0.4);'>&nbsp;from</span><span class='token' style='background-color: rgba(204, 204, 204, 0.4);'><br></span><span class='token' style='background-color: rgba(179, 226, 205, 0.4);'>&nbsp;&nbsp;&nbsp;&nbsp;</span><span class='token' style='background-color: rgba(253, 205, 172, 0.4);'>The</span><span class='token' style='background-color: rgba(203, 213, 232, 0.4);'>&nbsp;King</span><span class='token' style='background-color: rgba(244, 202, 228, 0.4);'>&nbsp;t</span><span class='token' style='background-color: rgba(230, 245, 201, 0.4);'>'</span><span class='token' style='background-color: rgba(255, 242, 174, 0.4);'>&nbsp;attach</span><span class='token' style='background-color: rgba(241, 226, 204, 0.4);'>[MASK]</span><span class='token' style='background-color: rgba(204, 204, 204, 0.4);'>&nbsp;Mont</span><span class='token' style='background-color: rgba(179, 226, 205, 0.4);'>ac</span><span class='token' style='background-color: rgba(253, 205, 172, 0.4);'>ute</span><span class='token' style='background-color: rgba(203, 213, 232, 0.4);'>&nbsp;and</span><span class='token' style='background-color: rgba(244, 202, 228, 0.4);'>&nbsp;the</span><span class='token' style='background-color: rgba(230, 245, 201, 0.4);'>&nbsp;bodies</span><span class='token' style='background-color: rgba(255, 242, 174, 0.4);'><br></span><span class='token' style='background-color: rgba(179, 226, 205, 0.4);'>&nbsp;&nbsp;&nbsp;&nbsp;</span><span class='token' style='background-color: rgba(253, 205, 172, 0.4);'>Of</span><span class='token' style='background-color: rgba(203, 213, 232, 0.4);'>&nbsp;the</span><span class='token' style='background-color: rgba(244, 202, 228, 0.4);'>&nbsp;Duke</span><span class='token' style='background-color: rgba(230, 245, 201, 0.4);'>'</span><span class='token' style='background-color: rgba(255, 242, 174, 0.4);'>[MASK]</span><span class='token' style='background-color: rgba(241, 226, 204, 0.4);'>&nbsp;confessor</span><span class='token' style='background-color: rgba(204, 204, 204, 0.4);'>,</span><span class='token' style='background-color: rgba(179, 226, 205, 0.4);'>&nbsp;John</span><span class='token' style='background-color: rgba(253, 205, 172, 0.4);'>&nbsp;de</span><span class='token' style='background-color: rgba(203, 213, 232, 0.4);'>&nbsp;la</span><span class='token' style='background-color: rgba(244, 202, 228, 0.4);'>&nbsp;Car</span><span class='token' style='background-color: rgba(230, 245, 201, 0.4);'><br></span></div>"
      ],
      "text/plain": [
       "<IPython.core.display.HTML object>"
      ]
     },
     "metadata": {},
     "output_type": "display_data"
    },
    {
     "name": "stdout",
     "output_type": "stream",
     "text": [
      "ENCODER LABEL (FILLED IN)\n"
     ]
    },
    {
     "data": {
      "text/html": [
       "<style>span.token {font-family: Courier New; font-size: 1.1em; font-weight: 300; padding: 0px; margin-right: 0px; border-color: rgba(0, 0, 0, 0.05); border-style: ridge; border-radius: 0px;}</style><div style='background-color: #FBFBFB; line-height: 175%; padding: 25px; border-radius: 8px; margin-left: 10px; margin-right: 10px; margin-top: 20px; margin-bottom: 20px; overflow-x: auto; white-space: nowrap;'><span class='token' style='background-color: rgba(179, 226, 205, 0.4);'>.</span><span class='token' style='background-color: rgba(253, 205, 172, 0.4);'>&nbsp;As</span><span class='token' style='background-color: rgba(203, 213, 232, 0.4);'>&nbsp;the</span><span class='token' style='background-color: rgba(244, 202, 228, 0.4);'>&nbsp;Duke</span><span class='token' style='background-color: rgba(230, 245, 201, 0.4);'>&nbsp;said</span><span class='token' style='background-color: rgba(255, 242, 174, 0.4);'>,</span><span class='token' style='background-color: rgba(241, 226, 204, 0.4);'><br></span><span class='token' style='background-color: rgba(179, 226, 205, 0.4);'>&nbsp;&nbsp;&nbsp;&nbsp;</span><span class='token' style='background-color: rgba(253, 205, 172, 0.4);'>The</span><span class='token' style='background-color: rgba(203, 213, 232, 0.4);'>&nbsp;will</span><span class='token' style='background-color: rgba(244, 202, 228, 0.4);'>&nbsp;of</span><span class='token' style='background-color: rgba(230, 245, 201, 0.4);'>&nbsp;heaven</span><span class='token' style='background-color: rgba(255, 242, 174, 0.4);'>&nbsp;be</span><span class='token' style='background-color: rgba(241, 226, 204, 0.4);'>&nbsp;done</span><span class='token' style='background-color: rgba(204, 204, 204, 0.4);'>,</span><span class='token' style='background-color: rgba(179, 226, 205, 0.4);'>&nbsp;and</span><span class='token' style='background-color: rgba(253, 205, 172, 0.4);'>&nbsp;the</span><span class='token' style='background-color: rgba(203, 213, 232, 0.4);'>&nbsp;King</span><span class='token' style='background-color: rgba(244, 202, 228, 0.4);'>'</span><span class='token' style='background-color: rgba(230, 245, 201, 0.4);'>s</span><span class='token' style='background-color: rgba(255, 242, 174, 0.4);'>&nbsp;pleasure</span><span class='token' style='background-color: rgba(241, 226, 204, 0.4);'><br></span><span class='token' style='background-color: rgba(179, 226, 205, 0.4);'>&nbsp;&nbsp;&nbsp;&nbsp;</span><span class='token' style='background-color: rgba(253, 205, 172, 0.4);'>By</span><span class='token' style='background-color: rgba(203, 213, 232, 0.4);'>&nbsp;me</span><span class='token' style='background-color: rgba(244, 202, 228, 0.4);'>&nbsp;obey</span><span class='token' style='background-color: rgba(230, 245, 201, 0.4);'>'</span><span class='token' style='background-color: rgba(255, 242, 174, 0.4);'>d</span><span class='token' style='background-color: rgba(241, 226, 204, 0.4);'>.</span><span class='token' style='background-color: rgba(204, 204, 204, 0.4);'><br></span><span class='token' style='background-color: rgba(179, 226, 205, 0.4);'>&nbsp;&nbsp;</span><span class='token' style='background-color: rgba(253, 205, 172, 0.4);'>BRANDON</span><span class='token' style='background-color: rgba(203, 213, 232, 0.4);'>.</span><span class='token' style='background-color: rgba(244, 202, 228, 0.4);'>&nbsp;Here</span><span class='token' style='background-color: rgba(230, 245, 201, 0.4);'>&nbsp;is</span><span class='token' style='background-color: rgba(255, 242, 174, 0.4);'>&nbsp;warrant</span><span class='token' style='background-color: rgba(241, 226, 204, 0.4);'>&nbsp;from</span><span class='token' style='background-color: rgba(204, 204, 204, 0.4);'><br></span><span class='token' style='background-color: rgba(179, 226, 205, 0.4);'>&nbsp;&nbsp;&nbsp;&nbsp;</span><span class='token' style='background-color: rgba(253, 205, 172, 0.4);'>The</span><span class='token' style='background-color: rgba(203, 213, 232, 0.4);'>&nbsp;King</span><span class='token' style='background-color: rgba(244, 202, 228, 0.4);'>&nbsp;t</span><span class='token' style='background-color: rgba(230, 245, 201, 0.4);'>'</span><span class='token' style='background-color: rgba(255, 242, 174, 0.4);'>&nbsp;attach</span><span class='token' style='background-color: rgba(241, 226, 204, 0.4);'>&nbsp;Lord</span><span class='token' style='background-color: rgba(204, 204, 204, 0.4);'>&nbsp;Mont</span><span class='token' style='background-color: rgba(179, 226, 205, 0.4);'>ac</span><span class='token' style='background-color: rgba(253, 205, 172, 0.4);'>ute</span><span class='token' style='background-color: rgba(203, 213, 232, 0.4);'>&nbsp;and</span><span class='token' style='background-color: rgba(244, 202, 228, 0.4);'>&nbsp;the</span><span class='token' style='background-color: rgba(230, 245, 201, 0.4);'>&nbsp;bodies</span><span class='token' style='background-color: rgba(255, 242, 174, 0.4);'><br></span><span class='token' style='background-color: rgba(179, 226, 205, 0.4);'>&nbsp;&nbsp;&nbsp;&nbsp;</span><span class='token' style='background-color: rgba(253, 205, 172, 0.4);'>Of</span><span class='token' style='background-color: rgba(203, 213, 232, 0.4);'>&nbsp;the</span><span class='token' style='background-color: rgba(244, 202, 228, 0.4);'>&nbsp;Duke</span><span class='token' style='background-color: rgba(230, 245, 201, 0.4);'>'</span><span class='token' style='background-color: rgba(255, 242, 174, 0.4);'>s</span><span class='token' style='background-color: rgba(241, 226, 204, 0.4);'>&nbsp;confessor</span><span class='token' style='background-color: rgba(204, 204, 204, 0.4);'>,</span><span class='token' style='background-color: rgba(179, 226, 205, 0.4);'>&nbsp;John</span><span class='token' style='background-color: rgba(253, 205, 172, 0.4);'>&nbsp;de</span><span class='token' style='background-color: rgba(203, 213, 232, 0.4);'>&nbsp;la</span><span class='token' style='background-color: rgba(244, 202, 228, 0.4);'>&nbsp;Car</span><span class='token' style='background-color: rgba(230, 245, 201, 0.4);'><br></span></div>"
      ],
      "text/plain": [
       "<IPython.core.display.HTML object>"
      ]
     },
     "metadata": {},
     "output_type": "display_data"
    },
    {
     "name": "stdout",
     "output_type": "stream",
     "text": [
      "MODEL MLM PREDS\n"
     ]
    },
    {
     "data": {
      "text/html": [
       "<style>span.token {font-family: Courier New; font-size: 1.1em; font-weight: 300; padding: 0px; margin-right: 0px; border-color: rgba(0, 0, 0, 0.05); border-style: ridge; border-radius: 0px;}</style><div style='background-color: #FBFBFB; line-height: 175%; padding: 25px; border-radius: 8px; margin-left: 10px; margin-right: 10px; margin-top: 20px; margin-bottom: 20px; overflow-x: auto; white-space: nowrap;'><span class='token' style='background-color: rgba(179, 226, 205, 0.4);'><br></span><span class='token' style='background-color: rgba(179, 226, 205, 0.4);'><br></span><span class='token' style='background-color: rgba(179, 226, 205, 0.4);'><br></span><span class='token' style='background-color: rgba(179, 226, 205, 0.4);'><br></span><span class='token' style='background-color: rgba(179, 226, 205, 0.4);'><br></span><span class='token' style='background-color: rgba(179, 226, 205, 0.4);'><br></span><span class='token' style='background-color: rgba(179, 226, 205, 0.4);'><br></span><span class='token' style='background-color: rgba(179, 226, 205, 0.4);'><br></span><span class='token' style='background-color: rgba(179, 226, 205, 0.4);'><br></span><span class='token' style='background-color: rgba(179, 226, 205, 0.4);'><br></span><span class='token' style='background-color: rgba(179, 226, 205, 0.4);'><br></span><span class='token' style='background-color: rgba(179, 226, 205, 0.4);'><br></span><span class='token' style='background-color: rgba(179, 226, 205, 0.4);'><br></span><span class='token' style='background-color: rgba(179, 226, 205, 0.4);'><br></span><span class='token' style='background-color: rgba(179, 226, 205, 0.4);'><br></span><span class='token' style='background-color: rgba(179, 226, 205, 0.4);'><br></span><span class='token' style='background-color: rgba(179, 226, 205, 0.4);'><br></span><span class='token' style='background-color: rgba(179, 226, 205, 0.4);'><br></span><span class='token' style='background-color: rgba(179, 226, 205, 0.4);'><br></span><span class='token' style='background-color: rgba(179, 226, 205, 0.4);'><br></span><span class='token' style='background-color: rgba(179, 226, 205, 0.4);'><br></span><span class='token' style='background-color: rgba(179, 226, 205, 0.4);'><br></span><span class='token' style='background-color: rgba(179, 226, 205, 0.4);'><br></span><span class='token' style='background-color: rgba(179, 226, 205, 0.4);'><br></span><span class='token' style='background-color: rgba(179, 226, 205, 0.4);'><br></span><span class='token' style='background-color: rgba(179, 226, 205, 0.4);'><br></span><span class='token' style='background-color: rgba(179, 226, 205, 0.4);'><br></span><span class='token' style='background-color: rgba(179, 226, 205, 0.4);'><br></span><span class='token' style='background-color: rgba(179, 226, 205, 0.4);'><br></span><span class='token' style='background-color: rgba(179, 226, 205, 0.4);'><br></span><span class='token' style='background-color: rgba(179, 226, 205, 0.4);'><br></span><span class='token' style='background-color: rgba(179, 226, 205, 0.4);'><br></span><span class='token' style='background-color: rgba(179, 226, 205, 0.4);'><br></span><span class='token' style='background-color: rgba(179, 226, 205, 0.4);'><br></span><span class='token' style='background-color: rgba(179, 226, 205, 0.4);'><br></span><span class='token' style='background-color: rgba(179, 226, 205, 0.4);'><br></span><span class='token' style='background-color: rgba(179, 226, 205, 0.4);'><br></span><span class='token' style='background-color: rgba(179, 226, 205, 0.4);'><br></span><span class='token' style='background-color: rgba(179, 226, 205, 0.4);'><br></span><span class='token' style='background-color: rgba(179, 226, 205, 0.4);'><br></span><span class='token' style='background-color: rgba(179, 226, 205, 0.4);'><br></span><span class='token' style='background-color: rgba(179, 226, 205, 0.4);'><br></span><span class='token' style='background-color: rgba(179, 226, 205, 0.4);'><br></span><span class='token' style='background-color: rgba(179, 226, 205, 0.4);'><br></span><span class='token' style='background-color: rgba(179, 226, 205, 0.4);'><br></span><span class='token' style='background-color: rgba(179, 226, 205, 0.4);'><br></span><span class='token' style='background-color: rgba(179, 226, 205, 0.4);'><br></span><span class='token' style='background-color: rgba(179, 226, 205, 0.4);'><br></span><span class='token' style='background-color: rgba(179, 226, 205, 0.4);'><br></span><span class='token' style='background-color: rgba(179, 226, 205, 0.4);'><br></span><span class='token' style='background-color: rgba(179, 226, 205, 0.4);'><br></span><span class='token' style='background-color: rgba(179, 226, 205, 0.4);'><br></span><span class='token' style='background-color: rgba(179, 226, 205, 0.4);'><br></span><span class='token' style='background-color: rgba(179, 226, 205, 0.4);'><br></span><span class='token' style='background-color: rgba(179, 226, 205, 0.4);'><br></span><span class='token' style='background-color: rgba(179, 226, 205, 0.4);'><br></span><span class='token' style='background-color: rgba(179, 226, 205, 0.4);'><br></span><span class='token' style='background-color: rgba(179, 226, 205, 0.4);'><br></span><span class='token' style='background-color: rgba(179, 226, 205, 0.4);'><br></span><span class='token' style='background-color: rgba(179, 226, 205, 0.4);'><br></span><span class='token' style='background-color: rgba(179, 226, 205, 0.4);'><br></span><span class='token' style='background-color: rgba(179, 226, 205, 0.4);'><br></span><span class='token' style='background-color: rgba(179, 226, 205, 0.4);'><br></span><span class='token' style='background-color: rgba(179, 226, 205, 0.4);'><br></span><span class='token' style='background-color: rgba(179, 226, 205, 0.4);'><br></span></div>"
      ],
      "text/plain": [
       "<IPython.core.display.HTML object>"
      ]
     },
     "metadata": {},
     "output_type": "display_data"
    }
   ],
   "source": [
    "print(\"ENCODER INPUT\")\n",
    "_ = viz_tool(x[0][0].numpy().tolist(), display_inline=True)\n",
    "\n",
    "print(\"ENCODER LABEL (FILLED IN)\")\n",
    "_ = viz_tool(y[0][0].numpy().tolist(), display_inline=True)\n",
    "\n",
    "# tf.reduce_max(_y[0][0], axis=-1)\n",
    "print(\"MODEL MLM PREDS\")\n",
    "_ = viz_tool(tf.argmax(_y[0][0], axis=-1).numpy().tolist(), display_inline=True)"
   ]
  },
  {
   "cell_type": "code",
   "execution_count": 30,
   "id": "a4b50200-c0c9-4844-bc7a-80a01e30cb64",
   "metadata": {},
   "outputs": [
    {
     "name": "stdout",
     "output_type": "stream",
     "text": [
      "DECODER INPUT\n"
     ]
    },
    {
     "data": {
      "text/html": [
       "<style>span.token {font-family: Courier New; font-size: 1.1em; font-weight: 300; padding: 0px; margin-right: 0px; border-color: rgba(0, 0, 0, 0.05); border-style: ridge; border-radius: 0px;}</style><div style='background-color: #FBFBFB; line-height: 175%; padding: 25px; border-radius: 8px; margin-left: 10px; margin-right: 10px; margin-top: 20px; margin-bottom: 20px; overflow-x: auto; white-space: nowrap;'><span class='token' style='background-color: rgba(179, 226, 205, 0.4);'>,</span><span class='token' style='background-color: rgba(253, 205, 172, 0.4);'><br></span><span class='token' style='background-color: rgba(179, 226, 205, 0.4);'>&nbsp;&nbsp;&nbsp;&nbsp;</span><span class='token' style='background-color: rgba(253, 205, 172, 0.4);'>One</span><span class='token' style='background-color: rgba(203, 213, 232, 0.4);'>&nbsp;G</span><span class='token' style='background-color: rgba(244, 202, 228, 0.4);'>il</span><span class='token' style='background-color: rgba(230, 245, 201, 0.4);'>bert</span><span class='token' style='background-color: rgba(255, 242, 174, 0.4);'>&nbsp;Pe</span><span class='token' style='background-color: rgba(241, 226, 204, 0.4);'>ck</span><span class='token' style='background-color: rgba(204, 204, 204, 0.4);'>,</span><span class='token' style='background-color: rgba(179, 226, 205, 0.4);'>&nbsp;his</span><span class='token' style='background-color: rgba(253, 205, 172, 0.4);'>&nbsp;chance</span><span class='token' style='background-color: rgba(203, 213, 232, 0.4);'>ll</span><span class='token' style='background-color: rgba(244, 202, 228, 0.4);'>or</span><span class='token' style='background-color: rgba(230, 245, 201, 0.4);'>-</span><span class='token' style='background-color: rgba(255, 242, 174, 0.4);'><br></span><span class='token' style='background-color: rgba(179, 226, 205, 0.4);'>&nbsp;&nbsp;</span><span class='token' style='background-color: rgba(253, 205, 172, 0.4);'>BUCKINGHAM</span><span class='token' style='background-color: rgba(203, 213, 232, 0.4);'>.</span><span class='token' style='background-color: rgba(244, 202, 228, 0.4);'>&nbsp;So</span><span class='token' style='background-color: rgba(230, 245, 201, 0.4);'>,</span><span class='token' style='background-color: rgba(255, 242, 174, 0.4);'>&nbsp;so</span><span class='token' style='background-color: rgba(241, 226, 204, 0.4);'>!</span><span class='token' style='background-color: rgba(204, 204, 204, 0.4);'><br></span><span class='token' style='background-color: rgba(179, 226, 205, 0.4);'>&nbsp;&nbsp;&nbsp;&nbsp;</span><span class='token' style='background-color: rgba(253, 205, 172, 0.4);'>These</span><span class='token' style='background-color: rgba(203, 213, 232, 0.4);'>&nbsp;are</span><span class='token' style='background-color: rgba(244, 202, 228, 0.4);'>&nbsp;the</span><span class='token' style='background-color: rgba(230, 245, 201, 0.4);'>&nbsp;limbs</span><span class='token' style='background-color: rgba(255, 242, 174, 0.4);'>&nbsp;o</span><span class='token' style='background-color: rgba(241, 226, 204, 0.4);'>'</span><span class='token' style='background-color: rgba(204, 204, 204, 0.4);'>&nbsp;th</span><span class='token' style='background-color: rgba(179, 226, 205, 0.4);'>'</span><span class='token' style='background-color: rgba(253, 205, 172, 0.4);'>&nbsp;plot</span><span class='token' style='background-color: rgba(203, 213, 232, 0.4);'>;</span><span class='token' style='background-color: rgba(244, 202, 228, 0.4);'>&nbsp;no</span><span class='token' style='background-color: rgba(230, 245, 201, 0.4);'>&nbsp;more</span><span class='token' style='background-color: rgba(255, 242, 174, 0.4);'>,</span><span class='token' style='background-color: rgba(241, 226, 204, 0.4);'>&nbsp;I</span><span class='token' style='background-color: rgba(204, 204, 204, 0.4);'>&nbsp;hope</span><span class='token' style='background-color: rgba(179, 226, 205, 0.4);'>.</span><span class='token' style='background-color: rgba(253, 205, 172, 0.4);'><br></span><span class='token' style='background-color: rgba(179, 226, 205, 0.4);'>&nbsp;&nbsp;</span><span class='token' style='background-color: rgba(253, 205, 172, 0.4);'>BRANDON</span><span class='token' style='background-color: rgba(203, 213, 232, 0.4);'>.</span><span class='token' style='background-color: rgba(244, 202, 228, 0.4);'>&nbsp;A</span><span class='token' style='background-color: rgba(230, 245, 201, 0.4);'>&nbsp;mon</span><span class='token' style='background-color: rgba(255, 242, 174, 0.4);'>k</span><span class='token' style='background-color: rgba(241, 226, 204, 0.4);'>&nbsp;o</span><span class='token' style='background-color: rgba(204, 204, 204, 0.4);'>'</span><span class='token' style='background-color: rgba(179, 226, 205, 0.4);'>&nbsp;th</span><span class='token' style='background-color: rgba(253, 205, 172, 0.4);'>'</span><span class='token' style='background-color: rgba(203, 213, 232, 0.4);'>&nbsp;Char</span><span class='token' style='background-color: rgba(244, 202, 228, 0.4);'>t</span><span class='token' style='background-color: rgba(230, 245, 201, 0.4);'>re</span><span class='token' style='background-color: rgba(255, 242, 174, 0.4);'>ux</span><span class='token' style='background-color: rgba(241, 226, 204, 0.4);'>.</span><span class='token' style='background-color: rgba(204, 204, 204, 0.4);'><br></span><span class='token' style='background-color: rgba(179, 226, 205, 0.4);'>&nbsp;&nbsp;</span><span class='token' style='background-color: rgba(253, 205, 172, 0.4);'>BUCKINGHAM</span><span class='token' style='background-color: rgba(203, 213, 232, 0.4);'>.</span><span class='token' style='background-color: rgba(244, 202, 228, 0.4);'>&nbsp;O</span><span class='token' style='background-color: rgba(230, 245, 201, 0.4);'>,</span><span class='token' style='background-color: rgba(255, 242, 174, 0.4);'>&nbsp;Nicholas</span><span class='token' style='background-color: rgba(241, 226, 204, 0.4);'>&nbsp;H</span><span class='token' style='background-color: rgba(204, 204, 204, 0.4);'>op</span><span class='token' style='background-color: rgba(179, 226, 205, 0.4);'>kins</span><span class='token' style='background-color: rgba(253, 205, 172, 0.4);'>?</span><span class='token' style='background-color: rgba(203, 213, 232, 0.4);'>&nbsp;&nbsp;</span><span class='token' style='background-color: rgba(244, 202, 228, 0.4);'><br></span><span class='token' style='background-color: rgba(179, 226, 205, 0.4);'>&nbsp;&nbsp;</span><span class='token' style='background-color: rgba(253, 205, 172, 0.4);'>BRANDON</span><span class='token' style='background-color: rgba(203, 213, 232, 0.4);'>.</span><span class='token' style='background-color: rgba(244, 202, 228, 0.4);'>&nbsp;He</span><span class='token' style='background-color: rgba(230, 245, 201, 0.4);'>.</span><span class='token' style='background-color: rgba(255, 242, 174, 0.4);'><br></span><span class='token' style='background-color: rgba(179, 226, 205, 0.4);'>&nbsp;&nbsp;</span><span class='token' style='background-color: rgba(253, 205, 172, 0.4);'>BUCKINGHAM</span><span class='token' style='background-color: rgba(203, 213, 232, 0.4);'>.</span><span class='token' style='background-color: rgba(244, 202, 228, 0.4);'>&nbsp;My</span><span class='token' style='background-color: rgba(230, 245, 201, 0.4);'>&nbsp;survey</span><span class='token' style='background-color: rgba(255, 242, 174, 0.4);'>or</span><span class='token' style='background-color: rgba(241, 226, 204, 0.4);'>&nbsp;is</span><span class='token' style='background-color: rgba(204, 204, 204, 0.4);'>&nbsp;false</span><span class='token' style='background-color: rgba(179, 226, 205, 0.4);'>.</span><span class='token' style='background-color: rgba(253, 205, 172, 0.4);'>&nbsp;The</span><span class='token' style='background-color: rgba(203, 213, 232, 0.4);'>&nbsp;o</span><span class='token' style='background-color: rgba(244, 202, 228, 0.4);'>'</span><span class='token' style='background-color: rgba(230, 245, 201, 0.4);'>er</span><span class='token' style='background-color: rgba(255, 242, 174, 0.4);'>-</span><span class='token' style='background-color: rgba(241, 226, 204, 0.4);'>great</span><span class='token' style='background-color: rgba(204, 204, 204, 0.4);'>&nbsp;Cardinal</span><span class='token' style='background-color: rgba(179, 226, 205, 0.4);'><br></span><span class='token' style='background-color: rgba(179, 226, 205, 0.4);'>&nbsp;&nbsp;&nbsp;&nbsp;</span><span class='token' style='background-color: rgba(253, 205, 172, 0.4);'>Hath</span><span class='token' style='background-color: rgba(203, 213, 232, 0.4);'>&nbsp;show</span><span class='token' style='background-color: rgba(244, 202, 228, 0.4);'><br></span></div>"
      ],
      "text/plain": [
       "<IPython.core.display.HTML object>"
      ]
     },
     "metadata": {},
     "output_type": "display_data"
    },
    {
     "name": "stdout",
     "output_type": "stream",
     "text": [
      "DECODER OUTPUT (SHIFTED 1-RIGHT)\n"
     ]
    },
    {
     "data": {
      "text/html": [
       "<style>span.token {font-family: Courier New; font-size: 1.1em; font-weight: 300; padding: 0px; margin-right: 0px; border-color: rgba(0, 0, 0, 0.05); border-style: ridge; border-radius: 0px;}</style><div style='background-color: #FBFBFB; line-height: 175%; padding: 25px; border-radius: 8px; margin-left: 10px; margin-right: 10px; margin-top: 20px; margin-bottom: 20px; overflow-x: auto; white-space: nowrap;'><span class='token' style='background-color: rgba(179, 226, 205, 0.4);'><br></span><span class='token' style='background-color: rgba(179, 226, 205, 0.4);'>&nbsp;&nbsp;&nbsp;&nbsp;</span><span class='token' style='background-color: rgba(253, 205, 172, 0.4);'>One</span><span class='token' style='background-color: rgba(203, 213, 232, 0.4);'>&nbsp;G</span><span class='token' style='background-color: rgba(244, 202, 228, 0.4);'>il</span><span class='token' style='background-color: rgba(230, 245, 201, 0.4);'>bert</span><span class='token' style='background-color: rgba(255, 242, 174, 0.4);'>&nbsp;Pe</span><span class='token' style='background-color: rgba(241, 226, 204, 0.4);'>ck</span><span class='token' style='background-color: rgba(204, 204, 204, 0.4);'>,</span><span class='token' style='background-color: rgba(179, 226, 205, 0.4);'>&nbsp;his</span><span class='token' style='background-color: rgba(253, 205, 172, 0.4);'>&nbsp;chance</span><span class='token' style='background-color: rgba(203, 213, 232, 0.4);'>ll</span><span class='token' style='background-color: rgba(244, 202, 228, 0.4);'>or</span><span class='token' style='background-color: rgba(230, 245, 201, 0.4);'>-</span><span class='token' style='background-color: rgba(255, 242, 174, 0.4);'><br></span><span class='token' style='background-color: rgba(179, 226, 205, 0.4);'>&nbsp;&nbsp;</span><span class='token' style='background-color: rgba(253, 205, 172, 0.4);'>BUCKINGHAM</span><span class='token' style='background-color: rgba(203, 213, 232, 0.4);'>.</span><span class='token' style='background-color: rgba(244, 202, 228, 0.4);'>&nbsp;So</span><span class='token' style='background-color: rgba(230, 245, 201, 0.4);'>,</span><span class='token' style='background-color: rgba(255, 242, 174, 0.4);'>&nbsp;so</span><span class='token' style='background-color: rgba(241, 226, 204, 0.4);'>!</span><span class='token' style='background-color: rgba(204, 204, 204, 0.4);'><br></span><span class='token' style='background-color: rgba(179, 226, 205, 0.4);'>&nbsp;&nbsp;&nbsp;&nbsp;</span><span class='token' style='background-color: rgba(253, 205, 172, 0.4);'>These</span><span class='token' style='background-color: rgba(203, 213, 232, 0.4);'>&nbsp;are</span><span class='token' style='background-color: rgba(244, 202, 228, 0.4);'>&nbsp;the</span><span class='token' style='background-color: rgba(230, 245, 201, 0.4);'>&nbsp;limbs</span><span class='token' style='background-color: rgba(255, 242, 174, 0.4);'>&nbsp;o</span><span class='token' style='background-color: rgba(241, 226, 204, 0.4);'>'</span><span class='token' style='background-color: rgba(204, 204, 204, 0.4);'>&nbsp;th</span><span class='token' style='background-color: rgba(179, 226, 205, 0.4);'>'</span><span class='token' style='background-color: rgba(253, 205, 172, 0.4);'>&nbsp;plot</span><span class='token' style='background-color: rgba(203, 213, 232, 0.4);'>;</span><span class='token' style='background-color: rgba(244, 202, 228, 0.4);'>&nbsp;no</span><span class='token' style='background-color: rgba(230, 245, 201, 0.4);'>&nbsp;more</span><span class='token' style='background-color: rgba(255, 242, 174, 0.4);'>,</span><span class='token' style='background-color: rgba(241, 226, 204, 0.4);'>&nbsp;I</span><span class='token' style='background-color: rgba(204, 204, 204, 0.4);'>&nbsp;hope</span><span class='token' style='background-color: rgba(179, 226, 205, 0.4);'>.</span><span class='token' style='background-color: rgba(253, 205, 172, 0.4);'><br></span><span class='token' style='background-color: rgba(179, 226, 205, 0.4);'>&nbsp;&nbsp;</span><span class='token' style='background-color: rgba(253, 205, 172, 0.4);'>BRANDON</span><span class='token' style='background-color: rgba(203, 213, 232, 0.4);'>.</span><span class='token' style='background-color: rgba(244, 202, 228, 0.4);'>&nbsp;A</span><span class='token' style='background-color: rgba(230, 245, 201, 0.4);'>&nbsp;mon</span><span class='token' style='background-color: rgba(255, 242, 174, 0.4);'>k</span><span class='token' style='background-color: rgba(241, 226, 204, 0.4);'>&nbsp;o</span><span class='token' style='background-color: rgba(204, 204, 204, 0.4);'>'</span><span class='token' style='background-color: rgba(179, 226, 205, 0.4);'>&nbsp;th</span><span class='token' style='background-color: rgba(253, 205, 172, 0.4);'>'</span><span class='token' style='background-color: rgba(203, 213, 232, 0.4);'>&nbsp;Char</span><span class='token' style='background-color: rgba(244, 202, 228, 0.4);'>t</span><span class='token' style='background-color: rgba(230, 245, 201, 0.4);'>re</span><span class='token' style='background-color: rgba(255, 242, 174, 0.4);'>ux</span><span class='token' style='background-color: rgba(241, 226, 204, 0.4);'>.</span><span class='token' style='background-color: rgba(204, 204, 204, 0.4);'><br></span><span class='token' style='background-color: rgba(179, 226, 205, 0.4);'>&nbsp;&nbsp;</span><span class='token' style='background-color: rgba(253, 205, 172, 0.4);'>BUCKINGHAM</span><span class='token' style='background-color: rgba(203, 213, 232, 0.4);'>.</span><span class='token' style='background-color: rgba(244, 202, 228, 0.4);'>&nbsp;O</span><span class='token' style='background-color: rgba(230, 245, 201, 0.4);'>,</span><span class='token' style='background-color: rgba(255, 242, 174, 0.4);'>&nbsp;Nicholas</span><span class='token' style='background-color: rgba(241, 226, 204, 0.4);'>&nbsp;H</span><span class='token' style='background-color: rgba(204, 204, 204, 0.4);'>op</span><span class='token' style='background-color: rgba(179, 226, 205, 0.4);'>kins</span><span class='token' style='background-color: rgba(253, 205, 172, 0.4);'>?</span><span class='token' style='background-color: rgba(203, 213, 232, 0.4);'>&nbsp;&nbsp;</span><span class='token' style='background-color: rgba(244, 202, 228, 0.4);'><br></span><span class='token' style='background-color: rgba(179, 226, 205, 0.4);'>&nbsp;&nbsp;</span><span class='token' style='background-color: rgba(253, 205, 172, 0.4);'>BRANDON</span><span class='token' style='background-color: rgba(203, 213, 232, 0.4);'>.</span><span class='token' style='background-color: rgba(244, 202, 228, 0.4);'>&nbsp;He</span><span class='token' style='background-color: rgba(230, 245, 201, 0.4);'>.</span><span class='token' style='background-color: rgba(255, 242, 174, 0.4);'><br></span><span class='token' style='background-color: rgba(179, 226, 205, 0.4);'>&nbsp;&nbsp;</span><span class='token' style='background-color: rgba(253, 205, 172, 0.4);'>BUCKINGHAM</span><span class='token' style='background-color: rgba(203, 213, 232, 0.4);'>.</span><span class='token' style='background-color: rgba(244, 202, 228, 0.4);'>&nbsp;My</span><span class='token' style='background-color: rgba(230, 245, 201, 0.4);'>&nbsp;survey</span><span class='token' style='background-color: rgba(255, 242, 174, 0.4);'>or</span><span class='token' style='background-color: rgba(241, 226, 204, 0.4);'>&nbsp;is</span><span class='token' style='background-color: rgba(204, 204, 204, 0.4);'>&nbsp;false</span><span class='token' style='background-color: rgba(179, 226, 205, 0.4);'>.</span><span class='token' style='background-color: rgba(253, 205, 172, 0.4);'>&nbsp;The</span><span class='token' style='background-color: rgba(203, 213, 232, 0.4);'>&nbsp;o</span><span class='token' style='background-color: rgba(244, 202, 228, 0.4);'>'</span><span class='token' style='background-color: rgba(230, 245, 201, 0.4);'>er</span><span class='token' style='background-color: rgba(255, 242, 174, 0.4);'>-</span><span class='token' style='background-color: rgba(241, 226, 204, 0.4);'>great</span><span class='token' style='background-color: rgba(204, 204, 204, 0.4);'>&nbsp;Cardinal</span><span class='token' style='background-color: rgba(179, 226, 205, 0.4);'><br></span><span class='token' style='background-color: rgba(179, 226, 205, 0.4);'>&nbsp;&nbsp;&nbsp;&nbsp;</span><span class='token' style='background-color: rgba(253, 205, 172, 0.4);'>Hath</span><span class='token' style='background-color: rgba(203, 213, 232, 0.4);'>&nbsp;show</span><span class='token' style='background-color: rgba(244, 202, 228, 0.4);'>'</span><span class='token' style='background-color: rgba(230, 245, 201, 0.4);'><br></span></div>"
      ],
      "text/plain": [
       "<IPython.core.display.HTML object>"
      ]
     },
     "metadata": {},
     "output_type": "display_data"
    },
    {
     "name": "stdout",
     "output_type": "stream",
     "text": [
      "MODEL AR PREDS\n"
     ]
    },
    {
     "data": {
      "text/html": [
       "<style>span.token {font-family: Courier New; font-size: 1.1em; font-weight: 300; padding: 0px; margin-right: 0px; border-color: rgba(0, 0, 0, 0.05); border-style: ridge; border-radius: 0px;}</style><div style='background-color: #FBFBFB; line-height: 175%; padding: 25px; border-radius: 8px; margin-left: 10px; margin-right: 10px; margin-top: 20px; margin-bottom: 20px; overflow-x: auto; white-space: nowrap;'><span class='token' style='background-color: rgba(179, 226, 205, 0.4);'><br></span></div>"
      ],
      "text/plain": [
       "<IPython.core.display.HTML object>"
      ]
     },
     "metadata": {},
     "output_type": "display_data"
    }
   ],
   "source": [
    "print(\"DECODER INPUT\")\n",
    "_ = viz_tool(x[1][0].numpy().tolist(), display_inline=True)\n",
    "\n",
    "print(\"DECODER OUTPUT (SHIFTED 1-RIGHT)\")\n",
    "_ = viz_tool(y[1][0].numpy().tolist(), display_inline=True)\n",
    "\n",
    "# tf.reduce_max(_y[0][0], axis=-1)\n",
    "print(\"MODEL AR PREDS\")\n",
    "_ = viz_tool(tf.argmax(_y[1][0], axis=-1).numpy().tolist(), display_inline=True)"
   ]
  },
  {
   "cell_type": "code",
   "execution_count": null,
   "id": "2c86558b-c39e-44a7-bad2-4d71fdcd22fc",
   "metadata": {},
   "outputs": [],
   "source": []
  }
 ],
 "metadata": {
  "kernelspec": {
   "display_name": "Python 3 (ipykernel)",
   "language": "python",
   "name": "python3"
  },
  "language_info": {
   "codemirror_mode": {
    "name": "ipython",
    "version": 3
   },
   "file_extension": ".py",
   "mimetype": "text/x-python",
   "name": "python",
   "nbconvert_exporter": "python",
   "pygments_lexer": "ipython3",
   "version": "3.9.16"
  }
 },
 "nbformat": 4,
 "nbformat_minor": 5
}
