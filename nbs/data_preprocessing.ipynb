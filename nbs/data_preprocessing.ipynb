{
 "cells": [
  {
   "cell_type": "markdown",
   "id": "1adfdc95-726e-4b4f-90d8-23f2a573a602",
   "metadata": {},
   "source": [
    "<b>WandB Notes</b>\n",
    "\n",
    "* Code save\n",
    "* Logging (HTML)\n",
    "* WandB conifg (run config)\n",
    "* WandB callback (super?)\n",
    "* run.save (model summary)\n",
    "\n"
   ]
  },
  {
   "cell_type": "markdown",
   "id": "29279551-2a6d-480f-8fe2-d18017f56b20",
   "metadata": {},
   "source": [
    "<div align=\"center\">\n",
    "\n",
    "# 🚀 Spearecode Preprocessing 🚀\n",
    "\n",
    "</div>\n",
    "\n",
    "<br>\n",
    "\n",
    "Welcome to the **Spearecode Preprocessing Notebook**! This notebook will guide you through the necessary preprocessing steps to prepare a toy dataset for Language Model training. We will focus on making the dataset more suitable for training by performing the following steps:\n",
    "\n",
    "1. 📚 **Loading the dataset**: We'll start by importing the dataset from a file or external source.\n",
    "2. 📦 **Chunking the text**: The dataset will be divided into smaller chunks or segments, making it easier to process during training.\n",
    "3. 💬 **Tokenization**: Each chunk of text will be split into individual tokens (words or subwords), which are the basic units for language models.\n",
    "4. 📊 **Basic Exploratory Data Analysis (EDA)**: We'll analyze the dataset's characteristics, such as token frequency, to gain insights and identify potential issues.\n",
    "\n",
    "After completing the preprocessing and EDA, the toy dataset will be converted into `TFRecords` format. This efficient binary format is designed for use with TensorFlow and will enable seamless integration with your Language Model training pipeline.\n",
    "\n",
    "Let's dive in and start preprocessing the dataset! 🎉\n"
   ]
  },
  {
   "cell_type": "markdown",
   "id": "76a62943-0d3c-4aae-933b-2a5fbe751ad6",
   "metadata": {},
   "source": [
    "<br><br>\n",
    "\n",
    "<div align=\"center\">\n",
    "\n",
    "# 🌟 Table of Contents 🌟\n",
    "\n",
    "</div>\n",
    "\n",
    "---\n",
    "\n",
    "0. [**Setup**](#setup)\n",
    "1. [**Loading the Dataset**](#loading-the-dataset)\n",
    "2. [**Chunking the Text**](#chunking-the-text)\n",
    "3. [**Tokenization**](#tokenization)\n",
    "4. [**Basic Exploratory Data Analysis (EDA)**](#basic-eda)\n",
    "5. [**Converting to TFRecords**](#converting-to-tfrecords)\n",
    "\n",
    "---\n",
    "\n"
   ]
  },
  {
   "cell_type": "markdown",
   "id": "59e83729-e61a-4d94-a074-17ccb60593dc",
   "metadata": {},
   "source": [
    "<br>\n",
    "\n",
    "<div align=\"center\">\n",
    "\n",
    "## 🛠️ Setup <a name=\"setup\"></a>\n",
    "\n",
    "</div>\n",
    "\n",
    "<br>\n",
    "\n",
    "In this section, we'll import required libraries and methods from our utilities file. We will also define relevant paths and high level information we may need later. We also run a few basic Tensorflow setup steps to ensure optimal and reproducible runs."
   ]
  },
  {
   "cell_type": "code",
   "execution_count": 3,
   "id": "8ab4c015-345e-4c48-a749-c7094604fecf",
   "metadata": {},
   "outputs": [
    {
     "name": "stderr",
     "output_type": "stream",
     "text": [
      "\u001b[34m\u001b[1mwandb\u001b[0m: Logging into wandb.ai. (Learn how to deploy a W&B server locally: https://wandb.me/wandb-server)\n",
      "\u001b[34m\u001b[1mwandb\u001b[0m: You can find your API key in your browser here: https://wandb.ai/authorize\n",
      "\u001b[34m\u001b[1mwandb\u001b[0m: Paste an API key from your profile and hit enter, or press ctrl+c to quit:"
     ]
    },
    {
     "name": "stdin",
     "output_type": "stream",
     "text": [
      "  ········\n"
     ]
    },
    {
     "name": "stderr",
     "output_type": "stream",
     "text": [
      "\u001b[34m\u001b[1mwandb\u001b[0m: Appending key for api.wandb.ai to your netrc file: /home/paperspace/.netrc\n"
     ]
    },
    {
     "data": {
      "text/html": [
       "Tracking run with wandb version 0.14.2"
      ],
      "text/plain": [
       "<IPython.core.display.HTML object>"
      ]
     },
     "metadata": {},
     "output_type": "display_data"
    },
    {
     "data": {
      "text/html": [
       "Run data is saved locally in <code>/home/paperspace/home/spearecode/nbs/wandb/run-20230418_152114-mq2ayohu</code>"
      ],
      "text/plain": [
       "<IPython.core.display.HTML object>"
      ]
     },
     "metadata": {},
     "output_type": "display_data"
    },
    {
     "data": {
      "text/html": [
       "Syncing run <strong><a href='https://wandb.ai/ds-ml/spearecode-nbs/runs/mq2ayohu' target=\"_blank\">drawn-lion-1</a></strong> to <a href='https://wandb.ai/ds-ml/spearecode-nbs' target=\"_blank\">Weights & Biases</a> (<a href='https://wandb.me/run' target=\"_blank\">docs</a>)<br/>"
      ],
      "text/plain": [
       "<IPython.core.display.HTML object>"
      ]
     },
     "metadata": {},
     "output_type": "display_data"
    },
    {
     "data": {
      "text/html": [
       " View project at <a href='https://wandb.ai/ds-ml/spearecode-nbs' target=\"_blank\">https://wandb.ai/ds-ml/spearecode-nbs</a>"
      ],
      "text/plain": [
       "<IPython.core.display.HTML object>"
      ]
     },
     "metadata": {},
     "output_type": "display_data"
    },
    {
     "data": {
      "text/html": [
       " View run at <a href='https://wandb.ai/ds-ml/spearecode-nbs/runs/mq2ayohu' target=\"_blank\">https://wandb.ai/ds-ml/spearecode-nbs/runs/mq2ayohu</a>"
      ],
      "text/plain": [
       "<IPython.core.display.HTML object>"
      ]
     },
     "metadata": {},
     "output_type": "display_data"
    }
   ],
   "source": [
    "# !pip install -q --upgrade tokenizer-viz\n",
    "# !pip install -q --upgrade langchain\n",
    "# !pip install -q --upgrade wandb\n",
    "\n",
    "# Regular imports (native python and pypi packages)\n",
    "import os\n",
    "import sys\n",
    "import random\n",
    "import langchain\n",
    "import numpy as np\n",
    "import pandas as pd\n",
    "from glob import glob\n",
    "import tensorflow as tf\n",
    "import sentencepiece as spm\n",
    "from IPython.display import HTML, display\n",
    "from tokenizer_viz import TokenVisualization\n",
    "from tqdm.notebook import tqdm; tqdm.pandas()\n",
    "\n",
    "# Add project root into path so imports work\n",
    "PROJECT_DIR = os.path.dirname(os.getcwd())\n",
    "sys.path.insert(0, PROJECT_DIR) \n",
    "\n",
    "import wandb\n",
    "wandb.init(settings=wandb.Settings(code_dir=PROJECT_DIR))\n",
    "\n",
    "# Our project imports\n",
    "from spearecode.utils.preprocessing_utils import (\n",
    "    load_from_txt_file, preprocess_shakespeare, save_to_txt_file, print_check_speare\n",
    ")\n",
    "from spearecode.utils.general_utils import (\n",
    "    tf_xla_jit, tf_set_memory_growth, seed_it_all, flatten_l_o_l, print_ln\n",
    ")\n",
    "from spearecode.utils.filtering_utils import (\n",
    "    save_ds_version, drop_str_from_col_names, pad_truncate_centered,\n",
    "    get_metadata_df, check_chunks, tokenize, get_n_tokens,\n",
    "    get_n_lines, get_n_chars\n",
    ")\n",
    "from spearecode.utils.tfrecord_utils import write_tfrecords, load_tfrecord_dataset\n",
    "\n",
    "\n",
    "### DEFINE PATHS --- [PROJECT_DIR=\"/home/paperspace/home/spearecode\"] --- ###\n",
    "NBS_PATH = os.path.join(PROJECT_DIR, \"nbs\")\n",
    "DATA_PATH = os.path.join(PROJECT_DIR, \"data\")\n",
    "SS_TEXT_PATH = os.path.join(DATA_PATH, \"t8.shakespeare.txt\")\n",
    "PREPROCESSED_FULL_TEXT_PATH = SS_TEXT_PATH.replace(\".txt\", \"_preprocessed.txt\")"
   ]
  },
  {
   "cell_type": "markdown",
   "id": "3975cca8-555a-4871-a41a-3ba37c72aa12",
   "metadata": {},
   "source": [
    "<br>\n",
    "\n",
    "<div align=\"center\">\n",
    "\n",
    "## 📚 Loading the Dataset <a name=\"loading-the-dataset\"></a>\n",
    "\n",
    "</div>\n",
    "\n",
    "<br>\n",
    "\n",
    "In this section, we'll import the dataset from a file or external source. The dataset will be read into memory, allowing us to manipulate and process the text as needed throughout the preprocessing steps.\n"
   ]
  },
  {
   "cell_type": "code",
   "execution_count": 36,
   "id": "1c7fa905-5791-48de-9933-bcd0fcfe95bc",
   "metadata": {},
   "outputs": [
    {
     "name": "stdout",
     "output_type": "stream",
     "text": [
      "\n",
      "... DATASET INFO:\n",
      "\tNUMBER OF CHARS --> 5,419,872\n",
      "\tNUMBER OF LINES --> 120,696\n",
      "\n",
      "\n",
      "... FIRST 1000 CHARACTERS:\n",
      "\n",
      "\n",
      "\n",
      "1\n",
      "  From fairest creatures we desire increase,\n",
      "  That thereby beauty's rose might never die,\n",
      "  But as the riper should by time decease,\n",
      "  His tender heir might bear his memory:\n",
      "  But thou contracted to thine own bright eyes,\n",
      "  Feed'st thy light's flame with self-substantial fuel,\n",
      "  Making a famine where abundance lies,\n",
      "  Thy self thy foe, to thy sweet self too cruel:\n",
      "  Thou that art now the world's fresh ornament,\n",
      "  And only herald to the gaudy spring,\n",
      "  Within thine own bud buriest thy content,\n",
      "  And tender churl mak'st waste in niggarding:\n",
      "    Pity the world, or else this glutton be,\n",
      "    To eat the world's due, by the grave and thee.\n",
      "\n",
      "2\n",
      "  When forty winters shall besiege thy brow,\n",
      "  And dig deep trenches in thy beauty's field,\n",
      "  Thy youth's proud livery so gazed on now,\n",
      "  Will be a tattered weed of small worth held:  \n",
      "  Then being asked, where all thy beauty lies,\n",
      "  Where all the treasure of thy lusty days;\n",
      "  To say within thine own deep sunken eyes,\n",
      "  Were an all-eating shame, and\n",
      "\n",
      "\n",
      "... LAST 1000 CHARACTERS:\n",
      "\n",
      "hite and swoon at tragic shows;\n",
      "\n",
      "  'That not a heart which in his level came\n",
      "  Could scape the hail of his all-hurting aim,\n",
      "  Showing fair nature is both kind and tame;\n",
      "  And, veiled in them, did win whom he would maim.\n",
      "  Against the thing he sought he would exclaim;\n",
      "  When he most burned in heart-wished luxury,\n",
      "  He preached pure maid and praised cold chastity.\n",
      "\n",
      "  'Thus merely with the garment of a Grace  \n",
      "  The naked and concealed fiend he covered,\n",
      "  That th' unexperient gave the tempter place,\n",
      "  Which, like a cherubin, above them hovered.\n",
      "  Who, young and simple, would not be so lovered?\n",
      "  Ay me, I fell, and yet do question make\n",
      "  What I should do again for such a sake.\n",
      "\n",
      "  'O, that infected moisture of his eye,\n",
      "  O, that false fire which in his cheek so glowed,\n",
      "  O, that forced thunder from his heart did fly,\n",
      "  O, that sad breath his spongy lungs bestowed,\n",
      "  O, all that borrowed motion, seeming owed,\n",
      "  Would yet again betray the fore-betrayed,\n",
      "  And new pervert a reconciled maid.'\n",
      "\n",
      "\n",
      "\n",
      "\n",
      "... RANDOM 1000 CHARACTERS:\n",
      "\n",
      "I seek (my weary travel's end)\n",
      "  Doth teach that case and that repose to say\n",
      "  'Thus far the miles are measured from thy friend.'\n",
      "  The beast that bears me, tired with my woe,\n",
      "  Plods dully on, to bear that weight in me,\n",
      "  As if by some instinct the wretch did know\n",
      "  His rider loved not speed being made from thee:\n",
      "  The bloody spur cannot provoke him on,\n",
      "  That sometimes anger thrusts into his hide,\n",
      "  Which heavily he answers with a groan,\n",
      "  More sharp to me than spurring to his side,\n",
      "    For that same groan doth put this in my mind,\n",
      "    My grief lies onward and my joy behind.\n",
      "\n",
      "51  \n",
      "  Thus can my love excuse the slow offence,\n",
      "  Of my dull bearer, when from thee I speed,\n",
      "  From where thou art, why should I haste me thence?\n",
      "  Till I return of posting is no need.\n",
      "  O what excuse will my poor beast then find,\n",
      "  When swift extremity can seem but slow?\n",
      "  Then should I spur though mounted on the wind,\n",
      "  In winged speed no motion shall I know,\n",
      "  Then can no horse with my desire keep pace,\n",
      "\n"
     ]
    }
   ],
   "source": [
    "raw_text = load_from_txt_file(SS_TEXT_PATH)\n",
    "ss_text = preprocess_shakespeare(raw_text)\n",
    "save_to_txt_file(ss_text, PREPROCESSED_FULL_TEXT_PATH)\n",
    "print_check_speare(ss_text)"
   ]
  },
  {
   "cell_type": "markdown",
   "id": "06ead5a1-5ce2-448f-83fd-7c38cd7ba060",
   "metadata": {},
   "source": [
    "<br>\n",
    "\n",
    "<div align=\"center\">\n",
    "\n",
    "## 📦 Chunking the Text <a name=\"chunking-the-text\"></a>\n",
    "\n",
    "</div>\n",
    "\n",
    "<br>\n",
    "\n",
    "Once the dataset is loaded, we'll divide it into smaller chunks or segments. This step is crucial for making the dataset more similar to code files (which is the type of data we will be using during the other parallel streams).\n",
    "\n",
    "I implement two simple methods:\n",
    "1. A basic double newline split **(`\\n\\n`)** resulting in 6294 chunks\n",
    "2. Using Langchain RecursiveTextSplitter to chunk to a particular text length\n",
    "    * This allows us to specify our desired text length and even overlap the chunks.\n",
    "        * Note we allow for a small amount of overlap and this may cause some leakage... but whatever.\n",
    "    * **We will use this method for our purposes.**\n",
    "    \n"
   ]
  },
  {
   "cell_type": "code",
   "execution_count": 37,
   "id": "1a8bb3c7-0144-4bb9-ba56-97e91893fae6",
   "metadata": {},
   "outputs": [],
   "source": [
    "def do_rcts_chunking(text, chunk_size=1280, chunk_overlap=428, length_fn=len):\n",
    "    \"\"\"\n",
    "    Perform Recursive Character Text Splitting (RCTS) chunking on the input text.\n",
    "    \n",
    "    Args:\n",
    "        text (str): The input text to be chunked.\n",
    "        chunk_size (int): The maximum size of each chunk.\n",
    "        chunk_overlap (int): The number of overlapping characters between adjacent chunks.\n",
    "        length_fn (callable, optional): Function to calculate the length of the text. Defaults to len.\n",
    "    \n",
    "    Returns:\n",
    "        list: A list of chunked text segments.\n",
    "    \"\"\"\n",
    "    # Import the RecursiveCharacterTextSplitter from langchain.text_splitter module\n",
    "    from langchain.text_splitter import RecursiveCharacterTextSplitter\n",
    "    \n",
    "    # Instantiate the text splitter with the specified parameters\n",
    "    text_splitter = RecursiveCharacterTextSplitter(\n",
    "        chunk_size=chunk_size,\n",
    "        chunk_overlap=chunk_overlap,\n",
    "        length_function=length_fn,\n",
    "    )\n",
    "    \n",
    "    # Split the input text into chunks\n",
    "    docs = text_splitter.create_documents([text])\n",
    "    \n",
    "    # Return the list of chunked text segments\n",
    "    return [x.page_content for x in docs if len(x.page_content)>1]\n",
    "\n",
    "def do_basic_chunking(text, chunk_delimeter=\"\\n\\n\", max_length=1800, min_length=600):\n",
    "    \"\"\"\n",
    "    Perform basic chunking on the input text using the specified delimiter.\n",
    "    \n",
    "    Args:\n",
    "        text (str): The input text to be chunked.\n",
    "        chunk_delimeter (str, optional): The delimiter used to split the text. Defaults to \"\\n\\n\".\n",
    "    \n",
    "    Returns:\n",
    "        list: A list of chunked text segments.\n",
    "    \"\"\"\n",
    "    # Split the input text based on the specified delimiter (ensure no empty chunks by stripping from ends)\n",
    "    raw_docs = text.strip(chunk_delimeter).split(chunk_delimeter)\n",
    "    tmp_docs = []\n",
    "    docs = []\n",
    "    \n",
    "    while len(raw_docs)>0:\n",
    "        doc = raw_docs.pop()\n",
    "        \n",
    "        if len(doc)>max_length:\n",
    "            raw_docs+=doc.split(\"\\n\")\n",
    "        elif len(doc)<min_length:\n",
    "            tmp_docs.append(doc)\n",
    "        else:\n",
    "            docs.append(doc)\n",
    "            \n",
    "        if len(\"\\n\".join(tmp_docs))>min_length:\n",
    "            docs.append(\"\\n\".join(tmp_docs))\n",
    "            tmp_docs = []\n",
    "    if tmp_docs:\n",
    "        docs.append(\"\\n\".join(tmp_docs))\n",
    "    \n",
    "    # Return the list of chunked text segments\n",
    "    return docs"
   ]
  },
  {
   "cell_type": "code",
   "execution_count": 38,
   "id": "14f23a54-67a5-4cf8-aa1a-e855b024faad",
   "metadata": {},
   "outputs": [
    {
     "name": "stdout",
     "output_type": "stream",
     "text": [
      "\n",
      "... FIRST BASIC CHUNK ...\n",
      "\n",
      "  'O, that infected moisture of his eye,\n",
      "  O, that false fire which in his cheek so glowed,\n",
      "  O, that forced thunder from his heart did fly,\n",
      "  O, that sad breath his spongy lungs bestowed,\n",
      "  O, all that borrowed motion, seeming owed,\n",
      "  Would yet again betray the fore-betrayed,\n",
      "  And new pervert a reconciled maid.'\n",
      "  'Thus merely with the garment of a Grace  \n",
      "  The naked and concealed fiend he covered,\n",
      "  That th' unexperient gave the tempter place,\n",
      "  Which, like a cherubin, above them hovered.\n",
      "  Who, young and simple, would not be so lovered?\n",
      "  Ay me, I fell, and yet do question make\n",
      "  What I should do again for such a sake.\n",
      "\n",
      "... FIRST RCTS CHUNK ...\n",
      "\n",
      "1\n",
      "  From fairest creatures we desire increase,\n",
      "  That thereby beauty's rose might never die,\n",
      "  But as the riper should by time decease,\n",
      "  His tender heir might bear his memory:\n",
      "  But thou contracted to thine own bright eyes,\n",
      "  Feed'st thy light's flame with self-substantial fuel,\n",
      "  Making a famine where abundance lies,\n",
      "  Thy self thy foe, to thy sweet self too cruel:\n",
      "  Thou that art now the world's fresh ornament,\n",
      "  And only herald to the gaudy spring,\n",
      "  Within thine own bud buriest thy content,\n",
      "  And tender churl mak'st waste in niggarding:\n",
      "    Pity the world, or else this glutton be,\n",
      "    To eat the world's due, by the grave and thee.\n",
      "\n",
      "... EXAMPLE RANDOM BASIC CHUNK ...\n",
      "\n",
      "  CARDINAL. That he should die is worthy policy;\n",
      "    To rid us from the fear we have of him.\n",
      "    This Gloucester should be quickly rid the world\n",
      "    And yet herein I judge mine own wit good-\n",
      "    Believe me, lords, were none more wise than I-\n",
      "    That for the beauty thinks it excellent.  \n",
      "    With shining checker'd slough, doth sting a child\n",
      "    Or as the snake, roll'd in a flow'ring bank,\n",
      "    With sorrow snares relenting passengers;\n",
      "    Beguiles him as the mournful crocodile\n",
      "    Too full of foolish pity; and Gloucester's show\n",
      "    Henry my lord is cold in great affairs,\n",
      "  QUEEN. Free lords, cold snow melts with the sun's hot beams:\n",
      "\n",
      "... EXAMPLE RANDOM RCTS CHUNK ...\n",
      "\n",
      "BALTHAZAR, a merchant\n",
      "ANGELO, a goldsmith\n",
      "FIRST MERCHANT, friend to Antipholus of Syracuse\n",
      "SECOND MERCHANT, to whom Angelo is a debtor\n",
      "PINCH, a schoolmaster\n",
      "\n",
      "AEMILIA, wife to AEgeon; an abbess at Ephesus\n",
      "ADRIANA, wife to Antipholus of Ephesus\n",
      "LUCIANA, her sister\n",
      "LUCE, servant to Adriana\n",
      "\n",
      "A COURTEZAN\n",
      "\n",
      "Gaoler, Officers, Attendants\n",
      "\n",
      "\n",
      "\n",
      "SCENE:\n",
      "Ephesus\n",
      "\n",
      "  THIS ELECTRONIC VERSION OF THE COMPLETE WORKS OF WILLIAM\n",
      "SHAKESPEARE IS COPYRIGHT 1990-1993 BY WORLD LIBRARY, INC., AND IS\n",
      "PROVIDED BY PROJECT GUTENBERG ETEXT OF ILLINOIS BENEDICTINE COLLEGE\n",
      "WITH PERMISSION.  ELECTRONIC AND MACHINE READABLE COPIES MAY BE\n",
      "DISTRIBUTED SO LONG AS SUCH COPIES (1) ARE FOR YOUR OR OTHERS\n",
      "PERSONAL USE ONLY, AND (2) ARE NOT DISTRIBUTED OR USED\n",
      "COMMERCIALLY.  PROHIBITED COMMERCIAL DISTRIBUTION INCLUDES BY ANY\n",
      "SERVICE THAT CHARGES FOR DOWNLOAD TIME OR FOR MEMBERSHIP.>>\n",
      "\n",
      "THE COMEDY OF ERRORS\n",
      "\n",
      "ACT I. SCENE 1\n",
      "\n",
      "A hall in the DUKE'S palace\n",
      "\n",
      "Enter the DUKE OF EPHESUS, AEGEON, the Merchant\n",
      "of Syracuse, GAOLER, OFFICERS, and other ATTENDANTS\n",
      "\n",
      "... LAST BASIC CHUNK ...\n",
      "\n",
      "1\n",
      "  From fairest creatures we desire increase,\n",
      "  That thereby beauty's rose might never die,\n",
      "  But as the riper should by time decease,\n",
      "  His tender heir might bear his memory:\n",
      "  But thou contracted to thine own bright eyes,\n",
      "  Feed'st thy light's flame with self-substantial fuel,\n",
      "  Making a famine where abundance lies,\n",
      "  Thy self thy foe, to thy sweet self too cruel:\n",
      "  Thou that art now the world's fresh ornament,\n",
      "  And only herald to the gaudy spring,\n",
      "  Within thine own bud buriest thy content,\n",
      "  And tender churl mak'st waste in niggarding:\n",
      "    Pity the world, or else this glutton be,\n",
      "    To eat the world's due, by the grave and thee.\n",
      "\n",
      "... LAST RCTS CHUNK ...\n",
      "\n",
      "'That not a heart which in his level came\n",
      "  Could scape the hail of his all-hurting aim,\n",
      "  Showing fair nature is both kind and tame;\n",
      "  And, veiled in them, did win whom he would maim.\n",
      "  Against the thing he sought he would exclaim;\n",
      "  When he most burned in heart-wished luxury,\n",
      "  He preached pure maid and praised cold chastity.\n",
      "\n",
      "  'Thus merely with the garment of a Grace  \n",
      "  The naked and concealed fiend he covered,\n",
      "  That th' unexperient gave the tempter place,\n",
      "  Which, like a cherubin, above them hovered.\n",
      "  Who, young and simple, would not be so lovered?\n",
      "  Ay me, I fell, and yet do question make\n",
      "  What I should do again for such a sake.\n",
      "\n",
      "  'O, that infected moisture of his eye,\n",
      "  O, that false fire which in his cheek so glowed,\n",
      "  O, that forced thunder from his heart did fly,\n",
      "  O, that sad breath his spongy lungs bestowed,\n",
      "  O, all that borrowed motion, seeming owed,\n",
      "  Would yet again betray the fore-betrayed,\n",
      "  And new pervert a reconciled maid.'\n"
     ]
    },
    {
     "name": "stderr",
     "output_type": "stream",
     "text": [
      "wandb: Network error (ReadTimeout), entering retry loop.\n"
     ]
    }
   ],
   "source": [
    "# Feel free to pass non-default kwargs \n",
    "#    -- otherwise the rcts chunks will overlap by 64 and be 512 characters long\n",
    "CHUNK_STYLE = \"rcts\" # one of ['basic' | 'rcts']\n",
    "basic_chunks = do_basic_chunking(ss_text)\n",
    "rcts_chunks = do_rcts_chunking(ss_text)\n",
    "\n",
    "print(\"\\n... FIRST BASIC CHUNK ...\\n\")\n",
    "print(basic_chunks[0])\n",
    "\n",
    "print(\"\\n... FIRST RCTS CHUNK ...\\n\")\n",
    "print(rcts_chunks[0])\n",
    "\n",
    "print(\"\\n... EXAMPLE RANDOM BASIC CHUNK ...\\n\")\n",
    "print(random.sample(basic_chunks, 1)[0])\n",
    "\n",
    "print(\"\\n... EXAMPLE RANDOM RCTS CHUNK ...\\n\")\n",
    "print(random.sample(rcts_chunks, 1)[0])\n",
    "\n",
    "print(\"\\n... LAST BASIC CHUNK ...\\n\")\n",
    "print(basic_chunks[-1])\n",
    "\n",
    "print(\"\\n... LAST RCTS CHUNK ...\\n\")\n",
    "print(rcts_chunks[-1])\n"
   ]
  },
  {
   "cell_type": "markdown",
   "id": "57026a1f-c7b1-4d04-892b-0f8505b94ff8",
   "metadata": {},
   "source": [
    "<br>\n",
    "\n",
    "<div align=\"center\">\n",
    "\n",
    "## 💬 Tokenization <a name=\"tokenization\"></a>\n",
    "\n",
    "</div>\n",
    "\n",
    "<br>\n",
    "\n",
    "In this section, we'll tokenize the text, which involves splitting the chunks into individual tokens (words or subwords). Tokenization is an essential step in preprocessing, as it helps the Language Model understand the basic units of the text and learn meaningful patterns.\n",
    "\n",
    "* We will train our tokenizer on the non-chunked dataset (after basic preprocessing), however, we will \n"
   ]
  },
  {
   "cell_type": "code",
   "execution_count": 42,
   "id": "4517b50e-c416-408b-8480-61ffb558f310",
   "metadata": {},
   "outputs": [],
   "source": [
    "# Setup model directory if not already setup\n",
    "MODEL_DIR = os.path.join(os.path.dirname(DATA_PATH), \"models\")\n",
    "if not os.path.isdir(MODEL_DIR): os.makedirs(MODEL_DIR, exist_ok=True)\n",
    "\n",
    "# User defined parameters (matching alphafold and code tokenization standards)\n",
    "MODEL_PATH = os.path.join(MODEL_DIR, 'spearecode')\n",
    "USER_DEFINED_SYMBOLS = [\"[MASK]\", \"[NL]\"] # mask and newline replacement\n",
    "VOCAB_SIZE = 8_000\n",
    "CHAR_COVERAGE = 1.0000\n",
    "\n",
    "# If using CLS token\n",
    "PREPEND_CLS = False\n",
    "if PREPEND_CLS: USER_DEFINED_SYMBOLS.append([\"CLS\"])\n",
    "\n",
    "\n",
    "# Tokenizer parameters (and some defaults)\n",
    "base_tokenizer_kwargs = dict(\n",
    "    input = PREPROCESSED_FULL_TEXT_PATH,\n",
    "    vocab_size=VOCAB_SIZE,\n",
    "    character_coverage=CHAR_COVERAGE,\n",
    "    pad_id=0, unk_id=1, bos_id=2, eos_id=3,\n",
    "    remove_extra_whitespaces=False,\n",
    "    allow_whitespace_only_pieces=True,\n",
    "    add_dummy_prefix=False,\n",
    "    user_defined_symbols=USER_DEFINED_SYMBOLS,\n",
    "    normalization_rule_name=\"identity\",\n",
    "    num_threads=os.cpu_count(),\n",
    "    minloglevel=2,\n",
    ")\n",
    "\n",
    "unigram_tokenizer_kwargs = base_tokenizer_kwargs.copy()\n",
    "unigram_tokenizer_kwargs.update(dict(\n",
    "    model_prefix=MODEL_PATH+\"_uni\",\n",
    "    model_type=\"unigram\",\n",
    "))\n",
    "\n",
    "bpe_tokenizer_kwargs = base_tokenizer_kwargs.copy()\n",
    "bpe_tokenizer_kwargs.update(dict(\n",
    "    model_prefix=MODEL_PATH+\"_bpe\",\n",
    "    model_type=\"bpe\",\n",
    "))\n",
    "\n",
    "# train_tokenizer(ALL_TXT_PATHS, MODEL_PATH, VOCAB_SIZE, TOKENIZER_STYLE)\n",
    "spm.SentencePieceTrainer.Train(**unigram_tokenizer_kwargs)\n",
    "spm.SentencePieceTrainer.Train(**bpe_tokenizer_kwargs)\n",
    "\n",
    "sp_uni = spm.SentencePieceProcessor()\n",
    "sp_uni.load(f'{unigram_tokenizer_kwargs[\"model_prefix\"]}.model')\n",
    "uni_encoder = lambda x: sp_uni.encode(x.replace(\"\\n\", \"[NL]\"))\n",
    "uni_decoder = lambda x: sp_uni.decode(x).replace(\"[NL]\", \"\\n\")\n",
    "\n",
    "sp_bpe = spm.SentencePieceProcessor()\n",
    "sp_bpe.load(f'{bpe_tokenizer_kwargs[\"model_prefix\"]}.model')\n",
    "bpe_encoder = lambda x: sp_bpe.encode(x.replace(\"\\n\", \"[NL]\"))\n",
    "bpe_decoder = lambda x: sp_bpe.decode(x).replace(\"[NL]\", \"\\n\")"
   ]
  },
  {
   "cell_type": "code",
   "execution_count": 45,
   "id": "9039baa8-358d-4f36-b045-b86b9f6d5743",
   "metadata": {},
   "outputs": [
    {
     "name": "stdout",
     "output_type": "stream",
     "text": [
      "\n",
      "... BPE TOKENIZATION:\n"
     ]
    },
    {
     "data": {
      "text/html": [
       "<style>span.token {font-family: Courier New; font-size: 1.1em; font-weight: 300; padding: 0px; margin-right: 0px; border-color: rgba(0, 0, 0, 0.05); border-style: ridge; border-radius: 0px;}</style><div style='background-color: #FBFBFB; line-height: 175%; padding: 25px; border-radius: 8px; margin-left: 10px; margin-right: 10px; margin-top: 20px; margin-bottom: 20px; overflow-x: auto; white-space: nowrap;'><span class='token' style='background-color: rgba(179, 226, 205, 0.675);'>1</span><span class='token' style='background-color: rgba(253, 205, 172, 0.675);'><br></span><span class='token' style='background-color: rgba(179, 226, 205, 0.675);'>&nbsp;&nbsp;</span><span class='token' style='background-color: rgba(253, 205, 172, 0.675);'>From</span><span class='token' style='background-color: rgba(203, 213, 232, 0.675);'>&nbsp;fairest</span><span class='token' style='background-color: rgba(244, 202, 228, 0.675);'>&nbsp;creatures</span><span class='token' style='background-color: rgba(230, 245, 201, 0.675);'>&nbsp;we</span><span class='token' style='background-color: rgba(255, 242, 174, 0.675);'>&nbsp;desire</span><span class='token' style='background-color: rgba(241, 226, 204, 0.675);'>&nbsp;increase</span><span class='token' style='background-color: rgba(204, 204, 204, 0.675);'>,</span><span class='token' style='background-color: rgba(179, 226, 205, 0.675);'><br></span><span class='token' style='background-color: rgba(179, 226, 205, 0.675);'>&nbsp;&nbsp;</span><span class='token' style='background-color: rgba(253, 205, 172, 0.675);'>That</span><span class='token' style='background-color: rgba(203, 213, 232, 0.675);'>&nbsp;thereby</span><span class='token' style='background-color: rgba(244, 202, 228, 0.675);'>&nbsp;beauty</span><span class='token' style='background-color: rgba(230, 245, 201, 0.675);'>'</span><span class='token' style='background-color: rgba(255, 242, 174, 0.675);'>s</span><span class='token' style='background-color: rgba(241, 226, 204, 0.675);'>&nbsp;rose</span><span class='token' style='background-color: rgba(204, 204, 204, 0.675);'>&nbsp;might</span><span class='token' style='background-color: rgba(179, 226, 205, 0.675);'>&nbsp;never</span><span class='token' style='background-color: rgba(253, 205, 172, 0.675);'>&nbsp;die</span><span class='token' style='background-color: rgba(203, 213, 232, 0.675);'>,</span><span class='token' style='background-color: rgba(244, 202, 228, 0.675);'><br></span><span class='token' style='background-color: rgba(179, 226, 205, 0.675);'>&nbsp;&nbsp;</span><span class='token' style='background-color: rgba(253, 205, 172, 0.675);'>But</span><span class='token' style='background-color: rgba(203, 213, 232, 0.675);'>&nbsp;as</span><span class='token' style='background-color: rgba(244, 202, 228, 0.675);'>&nbsp;the</span><span class='token' style='background-color: rgba(230, 245, 201, 0.675);'>&nbsp;ri</span><span class='token' style='background-color: rgba(255, 242, 174, 0.675);'>per</span><span class='token' style='background-color: rgba(241, 226, 204, 0.675);'>&nbsp;should</span><span class='token' style='background-color: rgba(204, 204, 204, 0.675);'>&nbsp;by</span><span class='token' style='background-color: rgba(179, 226, 205, 0.675);'>&nbsp;time</span><span class='token' style='background-color: rgba(253, 205, 172, 0.675);'>&nbsp;dece</span><span class='token' style='background-color: rgba(203, 213, 232, 0.675);'>ase</span><span class='token' style='background-color: rgba(244, 202, 228, 0.675);'>,</span><span class='token' style='background-color: rgba(230, 245, 201, 0.675);'><br></span><span class='token' style='background-color: rgba(179, 226, 205, 0.675);'>&nbsp;&nbsp;</span><span class='token' style='background-color: rgba(253, 205, 172, 0.675);'>His</span><span class='token' style='background-color: rgba(203, 213, 232, 0.675);'>&nbsp;tender</span><span class='token' style='background-color: rgba(244, 202, 228, 0.675);'>&nbsp;heir</span><span class='token' style='background-color: rgba(230, 245, 201, 0.675);'>&nbsp;might</span><span class='token' style='background-color: rgba(255, 242, 174, 0.675);'>&nbsp;bear</span><span class='token' style='background-color: rgba(241, 226, 204, 0.675);'>&nbsp;his</span><span class='token' style='background-color: rgba(204, 204, 204, 0.675);'>&nbsp;memory</span><span class='token' style='background-color: rgba(179, 226, 205, 0.675);'>:</span><span class='token' style='background-color: rgba(253, 205, 172, 0.675);'><br></span><span class='token' style='background-color: rgba(179, 226, 205, 0.675);'>&nbsp;&nbsp;</span><span class='token' style='background-color: rgba(253, 205, 172, 0.675);'>But</span><span class='token' style='background-color: rgba(203, 213, 232, 0.675);'>&nbsp;thou</span><span class='token' style='background-color: rgba(244, 202, 228, 0.675);'>&nbsp;cont</span><span class='token' style='background-color: rgba(230, 245, 201, 0.675);'>ra</span><span class='token' style='background-color: rgba(255, 242, 174, 0.675);'>cted</span><span class='token' style='background-color: rgba(241, 226, 204, 0.675);'>&nbsp;to</span><span class='token' style='background-color: rgba(204, 204, 204, 0.675);'>&nbsp;thine</span><span class='token' style='background-color: rgba(179, 226, 205, 0.675);'>&nbsp;own</span><span class='token' style='background-color: rgba(253, 205, 172, 0.675);'>&nbsp;bright</span><span class='token' style='background-color: rgba(203, 213, 232, 0.675);'>&nbsp;eyes</span><span class='token' style='background-color: rgba(244, 202, 228, 0.675);'>,</span><span class='token' style='background-color: rgba(230, 245, 201, 0.675);'><br></span><span class='token' style='background-color: rgba(179, 226, 205, 0.675);'>&nbsp;&nbsp;</span><span class='token' style='background-color: rgba(253, 205, 172, 0.675);'>F</span><span class='token' style='background-color: rgba(203, 213, 232, 0.675);'>eed</span><span class='token' style='background-color: rgba(244, 202, 228, 0.675);'>'</span><span class='token' style='background-color: rgba(230, 245, 201, 0.675);'>st</span><span class='token' style='background-color: rgba(255, 242, 174, 0.675);'>&nbsp;thy</span><span class='token' style='background-color: rgba(241, 226, 204, 0.675);'>&nbsp;light</span><span class='token' style='background-color: rgba(204, 204, 204, 0.675);'>'</span><span class='token' style='background-color: rgba(179, 226, 205, 0.675);'>s</span><span class='token' style='background-color: rgba(253, 205, 172, 0.675);'>&nbsp;flame</span><span class='token' style='background-color: rgba(203, 213, 232, 0.675);'>&nbsp;with</span><span class='token' style='background-color: rgba(244, 202, 228, 0.675);'>&nbsp;self</span><span class='token' style='background-color: rgba(230, 245, 201, 0.675);'>-</span><span class='token' style='background-color: rgba(255, 242, 174, 0.675);'>s</span><span class='token' style='background-color: rgba(241, 226, 204, 0.675);'>ub</span><span class='token' style='background-color: rgba(204, 204, 204, 0.675);'>stant</span><span class='token' style='background-color: rgba(179, 226, 205, 0.675);'>ial</span><span class='token' style='background-color: rgba(253, 205, 172, 0.675);'>&nbsp;f</span><span class='token' style='background-color: rgba(203, 213, 232, 0.675);'>u</span><span class='token' style='background-color: rgba(244, 202, 228, 0.675);'>el</span><span class='token' style='background-color: rgba(230, 245, 201, 0.675);'>,</span><span class='token' style='background-color: rgba(255, 242, 174, 0.675);'><br></span><span class='token' style='background-color: rgba(179, 226, 205, 0.675);'>&nbsp;&nbsp;</span><span class='token' style='background-color: rgba(253, 205, 172, 0.675);'>Making</span><span class='token' style='background-color: rgba(203, 213, 232, 0.675);'>&nbsp;a</span><span class='token' style='background-color: rgba(244, 202, 228, 0.675);'>&nbsp;fam</span><span class='token' style='background-color: rgba(230, 245, 201, 0.675);'>ine</span><span class='token' style='background-color: rgba(255, 242, 174, 0.675);'>&nbsp;where</span><span class='token' style='background-color: rgba(241, 226, 204, 0.675);'>&nbsp;ab</span><span class='token' style='background-color: rgba(204, 204, 204, 0.675);'>und</span><span class='token' style='background-color: rgba(179, 226, 205, 0.675);'>ance</span><span class='token' style='background-color: rgba(253, 205, 172, 0.675);'>&nbsp;lies</span><span class='token' style='background-color: rgba(203, 213, 232, 0.675);'>,</span><span class='token' style='background-color: rgba(244, 202, 228, 0.675);'><br></span><span class='token' style='background-color: rgba(179, 226, 205, 0.675);'>&nbsp;&nbsp;</span><span class='token' style='background-color: rgba(253, 205, 172, 0.675);'>Thy</span><span class='token' style='background-color: rgba(203, 213, 232, 0.675);'>&nbsp;self</span><span class='token' style='background-color: rgba(244, 202, 228, 0.675);'>&nbsp;thy</span><span class='token' style='background-color: rgba(230, 245, 201, 0.675);'>&nbsp;foe</span><span class='token' style='background-color: rgba(255, 242, 174, 0.675);'>,</span><span class='token' style='background-color: rgba(241, 226, 204, 0.675);'>&nbsp;to</span><span class='token' style='background-color: rgba(204, 204, 204, 0.675);'>&nbsp;thy</span><span class='token' style='background-color: rgba(179, 226, 205, 0.675);'>&nbsp;sweet</span><span class='token' style='background-color: rgba(253, 205, 172, 0.675);'>&nbsp;self</span><span class='token' style='background-color: rgba(203, 213, 232, 0.675);'>&nbsp;too</span><span class='token' style='background-color: rgba(244, 202, 228, 0.675);'>&nbsp;cruel</span><span class='token' style='background-color: rgba(230, 245, 201, 0.675);'>:</span><span class='token' style='background-color: rgba(255, 242, 174, 0.675);'><br></span><span class='token' style='background-color: rgba(179, 226, 205, 0.675);'>&nbsp;&nbsp;</span><span class='token' style='background-color: rgba(253, 205, 172, 0.675);'>Thou</span><span class='token' style='background-color: rgba(203, 213, 232, 0.675);'>&nbsp;that</span><span class='token' style='background-color: rgba(244, 202, 228, 0.675);'>&nbsp;art</span><span class='token' style='background-color: rgba(230, 245, 201, 0.675);'>&nbsp;now</span><span class='token' style='background-color: rgba(255, 242, 174, 0.675);'>&nbsp;the</span><span class='token' style='background-color: rgba(241, 226, 204, 0.675);'>&nbsp;world</span><span class='token' style='background-color: rgba(204, 204, 204, 0.675);'>'</span><span class='token' style='background-color: rgba(179, 226, 205, 0.675);'>s</span><span class='token' style='background-color: rgba(253, 205, 172, 0.675);'>&nbsp;fresh</span><span class='token' style='background-color: rgba(203, 213, 232, 0.675);'>&nbsp;orn</span><span class='token' style='background-color: rgba(244, 202, 228, 0.675);'>ament</span><span class='token' style='background-color: rgba(230, 245, 201, 0.675);'>,</span><span class='token' style='background-color: rgba(255, 242, 174, 0.675);'><br></span><span class='token' style='background-color: rgba(179, 226, 205, 0.675);'>&nbsp;&nbsp;</span><span class='token' style='background-color: rgba(253, 205, 172, 0.675);'>And</span><span class='token' style='background-color: rgba(203, 213, 232, 0.675);'>&nbsp;only</span><span class='token' style='background-color: rgba(244, 202, 228, 0.675);'>&nbsp;herald</span><span class='token' style='background-color: rgba(230, 245, 201, 0.675);'>&nbsp;to</span><span class='token' style='background-color: rgba(255, 242, 174, 0.675);'>&nbsp;the</span><span class='token' style='background-color: rgba(241, 226, 204, 0.675);'>&nbsp;g</span><span class='token' style='background-color: rgba(204, 204, 204, 0.675);'>aud</span><span class='token' style='background-color: rgba(179, 226, 205, 0.675);'>y</span><span class='token' style='background-color: rgba(253, 205, 172, 0.675);'>&nbsp;spring</span><span class='token' style='background-color: rgba(203, 213, 232, 0.675);'>,</span><span class='token' style='background-color: rgba(244, 202, 228, 0.675);'><br></span><span class='token' style='background-color: rgba(179, 226, 205, 0.675);'>&nbsp;&nbsp;</span><span class='token' style='background-color: rgba(253, 205, 172, 0.675);'>Within</span><span class='token' style='background-color: rgba(203, 213, 232, 0.675);'>&nbsp;thine</span><span class='token' style='background-color: rgba(244, 202, 228, 0.675);'>&nbsp;own</span><span class='token' style='background-color: rgba(230, 245, 201, 0.675);'>&nbsp;bud</span><span class='token' style='background-color: rgba(255, 242, 174, 0.675);'>&nbsp;bu</span><span class='token' style='background-color: rgba(241, 226, 204, 0.675);'>ri</span><span class='token' style='background-color: rgba(204, 204, 204, 0.675);'>est</span><span class='token' style='background-color: rgba(179, 226, 205, 0.675);'>&nbsp;thy</span><span class='token' style='background-color: rgba(253, 205, 172, 0.675);'>&nbsp;content</span><span class='token' style='background-color: rgba(203, 213, 232, 0.675);'>,</span><span class='token' style='background-color: rgba(244, 202, 228, 0.675);'><br></span><span class='token' style='background-color: rgba(179, 226, 205, 0.675);'>&nbsp;&nbsp;</span><span class='token' style='background-color: rgba(253, 205, 172, 0.675);'>And</span><span class='token' style='background-color: rgba(203, 213, 232, 0.675);'>&nbsp;tender</span><span class='token' style='background-color: rgba(244, 202, 228, 0.675);'>&nbsp;chur</span><span class='token' style='background-color: rgba(230, 245, 201, 0.675);'>l</span><span class='token' style='background-color: rgba(255, 242, 174, 0.675);'>&nbsp;mak</span><span class='token' style='background-color: rgba(241, 226, 204, 0.675);'>'</span><span class='token' style='background-color: rgba(204, 204, 204, 0.675);'>st</span><span class='token' style='background-color: rgba(179, 226, 205, 0.675);'>&nbsp;waste</span><span class='token' style='background-color: rgba(253, 205, 172, 0.675);'>&nbsp;in</span><span class='token' style='background-color: rgba(203, 213, 232, 0.675);'>&nbsp;n</span><span class='token' style='background-color: rgba(244, 202, 228, 0.675);'>ig</span><span class='token' style='background-color: rgba(230, 245, 201, 0.675);'>g</span><span class='token' style='background-color: rgba(255, 242, 174, 0.675);'>ard</span><span class='token' style='background-color: rgba(241, 226, 204, 0.675);'>ing</span><span class='token' style='background-color: rgba(204, 204, 204, 0.675);'>:</span><span class='token' style='background-color: rgba(179, 226, 205, 0.675);'><br></span><span class='token' style='background-color: rgba(179, 226, 205, 0.675);'>&nbsp;&nbsp;&nbsp;&nbsp;</span><span class='token' style='background-color: rgba(253, 205, 172, 0.675);'>P</span><span class='token' style='background-color: rgba(203, 213, 232, 0.675);'>ity</span><span class='token' style='background-color: rgba(244, 202, 228, 0.675);'>&nbsp;the</span><span class='token' style='background-color: rgba(230, 245, 201, 0.675);'>&nbsp;world</span><span class='token' style='background-color: rgba(255, 242, 174, 0.675);'>,</span><span class='token' style='background-color: rgba(241, 226, 204, 0.675);'>&nbsp;or</span><span class='token' style='background-color: rgba(204, 204, 204, 0.675);'>&nbsp;else</span><span class='token' style='background-color: rgba(179, 226, 205, 0.675);'>&nbsp;this</span><span class='token' style='background-color: rgba(253, 205, 172, 0.675);'>&nbsp;gl</span><span class='token' style='background-color: rgba(203, 213, 232, 0.675);'>ut</span><span class='token' style='background-color: rgba(244, 202, 228, 0.675);'>ton</span><span class='token' style='background-color: rgba(230, 245, 201, 0.675);'>&nbsp;be</span><span class='token' style='background-color: rgba(255, 242, 174, 0.675);'>,</span><span class='token' style='background-color: rgba(241, 226, 204, 0.675);'><br></span><span class='token' style='background-color: rgba(179, 226, 205, 0.675);'>&nbsp;&nbsp;&nbsp;&nbsp;</span><span class='token' style='background-color: rgba(253, 205, 172, 0.675);'>To</span><span class='token' style='background-color: rgba(203, 213, 232, 0.675);'>&nbsp;eat</span><span class='token' style='background-color: rgba(244, 202, 228, 0.675);'>&nbsp;the</span><span class='token' style='background-color: rgba(230, 245, 201, 0.675);'>&nbsp;world</span><span class='token' style='background-color: rgba(255, 242, 174, 0.675);'>'</span><span class='token' style='background-color: rgba(241, 226, 204, 0.675);'>s</span><span class='token' style='background-color: rgba(204, 204, 204, 0.675);'>&nbsp;due</span><span class='token' style='background-color: rgba(179, 226, 205, 0.675);'>,</span><span class='token' style='background-color: rgba(253, 205, 172, 0.675);'>&nbsp;by</span><span class='token' style='background-color: rgba(203, 213, 232, 0.675);'>&nbsp;the</span><span class='token' style='background-color: rgba(244, 202, 228, 0.675);'>&nbsp;grave</span><span class='token' style='background-color: rgba(230, 245, 201, 0.675);'>&nbsp;and</span><span class='token' style='background-color: rgba(255, 242, 174, 0.675);'>&nbsp;thee</span><span class='token' style='background-color: rgba(241, 226, 204, 0.675);'>.</span><span class='token' style='background-color: rgba(204, 204, 204, 0.675);'><br></span></div>"
      ],
      "text/plain": [
       "<IPython.core.display.HTML object>"
      ]
     },
     "metadata": {},
     "output_type": "display_data"
    },
    {
     "name": "stdout",
     "output_type": "stream",
     "text": [
      "\n",
      "... UNIGRAM TOKENIZATION:\n"
     ]
    },
    {
     "data": {
      "text/html": [
       "<style>span.token {font-family: Courier New; font-size: 1.1em; font-weight: 300; padding: 0px; margin-right: 0px; border-color: rgba(0, 0, 0, 0.05); border-style: ridge; border-radius: 0px;}</style><div style='background-color: #FBFBFB; line-height: 175%; padding: 25px; border-radius: 8px; margin-left: 10px; margin-right: 10px; margin-top: 20px; margin-bottom: 20px; overflow-x: auto; white-space: nowrap;'><span class='token' style='background-color: rgba(179, 226, 205, 0.675);'>1</span><span class='token' style='background-color: rgba(253, 205, 172, 0.675);'><br></span><span class='token' style='background-color: rgba(179, 226, 205, 0.675);'>&nbsp;</span><span class='token' style='background-color: rgba(253, 205, 172, 0.675);'>&nbsp;F</span><span class='token' style='background-color: rgba(203, 213, 232, 0.675);'>rom</span><span class='token' style='background-color: rgba(244, 202, 228, 0.675);'>&nbsp;fairest</span><span class='token' style='background-color: rgba(230, 245, 201, 0.675);'>&nbsp;creatures</span><span class='token' style='background-color: rgba(255, 242, 174, 0.675);'>&nbsp;we</span><span class='token' style='background-color: rgba(241, 226, 204, 0.675);'>&nbsp;desire</span><span class='token' style='background-color: rgba(204, 204, 204, 0.675);'>&nbsp;increase</span><span class='token' style='background-color: rgba(179, 226, 205, 0.675);'>,</span><span class='token' style='background-color: rgba(253, 205, 172, 0.675);'><br></span><span class='token' style='background-color: rgba(179, 226, 205, 0.675);'>&nbsp;</span><span class='token' style='background-color: rgba(253, 205, 172, 0.675);'>&nbsp;That</span><span class='token' style='background-color: rgba(203, 213, 232, 0.675);'>&nbsp;thereby</span><span class='token' style='background-color: rgba(244, 202, 228, 0.675);'>&nbsp;beauty</span><span class='token' style='background-color: rgba(230, 245, 201, 0.675);'>'</span><span class='token' style='background-color: rgba(255, 242, 174, 0.675);'>s</span><span class='token' style='background-color: rgba(241, 226, 204, 0.675);'>&nbsp;rose</span><span class='token' style='background-color: rgba(204, 204, 204, 0.675);'>&nbsp;might</span><span class='token' style='background-color: rgba(179, 226, 205, 0.675);'>&nbsp;never</span><span class='token' style='background-color: rgba(253, 205, 172, 0.675);'>&nbsp;die</span><span class='token' style='background-color: rgba(203, 213, 232, 0.675);'>,</span><span class='token' style='background-color: rgba(244, 202, 228, 0.675);'><br></span><span class='token' style='background-color: rgba(179, 226, 205, 0.675);'>&nbsp;</span><span class='token' style='background-color: rgba(253, 205, 172, 0.675);'>&nbsp;But</span><span class='token' style='background-color: rgba(203, 213, 232, 0.675);'>&nbsp;as</span><span class='token' style='background-color: rgba(244, 202, 228, 0.675);'>&nbsp;the</span><span class='token' style='background-color: rgba(230, 245, 201, 0.675);'>&nbsp;ripe</span><span class='token' style='background-color: rgba(255, 242, 174, 0.675);'>r</span><span class='token' style='background-color: rgba(241, 226, 204, 0.675);'>&nbsp;should</span><span class='token' style='background-color: rgba(204, 204, 204, 0.675);'>&nbsp;by</span><span class='token' style='background-color: rgba(179, 226, 205, 0.675);'>&nbsp;time</span><span class='token' style='background-color: rgba(253, 205, 172, 0.675);'>&nbsp;deceas</span><span class='token' style='background-color: rgba(203, 213, 232, 0.675);'>e</span><span class='token' style='background-color: rgba(244, 202, 228, 0.675);'>,</span><span class='token' style='background-color: rgba(230, 245, 201, 0.675);'><br></span><span class='token' style='background-color: rgba(179, 226, 205, 0.675);'>&nbsp;</span><span class='token' style='background-color: rgba(253, 205, 172, 0.675);'>&nbsp;His</span><span class='token' style='background-color: rgba(203, 213, 232, 0.675);'>&nbsp;tender</span><span class='token' style='background-color: rgba(244, 202, 228, 0.675);'>&nbsp;heir</span><span class='token' style='background-color: rgba(230, 245, 201, 0.675);'>&nbsp;might</span><span class='token' style='background-color: rgba(255, 242, 174, 0.675);'>&nbsp;bear</span><span class='token' style='background-color: rgba(241, 226, 204, 0.675);'>&nbsp;his</span><span class='token' style='background-color: rgba(204, 204, 204, 0.675);'>&nbsp;memory</span><span class='token' style='background-color: rgba(179, 226, 205, 0.675);'>:</span><span class='token' style='background-color: rgba(253, 205, 172, 0.675);'><br></span><span class='token' style='background-color: rgba(179, 226, 205, 0.675);'>&nbsp;</span><span class='token' style='background-color: rgba(253, 205, 172, 0.675);'>&nbsp;But</span><span class='token' style='background-color: rgba(203, 213, 232, 0.675);'>&nbsp;thou</span><span class='token' style='background-color: rgba(244, 202, 228, 0.675);'>&nbsp;contract</span><span class='token' style='background-color: rgba(230, 245, 201, 0.675);'>ed</span><span class='token' style='background-color: rgba(255, 242, 174, 0.675);'>&nbsp;to</span><span class='token' style='background-color: rgba(241, 226, 204, 0.675);'>&nbsp;thine</span><span class='token' style='background-color: rgba(204, 204, 204, 0.675);'>&nbsp;own</span><span class='token' style='background-color: rgba(179, 226, 205, 0.675);'>&nbsp;bright</span><span class='token' style='background-color: rgba(253, 205, 172, 0.675);'>&nbsp;eyes</span><span class='token' style='background-color: rgba(203, 213, 232, 0.675);'>,</span><span class='token' style='background-color: rgba(244, 202, 228, 0.675);'><br></span><span class='token' style='background-color: rgba(179, 226, 205, 0.675);'>&nbsp;</span><span class='token' style='background-color: rgba(253, 205, 172, 0.675);'>&nbsp;Feed</span><span class='token' style='background-color: rgba(203, 213, 232, 0.675);'>'</span><span class='token' style='background-color: rgba(244, 202, 228, 0.675);'>st</span><span class='token' style='background-color: rgba(230, 245, 201, 0.675);'>&nbsp;thy</span><span class='token' style='background-color: rgba(255, 242, 174, 0.675);'>&nbsp;light</span><span class='token' style='background-color: rgba(241, 226, 204, 0.675);'>'</span><span class='token' style='background-color: rgba(204, 204, 204, 0.675);'>s</span><span class='token' style='background-color: rgba(179, 226, 205, 0.675);'>&nbsp;flame</span><span class='token' style='background-color: rgba(253, 205, 172, 0.675);'>&nbsp;with</span><span class='token' style='background-color: rgba(203, 213, 232, 0.675);'>&nbsp;self</span><span class='token' style='background-color: rgba(244, 202, 228, 0.675);'>-</span><span class='token' style='background-color: rgba(230, 245, 201, 0.675);'>substantial</span><span class='token' style='background-color: rgba(255, 242, 174, 0.675);'>&nbsp;f</span><span class='token' style='background-color: rgba(241, 226, 204, 0.675);'>u</span><span class='token' style='background-color: rgba(204, 204, 204, 0.675);'>el</span><span class='token' style='background-color: rgba(179, 226, 205, 0.675);'>,</span><span class='token' style='background-color: rgba(253, 205, 172, 0.675);'><br></span><span class='token' style='background-color: rgba(179, 226, 205, 0.675);'>&nbsp;</span><span class='token' style='background-color: rgba(253, 205, 172, 0.675);'>&nbsp;Mak</span><span class='token' style='background-color: rgba(203, 213, 232, 0.675);'>ing</span><span class='token' style='background-color: rgba(244, 202, 228, 0.675);'>&nbsp;a</span><span class='token' style='background-color: rgba(230, 245, 201, 0.675);'>&nbsp;famine</span><span class='token' style='background-color: rgba(255, 242, 174, 0.675);'>&nbsp;where</span><span class='token' style='background-color: rgba(241, 226, 204, 0.675);'>&nbsp;abundance</span><span class='token' style='background-color: rgba(204, 204, 204, 0.675);'>&nbsp;lies</span><span class='token' style='background-color: rgba(179, 226, 205, 0.675);'>,</span><span class='token' style='background-color: rgba(253, 205, 172, 0.675);'><br></span><span class='token' style='background-color: rgba(179, 226, 205, 0.675);'>&nbsp;</span><span class='token' style='background-color: rgba(253, 205, 172, 0.675);'>&nbsp;Thy</span><span class='token' style='background-color: rgba(203, 213, 232, 0.675);'>&nbsp;self</span><span class='token' style='background-color: rgba(244, 202, 228, 0.675);'>&nbsp;thy</span><span class='token' style='background-color: rgba(230, 245, 201, 0.675);'>&nbsp;foe</span><span class='token' style='background-color: rgba(255, 242, 174, 0.675);'>,</span><span class='token' style='background-color: rgba(241, 226, 204, 0.675);'>&nbsp;to</span><span class='token' style='background-color: rgba(204, 204, 204, 0.675);'>&nbsp;thy</span><span class='token' style='background-color: rgba(179, 226, 205, 0.675);'>&nbsp;sweet</span><span class='token' style='background-color: rgba(253, 205, 172, 0.675);'>&nbsp;self</span><span class='token' style='background-color: rgba(203, 213, 232, 0.675);'>&nbsp;too</span><span class='token' style='background-color: rgba(244, 202, 228, 0.675);'>&nbsp;cruel</span><span class='token' style='background-color: rgba(230, 245, 201, 0.675);'>:</span><span class='token' style='background-color: rgba(255, 242, 174, 0.675);'><br></span><span class='token' style='background-color: rgba(179, 226, 205, 0.675);'>&nbsp;</span><span class='token' style='background-color: rgba(253, 205, 172, 0.675);'>&nbsp;Thou</span><span class='token' style='background-color: rgba(203, 213, 232, 0.675);'>&nbsp;that</span><span class='token' style='background-color: rgba(244, 202, 228, 0.675);'>&nbsp;art</span><span class='token' style='background-color: rgba(230, 245, 201, 0.675);'>&nbsp;now</span><span class='token' style='background-color: rgba(255, 242, 174, 0.675);'>&nbsp;the</span><span class='token' style='background-color: rgba(241, 226, 204, 0.675);'>&nbsp;world</span><span class='token' style='background-color: rgba(204, 204, 204, 0.675);'>'</span><span class='token' style='background-color: rgba(179, 226, 205, 0.675);'>s</span><span class='token' style='background-color: rgba(253, 205, 172, 0.675);'>&nbsp;fresh</span><span class='token' style='background-color: rgba(203, 213, 232, 0.675);'>&nbsp;ornament</span><span class='token' style='background-color: rgba(244, 202, 228, 0.675);'>,</span><span class='token' style='background-color: rgba(230, 245, 201, 0.675);'><br></span><span class='token' style='background-color: rgba(179, 226, 205, 0.675);'>&nbsp;</span><span class='token' style='background-color: rgba(253, 205, 172, 0.675);'>&nbsp;And</span><span class='token' style='background-color: rgba(203, 213, 232, 0.675);'>&nbsp;only</span><span class='token' style='background-color: rgba(244, 202, 228, 0.675);'>&nbsp;herald</span><span class='token' style='background-color: rgba(230, 245, 201, 0.675);'>&nbsp;to</span><span class='token' style='background-color: rgba(255, 242, 174, 0.675);'>&nbsp;the</span><span class='token' style='background-color: rgba(241, 226, 204, 0.675);'>&nbsp;gaudy</span><span class='token' style='background-color: rgba(204, 204, 204, 0.675);'>&nbsp;spring</span><span class='token' style='background-color: rgba(179, 226, 205, 0.675);'>,</span><span class='token' style='background-color: rgba(253, 205, 172, 0.675);'><br></span><span class='token' style='background-color: rgba(179, 226, 205, 0.675);'>&nbsp;</span><span class='token' style='background-color: rgba(253, 205, 172, 0.675);'>&nbsp;Within</span><span class='token' style='background-color: rgba(203, 213, 232, 0.675);'>&nbsp;thine</span><span class='token' style='background-color: rgba(244, 202, 228, 0.675);'>&nbsp;own</span><span class='token' style='background-color: rgba(230, 245, 201, 0.675);'>&nbsp;bu</span><span class='token' style='background-color: rgba(255, 242, 174, 0.675);'>d</span><span class='token' style='background-color: rgba(241, 226, 204, 0.675);'>&nbsp;bu</span><span class='token' style='background-color: rgba(204, 204, 204, 0.675);'>ries</span><span class='token' style='background-color: rgba(179, 226, 205, 0.675);'>t</span><span class='token' style='background-color: rgba(253, 205, 172, 0.675);'>&nbsp;thy</span><span class='token' style='background-color: rgba(203, 213, 232, 0.675);'>&nbsp;content</span><span class='token' style='background-color: rgba(244, 202, 228, 0.675);'>,</span><span class='token' style='background-color: rgba(230, 245, 201, 0.675);'><br></span><span class='token' style='background-color: rgba(179, 226, 205, 0.675);'>&nbsp;</span><span class='token' style='background-color: rgba(253, 205, 172, 0.675);'>&nbsp;And</span><span class='token' style='background-color: rgba(203, 213, 232, 0.675);'>&nbsp;tender</span><span class='token' style='background-color: rgba(244, 202, 228, 0.675);'>&nbsp;churl</span><span class='token' style='background-color: rgba(230, 245, 201, 0.675);'>&nbsp;mak</span><span class='token' style='background-color: rgba(255, 242, 174, 0.675);'>'</span><span class='token' style='background-color: rgba(241, 226, 204, 0.675);'>st</span><span class='token' style='background-color: rgba(204, 204, 204, 0.675);'>&nbsp;waste</span><span class='token' style='background-color: rgba(179, 226, 205, 0.675);'>&nbsp;in</span><span class='token' style='background-color: rgba(253, 205, 172, 0.675);'>&nbsp;niggard</span><span class='token' style='background-color: rgba(203, 213, 232, 0.675);'>ing</span><span class='token' style='background-color: rgba(244, 202, 228, 0.675);'>:</span><span class='token' style='background-color: rgba(230, 245, 201, 0.675);'><br></span><span class='token' style='background-color: rgba(179, 226, 205, 0.675);'>&nbsp;&nbsp;&nbsp;</span><span class='token' style='background-color: rgba(253, 205, 172, 0.675);'>&nbsp;Pity</span><span class='token' style='background-color: rgba(203, 213, 232, 0.675);'>&nbsp;the</span><span class='token' style='background-color: rgba(244, 202, 228, 0.675);'>&nbsp;world</span><span class='token' style='background-color: rgba(230, 245, 201, 0.675);'>,</span><span class='token' style='background-color: rgba(255, 242, 174, 0.675);'>&nbsp;or</span><span class='token' style='background-color: rgba(241, 226, 204, 0.675);'>&nbsp;else</span><span class='token' style='background-color: rgba(204, 204, 204, 0.675);'>&nbsp;this</span><span class='token' style='background-color: rgba(179, 226, 205, 0.675);'>&nbsp;glu</span><span class='token' style='background-color: rgba(253, 205, 172, 0.675);'>t</span><span class='token' style='background-color: rgba(203, 213, 232, 0.675);'>ton</span><span class='token' style='background-color: rgba(244, 202, 228, 0.675);'>&nbsp;be</span><span class='token' style='background-color: rgba(230, 245, 201, 0.675);'>,</span><span class='token' style='background-color: rgba(255, 242, 174, 0.675);'><br></span><span class='token' style='background-color: rgba(179, 226, 205, 0.675);'>&nbsp;&nbsp;&nbsp;</span><span class='token' style='background-color: rgba(253, 205, 172, 0.675);'>&nbsp;To</span><span class='token' style='background-color: rgba(203, 213, 232, 0.675);'>&nbsp;eat</span><span class='token' style='background-color: rgba(244, 202, 228, 0.675);'>&nbsp;the</span><span class='token' style='background-color: rgba(230, 245, 201, 0.675);'>&nbsp;world</span><span class='token' style='background-color: rgba(255, 242, 174, 0.675);'>'</span><span class='token' style='background-color: rgba(241, 226, 204, 0.675);'>s</span><span class='token' style='background-color: rgba(204, 204, 204, 0.675);'>&nbsp;due</span><span class='token' style='background-color: rgba(179, 226, 205, 0.675);'>,</span><span class='token' style='background-color: rgba(253, 205, 172, 0.675);'>&nbsp;by</span><span class='token' style='background-color: rgba(203, 213, 232, 0.675);'>&nbsp;the</span><span class='token' style='background-color: rgba(244, 202, 228, 0.675);'>&nbsp;grave</span><span class='token' style='background-color: rgba(230, 245, 201, 0.675);'>&nbsp;and</span><span class='token' style='background-color: rgba(255, 242, 174, 0.675);'>&nbsp;thee</span><span class='token' style='background-color: rgba(241, 226, 204, 0.675);'>.</span><span class='token' style='background-color: rgba(204, 204, 204, 0.675);'><br></span></div>"
      ],
      "text/plain": [
       "<IPython.core.display.HTML object>"
      ]
     },
     "metadata": {},
     "output_type": "display_data"
    },
    {
     "name": "stdout",
     "output_type": "stream",
     "text": [
      "\n",
      "... CHAR TOKENIZATION:\n"
     ]
    },
    {
     "data": {
      "text/html": [
       "<style>span.token {font-family: Courier New; font-size: 1.1em; font-weight: 300; padding: 0px; margin-right: 0px; border-color: rgba(0, 0, 0, 0.05); border-style: ridge; border-radius: 0px;}</style><div style='background-color: #FBFBFB; line-height: 175%; padding: 25px; border-radius: 8px; margin-left: 10px; margin-right: 10px; margin-top: 20px; margin-bottom: 20px; overflow-x: auto; white-space: nowrap;'><span class='token' style='background-color: rgba(179, 226, 205, 0.675);'>&nbsp;</span><span class='token' style='background-color: rgba(253, 205, 172, 0.675);'>&nbsp;</span><span class='token' style='background-color: rgba(203, 213, 232, 0.675);'>'</span><span class='token' style='background-color: rgba(244, 202, 228, 0.675);'>O</span><span class='token' style='background-color: rgba(230, 245, 201, 0.675);'>,</span><span class='token' style='background-color: rgba(255, 242, 174, 0.675);'>&nbsp;</span><span class='token' style='background-color: rgba(241, 226, 204, 0.675);'>t</span><span class='token' style='background-color: rgba(204, 204, 204, 0.675);'>h</span><span class='token' style='background-color: rgba(179, 226, 205, 0.675);'>a</span><span class='token' style='background-color: rgba(253, 205, 172, 0.675);'>t</span><span class='token' style='background-color: rgba(203, 213, 232, 0.675);'>&nbsp;</span><span class='token' style='background-color: rgba(244, 202, 228, 0.675);'>i</span><span class='token' style='background-color: rgba(230, 245, 201, 0.675);'>n</span><span class='token' style='background-color: rgba(255, 242, 174, 0.675);'>f</span><span class='token' style='background-color: rgba(241, 226, 204, 0.675);'>e</span><span class='token' style='background-color: rgba(204, 204, 204, 0.675);'>c</span><span class='token' style='background-color: rgba(179, 226, 205, 0.675);'>t</span><span class='token' style='background-color: rgba(253, 205, 172, 0.675);'>e</span><span class='token' style='background-color: rgba(203, 213, 232, 0.675);'>d</span><span class='token' style='background-color: rgba(244, 202, 228, 0.675);'>&nbsp;</span><span class='token' style='background-color: rgba(230, 245, 201, 0.675);'>m</span><span class='token' style='background-color: rgba(255, 242, 174, 0.675);'>o</span><span class='token' style='background-color: rgba(241, 226, 204, 0.675);'>i</span><span class='token' style='background-color: rgba(204, 204, 204, 0.675);'>s</span><span class='token' style='background-color: rgba(179, 226, 205, 0.675);'>t</span><span class='token' style='background-color: rgba(253, 205, 172, 0.675);'>u</span><span class='token' style='background-color: rgba(203, 213, 232, 0.675);'>r</span><span class='token' style='background-color: rgba(244, 202, 228, 0.675);'>e</span><span class='token' style='background-color: rgba(230, 245, 201, 0.675);'>&nbsp;</span><span class='token' style='background-color: rgba(255, 242, 174, 0.675);'>o</span><span class='token' style='background-color: rgba(241, 226, 204, 0.675);'>f</span><span class='token' style='background-color: rgba(204, 204, 204, 0.675);'>&nbsp;</span><span class='token' style='background-color: rgba(179, 226, 205, 0.675);'>h</span><span class='token' style='background-color: rgba(253, 205, 172, 0.675);'>i</span><span class='token' style='background-color: rgba(203, 213, 232, 0.675);'>s</span><span class='token' style='background-color: rgba(244, 202, 228, 0.675);'>&nbsp;</span><span class='token' style='background-color: rgba(230, 245, 201, 0.675);'>e</span><span class='token' style='background-color: rgba(255, 242, 174, 0.675);'>y</span><span class='token' style='background-color: rgba(241, 226, 204, 0.675);'>e</span><span class='token' style='background-color: rgba(204, 204, 204, 0.675);'>,</span><span class='token' style='background-color: rgba(179, 226, 205, 0.675);'><br></span><span class='token' style='background-color: rgba(179, 226, 205, 0.675);'>&nbsp;</span><span class='token' style='background-color: rgba(253, 205, 172, 0.675);'>&nbsp;</span><span class='token' style='background-color: rgba(203, 213, 232, 0.675);'>O</span><span class='token' style='background-color: rgba(244, 202, 228, 0.675);'>,</span><span class='token' style='background-color: rgba(230, 245, 201, 0.675);'>&nbsp;</span><span class='token' style='background-color: rgba(255, 242, 174, 0.675);'>t</span><span class='token' style='background-color: rgba(241, 226, 204, 0.675);'>h</span><span class='token' style='background-color: rgba(204, 204, 204, 0.675);'>a</span><span class='token' style='background-color: rgba(179, 226, 205, 0.675);'>t</span><span class='token' style='background-color: rgba(253, 205, 172, 0.675);'>&nbsp;</span><span class='token' style='background-color: rgba(203, 213, 232, 0.675);'>f</span><span class='token' style='background-color: rgba(244, 202, 228, 0.675);'>a</span><span class='token' style='background-color: rgba(230, 245, 201, 0.675);'>l</span><span class='token' style='background-color: rgba(255, 242, 174, 0.675);'>s</span><span class='token' style='background-color: rgba(241, 226, 204, 0.675);'>e</span><span class='token' style='background-color: rgba(204, 204, 204, 0.675);'>&nbsp;</span><span class='token' style='background-color: rgba(179, 226, 205, 0.675);'>f</span><span class='token' style='background-color: rgba(253, 205, 172, 0.675);'>i</span><span class='token' style='background-color: rgba(203, 213, 232, 0.675);'>r</span><span class='token' style='background-color: rgba(244, 202, 228, 0.675);'>e</span><span class='token' style='background-color: rgba(230, 245, 201, 0.675);'>&nbsp;</span><span class='token' style='background-color: rgba(255, 242, 174, 0.675);'>w</span><span class='token' style='background-color: rgba(241, 226, 204, 0.675);'>h</span><span class='token' style='background-color: rgba(204, 204, 204, 0.675);'>i</span><span class='token' style='background-color: rgba(179, 226, 205, 0.675);'>c</span><span class='token' style='background-color: rgba(253, 205, 172, 0.675);'>h</span><span class='token' style='background-color: rgba(203, 213, 232, 0.675);'>&nbsp;</span><span class='token' style='background-color: rgba(244, 202, 228, 0.675);'>i</span><span class='token' style='background-color: rgba(230, 245, 201, 0.675);'>n</span><span class='token' style='background-color: rgba(255, 242, 174, 0.675);'>&nbsp;</span><span class='token' style='background-color: rgba(241, 226, 204, 0.675);'>h</span><span class='token' style='background-color: rgba(204, 204, 204, 0.675);'>i</span><span class='token' style='background-color: rgba(179, 226, 205, 0.675);'>s</span><span class='token' style='background-color: rgba(253, 205, 172, 0.675);'>&nbsp;</span><span class='token' style='background-color: rgba(203, 213, 232, 0.675);'>c</span><span class='token' style='background-color: rgba(244, 202, 228, 0.675);'>h</span><span class='token' style='background-color: rgba(230, 245, 201, 0.675);'>e</span><span class='token' style='background-color: rgba(255, 242, 174, 0.675);'>e</span><span class='token' style='background-color: rgba(241, 226, 204, 0.675);'>k</span><span class='token' style='background-color: rgba(204, 204, 204, 0.675);'>&nbsp;</span><span class='token' style='background-color: rgba(179, 226, 205, 0.675);'>s</span><span class='token' style='background-color: rgba(253, 205, 172, 0.675);'>o</span><span class='token' style='background-color: rgba(203, 213, 232, 0.675);'>&nbsp;</span><span class='token' style='background-color: rgba(244, 202, 228, 0.675);'>g</span><span class='token' style='background-color: rgba(230, 245, 201, 0.675);'>l</span><span class='token' style='background-color: rgba(255, 242, 174, 0.675);'>o</span><span class='token' style='background-color: rgba(241, 226, 204, 0.675);'>w</span><span class='token' style='background-color: rgba(204, 204, 204, 0.675);'>e</span><span class='token' style='background-color: rgba(179, 226, 205, 0.675);'>d</span><span class='token' style='background-color: rgba(253, 205, 172, 0.675);'>,</span><span class='token' style='background-color: rgba(203, 213, 232, 0.675);'><br></span><span class='token' style='background-color: rgba(179, 226, 205, 0.675);'>&nbsp;</span><span class='token' style='background-color: rgba(253, 205, 172, 0.675);'>&nbsp;</span><span class='token' style='background-color: rgba(203, 213, 232, 0.675);'>O</span><span class='token' style='background-color: rgba(244, 202, 228, 0.675);'>,</span><span class='token' style='background-color: rgba(230, 245, 201, 0.675);'>&nbsp;</span><span class='token' style='background-color: rgba(255, 242, 174, 0.675);'>t</span><span class='token' style='background-color: rgba(241, 226, 204, 0.675);'>h</span><span class='token' style='background-color: rgba(204, 204, 204, 0.675);'>a</span><span class='token' style='background-color: rgba(179, 226, 205, 0.675);'>t</span><span class='token' style='background-color: rgba(253, 205, 172, 0.675);'>&nbsp;</span><span class='token' style='background-color: rgba(203, 213, 232, 0.675);'>f</span><span class='token' style='background-color: rgba(244, 202, 228, 0.675);'>o</span><span class='token' style='background-color: rgba(230, 245, 201, 0.675);'>r</span><span class='token' style='background-color: rgba(255, 242, 174, 0.675);'>c</span><span class='token' style='background-color: rgba(241, 226, 204, 0.675);'>e</span><span class='token' style='background-color: rgba(204, 204, 204, 0.675);'>d</span><span class='token' style='background-color: rgba(179, 226, 205, 0.675);'>&nbsp;</span><span class='token' style='background-color: rgba(253, 205, 172, 0.675);'>t</span><span class='token' style='background-color: rgba(203, 213, 232, 0.675);'>h</span><span class='token' style='background-color: rgba(244, 202, 228, 0.675);'>u</span><span class='token' style='background-color: rgba(230, 245, 201, 0.675);'>n</span><span class='token' style='background-color: rgba(255, 242, 174, 0.675);'>d</span><span class='token' style='background-color: rgba(241, 226, 204, 0.675);'>e</span><span class='token' style='background-color: rgba(204, 204, 204, 0.675);'>r</span><span class='token' style='background-color: rgba(179, 226, 205, 0.675);'>&nbsp;</span><span class='token' style='background-color: rgba(253, 205, 172, 0.675);'>f</span><span class='token' style='background-color: rgba(203, 213, 232, 0.675);'>r</span><span class='token' style='background-color: rgba(244, 202, 228, 0.675);'>o</span><span class='token' style='background-color: rgba(230, 245, 201, 0.675);'>m</span><span class='token' style='background-color: rgba(255, 242, 174, 0.675);'>&nbsp;</span><span class='token' style='background-color: rgba(241, 226, 204, 0.675);'>h</span><span class='token' style='background-color: rgba(204, 204, 204, 0.675);'>i</span><span class='token' style='background-color: rgba(179, 226, 205, 0.675);'>s</span><span class='token' style='background-color: rgba(253, 205, 172, 0.675);'>&nbsp;</span><span class='token' style='background-color: rgba(203, 213, 232, 0.675);'>h</span><span class='token' style='background-color: rgba(244, 202, 228, 0.675);'>e</span><span class='token' style='background-color: rgba(230, 245, 201, 0.675);'>a</span><span class='token' style='background-color: rgba(255, 242, 174, 0.675);'>r</span><span class='token' style='background-color: rgba(241, 226, 204, 0.675);'>t</span><span class='token' style='background-color: rgba(204, 204, 204, 0.675);'>&nbsp;</span><span class='token' style='background-color: rgba(179, 226, 205, 0.675);'>d</span><span class='token' style='background-color: rgba(253, 205, 172, 0.675);'>i</span><span class='token' style='background-color: rgba(203, 213, 232, 0.675);'>d</span><span class='token' style='background-color: rgba(244, 202, 228, 0.675);'>&nbsp;</span><span class='token' style='background-color: rgba(230, 245, 201, 0.675);'>f</span><span class='token' style='background-color: rgba(255, 242, 174, 0.675);'>l</span><span class='token' style='background-color: rgba(241, 226, 204, 0.675);'>y</span><span class='token' style='background-color: rgba(204, 204, 204, 0.675);'>,</span><span class='token' style='background-color: rgba(179, 226, 205, 0.675);'><br></span><span class='token' style='background-color: rgba(179, 226, 205, 0.675);'>&nbsp;</span><span class='token' style='background-color: rgba(253, 205, 172, 0.675);'>&nbsp;</span><span class='token' style='background-color: rgba(203, 213, 232, 0.675);'>O</span><span class='token' style='background-color: rgba(244, 202, 228, 0.675);'>,</span><span class='token' style='background-color: rgba(230, 245, 201, 0.675);'>&nbsp;</span><span class='token' style='background-color: rgba(255, 242, 174, 0.675);'>t</span><span class='token' style='background-color: rgba(241, 226, 204, 0.675);'>h</span><span class='token' style='background-color: rgba(204, 204, 204, 0.675);'>a</span><span class='token' style='background-color: rgba(179, 226, 205, 0.675);'>t</span><span class='token' style='background-color: rgba(253, 205, 172, 0.675);'>&nbsp;</span><span class='token' style='background-color: rgba(203, 213, 232, 0.675);'>s</span><span class='token' style='background-color: rgba(244, 202, 228, 0.675);'>a</span><span class='token' style='background-color: rgba(230, 245, 201, 0.675);'>d</span><span class='token' style='background-color: rgba(255, 242, 174, 0.675);'>&nbsp;</span><span class='token' style='background-color: rgba(241, 226, 204, 0.675);'>b</span><span class='token' style='background-color: rgba(204, 204, 204, 0.675);'>r</span><span class='token' style='background-color: rgba(179, 226, 205, 0.675);'>e</span><span class='token' style='background-color: rgba(253, 205, 172, 0.675);'>a</span><span class='token' style='background-color: rgba(203, 213, 232, 0.675);'>t</span><span class='token' style='background-color: rgba(244, 202, 228, 0.675);'>h</span><span class='token' style='background-color: rgba(230, 245, 201, 0.675);'>&nbsp;</span><span class='token' style='background-color: rgba(255, 242, 174, 0.675);'>h</span><span class='token' style='background-color: rgba(241, 226, 204, 0.675);'>i</span><span class='token' style='background-color: rgba(204, 204, 204, 0.675);'>s</span><span class='token' style='background-color: rgba(179, 226, 205, 0.675);'>&nbsp;</span><span class='token' style='background-color: rgba(253, 205, 172, 0.675);'>s</span><span class='token' style='background-color: rgba(203, 213, 232, 0.675);'>p</span><span class='token' style='background-color: rgba(244, 202, 228, 0.675);'>o</span><span class='token' style='background-color: rgba(230, 245, 201, 0.675);'>n</span><span class='token' style='background-color: rgba(255, 242, 174, 0.675);'>g</span><span class='token' style='background-color: rgba(241, 226, 204, 0.675);'>y</span><span class='token' style='background-color: rgba(204, 204, 204, 0.675);'>&nbsp;</span><span class='token' style='background-color: rgba(179, 226, 205, 0.675);'>l</span><span class='token' style='background-color: rgba(253, 205, 172, 0.675);'>u</span><span class='token' style='background-color: rgba(203, 213, 232, 0.675);'>n</span><span class='token' style='background-color: rgba(244, 202, 228, 0.675);'>g</span><span class='token' style='background-color: rgba(230, 245, 201, 0.675);'>s</span><span class='token' style='background-color: rgba(255, 242, 174, 0.675);'>&nbsp;</span><span class='token' style='background-color: rgba(241, 226, 204, 0.675);'>b</span><span class='token' style='background-color: rgba(204, 204, 204, 0.675);'>e</span><span class='token' style='background-color: rgba(179, 226, 205, 0.675);'>s</span><span class='token' style='background-color: rgba(253, 205, 172, 0.675);'>t</span><span class='token' style='background-color: rgba(203, 213, 232, 0.675);'>o</span><span class='token' style='background-color: rgba(244, 202, 228, 0.675);'>w</span><span class='token' style='background-color: rgba(230, 245, 201, 0.675);'>e</span><span class='token' style='background-color: rgba(255, 242, 174, 0.675);'>d</span><span class='token' style='background-color: rgba(241, 226, 204, 0.675);'>,</span><span class='token' style='background-color: rgba(204, 204, 204, 0.675);'><br></span><span class='token' style='background-color: rgba(179, 226, 205, 0.675);'>&nbsp;</span><span class='token' style='background-color: rgba(253, 205, 172, 0.675);'>&nbsp;</span><span class='token' style='background-color: rgba(203, 213, 232, 0.675);'>O</span><span class='token' style='background-color: rgba(244, 202, 228, 0.675);'>,</span><span class='token' style='background-color: rgba(230, 245, 201, 0.675);'>&nbsp;</span><span class='token' style='background-color: rgba(255, 242, 174, 0.675);'>a</span><span class='token' style='background-color: rgba(241, 226, 204, 0.675);'>l</span><span class='token' style='background-color: rgba(204, 204, 204, 0.675);'>l</span><span class='token' style='background-color: rgba(179, 226, 205, 0.675);'>&nbsp;</span><span class='token' style='background-color: rgba(253, 205, 172, 0.675);'>t</span><span class='token' style='background-color: rgba(203, 213, 232, 0.675);'>h</span><span class='token' style='background-color: rgba(244, 202, 228, 0.675);'>a</span><span class='token' style='background-color: rgba(230, 245, 201, 0.675);'>t</span><span class='token' style='background-color: rgba(255, 242, 174, 0.675);'>&nbsp;</span><span class='token' style='background-color: rgba(241, 226, 204, 0.675);'>b</span><span class='token' style='background-color: rgba(204, 204, 204, 0.675);'>o</span><span class='token' style='background-color: rgba(179, 226, 205, 0.675);'>r</span><span class='token' style='background-color: rgba(253, 205, 172, 0.675);'>r</span><span class='token' style='background-color: rgba(203, 213, 232, 0.675);'>o</span><span class='token' style='background-color: rgba(244, 202, 228, 0.675);'>w</span><span class='token' style='background-color: rgba(230, 245, 201, 0.675);'>e</span><span class='token' style='background-color: rgba(255, 242, 174, 0.675);'>d</span><span class='token' style='background-color: rgba(241, 226, 204, 0.675);'>&nbsp;</span><span class='token' style='background-color: rgba(204, 204, 204, 0.675);'>m</span><span class='token' style='background-color: rgba(179, 226, 205, 0.675);'>o</span><span class='token' style='background-color: rgba(253, 205, 172, 0.675);'>t</span><span class='token' style='background-color: rgba(203, 213, 232, 0.675);'>i</span><span class='token' style='background-color: rgba(244, 202, 228, 0.675);'>o</span><span class='token' style='background-color: rgba(230, 245, 201, 0.675);'>n</span><span class='token' style='background-color: rgba(255, 242, 174, 0.675);'>,</span><span class='token' style='background-color: rgba(241, 226, 204, 0.675);'>&nbsp;</span><span class='token' style='background-color: rgba(204, 204, 204, 0.675);'>s</span><span class='token' style='background-color: rgba(179, 226, 205, 0.675);'>e</span><span class='token' style='background-color: rgba(253, 205, 172, 0.675);'>e</span><span class='token' style='background-color: rgba(203, 213, 232, 0.675);'>m</span><span class='token' style='background-color: rgba(244, 202, 228, 0.675);'>i</span><span class='token' style='background-color: rgba(230, 245, 201, 0.675);'>n</span><span class='token' style='background-color: rgba(255, 242, 174, 0.675);'>g</span><span class='token' style='background-color: rgba(241, 226, 204, 0.675);'>&nbsp;</span><span class='token' style='background-color: rgba(204, 204, 204, 0.675);'>o</span><span class='token' style='background-color: rgba(179, 226, 205, 0.675);'>w</span><span class='token' style='background-color: rgba(253, 205, 172, 0.675);'>e</span><span class='token' style='background-color: rgba(203, 213, 232, 0.675);'>d</span><span class='token' style='background-color: rgba(244, 202, 228, 0.675);'>,</span><span class='token' style='background-color: rgba(230, 245, 201, 0.675);'><br></span><span class='token' style='background-color: rgba(179, 226, 205, 0.675);'>&nbsp;</span><span class='token' style='background-color: rgba(253, 205, 172, 0.675);'>&nbsp;</span><span class='token' style='background-color: rgba(203, 213, 232, 0.675);'>W</span><span class='token' style='background-color: rgba(244, 202, 228, 0.675);'>o</span><span class='token' style='background-color: rgba(230, 245, 201, 0.675);'>u</span><span class='token' style='background-color: rgba(255, 242, 174, 0.675);'>l</span><span class='token' style='background-color: rgba(241, 226, 204, 0.675);'>d</span><span class='token' style='background-color: rgba(204, 204, 204, 0.675);'>&nbsp;</span><span class='token' style='background-color: rgba(179, 226, 205, 0.675);'>y</span><span class='token' style='background-color: rgba(253, 205, 172, 0.675);'>e</span><span class='token' style='background-color: rgba(203, 213, 232, 0.675);'>t</span><span class='token' style='background-color: rgba(244, 202, 228, 0.675);'>&nbsp;</span><span class='token' style='background-color: rgba(230, 245, 201, 0.675);'>a</span><span class='token' style='background-color: rgba(255, 242, 174, 0.675);'>g</span><span class='token' style='background-color: rgba(241, 226, 204, 0.675);'>a</span><span class='token' style='background-color: rgba(204, 204, 204, 0.675);'>i</span><span class='token' style='background-color: rgba(179, 226, 205, 0.675);'>n</span><span class='token' style='background-color: rgba(253, 205, 172, 0.675);'>&nbsp;</span><span class='token' style='background-color: rgba(203, 213, 232, 0.675);'>b</span><span class='token' style='background-color: rgba(244, 202, 228, 0.675);'>e</span><span class='token' style='background-color: rgba(230, 245, 201, 0.675);'>t</span><span class='token' style='background-color: rgba(255, 242, 174, 0.675);'>r</span><span class='token' style='background-color: rgba(241, 226, 204, 0.675);'>a</span><span class='token' style='background-color: rgba(204, 204, 204, 0.675);'>y</span><span class='token' style='background-color: rgba(179, 226, 205, 0.675);'>&nbsp;</span><span class='token' style='background-color: rgba(253, 205, 172, 0.675);'>t</span><span class='token' style='background-color: rgba(203, 213, 232, 0.675);'>h</span><span class='token' style='background-color: rgba(244, 202, 228, 0.675);'>e</span><span class='token' style='background-color: rgba(230, 245, 201, 0.675);'>&nbsp;</span><span class='token' style='background-color: rgba(255, 242, 174, 0.675);'>f</span><span class='token' style='background-color: rgba(241, 226, 204, 0.675);'>o</span><span class='token' style='background-color: rgba(204, 204, 204, 0.675);'>r</span><span class='token' style='background-color: rgba(179, 226, 205, 0.675);'>e</span><span class='token' style='background-color: rgba(253, 205, 172, 0.675);'>-</span><span class='token' style='background-color: rgba(203, 213, 232, 0.675);'>b</span><span class='token' style='background-color: rgba(244, 202, 228, 0.675);'>e</span><span class='token' style='background-color: rgba(230, 245, 201, 0.675);'>t</span><span class='token' style='background-color: rgba(255, 242, 174, 0.675);'>r</span><span class='token' style='background-color: rgba(241, 226, 204, 0.675);'>a</span><span class='token' style='background-color: rgba(204, 204, 204, 0.675);'>y</span><span class='token' style='background-color: rgba(179, 226, 205, 0.675);'>e</span><span class='token' style='background-color: rgba(253, 205, 172, 0.675);'>d</span><span class='token' style='background-color: rgba(203, 213, 232, 0.675);'>,</span><span class='token' style='background-color: rgba(244, 202, 228, 0.675);'><br></span><span class='token' style='background-color: rgba(179, 226, 205, 0.675);'>&nbsp;</span><span class='token' style='background-color: rgba(253, 205, 172, 0.675);'>&nbsp;</span><span class='token' style='background-color: rgba(203, 213, 232, 0.675);'>A</span><span class='token' style='background-color: rgba(244, 202, 228, 0.675);'>n</span><span class='token' style='background-color: rgba(230, 245, 201, 0.675);'>d</span><span class='token' style='background-color: rgba(255, 242, 174, 0.675);'>&nbsp;</span><span class='token' style='background-color: rgba(241, 226, 204, 0.675);'>n</span><span class='token' style='background-color: rgba(204, 204, 204, 0.675);'>e</span><span class='token' style='background-color: rgba(179, 226, 205, 0.675);'>w</span><span class='token' style='background-color: rgba(253, 205, 172, 0.675);'>&nbsp;</span><span class='token' style='background-color: rgba(203, 213, 232, 0.675);'>p</span><span class='token' style='background-color: rgba(244, 202, 228, 0.675);'>e</span><span class='token' style='background-color: rgba(230, 245, 201, 0.675);'>r</span><span class='token' style='background-color: rgba(255, 242, 174, 0.675);'>v</span><span class='token' style='background-color: rgba(241, 226, 204, 0.675);'>e</span><span class='token' style='background-color: rgba(204, 204, 204, 0.675);'>r</span><span class='token' style='background-color: rgba(179, 226, 205, 0.675);'>t</span><span class='token' style='background-color: rgba(253, 205, 172, 0.675);'>&nbsp;</span><span class='token' style='background-color: rgba(203, 213, 232, 0.675);'>a</span><span class='token' style='background-color: rgba(244, 202, 228, 0.675);'>&nbsp;</span><span class='token' style='background-color: rgba(230, 245, 201, 0.675);'>r</span><span class='token' style='background-color: rgba(255, 242, 174, 0.675);'>e</span><span class='token' style='background-color: rgba(241, 226, 204, 0.675);'>c</span><span class='token' style='background-color: rgba(204, 204, 204, 0.675);'>o</span><span class='token' style='background-color: rgba(179, 226, 205, 0.675);'>n</span><span class='token' style='background-color: rgba(253, 205, 172, 0.675);'>c</span><span class='token' style='background-color: rgba(203, 213, 232, 0.675);'>i</span><span class='token' style='background-color: rgba(244, 202, 228, 0.675);'>l</span><span class='token' style='background-color: rgba(230, 245, 201, 0.675);'>e</span><span class='token' style='background-color: rgba(255, 242, 174, 0.675);'>d</span><span class='token' style='background-color: rgba(241, 226, 204, 0.675);'>&nbsp;</span><span class='token' style='background-color: rgba(204, 204, 204, 0.675);'>m</span><span class='token' style='background-color: rgba(179, 226, 205, 0.675);'>a</span><span class='token' style='background-color: rgba(253, 205, 172, 0.675);'>i</span><span class='token' style='background-color: rgba(203, 213, 232, 0.675);'>d</span><span class='token' style='background-color: rgba(244, 202, 228, 0.675);'>.</span><span class='token' style='background-color: rgba(230, 245, 201, 0.675);'>'</span><span class='token' style='background-color: rgba(255, 242, 174, 0.675);'><br></span><span class='token' style='background-color: rgba(179, 226, 205, 0.675);'>&nbsp;</span><span class='token' style='background-color: rgba(253, 205, 172, 0.675);'>&nbsp;</span><span class='token' style='background-color: rgba(203, 213, 232, 0.675);'>'</span><span class='token' style='background-color: rgba(230, 245, 201, 0.675);'>h</span><span class='token' style='background-color: rgba(255, 242, 174, 0.675);'>u</span><span class='token' style='background-color: rgba(241, 226, 204, 0.675);'>s</span><span class='token' style='background-color: rgba(204, 204, 204, 0.675);'>&nbsp;</span><span class='token' style='background-color: rgba(179, 226, 205, 0.675);'>m</span><span class='token' style='background-color: rgba(253, 205, 172, 0.675);'>e</span><span class='token' style='background-color: rgba(203, 213, 232, 0.675);'>r</span><span class='token' style='background-color: rgba(244, 202, 228, 0.675);'>e</span><span class='token' style='background-color: rgba(230, 245, 201, 0.675);'>l</span><span class='token' style='background-color: rgba(255, 242, 174, 0.675);'>y</span><span class='token' style='background-color: rgba(241, 226, 204, 0.675);'>&nbsp;</span><span class='token' style='background-color: rgba(204, 204, 204, 0.675);'>w</span><span class='token' style='background-color: rgba(179, 226, 205, 0.675);'>i</span><span class='token' style='background-color: rgba(253, 205, 172, 0.675);'>t</span><span class='token' style='background-color: rgba(203, 213, 232, 0.675);'>h</span><span class='token' style='background-color: rgba(244, 202, 228, 0.675);'>&nbsp;</span><span class='token' style='background-color: rgba(230, 245, 201, 0.675);'>t</span><span class='token' style='background-color: rgba(255, 242, 174, 0.675);'>h</span><span class='token' style='background-color: rgba(241, 226, 204, 0.675);'>e</span><span class='token' style='background-color: rgba(204, 204, 204, 0.675);'>&nbsp;</span><span class='token' style='background-color: rgba(179, 226, 205, 0.675);'>g</span><span class='token' style='background-color: rgba(253, 205, 172, 0.675);'>a</span><span class='token' style='background-color: rgba(203, 213, 232, 0.675);'>r</span><span class='token' style='background-color: rgba(244, 202, 228, 0.675);'>m</span><span class='token' style='background-color: rgba(230, 245, 201, 0.675);'>e</span><span class='token' style='background-color: rgba(255, 242, 174, 0.675);'>n</span><span class='token' style='background-color: rgba(241, 226, 204, 0.675);'>t</span><span class='token' style='background-color: rgba(204, 204, 204, 0.675);'>&nbsp;</span><span class='token' style='background-color: rgba(179, 226, 205, 0.675);'>o</span><span class='token' style='background-color: rgba(253, 205, 172, 0.675);'>f</span><span class='token' style='background-color: rgba(203, 213, 232, 0.675);'>&nbsp;</span><span class='token' style='background-color: rgba(244, 202, 228, 0.675);'>a</span><span class='token' style='background-color: rgba(230, 245, 201, 0.675);'>&nbsp;</span><span class='token' style='background-color: rgba(255, 242, 174, 0.675);'>G</span><span class='token' style='background-color: rgba(241, 226, 204, 0.675);'>r</span><span class='token' style='background-color: rgba(204, 204, 204, 0.675);'>a</span><span class='token' style='background-color: rgba(179, 226, 205, 0.675);'>c</span><span class='token' style='background-color: rgba(253, 205, 172, 0.675);'>e</span><span class='token' style='background-color: rgba(203, 213, 232, 0.675);'>&nbsp;</span><span class='token' style='background-color: rgba(244, 202, 228, 0.675);'>&nbsp;</span><span class='token' style='background-color: rgba(230, 245, 201, 0.675);'><br></span><span class='token' style='background-color: rgba(179, 226, 205, 0.675);'>&nbsp;</span><span class='token' style='background-color: rgba(253, 205, 172, 0.675);'>&nbsp;</span><span class='token' style='background-color: rgba(244, 202, 228, 0.675);'>h</span><span class='token' style='background-color: rgba(230, 245, 201, 0.675);'>e</span><span class='token' style='background-color: rgba(255, 242, 174, 0.675);'>&nbsp;</span><span class='token' style='background-color: rgba(241, 226, 204, 0.675);'>n</span><span class='token' style='background-color: rgba(204, 204, 204, 0.675);'>a</span><span class='token' style='background-color: rgba(179, 226, 205, 0.675);'>k</span><span class='token' style='background-color: rgba(253, 205, 172, 0.675);'>e</span><span class='token' style='background-color: rgba(203, 213, 232, 0.675);'>d</span><span class='token' style='background-color: rgba(244, 202, 228, 0.675);'>&nbsp;</span><span class='token' style='background-color: rgba(230, 245, 201, 0.675);'>a</span><span class='token' style='background-color: rgba(255, 242, 174, 0.675);'>n</span><span class='token' style='background-color: rgba(241, 226, 204, 0.675);'>d</span><span class='token' style='background-color: rgba(204, 204, 204, 0.675);'>&nbsp;</span><span class='token' style='background-color: rgba(179, 226, 205, 0.675);'>c</span><span class='token' style='background-color: rgba(253, 205, 172, 0.675);'>o</span><span class='token' style='background-color: rgba(203, 213, 232, 0.675);'>n</span><span class='token' style='background-color: rgba(244, 202, 228, 0.675);'>c</span><span class='token' style='background-color: rgba(230, 245, 201, 0.675);'>e</span><span class='token' style='background-color: rgba(255, 242, 174, 0.675);'>a</span><span class='token' style='background-color: rgba(241, 226, 204, 0.675);'>l</span><span class='token' style='background-color: rgba(204, 204, 204, 0.675);'>e</span><span class='token' style='background-color: rgba(179, 226, 205, 0.675);'>d</span><span class='token' style='background-color: rgba(253, 205, 172, 0.675);'>&nbsp;</span><span class='token' style='background-color: rgba(203, 213, 232, 0.675);'>f</span><span class='token' style='background-color: rgba(244, 202, 228, 0.675);'>i</span><span class='token' style='background-color: rgba(230, 245, 201, 0.675);'>e</span><span class='token' style='background-color: rgba(255, 242, 174, 0.675);'>n</span><span class='token' style='background-color: rgba(241, 226, 204, 0.675);'>d</span><span class='token' style='background-color: rgba(204, 204, 204, 0.675);'>&nbsp;</span><span class='token' style='background-color: rgba(179, 226, 205, 0.675);'>h</span><span class='token' style='background-color: rgba(253, 205, 172, 0.675);'>e</span><span class='token' style='background-color: rgba(203, 213, 232, 0.675);'>&nbsp;</span><span class='token' style='background-color: rgba(244, 202, 228, 0.675);'>c</span><span class='token' style='background-color: rgba(230, 245, 201, 0.675);'>o</span><span class='token' style='background-color: rgba(255, 242, 174, 0.675);'>v</span><span class='token' style='background-color: rgba(241, 226, 204, 0.675);'>e</span><span class='token' style='background-color: rgba(204, 204, 204, 0.675);'>r</span><span class='token' style='background-color: rgba(179, 226, 205, 0.675);'>e</span><span class='token' style='background-color: rgba(253, 205, 172, 0.675);'>d</span><span class='token' style='background-color: rgba(203, 213, 232, 0.675);'>,</span><span class='token' style='background-color: rgba(244, 202, 228, 0.675);'><br></span><span class='token' style='background-color: rgba(179, 226, 205, 0.675);'>&nbsp;</span><span class='token' style='background-color: rgba(253, 205, 172, 0.675);'>&nbsp;</span><span class='token' style='background-color: rgba(244, 202, 228, 0.675);'>h</span><span class='token' style='background-color: rgba(230, 245, 201, 0.675);'>a</span><span class='token' style='background-color: rgba(255, 242, 174, 0.675);'>t</span><span class='token' style='background-color: rgba(241, 226, 204, 0.675);'>&nbsp;</span><span class='token' style='background-color: rgba(204, 204, 204, 0.675);'>t</span><span class='token' style='background-color: rgba(179, 226, 205, 0.675);'>h</span><span class='token' style='background-color: rgba(253, 205, 172, 0.675);'>'</span><span class='token' style='background-color: rgba(203, 213, 232, 0.675);'>&nbsp;</span><span class='token' style='background-color: rgba(244, 202, 228, 0.675);'>u</span><span class='token' style='background-color: rgba(230, 245, 201, 0.675);'>n</span><span class='token' style='background-color: rgba(255, 242, 174, 0.675);'>e</span><span class='token' style='background-color: rgba(241, 226, 204, 0.675);'>x</span><span class='token' style='background-color: rgba(204, 204, 204, 0.675);'>p</span><span class='token' style='background-color: rgba(179, 226, 205, 0.675);'>e</span><span class='token' style='background-color: rgba(253, 205, 172, 0.675);'>r</span><span class='token' style='background-color: rgba(203, 213, 232, 0.675);'>i</span><span class='token' style='background-color: rgba(244, 202, 228, 0.675);'>e</span><span class='token' style='background-color: rgba(230, 245, 201, 0.675);'>n</span><span class='token' style='background-color: rgba(255, 242, 174, 0.675);'>t</span><span class='token' style='background-color: rgba(241, 226, 204, 0.675);'>&nbsp;</span><span class='token' style='background-color: rgba(204, 204, 204, 0.675);'>g</span><span class='token' style='background-color: rgba(179, 226, 205, 0.675);'>a</span><span class='token' style='background-color: rgba(253, 205, 172, 0.675);'>v</span><span class='token' style='background-color: rgba(203, 213, 232, 0.675);'>e</span><span class='token' style='background-color: rgba(244, 202, 228, 0.675);'>&nbsp;</span><span class='token' style='background-color: rgba(230, 245, 201, 0.675);'>t</span><span class='token' style='background-color: rgba(255, 242, 174, 0.675);'>h</span><span class='token' style='background-color: rgba(241, 226, 204, 0.675);'>e</span><span class='token' style='background-color: rgba(204, 204, 204, 0.675);'>&nbsp;</span><span class='token' style='background-color: rgba(179, 226, 205, 0.675);'>t</span><span class='token' style='background-color: rgba(253, 205, 172, 0.675);'>e</span><span class='token' style='background-color: rgba(203, 213, 232, 0.675);'>m</span><span class='token' style='background-color: rgba(244, 202, 228, 0.675);'>p</span><span class='token' style='background-color: rgba(230, 245, 201, 0.675);'>t</span><span class='token' style='background-color: rgba(255, 242, 174, 0.675);'>e</span><span class='token' style='background-color: rgba(241, 226, 204, 0.675);'>r</span><span class='token' style='background-color: rgba(204, 204, 204, 0.675);'>&nbsp;</span><span class='token' style='background-color: rgba(179, 226, 205, 0.675);'>p</span><span class='token' style='background-color: rgba(253, 205, 172, 0.675);'>l</span><span class='token' style='background-color: rgba(203, 213, 232, 0.675);'>a</span><span class='token' style='background-color: rgba(244, 202, 228, 0.675);'>c</span><span class='token' style='background-color: rgba(230, 245, 201, 0.675);'>e</span><span class='token' style='background-color: rgba(255, 242, 174, 0.675);'>,</span><span class='token' style='background-color: rgba(241, 226, 204, 0.675);'><br></span><span class='token' style='background-color: rgba(179, 226, 205, 0.675);'>&nbsp;</span><span class='token' style='background-color: rgba(253, 205, 172, 0.675);'>&nbsp;</span><span class='token' style='background-color: rgba(203, 213, 232, 0.675);'>W</span><span class='token' style='background-color: rgba(244, 202, 228, 0.675);'>h</span><span class='token' style='background-color: rgba(230, 245, 201, 0.675);'>i</span><span class='token' style='background-color: rgba(255, 242, 174, 0.675);'>c</span><span class='token' style='background-color: rgba(241, 226, 204, 0.675);'>h</span><span class='token' style='background-color: rgba(204, 204, 204, 0.675);'>,</span><span class='token' style='background-color: rgba(179, 226, 205, 0.675);'>&nbsp;</span><span class='token' style='background-color: rgba(253, 205, 172, 0.675);'>l</span><span class='token' style='background-color: rgba(203, 213, 232, 0.675);'>i</span><span class='token' style='background-color: rgba(244, 202, 228, 0.675);'>k</span><span class='token' style='background-color: rgba(230, 245, 201, 0.675);'>e</span><span class='token' style='background-color: rgba(255, 242, 174, 0.675);'>&nbsp;</span><span class='token' style='background-color: rgba(241, 226, 204, 0.675);'>a</span><span class='token' style='background-color: rgba(204, 204, 204, 0.675);'>&nbsp;</span><span class='token' style='background-color: rgba(179, 226, 205, 0.675);'>c</span><span class='token' style='background-color: rgba(253, 205, 172, 0.675);'>h</span><span class='token' style='background-color: rgba(203, 213, 232, 0.675);'>e</span><span class='token' style='background-color: rgba(244, 202, 228, 0.675);'>r</span><span class='token' style='background-color: rgba(230, 245, 201, 0.675);'>u</span><span class='token' style='background-color: rgba(255, 242, 174, 0.675);'>b</span><span class='token' style='background-color: rgba(241, 226, 204, 0.675);'>i</span><span class='token' style='background-color: rgba(204, 204, 204, 0.675);'>n</span><span class='token' style='background-color: rgba(179, 226, 205, 0.675);'>,</span><span class='token' style='background-color: rgba(253, 205, 172, 0.675);'>&nbsp;</span><span class='token' style='background-color: rgba(203, 213, 232, 0.675);'>a</span><span class='token' style='background-color: rgba(244, 202, 228, 0.675);'>b</span><span class='token' style='background-color: rgba(230, 245, 201, 0.675);'>o</span><span class='token' style='background-color: rgba(255, 242, 174, 0.675);'>v</span><span class='token' style='background-color: rgba(241, 226, 204, 0.675);'>e</span><span class='token' style='background-color: rgba(204, 204, 204, 0.675);'>&nbsp;</span><span class='token' style='background-color: rgba(179, 226, 205, 0.675);'>t</span><span class='token' style='background-color: rgba(253, 205, 172, 0.675);'>h</span><span class='token' style='background-color: rgba(203, 213, 232, 0.675);'>e</span><span class='token' style='background-color: rgba(244, 202, 228, 0.675);'>m</span><span class='token' style='background-color: rgba(230, 245, 201, 0.675);'>&nbsp;</span><span class='token' style='background-color: rgba(255, 242, 174, 0.675);'>h</span><span class='token' style='background-color: rgba(241, 226, 204, 0.675);'>o</span><span class='token' style='background-color: rgba(204, 204, 204, 0.675);'>v</span><span class='token' style='background-color: rgba(179, 226, 205, 0.675);'>e</span><span class='token' style='background-color: rgba(253, 205, 172, 0.675);'>r</span><span class='token' style='background-color: rgba(203, 213, 232, 0.675);'>e</span><span class='token' style='background-color: rgba(244, 202, 228, 0.675);'>d</span><span class='token' style='background-color: rgba(230, 245, 201, 0.675);'>.</span><span class='token' style='background-color: rgba(255, 242, 174, 0.675);'><br></span><span class='token' style='background-color: rgba(179, 226, 205, 0.675);'>&nbsp;</span><span class='token' style='background-color: rgba(253, 205, 172, 0.675);'>&nbsp;</span><span class='token' style='background-color: rgba(203, 213, 232, 0.675);'>W</span><span class='token' style='background-color: rgba(244, 202, 228, 0.675);'>h</span><span class='token' style='background-color: rgba(230, 245, 201, 0.675);'>o</span><span class='token' style='background-color: rgba(255, 242, 174, 0.675);'>,</span><span class='token' style='background-color: rgba(241, 226, 204, 0.675);'>&nbsp;</span><span class='token' style='background-color: rgba(204, 204, 204, 0.675);'>y</span><span class='token' style='background-color: rgba(179, 226, 205, 0.675);'>o</span><span class='token' style='background-color: rgba(253, 205, 172, 0.675);'>u</span><span class='token' style='background-color: rgba(203, 213, 232, 0.675);'>n</span><span class='token' style='background-color: rgba(244, 202, 228, 0.675);'>g</span><span class='token' style='background-color: rgba(230, 245, 201, 0.675);'>&nbsp;</span><span class='token' style='background-color: rgba(255, 242, 174, 0.675);'>a</span><span class='token' style='background-color: rgba(241, 226, 204, 0.675);'>n</span><span class='token' style='background-color: rgba(204, 204, 204, 0.675);'>d</span><span class='token' style='background-color: rgba(179, 226, 205, 0.675);'>&nbsp;</span><span class='token' style='background-color: rgba(253, 205, 172, 0.675);'>s</span><span class='token' style='background-color: rgba(203, 213, 232, 0.675);'>i</span><span class='token' style='background-color: rgba(244, 202, 228, 0.675);'>m</span><span class='token' style='background-color: rgba(230, 245, 201, 0.675);'>p</span><span class='token' style='background-color: rgba(255, 242, 174, 0.675);'>l</span><span class='token' style='background-color: rgba(241, 226, 204, 0.675);'>e</span><span class='token' style='background-color: rgba(204, 204, 204, 0.675);'>,</span><span class='token' style='background-color: rgba(179, 226, 205, 0.675);'>&nbsp;</span><span class='token' style='background-color: rgba(253, 205, 172, 0.675);'>w</span><span class='token' style='background-color: rgba(203, 213, 232, 0.675);'>o</span><span class='token' style='background-color: rgba(244, 202, 228, 0.675);'>u</span><span class='token' style='background-color: rgba(230, 245, 201, 0.675);'>l</span><span class='token' style='background-color: rgba(255, 242, 174, 0.675);'>d</span><span class='token' style='background-color: rgba(241, 226, 204, 0.675);'>&nbsp;</span><span class='token' style='background-color: rgba(204, 204, 204, 0.675);'>n</span><span class='token' style='background-color: rgba(179, 226, 205, 0.675);'>o</span><span class='token' style='background-color: rgba(253, 205, 172, 0.675);'>t</span><span class='token' style='background-color: rgba(203, 213, 232, 0.675);'>&nbsp;</span><span class='token' style='background-color: rgba(244, 202, 228, 0.675);'>b</span><span class='token' style='background-color: rgba(230, 245, 201, 0.675);'>e</span><span class='token' style='background-color: rgba(255, 242, 174, 0.675);'>&nbsp;</span><span class='token' style='background-color: rgba(241, 226, 204, 0.675);'>s</span><span class='token' style='background-color: rgba(204, 204, 204, 0.675);'>o</span><span class='token' style='background-color: rgba(179, 226, 205, 0.675);'>&nbsp;</span><span class='token' style='background-color: rgba(253, 205, 172, 0.675);'>l</span><span class='token' style='background-color: rgba(203, 213, 232, 0.675);'>o</span><span class='token' style='background-color: rgba(244, 202, 228, 0.675);'>v</span><span class='token' style='background-color: rgba(230, 245, 201, 0.675);'>e</span><span class='token' style='background-color: rgba(255, 242, 174, 0.675);'>r</span><span class='token' style='background-color: rgba(241, 226, 204, 0.675);'>e</span><span class='token' style='background-color: rgba(204, 204, 204, 0.675);'>d</span><span class='token' style='background-color: rgba(179, 226, 205, 0.675);'>?</span><span class='token' style='background-color: rgba(253, 205, 172, 0.675);'><br></span><span class='token' style='background-color: rgba(179, 226, 205, 0.675);'>&nbsp;</span><span class='token' style='background-color: rgba(253, 205, 172, 0.675);'>&nbsp;</span><span class='token' style='background-color: rgba(203, 213, 232, 0.675);'>A</span><span class='token' style='background-color: rgba(244, 202, 228, 0.675);'>y</span><span class='token' style='background-color: rgba(230, 245, 201, 0.675);'>&nbsp;</span><span class='token' style='background-color: rgba(255, 242, 174, 0.675);'>m</span><span class='token' style='background-color: rgba(241, 226, 204, 0.675);'>e</span><span class='token' style='background-color: rgba(204, 204, 204, 0.675);'>,</span><span class='token' style='background-color: rgba(179, 226, 205, 0.675);'>&nbsp;</span><span class='token' style='background-color: rgba(253, 205, 172, 0.675);'>I</span><span class='token' style='background-color: rgba(203, 213, 232, 0.675);'>&nbsp;</span><span class='token' style='background-color: rgba(244, 202, 228, 0.675);'>f</span><span class='token' style='background-color: rgba(230, 245, 201, 0.675);'>e</span><span class='token' style='background-color: rgba(255, 242, 174, 0.675);'>l</span><span class='token' style='background-color: rgba(241, 226, 204, 0.675);'>l</span><span class='token' style='background-color: rgba(204, 204, 204, 0.675);'>,</span><span class='token' style='background-color: rgba(179, 226, 205, 0.675);'>&nbsp;</span><span class='token' style='background-color: rgba(253, 205, 172, 0.675);'>a</span><span class='token' style='background-color: rgba(203, 213, 232, 0.675);'>n</span><span class='token' style='background-color: rgba(244, 202, 228, 0.675);'>d</span><span class='token' style='background-color: rgba(230, 245, 201, 0.675);'>&nbsp;</span><span class='token' style='background-color: rgba(255, 242, 174, 0.675);'>y</span><span class='token' style='background-color: rgba(241, 226, 204, 0.675);'>e</span><span class='token' style='background-color: rgba(204, 204, 204, 0.675);'>t</span><span class='token' style='background-color: rgba(179, 226, 205, 0.675);'>&nbsp;</span><span class='token' style='background-color: rgba(253, 205, 172, 0.675);'>d</span><span class='token' style='background-color: rgba(203, 213, 232, 0.675);'>o</span><span class='token' style='background-color: rgba(244, 202, 228, 0.675);'>&nbsp;</span><span class='token' style='background-color: rgba(230, 245, 201, 0.675);'>q</span><span class='token' style='background-color: rgba(255, 242, 174, 0.675);'>u</span><span class='token' style='background-color: rgba(241, 226, 204, 0.675);'>e</span><span class='token' style='background-color: rgba(204, 204, 204, 0.675);'>s</span><span class='token' style='background-color: rgba(179, 226, 205, 0.675);'>t</span><span class='token' style='background-color: rgba(253, 205, 172, 0.675);'>i</span><span class='token' style='background-color: rgba(203, 213, 232, 0.675);'>o</span><span class='token' style='background-color: rgba(244, 202, 228, 0.675);'>n</span><span class='token' style='background-color: rgba(230, 245, 201, 0.675);'>&nbsp;</span><span class='token' style='background-color: rgba(255, 242, 174, 0.675);'>m</span><span class='token' style='background-color: rgba(241, 226, 204, 0.675);'>a</span><span class='token' style='background-color: rgba(204, 204, 204, 0.675);'>k</span><span class='token' style='background-color: rgba(179, 226, 205, 0.675);'>e</span><span class='token' style='background-color: rgba(253, 205, 172, 0.675);'><br></span><span class='token' style='background-color: rgba(179, 226, 205, 0.675);'>&nbsp;</span><span class='token' style='background-color: rgba(253, 205, 172, 0.675);'>&nbsp;</span><span class='token' style='background-color: rgba(203, 213, 232, 0.675);'>W</span><span class='token' style='background-color: rgba(244, 202, 228, 0.675);'>h</span><span class='token' style='background-color: rgba(230, 245, 201, 0.675);'>a</span><span class='token' style='background-color: rgba(255, 242, 174, 0.675);'>t</span><span class='token' style='background-color: rgba(241, 226, 204, 0.675);'>&nbsp;</span><span class='token' style='background-color: rgba(204, 204, 204, 0.675);'>I</span><span class='token' style='background-color: rgba(179, 226, 205, 0.675);'>&nbsp;</span><span class='token' style='background-color: rgba(253, 205, 172, 0.675);'>s</span><span class='token' style='background-color: rgba(203, 213, 232, 0.675);'>h</span><span class='token' style='background-color: rgba(244, 202, 228, 0.675);'>o</span><span class='token' style='background-color: rgba(230, 245, 201, 0.675);'>u</span><span class='token' style='background-color: rgba(255, 242, 174, 0.675);'>l</span><span class='token' style='background-color: rgba(241, 226, 204, 0.675);'>d</span><span class='token' style='background-color: rgba(204, 204, 204, 0.675);'>&nbsp;</span><span class='token' style='background-color: rgba(179, 226, 205, 0.675);'>d</span><span class='token' style='background-color: rgba(253, 205, 172, 0.675);'>o</span><span class='token' style='background-color: rgba(203, 213, 232, 0.675);'>&nbsp;</span><span class='token' style='background-color: rgba(244, 202, 228, 0.675);'>a</span><span class='token' style='background-color: rgba(230, 245, 201, 0.675);'>g</span><span class='token' style='background-color: rgba(255, 242, 174, 0.675);'>a</span><span class='token' style='background-color: rgba(241, 226, 204, 0.675);'>i</span><span class='token' style='background-color: rgba(204, 204, 204, 0.675);'>n</span><span class='token' style='background-color: rgba(179, 226, 205, 0.675);'>&nbsp;</span><span class='token' style='background-color: rgba(253, 205, 172, 0.675);'>f</span><span class='token' style='background-color: rgba(203, 213, 232, 0.675);'>o</span><span class='token' style='background-color: rgba(244, 202, 228, 0.675);'>r</span><span class='token' style='background-color: rgba(230, 245, 201, 0.675);'>&nbsp;</span><span class='token' style='background-color: rgba(255, 242, 174, 0.675);'>s</span><span class='token' style='background-color: rgba(241, 226, 204, 0.675);'>u</span><span class='token' style='background-color: rgba(204, 204, 204, 0.675);'>c</span><span class='token' style='background-color: rgba(179, 226, 205, 0.675);'>h</span><span class='token' style='background-color: rgba(253, 205, 172, 0.675);'>&nbsp;</span><span class='token' style='background-color: rgba(203, 213, 232, 0.675);'>a</span><span class='token' style='background-color: rgba(244, 202, 228, 0.675);'>&nbsp;</span><span class='token' style='background-color: rgba(230, 245, 201, 0.675);'>s</span><span class='token' style='background-color: rgba(255, 242, 174, 0.675);'>a</span><span class='token' style='background-color: rgba(241, 226, 204, 0.675);'>k</span><span class='token' style='background-color: rgba(204, 204, 204, 0.675);'>e</span><span class='token' style='background-color: rgba(179, 226, 205, 0.675);'>.</span><span class='token' style='background-color: rgba(253, 205, 172, 0.675);'><br></span></div>"
      ],
      "text/plain": [
       "<IPython.core.display.HTML object>"
      ]
     },
     "metadata": {},
     "output_type": "display_data"
    }
   ],
   "source": [
    "print(\"\\n... BPE TOKENIZATION:\")\n",
    "bpe_token_viz = TokenVisualization(\n",
    "    encoder=bpe_encoder,\n",
    "    decoder=bpe_decoder,\n",
    "    background_color=\"#FBFBFB\"\n",
    ")\n",
    "_ = bpe_token_viz.visualize(rcts_chunks[0], display_inline=True)\n",
    "\n",
    "print(\"\\n... UNIGRAM TOKENIZATION:\")\n",
    "uni_token_viz = TokenVisualization(\n",
    "    encoder=uni_encoder,\n",
    "    decoder=uni_decoder,\n",
    "    background_color=\"#FBFBFB\"\n",
    ")\n",
    "_ = uni_token_viz.visualize(rcts_chunks[0], display_inline=True)\n",
    "\n",
    "\n",
    "### FOR FUN AND VIZ ###\n",
    "print(\"\\n... CHAR TOKENIZATION:\")\n",
    "dumb_char_map_s2i = {x:i for i, x in enumerate(set(basic_chunks[0]))}\n",
    "dumb_char_map_i2s = {v:k for k,v in dumb_char_map_s2i.items()}\n",
    "char_token_viz = TokenVisualization(\n",
    "    encoder=lambda x: [dumb_char_map_s2i.get(_x) for _x in x] if type(x)==str else dumb_char_map_s2i.get(x),\n",
    "    decoder=lambda x: \"\".join([dumb_char_map_i2s.get(_x) for _x in x]) if type(x)==list else dumb_char_map_i2s.get(x),\n",
    "    background_color=\"#FBFBFB\"\n",
    ")\n",
    "_ = char_token_viz.visualize(basic_chunks[0], display_inline=True)"
   ]
  },
  {
   "cell_type": "markdown",
   "id": "28b78d20-17c7-4e7e-9f80-155aa86089cc",
   "metadata": {},
   "source": [
    "<br>\n",
    "\n",
    "<div align=\"center\">\n",
    "\n",
    "## 📊 Basic Exploratory Data Analysis (EDA) <a name=\"basic-eda\"></a>\n",
    "\n",
    "</div>\n",
    "\n",
    "<br>\n",
    "\n",
    "Here, we'll perform a basic EDA on the dataset to gain insights and identify potential issues. This analysis may include examining token frequency, distribution of chunk lengths, and other relevant characteristics. This information can be helpful in understanding the dataset's structure and guiding further preprocessing decisions.\n",
    "\n",
    "We will utilize the metadata columns we create to create different versions of the dataset:\n",
    "\n",
    "<br>\n",
    "\n",
    "<table>\n",
    "  <thead>\n",
    "    <tr>\n",
    "      <th style=\"text-align: center; font-weight: bold; width: 15%;\">Version</th>\n",
    "      <th style=\"text-align: center; font-weight: bold; width: 85%;\">Description</th>\n",
    "    </tr>\n",
    "  </thead>\n",
    "  <tbody>\n",
    "    <tr>\n",
    "      <td style=\"text-align: center;\"><strong>v1</strong></td>\n",
    "        <td>No filtering, no chunks removed. We just generate metadata and (optional) prepend a <b>[CLS]</b> token to every chunk.</td>\n",
    "    </tr>\n",
    "    <tr>\n",
    "      <td style=\"text-align: center;\"><strong>v2</strong></td>\n",
    "      <td>Split into individual datasets for bpe, unigram within each chunking technique (4 datasets total)<br>Rename columns to not specify tokenization method to allow for more generalization across interaction</td>\n",
    "    </tr>\n",
    "    <tr>\n",
    "      <td style=\"text-align: center;\"><strong>v3</strong></td>\n",
    "      <td>Drop small chunks<br>Drop really big chunks</td>\n",
    "    </tr>\n",
    "    <tr>\n",
    "      <td style=\"text-align: center;\"><strong>v4</strong></td>\n",
    "      <td>Evenly pad/truncated tokenized sequences up to reasonable length (close to max length --> 90th percentile?)</td>\n",
    "    </tr>\n",
    "  </tbody>\n",
    "</table>\n",
    "\n",
    "<br>\n",
    "\n"
   ]
  },
  {
   "cell_type": "code",
   "execution_count": 46,
   "id": "92289f97-bf0d-42bb-85c9-5ffeb3259694",
   "metadata": {},
   "outputs": [
    {
     "data": {
      "application/vnd.jupyter.widget-view+json": {
       "model_id": "5c6e485b1c634e3fa565672b31f138ca",
       "version_major": 2,
       "version_minor": 0
      },
      "text/plain": [
       "  0%|          | 0/7770 [00:00<?, ?it/s]"
      ]
     },
     "metadata": {},
     "output_type": "display_data"
    },
    {
     "data": {
      "application/vnd.jupyter.widget-view+json": {
       "model_id": "aac69319d9ff4b79b274aff4c9cbe927",
       "version_major": 2,
       "version_minor": 0
      },
      "text/plain": [
       "  0%|          | 0/7770 [00:00<?, ?it/s]"
      ]
     },
     "metadata": {},
     "output_type": "display_data"
    },
    {
     "data": {
      "application/vnd.jupyter.widget-view+json": {
       "model_id": "cacd054f35b84ab8bb761bceaf4a7219",
       "version_major": 2,
       "version_minor": 0
      },
      "text/plain": [
       "  0%|          | 0/6986 [00:00<?, ?it/s]"
      ]
     },
     "metadata": {},
     "output_type": "display_data"
    },
    {
     "data": {
      "application/vnd.jupyter.widget-view+json": {
       "model_id": "c39b8ea496854e7fadf8b58b8affc085",
       "version_major": 2,
       "version_minor": 0
      },
      "text/plain": [
       "  0%|          | 0/6986 [00:00<?, ?it/s]"
      ]
     },
     "metadata": {},
     "output_type": "display_data"
    }
   ],
   "source": [
    "# 1. Setup - Create directories if necessary    \n",
    "DATASET_DIR = os.path.join(DATA_PATH, \"datasets\")\n",
    "if not os.path.isdir(DATASET_DIR): os.makedirs(DATASET_DIR, exist_ok=True)\n",
    "META_DIR = os.path.join(DATASET_DIR, \"meta\")\n",
    "if not os.path.isdir(META_DIR): os.makedirs(META_DIR, exist_ok=True)\n",
    "\n",
    "\n",
    "# 2. Dataframe and metadata creation\n",
    "#       - Instantiate\n",
    "#       - Create metadata columns\n",
    "#       - Create metadata dataframe (optional)\n",
    "basic_chunk_df = pd.DataFrame({\"content\":basic_chunks})\n",
    "rcts_chunk_df = pd.DataFrame({\"content\":rcts_chunks})\n",
    "\n",
    "for _df in [basic_chunk_df, rcts_chunk_df]:\n",
    "    if PREPEND_CLS: _df[\"content\"] = \"[CLS] \"+_df[\"content\"]\n",
    "    _df[\"uni_token_content\"] = _df[\"content\"].progress_apply(lambda x: tokenize(x, uni_encoder))\n",
    "    _df[\"bpe_token_content\"] = _df[\"content\"].progress_apply(lambda x: tokenize(x, bpe_encoder))\n",
    "    _df[\"n_uni_tokens\"] = _df[\"uni_token_content\"].apply(get_n_tokens)\n",
    "    _df[\"n_bpe_tokens\"] = _df[\"bpe_token_content\"].apply(get_n_tokens)\n",
    "    _df[\"n_chars\"] = _df[\"content\"].apply(get_n_chars)\n",
    "    _df[\"n_lines\"] = _df[\"content\"].apply(get_n_lines)\n",
    "    _df[\"valid_uni_chunk\"] = _df[\"n_uni_tokens\"].apply(check_chunks)\n",
    "    _df[\"valid_bpe_chunk\"] = _df[\"n_bpe_tokens\"].apply(check_chunks)\n",
    "\n",
    "basic_chunk_df_meta = get_metadata_df(basic_chunk_df)\n",
    "rcts_chunk_df_meta = get_metadata_df(rcts_chunk_df)\n",
    "\n",
    "\n",
    "# 3. Versioning\n",
    "    \n",
    "######################################## v1 ########################################\n",
    "# Save the previously created datasets along with the manually created metadata\n",
    "####################################################################################\n",
    "save_ds_version(rcts_chunk_df, \"rcts\", version_str=\"v1\", meta_dir=META_DIR, ds_dir=DATASET_DIR, meta_df=rcts_chunk_df_meta)\n",
    "save_ds_version(basic_chunk_df, \"basic\", version_str=\"v1\", meta_dir=META_DIR, ds_dir=DATASET_DIR, meta_df=basic_chunk_df_meta)\n",
    "####################################################################################\n",
    "\n",
    "######################################## v2 ########################################\n",
    "# Split bpe and unigram into their own dataframes (meta is generated automatically)\n",
    "####################################################################################\n",
    "rcts_uni_chunk_df = rcts_chunk_df.copy().drop(columns=[_c for _c in rcts_chunk_df.columns if \"bpe\" in _c])\n",
    "basic_uni_chunk_df = basic_chunk_df.copy().drop(columns=[_c for _c in basic_chunk_df.columns if \"bpe\" in _c])\n",
    "rcts_bpe_chunk_df = rcts_chunk_df.copy().drop(columns=[_c for _c in rcts_chunk_df.columns if \"uni\" in _c])\n",
    "basic_bpe_chunk_df = basic_chunk_df.copy().drop(columns=[_c for _c in basic_chunk_df.columns if \"uni\" in _c])\n",
    "\n",
    "# Rename columns\n",
    "rcts_uni_chunk_df = drop_str_from_col_names(rcts_uni_chunk_df, \"uni\")\n",
    "rcts_bpe_chunk_df = drop_str_from_col_names(rcts_bpe_chunk_df, \"bpe\")\n",
    "basic_uni_chunk_df = drop_str_from_col_names(basic_uni_chunk_df, \"uni\")\n",
    "basic_bpe_chunk_df = drop_str_from_col_names(basic_bpe_chunk_df, \"bpe\")\n",
    "\n",
    "save_ds_version(rcts_uni_chunk_df, \"rcts_uni\", version_str=\"v2\", meta_dir=META_DIR, ds_dir=DATASET_DIR)\n",
    "save_ds_version(rcts_bpe_chunk_df, \"rcts_bpe\", version_str=\"v2\", meta_dir=META_DIR, ds_dir=DATASET_DIR)\n",
    "save_ds_version(basic_uni_chunk_df, \"basic_uni\", version_str=\"v2\", meta_dir=META_DIR, ds_dir=DATASET_DIR)\n",
    "save_ds_version(basic_bpe_chunk_df, \"basic_bpe\", version_str=\"v2\", meta_dir=META_DIR, ds_dir=DATASET_DIR)\n",
    "####################################################################################\n",
    "\n",
    "######################################## v3 ########################################\n",
    "# Filtering (big and little get dropped)\n",
    "####################################################################################\n",
    "\n",
    "# Filter and drop valid chunk col\n",
    "for _df in [rcts_uni_chunk_df, rcts_bpe_chunk_df, basic_uni_chunk_df, basic_bpe_chunk_df]:\n",
    "    _df = _df[_df.valid_chunk].drop(columns=[\"valid_chunk\"]).reset_index(drop=True)\n",
    "\n",
    "# Save\n",
    "save_ds_version(rcts_uni_chunk_df, \"rcts_uni\", version_str=\"v3\", meta_dir=META_DIR, ds_dir=DATASET_DIR)\n",
    "save_ds_version(rcts_bpe_chunk_df, \"rcts_bpe\", version_str=\"v3\", meta_dir=META_DIR, ds_dir=DATASET_DIR)\n",
    "save_ds_version(basic_uni_chunk_df, \"basic_uni\", version_str=\"v3\", meta_dir=META_DIR, ds_dir=DATASET_DIR)\n",
    "save_ds_version(basic_bpe_chunk_df, \"basic_bpe\", version_str=\"v3\", meta_dir=META_DIR, ds_dir=DATASET_DIR)\n",
    "####################################################################################\n",
    "\n",
    "# ######################################## v4 ########################################\n",
    "# # Padding and truncation --> basic upper limit of 384 (assuming context lengths of 64-128)\n",
    "# ####################################################################################\n",
    "FIXED_CHUNK_SIZE = 384\n",
    "\n",
    "for _df in [rcts_uni_chunk_df, rcts_bpe_chunk_df, basic_uni_chunk_df, basic_bpe_chunk_df]:\n",
    "    _df[\"token_content\"] = _df[\"token_content\"].apply(lambda x: pad_truncate_centered(x, FIXED_CHUNK_SIZE))\n",
    "\n",
    "save_ds_version(rcts_uni_chunk_df, \"rcts_uni\", version_str=\"v4\", meta_dir=META_DIR, ds_dir=DATASET_DIR)\n",
    "save_ds_version(rcts_bpe_chunk_df, \"rcts_bpe\", version_str=\"v4\", meta_dir=META_DIR, ds_dir=DATASET_DIR)\n",
    "save_ds_version(basic_uni_chunk_df, \"basic_uni\", version_str=\"v4\", meta_dir=META_DIR, ds_dir=DATASET_DIR)\n",
    "save_ds_version(basic_bpe_chunk_df, \"basic_bpe\", version_str=\"v4\", meta_dir=META_DIR, ds_dir=DATASET_DIR)\n",
    "# ####################################################################################"
   ]
  },
  {
   "cell_type": "markdown",
   "id": "e0aabee3-7e10-4898-906b-9d663529afca",
   "metadata": {},
   "source": [
    "<br>\n",
    "\n",
    "<div align=\"center\">\n",
    "\n",
    "## 💾 Converting to TFRecords <a name=\"converting-to-tfrecords\"></a>\n",
    "\n",
    "</div>\n",
    "\n",
    "<br>\n",
    "\n",
    "Finally, after completing the preprocessing steps and EDA, we'll convert the toy dataset into the `TFRecords` format. This efficient binary format is designed for use with TensorFlow and will enable seamless integration with your Language Model training pipeline.\n",
    "\n"
   ]
  },
  {
   "cell_type": "code",
   "execution_count": 50,
   "id": "d462afc7-0760-4544-9455-86f22e9ebe7a",
   "metadata": {
    "tags": []
   },
   "outputs": [
    {
     "name": "stderr",
     "output_type": "stream",
     "text": [
      "Writing TFRecords:   0%|                                                                  | 0/70 [00:00<?, ?it/s]"
     ]
    },
    {
     "name": "stdout",
     "output_type": "stream",
     "text": [
      "\n",
      "... Writing TFRecord 1 of 70 (100 per TFRecord)...\n",
      "\n"
     ]
    },
    {
     "name": "stderr",
     "output_type": "stream",
     "text": [
      "\n",
      "100%|███████████████████████████████████████████████████████████████████████| 100/100 [00:00<00:00, 15392.51it/s]\u001b[A\n"
     ]
    },
    {
     "name": "stdout",
     "output_type": "stream",
     "text": [
      "\n",
      "... Writing TFRecord 2 of 70 (100 per TFRecord)...\n",
      "\n"
     ]
    },
    {
     "name": "stderr",
     "output_type": "stream",
     "text": [
      "\n",
      "100%|███████████████████████████████████████████████████████████████████████| 100/100 [00:00<00:00, 13807.50it/s]\u001b[A\n"
     ]
    },
    {
     "name": "stdout",
     "output_type": "stream",
     "text": [
      "\n",
      "... Writing TFRecord 3 of 70 (100 per TFRecord)...\n",
      "\n"
     ]
    },
    {
     "name": "stderr",
     "output_type": "stream",
     "text": [
      "\n",
      "100%|███████████████████████████████████████████████████████████████████████| 100/100 [00:00<00:00, 14012.31it/s]\u001b[A\n"
     ]
    },
    {
     "name": "stdout",
     "output_type": "stream",
     "text": [
      "\n",
      "... Writing TFRecord 4 of 70 (100 per TFRecord)...\n",
      "\n"
     ]
    },
    {
     "name": "stderr",
     "output_type": "stream",
     "text": [
      "\n",
      "100%|███████████████████████████████████████████████████████████████████████| 100/100 [00:00<00:00, 14209.31it/s]\u001b[A\n"
     ]
    },
    {
     "name": "stdout",
     "output_type": "stream",
     "text": [
      "\n",
      "... Writing TFRecord 5 of 70 (100 per TFRecord)...\n",
      "\n"
     ]
    },
    {
     "name": "stderr",
     "output_type": "stream",
     "text": [
      "\n",
      "100%|███████████████████████████████████████████████████████████████████████| 100/100 [00:00<00:00, 14185.76it/s]\u001b[A\n"
     ]
    },
    {
     "name": "stdout",
     "output_type": "stream",
     "text": [
      "\n",
      "... Writing TFRecord 6 of 70 (100 per TFRecord)...\n",
      "\n"
     ]
    },
    {
     "name": "stderr",
     "output_type": "stream",
     "text": [
      "\n",
      "100%|███████████████████████████████████████████████████████████████████████| 100/100 [00:00<00:00, 14098.97it/s]\u001b[A\n"
     ]
    },
    {
     "name": "stdout",
     "output_type": "stream",
     "text": [
      "\n",
      "... Writing TFRecord 7 of 70 (100 per TFRecord)...\n",
      "\n"
     ]
    },
    {
     "name": "stderr",
     "output_type": "stream",
     "text": [
      "\n",
      "100%|███████████████████████████████████████████████████████████████████████| 100/100 [00:00<00:00, 14185.76it/s]\u001b[A\n"
     ]
    },
    {
     "name": "stdout",
     "output_type": "stream",
     "text": [
      "\n",
      "... Writing TFRecord 8 of 70 (100 per TFRecord)...\n",
      "\n"
     ]
    },
    {
     "name": "stderr",
     "output_type": "stream",
     "text": [
      "\n",
      "100%|███████████████████████████████████████████████████████████████████████| 100/100 [00:00<00:00, 14314.54it/s]\u001b[A\n"
     ]
    },
    {
     "name": "stdout",
     "output_type": "stream",
     "text": [
      "\n",
      "... Writing TFRecord 9 of 70 (100 per TFRecord)...\n",
      "\n"
     ]
    },
    {
     "name": "stderr",
     "output_type": "stream",
     "text": [
      "\n",
      "100%|███████████████████████████████████████████████████████████████████████| 100/100 [00:00<00:00, 15328.38it/s]\u001b[A\n"
     ]
    },
    {
     "name": "stdout",
     "output_type": "stream",
     "text": [
      "\n",
      "... Writing TFRecord 10 of 70 (100 per TFRecord)...\n",
      "\n"
     ]
    },
    {
     "name": "stderr",
     "output_type": "stream",
     "text": [
      "\n",
      "100%|███████████████████████████████████████████████████████████████████████| 100/100 [00:00<00:00, 14380.80it/s]\u001b[A\n",
      "Writing TFRecords:  14%|████████▏                                                | 10/70 [00:00<00:00, 95.08it/s]"
     ]
    },
    {
     "name": "stdout",
     "output_type": "stream",
     "text": [
      "\n",
      "... Writing TFRecord 11 of 70 (100 per TFRecord)...\n",
      "\n"
     ]
    },
    {
     "name": "stderr",
     "output_type": "stream",
     "text": [
      "\n",
      "100%|███████████████████████████████████████████████████████████████████████| 100/100 [00:00<00:00, 14547.90it/s]\u001b[A\n"
     ]
    },
    {
     "name": "stdout",
     "output_type": "stream",
     "text": [
      "\n",
      "... Writing TFRecord 12 of 70 (100 per TFRecord)...\n",
      "\n"
     ]
    },
    {
     "name": "stderr",
     "output_type": "stream",
     "text": [
      "\n",
      "100%|███████████████████████████████████████████████████████████████████████| 100/100 [00:00<00:00, 14664.37it/s]\u001b[A\n"
     ]
    },
    {
     "name": "stdout",
     "output_type": "stream",
     "text": [
      "\n",
      "... Writing TFRecord 13 of 70 (100 per TFRecord)...\n",
      "\n"
     ]
    },
    {
     "name": "stderr",
     "output_type": "stream",
     "text": [
      "\n",
      "100%|███████████████████████████████████████████████████████████████████████| 100/100 [00:00<00:00, 13666.68it/s]\u001b[A\n"
     ]
    },
    {
     "name": "stdout",
     "output_type": "stream",
     "text": [
      "\n",
      "... Writing TFRecord 14 of 70 (100 per TFRecord)...\n",
      "\n"
     ]
    },
    {
     "name": "stderr",
     "output_type": "stream",
     "text": [
      "\n",
      "100%|███████████████████████████████████████████████████████████████████████| 100/100 [00:00<00:00, 13754.52it/s]\u001b[A\n"
     ]
    },
    {
     "name": "stdout",
     "output_type": "stream",
     "text": [
      "\n",
      "... Writing TFRecord 15 of 70 (100 per TFRecord)...\n",
      "\n"
     ]
    },
    {
     "name": "stderr",
     "output_type": "stream",
     "text": [
      "\n",
      "100%|███████████████████████████████████████████████████████████████████████| 100/100 [00:00<00:00, 14984.47it/s]\u001b[A\n"
     ]
    },
    {
     "name": "stdout",
     "output_type": "stream",
     "text": [
      "\n",
      "... Writing TFRecord 16 of 70 (100 per TFRecord)...\n",
      "\n"
     ]
    },
    {
     "name": "stderr",
     "output_type": "stream",
     "text": [
      "\n",
      "100%|███████████████████████████████████████████████████████████████████████| 100/100 [00:00<00:00, 13738.30it/s]\u001b[A\n"
     ]
    },
    {
     "name": "stdout",
     "output_type": "stream",
     "text": [
      "\n",
      "... Writing TFRecord 17 of 70 (100 per TFRecord)...\n",
      "\n"
     ]
    },
    {
     "name": "stderr",
     "output_type": "stream",
     "text": [
      "\n",
      "100%|███████████████████████████████████████████████████████████████████████| 100/100 [00:00<00:00, 13908.23it/s]\u001b[A\n"
     ]
    },
    {
     "name": "stdout",
     "output_type": "stream",
     "text": [
      "\n",
      "... Writing TFRecord 18 of 70 (100 per TFRecord)...\n",
      "\n"
     ]
    },
    {
     "name": "stderr",
     "output_type": "stream",
     "text": [
      "\n",
      "100%|███████████████████████████████████████████████████████████████████████| 100/100 [00:00<00:00, 13887.04it/s]\u001b[A\n"
     ]
    },
    {
     "name": "stdout",
     "output_type": "stream",
     "text": [
      "\n",
      "... Writing TFRecord 19 of 70 (100 per TFRecord)...\n",
      "\n"
     ]
    },
    {
     "name": "stderr",
     "output_type": "stream",
     "text": [
      "\n",
      "100%|███████████████████████████████████████████████████████████████████████| 100/100 [00:00<00:00, 13980.08it/s]\u001b[A\n"
     ]
    },
    {
     "name": "stdout",
     "output_type": "stream",
     "text": [
      "\n",
      "... Writing TFRecord 20 of 70 (100 per TFRecord)...\n",
      "\n"
     ]
    },
    {
     "name": "stderr",
     "output_type": "stream",
     "text": [
      "\n",
      "100%|███████████████████████████████████████████████████████████████████████| 100/100 [00:00<00:00, 14900.90it/s]\u001b[A\n",
      "Writing TFRecords:  29%|████████████████▎                                        | 20/70 [00:00<00:00, 95.55it/s]"
     ]
    },
    {
     "name": "stdout",
     "output_type": "stream",
     "text": [
      "\n",
      "... Writing TFRecord 21 of 70 (100 per TFRecord)...\n",
      "\n"
     ]
    },
    {
     "name": "stderr",
     "output_type": "stream",
     "text": [
      "\n",
      "100%|███████████████████████████████████████████████████████████████████████| 100/100 [00:00<00:00, 14185.76it/s]\u001b[A\n"
     ]
    },
    {
     "name": "stdout",
     "output_type": "stream",
     "text": [
      "\n",
      "... Writing TFRecord 22 of 70 (100 per TFRecord)...\n",
      "\n"
     ]
    },
    {
     "name": "stderr",
     "output_type": "stream",
     "text": [
      "\n",
      "100%|███████████████████████████████████████████████████████████████████████| 100/100 [00:00<00:00, 12826.62it/s]\u001b[A\n"
     ]
    },
    {
     "name": "stdout",
     "output_type": "stream",
     "text": [
      "\n",
      "... Writing TFRecord 23 of 70 (100 per TFRecord)...\n",
      "\n"
     ]
    },
    {
     "name": "stderr",
     "output_type": "stream",
     "text": [
      "\n",
      "100%|███████████████████████████████████████████████████████████████████████| 100/100 [00:00<00:00, 15717.24it/s]\u001b[A\n"
     ]
    },
    {
     "name": "stdout",
     "output_type": "stream",
     "text": [
      "\n",
      "... Writing TFRecord 24 of 70 (100 per TFRecord)...\n",
      "\n"
     ]
    },
    {
     "name": "stderr",
     "output_type": "stream",
     "text": [
      "\n",
      "100%|███████████████████████████████████████████████████████████████████████| 100/100 [00:00<00:00, 15574.26it/s]\u001b[A\n"
     ]
    },
    {
     "name": "stdout",
     "output_type": "stream",
     "text": [
      "\n",
      "... Writing TFRecord 25 of 70 (100 per TFRecord)...\n",
      "\n"
     ]
    },
    {
     "name": "stderr",
     "output_type": "stream",
     "text": [
      "\n",
      "100%|███████████████████████████████████████████████████████████████████████| 100/100 [00:00<00:00, 14058.33it/s]\u001b[A\n"
     ]
    },
    {
     "name": "stdout",
     "output_type": "stream",
     "text": [
      "\n",
      "... Writing TFRecord 26 of 70 (100 per TFRecord)...\n",
      "\n"
     ]
    },
    {
     "name": "stderr",
     "output_type": "stream",
     "text": [
      "\n",
      "100%|███████████████████████████████████████████████████████████████████████| 100/100 [00:00<00:00, 13336.84it/s]\u001b[A\n"
     ]
    },
    {
     "name": "stdout",
     "output_type": "stream",
     "text": [
      "\n",
      "... Writing TFRecord 27 of 70 (100 per TFRecord)...\n",
      "\n"
     ]
    },
    {
     "name": "stderr",
     "output_type": "stream",
     "text": [
      "\n",
      "100%|███████████████████████████████████████████████████████████████████████| 100/100 [00:00<00:00, 14065.88it/s]\u001b[A\n"
     ]
    },
    {
     "name": "stdout",
     "output_type": "stream",
     "text": [
      "\n",
      "... Writing TFRecord 28 of 70 (100 per TFRecord)...\n",
      "\n"
     ]
    },
    {
     "name": "stderr",
     "output_type": "stream",
     "text": [
      "\n",
      "100%|███████████████████████████████████████████████████████████████████████| 100/100 [00:00<00:00, 13907.30it/s]\u001b[A\n"
     ]
    },
    {
     "name": "stdout",
     "output_type": "stream",
     "text": [
      "\n",
      "... Writing TFRecord 29 of 70 (100 per TFRecord)...\n",
      "\n"
     ]
    },
    {
     "name": "stderr",
     "output_type": "stream",
     "text": [
      "\n",
      "100%|███████████████████████████████████████████████████████████████████████| 100/100 [00:00<00:00, 14475.60it/s]\u001b[A\n"
     ]
    },
    {
     "name": "stdout",
     "output_type": "stream",
     "text": [
      "\n",
      "... Writing TFRecord 30 of 70 (100 per TFRecord)...\n",
      "\n"
     ]
    },
    {
     "name": "stderr",
     "output_type": "stream",
     "text": [
      "\n",
      "100%|███████████████████████████████████████████████████████████████████████| 100/100 [00:00<00:00, 13783.45it/s]\u001b[A\n",
      "Writing TFRecords:  43%|████████████████████████▍                                | 30/70 [00:00<00:00, 93.91it/s]"
     ]
    },
    {
     "name": "stdout",
     "output_type": "stream",
     "text": [
      "\n",
      "... Writing TFRecord 31 of 70 (100 per TFRecord)...\n",
      "\n"
     ]
    },
    {
     "name": "stderr",
     "output_type": "stream",
     "text": [
      "\n",
      "100%|███████████████████████████████████████████████████████████████████████| 100/100 [00:00<00:00, 13865.01it/s]\u001b[A\n"
     ]
    },
    {
     "name": "stdout",
     "output_type": "stream",
     "text": [
      "\n",
      "... Writing TFRecord 32 of 70 (100 per TFRecord)...\n",
      "\n"
     ]
    },
    {
     "name": "stderr",
     "output_type": "stream",
     "text": [
      "\n",
      "100%|███████████████████████████████████████████████████████████████████████| 100/100 [00:00<00:00, 13881.53it/s]\u001b[A\n"
     ]
    },
    {
     "name": "stdout",
     "output_type": "stream",
     "text": [
      "\n",
      "... Writing TFRecord 33 of 70 (100 per TFRecord)...\n",
      "\n"
     ]
    },
    {
     "name": "stderr",
     "output_type": "stream",
     "text": [
      "\n",
      "100%|███████████████████████████████████████████████████████████████████████| 100/100 [00:00<00:00, 13721.67it/s]\u001b[A\n"
     ]
    },
    {
     "name": "stdout",
     "output_type": "stream",
     "text": [
      "\n",
      "... Writing TFRecord 34 of 70 (100 per TFRecord)...\n",
      "\n"
     ]
    },
    {
     "name": "stderr",
     "output_type": "stream",
     "text": [
      "\n",
      "100%|███████████████████████████████████████████████████████████████████████| 100/100 [00:00<00:00, 13239.18it/s]\u001b[A\n"
     ]
    },
    {
     "name": "stdout",
     "output_type": "stream",
     "text": [
      "\n",
      "... Writing TFRecord 35 of 70 (100 per TFRecord)...\n",
      "\n"
     ]
    },
    {
     "name": "stderr",
     "output_type": "stream",
     "text": [
      "\n",
      "100%|███████████████████████████████████████████████████████████████████████| 100/100 [00:00<00:00, 13812.96it/s]\u001b[A\n"
     ]
    },
    {
     "name": "stdout",
     "output_type": "stream",
     "text": [
      "\n",
      "... Writing TFRecord 36 of 70 (100 per TFRecord)...\n",
      "\n"
     ]
    },
    {
     "name": "stderr",
     "output_type": "stream",
     "text": [
      "\n",
      "100%|███████████████████████████████████████████████████████████████████████| 100/100 [00:00<00:00, 13923.93it/s]\u001b[A\n"
     ]
    },
    {
     "name": "stdout",
     "output_type": "stream",
     "text": [
      "\n",
      "... Writing TFRecord 37 of 70 (100 per TFRecord)...\n",
      "\n"
     ]
    },
    {
     "name": "stderr",
     "output_type": "stream",
     "text": [
      "\n",
      "100%|███████████████████████████████████████████████████████████████████████| 100/100 [00:00<00:00, 13602.41it/s]\u001b[A\n"
     ]
    },
    {
     "name": "stdout",
     "output_type": "stream",
     "text": [
      "\n",
      "... Writing TFRecord 38 of 70 (100 per TFRecord)...\n",
      "\n"
     ]
    },
    {
     "name": "stderr",
     "output_type": "stream",
     "text": [
      "\n",
      "100%|███████████████████████████████████████████████████████████████████████| 100/100 [00:00<00:00, 14000.61it/s]\u001b[A\n"
     ]
    },
    {
     "name": "stdout",
     "output_type": "stream",
     "text": [
      "\n",
      "... Writing TFRecord 39 of 70 (100 per TFRecord)...\n",
      "\n"
     ]
    },
    {
     "name": "stderr",
     "output_type": "stream",
     "text": [
      "\n",
      "100%|███████████████████████████████████████████████████████████████████████| 100/100 [00:00<00:00, 13692.56it/s]\u001b[A\n"
     ]
    },
    {
     "name": "stdout",
     "output_type": "stream",
     "text": [
      "\n",
      "... Writing TFRecord 40 of 70 (100 per TFRecord)...\n",
      "\n"
     ]
    },
    {
     "name": "stderr",
     "output_type": "stream",
     "text": [
      "\n",
      "100%|███████████████████████████████████████████████████████████████████████| 100/100 [00:00<00:00, 13925.31it/s]\u001b[A\n",
      "Writing TFRecords:  57%|████████████████████████████████▌                        | 40/70 [00:00<00:00, 93.84it/s]"
     ]
    },
    {
     "name": "stdout",
     "output_type": "stream",
     "text": [
      "\n",
      "... Writing TFRecord 41 of 70 (100 per TFRecord)...\n",
      "\n"
     ]
    },
    {
     "name": "stderr",
     "output_type": "stream",
     "text": [
      "\n",
      "100%|███████████████████████████████████████████████████████████████████████| 100/100 [00:00<00:00, 13881.53it/s]\u001b[A\n"
     ]
    },
    {
     "name": "stdout",
     "output_type": "stream",
     "text": [
      "\n",
      "... Writing TFRecord 42 of 70 (100 per TFRecord)...\n",
      "\n"
     ]
    },
    {
     "name": "stderr",
     "output_type": "stream",
     "text": [
      "\n",
      "100%|███████████████████████████████████████████████████████████████████████| 100/100 [00:00<00:00, 13712.25it/s]\u001b[A\n"
     ]
    },
    {
     "name": "stdout",
     "output_type": "stream",
     "text": [
      "\n",
      "... Writing TFRecord 43 of 70 (100 per TFRecord)...\n",
      "\n"
     ]
    },
    {
     "name": "stderr",
     "output_type": "stream",
     "text": [
      "\n",
      "100%|███████████████████████████████████████████████████████████████████████| 100/100 [00:00<00:00, 14179.53it/s]\u001b[A\n"
     ]
    },
    {
     "name": "stdout",
     "output_type": "stream",
     "text": [
      "\n",
      "... Writing TFRecord 44 of 70 (100 per TFRecord)...\n",
      "\n"
     ]
    },
    {
     "name": "stderr",
     "output_type": "stream",
     "text": [
      "\n",
      "100%|███████████████████████████████████████████████████████████████████████| 100/100 [00:00<00:00, 13920.69it/s]\u001b[A\n"
     ]
    },
    {
     "name": "stdout",
     "output_type": "stream",
     "text": [
      "\n",
      "... Writing TFRecord 45 of 70 (100 per TFRecord)...\n",
      "\n"
     ]
    },
    {
     "name": "stderr",
     "output_type": "stream",
     "text": [
      "\n",
      "100%|███████████████████████████████████████████████████████████████████████| 100/100 [00:00<00:00, 13952.18it/s]\u001b[A\n"
     ]
    },
    {
     "name": "stdout",
     "output_type": "stream",
     "text": [
      "\n",
      "... Writing TFRecord 46 of 70 (100 per TFRecord)...\n",
      "\n"
     ]
    },
    {
     "name": "stderr",
     "output_type": "stream",
     "text": [
      "\n",
      "100%|███████████████████████████████████████████████████████████████████████| 100/100 [00:00<00:00, 13683.62it/s]\u001b[A\n"
     ]
    },
    {
     "name": "stdout",
     "output_type": "stream",
     "text": [
      "\n",
      "... Writing TFRecord 47 of 70 (100 per TFRecord)...\n",
      "\n"
     ]
    },
    {
     "name": "stderr",
     "output_type": "stream",
     "text": [
      "\n",
      "100%|███████████████████████████████████████████████████████████████████████| 100/100 [00:00<00:00, 13379.39it/s]\u001b[A\n"
     ]
    },
    {
     "name": "stdout",
     "output_type": "stream",
     "text": [
      "\n",
      "... Writing TFRecord 48 of 70 (100 per TFRecord)...\n",
      "\n"
     ]
    },
    {
     "name": "stderr",
     "output_type": "stream",
     "text": [
      "\n",
      "100%|███████████████████████████████████████████████████████████████████████| 100/100 [00:00<00:00, 13230.41it/s]\u001b[A\n"
     ]
    },
    {
     "name": "stdout",
     "output_type": "stream",
     "text": [
      "\n",
      "... Writing TFRecord 49 of 70 (100 per TFRecord)...\n",
      "\n"
     ]
    },
    {
     "name": "stderr",
     "output_type": "stream",
     "text": [
      "\n",
      "100%|███████████████████████████████████████████████████████████████████████| 100/100 [00:00<00:00, 13329.21it/s]\u001b[A\n"
     ]
    },
    {
     "name": "stdout",
     "output_type": "stream",
     "text": [
      "\n",
      "... Writing TFRecord 50 of 70 (100 per TFRecord)...\n",
      "\n"
     ]
    },
    {
     "name": "stderr",
     "output_type": "stream",
     "text": [
      "\n",
      "100%|███████████████████████████████████████████████████████████████████████| 100/100 [00:00<00:00, 13400.33it/s]\u001b[A\n",
      "Writing TFRecords:  71%|████████████████████████████████████████▋                | 50/70 [00:00<00:00, 93.31it/s]"
     ]
    },
    {
     "name": "stdout",
     "output_type": "stream",
     "text": [
      "\n",
      "... Writing TFRecord 51 of 70 (100 per TFRecord)...\n",
      "\n"
     ]
    },
    {
     "name": "stderr",
     "output_type": "stream",
     "text": [
      "\n",
      "100%|███████████████████████████████████████████████████████████████████████| 100/100 [00:00<00:00, 13759.94it/s]\u001b[A\n"
     ]
    },
    {
     "name": "stdout",
     "output_type": "stream",
     "text": [
      "\n",
      "... Writing TFRecord 52 of 70 (100 per TFRecord)...\n",
      "\n"
     ]
    },
    {
     "name": "stderr",
     "output_type": "stream",
     "text": [
      "\n",
      "100%|███████████████████████████████████████████████████████████████████████| 100/100 [00:00<00:00, 13439.84it/s]\u001b[A\n"
     ]
    },
    {
     "name": "stdout",
     "output_type": "stream",
     "text": [
      "\n",
      "... Writing TFRecord 53 of 70 (100 per TFRecord)...\n",
      "\n"
     ]
    },
    {
     "name": "stderr",
     "output_type": "stream",
     "text": [
      "\n",
      "100%|███████████████████████████████████████████████████████████████████████| 100/100 [00:00<00:00, 13574.24it/s]\u001b[A\n"
     ]
    },
    {
     "name": "stdout",
     "output_type": "stream",
     "text": [
      "\n",
      "... Writing TFRecord 54 of 70 (100 per TFRecord)...\n",
      "\n"
     ]
    },
    {
     "name": "stderr",
     "output_type": "stream",
     "text": [
      "\n",
      "100%|███████████████████████████████████████████████████████████████████████| 100/100 [00:00<00:00, 13554.50it/s]\u001b[A\n"
     ]
    },
    {
     "name": "stdout",
     "output_type": "stream",
     "text": [
      "\n",
      "... Writing TFRecord 55 of 70 (100 per TFRecord)...\n",
      "\n"
     ]
    },
    {
     "name": "stderr",
     "output_type": "stream",
     "text": [
      "\n",
      "100%|███████████████████████████████████████████████████████████████████████| 100/100 [00:00<00:00, 13891.18it/s]\u001b[A\n"
     ]
    },
    {
     "name": "stdout",
     "output_type": "stream",
     "text": [
      "\n",
      "... Writing TFRecord 56 of 70 (100 per TFRecord)...\n",
      "\n"
     ]
    },
    {
     "name": "stderr",
     "output_type": "stream",
     "text": [
      "\n",
      "100%|███████████████████████████████████████████████████████████████████████| 100/100 [00:00<00:00, 14032.47it/s]\u001b[A\n"
     ]
    },
    {
     "name": "stdout",
     "output_type": "stream",
     "text": [
      "\n",
      "... Writing TFRecord 57 of 70 (100 per TFRecord)...\n",
      "\n"
     ]
    },
    {
     "name": "stderr",
     "output_type": "stream",
     "text": [
      "\n",
      "100%|███████████████████████████████████████████████████████████████████████| 100/100 [00:00<00:00, 13811.14it/s]\u001b[A\n"
     ]
    },
    {
     "name": "stdout",
     "output_type": "stream",
     "text": [
      "\n",
      "... Writing TFRecord 58 of 70 (100 per TFRecord)...\n",
      "\n"
     ]
    },
    {
     "name": "stderr",
     "output_type": "stream",
     "text": [
      "\n",
      "100%|███████████████████████████████████████████████████████████████████████| 100/100 [00:00<00:00, 14142.23it/s]\u001b[A\n"
     ]
    },
    {
     "name": "stdout",
     "output_type": "stream",
     "text": [
      "\n",
      "... Writing TFRecord 59 of 70 (100 per TFRecord)...\n",
      "\n"
     ]
    },
    {
     "name": "stderr",
     "output_type": "stream",
     "text": [
      "\n",
      "100%|███████████████████████████████████████████████████████████████████████| 100/100 [00:00<00:00, 13703.29it/s]\u001b[A\n"
     ]
    },
    {
     "name": "stdout",
     "output_type": "stream",
     "text": [
      "\n",
      "... Writing TFRecord 60 of 70 (100 per TFRecord)...\n",
      "\n"
     ]
    },
    {
     "name": "stderr",
     "output_type": "stream",
     "text": [
      "\n",
      "100%|███████████████████████████████████████████████████████████████████████| 100/100 [00:00<00:00, 14111.78it/s]\u001b[A\n",
      "Writing TFRecords:  86%|████████████████████████████████████████████████▊        | 60/70 [00:00<00:00, 92.92it/s]"
     ]
    },
    {
     "name": "stdout",
     "output_type": "stream",
     "text": [
      "\n",
      "... Writing TFRecord 61 of 70 (100 per TFRecord)...\n",
      "\n"
     ]
    },
    {
     "name": "stderr",
     "output_type": "stream",
     "text": [
      "\n",
      "100%|███████████████████████████████████████████████████████████████████████| 100/100 [00:00<00:00, 13867.76it/s]\u001b[A\n"
     ]
    },
    {
     "name": "stdout",
     "output_type": "stream",
     "text": [
      "\n",
      "... Writing TFRecord 62 of 70 (100 per TFRecord)...\n",
      "\n"
     ]
    },
    {
     "name": "stderr",
     "output_type": "stream",
     "text": [
      "\n",
      "100%|███████████████████████████████████████████████████████████████████████| 100/100 [00:00<00:00, 13998.28it/s]\u001b[A\n"
     ]
    },
    {
     "name": "stdout",
     "output_type": "stream",
     "text": [
      "\n",
      "... Writing TFRecord 63 of 70 (100 per TFRecord)...\n",
      "\n"
     ]
    },
    {
     "name": "stderr",
     "output_type": "stream",
     "text": [
      "\n",
      "100%|███████████████████████████████████████████████████████████████████████| 100/100 [00:00<00:00, 14160.86it/s]\u001b[A\n"
     ]
    },
    {
     "name": "stdout",
     "output_type": "stream",
     "text": [
      "\n",
      "... Writing TFRecord 64 of 70 (100 per TFRecord)...\n",
      "\n"
     ]
    },
    {
     "name": "stderr",
     "output_type": "stream",
     "text": [
      "\n",
      "100%|███████████████████████████████████████████████████████████████████████| 100/100 [00:00<00:00, 14318.94it/s]\u001b[A\n"
     ]
    },
    {
     "name": "stdout",
     "output_type": "stream",
     "text": [
      "\n",
      "... Writing TFRecord 65 of 70 (100 per TFRecord)...\n",
      "\n"
     ]
    },
    {
     "name": "stderr",
     "output_type": "stream",
     "text": [
      "\n",
      "100%|███████████████████████████████████████████████████████████████████████| 100/100 [00:00<00:00, 14489.60it/s]\u001b[A\n"
     ]
    },
    {
     "name": "stdout",
     "output_type": "stream",
     "text": [
      "\n",
      "... Writing TFRecord 66 of 70 (100 per TFRecord)...\n",
      "\n"
     ]
    },
    {
     "name": "stderr",
     "output_type": "stream",
     "text": [
      "\n",
      "100%|███████████████████████████████████████████████████████████████████████| 100/100 [00:00<00:00, 14055.04it/s]\u001b[A\n"
     ]
    },
    {
     "name": "stdout",
     "output_type": "stream",
     "text": [
      "\n",
      "... Writing TFRecord 67 of 70 (100 per TFRecord)...\n",
      "\n"
     ]
    },
    {
     "name": "stderr",
     "output_type": "stream",
     "text": [
      "\n",
      "100%|███████████████████████████████████████████████████████████████████████| 100/100 [00:00<00:00, 13888.88it/s]\u001b[A\n"
     ]
    },
    {
     "name": "stdout",
     "output_type": "stream",
     "text": [
      "\n",
      "... Writing TFRecord 68 of 70 (100 per TFRecord)...\n",
      "\n"
     ]
    },
    {
     "name": "stderr",
     "output_type": "stream",
     "text": [
      "\n",
      "100%|███████████████████████████████████████████████████████████████████████| 100/100 [00:00<00:00, 14504.13it/s]\u001b[A\n"
     ]
    },
    {
     "name": "stdout",
     "output_type": "stream",
     "text": [
      "\n",
      "... Writing TFRecord 69 of 70 (100 per TFRecord)...\n",
      "\n"
     ]
    },
    {
     "name": "stderr",
     "output_type": "stream",
     "text": [
      "\n",
      "100%|███████████████████████████████████████████████████████████████████████| 100/100 [00:00<00:00, 13943.83it/s]\u001b[A\n"
     ]
    },
    {
     "name": "stdout",
     "output_type": "stream",
     "text": [
      "\n",
      "... Writing TFRecord 70 of 70 (100 per TFRecord)...\n",
      "\n"
     ]
    },
    {
     "name": "stderr",
     "output_type": "stream",
     "text": [
      "\n",
      " 86%|█████████████████████████████████████████████████████████████▉          | 86/100 [00:00<00:00, 13939.95it/s]\u001b[A\n",
      "Writing TFRecords: 100%|█████████████████████████████████████████████████████████| 70/70 [00:00<00:00, 93.98it/s]\n",
      "Writing TFRecords:   0%|                                                                  | 0/70 [00:00<?, ?it/s]"
     ]
    },
    {
     "name": "stdout",
     "output_type": "stream",
     "text": [
      "\n",
      "... Writing TFRecord 1 of 70 (100 per TFRecord)...\n",
      "\n"
     ]
    },
    {
     "name": "stderr",
     "output_type": "stream",
     "text": [
      "\n",
      "100%|███████████████████████████████████████████████████████████████████████| 100/100 [00:00<00:00, 13357.66it/s]\u001b[A\n"
     ]
    },
    {
     "name": "stdout",
     "output_type": "stream",
     "text": [
      "\n",
      "... Writing TFRecord 2 of 70 (100 per TFRecord)...\n",
      "\n"
     ]
    },
    {
     "name": "stderr",
     "output_type": "stream",
     "text": [
      "\n",
      "100%|███████████████████████████████████████████████████████████████████████| 100/100 [00:00<00:00, 13958.21it/s]\u001b[A\n"
     ]
    },
    {
     "name": "stdout",
     "output_type": "stream",
     "text": [
      "\n",
      "... Writing TFRecord 3 of 70 (100 per TFRecord)...\n",
      "\n"
     ]
    },
    {
     "name": "stderr",
     "output_type": "stream",
     "text": [
      "\n",
      "100%|███████████████████████████████████████████████████████████████████████| 100/100 [00:00<00:00, 13952.18it/s]\u001b[A\n"
     ]
    },
    {
     "name": "stdout",
     "output_type": "stream",
     "text": [
      "\n",
      "... Writing TFRecord 4 of 70 (100 per TFRecord)...\n",
      "\n"
     ]
    },
    {
     "name": "stderr",
     "output_type": "stream",
     "text": [
      "\n",
      "100%|███████████████████████████████████████████████████████████████████████| 100/100 [00:00<00:00, 14300.39it/s]\u001b[A\n"
     ]
    },
    {
     "name": "stdout",
     "output_type": "stream",
     "text": [
      "\n",
      "... Writing TFRecord 5 of 70 (100 per TFRecord)...\n",
      "\n"
     ]
    },
    {
     "name": "stderr",
     "output_type": "stream",
     "text": [
      "\n",
      "100%|███████████████████████████████████████████████████████████████████████| 100/100 [00:00<00:00, 14377.35it/s]\u001b[A\n"
     ]
    },
    {
     "name": "stdout",
     "output_type": "stream",
     "text": [
      "\n",
      "... Writing TFRecord 6 of 70 (100 per TFRecord)...\n",
      "\n"
     ]
    },
    {
     "name": "stderr",
     "output_type": "stream",
     "text": [
      "\n",
      "100%|███████████████████████████████████████████████████████████████████████| 100/100 [00:00<00:00, 14359.14it/s]\u001b[A\n"
     ]
    },
    {
     "name": "stdout",
     "output_type": "stream",
     "text": [
      "\n",
      "... Writing TFRecord 7 of 70 (100 per TFRecord)...\n",
      "\n"
     ]
    },
    {
     "name": "stderr",
     "output_type": "stream",
     "text": [
      "\n",
      "100%|███████████████████████████████████████████████████████████████████████| 100/100 [00:00<00:00, 13963.79it/s]\u001b[A\n"
     ]
    },
    {
     "name": "stdout",
     "output_type": "stream",
     "text": [
      "\n",
      "... Writing TFRecord 8 of 70 (100 per TFRecord)...\n",
      "\n"
     ]
    },
    {
     "name": "stderr",
     "output_type": "stream",
     "text": [
      "\n",
      "100%|███████████████████████████████████████████████████████████████████████| 100/100 [00:00<00:00, 13471.35it/s]\u001b[A\n"
     ]
    },
    {
     "name": "stdout",
     "output_type": "stream",
     "text": [
      "\n",
      "... Writing TFRecord 9 of 70 (100 per TFRecord)...\n",
      "\n"
     ]
    },
    {
     "name": "stderr",
     "output_type": "stream",
     "text": [
      "\n",
      "100%|███████████████████████████████████████████████████████████████████████| 100/100 [00:00<00:00, 14104.19it/s]\u001b[A\n"
     ]
    },
    {
     "name": "stdout",
     "output_type": "stream",
     "text": [
      "\n",
      "... Writing TFRecord 10 of 70 (100 per TFRecord)...\n",
      "\n"
     ]
    },
    {
     "name": "stderr",
     "output_type": "stream",
     "text": [
      "\n",
      "100%|███████████████████████████████████████████████████████████████████████| 100/100 [00:00<00:00, 13059.45it/s]\u001b[A\n",
      "Writing TFRecords:  14%|████████▏                                                | 10/70 [00:00<00:00, 99.32it/s]"
     ]
    },
    {
     "name": "stdout",
     "output_type": "stream",
     "text": [
      "\n",
      "... Writing TFRecord 11 of 70 (100 per TFRecord)...\n",
      "\n"
     ]
    },
    {
     "name": "stderr",
     "output_type": "stream",
     "text": [
      "\n",
      "100%|███████████████████████████████████████████████████████████████████████| 100/100 [00:00<00:00, 14614.81it/s]\u001b[A\n"
     ]
    },
    {
     "name": "stdout",
     "output_type": "stream",
     "text": [
      "\n",
      "... Writing TFRecord 12 of 70 (100 per TFRecord)...\n",
      "\n"
     ]
    },
    {
     "name": "stderr",
     "output_type": "stream",
     "text": [
      "\n",
      "100%|███████████████████████████████████████████████████████████████████████| 100/100 [00:00<00:00, 14756.21it/s]\u001b[A\n"
     ]
    },
    {
     "name": "stdout",
     "output_type": "stream",
     "text": [
      "\n",
      "... Writing TFRecord 13 of 70 (100 per TFRecord)...\n",
      "\n"
     ]
    },
    {
     "name": "stderr",
     "output_type": "stream",
     "text": [
      "\n",
      "100%|███████████████████████████████████████████████████████████████████████| 100/100 [00:00<00:00, 13493.88it/s]\u001b[A\n"
     ]
    },
    {
     "name": "stdout",
     "output_type": "stream",
     "text": [
      "\n",
      "... Writing TFRecord 14 of 70 (100 per TFRecord)...\n",
      "\n"
     ]
    },
    {
     "name": "stderr",
     "output_type": "stream",
     "text": [
      "\n",
      "100%|███████████████████████████████████████████████████████████████████████| 100/100 [00:00<00:00, 15060.34it/s]\u001b[A\n"
     ]
    },
    {
     "name": "stdout",
     "output_type": "stream",
     "text": [
      "\n",
      "... Writing TFRecord 15 of 70 (100 per TFRecord)...\n",
      "\n"
     ]
    },
    {
     "name": "stderr",
     "output_type": "stream",
     "text": [
      "\n",
      "100%|███████████████████████████████████████████████████████████████████████| 100/100 [00:00<00:00, 14557.49it/s]\u001b[A\n"
     ]
    },
    {
     "name": "stdout",
     "output_type": "stream",
     "text": [
      "\n",
      "... Writing TFRecord 16 of 70 (100 per TFRecord)...\n",
      "\n"
     ]
    },
    {
     "name": "stderr",
     "output_type": "stream",
     "text": [
      "\n",
      "100%|███████████████████████████████████████████████████████████████████████| 100/100 [00:00<00:00, 13720.78it/s]\u001b[A\n"
     ]
    },
    {
     "name": "stdout",
     "output_type": "stream",
     "text": [
      "\n",
      "... Writing TFRecord 17 of 70 (100 per TFRecord)...\n",
      "\n"
     ]
    },
    {
     "name": "stderr",
     "output_type": "stream",
     "text": [
      "\n",
      "100%|███████████████████████████████████████████████████████████████████████| 100/100 [00:00<00:00, 14474.60it/s]\u001b[A\n"
     ]
    },
    {
     "name": "stdout",
     "output_type": "stream",
     "text": [
      "\n",
      "... Writing TFRecord 18 of 70 (100 per TFRecord)...\n",
      "\n"
     ]
    },
    {
     "name": "stderr",
     "output_type": "stream",
     "text": [
      "\n",
      "100%|███████████████████████████████████████████████████████████████████████| 100/100 [00:00<00:00, 14621.94it/s]\u001b[A\n"
     ]
    },
    {
     "name": "stdout",
     "output_type": "stream",
     "text": [
      "\n",
      "... Writing TFRecord 19 of 70 (100 per TFRecord)...\n",
      "\n"
     ]
    },
    {
     "name": "stderr",
     "output_type": "stream",
     "text": [
      "\n",
      "100%|███████████████████████████████████████████████████████████████████████| 100/100 [00:00<00:00, 14365.04it/s]\u001b[A\n"
     ]
    },
    {
     "name": "stdout",
     "output_type": "stream",
     "text": [
      "\n",
      "... Writing TFRecord 20 of 70 (100 per TFRecord)...\n",
      "\n"
     ]
    },
    {
     "name": "stderr",
     "output_type": "stream",
     "text": [
      "\n",
      "100%|███████████████████████████████████████████████████████████████████████| 100/100 [00:00<00:00, 14301.36it/s]\u001b[A\n"
     ]
    },
    {
     "name": "stdout",
     "output_type": "stream",
     "text": [
      "\n",
      "... Writing TFRecord 21 of 70 (100 per TFRecord)...\n",
      "\n"
     ]
    },
    {
     "name": "stderr",
     "output_type": "stream",
     "text": [
      "\n",
      "100%|███████████████████████████████████████████████████████████████████████| 100/100 [00:00<00:00, 14430.77it/s]\u001b[A\n",
      "Writing TFRecords:  30%|████████████████▊                                       | 21/70 [00:00<00:00, 101.11it/s]"
     ]
    },
    {
     "name": "stdout",
     "output_type": "stream",
     "text": [
      "\n",
      "... Writing TFRecord 22 of 70 (100 per TFRecord)...\n",
      "\n"
     ]
    },
    {
     "name": "stderr",
     "output_type": "stream",
     "text": [
      "\n",
      "100%|███████████████████████████████████████████████████████████████████████| 100/100 [00:00<00:00, 14133.18it/s]\u001b[A\n"
     ]
    },
    {
     "name": "stdout",
     "output_type": "stream",
     "text": [
      "\n",
      "... Writing TFRecord 23 of 70 (100 per TFRecord)...\n",
      "\n"
     ]
    },
    {
     "name": "stderr",
     "output_type": "stream",
     "text": [
      "\n",
      "100%|███████████████████████████████████████████████████████████████████████| 100/100 [00:00<00:00, 14617.86it/s]\u001b[A\n"
     ]
    },
    {
     "name": "stdout",
     "output_type": "stream",
     "text": [
      "\n",
      "... Writing TFRecord 24 of 70 (100 per TFRecord)...\n",
      "\n"
     ]
    },
    {
     "name": "stderr",
     "output_type": "stream",
     "text": [
      "\n",
      "100%|███████████████████████████████████████████████████████████████████████| 100/100 [00:00<00:00, 14576.21it/s]\u001b[A\n"
     ]
    },
    {
     "name": "stdout",
     "output_type": "stream",
     "text": [
      "\n",
      "... Writing TFRecord 25 of 70 (100 per TFRecord)...\n",
      "\n"
     ]
    },
    {
     "name": "stderr",
     "output_type": "stream",
     "text": [
      "\n",
      "100%|███████████████████████████████████████████████████████████████████████| 100/100 [00:00<00:00, 14020.74it/s]\u001b[A\n"
     ]
    },
    {
     "name": "stdout",
     "output_type": "stream",
     "text": [
      "\n",
      "... Writing TFRecord 26 of 70 (100 per TFRecord)...\n",
      "\n"
     ]
    },
    {
     "name": "stderr",
     "output_type": "stream",
     "text": [
      "\n",
      "100%|███████████████████████████████████████████████████████████████████████| 100/100 [00:00<00:00, 14363.56it/s]\u001b[A\n"
     ]
    },
    {
     "name": "stdout",
     "output_type": "stream",
     "text": [
      "\n",
      "... Writing TFRecord 27 of 70 (100 per TFRecord)...\n",
      "\n"
     ]
    },
    {
     "name": "stderr",
     "output_type": "stream",
     "text": [
      "\n",
      "100%|███████████████████████████████████████████████████████████████████████| 100/100 [00:00<00:00, 14397.58it/s]\u001b[A\n"
     ]
    },
    {
     "name": "stdout",
     "output_type": "stream",
     "text": [
      "\n",
      "... Writing TFRecord 28 of 70 (100 per TFRecord)...\n",
      "\n"
     ]
    },
    {
     "name": "stderr",
     "output_type": "stream",
     "text": [
      "\n",
      "100%|███████████████████████████████████████████████████████████████████████| 100/100 [00:00<00:00, 14147.96it/s]\u001b[A\n"
     ]
    },
    {
     "name": "stdout",
     "output_type": "stream",
     "text": [
      "\n",
      "... Writing TFRecord 29 of 70 (100 per TFRecord)...\n",
      "\n"
     ]
    },
    {
     "name": "stderr",
     "output_type": "stream",
     "text": [
      "\n",
      "100%|███████████████████████████████████████████████████████████████████████| 100/100 [00:00<00:00, 13741.00it/s]\u001b[A\n"
     ]
    },
    {
     "name": "stdout",
     "output_type": "stream",
     "text": [
      "\n",
      "... Writing TFRecord 30 of 70 (100 per TFRecord)...\n",
      "\n"
     ]
    },
    {
     "name": "stderr",
     "output_type": "stream",
     "text": [
      "\n",
      "100%|███████████████████████████████████████████████████████████████████████| 100/100 [00:00<00:00, 13538.75it/s]\u001b[A\n"
     ]
    },
    {
     "name": "stdout",
     "output_type": "stream",
     "text": [
      "\n",
      "... Writing TFRecord 31 of 70 (100 per TFRecord)...\n",
      "\n"
     ]
    },
    {
     "name": "stderr",
     "output_type": "stream",
     "text": [
      "\n",
      "100%|███████████████████████████████████████████████████████████████████████| 100/100 [00:00<00:00, 13496.06it/s]\u001b[A\n"
     ]
    },
    {
     "name": "stdout",
     "output_type": "stream",
     "text": [
      "\n",
      "... Writing TFRecord 32 of 70 (100 per TFRecord)...\n",
      "\n"
     ]
    },
    {
     "name": "stderr",
     "output_type": "stream",
     "text": [
      "\n",
      "100%|███████████████████████████████████████████████████████████████████████| 100/100 [00:00<00:00, 14211.72it/s]\u001b[A\n",
      "Writing TFRecords:  46%|█████████████████████████▌                              | 32/70 [00:00<00:00, 100.82it/s]"
     ]
    },
    {
     "name": "stdout",
     "output_type": "stream",
     "text": [
      "\n",
      "... Writing TFRecord 33 of 70 (100 per TFRecord)...\n",
      "\n"
     ]
    },
    {
     "name": "stderr",
     "output_type": "stream",
     "text": [
      "\n",
      "100%|███████████████████████████████████████████████████████████████████████| 100/100 [00:00<00:00, 13796.60it/s]\u001b[A\n"
     ]
    },
    {
     "name": "stdout",
     "output_type": "stream",
     "text": [
      "\n",
      "... Writing TFRecord 34 of 70 (100 per TFRecord)...\n",
      "\n"
     ]
    },
    {
     "name": "stderr",
     "output_type": "stream",
     "text": [
      "\n",
      "100%|███████████████████████████████████████████████████████████████████████| 100/100 [00:00<00:00, 13413.62it/s]\u001b[A\n"
     ]
    },
    {
     "name": "stdout",
     "output_type": "stream",
     "text": [
      "\n",
      "... Writing TFRecord 35 of 70 (100 per TFRecord)...\n",
      "\n"
     ]
    },
    {
     "name": "stderr",
     "output_type": "stream",
     "text": [
      "\n",
      "100%|███████████████████████████████████████████████████████████████████████| 100/100 [00:00<00:00, 13447.59it/s]\u001b[A\n"
     ]
    },
    {
     "name": "stdout",
     "output_type": "stream",
     "text": [
      "\n",
      "... Writing TFRecord 36 of 70 (100 per TFRecord)...\n",
      "\n"
     ]
    },
    {
     "name": "stderr",
     "output_type": "stream",
     "text": [
      "\n",
      "100%|███████████████████████████████████████████████████████████████████████| 100/100 [00:00<00:00, 13922.08it/s]\u001b[A\n"
     ]
    },
    {
     "name": "stdout",
     "output_type": "stream",
     "text": [
      "\n",
      "... Writing TFRecord 37 of 70 (100 per TFRecord)...\n",
      "\n"
     ]
    },
    {
     "name": "stderr",
     "output_type": "stream",
     "text": [
      "\n",
      "100%|███████████████████████████████████████████████████████████████████████| 100/100 [00:00<00:00, 13383.23it/s]\u001b[A\n"
     ]
    },
    {
     "name": "stdout",
     "output_type": "stream",
     "text": [
      "\n",
      "... Writing TFRecord 38 of 70 (100 per TFRecord)...\n",
      "\n"
     ]
    },
    {
     "name": "stderr",
     "output_type": "stream",
     "text": [
      "\n",
      "100%|███████████████████████████████████████████████████████████████████████| 100/100 [00:00<00:00, 14774.40it/s]\u001b[A\n"
     ]
    },
    {
     "name": "stdout",
     "output_type": "stream",
     "text": [
      "\n",
      "... Writing TFRecord 39 of 70 (100 per TFRecord)...\n",
      "\n"
     ]
    },
    {
     "name": "stderr",
     "output_type": "stream",
     "text": [
      "\n",
      "100%|███████████████████████████████████████████████████████████████████████| 100/100 [00:00<00:00, 14996.80it/s]\u001b[A\n"
     ]
    },
    {
     "name": "stdout",
     "output_type": "stream",
     "text": [
      "\n",
      "... Writing TFRecord 40 of 70 (100 per TFRecord)...\n",
      "\n"
     ]
    },
    {
     "name": "stderr",
     "output_type": "stream",
     "text": [
      "\n",
      "100%|███████████████████████████████████████████████████████████████████████| 100/100 [00:00<00:00, 12994.31it/s]\u001b[A\n"
     ]
    },
    {
     "name": "stdout",
     "output_type": "stream",
     "text": [
      "\n",
      "... Writing TFRecord 41 of 70 (100 per TFRecord)...\n",
      "\n"
     ]
    },
    {
     "name": "stderr",
     "output_type": "stream",
     "text": [
      "\n",
      "100%|███████████████████████████████████████████████████████████████████████| 100/100 [00:00<00:00, 13725.72it/s]\u001b[A\n"
     ]
    },
    {
     "name": "stdout",
     "output_type": "stream",
     "text": [
      "\n",
      "... Writing TFRecord 42 of 70 (100 per TFRecord)...\n",
      "\n"
     ]
    },
    {
     "name": "stderr",
     "output_type": "stream",
     "text": [
      "\n",
      "100%|███████████████████████████████████████████████████████████████████████| 100/100 [00:00<00:00, 14362.09it/s]\u001b[A\n"
     ]
    },
    {
     "name": "stdout",
     "output_type": "stream",
     "text": [
      "\n",
      "... Writing TFRecord 43 of 70 (100 per TFRecord)...\n",
      "\n"
     ]
    },
    {
     "name": "stderr",
     "output_type": "stream",
     "text": [
      "\n",
      "100%|███████████████████████████████████████████████████████████████████████| 100/100 [00:00<00:00, 15223.78it/s]\u001b[A\n",
      "Writing TFRecords:  61%|██████████████████████████████████▍                     | 43/70 [00:00<00:00, 100.52it/s]"
     ]
    },
    {
     "name": "stdout",
     "output_type": "stream",
     "text": [
      "\n",
      "... Writing TFRecord 44 of 70 (100 per TFRecord)...\n",
      "\n"
     ]
    },
    {
     "name": "stderr",
     "output_type": "stream",
     "text": [
      "\n",
      "100%|███████████████████████████████████████████████████████████████████████| 100/100 [00:00<00:00, 12983.85it/s]\u001b[A\n"
     ]
    },
    {
     "name": "stdout",
     "output_type": "stream",
     "text": [
      "\n",
      "... Writing TFRecord 45 of 70 (100 per TFRecord)...\n",
      "\n"
     ]
    },
    {
     "name": "stderr",
     "output_type": "stream",
     "text": [
      "\n",
      "100%|███████████████████████████████████████████████████████████████████████| 100/100 [00:00<00:00, 14257.61it/s]\u001b[A\n"
     ]
    },
    {
     "name": "stdout",
     "output_type": "stream",
     "text": [
      "\n",
      "... Writing TFRecord 46 of 70 (100 per TFRecord)...\n",
      "\n"
     ]
    },
    {
     "name": "stderr",
     "output_type": "stream",
     "text": [
      "\n",
      "100%|███████████████████████████████████████████████████████████████████████| 100/100 [00:00<00:00, 14127.47it/s]\u001b[A\n"
     ]
    },
    {
     "name": "stdout",
     "output_type": "stream",
     "text": [
      "\n",
      "... Writing TFRecord 47 of 70 (100 per TFRecord)...\n",
      "\n"
     ]
    },
    {
     "name": "stderr",
     "output_type": "stream",
     "text": [
      "\n",
      "100%|███████████████████████████████████████████████████████████████████████| 100/100 [00:00<00:00, 13942.44it/s]\u001b[A\n"
     ]
    },
    {
     "name": "stdout",
     "output_type": "stream",
     "text": [
      "\n",
      "... Writing TFRecord 48 of 70 (100 per TFRecord)...\n",
      "\n"
     ]
    },
    {
     "name": "stderr",
     "output_type": "stream",
     "text": [
      "\n",
      "100%|███████████████████████████████████████████████████████████████████████| 100/100 [00:00<00:00, 15018.28it/s]\u001b[A\n"
     ]
    },
    {
     "name": "stdout",
     "output_type": "stream",
     "text": [
      "\n",
      "... Writing TFRecord 49 of 70 (100 per TFRecord)...\n",
      "\n"
     ]
    },
    {
     "name": "stderr",
     "output_type": "stream",
     "text": [
      "\n",
      "100%|███████████████████████████████████████████████████████████████████████| 100/100 [00:00<00:00, 14106.56it/s]\u001b[A\n"
     ]
    },
    {
     "name": "stdout",
     "output_type": "stream",
     "text": [
      "\n",
      "... Writing TFRecord 50 of 70 (100 per TFRecord)...\n",
      "\n"
     ]
    },
    {
     "name": "stderr",
     "output_type": "stream",
     "text": [
      "\n",
      "100%|███████████████████████████████████████████████████████████████████████| 100/100 [00:00<00:00, 13905.00it/s]\u001b[A\n"
     ]
    },
    {
     "name": "stdout",
     "output_type": "stream",
     "text": [
      "\n",
      "... Writing TFRecord 51 of 70 (100 per TFRecord)...\n",
      "\n"
     ]
    },
    {
     "name": "stderr",
     "output_type": "stream",
     "text": [
      "\n",
      "100%|███████████████████████████████████████████████████████████████████████| 100/100 [00:00<00:00, 14310.15it/s]\u001b[A\n"
     ]
    },
    {
     "name": "stdout",
     "output_type": "stream",
     "text": [
      "\n",
      "... Writing TFRecord 52 of 70 (100 per TFRecord)...\n",
      "\n"
     ]
    },
    {
     "name": "stderr",
     "output_type": "stream",
     "text": [
      "\n",
      "100%|███████████████████████████████████████████████████████████████████████| 100/100 [00:00<00:00, 12958.98it/s]\u001b[A\n"
     ]
    },
    {
     "name": "stdout",
     "output_type": "stream",
     "text": [
      "\n",
      "... Writing TFRecord 53 of 70 (100 per TFRecord)...\n",
      "\n"
     ]
    },
    {
     "name": "stderr",
     "output_type": "stream",
     "text": [
      "\n",
      "100%|███████████████████████████████████████████████████████████████████████| 100/100 [00:00<00:00, 13593.16it/s]\u001b[A\n"
     ]
    },
    {
     "name": "stdout",
     "output_type": "stream",
     "text": [
      "\n",
      "... Writing TFRecord 54 of 70 (100 per TFRecord)...\n",
      "\n"
     ]
    },
    {
     "name": "stderr",
     "output_type": "stream",
     "text": [
      "\n",
      "100%|███████████████████████████████████████████████████████████████████████| 100/100 [00:00<00:00, 13582.15it/s]\u001b[A\n",
      "Writing TFRecords:  77%|███████████████████████████████████████████▉             | 54/70 [00:00<00:00, 98.41it/s]"
     ]
    },
    {
     "name": "stdout",
     "output_type": "stream",
     "text": [
      "\n",
      "... Writing TFRecord 55 of 70 (100 per TFRecord)...\n",
      "\n"
     ]
    },
    {
     "name": "stderr",
     "output_type": "stream",
     "text": [
      "\n",
      "100%|███████████████████████████████████████████████████████████████████████| 100/100 [00:00<00:00, 14248.41it/s]\u001b[A\n"
     ]
    },
    {
     "name": "stdout",
     "output_type": "stream",
     "text": [
      "\n",
      "... Writing TFRecord 56 of 70 (100 per TFRecord)...\n",
      "\n"
     ]
    },
    {
     "name": "stderr",
     "output_type": "stream",
     "text": [
      "\n",
      "100%|███████████████████████████████████████████████████████████████████████| 100/100 [00:00<00:00, 14196.32it/s]\u001b[A\n"
     ]
    },
    {
     "name": "stdout",
     "output_type": "stream",
     "text": [
      "\n",
      "... Writing TFRecord 57 of 70 (100 per TFRecord)...\n",
      "\n"
     ]
    },
    {
     "name": "stderr",
     "output_type": "stream",
     "text": [
      "\n",
      "100%|███████████████████████████████████████████████████████████████████████| 100/100 [00:00<00:00, 13869.59it/s]\u001b[A\n"
     ]
    },
    {
     "name": "stdout",
     "output_type": "stream",
     "text": [
      "\n",
      "... Writing TFRecord 58 of 70 (100 per TFRecord)...\n",
      "\n"
     ]
    },
    {
     "name": "stderr",
     "output_type": "stream",
     "text": [
      "\n",
      "100%|███████████████████████████████████████████████████████████████████████| 100/100 [00:00<00:00, 14020.27it/s]\u001b[A\n"
     ]
    },
    {
     "name": "stdout",
     "output_type": "stream",
     "text": [
      "\n",
      "... Writing TFRecord 59 of 70 (100 per TFRecord)...\n",
      "\n"
     ]
    },
    {
     "name": "stderr",
     "output_type": "stream",
     "text": [
      "\n",
      "100%|███████████████████████████████████████████████████████████████████████| 100/100 [00:00<00:00, 14197.77it/s]\u001b[A\n"
     ]
    },
    {
     "name": "stdout",
     "output_type": "stream",
     "text": [
      "\n",
      "... Writing TFRecord 60 of 70 (100 per TFRecord)...\n",
      "\n"
     ]
    },
    {
     "name": "stderr",
     "output_type": "stream",
     "text": [
      "\n",
      "100%|███████████████████████████████████████████████████████████████████████| 100/100 [00:00<00:00, 13797.05it/s]\u001b[A\n"
     ]
    },
    {
     "name": "stdout",
     "output_type": "stream",
     "text": [
      "\n",
      "... Writing TFRecord 61 of 70 (100 per TFRecord)...\n",
      "\n"
     ]
    },
    {
     "name": "stderr",
     "output_type": "stream",
     "text": [
      "\n",
      "100%|███████████████████████████████████████████████████████████████████████| 100/100 [00:00<00:00, 13947.54it/s]\u001b[A\n"
     ]
    },
    {
     "name": "stdout",
     "output_type": "stream",
     "text": [
      "\n",
      "... Writing TFRecord 62 of 70 (100 per TFRecord)...\n",
      "\n"
     ]
    },
    {
     "name": "stderr",
     "output_type": "stream",
     "text": [
      "\n",
      "100%|███████████████████████████████████████████████████████████████████████| 100/100 [00:00<00:00, 13429.08it/s]\u001b[A\n"
     ]
    },
    {
     "name": "stdout",
     "output_type": "stream",
     "text": [
      "\n",
      "... Writing TFRecord 63 of 70 (100 per TFRecord)...\n",
      "\n"
     ]
    },
    {
     "name": "stderr",
     "output_type": "stream",
     "text": [
      "\n",
      "100%|███████████████████████████████████████████████████████████████████████| 100/100 [00:00<00:00, 13752.27it/s]\u001b[A\n"
     ]
    },
    {
     "name": "stdout",
     "output_type": "stream",
     "text": [
      "\n",
      "... Writing TFRecord 64 of 70 (100 per TFRecord)...\n",
      "\n"
     ]
    },
    {
     "name": "stderr",
     "output_type": "stream",
     "text": [
      "\n",
      "100%|███████████████████████████████████████████████████████████████████████| 100/100 [00:00<00:00, 12973.41it/s]\u001b[A\n",
      "Writing TFRecords:  91%|████████████████████████████████████████████████████     | 64/70 [00:00<00:00, 97.84it/s]"
     ]
    },
    {
     "name": "stdout",
     "output_type": "stream",
     "text": [
      "\n",
      "... Writing TFRecord 65 of 70 (100 per TFRecord)...\n",
      "\n"
     ]
    },
    {
     "name": "stderr",
     "output_type": "stream",
     "text": [
      "\n",
      "100%|███████████████████████████████████████████████████████████████████████| 100/100 [00:00<00:00, 13807.50it/s]\u001b[A\n"
     ]
    },
    {
     "name": "stdout",
     "output_type": "stream",
     "text": [
      "\n",
      "... Writing TFRecord 66 of 70 (100 per TFRecord)...\n",
      "\n"
     ]
    },
    {
     "name": "stderr",
     "output_type": "stream",
     "text": [
      "\n",
      "100%|███████████████████████████████████████████████████████████████████████| 100/100 [00:00<00:00, 13072.48it/s]\u001b[A\n"
     ]
    },
    {
     "name": "stdout",
     "output_type": "stream",
     "text": [
      "\n",
      "... Writing TFRecord 67 of 70 (100 per TFRecord)...\n",
      "\n"
     ]
    },
    {
     "name": "stderr",
     "output_type": "stream",
     "text": [
      "\n",
      "100%|███████████████████████████████████████████████████████████████████████| 100/100 [00:00<00:00, 12944.98it/s]\u001b[A\n"
     ]
    },
    {
     "name": "stdout",
     "output_type": "stream",
     "text": [
      "\n",
      "... Writing TFRecord 68 of 70 (100 per TFRecord)...\n",
      "\n"
     ]
    },
    {
     "name": "stderr",
     "output_type": "stream",
     "text": [
      "\n",
      "100%|███████████████████████████████████████████████████████████████████████| 100/100 [00:00<00:00, 13137.99it/s]\u001b[A\n"
     ]
    },
    {
     "name": "stdout",
     "output_type": "stream",
     "text": [
      "\n",
      "... Writing TFRecord 69 of 70 (100 per TFRecord)...\n",
      "\n"
     ]
    },
    {
     "name": "stderr",
     "output_type": "stream",
     "text": [
      "\n",
      "100%|███████████████████████████████████████████████████████████████████████| 100/100 [00:00<00:00, 13277.74it/s]\u001b[A\n"
     ]
    },
    {
     "name": "stdout",
     "output_type": "stream",
     "text": [
      "\n",
      "... Writing TFRecord 70 of 70 (100 per TFRecord)...\n",
      "\n"
     ]
    },
    {
     "name": "stderr",
     "output_type": "stream",
     "text": [
      "\n",
      " 86%|█████████████████████████████████████████████████████████████▉          | 86/100 [00:00<00:00, 13589.14it/s]\u001b[A\n",
      "Writing TFRecords: 100%|█████████████████████████████████████████████████████████| 70/70 [00:00<00:00, 98.52it/s]\n",
      "Writing TFRecords:   0%|                                                                  | 0/78 [00:00<?, ?it/s]"
     ]
    },
    {
     "name": "stdout",
     "output_type": "stream",
     "text": [
      "\n",
      "... Writing TFRecord 1 of 78 (100 per TFRecord)...\n",
      "\n"
     ]
    },
    {
     "name": "stderr",
     "output_type": "stream",
     "text": [
      "\n",
      "100%|███████████████████████████████████████████████████████████████████████| 100/100 [00:00<00:00, 12826.23it/s]\u001b[A\n"
     ]
    },
    {
     "name": "stdout",
     "output_type": "stream",
     "text": [
      "\n",
      "... Writing TFRecord 2 of 78 (100 per TFRecord)...\n",
      "\n"
     ]
    },
    {
     "name": "stderr",
     "output_type": "stream",
     "text": [
      "\n",
      "100%|███████████████████████████████████████████████████████████████████████| 100/100 [00:00<00:00, 13934.10it/s]\u001b[A\n"
     ]
    },
    {
     "name": "stdout",
     "output_type": "stream",
     "text": [
      "\n",
      "... Writing TFRecord 3 of 78 (100 per TFRecord)...\n",
      "\n"
     ]
    },
    {
     "name": "stderr",
     "output_type": "stream",
     "text": [
      "\n",
      "100%|███████████████████████████████████████████████████████████████████████| 100/100 [00:00<00:00, 14220.87it/s]\u001b[A\n"
     ]
    },
    {
     "name": "stdout",
     "output_type": "stream",
     "text": [
      "\n",
      "... Writing TFRecord 4 of 78 (100 per TFRecord)...\n",
      "\n"
     ]
    },
    {
     "name": "stderr",
     "output_type": "stream",
     "text": [
      "\n",
      "100%|███████████████████████████████████████████████████████████████████████| 100/100 [00:00<00:00, 15879.70it/s]\u001b[A\n"
     ]
    },
    {
     "name": "stdout",
     "output_type": "stream",
     "text": [
      "\n",
      "... Writing TFRecord 5 of 78 (100 per TFRecord)...\n",
      "\n"
     ]
    },
    {
     "name": "stderr",
     "output_type": "stream",
     "text": [
      "\n",
      "100%|███████████████████████████████████████████████████████████████████████| 100/100 [00:00<00:00, 13883.83it/s]\u001b[A\n"
     ]
    },
    {
     "name": "stdout",
     "output_type": "stream",
     "text": [
      "\n",
      "... Writing TFRecord 6 of 78 (100 per TFRecord)...\n",
      "\n"
     ]
    },
    {
     "name": "stderr",
     "output_type": "stream",
     "text": [
      "\n",
      "100%|███████████████████████████████████████████████████████████████████████| 100/100 [00:00<00:00, 13286.15it/s]\u001b[A\n"
     ]
    },
    {
     "name": "stdout",
     "output_type": "stream",
     "text": [
      "\n",
      "... Writing TFRecord 7 of 78 (100 per TFRecord)...\n",
      "\n"
     ]
    },
    {
     "name": "stderr",
     "output_type": "stream",
     "text": [
      "\n",
      "100%|███████████████████████████████████████████████████████████████████████| 100/100 [00:00<00:00, 13826.62it/s]\u001b[A\n"
     ]
    },
    {
     "name": "stdout",
     "output_type": "stream",
     "text": [
      "\n",
      "... Writing TFRecord 8 of 78 (100 per TFRecord)...\n",
      "\n"
     ]
    },
    {
     "name": "stderr",
     "output_type": "stream",
     "text": [
      "\n",
      "100%|███████████████████████████████████████████████████████████████████████| 100/100 [00:00<00:00, 14413.42it/s]\u001b[A"
     ]
    },
    {
     "name": "stdout",
     "output_type": "stream",
     "text": [
      "\n",
      "... Writing TFRecord 9 of 78 (100 per TFRecord)...\n",
      "\n"
     ]
    },
    {
     "name": "stderr",
     "output_type": "stream",
     "text": [
      "\n",
      "\n",
      "100%|███████████████████████████████████████████████████████████████████████| 100/100 [00:00<00:00, 13534.82it/s]\u001b[A\n"
     ]
    },
    {
     "name": "stdout",
     "output_type": "stream",
     "text": [
      "\n",
      "... Writing TFRecord 10 of 78 (100 per TFRecord)...\n",
      "\n"
     ]
    },
    {
     "name": "stderr",
     "output_type": "stream",
     "text": [
      "\n",
      "100%|███████████████████████████████████████████████████████████████████████| 100/100 [00:00<00:00, 13983.81it/s]\u001b[A\n",
      "Writing TFRecords:  13%|███████▎                                                 | 10/78 [00:00<00:00, 96.61it/s]"
     ]
    },
    {
     "name": "stdout",
     "output_type": "stream",
     "text": [
      "\n",
      "... Writing TFRecord 11 of 78 (100 per TFRecord)...\n",
      "\n"
     ]
    },
    {
     "name": "stderr",
     "output_type": "stream",
     "text": [
      "\n",
      "100%|███████████████████████████████████████████████████████████████████████| 100/100 [00:00<00:00, 14024.96it/s]\u001b[A\n"
     ]
    },
    {
     "name": "stdout",
     "output_type": "stream",
     "text": [
      "\n",
      "... Writing TFRecord 12 of 78 (100 per TFRecord)...\n",
      "\n"
     ]
    },
    {
     "name": "stderr",
     "output_type": "stream",
     "text": [
      "\n",
      "100%|███████████████████████████████████████████████████████████████████████| 100/100 [00:00<00:00, 13750.01it/s]\u001b[A\n"
     ]
    },
    {
     "name": "stdout",
     "output_type": "stream",
     "text": [
      "\n",
      "... Writing TFRecord 13 of 78 (100 per TFRecord)...\n",
      "\n"
     ]
    },
    {
     "name": "stderr",
     "output_type": "stream",
     "text": [
      "\n",
      "100%|███████████████████████████████████████████████████████████████████████| 100/100 [00:00<00:00, 14397.58it/s]\u001b[A\n"
     ]
    },
    {
     "name": "stdout",
     "output_type": "stream",
     "text": [
      "\n",
      "... Writing TFRecord 14 of 78 (100 per TFRecord)...\n",
      "\n"
     ]
    },
    {
     "name": "stderr",
     "output_type": "stream",
     "text": [
      "\n",
      "100%|███████████████████████████████████████████████████████████████████████| 100/100 [00:00<00:00, 14338.52it/s]\u001b[A\n"
     ]
    },
    {
     "name": "stdout",
     "output_type": "stream",
     "text": [
      "\n",
      "... Writing TFRecord 15 of 78 (100 per TFRecord)...\n",
      "\n"
     ]
    },
    {
     "name": "stderr",
     "output_type": "stream",
     "text": [
      "\n",
      "100%|███████████████████████████████████████████████████████████████████████| 100/100 [00:00<00:00, 14120.81it/s]\u001b[A\n"
     ]
    },
    {
     "name": "stdout",
     "output_type": "stream",
     "text": [
      "\n",
      "... Writing TFRecord 16 of 78 (100 per TFRecord)...\n",
      "\n"
     ]
    },
    {
     "name": "stderr",
     "output_type": "stream",
     "text": [
      "\n",
      "100%|███████████████████████████████████████████████████████████████████████| 100/100 [00:00<00:00, 14158.94it/s]\u001b[A\n"
     ]
    },
    {
     "name": "stdout",
     "output_type": "stream",
     "text": [
      "\n",
      "... Writing TFRecord 17 of 78 (100 per TFRecord)...\n",
      "\n"
     ]
    },
    {
     "name": "stderr",
     "output_type": "stream",
     "text": [
      "\n",
      "100%|███████████████████████████████████████████████████████████████████████| 100/100 [00:00<00:00, 13679.16it/s]\u001b[A\n"
     ]
    },
    {
     "name": "stdout",
     "output_type": "stream",
     "text": [
      "\n",
      "... Writing TFRecord 18 of 78 (100 per TFRecord)...\n",
      "\n"
     ]
    },
    {
     "name": "stderr",
     "output_type": "stream",
     "text": [
      "\n",
      "100%|███████████████████████████████████████████████████████████████████████| 100/100 [00:00<00:00, 13276.90it/s]\u001b[A\n"
     ]
    },
    {
     "name": "stdout",
     "output_type": "stream",
     "text": [
      "\n",
      "... Writing TFRecord 19 of 78 (100 per TFRecord)...\n",
      "\n"
     ]
    },
    {
     "name": "stderr",
     "output_type": "stream",
     "text": [
      "\n",
      "100%|███████████████████████████████████████████████████████████████████████| 100/100 [00:00<00:00, 13573.80it/s]\u001b[A\n"
     ]
    },
    {
     "name": "stdout",
     "output_type": "stream",
     "text": [
      "\n",
      "... Writing TFRecord 20 of 78 (100 per TFRecord)...\n",
      "\n"
     ]
    },
    {
     "name": "stderr",
     "output_type": "stream",
     "text": [
      "\n",
      "100%|███████████████████████████████████████████████████████████████████████| 100/100 [00:00<00:00, 13238.34it/s]\u001b[A\n",
      "Writing TFRecords:  26%|██████████████▌                                          | 20/78 [00:00<00:00, 96.36it/s]"
     ]
    },
    {
     "name": "stdout",
     "output_type": "stream",
     "text": [
      "\n",
      "... Writing TFRecord 21 of 78 (100 per TFRecord)...\n",
      "\n"
     ]
    },
    {
     "name": "stderr",
     "output_type": "stream",
     "text": [
      "\n",
      "100%|███████████████████████████████████████████████████████████████████████| 100/100 [00:00<00:00, 13209.57it/s]\u001b[A\n"
     ]
    },
    {
     "name": "stdout",
     "output_type": "stream",
     "text": [
      "\n",
      "... Writing TFRecord 22 of 78 (100 per TFRecord)...\n",
      "\n"
     ]
    },
    {
     "name": "stderr",
     "output_type": "stream",
     "text": [
      "\n",
      "100%|███████████████████████████████████████████████████████████████████████| 100/100 [00:00<00:00, 13599.33it/s]\u001b[A\n"
     ]
    },
    {
     "name": "stdout",
     "output_type": "stream",
     "text": [
      "\n",
      "... Writing TFRecord 23 of 78 (100 per TFRecord)...\n",
      "\n"
     ]
    },
    {
     "name": "stderr",
     "output_type": "stream",
     "text": [
      "\n",
      "100%|███████████████████████████████████████████████████████████████████████| 100/100 [00:00<00:00, 13499.10it/s]\u001b[A\n"
     ]
    },
    {
     "name": "stdout",
     "output_type": "stream",
     "text": [
      "\n",
      "... Writing TFRecord 24 of 78 (100 per TFRecord)...\n",
      "\n"
     ]
    },
    {
     "name": "stderr",
     "output_type": "stream",
     "text": [
      "\n",
      "100%|███████████████████████████████████████████████████████████████████████| 100/100 [00:00<00:00, 13675.15it/s]\u001b[A\n"
     ]
    },
    {
     "name": "stdout",
     "output_type": "stream",
     "text": [
      "\n",
      "... Writing TFRecord 25 of 78 (100 per TFRecord)...\n",
      "\n"
     ]
    },
    {
     "name": "stderr",
     "output_type": "stream",
     "text": [
      "\n",
      "100%|███████████████████████████████████████████████████████████████████████| 100/100 [00:00<00:00, 13948.47it/s]\u001b[A\n"
     ]
    },
    {
     "name": "stdout",
     "output_type": "stream",
     "text": [
      "\n",
      "... Writing TFRecord 26 of 78 (100 per TFRecord)...\n",
      "\n"
     ]
    },
    {
     "name": "stderr",
     "output_type": "stream",
     "text": [
      "\n",
      "100%|███████████████████████████████████████████████████████████████████████| 100/100 [00:00<00:00, 13945.68it/s]\u001b[A\n"
     ]
    },
    {
     "name": "stdout",
     "output_type": "stream",
     "text": [
      "\n",
      "... Writing TFRecord 27 of 78 (100 per TFRecord)...\n",
      "\n"
     ]
    },
    {
     "name": "stderr",
     "output_type": "stream",
     "text": [
      "\n",
      "100%|███████████████████████████████████████████████████████████████████████| 100/100 [00:00<00:00, 13661.34it/s]\u001b[A\n"
     ]
    },
    {
     "name": "stdout",
     "output_type": "stream",
     "text": [
      "\n",
      "... Writing TFRecord 28 of 78 (100 per TFRecord)...\n",
      "\n"
     ]
    },
    {
     "name": "stderr",
     "output_type": "stream",
     "text": [
      "\n",
      "100%|███████████████████████████████████████████████████████████████████████| 100/100 [00:00<00:00, 14002.02it/s]\u001b[A\n"
     ]
    },
    {
     "name": "stdout",
     "output_type": "stream",
     "text": [
      "\n",
      "... Writing TFRecord 29 of 78 (100 per TFRecord)...\n",
      "\n"
     ]
    },
    {
     "name": "stderr",
     "output_type": "stream",
     "text": [
      "\n",
      "100%|███████████████████████████████████████████████████████████████████████| 100/100 [00:00<00:00, 13864.55it/s]\u001b[A\n"
     ]
    },
    {
     "name": "stdout",
     "output_type": "stream",
     "text": [
      "\n",
      "... Writing TFRecord 30 of 78 (100 per TFRecord)...\n",
      "\n"
     ]
    },
    {
     "name": "stderr",
     "output_type": "stream",
     "text": [
      "\n",
      "100%|███████████████████████████████████████████████████████████████████████| 100/100 [00:00<00:00, 14017.46it/s]\u001b[A\n",
      "Writing TFRecords:  38%|█████████████████████▉                                   | 30/78 [00:00<00:00, 96.15it/s]"
     ]
    },
    {
     "name": "stdout",
     "output_type": "stream",
     "text": [
      "\n",
      "... Writing TFRecord 31 of 78 (100 per TFRecord)...\n",
      "\n"
     ]
    },
    {
     "name": "stderr",
     "output_type": "stream",
     "text": [
      "\n",
      "100%|███████████████████████████████████████████████████████████████████████| 100/100 [00:00<00:00, 13749.11it/s]\u001b[A\n"
     ]
    },
    {
     "name": "stdout",
     "output_type": "stream",
     "text": [
      "\n",
      "... Writing TFRecord 32 of 78 (100 per TFRecord)...\n",
      "\n"
     ]
    },
    {
     "name": "stderr",
     "output_type": "stream",
     "text": [
      "\n",
      "100%|███████████████████████████████████████████████████████████████████████| 100/100 [00:00<00:00, 13624.95it/s]\u001b[A\n"
     ]
    },
    {
     "name": "stdout",
     "output_type": "stream",
     "text": [
      "\n",
      "... Writing TFRecord 33 of 78 (100 per TFRecord)...\n",
      "\n"
     ]
    },
    {
     "name": "stderr",
     "output_type": "stream",
     "text": [
      "\n",
      "100%|███████████████████████████████████████████████████████████████████████| 100/100 [00:00<00:00, 13522.16it/s]\u001b[A\n"
     ]
    },
    {
     "name": "stdout",
     "output_type": "stream",
     "text": [
      "\n",
      "... Writing TFRecord 34 of 78 (100 per TFRecord)...\n",
      "\n"
     ]
    },
    {
     "name": "stderr",
     "output_type": "stream",
     "text": [
      "\n",
      "100%|███████████████████████████████████████████████████████████████████████| 100/100 [00:00<00:00, 13562.39it/s]\u001b[A\n"
     ]
    },
    {
     "name": "stdout",
     "output_type": "stream",
     "text": [
      "\n",
      "... Writing TFRecord 35 of 78 (100 per TFRecord)...\n",
      "\n"
     ]
    },
    {
     "name": "stderr",
     "output_type": "stream",
     "text": [
      "\n",
      "100%|███████████████████████████████████████████████████████████████████████| 100/100 [00:00<00:00, 13129.36it/s]\u001b[A\n"
     ]
    },
    {
     "name": "stdout",
     "output_type": "stream",
     "text": [
      "\n",
      "... Writing TFRecord 36 of 78 (100 per TFRecord)...\n",
      "\n"
     ]
    },
    {
     "name": "stderr",
     "output_type": "stream",
     "text": [
      "\n",
      "100%|███████████████████████████████████████████████████████████████████████| 100/100 [00:00<00:00, 12956.58it/s]\u001b[A\n"
     ]
    },
    {
     "name": "stdout",
     "output_type": "stream",
     "text": [
      "\n",
      "... Writing TFRecord 37 of 78 (100 per TFRecord)...\n",
      "\n"
     ]
    },
    {
     "name": "stderr",
     "output_type": "stream",
     "text": [
      "\n",
      "100%|███████████████████████████████████████████████████████████████████████| 100/100 [00:00<00:00, 13171.41it/s]\u001b[A\n"
     ]
    },
    {
     "name": "stdout",
     "output_type": "stream",
     "text": [
      "\n",
      "... Writing TFRecord 38 of 78 (100 per TFRecord)...\n",
      "\n"
     ]
    },
    {
     "name": "stderr",
     "output_type": "stream",
     "text": [
      "\n",
      "100%|███████████████████████████████████████████████████████████████████████| 100/100 [00:00<00:00, 14284.32it/s]\u001b[A\n"
     ]
    },
    {
     "name": "stdout",
     "output_type": "stream",
     "text": [
      "\n",
      "... Writing TFRecord 39 of 78 (100 per TFRecord)...\n",
      "\n"
     ]
    },
    {
     "name": "stderr",
     "output_type": "stream",
     "text": [
      "\n",
      "100%|███████████████████████████████████████████████████████████████████████| 100/100 [00:00<00:00, 13633.36it/s]\u001b[A\n"
     ]
    },
    {
     "name": "stdout",
     "output_type": "stream",
     "text": [
      "\n",
      "... Writing TFRecord 40 of 78 (100 per TFRecord)...\n",
      "\n"
     ]
    },
    {
     "name": "stderr",
     "output_type": "stream",
     "text": [
      "\n",
      "100%|███████████████████████████████████████████████████████████████████████| 100/100 [00:00<00:00, 13732.01it/s]\u001b[A\n",
      "Writing TFRecords:  51%|█████████████████████████████▏                           | 40/78 [00:00<00:00, 95.16it/s]"
     ]
    },
    {
     "name": "stdout",
     "output_type": "stream",
     "text": [
      "\n",
      "... Writing TFRecord 41 of 78 (100 per TFRecord)...\n",
      "\n"
     ]
    },
    {
     "name": "stderr",
     "output_type": "stream",
     "text": [
      "\n",
      "100%|███████████████████████████████████████████████████████████████████████| 100/100 [00:00<00:00, 14112.73it/s]\u001b[A\n"
     ]
    },
    {
     "name": "stdout",
     "output_type": "stream",
     "text": [
      "\n",
      "... Writing TFRecord 42 of 78 (100 per TFRecord)...\n",
      "\n"
     ]
    },
    {
     "name": "stderr",
     "output_type": "stream",
     "text": [
      "\n",
      "100%|███████████████████████████████████████████████████████████████████████| 100/100 [00:00<00:00, 14275.08it/s]\u001b[A\n"
     ]
    },
    {
     "name": "stdout",
     "output_type": "stream",
     "text": [
      "\n",
      "... Writing TFRecord 43 of 78 (100 per TFRecord)...\n",
      "\n"
     ]
    },
    {
     "name": "stderr",
     "output_type": "stream",
     "text": [
      "\n",
      "100%|███████████████████████████████████████████████████████████████████████| 100/100 [00:00<00:00, 12682.73it/s]\u001b[A\n"
     ]
    },
    {
     "name": "stdout",
     "output_type": "stream",
     "text": [
      "\n",
      "... Writing TFRecord 44 of 78 (100 per TFRecord)...\n",
      "\n"
     ]
    },
    {
     "name": "stderr",
     "output_type": "stream",
     "text": [
      "\n",
      "100%|███████████████████████████████████████████████████████████████████████| 100/100 [00:00<00:00, 13095.33it/s]\u001b[A\n"
     ]
    },
    {
     "name": "stdout",
     "output_type": "stream",
     "text": [
      "\n",
      "... Writing TFRecord 45 of 78 (100 per TFRecord)...\n",
      "\n"
     ]
    },
    {
     "name": "stderr",
     "output_type": "stream",
     "text": [
      "\n",
      "100%|███████████████████████████████████████████████████████████████████████| 100/100 [00:00<00:00, 14430.77it/s]\u001b[A\n"
     ]
    },
    {
     "name": "stdout",
     "output_type": "stream",
     "text": [
      "\n",
      "... Writing TFRecord 46 of 78 (100 per TFRecord)...\n",
      "\n"
     ]
    },
    {
     "name": "stderr",
     "output_type": "stream",
     "text": [
      "\n",
      "100%|███████████████████████████████████████████████████████████████████████| 100/100 [00:00<00:00, 14884.50it/s]\u001b[A\n"
     ]
    },
    {
     "name": "stdout",
     "output_type": "stream",
     "text": [
      "\n",
      "... Writing TFRecord 47 of 78 (100 per TFRecord)...\n",
      "\n"
     ]
    },
    {
     "name": "stderr",
     "output_type": "stream",
     "text": [
      "\n",
      "100%|███████████████████████████████████████████████████████████████████████| 100/100 [00:00<00:00, 13858.14it/s]\u001b[A\n"
     ]
    },
    {
     "name": "stdout",
     "output_type": "stream",
     "text": [
      "\n",
      "... Writing TFRecord 48 of 78 (100 per TFRecord)...\n",
      "\n"
     ]
    },
    {
     "name": "stderr",
     "output_type": "stream",
     "text": [
      "\n",
      "100%|███████████████████████████████████████████████████████████████████████| 100/100 [00:00<00:00, 14228.59it/s]\u001b[A\n"
     ]
    },
    {
     "name": "stdout",
     "output_type": "stream",
     "text": [
      "\n",
      "... Writing TFRecord 49 of 78 (100 per TFRecord)...\n",
      "\n"
     ]
    },
    {
     "name": "stderr",
     "output_type": "stream",
     "text": [
      "\n",
      "100%|███████████████████████████████████████████████████████████████████████| 100/100 [00:00<00:00, 13580.39it/s]\u001b[A\n"
     ]
    },
    {
     "name": "stdout",
     "output_type": "stream",
     "text": [
      "\n",
      "... Writing TFRecord 50 of 78 (100 per TFRecord)...\n",
      "\n"
     ]
    },
    {
     "name": "stderr",
     "output_type": "stream",
     "text": [
      "\n",
      "100%|███████████████████████████████████████████████████████████████████████| 100/100 [00:00<00:00, 13967.05it/s]\u001b[A\n",
      "Writing TFRecords:  64%|████████████████████████████████████▌                    | 50/78 [00:00<00:00, 96.22it/s]"
     ]
    },
    {
     "name": "stdout",
     "output_type": "stream",
     "text": [
      "\n",
      "... Writing TFRecord 51 of 78 (100 per TFRecord)...\n",
      "\n"
     ]
    },
    {
     "name": "stderr",
     "output_type": "stream",
     "text": [
      "\n",
      "100%|███████████████████████████████████████████████████████████████████████| 100/100 [00:00<00:00, 14263.91it/s]\u001b[A\n"
     ]
    },
    {
     "name": "stdout",
     "output_type": "stream",
     "text": [
      "\n",
      "... Writing TFRecord 52 of 78 (100 per TFRecord)...\n",
      "\n"
     ]
    },
    {
     "name": "stderr",
     "output_type": "stream",
     "text": [
      "\n",
      "100%|███████████████████████████████████████████████████████████████████████| 100/100 [00:00<00:00, 14149.39it/s]\u001b[A\n"
     ]
    },
    {
     "name": "stdout",
     "output_type": "stream",
     "text": [
      "\n",
      "... Writing TFRecord 53 of 78 (100 per TFRecord)...\n",
      "\n"
     ]
    },
    {
     "name": "stderr",
     "output_type": "stream",
     "text": [
      "\n",
      "100%|███████████████████████████████████████████████████████████████████████| 100/100 [00:00<00:00, 12157.76it/s]\u001b[A\n"
     ]
    },
    {
     "name": "stdout",
     "output_type": "stream",
     "text": [
      "\n",
      "... Writing TFRecord 54 of 78 (100 per TFRecord)...\n",
      "\n"
     ]
    },
    {
     "name": "stderr",
     "output_type": "stream",
     "text": [
      "\n",
      "100%|███████████████████████████████████████████████████████████████████████| 100/100 [00:00<00:00, 13736.50it/s]\u001b[A\n"
     ]
    },
    {
     "name": "stdout",
     "output_type": "stream",
     "text": [
      "\n",
      "... Writing TFRecord 55 of 78 (100 per TFRecord)...\n",
      "\n"
     ]
    },
    {
     "name": "stderr",
     "output_type": "stream",
     "text": [
      "\n",
      "100%|███████████████████████████████████████████████████████████████████████| 100/100 [00:00<00:00, 13806.14it/s]\u001b[A\n"
     ]
    },
    {
     "name": "stdout",
     "output_type": "stream",
     "text": [
      "\n",
      "... Writing TFRecord 56 of 78 (100 per TFRecord)...\n",
      "\n"
     ]
    },
    {
     "name": "stderr",
     "output_type": "stream",
     "text": [
      "\n",
      "100%|███████████████████████████████████████████████████████████████████████| 100/100 [00:00<00:00, 14126.52it/s]\u001b[A\n"
     ]
    },
    {
     "name": "stdout",
     "output_type": "stream",
     "text": [
      "\n",
      "... Writing TFRecord 57 of 78 (100 per TFRecord)...\n",
      "\n"
     ]
    },
    {
     "name": "stderr",
     "output_type": "stream",
     "text": [
      "\n",
      "100%|███████████████████████████████████████████████████████████████████████| 100/100 [00:00<00:00, 13873.72it/s]\u001b[A\n"
     ]
    },
    {
     "name": "stdout",
     "output_type": "stream",
     "text": [
      "\n",
      "... Writing TFRecord 58 of 78 (100 per TFRecord)...\n",
      "\n"
     ]
    },
    {
     "name": "stderr",
     "output_type": "stream",
     "text": [
      "\n",
      "100%|███████████████████████████████████████████████████████████████████████| 100/100 [00:00<00:00, 14359.14it/s]\u001b[A\n"
     ]
    },
    {
     "name": "stdout",
     "output_type": "stream",
     "text": [
      "\n",
      "... Writing TFRecord 59 of 78 (100 per TFRecord)...\n",
      "\n"
     ]
    },
    {
     "name": "stderr",
     "output_type": "stream",
     "text": [
      "\n",
      "100%|███████████████████████████████████████████████████████████████████████| 100/100 [00:00<00:00, 14190.56it/s]\u001b[A\n"
     ]
    },
    {
     "name": "stdout",
     "output_type": "stream",
     "text": [
      "\n",
      "... Writing TFRecord 60 of 78 (100 per TFRecord)...\n",
      "\n"
     ]
    },
    {
     "name": "stderr",
     "output_type": "stream",
     "text": [
      "\n",
      "100%|███████████████████████████████████████████████████████████████████████| 100/100 [00:00<00:00, 14175.21it/s]\u001b[A\n",
      "Writing TFRecords:  77%|███████████████████████████████████████████▊             | 60/78 [00:00<00:00, 96.03it/s]"
     ]
    },
    {
     "name": "stdout",
     "output_type": "stream",
     "text": [
      "\n",
      "... Writing TFRecord 61 of 78 (100 per TFRecord)...\n",
      "\n"
     ]
    },
    {
     "name": "stderr",
     "output_type": "stream",
     "text": [
      "\n",
      "100%|███████████████████████████████████████████████████████████████████████| 100/100 [00:00<00:00, 14300.39it/s]\u001b[A\n"
     ]
    },
    {
     "name": "stdout",
     "output_type": "stream",
     "text": [
      "\n",
      "... Writing TFRecord 62 of 78 (100 per TFRecord)...\n",
      "\n"
     ]
    },
    {
     "name": "stderr",
     "output_type": "stream",
     "text": [
      "\n",
      "100%|███████████████████████████████████████████████████████████████████████| 100/100 [00:00<00:00, 13193.37it/s]\u001b[A\n"
     ]
    },
    {
     "name": "stdout",
     "output_type": "stream",
     "text": [
      "\n",
      "... Writing TFRecord 63 of 78 (100 per TFRecord)...\n",
      "\n"
     ]
    },
    {
     "name": "stderr",
     "output_type": "stream",
     "text": [
      "\n",
      "100%|███████████████████████████████████████████████████████████████████████| 100/100 [00:00<00:00, 14356.68it/s]\u001b[A\n"
     ]
    },
    {
     "name": "stdout",
     "output_type": "stream",
     "text": [
      "\n",
      "... Writing TFRecord 64 of 78 (100 per TFRecord)...\n",
      "\n"
     ]
    },
    {
     "name": "stderr",
     "output_type": "stream",
     "text": [
      "\n",
      "100%|███████████████████████████████████████████████████████████████████████| 100/100 [00:00<00:00, 14227.63it/s]\u001b[A\n"
     ]
    },
    {
     "name": "stdout",
     "output_type": "stream",
     "text": [
      "\n",
      "... Writing TFRecord 65 of 78 (100 per TFRecord)...\n",
      "\n"
     ]
    },
    {
     "name": "stderr",
     "output_type": "stream",
     "text": [
      "\n",
      "100%|███████████████████████████████████████████████████████████████████████| 100/100 [00:00<00:00, 14331.66it/s]\u001b[A\n"
     ]
    },
    {
     "name": "stdout",
     "output_type": "stream",
     "text": [
      "\n",
      "... Writing TFRecord 66 of 78 (100 per TFRecord)...\n",
      "\n"
     ]
    },
    {
     "name": "stderr",
     "output_type": "stream",
     "text": [
      "\n",
      "100%|███████████████████████████████████████████████████████████████████████| 100/100 [00:00<00:00, 14381.79it/s]\u001b[A\n"
     ]
    },
    {
     "name": "stdout",
     "output_type": "stream",
     "text": [
      "\n",
      "... Writing TFRecord 67 of 78 (100 per TFRecord)...\n",
      "\n"
     ]
    },
    {
     "name": "stderr",
     "output_type": "stream",
     "text": [
      "\n",
      "100%|███████████████████████████████████████████████████████████████████████| 100/100 [00:00<00:00, 11494.39it/s]\u001b[A\n"
     ]
    },
    {
     "name": "stdout",
     "output_type": "stream",
     "text": [
      "\n",
      "... Writing TFRecord 68 of 78 (100 per TFRecord)...\n",
      "\n"
     ]
    },
    {
     "name": "stderr",
     "output_type": "stream",
     "text": [
      "\n",
      "100%|███████████████████████████████████████████████████████████████████████| 100/100 [00:00<00:00, 14069.65it/s]\u001b[A\n"
     ]
    },
    {
     "name": "stdout",
     "output_type": "stream",
     "text": [
      "\n",
      "... Writing TFRecord 69 of 78 (100 per TFRecord)...\n",
      "\n"
     ]
    },
    {
     "name": "stderr",
     "output_type": "stream",
     "text": [
      "\n",
      "100%|███████████████████████████████████████████████████████████████████████| 100/100 [00:00<00:00, 13289.94it/s]\u001b[A\n"
     ]
    },
    {
     "name": "stdout",
     "output_type": "stream",
     "text": [
      "\n",
      "... Writing TFRecord 70 of 78 (100 per TFRecord)...\n",
      "\n"
     ]
    },
    {
     "name": "stderr",
     "output_type": "stream",
     "text": [
      "\n",
      "100%|███████████████████████████████████████████████████████████████████████| 100/100 [00:00<00:00, 14278.48it/s]\u001b[A\n",
      "Writing TFRecords:  90%|███████████████████████████████████████████████████▏     | 70/78 [00:00<00:00, 95.87it/s]"
     ]
    },
    {
     "name": "stdout",
     "output_type": "stream",
     "text": [
      "\n",
      "... Writing TFRecord 71 of 78 (100 per TFRecord)...\n",
      "\n"
     ]
    },
    {
     "name": "stderr",
     "output_type": "stream",
     "text": [
      "\n",
      "100%|███████████████████████████████████████████████████████████████████████| 100/100 [00:00<00:00, 15345.76it/s]\u001b[A\n"
     ]
    },
    {
     "name": "stdout",
     "output_type": "stream",
     "text": [
      "\n",
      "... Writing TFRecord 72 of 78 (100 per TFRecord)...\n",
      "\n"
     ]
    },
    {
     "name": "stderr",
     "output_type": "stream",
     "text": [
      "\n",
      "100%|███████████████████████████████████████████████████████████████████████| 100/100 [00:00<00:00, 15636.39it/s]\u001b[A\n"
     ]
    },
    {
     "name": "stdout",
     "output_type": "stream",
     "text": [
      "\n",
      "... Writing TFRecord 73 of 78 (100 per TFRecord)...\n",
      "\n"
     ]
    },
    {
     "name": "stderr",
     "output_type": "stream",
     "text": [
      "\n",
      "100%|███████████████████████████████████████████████████████████████████████| 100/100 [00:00<00:00, 14464.61it/s]\u001b[A\n"
     ]
    },
    {
     "name": "stdout",
     "output_type": "stream",
     "text": [
      "\n",
      "... Writing TFRecord 74 of 78 (100 per TFRecord)...\n",
      "\n"
     ]
    },
    {
     "name": "stderr",
     "output_type": "stream",
     "text": [
      "\n",
      "100%|███████████████████████████████████████████████████████████████████████| 100/100 [00:00<00:00, 14345.39it/s]\u001b[A\n"
     ]
    },
    {
     "name": "stdout",
     "output_type": "stream",
     "text": [
      "\n",
      "... Writing TFRecord 75 of 78 (100 per TFRecord)...\n",
      "\n"
     ]
    },
    {
     "name": "stderr",
     "output_type": "stream",
     "text": [
      "\n",
      "100%|███████████████████████████████████████████████████████████████████████| 100/100 [00:00<00:00, 14110.36it/s]\u001b[A\n"
     ]
    },
    {
     "name": "stdout",
     "output_type": "stream",
     "text": [
      "\n",
      "... Writing TFRecord 76 of 78 (100 per TFRecord)...\n",
      "\n"
     ]
    },
    {
     "name": "stderr",
     "output_type": "stream",
     "text": [
      "\n",
      "100%|███████████████████████████████████████████████████████████████████████| 100/100 [00:00<00:00, 13486.07it/s]\u001b[A\n"
     ]
    },
    {
     "name": "stdout",
     "output_type": "stream",
     "text": [
      "\n",
      "... Writing TFRecord 77 of 78 (100 per TFRecord)...\n",
      "\n"
     ]
    },
    {
     "name": "stderr",
     "output_type": "stream",
     "text": [
      "\n",
      "100%|███████████████████████████████████████████████████████████████████████| 100/100 [00:00<00:00, 13941.98it/s]\u001b[A\n"
     ]
    },
    {
     "name": "stdout",
     "output_type": "stream",
     "text": [
      "\n",
      "... Writing TFRecord 78 of 78 (100 per TFRecord)...\n",
      "\n"
     ]
    },
    {
     "name": "stderr",
     "output_type": "stream",
     "text": [
      "\n",
      " 70%|██████████████████████████████████████████████████▍                     | 70/100 [00:00<00:00, 12633.45it/s]\u001b[A\n",
      "Writing TFRecords: 100%|█████████████████████████████████████████████████████████| 78/78 [00:00<00:00, 96.63it/s]\n",
      "Writing TFRecords:   0%|                                                                  | 0/78 [00:00<?, ?it/s]"
     ]
    },
    {
     "name": "stdout",
     "output_type": "stream",
     "text": [
      "\n",
      "... Writing TFRecord 1 of 78 (100 per TFRecord)...\n",
      "\n"
     ]
    },
    {
     "name": "stderr",
     "output_type": "stream",
     "text": [
      "\n",
      "100%|███████████████████████████████████████████████████████████████████████| 100/100 [00:00<00:00, 13675.59it/s]\u001b[A\n"
     ]
    },
    {
     "name": "stdout",
     "output_type": "stream",
     "text": [
      "\n",
      "... Writing TFRecord 2 of 78 (100 per TFRecord)...\n",
      "\n"
     ]
    },
    {
     "name": "stderr",
     "output_type": "stream",
     "text": [
      "\n",
      "100%|███████████████████████████████████████████████████████████████████████| 100/100 [00:00<00:00, 13869.14it/s]\u001b[A\n"
     ]
    },
    {
     "name": "stdout",
     "output_type": "stream",
     "text": [
      "\n",
      "... Writing TFRecord 3 of 78 (100 per TFRecord)...\n",
      "\n"
     ]
    },
    {
     "name": "stderr",
     "output_type": "stream",
     "text": [
      "\n",
      "100%|███████████████████████████████████████████████████████████████████████| 100/100 [00:00<00:00, 13652.44it/s]\u001b[A\n"
     ]
    },
    {
     "name": "stdout",
     "output_type": "stream",
     "text": [
      "\n",
      "... Writing TFRecord 4 of 78 (100 per TFRecord)...\n",
      "\n"
     ]
    },
    {
     "name": "stderr",
     "output_type": "stream",
     "text": [
      "\n",
      "100%|███████████████████████████████████████████████████████████████████████| 100/100 [00:00<00:00, 14151.30it/s]\u001b[A\n"
     ]
    },
    {
     "name": "stdout",
     "output_type": "stream",
     "text": [
      "\n",
      "... Writing TFRecord 5 of 78 (100 per TFRecord)...\n",
      "\n"
     ]
    },
    {
     "name": "stderr",
     "output_type": "stream",
     "text": [
      "\n",
      "100%|███████████████████████████████████████████████████████████████████████| 100/100 [00:00<00:00, 14951.89it/s]\u001b[A\n"
     ]
    },
    {
     "name": "stdout",
     "output_type": "stream",
     "text": [
      "\n",
      "... Writing TFRecord 6 of 78 (100 per TFRecord)...\n",
      "\n"
     ]
    },
    {
     "name": "stderr",
     "output_type": "stream",
     "text": [
      "\n",
      "100%|███████████████████████████████████████████████████████████████████████| 100/100 [00:00<00:00, 14366.02it/s]\u001b[A\n"
     ]
    },
    {
     "name": "stdout",
     "output_type": "stream",
     "text": [
      "\n",
      "... Writing TFRecord 7 of 78 (100 per TFRecord)...\n",
      "\n"
     ]
    },
    {
     "name": "stderr",
     "output_type": "stream",
     "text": [
      "\n",
      "100%|███████████████████████████████████████████████████████████████████████| 100/100 [00:00<00:00, 15002.70it/s]\u001b[A\n"
     ]
    },
    {
     "name": "stdout",
     "output_type": "stream",
     "text": [
      "\n",
      "... Writing TFRecord 8 of 78 (100 per TFRecord)...\n",
      "\n"
     ]
    },
    {
     "name": "stderr",
     "output_type": "stream",
     "text": [
      "\n",
      "100%|███████████████████████████████████████████████████████████████████████| 100/100 [00:00<00:00, 15700.77it/s]\u001b[A\n"
     ]
    },
    {
     "name": "stdout",
     "output_type": "stream",
     "text": [
      "\n",
      "... Writing TFRecord 9 of 78 (100 per TFRecord)...\n",
      "\n"
     ]
    },
    {
     "name": "stderr",
     "output_type": "stream",
     "text": [
      "\n",
      "100%|███████████████████████████████████████████████████████████████████████| 100/100 [00:00<00:00, 14473.10it/s]\u001b[A\n"
     ]
    },
    {
     "name": "stdout",
     "output_type": "stream",
     "text": [
      "\n",
      "... Writing TFRecord 10 of 78 (100 per TFRecord)...\n",
      "\n"
     ]
    },
    {
     "name": "stderr",
     "output_type": "stream",
     "text": [
      "\n",
      "100%|███████████████████████████████████████████████████████████████████████| 100/100 [00:00<00:00, 13787.53it/s]\u001b[A\n"
     ]
    },
    {
     "name": "stdout",
     "output_type": "stream",
     "text": [
      "\n",
      "... Writing TFRecord 11 of 78 (100 per TFRecord)...\n",
      "\n"
     ]
    },
    {
     "name": "stderr",
     "output_type": "stream",
     "text": [
      "\n",
      "100%|███████████████████████████████████████████████████████████████████████| 100/100 [00:00<00:00, 13439.84it/s]\u001b[A\n",
      "Writing TFRecords:  14%|███████▉                                                | 11/78 [00:00<00:00, 103.23it/s]"
     ]
    },
    {
     "name": "stdout",
     "output_type": "stream",
     "text": [
      "\n",
      "... Writing TFRecord 12 of 78 (100 per TFRecord)...\n",
      "\n"
     ]
    },
    {
     "name": "stderr",
     "output_type": "stream",
     "text": [
      "\n",
      "100%|███████████████████████████████████████████████████████████████████████| 100/100 [00:00<00:00, 14174.73it/s]\u001b[A\n"
     ]
    },
    {
     "name": "stdout",
     "output_type": "stream",
     "text": [
      "\n",
      "... Writing TFRecord 13 of 78 (100 per TFRecord)...\n",
      "\n"
     ]
    },
    {
     "name": "stderr",
     "output_type": "stream",
     "text": [
      "\n",
      "100%|███████████████████████████████████████████████████████████████████████| 100/100 [00:00<00:00, 13881.07it/s]\u001b[A\n"
     ]
    },
    {
     "name": "stdout",
     "output_type": "stream",
     "text": [
      "\n",
      "... Writing TFRecord 14 of 78 (100 per TFRecord)...\n",
      "\n"
     ]
    },
    {
     "name": "stderr",
     "output_type": "stream",
     "text": [
      "\n",
      "100%|███████████████████████████████████████████████████████████████████████| 100/100 [00:00<00:00, 14200.65it/s]\u001b[A\n"
     ]
    },
    {
     "name": "stdout",
     "output_type": "stream",
     "text": [
      "\n",
      "... Writing TFRecord 15 of 78 (100 per TFRecord)...\n",
      "\n"
     ]
    },
    {
     "name": "stderr",
     "output_type": "stream",
     "text": [
      "\n",
      "100%|███████████████████████████████████████████████████████████████████████| 100/100 [00:00<00:00, 14123.66it/s]\u001b[A\n"
     ]
    },
    {
     "name": "stdout",
     "output_type": "stream",
     "text": [
      "\n",
      "... Writing TFRecord 16 of 78 (100 per TFRecord)...\n",
      "\n"
     ]
    },
    {
     "name": "stderr",
     "output_type": "stream",
     "text": [
      "\n",
      "100%|███████████████████████████████████████████████████████████████████████| 100/100 [00:00<00:00, 14089.98it/s]\u001b[A\n"
     ]
    },
    {
     "name": "stdout",
     "output_type": "stream",
     "text": [
      "\n",
      "... Writing TFRecord 17 of 78 (100 per TFRecord)...\n",
      "\n"
     ]
    },
    {
     "name": "stderr",
     "output_type": "stream",
     "text": [
      "\n",
      "100%|███████████████████████████████████████████████████████████████████████| 100/100 [00:00<00:00, 14606.16it/s]\u001b[A\n"
     ]
    },
    {
     "name": "stdout",
     "output_type": "stream",
     "text": [
      "\n",
      "... Writing TFRecord 18 of 78 (100 per TFRecord)...\n",
      "\n"
     ]
    },
    {
     "name": "stderr",
     "output_type": "stream",
     "text": [
      "\n",
      "100%|███████████████████████████████████████████████████████████████████████| 100/100 [00:00<00:00, 14796.29it/s]\u001b[A\n"
     ]
    },
    {
     "name": "stdout",
     "output_type": "stream",
     "text": [
      "\n",
      "... Writing TFRecord 19 of 78 (100 per TFRecord)...\n",
      "\n"
     ]
    },
    {
     "name": "stderr",
     "output_type": "stream",
     "text": [
      "\n",
      "100%|███████████████████████████████████████████████████████████████████████| 100/100 [00:00<00:00, 14516.18it/s]\u001b[A\n"
     ]
    },
    {
     "name": "stdout",
     "output_type": "stream",
     "text": [
      "\n",
      "... Writing TFRecord 20 of 78 (100 per TFRecord)...\n",
      "\n"
     ]
    },
    {
     "name": "stderr",
     "output_type": "stream",
     "text": [
      "\n",
      "100%|███████████████████████████████████████████████████████████████████████| 100/100 [00:00<00:00, 14042.33it/s]\u001b[A\n"
     ]
    },
    {
     "name": "stdout",
     "output_type": "stream",
     "text": [
      "\n",
      "... Writing TFRecord 21 of 78 (100 per TFRecord)...\n",
      "\n"
     ]
    },
    {
     "name": "stderr",
     "output_type": "stream",
     "text": [
      "\n",
      "100%|███████████████████████████████████████████████████████████████████████| 100/100 [00:00<00:00, 14015.59it/s]\u001b[A\n"
     ]
    },
    {
     "name": "stdout",
     "output_type": "stream",
     "text": [
      "\n",
      "... Writing TFRecord 22 of 78 (100 per TFRecord)...\n",
      "\n"
     ]
    },
    {
     "name": "stderr",
     "output_type": "stream",
     "text": [
      "\n",
      "100%|███████████████████████████████████████████████████████████████████████| 100/100 [00:00<00:00, 13926.24it/s]\u001b[A\n",
      "Writing TFRecords:  28%|███████████████▊                                        | 22/78 [00:00<00:00, 102.65it/s]"
     ]
    },
    {
     "name": "stdout",
     "output_type": "stream",
     "text": [
      "\n",
      "... Writing TFRecord 23 of 78 (100 per TFRecord)...\n",
      "\n"
     ]
    },
    {
     "name": "stderr",
     "output_type": "stream",
     "text": [
      "\n",
      "100%|███████████████████████████████████████████████████████████████████████| 100/100 [00:00<00:00, 12138.40it/s]\u001b[A\n"
     ]
    },
    {
     "name": "stdout",
     "output_type": "stream",
     "text": [
      "\n",
      "... Writing TFRecord 24 of 78 (100 per TFRecord)...\n",
      "\n"
     ]
    },
    {
     "name": "stderr",
     "output_type": "stream",
     "text": [
      "\n",
      "100%|███████████████████████████████████████████████████████████████████████| 100/100 [00:00<00:00, 14260.03it/s]\u001b[A\n"
     ]
    },
    {
     "name": "stdout",
     "output_type": "stream",
     "text": [
      "\n",
      "... Writing TFRecord 25 of 78 (100 per TFRecord)...\n",
      "\n"
     ]
    },
    {
     "name": "stderr",
     "output_type": "stream",
     "text": [
      "\n",
      "100%|███████████████████████████████████████████████████████████████████████| 100/100 [00:00<00:00, 14373.90it/s]\u001b[A\n"
     ]
    },
    {
     "name": "stdout",
     "output_type": "stream",
     "text": [
      "\n",
      "... Writing TFRecord 26 of 78 (100 per TFRecord)...\n",
      "\n"
     ]
    },
    {
     "name": "stderr",
     "output_type": "stream",
     "text": [
      "\n",
      "100%|███████████████████████████████████████████████████████████████████████| 100/100 [00:00<00:00, 13696.13it/s]\u001b[A\n"
     ]
    },
    {
     "name": "stdout",
     "output_type": "stream",
     "text": [
      "\n",
      "... Writing TFRecord 27 of 78 (100 per TFRecord)...\n",
      "\n"
     ]
    },
    {
     "name": "stderr",
     "output_type": "stream",
     "text": [
      "\n",
      "100%|███████████████████████████████████████████████████████████████████████| 100/100 [00:00<00:00, 13248.80it/s]\u001b[A\n"
     ]
    },
    {
     "name": "stdout",
     "output_type": "stream",
     "text": [
      "\n",
      "... Writing TFRecord 28 of 78 (100 per TFRecord)...\n",
      "\n"
     ]
    },
    {
     "name": "stderr",
     "output_type": "stream",
     "text": [
      "\n",
      "100%|███████████████████████████████████████████████████████████████████████| 100/100 [00:00<00:00, 14417.38it/s]\u001b[A\n"
     ]
    },
    {
     "name": "stdout",
     "output_type": "stream",
     "text": [
      "\n",
      "... Writing TFRecord 29 of 78 (100 per TFRecord)...\n",
      "\n"
     ]
    },
    {
     "name": "stderr",
     "output_type": "stream",
     "text": [
      "\n",
      "100%|███████████████████████████████████████████████████████████████████████| 100/100 [00:00<00:00, 15250.91it/s]\u001b[A\n"
     ]
    },
    {
     "name": "stdout",
     "output_type": "stream",
     "text": [
      "\n",
      "... Writing TFRecord 30 of 78 (100 per TFRecord)...\n",
      "\n"
     ]
    },
    {
     "name": "stderr",
     "output_type": "stream",
     "text": [
      "\n",
      "100%|███████████████████████████████████████████████████████████████████████| 100/100 [00:00<00:00, 14740.65it/s]\u001b[A\n"
     ]
    },
    {
     "name": "stdout",
     "output_type": "stream",
     "text": [
      "\n",
      "... Writing TFRecord 31 of 78 (100 per TFRecord)...\n",
      "\n"
     ]
    },
    {
     "name": "stderr",
     "output_type": "stream",
     "text": [
      "\n",
      "100%|███████████████████████████████████████████████████████████████████████| 100/100 [00:00<00:00, 15022.58it/s]\u001b[A"
     ]
    },
    {
     "name": "stdout",
     "output_type": "stream",
     "text": [
      "\n",
      "... Writing TFRecord 32 of 78 (100 per TFRecord)...\n",
      "\n"
     ]
    },
    {
     "name": "stderr",
     "output_type": "stream",
     "text": [
      "\n",
      "\n",
      "100%|███████████████████████████████████████████████████████████████████████| 100/100 [00:00<00:00, 14262.94it/s]\u001b[A\n"
     ]
    },
    {
     "name": "stdout",
     "output_type": "stream",
     "text": [
      "\n",
      "... Writing TFRecord 33 of 78 (100 per TFRecord)...\n",
      "\n"
     ]
    },
    {
     "name": "stderr",
     "output_type": "stream",
     "text": [
      "\n",
      "100%|███████████████████████████████████████████████████████████████████████| 100/100 [00:00<00:00, 13981.95it/s]\u001b[A\n",
      "Writing TFRecords:  42%|████████████████████████                                 | 33/78 [00:00<00:00, 99.43it/s]"
     ]
    },
    {
     "name": "stdout",
     "output_type": "stream",
     "text": [
      "\n",
      "... Writing TFRecord 34 of 78 (100 per TFRecord)...\n",
      "\n"
     ]
    },
    {
     "name": "stderr",
     "output_type": "stream",
     "text": [
      "\n",
      "100%|███████████████████████████████████████████████████████████████████████| 100/100 [00:00<00:00, 14141.28it/s]\u001b[A\n"
     ]
    },
    {
     "name": "stdout",
     "output_type": "stream",
     "text": [
      "\n",
      "... Writing TFRecord 35 of 78 (100 per TFRecord)...\n",
      "\n"
     ]
    },
    {
     "name": "stderr",
     "output_type": "stream",
     "text": [
      "\n",
      "100%|███████████████████████████████████████████████████████████████████████| 100/100 [00:00<00:00, 13519.11it/s]\u001b[A\n"
     ]
    },
    {
     "name": "stdout",
     "output_type": "stream",
     "text": [
      "\n",
      "... Writing TFRecord 36 of 78 (100 per TFRecord)...\n",
      "\n"
     ]
    },
    {
     "name": "stderr",
     "output_type": "stream",
     "text": [
      "\n",
      "100%|███████████████████████████████████████████████████████████████████████| 100/100 [00:00<00:00, 13241.69it/s]\u001b[A\n"
     ]
    },
    {
     "name": "stdout",
     "output_type": "stream",
     "text": [
      "\n",
      "... Writing TFRecord 37 of 78 (100 per TFRecord)...\n",
      "\n"
     ]
    },
    {
     "name": "stderr",
     "output_type": "stream",
     "text": [
      "\n",
      "100%|███████████████████████████████████████████████████████████████████████| 100/100 [00:00<00:00, 14514.17it/s]\u001b[A\n"
     ]
    },
    {
     "name": "stdout",
     "output_type": "stream",
     "text": [
      "\n",
      "... Writing TFRecord 38 of 78 (100 per TFRecord)...\n",
      "\n"
     ]
    },
    {
     "name": "stderr",
     "output_type": "stream",
     "text": [
      "\n",
      "100%|███████████████████████████████████████████████████████████████████████| 100/100 [00:00<00:00, 13903.16it/s]\u001b[A\n"
     ]
    },
    {
     "name": "stdout",
     "output_type": "stream",
     "text": [
      "\n",
      "... Writing TFRecord 39 of 78 (100 per TFRecord)...\n",
      "\n"
     ]
    },
    {
     "name": "stderr",
     "output_type": "stream",
     "text": [
      "\n",
      "100%|███████████████████████████████████████████████████████████████████████| 100/100 [00:00<00:00, 13971.70it/s]\u001b[A\n"
     ]
    },
    {
     "name": "stdout",
     "output_type": "stream",
     "text": [
      "\n",
      "... Writing TFRecord 40 of 78 (100 per TFRecord)...\n",
      "\n"
     ]
    },
    {
     "name": "stderr",
     "output_type": "stream",
     "text": [
      "\n",
      "100%|███████████████████████████████████████████████████████████████████████| 100/100 [00:00<00:00, 14405.99it/s]\u001b[A\n"
     ]
    },
    {
     "name": "stdout",
     "output_type": "stream",
     "text": [
      "\n",
      "... Writing TFRecord 41 of 78 (100 per TFRecord)...\n",
      "\n"
     ]
    },
    {
     "name": "stderr",
     "output_type": "stream",
     "text": [
      "\n",
      "100%|███████████████████████████████████████████████████████████████████████| 100/100 [00:00<00:00, 14336.56it/s]\u001b[A\n"
     ]
    },
    {
     "name": "stdout",
     "output_type": "stream",
     "text": [
      "\n",
      "... Writing TFRecord 42 of 78 (100 per TFRecord)...\n",
      "\n"
     ]
    },
    {
     "name": "stderr",
     "output_type": "stream",
     "text": [
      "\n",
      "100%|███████████████████████████████████████████████████████████████████████| 100/100 [00:00<00:00, 14389.19it/s]\u001b[A\n"
     ]
    },
    {
     "name": "stdout",
     "output_type": "stream",
     "text": [
      "\n",
      "... Writing TFRecord 43 of 78 (100 per TFRecord)...\n",
      "\n"
     ]
    },
    {
     "name": "stderr",
     "output_type": "stream",
     "text": [
      "\n",
      "100%|███████████████████████████████████████████████████████████████████████| 100/100 [00:00<00:00, 14218.46it/s]\u001b[A\n",
      "Writing TFRecords:  55%|███████████████████████████████▍                         | 43/78 [00:00<00:00, 99.63it/s]"
     ]
    },
    {
     "name": "stdout",
     "output_type": "stream",
     "text": [
      "\n",
      "... Writing TFRecord 44 of 78 (100 per TFRecord)...\n",
      "\n"
     ]
    },
    {
     "name": "stderr",
     "output_type": "stream",
     "text": [
      "\n",
      "100%|███████████████████████████████████████████████████████████████████████| 100/100 [00:00<00:00, 14142.23it/s]\u001b[A\n"
     ]
    },
    {
     "name": "stdout",
     "output_type": "stream",
     "text": [
      "\n",
      "... Writing TFRecord 45 of 78 (100 per TFRecord)...\n",
      "\n"
     ]
    },
    {
     "name": "stderr",
     "output_type": "stream",
     "text": [
      "\n",
      "100%|███████████████████████████████████████████████████████████████████████| 100/100 [00:00<00:00, 14322.36it/s]\u001b[A\n"
     ]
    },
    {
     "name": "stdout",
     "output_type": "stream",
     "text": [
      "\n",
      "... Writing TFRecord 46 of 78 (100 per TFRecord)...\n",
      "\n"
     ]
    },
    {
     "name": "stderr",
     "output_type": "stream",
     "text": [
      "\n",
      "100%|███████████████████████████████████████████████████████████████████████| 100/100 [00:00<00:00, 14316.01it/s]\u001b[A\n"
     ]
    },
    {
     "name": "stdout",
     "output_type": "stream",
     "text": [
      "\n",
      "... Writing TFRecord 47 of 78 (100 per TFRecord)...\n",
      "\n"
     ]
    },
    {
     "name": "stderr",
     "output_type": "stream",
     "text": [
      "\n",
      "100%|███████████████████████████████████████████████████████████████████████| 100/100 [00:00<00:00, 15306.00it/s]\u001b[A\n"
     ]
    },
    {
     "name": "stdout",
     "output_type": "stream",
     "text": [
      "\n",
      "... Writing TFRecord 48 of 78 (100 per TFRecord)...\n",
      "\n"
     ]
    },
    {
     "name": "stderr",
     "output_type": "stream",
     "text": [
      "\n",
      "100%|███████████████████████████████████████████████████████████████████████| 100/100 [00:00<00:00, 14037.63it/s]\u001b[A\n"
     ]
    },
    {
     "name": "stdout",
     "output_type": "stream",
     "text": [
      "\n",
      "... Writing TFRecord 49 of 78 (100 per TFRecord)...\n",
      "\n"
     ]
    },
    {
     "name": "stderr",
     "output_type": "stream",
     "text": [
      "\n",
      "100%|███████████████████████████████████████████████████████████████████████| 100/100 [00:00<00:00, 14366.02it/s]\u001b[A\n"
     ]
    },
    {
     "name": "stdout",
     "output_type": "stream",
     "text": [
      "\n",
      "... Writing TFRecord 50 of 78 (100 per TFRecord)...\n",
      "\n"
     ]
    },
    {
     "name": "stderr",
     "output_type": "stream",
     "text": [
      "\n",
      "100%|███████████████████████████████████████████████████████████████████████| 100/100 [00:00<00:00, 14033.40it/s]\u001b[A\n"
     ]
    },
    {
     "name": "stdout",
     "output_type": "stream",
     "text": [
      "\n",
      "... Writing TFRecord 51 of 78 (100 per TFRecord)...\n",
      "\n"
     ]
    },
    {
     "name": "stderr",
     "output_type": "stream",
     "text": [
      "\n",
      "100%|███████████████████████████████████████████████████████████████████████| 100/100 [00:00<00:00, 14749.98it/s]\u001b[A\n"
     ]
    },
    {
     "name": "stdout",
     "output_type": "stream",
     "text": [
      "\n",
      "... Writing TFRecord 52 of 78 (100 per TFRecord)...\n",
      "\n"
     ]
    },
    {
     "name": "stderr",
     "output_type": "stream",
     "text": [
      "\n",
      "100%|███████████████████████████████████████████████████████████████████████| 100/100 [00:00<00:00, 15377.27it/s]\u001b[A\n"
     ]
    },
    {
     "name": "stdout",
     "output_type": "stream",
     "text": [
      "\n",
      "... Writing TFRecord 53 of 78 (100 per TFRecord)...\n",
      "\n"
     ]
    },
    {
     "name": "stderr",
     "output_type": "stream",
     "text": [
      "\n",
      "100%|███████████████████████████████████████████████████████████████████████| 100/100 [00:00<00:00, 14667.45it/s]\u001b[A\n"
     ]
    },
    {
     "name": "stdout",
     "output_type": "stream",
     "text": [
      "\n",
      "... Writing TFRecord 54 of 78 (100 per TFRecord)...\n",
      "\n"
     ]
    },
    {
     "name": "stderr",
     "output_type": "stream",
     "text": [
      "\n",
      "100%|███████████████████████████████████████████████████████████████████████| 100/100 [00:00<00:00, 14494.61it/s]\u001b[A\n",
      "Writing TFRecords:  69%|██████████████████████████████████████▊                 | 54/78 [00:00<00:00, 100.27it/s]"
     ]
    },
    {
     "name": "stdout",
     "output_type": "stream",
     "text": [
      "\n",
      "... Writing TFRecord 55 of 78 (100 per TFRecord)...\n",
      "\n"
     ]
    },
    {
     "name": "stderr",
     "output_type": "stream",
     "text": [
      "\n",
      "100%|███████████████████████████████████████████████████████████████████████| 100/100 [00:00<00:00, 14677.20it/s]\u001b[A\n"
     ]
    },
    {
     "name": "stdout",
     "output_type": "stream",
     "text": [
      "\n",
      "... Writing TFRecord 56 of 78 (100 per TFRecord)...\n",
      "\n"
     ]
    },
    {
     "name": "stderr",
     "output_type": "stream",
     "text": [
      "\n",
      "100%|███████████████████████████████████████████████████████████████████████| 100/100 [00:00<00:00, 14552.94it/s]\u001b[A\n"
     ]
    },
    {
     "name": "stdout",
     "output_type": "stream",
     "text": [
      "\n",
      "... Writing TFRecord 57 of 78 (100 per TFRecord)...\n",
      "\n"
     ]
    },
    {
     "name": "stderr",
     "output_type": "stream",
     "text": [
      "\n",
      "100%|███████████████████████████████████████████████████████████████████████| 100/100 [00:00<00:00, 13021.74it/s]\u001b[A\n"
     ]
    },
    {
     "name": "stdout",
     "output_type": "stream",
     "text": [
      "\n",
      "... Writing TFRecord 58 of 78 (100 per TFRecord)...\n",
      "\n"
     ]
    },
    {
     "name": "stderr",
     "output_type": "stream",
     "text": [
      "\n",
      "100%|███████████████████████████████████████████████████████████████████████| 100/100 [00:00<00:00, 14150.82it/s]\u001b[A\n"
     ]
    },
    {
     "name": "stdout",
     "output_type": "stream",
     "text": [
      "\n",
      "... Writing TFRecord 59 of 78 (100 per TFRecord)...\n",
      "\n"
     ]
    },
    {
     "name": "stderr",
     "output_type": "stream",
     "text": [
      "\n",
      "100%|███████████████████████████████████████████████████████████████████████| 100/100 [00:00<00:00, 14839.21it/s]\u001b[A\n"
     ]
    },
    {
     "name": "stdout",
     "output_type": "stream",
     "text": [
      "\n",
      "... Writing TFRecord 60 of 78 (100 per TFRecord)...\n",
      "\n"
     ]
    },
    {
     "name": "stderr",
     "output_type": "stream",
     "text": [
      "\n",
      "100%|███████████████████████████████████████████████████████████████████████| 100/100 [00:00<00:00, 14239.70it/s]\u001b[A\n"
     ]
    },
    {
     "name": "stdout",
     "output_type": "stream",
     "text": [
      "\n",
      "... Writing TFRecord 61 of 78 (100 per TFRecord)...\n",
      "\n"
     ]
    },
    {
     "name": "stderr",
     "output_type": "stream",
     "text": [
      "\n",
      "100%|███████████████████████████████████████████████████████████████████████| 100/100 [00:00<00:00, 14665.91it/s]\u001b[A\n"
     ]
    },
    {
     "name": "stdout",
     "output_type": "stream",
     "text": [
      "\n",
      "... Writing TFRecord 62 of 78 (100 per TFRecord)...\n",
      "\n"
     ]
    },
    {
     "name": "stderr",
     "output_type": "stream",
     "text": [
      "\n",
      "100%|███████████████████████████████████████████████████████████████████████| 100/100 [00:00<00:00, 14593.45it/s]\u001b[A\n"
     ]
    },
    {
     "name": "stdout",
     "output_type": "stream",
     "text": [
      "\n",
      "... Writing TFRecord 63 of 78 (100 per TFRecord)...\n",
      "\n"
     ]
    },
    {
     "name": "stderr",
     "output_type": "stream",
     "text": [
      "\n",
      "100%|███████████████████████████████████████████████████████████████████████| 100/100 [00:00<00:00, 14147.96it/s]\u001b[A\n"
     ]
    },
    {
     "name": "stdout",
     "output_type": "stream",
     "text": [
      "\n",
      "... Writing TFRecord 64 of 78 (100 per TFRecord)...\n",
      "\n"
     ]
    },
    {
     "name": "stderr",
     "output_type": "stream",
     "text": [
      "\n",
      "100%|███████████████████████████████████████████████████████████████████████| 100/100 [00:00<00:00, 14844.99it/s]\u001b[A\n"
     ]
    },
    {
     "name": "stdout",
     "output_type": "stream",
     "text": [
      "\n",
      "... Writing TFRecord 65 of 78 (100 per TFRecord)...\n",
      "\n"
     ]
    },
    {
     "name": "stderr",
     "output_type": "stream",
     "text": [
      "\n",
      "100%|███████████████████████████████████████████████████████████████████████| 100/100 [00:00<00:00, 14423.82it/s]\u001b[A\n",
      "Writing TFRecords:  83%|██████████████████████████████████████████████▋         | 65/78 [00:00<00:00, 101.33it/s]"
     ]
    },
    {
     "name": "stdout",
     "output_type": "stream",
     "text": [
      "\n",
      "... Writing TFRecord 66 of 78 (100 per TFRecord)...\n",
      "\n"
     ]
    },
    {
     "name": "stderr",
     "output_type": "stream",
     "text": [
      "\n",
      "100%|███████████████████████████████████████████████████████████████████████| 100/100 [00:00<00:00, 13955.89it/s]\u001b[A\n"
     ]
    },
    {
     "name": "stdout",
     "output_type": "stream",
     "text": [
      "\n",
      "... Writing TFRecord 67 of 78 (100 per TFRecord)...\n",
      "\n"
     ]
    },
    {
     "name": "stderr",
     "output_type": "stream",
     "text": [
      "\n",
      "100%|███████████████████████████████████████████████████████████████████████| 100/100 [00:00<00:00, 13618.31it/s]\u001b[A\n"
     ]
    },
    {
     "name": "stdout",
     "output_type": "stream",
     "text": [
      "\n",
      "... Writing TFRecord 68 of 78 (100 per TFRecord)...\n",
      "\n"
     ]
    },
    {
     "name": "stderr",
     "output_type": "stream",
     "text": [
      "\n",
      "100%|███████████████████████████████████████████████████████████████████████| 100/100 [00:00<00:00, 13579.51it/s]\u001b[A\n"
     ]
    },
    {
     "name": "stdout",
     "output_type": "stream",
     "text": [
      "\n",
      "... Writing TFRecord 69 of 78 (100 per TFRecord)...\n",
      "\n"
     ]
    },
    {
     "name": "stderr",
     "output_type": "stream",
     "text": [
      "\n",
      "100%|███████████████████████████████████████████████████████████████████████| 100/100 [00:00<00:00, 13286.57it/s]\u001b[A\n"
     ]
    },
    {
     "name": "stdout",
     "output_type": "stream",
     "text": [
      "\n",
      "... Writing TFRecord 70 of 78 (100 per TFRecord)...\n",
      "\n"
     ]
    },
    {
     "name": "stderr",
     "output_type": "stream",
     "text": [
      "\n",
      "100%|███████████████████████████████████████████████████████████████████████| 100/100 [00:00<00:00, 13676.93it/s]\u001b[A\n"
     ]
    },
    {
     "name": "stdout",
     "output_type": "stream",
     "text": [
      "\n",
      "... Writing TFRecord 71 of 78 (100 per TFRecord)...\n",
      "\n"
     ]
    },
    {
     "name": "stderr",
     "output_type": "stream",
     "text": [
      "\n",
      "100%|███████████████████████████████████████████████████████████████████████| 100/100 [00:00<00:00, 14462.62it/s]\u001b[A\n"
     ]
    },
    {
     "name": "stdout",
     "output_type": "stream",
     "text": [
      "\n",
      "... Writing TFRecord 72 of 78 (100 per TFRecord)...\n",
      "\n"
     ]
    },
    {
     "name": "stderr",
     "output_type": "stream",
     "text": [
      "\n",
      "100%|███████████████████████████████████████████████████████████████████████| 100/100 [00:00<00:00, 14069.65it/s]\u001b[A\n"
     ]
    },
    {
     "name": "stdout",
     "output_type": "stream",
     "text": [
      "\n",
      "... Writing TFRecord 73 of 78 (100 per TFRecord)...\n",
      "\n"
     ]
    },
    {
     "name": "stderr",
     "output_type": "stream",
     "text": [
      "\n",
      "100%|███████████████████████████████████████████████████████████████████████| 100/100 [00:00<00:00, 14097.08it/s]\u001b[A\n"
     ]
    },
    {
     "name": "stdout",
     "output_type": "stream",
     "text": [
      "\n",
      "... Writing TFRecord 74 of 78 (100 per TFRecord)...\n",
      "\n"
     ]
    },
    {
     "name": "stderr",
     "output_type": "stream",
     "text": [
      "\n",
      "100%|███████████████████████████████████████████████████████████████████████| 100/100 [00:00<00:00, 14832.39it/s]\u001b[A\n"
     ]
    },
    {
     "name": "stdout",
     "output_type": "stream",
     "text": [
      "\n",
      "... Writing TFRecord 75 of 78 (100 per TFRecord)...\n",
      "\n"
     ]
    },
    {
     "name": "stderr",
     "output_type": "stream",
     "text": [
      "\n",
      "100%|███████████████████████████████████████████████████████████████████████| 100/100 [00:00<00:00, 13540.06it/s]\u001b[A\n"
     ]
    },
    {
     "name": "stdout",
     "output_type": "stream",
     "text": [
      "\n",
      "... Writing TFRecord 76 of 78 (100 per TFRecord)...\n",
      "\n"
     ]
    },
    {
     "name": "stderr",
     "output_type": "stream",
     "text": [
      "\n",
      "100%|███████████████████████████████████████████████████████████████████████| 100/100 [00:00<00:00, 14471.60it/s]\u001b[A\n",
      "Writing TFRecords:  97%|██████████████████████████████████████████████████████▌ | 76/78 [00:00<00:00, 100.85it/s]"
     ]
    },
    {
     "name": "stdout",
     "output_type": "stream",
     "text": [
      "\n",
      "... Writing TFRecord 77 of 78 (100 per TFRecord)...\n",
      "\n"
     ]
    },
    {
     "name": "stderr",
     "output_type": "stream",
     "text": [
      "\n",
      "100%|███████████████████████████████████████████████████████████████████████| 100/100 [00:00<00:00, 14438.72it/s]\u001b[A\n"
     ]
    },
    {
     "name": "stdout",
     "output_type": "stream",
     "text": [
      "\n",
      "... Writing TFRecord 78 of 78 (100 per TFRecord)...\n",
      "\n"
     ]
    },
    {
     "name": "stderr",
     "output_type": "stream",
     "text": [
      "\n",
      " 70%|██████████████████████████████████████████████████▍                     | 70/100 [00:00<00:00, 14141.28it/s]\u001b[A\n",
      "Writing TFRecords: 100%|████████████████████████████████████████████████████████| 78/78 [00:00<00:00, 101.12it/s]\n"
     ]
    }
   ],
   "source": [
    "# Define tfrecord creation constants\n",
    "TFRECORD_DIR = os.path.join(DATASET_DIR, \"tfrecords\")\n",
    "N_PER = 100 # artificially low to replicate tfrecord amounts expected\n",
    "VERSION_TO_USE = \"v4\"\n",
    "\n",
    "for _df, _suffix in zip([rcts_uni_chunk_df, rcts_bpe_chunk_df, basic_uni_chunk_df, basic_bpe_chunk_df], \n",
    "                        [\"rcts_uni\", \"rcts_bpe\", \"basic_uni\", \"basic_bpe\"]):\n",
    "    # Create the respective tfrecords\n",
    "    write_tfrecords(\n",
    "        ds=_df[\"token_content\"],  n_ex=len(_df),  \n",
    "        output_suffix=_suffix,  version_str=VERSION_TO_USE, \n",
    "        n_ex_per_rec=N_PER, out_dir=TFRECORD_DIR, \n",
    "    )"
   ]
  },
  {
   "cell_type": "markdown",
   "id": "0075889a-00b8-4d08-ac86-b68f5868acb3",
   "metadata": {},
   "source": [
    "<br>\n",
    "\n",
    "**Check dataset**"
   ]
  },
  {
   "cell_type": "code",
   "execution_count": 51,
   "id": "53b2179a-823a-41a8-a2cd-f753a66f5354",
   "metadata": {},
   "outputs": [
    {
     "name": "stdout",
     "output_type": "stream",
     "text": [
      "\n",
      "... FROM TFRECORD ...\n",
      "\n"
     ]
    },
    {
     "data": {
      "text/html": [
       "<style>span.token {font-family: Courier New; font-size: 1.1em; font-weight: 300; padding: 0px; margin-right: 0px; border-color: rgba(0, 0, 0, 0.05); border-style: ridge; border-radius: 0px;}</style><div style='background-color: #FBFBFB; line-height: 175%; padding: 25px; border-radius: 8px; margin-left: 10px; margin-right: 10px; margin-top: 20px; margin-bottom: 20px; overflow-x: auto; white-space: nowrap;'><span class='token' style='background-color: rgba(179, 226, 205, 0.675);'>1</span><span class='token' style='background-color: rgba(253, 205, 172, 0.675);'><br></span><span class='token' style='background-color: rgba(179, 226, 205, 0.675);'>&nbsp;&nbsp;</span><span class='token' style='background-color: rgba(253, 205, 172, 0.675);'>From</span><span class='token' style='background-color: rgba(203, 213, 232, 0.675);'>&nbsp;fairest</span><span class='token' style='background-color: rgba(244, 202, 228, 0.675);'>&nbsp;creatures</span><span class='token' style='background-color: rgba(230, 245, 201, 0.675);'>&nbsp;we</span><span class='token' style='background-color: rgba(255, 242, 174, 0.675);'>&nbsp;desire</span><span class='token' style='background-color: rgba(241, 226, 204, 0.675);'>&nbsp;increase</span><span class='token' style='background-color: rgba(204, 204, 204, 0.675);'>,</span><span class='token' style='background-color: rgba(179, 226, 205, 0.675);'><br></span><span class='token' style='background-color: rgba(179, 226, 205, 0.675);'>&nbsp;&nbsp;</span><span class='token' style='background-color: rgba(253, 205, 172, 0.675);'>That</span><span class='token' style='background-color: rgba(203, 213, 232, 0.675);'>&nbsp;thereby</span><span class='token' style='background-color: rgba(244, 202, 228, 0.675);'>&nbsp;beauty</span><span class='token' style='background-color: rgba(230, 245, 201, 0.675);'>'</span><span class='token' style='background-color: rgba(255, 242, 174, 0.675);'>s</span><span class='token' style='background-color: rgba(241, 226, 204, 0.675);'>&nbsp;rose</span><span class='token' style='background-color: rgba(204, 204, 204, 0.675);'>&nbsp;might</span><span class='token' style='background-color: rgba(179, 226, 205, 0.675);'>&nbsp;never</span><span class='token' style='background-color: rgba(253, 205, 172, 0.675);'>&nbsp;die</span><span class='token' style='background-color: rgba(203, 213, 232, 0.675);'>,</span><span class='token' style='background-color: rgba(244, 202, 228, 0.675);'><br></span><span class='token' style='background-color: rgba(179, 226, 205, 0.675);'>&nbsp;&nbsp;</span><span class='token' style='background-color: rgba(253, 205, 172, 0.675);'>But</span><span class='token' style='background-color: rgba(203, 213, 232, 0.675);'>&nbsp;as</span><span class='token' style='background-color: rgba(244, 202, 228, 0.675);'>&nbsp;the</span><span class='token' style='background-color: rgba(230, 245, 201, 0.675);'>&nbsp;ri</span><span class='token' style='background-color: rgba(255, 242, 174, 0.675);'>per</span><span class='token' style='background-color: rgba(241, 226, 204, 0.675);'>&nbsp;should</span><span class='token' style='background-color: rgba(204, 204, 204, 0.675);'>&nbsp;by</span><span class='token' style='background-color: rgba(179, 226, 205, 0.675);'>&nbsp;time</span><span class='token' style='background-color: rgba(253, 205, 172, 0.675);'>&nbsp;dece</span><span class='token' style='background-color: rgba(203, 213, 232, 0.675);'>ase</span><span class='token' style='background-color: rgba(244, 202, 228, 0.675);'>,</span><span class='token' style='background-color: rgba(230, 245, 201, 0.675);'><br></span><span class='token' style='background-color: rgba(179, 226, 205, 0.675);'>&nbsp;&nbsp;</span><span class='token' style='background-color: rgba(253, 205, 172, 0.675);'>His</span><span class='token' style='background-color: rgba(203, 213, 232, 0.675);'>&nbsp;tender</span><span class='token' style='background-color: rgba(244, 202, 228, 0.675);'>&nbsp;heir</span><span class='token' style='background-color: rgba(230, 245, 201, 0.675);'>&nbsp;might</span><span class='token' style='background-color: rgba(255, 242, 174, 0.675);'>&nbsp;bear</span><span class='token' style='background-color: rgba(241, 226, 204, 0.675);'>&nbsp;his</span><span class='token' style='background-color: rgba(204, 204, 204, 0.675);'>&nbsp;memory</span><span class='token' style='background-color: rgba(179, 226, 205, 0.675);'>:</span><span class='token' style='background-color: rgba(253, 205, 172, 0.675);'><br></span><span class='token' style='background-color: rgba(179, 226, 205, 0.675);'>&nbsp;&nbsp;</span><span class='token' style='background-color: rgba(253, 205, 172, 0.675);'>But</span><span class='token' style='background-color: rgba(203, 213, 232, 0.675);'>&nbsp;thou</span><span class='token' style='background-color: rgba(244, 202, 228, 0.675);'>&nbsp;cont</span><span class='token' style='background-color: rgba(230, 245, 201, 0.675);'>ra</span><span class='token' style='background-color: rgba(255, 242, 174, 0.675);'>cted</span><span class='token' style='background-color: rgba(241, 226, 204, 0.675);'>&nbsp;to</span><span class='token' style='background-color: rgba(204, 204, 204, 0.675);'>&nbsp;thine</span><span class='token' style='background-color: rgba(179, 226, 205, 0.675);'>&nbsp;own</span><span class='token' style='background-color: rgba(253, 205, 172, 0.675);'>&nbsp;bright</span><span class='token' style='background-color: rgba(203, 213, 232, 0.675);'>&nbsp;eyes</span><span class='token' style='background-color: rgba(244, 202, 228, 0.675);'>,</span><span class='token' style='background-color: rgba(230, 245, 201, 0.675);'><br></span><span class='token' style='background-color: rgba(179, 226, 205, 0.675);'>&nbsp;&nbsp;</span><span class='token' style='background-color: rgba(253, 205, 172, 0.675);'>F</span><span class='token' style='background-color: rgba(203, 213, 232, 0.675);'>eed</span><span class='token' style='background-color: rgba(244, 202, 228, 0.675);'>'</span><span class='token' style='background-color: rgba(230, 245, 201, 0.675);'>st</span><span class='token' style='background-color: rgba(255, 242, 174, 0.675);'>&nbsp;thy</span><span class='token' style='background-color: rgba(241, 226, 204, 0.675);'>&nbsp;light</span><span class='token' style='background-color: rgba(204, 204, 204, 0.675);'>'</span><span class='token' style='background-color: rgba(179, 226, 205, 0.675);'>s</span><span class='token' style='background-color: rgba(253, 205, 172, 0.675);'>&nbsp;flame</span><span class='token' style='background-color: rgba(203, 213, 232, 0.675);'>&nbsp;with</span><span class='token' style='background-color: rgba(244, 202, 228, 0.675);'>&nbsp;self</span><span class='token' style='background-color: rgba(230, 245, 201, 0.675);'>-</span><span class='token' style='background-color: rgba(255, 242, 174, 0.675);'>s</span><span class='token' style='background-color: rgba(241, 226, 204, 0.675);'>ub</span><span class='token' style='background-color: rgba(204, 204, 204, 0.675);'>stant</span><span class='token' style='background-color: rgba(179, 226, 205, 0.675);'>ial</span><span class='token' style='background-color: rgba(253, 205, 172, 0.675);'>&nbsp;f</span><span class='token' style='background-color: rgba(203, 213, 232, 0.675);'>u</span><span class='token' style='background-color: rgba(244, 202, 228, 0.675);'>el</span><span class='token' style='background-color: rgba(230, 245, 201, 0.675);'>,</span><span class='token' style='background-color: rgba(255, 242, 174, 0.675);'><br></span><span class='token' style='background-color: rgba(179, 226, 205, 0.675);'>&nbsp;&nbsp;</span><span class='token' style='background-color: rgba(253, 205, 172, 0.675);'>Making</span><span class='token' style='background-color: rgba(203, 213, 232, 0.675);'>&nbsp;a</span><span class='token' style='background-color: rgba(244, 202, 228, 0.675);'>&nbsp;fam</span><span class='token' style='background-color: rgba(230, 245, 201, 0.675);'>ine</span><span class='token' style='background-color: rgba(255, 242, 174, 0.675);'>&nbsp;where</span><span class='token' style='background-color: rgba(241, 226, 204, 0.675);'>&nbsp;ab</span><span class='token' style='background-color: rgba(204, 204, 204, 0.675);'>und</span><span class='token' style='background-color: rgba(179, 226, 205, 0.675);'>ance</span><span class='token' style='background-color: rgba(253, 205, 172, 0.675);'>&nbsp;lies</span><span class='token' style='background-color: rgba(203, 213, 232, 0.675);'>,</span><span class='token' style='background-color: rgba(244, 202, 228, 0.675);'><br></span><span class='token' style='background-color: rgba(179, 226, 205, 0.675);'>&nbsp;&nbsp;</span><span class='token' style='background-color: rgba(253, 205, 172, 0.675);'>Thy</span><span class='token' style='background-color: rgba(203, 213, 232, 0.675);'>&nbsp;self</span><span class='token' style='background-color: rgba(244, 202, 228, 0.675);'>&nbsp;thy</span><span class='token' style='background-color: rgba(230, 245, 201, 0.675);'>&nbsp;foe</span><span class='token' style='background-color: rgba(255, 242, 174, 0.675);'>,</span><span class='token' style='background-color: rgba(241, 226, 204, 0.675);'>&nbsp;to</span><span class='token' style='background-color: rgba(204, 204, 204, 0.675);'>&nbsp;thy</span><span class='token' style='background-color: rgba(179, 226, 205, 0.675);'>&nbsp;sweet</span><span class='token' style='background-color: rgba(253, 205, 172, 0.675);'>&nbsp;self</span><span class='token' style='background-color: rgba(203, 213, 232, 0.675);'>&nbsp;too</span><span class='token' style='background-color: rgba(244, 202, 228, 0.675);'>&nbsp;cruel</span><span class='token' style='background-color: rgba(230, 245, 201, 0.675);'>:</span><span class='token' style='background-color: rgba(255, 242, 174, 0.675);'><br></span><span class='token' style='background-color: rgba(179, 226, 205, 0.675);'>&nbsp;&nbsp;</span><span class='token' style='background-color: rgba(253, 205, 172, 0.675);'>Thou</span><span class='token' style='background-color: rgba(203, 213, 232, 0.675);'>&nbsp;that</span><span class='token' style='background-color: rgba(244, 202, 228, 0.675);'>&nbsp;art</span><span class='token' style='background-color: rgba(230, 245, 201, 0.675);'>&nbsp;now</span><span class='token' style='background-color: rgba(255, 242, 174, 0.675);'>&nbsp;the</span><span class='token' style='background-color: rgba(241, 226, 204, 0.675);'>&nbsp;world</span><span class='token' style='background-color: rgba(204, 204, 204, 0.675);'>'</span><span class='token' style='background-color: rgba(179, 226, 205, 0.675);'>s</span><span class='token' style='background-color: rgba(253, 205, 172, 0.675);'>&nbsp;fresh</span><span class='token' style='background-color: rgba(203, 213, 232, 0.675);'>&nbsp;orn</span><span class='token' style='background-color: rgba(244, 202, 228, 0.675);'>ament</span><span class='token' style='background-color: rgba(230, 245, 201, 0.675);'>,</span><span class='token' style='background-color: rgba(255, 242, 174, 0.675);'><br></span><span class='token' style='background-color: rgba(179, 226, 205, 0.675);'>&nbsp;&nbsp;</span><span class='token' style='background-color: rgba(253, 205, 172, 0.675);'>And</span><span class='token' style='background-color: rgba(203, 213, 232, 0.675);'>&nbsp;only</span><span class='token' style='background-color: rgba(244, 202, 228, 0.675);'>&nbsp;herald</span><span class='token' style='background-color: rgba(230, 245, 201, 0.675);'>&nbsp;to</span><span class='token' style='background-color: rgba(255, 242, 174, 0.675);'>&nbsp;the</span><span class='token' style='background-color: rgba(241, 226, 204, 0.675);'>&nbsp;g</span><span class='token' style='background-color: rgba(204, 204, 204, 0.675);'>aud</span><span class='token' style='background-color: rgba(179, 226, 205, 0.675);'>y</span><span class='token' style='background-color: rgba(253, 205, 172, 0.675);'>&nbsp;spring</span><span class='token' style='background-color: rgba(203, 213, 232, 0.675);'>,</span><span class='token' style='background-color: rgba(244, 202, 228, 0.675);'><br></span><span class='token' style='background-color: rgba(179, 226, 205, 0.675);'>&nbsp;&nbsp;</span><span class='token' style='background-color: rgba(253, 205, 172, 0.675);'>Within</span><span class='token' style='background-color: rgba(203, 213, 232, 0.675);'>&nbsp;thine</span><span class='token' style='background-color: rgba(244, 202, 228, 0.675);'>&nbsp;own</span><span class='token' style='background-color: rgba(230, 245, 201, 0.675);'>&nbsp;bud</span><span class='token' style='background-color: rgba(255, 242, 174, 0.675);'>&nbsp;bu</span><span class='token' style='background-color: rgba(241, 226, 204, 0.675);'>ri</span><span class='token' style='background-color: rgba(204, 204, 204, 0.675);'>est</span><span class='token' style='background-color: rgba(179, 226, 205, 0.675);'>&nbsp;thy</span><span class='token' style='background-color: rgba(253, 205, 172, 0.675);'>&nbsp;content</span><span class='token' style='background-color: rgba(203, 213, 232, 0.675);'>,</span><span class='token' style='background-color: rgba(244, 202, 228, 0.675);'><br></span><span class='token' style='background-color: rgba(179, 226, 205, 0.675);'>&nbsp;&nbsp;</span><span class='token' style='background-color: rgba(253, 205, 172, 0.675);'>And</span><span class='token' style='background-color: rgba(203, 213, 232, 0.675);'>&nbsp;tender</span><span class='token' style='background-color: rgba(244, 202, 228, 0.675);'>&nbsp;chur</span><span class='token' style='background-color: rgba(230, 245, 201, 0.675);'>l</span><span class='token' style='background-color: rgba(255, 242, 174, 0.675);'>&nbsp;mak</span><span class='token' style='background-color: rgba(241, 226, 204, 0.675);'>'</span><span class='token' style='background-color: rgba(204, 204, 204, 0.675);'>st</span><span class='token' style='background-color: rgba(179, 226, 205, 0.675);'>&nbsp;waste</span><span class='token' style='background-color: rgba(253, 205, 172, 0.675);'>&nbsp;in</span><span class='token' style='background-color: rgba(203, 213, 232, 0.675);'>&nbsp;n</span><span class='token' style='background-color: rgba(244, 202, 228, 0.675);'>ig</span><span class='token' style='background-color: rgba(230, 245, 201, 0.675);'>g</span><span class='token' style='background-color: rgba(255, 242, 174, 0.675);'>ard</span><span class='token' style='background-color: rgba(241, 226, 204, 0.675);'>ing</span><span class='token' style='background-color: rgba(204, 204, 204, 0.675);'>:</span><span class='token' style='background-color: rgba(179, 226, 205, 0.675);'><br></span><span class='token' style='background-color: rgba(179, 226, 205, 0.675);'>&nbsp;&nbsp;&nbsp;&nbsp;</span><span class='token' style='background-color: rgba(253, 205, 172, 0.675);'>P</span><span class='token' style='background-color: rgba(203, 213, 232, 0.675);'>ity</span><span class='token' style='background-color: rgba(244, 202, 228, 0.675);'>&nbsp;the</span><span class='token' style='background-color: rgba(230, 245, 201, 0.675);'>&nbsp;world</span><span class='token' style='background-color: rgba(255, 242, 174, 0.675);'>,</span><span class='token' style='background-color: rgba(241, 226, 204, 0.675);'>&nbsp;or</span><span class='token' style='background-color: rgba(204, 204, 204, 0.675);'>&nbsp;else</span><span class='token' style='background-color: rgba(179, 226, 205, 0.675);'>&nbsp;this</span><span class='token' style='background-color: rgba(253, 205, 172, 0.675);'>&nbsp;gl</span><span class='token' style='background-color: rgba(203, 213, 232, 0.675);'>ut</span><span class='token' style='background-color: rgba(244, 202, 228, 0.675);'>ton</span><span class='token' style='background-color: rgba(230, 245, 201, 0.675);'>&nbsp;be</span><span class='token' style='background-color: rgba(255, 242, 174, 0.675);'>,</span><span class='token' style='background-color: rgba(241, 226, 204, 0.675);'><br></span><span class='token' style='background-color: rgba(179, 226, 205, 0.675);'>&nbsp;&nbsp;&nbsp;&nbsp;</span><span class='token' style='background-color: rgba(253, 205, 172, 0.675);'>To</span><span class='token' style='background-color: rgba(203, 213, 232, 0.675);'>&nbsp;eat</span><span class='token' style='background-color: rgba(244, 202, 228, 0.675);'>&nbsp;the</span><span class='token' style='background-color: rgba(230, 245, 201, 0.675);'>&nbsp;world</span><span class='token' style='background-color: rgba(255, 242, 174, 0.675);'>'</span><span class='token' style='background-color: rgba(241, 226, 204, 0.675);'>s</span><span class='token' style='background-color: rgba(204, 204, 204, 0.675);'>&nbsp;due</span><span class='token' style='background-color: rgba(179, 226, 205, 0.675);'>,</span><span class='token' style='background-color: rgba(253, 205, 172, 0.675);'>&nbsp;by</span><span class='token' style='background-color: rgba(203, 213, 232, 0.675);'>&nbsp;the</span><span class='token' style='background-color: rgba(244, 202, 228, 0.675);'>&nbsp;grave</span><span class='token' style='background-color: rgba(230, 245, 201, 0.675);'>&nbsp;and</span><span class='token' style='background-color: rgba(255, 242, 174, 0.675);'>&nbsp;thee</span><span class='token' style='background-color: rgba(241, 226, 204, 0.675);'>.</span><span class='token' style='background-color: rgba(204, 204, 204, 0.675);'><br></span></div>"
      ],
      "text/plain": [
       "<IPython.core.display.HTML object>"
      ]
     },
     "metadata": {},
     "output_type": "display_data"
    },
    {
     "name": "stdout",
     "output_type": "stream",
     "text": [
      "\n",
      "... FROM PANDAS DATAFRAME ...\n",
      "\n"
     ]
    },
    {
     "data": {
      "text/html": [
       "<style>span.token {font-family: Courier New; font-size: 1.1em; font-weight: 300; padding: 0px; margin-right: 0px; border-color: rgba(0, 0, 0, 0.05); border-style: ridge; border-radius: 0px;}</style><div style='background-color: #FBFBFB; line-height: 175%; padding: 25px; border-radius: 8px; margin-left: 10px; margin-right: 10px; margin-top: 20px; margin-bottom: 20px; overflow-x: auto; white-space: nowrap;'><span class='token' style='background-color: rgba(179, 226, 205, 0.675);'>1</span><span class='token' style='background-color: rgba(253, 205, 172, 0.675);'><br></span><span class='token' style='background-color: rgba(179, 226, 205, 0.675);'>&nbsp;&nbsp;</span><span class='token' style='background-color: rgba(253, 205, 172, 0.675);'>From</span><span class='token' style='background-color: rgba(203, 213, 232, 0.675);'>&nbsp;fairest</span><span class='token' style='background-color: rgba(244, 202, 228, 0.675);'>&nbsp;creatures</span><span class='token' style='background-color: rgba(230, 245, 201, 0.675);'>&nbsp;we</span><span class='token' style='background-color: rgba(255, 242, 174, 0.675);'>&nbsp;desire</span><span class='token' style='background-color: rgba(241, 226, 204, 0.675);'>&nbsp;increase</span><span class='token' style='background-color: rgba(204, 204, 204, 0.675);'>,</span><span class='token' style='background-color: rgba(179, 226, 205, 0.675);'><br></span><span class='token' style='background-color: rgba(179, 226, 205, 0.675);'>&nbsp;&nbsp;</span><span class='token' style='background-color: rgba(253, 205, 172, 0.675);'>That</span><span class='token' style='background-color: rgba(203, 213, 232, 0.675);'>&nbsp;thereby</span><span class='token' style='background-color: rgba(244, 202, 228, 0.675);'>&nbsp;beauty</span><span class='token' style='background-color: rgba(230, 245, 201, 0.675);'>'</span><span class='token' style='background-color: rgba(255, 242, 174, 0.675);'>s</span><span class='token' style='background-color: rgba(241, 226, 204, 0.675);'>&nbsp;rose</span><span class='token' style='background-color: rgba(204, 204, 204, 0.675);'>&nbsp;might</span><span class='token' style='background-color: rgba(179, 226, 205, 0.675);'>&nbsp;never</span><span class='token' style='background-color: rgba(253, 205, 172, 0.675);'>&nbsp;die</span><span class='token' style='background-color: rgba(203, 213, 232, 0.675);'>,</span><span class='token' style='background-color: rgba(244, 202, 228, 0.675);'><br></span><span class='token' style='background-color: rgba(179, 226, 205, 0.675);'>&nbsp;&nbsp;</span><span class='token' style='background-color: rgba(253, 205, 172, 0.675);'>But</span><span class='token' style='background-color: rgba(203, 213, 232, 0.675);'>&nbsp;as</span><span class='token' style='background-color: rgba(244, 202, 228, 0.675);'>&nbsp;the</span><span class='token' style='background-color: rgba(230, 245, 201, 0.675);'>&nbsp;ri</span><span class='token' style='background-color: rgba(255, 242, 174, 0.675);'>per</span><span class='token' style='background-color: rgba(241, 226, 204, 0.675);'>&nbsp;should</span><span class='token' style='background-color: rgba(204, 204, 204, 0.675);'>&nbsp;by</span><span class='token' style='background-color: rgba(179, 226, 205, 0.675);'>&nbsp;time</span><span class='token' style='background-color: rgba(253, 205, 172, 0.675);'>&nbsp;dece</span><span class='token' style='background-color: rgba(203, 213, 232, 0.675);'>ase</span><span class='token' style='background-color: rgba(244, 202, 228, 0.675);'>,</span><span class='token' style='background-color: rgba(230, 245, 201, 0.675);'><br></span><span class='token' style='background-color: rgba(179, 226, 205, 0.675);'>&nbsp;&nbsp;</span><span class='token' style='background-color: rgba(253, 205, 172, 0.675);'>His</span><span class='token' style='background-color: rgba(203, 213, 232, 0.675);'>&nbsp;tender</span><span class='token' style='background-color: rgba(244, 202, 228, 0.675);'>&nbsp;heir</span><span class='token' style='background-color: rgba(230, 245, 201, 0.675);'>&nbsp;might</span><span class='token' style='background-color: rgba(255, 242, 174, 0.675);'>&nbsp;bear</span><span class='token' style='background-color: rgba(241, 226, 204, 0.675);'>&nbsp;his</span><span class='token' style='background-color: rgba(204, 204, 204, 0.675);'>&nbsp;memory</span><span class='token' style='background-color: rgba(179, 226, 205, 0.675);'>:</span><span class='token' style='background-color: rgba(253, 205, 172, 0.675);'><br></span><span class='token' style='background-color: rgba(179, 226, 205, 0.675);'>&nbsp;&nbsp;</span><span class='token' style='background-color: rgba(253, 205, 172, 0.675);'>But</span><span class='token' style='background-color: rgba(203, 213, 232, 0.675);'>&nbsp;thou</span><span class='token' style='background-color: rgba(244, 202, 228, 0.675);'>&nbsp;cont</span><span class='token' style='background-color: rgba(230, 245, 201, 0.675);'>ra</span><span class='token' style='background-color: rgba(255, 242, 174, 0.675);'>cted</span><span class='token' style='background-color: rgba(241, 226, 204, 0.675);'>&nbsp;to</span><span class='token' style='background-color: rgba(204, 204, 204, 0.675);'>&nbsp;thine</span><span class='token' style='background-color: rgba(179, 226, 205, 0.675);'>&nbsp;own</span><span class='token' style='background-color: rgba(253, 205, 172, 0.675);'>&nbsp;bright</span><span class='token' style='background-color: rgba(203, 213, 232, 0.675);'>&nbsp;eyes</span><span class='token' style='background-color: rgba(244, 202, 228, 0.675);'>,</span><span class='token' style='background-color: rgba(230, 245, 201, 0.675);'><br></span><span class='token' style='background-color: rgba(179, 226, 205, 0.675);'>&nbsp;&nbsp;</span><span class='token' style='background-color: rgba(253, 205, 172, 0.675);'>F</span><span class='token' style='background-color: rgba(203, 213, 232, 0.675);'>eed</span><span class='token' style='background-color: rgba(244, 202, 228, 0.675);'>'</span><span class='token' style='background-color: rgba(230, 245, 201, 0.675);'>st</span><span class='token' style='background-color: rgba(255, 242, 174, 0.675);'>&nbsp;thy</span><span class='token' style='background-color: rgba(241, 226, 204, 0.675);'>&nbsp;light</span><span class='token' style='background-color: rgba(204, 204, 204, 0.675);'>'</span><span class='token' style='background-color: rgba(179, 226, 205, 0.675);'>s</span><span class='token' style='background-color: rgba(253, 205, 172, 0.675);'>&nbsp;flame</span><span class='token' style='background-color: rgba(203, 213, 232, 0.675);'>&nbsp;with</span><span class='token' style='background-color: rgba(244, 202, 228, 0.675);'>&nbsp;self</span><span class='token' style='background-color: rgba(230, 245, 201, 0.675);'>-</span><span class='token' style='background-color: rgba(255, 242, 174, 0.675);'>s</span><span class='token' style='background-color: rgba(241, 226, 204, 0.675);'>ub</span><span class='token' style='background-color: rgba(204, 204, 204, 0.675);'>stant</span><span class='token' style='background-color: rgba(179, 226, 205, 0.675);'>ial</span><span class='token' style='background-color: rgba(253, 205, 172, 0.675);'>&nbsp;f</span><span class='token' style='background-color: rgba(203, 213, 232, 0.675);'>u</span><span class='token' style='background-color: rgba(244, 202, 228, 0.675);'>el</span><span class='token' style='background-color: rgba(230, 245, 201, 0.675);'>,</span><span class='token' style='background-color: rgba(255, 242, 174, 0.675);'><br></span><span class='token' style='background-color: rgba(179, 226, 205, 0.675);'>&nbsp;&nbsp;</span><span class='token' style='background-color: rgba(253, 205, 172, 0.675);'>Making</span><span class='token' style='background-color: rgba(203, 213, 232, 0.675);'>&nbsp;a</span><span class='token' style='background-color: rgba(244, 202, 228, 0.675);'>&nbsp;fam</span><span class='token' style='background-color: rgba(230, 245, 201, 0.675);'>ine</span><span class='token' style='background-color: rgba(255, 242, 174, 0.675);'>&nbsp;where</span><span class='token' style='background-color: rgba(241, 226, 204, 0.675);'>&nbsp;ab</span><span class='token' style='background-color: rgba(204, 204, 204, 0.675);'>und</span><span class='token' style='background-color: rgba(179, 226, 205, 0.675);'>ance</span><span class='token' style='background-color: rgba(253, 205, 172, 0.675);'>&nbsp;lies</span><span class='token' style='background-color: rgba(203, 213, 232, 0.675);'>,</span><span class='token' style='background-color: rgba(244, 202, 228, 0.675);'><br></span><span class='token' style='background-color: rgba(179, 226, 205, 0.675);'>&nbsp;&nbsp;</span><span class='token' style='background-color: rgba(253, 205, 172, 0.675);'>Thy</span><span class='token' style='background-color: rgba(203, 213, 232, 0.675);'>&nbsp;self</span><span class='token' style='background-color: rgba(244, 202, 228, 0.675);'>&nbsp;thy</span><span class='token' style='background-color: rgba(230, 245, 201, 0.675);'>&nbsp;foe</span><span class='token' style='background-color: rgba(255, 242, 174, 0.675);'>,</span><span class='token' style='background-color: rgba(241, 226, 204, 0.675);'>&nbsp;to</span><span class='token' style='background-color: rgba(204, 204, 204, 0.675);'>&nbsp;thy</span><span class='token' style='background-color: rgba(179, 226, 205, 0.675);'>&nbsp;sweet</span><span class='token' style='background-color: rgba(253, 205, 172, 0.675);'>&nbsp;self</span><span class='token' style='background-color: rgba(203, 213, 232, 0.675);'>&nbsp;too</span><span class='token' style='background-color: rgba(244, 202, 228, 0.675);'>&nbsp;cruel</span><span class='token' style='background-color: rgba(230, 245, 201, 0.675);'>:</span><span class='token' style='background-color: rgba(255, 242, 174, 0.675);'><br></span><span class='token' style='background-color: rgba(179, 226, 205, 0.675);'>&nbsp;&nbsp;</span><span class='token' style='background-color: rgba(253, 205, 172, 0.675);'>Thou</span><span class='token' style='background-color: rgba(203, 213, 232, 0.675);'>&nbsp;that</span><span class='token' style='background-color: rgba(244, 202, 228, 0.675);'>&nbsp;art</span><span class='token' style='background-color: rgba(230, 245, 201, 0.675);'>&nbsp;now</span><span class='token' style='background-color: rgba(255, 242, 174, 0.675);'>&nbsp;the</span><span class='token' style='background-color: rgba(241, 226, 204, 0.675);'>&nbsp;world</span><span class='token' style='background-color: rgba(204, 204, 204, 0.675);'>'</span><span class='token' style='background-color: rgba(179, 226, 205, 0.675);'>s</span><span class='token' style='background-color: rgba(253, 205, 172, 0.675);'>&nbsp;fresh</span><span class='token' style='background-color: rgba(203, 213, 232, 0.675);'>&nbsp;orn</span><span class='token' style='background-color: rgba(244, 202, 228, 0.675);'>ament</span><span class='token' style='background-color: rgba(230, 245, 201, 0.675);'>,</span><span class='token' style='background-color: rgba(255, 242, 174, 0.675);'><br></span><span class='token' style='background-color: rgba(179, 226, 205, 0.675);'>&nbsp;&nbsp;</span><span class='token' style='background-color: rgba(253, 205, 172, 0.675);'>And</span><span class='token' style='background-color: rgba(203, 213, 232, 0.675);'>&nbsp;only</span><span class='token' style='background-color: rgba(244, 202, 228, 0.675);'>&nbsp;herald</span><span class='token' style='background-color: rgba(230, 245, 201, 0.675);'>&nbsp;to</span><span class='token' style='background-color: rgba(255, 242, 174, 0.675);'>&nbsp;the</span><span class='token' style='background-color: rgba(241, 226, 204, 0.675);'>&nbsp;g</span><span class='token' style='background-color: rgba(204, 204, 204, 0.675);'>aud</span><span class='token' style='background-color: rgba(179, 226, 205, 0.675);'>y</span><span class='token' style='background-color: rgba(253, 205, 172, 0.675);'>&nbsp;spring</span><span class='token' style='background-color: rgba(203, 213, 232, 0.675);'>,</span><span class='token' style='background-color: rgba(244, 202, 228, 0.675);'><br></span><span class='token' style='background-color: rgba(179, 226, 205, 0.675);'>&nbsp;&nbsp;</span><span class='token' style='background-color: rgba(253, 205, 172, 0.675);'>Within</span><span class='token' style='background-color: rgba(203, 213, 232, 0.675);'>&nbsp;thine</span><span class='token' style='background-color: rgba(244, 202, 228, 0.675);'>&nbsp;own</span><span class='token' style='background-color: rgba(230, 245, 201, 0.675);'>&nbsp;bud</span><span class='token' style='background-color: rgba(255, 242, 174, 0.675);'>&nbsp;bu</span><span class='token' style='background-color: rgba(241, 226, 204, 0.675);'>ri</span><span class='token' style='background-color: rgba(204, 204, 204, 0.675);'>est</span><span class='token' style='background-color: rgba(179, 226, 205, 0.675);'>&nbsp;thy</span><span class='token' style='background-color: rgba(253, 205, 172, 0.675);'>&nbsp;content</span><span class='token' style='background-color: rgba(203, 213, 232, 0.675);'>,</span><span class='token' style='background-color: rgba(244, 202, 228, 0.675);'><br></span><span class='token' style='background-color: rgba(179, 226, 205, 0.675);'>&nbsp;&nbsp;</span><span class='token' style='background-color: rgba(253, 205, 172, 0.675);'>And</span><span class='token' style='background-color: rgba(203, 213, 232, 0.675);'>&nbsp;tender</span><span class='token' style='background-color: rgba(244, 202, 228, 0.675);'>&nbsp;chur</span><span class='token' style='background-color: rgba(230, 245, 201, 0.675);'>l</span><span class='token' style='background-color: rgba(255, 242, 174, 0.675);'>&nbsp;mak</span><span class='token' style='background-color: rgba(241, 226, 204, 0.675);'>'</span><span class='token' style='background-color: rgba(204, 204, 204, 0.675);'>st</span><span class='token' style='background-color: rgba(179, 226, 205, 0.675);'>&nbsp;waste</span><span class='token' style='background-color: rgba(253, 205, 172, 0.675);'>&nbsp;in</span><span class='token' style='background-color: rgba(203, 213, 232, 0.675);'>&nbsp;n</span><span class='token' style='background-color: rgba(244, 202, 228, 0.675);'>ig</span><span class='token' style='background-color: rgba(230, 245, 201, 0.675);'>g</span><span class='token' style='background-color: rgba(255, 242, 174, 0.675);'>ard</span><span class='token' style='background-color: rgba(241, 226, 204, 0.675);'>ing</span><span class='token' style='background-color: rgba(204, 204, 204, 0.675);'>:</span><span class='token' style='background-color: rgba(179, 226, 205, 0.675);'><br></span><span class='token' style='background-color: rgba(179, 226, 205, 0.675);'>&nbsp;&nbsp;&nbsp;&nbsp;</span><span class='token' style='background-color: rgba(253, 205, 172, 0.675);'>P</span><span class='token' style='background-color: rgba(203, 213, 232, 0.675);'>ity</span><span class='token' style='background-color: rgba(244, 202, 228, 0.675);'>&nbsp;the</span><span class='token' style='background-color: rgba(230, 245, 201, 0.675);'>&nbsp;world</span><span class='token' style='background-color: rgba(255, 242, 174, 0.675);'>,</span><span class='token' style='background-color: rgba(241, 226, 204, 0.675);'>&nbsp;or</span><span class='token' style='background-color: rgba(204, 204, 204, 0.675);'>&nbsp;else</span><span class='token' style='background-color: rgba(179, 226, 205, 0.675);'>&nbsp;this</span><span class='token' style='background-color: rgba(253, 205, 172, 0.675);'>&nbsp;gl</span><span class='token' style='background-color: rgba(203, 213, 232, 0.675);'>ut</span><span class='token' style='background-color: rgba(244, 202, 228, 0.675);'>ton</span><span class='token' style='background-color: rgba(230, 245, 201, 0.675);'>&nbsp;be</span><span class='token' style='background-color: rgba(255, 242, 174, 0.675);'>,</span><span class='token' style='background-color: rgba(241, 226, 204, 0.675);'><br></span><span class='token' style='background-color: rgba(179, 226, 205, 0.675);'>&nbsp;&nbsp;&nbsp;&nbsp;</span><span class='token' style='background-color: rgba(253, 205, 172, 0.675);'>To</span><span class='token' style='background-color: rgba(203, 213, 232, 0.675);'>&nbsp;eat</span><span class='token' style='background-color: rgba(244, 202, 228, 0.675);'>&nbsp;the</span><span class='token' style='background-color: rgba(230, 245, 201, 0.675);'>&nbsp;world</span><span class='token' style='background-color: rgba(255, 242, 174, 0.675);'>'</span><span class='token' style='background-color: rgba(241, 226, 204, 0.675);'>s</span><span class='token' style='background-color: rgba(204, 204, 204, 0.675);'>&nbsp;due</span><span class='token' style='background-color: rgba(179, 226, 205, 0.675);'>,</span><span class='token' style='background-color: rgba(253, 205, 172, 0.675);'>&nbsp;by</span><span class='token' style='background-color: rgba(203, 213, 232, 0.675);'>&nbsp;the</span><span class='token' style='background-color: rgba(244, 202, 228, 0.675);'>&nbsp;grave</span><span class='token' style='background-color: rgba(230, 245, 201, 0.675);'>&nbsp;and</span><span class='token' style='background-color: rgba(255, 242, 174, 0.675);'>&nbsp;thee</span><span class='token' style='background-color: rgba(241, 226, 204, 0.675);'>.</span><span class='token' style='background-color: rgba(204, 204, 204, 0.675);'><br></span></div>"
      ],
      "text/plain": [
       "<IPython.core.display.HTML object>"
      ]
     },
     "metadata": {},
     "output_type": "display_data"
    }
   ],
   "source": [
    "DEMO_DS_CHUNK_STYLE, DEMO_DS_TOK_STYLE, DEMO_DS_VERSION = \"rcts\", \"bpe\", \"v4\"\n",
    "DEMO_TFREC_PATHS = sorted(glob(os.path.join(\n",
    "    TFRECORD_DIR, f\"{DEMO_DS_CHUNK_STYLE}_{DEMO_DS_TOK_STYLE}_{DEMO_DS_VERSION}\", \"*.tfrec\"\n",
    ")))\n",
    "\n",
    "# Get respective tooling\n",
    "demo_ds = load_tfrecord_dataset(DEMO_TFREC_PATHS)\n",
    "viz_tool = bpe_token_viz if DEMO_DS_TOK_STYLE==\"bpe\" else uni_token_viz\n",
    "\n",
    "# Check and compare\n",
    "print(\"\\n... FROM TFRECORD ...\\n\")\n",
    "display(HTML(viz_tool.visualize(bpe_decoder(next(iter(demo_ds)).numpy().tolist()))))\n",
    "\n",
    "# TODO make modular... not important\n",
    "print(\"\\n... FROM PANDAS DATAFRAME ...\\n\")\n",
    "display(HTML(viz_tool.visualize(bpe_decoder(rcts_bpe_chunk_df[\"token_content\"][0]))))"
   ]
  },
  {
   "cell_type": "markdown",
   "id": "31872fec-fe94-45dc-b0e5-cd9393444ab9",
   "metadata": {},
   "source": [
    "<br>\n",
    "\n",
    "<b>Send Some wandb Stuff</b>"
   ]
  },
  {
   "cell_type": "code",
   "execution_count": 66,
   "id": "2dfe10b3-a966-4b1a-9633-e5734013d5df",
   "metadata": {},
   "outputs": [],
   "source": [
    "from wandb import Table\n",
    "\n",
    "rcts_bpe_wandb_table  = Table(dataframe=get_metadata_df(rcts_bpe_chunk_df))\n",
    "rcts_uni_wandb_table  = Table(dataframe=get_metadata_df(rcts_uni_chunk_df))\n",
    "basic_bpe_wandb_table = Table(dataframe=get_metadata_df(basic_bpe_chunk_df))\n",
    "basic_uni_wandb_table = Table(dataframe=get_metadata_df(basic_uni_chunk_df))\n",
    "\n",
    "wandb.log({\n",
    "    \"rcts_bpe\": rcts_bpe_wandb_table,\n",
    "    \"rcts_uni\": rcts_uni_wandb_table,\n",
    "    \"basic_bpe\": basic_bpe_wandb_table,\n",
    "    \"basic_uni\": basic_uni_wandb_table,\n",
    "})\n",
    "wandb.finish()"
   ]
  }
 ],
 "metadata": {
  "kernelspec": {
   "display_name": "Python 3 (ipykernel)",
   "language": "python",
   "name": "python3"
  },
  "language_info": {
   "codemirror_mode": {
    "name": "ipython",
    "version": 3
   },
   "file_extension": ".py",
   "mimetype": "text/x-python",
   "name": "python",
   "nbconvert_exporter": "python",
   "pygments_lexer": "ipython3",
   "version": "3.9.16"
  }
 },
 "nbformat": 4,
 "nbformat_minor": 5
}
