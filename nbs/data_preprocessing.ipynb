{
 "cells": [
  {
   "cell_type": "markdown",
   "id": "29279551-2a6d-480f-8fe2-d18017f56b20",
   "metadata": {},
   "source": [
    "<div align=\"center\">\n",
    "\n",
    "# 🚀 Spearecode Preprocessing 🚀\n",
    "\n",
    "</div>\n",
    "\n",
    "<br>\n",
    "\n",
    "Welcome to the **Spearecode Preprocessing Notebook**! This notebook will guide you through the necessary preprocessing steps to prepare a toy dataset for Language Model training. We will focus on making the dataset more suitable for training by performing the following steps:\n",
    "\n",
    "1. 📚 **Loading the dataset**: We'll start by importing the dataset from a file or external source.\n",
    "2. 📦 **Chunking the text**: The dataset will be divided into smaller chunks or segments, making it easier to process during training.\n",
    "3. 💬 **Tokenization**: Each chunk of text will be split into individual tokens (words or subwords), which are the basic units for language models.\n",
    "4. 📊 **Basic Exploratory Data Analysis (EDA)**: We'll analyze the dataset's characteristics, such as token frequency, to gain insights and identify potential issues.\n",
    "\n",
    "After completing the preprocessing and EDA, the toy dataset will be converted into `TFRecords` format. This efficient binary format is designed for use with TensorFlow and will enable seamless integration with your Language Model training pipeline.\n",
    "\n",
    "Let's dive in and start preprocessing the dataset! 🎉\n"
   ]
  },
  {
   "cell_type": "markdown",
   "id": "76a62943-0d3c-4aae-933b-2a5fbe751ad6",
   "metadata": {},
   "source": [
    "<br><br>\n",
    "\n",
    "<div align=\"center\">\n",
    "\n",
    "# 🌟 Table of Contents 🌟\n",
    "\n",
    "</div>\n",
    "\n",
    "---\n",
    "\n",
    "0. [**Setup**](#setup)\n",
    "1. [**Loading the Dataset**](#loading-the-dataset)\n",
    "2. [**Chunking the Text**](#chunking-the-text)\n",
    "3. [**Tokenization**](#tokenization)\n",
    "4. [**Basic Exploratory Data Analysis (EDA)**](#basic-eda)\n",
    "5. [**Converting to TFRecords**](#converting-to-tfrecords)\n",
    "\n",
    "---\n",
    "\n"
   ]
  },
  {
   "cell_type": "markdown",
   "id": "59e83729-e61a-4d94-a074-17ccb60593dc",
   "metadata": {},
   "source": [
    "<br>\n",
    "\n",
    "<div align=\"center\">\n",
    "\n",
    "## 🛠️ Setup <a name=\"setup\"></a>\n",
    "\n",
    "</div>\n",
    "\n",
    "<br>\n",
    "\n",
    "In this section, we'll import required libraries and methods from our utilities file. We will also define relevant paths and high level information we may need later. We also run a few basic Tensorflow setup steps to ensure optimal and reproducible runs."
   ]
  },
  {
   "cell_type": "code",
   "execution_count": 2,
   "id": "8ab4c015-345e-4c48-a749-c7094604fecf",
   "metadata": {},
   "outputs": [],
   "source": [
    "### IMPORTS ###\n",
    "import os\n",
    "import sys\n",
    "import random\n",
    "import numpy as np\n",
    "import pandas as pd\n",
    "from glob import glob\n",
    "import tensorflow as tf\n",
    "import sentencepiece as spm\n",
    "from tqdm.notebook import tqdm; tqdm.pandas()\n",
    "\n",
    "PROJECT_DIR = os.path.dirname(os.getcwd())\n",
    "sys.path.insert(0, PROJECT_DIR) # project root into path\n",
    "\n",
    "from spearecode.preprocessing_utils import load_from_txt_file, preprocess_shakespeare, save_to_txt_file, print_check_speare\n",
    "from spearecode.general_utils import tf_xla_jit, tf_set_memory_growth, seed_it_all, flatten_l_o_l, print_ln\n",
    "\n",
    "### DEFINE PATHS ###\n",
    "NBS_PATH = os.path.join(PROJECT_DIR, \"nbs\")\n",
    "DATA_PATH = os.path.join(PROJECT_DIR, \"data\")\n",
    "SS_TEXT_PATH = os.path.join(DATA_PATH, \"t8.shakespeare.txt\")\n",
    "PREPROCESSED_FULL_TEXT_PATH = SS_TEXT_PATH.replace(\".txt\", \"_preprocessed.txt\")"
   ]
  },
  {
   "cell_type": "markdown",
   "id": "3975cca8-555a-4871-a41a-3ba37c72aa12",
   "metadata": {},
   "source": [
    "<br>\n",
    "\n",
    "<div align=\"center\">\n",
    "\n",
    "## 📚 Loading the Dataset <a name=\"loading-the-dataset\"></a>\n",
    "\n",
    "</div>\n",
    "\n",
    "<br>\n",
    "\n",
    "In this section, we'll import the dataset from a file or external source. The dataset will be read into memory, allowing us to manipulate and process the text as needed throughout the preprocessing steps.\n"
   ]
  },
  {
   "cell_type": "code",
   "execution_count": 4,
   "id": "1c7fa905-5791-48de-9933-bcd0fcfe95bc",
   "metadata": {},
   "outputs": [
    {
     "name": "stdout",
     "output_type": "stream",
     "text": [
      "\n",
      "... DATASET INFO:\n",
      "\tNUMBER OF CHARS --> 5,419,872\n",
      "\tNUMBER OF LINES --> 120,696\n",
      "\n",
      "\n",
      "... FIRST 1000 CHARACTERS:\n",
      "\n",
      "\n",
      "\n",
      "1\n",
      "  From fairest creatures we desire increase,\n",
      "  That thereby beauty's rose might never die,\n",
      "  But as the riper should by time decease,\n",
      "  His tender heir might bear his memory:\n",
      "  But thou contracted to thine own bright eyes,\n",
      "  Feed'st thy light's flame with self-substantial fuel,\n",
      "  Making a famine where abundance lies,\n",
      "  Thy self thy foe, to thy sweet self too cruel:\n",
      "  Thou that art now the world's fresh ornament,\n",
      "  And only herald to the gaudy spring,\n",
      "  Within thine own bud buriest thy content,\n",
      "  And tender churl mak'st waste in niggarding:\n",
      "    Pity the world, or else this glutton be,\n",
      "    To eat the world's due, by the grave and thee.\n",
      "\n",
      "2\n",
      "  When forty winters shall besiege thy brow,\n",
      "  And dig deep trenches in thy beauty's field,\n",
      "  Thy youth's proud livery so gazed on now,\n",
      "  Will be a tattered weed of small worth held:  \n",
      "  Then being asked, where all thy beauty lies,\n",
      "  Where all the treasure of thy lusty days;\n",
      "  To say within thine own deep sunken eyes,\n",
      "  Were an all-eating shame, and\n",
      "\n",
      "\n",
      "... LAST 1000 CHARACTERS:\n",
      "\n",
      "hite and swoon at tragic shows;\n",
      "\n",
      "  'That not a heart which in his level came\n",
      "  Could scape the hail of his all-hurting aim,\n",
      "  Showing fair nature is both kind and tame;\n",
      "  And, veiled in them, did win whom he would maim.\n",
      "  Against the thing he sought he would exclaim;\n",
      "  When he most burned in heart-wished luxury,\n",
      "  He preached pure maid and praised cold chastity.\n",
      "\n",
      "  'Thus merely with the garment of a Grace  \n",
      "  The naked and concealed fiend he covered,\n",
      "  That th' unexperient gave the tempter place,\n",
      "  Which, like a cherubin, above them hovered.\n",
      "  Who, young and simple, would not be so lovered?\n",
      "  Ay me, I fell, and yet do question make\n",
      "  What I should do again for such a sake.\n",
      "\n",
      "  'O, that infected moisture of his eye,\n",
      "  O, that false fire which in his cheek so glowed,\n",
      "  O, that forced thunder from his heart did fly,\n",
      "  O, that sad breath his spongy lungs bestowed,\n",
      "  O, all that borrowed motion, seeming owed,\n",
      "  Would yet again betray the fore-betrayed,\n",
      "  And new pervert a reconciled maid.'\n",
      "\n",
      "\n",
      "\n",
      "\n",
      "... RANDOM 1000 CHARACTERS:\n",
      "\n",
      "the beauty of thy budding name!\n",
      "  O in what sweets dost thou thy sins enclose!\n",
      "  That tongue that tells the story of thy days,\n",
      "  (Making lascivious comments on thy sport)\n",
      "  Cannot dispraise, but in a kind of praise,\n",
      "  Naming thy name, blesses an ill report.\n",
      "  O what a mansion have those vices got,\n",
      "  Which for their habitation chose out thee,\n",
      "  Where beauty's veil doth cover every blot,\n",
      "  And all things turns to fair, that eyes can see!\n",
      "    Take heed (dear heart) of this large privilege,\n",
      "    The hardest knife ill-used doth lose his edge.\n",
      "\n",
      "96  \n",
      "  Some say thy fault is youth, some wantonness,\n",
      "  Some say thy grace is youth and gentle sport,\n",
      "  Both grace and faults are loved of more and less:\n",
      "  Thou mak'st faults graces, that to thee resort:\n",
      "  As on the finger of a throned queen,\n",
      "  The basest jewel will be well esteemed:\n",
      "  So are those errors that in thee are seen,\n",
      "  To truths translated, and for true things deemed.\n",
      "  How many lambs might the stern wolf betray,\n",
      "  If like a lamb he could\n"
     ]
    }
   ],
   "source": [
    "raw_text = load_from_txt_file(SS_TEXT_PATH)\n",
    "ss_text = preprocess_shakespeare(raw_text)\n",
    "save_to_txt_file(ss_text, PREPROCESSED_FULL_TEXT_PATH)\n",
    "print_check_speare(ss_text)"
   ]
  },
  {
   "cell_type": "markdown",
   "id": "06ead5a1-5ce2-448f-83fd-7c38cd7ba060",
   "metadata": {},
   "source": [
    "<br>\n",
    "\n",
    "<div align=\"center\">\n",
    "\n",
    "## 📦 Chunking the Text <a name=\"chunking-the-text\"></a>\n",
    "\n",
    "</div>\n",
    "\n",
    "<br>\n",
    "\n",
    "Once the dataset is loaded, we'll divide it into smaller chunks or segments. This step is crucial for making the dataset more similar to code files (which is the type of data we will be using during the other parallel streams).\n",
    "\n",
    "I implement two simple methods:\n",
    "1. A basic double newline split **(`\\n\\n`)** resulting in 6294 chunks\n",
    "2. Using Langchain RecursiveTextSplitter to chunk to a particular text length\n",
    "    * This allows us to specify our desired text length and even overlap the chunks.\n",
    "        * Note we allow for a small amount of overlap and this may cause some leakage... but whatever.\n",
    "    * **We will use this method for our purposes.**\n",
    "    \n"
   ]
  },
  {
   "cell_type": "code",
   "execution_count": 188,
   "id": "1a8bb3c7-0144-4bb9-ba56-97e91893fae6",
   "metadata": {},
   "outputs": [],
   "source": [
    "def do_rcts_chunking(text, chunk_size=1024, chunk_overlap=128, length_fn=len):\n",
    "    \"\"\"\n",
    "    Perform Recursive Character Text Splitting (RCTS) chunking on the input text.\n",
    "    \n",
    "    Args:\n",
    "        text (str): The input text to be chunked.\n",
    "        chunk_size (int): The maximum size of each chunk.\n",
    "        chunk_overlap (int): The number of overlapping characters between adjacent chunks.\n",
    "        length_fn (callable, optional): Function to calculate the length of the text. Defaults to len.\n",
    "    \n",
    "    Returns:\n",
    "        list: A list of chunked text segments.\n",
    "    \"\"\"\n",
    "    # Import the RecursiveCharacterTextSplitter from langchain.text_splitter module\n",
    "    from langchain.text_splitter import RecursiveCharacterTextSplitter\n",
    "    \n",
    "    # Instantiate the text splitter with the specified parameters\n",
    "    text_splitter = RecursiveCharacterTextSplitter(\n",
    "        chunk_size=chunk_size,\n",
    "        chunk_overlap=chunk_overlap,\n",
    "        length_function=length_fn,\n",
    "    )\n",
    "    \n",
    "    # Split the input text into chunks\n",
    "    docs = text_splitter.create_documents([text])\n",
    "    \n",
    "    # Return the list of chunked text segments\n",
    "    return [x.page_content for x in docs if len(x.page_content)>1]\n",
    "\n",
    "def do_basic_chunking(text, chunk_delimeter=\"\\n\\n\", max_length=1800, min_length=300):\n",
    "    \"\"\"\n",
    "    Perform basic chunking on the input text using the specified delimiter.\n",
    "    \n",
    "    Args:\n",
    "        text (str): The input text to be chunked.\n",
    "        chunk_delimeter (str, optional): The delimiter used to split the text. Defaults to \"\\n\\n\".\n",
    "    \n",
    "    Returns:\n",
    "        list: A list of chunked text segments.\n",
    "    \"\"\"\n",
    "    # Split the input text based on the specified delimiter (ensure no empty chunks by stripping from ends)\n",
    "    raw_docs = text.strip(chunk_delimeter).split(chunk_delimeter)\n",
    "    tmp_docs = []\n",
    "    docs = []\n",
    "    \n",
    "    while len(raw_docs)>0:\n",
    "        doc = raw_docs.pop()\n",
    "        \n",
    "        if len(doc)>max_length:\n",
    "            raw_docs+=doc.split(\"\\n\")\n",
    "        elif len(doc)<min_length:\n",
    "            tmp_docs.append(doc)\n",
    "        else:\n",
    "            docs.append(doc)\n",
    "            \n",
    "        if len(\"\\n\".join(tmp_docs))>min_length:\n",
    "            docs.append(\"\\n\".join(tmp_docs))\n",
    "            tmp_docs = []\n",
    "    if tmp_docs:\n",
    "        docs.append(\"\\n\".join(tmp_docs))\n",
    "    \n",
    "    # Return the list of chunked text segments\n",
    "    return docs"
   ]
  },
  {
   "cell_type": "code",
   "execution_count": 189,
   "id": "14f23a54-67a5-4cf8-aa1a-e855b024faad",
   "metadata": {},
   "outputs": [
    {
     "name": "stdout",
     "output_type": "stream",
     "text": [
      "\n",
      "... FIRST BASIC CHUNK ...\n",
      "\n",
      "  'O, that infected moisture of his eye,\n",
      "  O, that false fire which in his cheek so glowed,\n",
      "  O, that forced thunder from his heart did fly,\n",
      "  O, that sad breath his spongy lungs bestowed,\n",
      "  O, all that borrowed motion, seeming owed,\n",
      "  Would yet again betray the fore-betrayed,\n",
      "  And new pervert a reconciled maid.'\n",
      "\n",
      "... FIRST RCTS CHUNK ...\n",
      "\n",
      "1\n",
      "  From fairest creatures we desire increase,\n",
      "  That thereby beauty's rose might never die,\n",
      "  But as the riper should by time decease,\n",
      "  His tender heir might bear his memory:\n",
      "  But thou contracted to thine own bright eyes,\n",
      "  Feed'st thy light's flame with self-substantial fuel,\n",
      "  Making a famine where abundance lies,\n",
      "  Thy self thy foe, to thy sweet self too cruel:\n",
      "  Thou that art now the world's fresh ornament,\n",
      "  And only herald to the gaudy spring,\n",
      "  Within thine own bud buriest thy content,\n",
      "  And tender churl mak'st waste in niggarding:\n",
      "    Pity the world, or else this glutton be,\n",
      "    To eat the world's due, by the grave and thee.\n",
      "\n",
      "... EXAMPLE RANDOM BASIC CHUNK ...\n",
      "\n",
      "    The heavy accent of thy moving tongue,\n",
      "    For why, the senseless brands will sympathize\n",
      "    And send the hearers weeping to their beds;\n",
      "    Tell thou the lamentable tale of me,\n",
      "    And ere thou bid good night, to quit their griefs\n",
      "    Of woeful ages long ago betid;\n",
      "    With good old folks, and let them tell thee tales\n",
      "\n",
      "... EXAMPLE RANDOM RCTS CHUNK ...\n",
      "\n",
      "SCENE 2.\n",
      "\n",
      "London. The palace\n",
      "\n",
      "Sound a sennet. Enter RICHARD, in pomp, as KING; BUCKINGHAM, CATESBY,\n",
      "RATCLIFF, LOVEL, a PAGE, and others\n",
      "\n",
      "... LAST BASIC CHUNK ...\n",
      "\n",
      "  KING OF FRANCE\n",
      "  THE DUKE OF FLORENCE\n",
      "  BERTRAM, Count of Rousillon\n",
      "  LAFEU, an old lord\n",
      "  PAROLLES, a follower of Bertram\n",
      "  TWO FRENCH LORDS, serving with Bertram\n",
      "Dramatis Personae\n",
      "\n",
      "\n",
      "... LAST RCTS CHUNK ...\n",
      "\n",
      "'Thus merely with the garment of a Grace  \n",
      "  The naked and concealed fiend he covered,\n",
      "  That th' unexperient gave the tempter place,\n",
      "  Which, like a cherubin, above them hovered.\n",
      "  Who, young and simple, would not be so lovered?\n",
      "  Ay me, I fell, and yet do question make\n",
      "  What I should do again for such a sake.\n",
      "\n",
      "  'O, that infected moisture of his eye,\n",
      "  O, that false fire which in his cheek so glowed,\n",
      "  O, that forced thunder from his heart did fly,\n",
      "  O, that sad breath his spongy lungs bestowed,\n",
      "  O, all that borrowed motion, seeming owed,\n",
      "  Would yet again betray the fore-betrayed,\n",
      "  And new pervert a reconciled maid.'\n"
     ]
    }
   ],
   "source": [
    "# Feel free to pass non-default kwargs \n",
    "#    -- otherwise the rcts chunks will overlap by 64 and be 512 characters long\n",
    "CHUNK_STYLE = \"basic\" # one of ['basic' | 'rcts']\n",
    "basic_chunks = do_basic_chunking(ss_text)\n",
    "rcts_chunks = do_rcts_chunking(ss_text)\n",
    "\n",
    "print(\"\\n... FIRST BASIC CHUNK ...\\n\")\n",
    "print(basic_chunks[0])\n",
    "\n",
    "print(\"\\n... FIRST RCTS CHUNK ...\\n\")\n",
    "print(rcts_chunks[0])\n",
    "\n",
    "print(\"\\n... EXAMPLE RANDOM BASIC CHUNK ...\\n\")\n",
    "print(random.sample(basic_chunks, 1)[0])\n",
    "\n",
    "print(\"\\n... EXAMPLE RANDOM RCTS CHUNK ...\\n\")\n",
    "print(random.sample(rcts_chunks, 1)[0])\n",
    "\n",
    "print(\"\\n... LAST BASIC CHUNK ...\\n\")\n",
    "print(basic_chunks[-1])\n",
    "\n",
    "print(\"\\n... LAST RCTS CHUNK ...\\n\")\n",
    "print(rcts_chunks[-1])\n"
   ]
  },
  {
   "cell_type": "markdown",
   "id": "57026a1f-c7b1-4d04-892b-0f8505b94ff8",
   "metadata": {},
   "source": [
    "<br>\n",
    "\n",
    "<div align=\"center\">\n",
    "\n",
    "## 💬 Tokenization <a name=\"tokenization\"></a>\n",
    "\n",
    "</div>\n",
    "\n",
    "<br>\n",
    "\n",
    "In this section, we'll tokenize the text, which involves splitting the chunks into individual tokens (words or subwords). Tokenization is an essential step in preprocessing, as it helps the Language Model understand the basic units of the text and learn meaningful patterns.\n",
    "\n",
    "* We will train our tokenizer on the non-chunked dataset (after basic preprocessing), however, we will \n"
   ]
  },
  {
   "cell_type": "code",
   "execution_count": 190,
   "id": "4517b50e-c416-408b-8480-61ffb558f310",
   "metadata": {},
   "outputs": [],
   "source": [
    "# Setup model directory if not already setup\n",
    "MODEL_DIR = os.path.join(os.path.dirname(DATA_PATH), \"models\")\n",
    "if not os.path.isdir(MODEL_DIR): os.makedirs(MODEL_DIR, exist_ok=True)\n",
    "\n",
    "# User defined parameters (matching alphafold and code tokenization standards)\n",
    "MODEL_PATH = os.path.join(MODEL_DIR, 'spearecode')\n",
    "USER_DEFINED_SYMBOLS = [\"\\n\",\"\\t\",\"\\r\",\"\\f\",\"\\v\"]\n",
    "VOCAB_SIZE = 8_000\n",
    "CHAR_COVERAGE = 1.0000\n",
    "\n",
    "# Tokenizer parameters (and some defaults)\n",
    "base_tokenizer_kwargs = dict(\n",
    "    input = PREPROCESSED_FULL_TEXT_PATH,\n",
    "    vocab_size=VOCAB_SIZE,\n",
    "    character_coverage=CHAR_COVERAGE,\n",
    "    pad_id=0, unk_id=1, bos_id=2, eos_id=3,\n",
    "    remove_extra_whitespaces=False,\n",
    "    allow_whitespace_only_pieces=True,\n",
    "    add_dummy_prefix=False,\n",
    "    user_defined_symbols=USER_DEFINED_SYMBOLS,\n",
    "    normalization_rule_name=\"identity\",\n",
    "    num_threads=os.cpu_count(),\n",
    ")\n",
    "\n",
    "unigram_tokenizer_kwargs = base_tokenizer_kwargs.copy()\n",
    "unigram_tokenizer_kwargs.update(dict(\n",
    "    model_prefix=MODEL_PATH+\"_unigram\",\n",
    "    model_type=\"unigram\",\n",
    "))\n",
    "\n",
    "bpe_tokenizer_kwargs = base_tokenizer_kwargs.copy()\n",
    "bpe_tokenizer_kwargs.update(dict(\n",
    "    model_prefix=MODEL_PATH+\"_bpe\",\n",
    "    model_type=\"bpe\",\n",
    "))\n",
    "\n",
    "# train_tokenizer(ALL_TXT_PATHS, MODEL_PATH, VOCAB_SIZE, TOKENIZER_STYLE)\n",
    "spm.SentencePieceTrainer.Train(**unigram_tokenizer_kwargs)\n",
    "spm.SentencePieceTrainer.Train(**bpe_tokenizer_kwargs)\n",
    "\n",
    "sp_uni = spm.SentencePieceProcessor()\n",
    "sp_uni.load(f'{unigram_tokenizer_kwargs[\"model_prefix\"]}.model')\n",
    "uni_encoder = lambda x: sp_uni.encode(x)\n",
    "uni_decoder = lambda x: sp_uni.decode(x)\n",
    "\n",
    "sp_bpe = spm.SentencePieceProcessor()\n",
    "sp_bpe.load(f'{bpe_tokenizer_kwargs[\"model_prefix\"]}.model')\n",
    "bpe_encoder = lambda x: sp_bpe.encode(x)\n",
    "bpe_decoder = lambda x: sp_bpe.decode(x)"
   ]
  },
  {
   "cell_type": "code",
   "execution_count": 191,
   "id": "a9ce0c10-5a5c-4a9a-ba97-d605a0ffc8c7",
   "metadata": {},
   "outputs": [],
   "source": [
    "from IPython.display import HTML\n",
    "import matplotlib.pyplot as plt\n",
    "import matplotlib.colors as mcolors\n",
    "\n",
    "\n",
    "def replace_rightmost_newline(s, replacement='<br>'):\n",
    "    parts = s.rsplit('\\\\n', 1)\n",
    "    return replacement.join(parts)\n",
    "\n",
    "\n",
    "def get_color(value, cmap='Pastel1', transparency=0.5):\n",
    "    \"\"\"\n",
    "    Returns an HTML-formatted string representing the background color for a token.\n",
    "\n",
    "    Args:\n",
    "        value (int): The index of the token to color.\n",
    "        cmap (str, optional): The name of the colormap to use. Defaults to 'Pastel1'.\n",
    "\n",
    "    Returns:\n",
    "        str: An HTML-formatted string representing the background color.\n",
    "    \"\"\"\n",
    "    colormap = plt.get_cmap(cmap)\n",
    "    return f\"background-color: rgba{tuple([int(x*255) for x in colormap(value % colormap.N)[:-1]]+[transparency,])};\"\n",
    "\n",
    "\n",
    "def get_line_viz(token_lines, decoder, cmap='Pastel1', font_family='Courier New',\n",
    "                 transparency=0.75, font_size='1.1em', unk_token='???', font_weight=300, padding='0px',\n",
    "                 margin_right='0px', border_radius='0px', display_inline=False):\n",
    "    \"\"\"\n",
    "    Generates an HTML string to visualize the tokenization of a text.\n",
    "\n",
    "    Args:\n",
    "        token_lines (list):\n",
    "            – A list of lists of integer tokens.\n",
    "        decoder (function, optional):\n",
    "            – A function that maps an integer to the representative string\n",
    "            – If this is None, the tokens are assumed to be strings not integers\n",
    "        cmap (str, optional):\n",
    "            – The name of the colormap to use. Defaults to 'Pastel1'.\n",
    "        font_family (str, optional):\n",
    "            – The font family to use for tokens. Defaults to 'Courier New'.\n",
    "        transparency (float, optional):\n",
    "            background transparency\n",
    "        font_size (str, optional):\n",
    "            – The font size to use for tokens. Defaults to '1.1em'.\n",
    "        unk_token (str, optional):\n",
    "            – The string to use for unknown tokens. Defaults to '???'\n",
    "        font_weight (str, optional):\n",
    "            – The font weight to use for tokens. Defaults to 'bold'.\n",
    "        padding (str, optional):\n",
    "            – The padding to use for tokens. Defaults to '2px'.\n",
    "        margin_right (str, optional):\n",
    "            – The right margin to use for tokens. Defaults to '5px'.\n",
    "        border_radius (str, optional):\n",
    "            – The border radius to use for tokens. Defaults to '3px'.\n",
    "        display_inline (bool, optional):\n",
    "            – Whether to display the HTML inline. Defaults to False.\n",
    "\n",
    "    Returns:\n",
    "        str: An HTML string representing the tokenized text with styling.\n",
    "    \"\"\"\n",
    "    html = f\"<style>span.token {{font-family: {font_family} !important; font-size: {font_size} !important; font-weight: {font_weight} !important; \" \\\n",
    "           f\"padding: {padding} !important; margin-right: {margin_right} !important; border-radius: {border_radius} !important;}}</style>\"\n",
    "\n",
    "    html += \"<div style='background-color: #C0C0C0; padding: 25px; border-radius: 8px; margin-left: 10px; margin-right: 10px; margin-top: 20px; margin-bottom: 20px;'>\"\n",
    "    \n",
    "    for token_line in token_lines:\n",
    "        for i, token in enumerate(token_line):\n",
    "            color = get_color(i, cmap, transparency)\n",
    "            try:\n",
    "                html += f\"<span class='token' style='{color}'>{decoder(token).replace(' ', '&nbsp;')}</span>\".replace('\\t', '\\\\t').replace('\\n', '\\\\n').replace('\\r', '\\\\r').replace('\\f', '\\\\f').replace('\\v', '\\\\v')\n",
    "            except TypeError:\n",
    "                html += f\"<span class='token' style='{color}'>{unk_token}</span>\"\n",
    "        html = replace_rightmost_newline(html)\n",
    "    html += \"</div>\"\n",
    "    \n",
    "    if display_inline:\n",
    "        HTML(html)\n",
    "\n",
    "    return html\n",
    "\n",
    "def plot_tokenization(text, encoder, decoder, split_on=\"\\n\"):\n",
    "    display(HTML(get_line_viz([encoder(x+split_on) for x in text.split(split_on)], decoder)))"
   ]
  },
  {
   "cell_type": "code",
   "execution_count": 192,
   "id": "9039baa8-358d-4f36-b045-b86b9f6d5743",
   "metadata": {},
   "outputs": [
    {
     "name": "stdout",
     "output_type": "stream",
     "text": [
      "\n",
      "... BPE TOKENIZATION:\n"
     ]
    },
    {
     "data": {
      "text/html": [
       "<style>span.token {font-family: Courier New !important; font-size: 1.1em !important; font-weight: 300 !important; padding: 0px !important; margin-right: 0px !important; border-radius: 0px !important;}</style><div style='background-color: #C0C0C0; padding: 25px; border-radius: 8px; margin-left: 10px; margin-right: 10px; margin-top: 20px; margin-bottom: 20px;'><span class='token' style='background-color: rgba(251, 180, 174, 0.75);'>&nbsp;&nbsp;</span><span class='token' style='background-color: rgba(179, 205, 227, 0.75);'>'</span><span class='token' style='background-color: rgba(204, 235, 197, 0.75);'>O</span><span class='token' style='background-color: rgba(222, 203, 228, 0.75);'>,</span><span class='token' style='background-color: rgba(254, 217, 166, 0.75);'>&nbsp;that</span><span class='token' style='background-color: rgba(255, 255, 204, 0.75);'>&nbsp;infect</span><span class='token' style='background-color: rgba(229, 216, 189, 0.75);'>ed</span><span class='token' style='background-color: rgba(253, 218, 236, 0.75);'>&nbsp;mo</span><span class='token' style='background-color: rgba(242, 242, 242, 0.75);'>ist</span><span class='token' style='background-color: rgba(251, 180, 174, 0.75);'>ure</span><span class='token' style='background-color: rgba(179, 205, 227, 0.75);'>&nbsp;of</span><span class='token' style='background-color: rgba(204, 235, 197, 0.75);'>&nbsp;his</span><span class='token' style='background-color: rgba(222, 203, 228, 0.75);'>&nbsp;eye</span><span class='token' style='background-color: rgba(254, 217, 166, 0.75);'>,</span><span class='token' style='background-color: rgba(255, 255, 204, 0.75);'><br></span><span class='token' style='background-color: rgba(251, 180, 174, 0.75);'>&nbsp;&nbsp;</span><span class='token' style='background-color: rgba(179, 205, 227, 0.75);'>O</span><span class='token' style='background-color: rgba(204, 235, 197, 0.75);'>,</span><span class='token' style='background-color: rgba(222, 203, 228, 0.75);'>&nbsp;that</span><span class='token' style='background-color: rgba(254, 217, 166, 0.75);'>&nbsp;false</span><span class='token' style='background-color: rgba(255, 255, 204, 0.75);'>&nbsp;fire</span><span class='token' style='background-color: rgba(229, 216, 189, 0.75);'>&nbsp;which</span><span class='token' style='background-color: rgba(253, 218, 236, 0.75);'>&nbsp;in</span><span class='token' style='background-color: rgba(242, 242, 242, 0.75);'>&nbsp;his</span><span class='token' style='background-color: rgba(251, 180, 174, 0.75);'>&nbsp;cheek</span><span class='token' style='background-color: rgba(179, 205, 227, 0.75);'>&nbsp;so</span><span class='token' style='background-color: rgba(204, 235, 197, 0.75);'>&nbsp;gl</span><span class='token' style='background-color: rgba(222, 203, 228, 0.75);'>ow</span><span class='token' style='background-color: rgba(254, 217, 166, 0.75);'>ed</span><span class='token' style='background-color: rgba(255, 255, 204, 0.75);'>,</span><span class='token' style='background-color: rgba(229, 216, 189, 0.75);'><br></span><span class='token' style='background-color: rgba(251, 180, 174, 0.75);'>&nbsp;&nbsp;</span><span class='token' style='background-color: rgba(179, 205, 227, 0.75);'>O</span><span class='token' style='background-color: rgba(204, 235, 197, 0.75);'>,</span><span class='token' style='background-color: rgba(222, 203, 228, 0.75);'>&nbsp;that</span><span class='token' style='background-color: rgba(254, 217, 166, 0.75);'>&nbsp;force</span><span class='token' style='background-color: rgba(255, 255, 204, 0.75);'>d</span><span class='token' style='background-color: rgba(229, 216, 189, 0.75);'>&nbsp;thunder</span><span class='token' style='background-color: rgba(253, 218, 236, 0.75);'>&nbsp;from</span><span class='token' style='background-color: rgba(242, 242, 242, 0.75);'>&nbsp;his</span><span class='token' style='background-color: rgba(251, 180, 174, 0.75);'>&nbsp;heart</span><span class='token' style='background-color: rgba(179, 205, 227, 0.75);'>&nbsp;did</span><span class='token' style='background-color: rgba(204, 235, 197, 0.75);'>&nbsp;fly</span><span class='token' style='background-color: rgba(222, 203, 228, 0.75);'>,</span><span class='token' style='background-color: rgba(254, 217, 166, 0.75);'><br></span><span class='token' style='background-color: rgba(251, 180, 174, 0.75);'>&nbsp;&nbsp;</span><span class='token' style='background-color: rgba(179, 205, 227, 0.75);'>O</span><span class='token' style='background-color: rgba(204, 235, 197, 0.75);'>,</span><span class='token' style='background-color: rgba(222, 203, 228, 0.75);'>&nbsp;that</span><span class='token' style='background-color: rgba(254, 217, 166, 0.75);'>&nbsp;sad</span><span class='token' style='background-color: rgba(255, 255, 204, 0.75);'>&nbsp;breath</span><span class='token' style='background-color: rgba(229, 216, 189, 0.75);'>&nbsp;his</span><span class='token' style='background-color: rgba(253, 218, 236, 0.75);'>&nbsp;sp</span><span class='token' style='background-color: rgba(242, 242, 242, 0.75);'>ong</span><span class='token' style='background-color: rgba(251, 180, 174, 0.75);'>y</span><span class='token' style='background-color: rgba(179, 205, 227, 0.75);'>&nbsp;l</span><span class='token' style='background-color: rgba(204, 235, 197, 0.75);'>ung</span><span class='token' style='background-color: rgba(222, 203, 228, 0.75);'>s</span><span class='token' style='background-color: rgba(254, 217, 166, 0.75);'>&nbsp;bestow</span><span class='token' style='background-color: rgba(255, 255, 204, 0.75);'>ed</span><span class='token' style='background-color: rgba(229, 216, 189, 0.75);'>,</span><span class='token' style='background-color: rgba(253, 218, 236, 0.75);'><br></span><span class='token' style='background-color: rgba(251, 180, 174, 0.75);'>&nbsp;&nbsp;</span><span class='token' style='background-color: rgba(179, 205, 227, 0.75);'>O</span><span class='token' style='background-color: rgba(204, 235, 197, 0.75);'>,</span><span class='token' style='background-color: rgba(222, 203, 228, 0.75);'>&nbsp;all</span><span class='token' style='background-color: rgba(254, 217, 166, 0.75);'>&nbsp;that</span><span class='token' style='background-color: rgba(255, 255, 204, 0.75);'>&nbsp;borrow</span><span class='token' style='background-color: rgba(229, 216, 189, 0.75);'>ed</span><span class='token' style='background-color: rgba(253, 218, 236, 0.75);'>&nbsp;motion</span><span class='token' style='background-color: rgba(242, 242, 242, 0.75);'>,</span><span class='token' style='background-color: rgba(251, 180, 174, 0.75);'>&nbsp;seeming</span><span class='token' style='background-color: rgba(179, 205, 227, 0.75);'>&nbsp;ow</span><span class='token' style='background-color: rgba(204, 235, 197, 0.75);'>ed</span><span class='token' style='background-color: rgba(222, 203, 228, 0.75);'>,</span><span class='token' style='background-color: rgba(254, 217, 166, 0.75);'><br></span><span class='token' style='background-color: rgba(251, 180, 174, 0.75);'>&nbsp;&nbsp;</span><span class='token' style='background-color: rgba(179, 205, 227, 0.75);'>Would</span><span class='token' style='background-color: rgba(204, 235, 197, 0.75);'>&nbsp;yet</span><span class='token' style='background-color: rgba(222, 203, 228, 0.75);'>&nbsp;again</span><span class='token' style='background-color: rgba(254, 217, 166, 0.75);'>&nbsp;betray</span><span class='token' style='background-color: rgba(255, 255, 204, 0.75);'>&nbsp;the</span><span class='token' style='background-color: rgba(229, 216, 189, 0.75);'>&nbsp;fore</span><span class='token' style='background-color: rgba(253, 218, 236, 0.75);'>-</span><span class='token' style='background-color: rgba(242, 242, 242, 0.75);'>b</span><span class='token' style='background-color: rgba(251, 180, 174, 0.75);'>et</span><span class='token' style='background-color: rgba(179, 205, 227, 0.75);'>ray</span><span class='token' style='background-color: rgba(204, 235, 197, 0.75);'>ed</span><span class='token' style='background-color: rgba(222, 203, 228, 0.75);'>,</span><span class='token' style='background-color: rgba(254, 217, 166, 0.75);'><br></span><span class='token' style='background-color: rgba(251, 180, 174, 0.75);'>&nbsp;&nbsp;</span><span class='token' style='background-color: rgba(179, 205, 227, 0.75);'>And</span><span class='token' style='background-color: rgba(204, 235, 197, 0.75);'>&nbsp;new</span><span class='token' style='background-color: rgba(222, 203, 228, 0.75);'>&nbsp;per</span><span class='token' style='background-color: rgba(254, 217, 166, 0.75);'>vert</span><span class='token' style='background-color: rgba(255, 255, 204, 0.75);'>&nbsp;a</span><span class='token' style='background-color: rgba(229, 216, 189, 0.75);'>&nbsp;recon</span><span class='token' style='background-color: rgba(253, 218, 236, 0.75);'>ci</span><span class='token' style='background-color: rgba(242, 242, 242, 0.75);'>led</span><span class='token' style='background-color: rgba(251, 180, 174, 0.75);'>&nbsp;maid</span><span class='token' style='background-color: rgba(179, 205, 227, 0.75);'>.'</span><span class='token' style='background-color: rgba(204, 235, 197, 0.75);'><br></span></div>"
      ],
      "text/plain": [
       "<IPython.core.display.HTML object>"
      ]
     },
     "metadata": {},
     "output_type": "display_data"
    },
    {
     "name": "stdout",
     "output_type": "stream",
     "text": [
      "\n",
      "... UNIGRAM TOKENIZATION:\n"
     ]
    },
    {
     "data": {
      "text/html": [
       "<style>span.token {font-family: Courier New !important; font-size: 1.1em !important; font-weight: 300 !important; padding: 0px !important; margin-right: 0px !important; border-radius: 0px !important;}</style><div style='background-color: #C0C0C0; padding: 25px; border-radius: 8px; margin-left: 10px; margin-right: 10px; margin-top: 20px; margin-bottom: 20px;'><span class='token' style='background-color: rgba(251, 180, 174, 0.75);'>&nbsp;&nbsp;</span><span class='token' style='background-color: rgba(179, 205, 227, 0.75);'>'</span><span class='token' style='background-color: rgba(204, 235, 197, 0.75);'>O</span><span class='token' style='background-color: rgba(222, 203, 228, 0.75);'>,</span><span class='token' style='background-color: rgba(254, 217, 166, 0.75);'>&nbsp;that</span><span class='token' style='background-color: rgba(255, 255, 204, 0.75);'>&nbsp;infected</span><span class='token' style='background-color: rgba(229, 216, 189, 0.75);'>&nbsp;moist</span><span class='token' style='background-color: rgba(253, 218, 236, 0.75);'>ure</span><span class='token' style='background-color: rgba(242, 242, 242, 0.75);'>&nbsp;of</span><span class='token' style='background-color: rgba(251, 180, 174, 0.75);'>&nbsp;his</span><span class='token' style='background-color: rgba(179, 205, 227, 0.75);'>&nbsp;eye</span><span class='token' style='background-color: rgba(204, 235, 197, 0.75);'>,</span><span class='token' style='background-color: rgba(222, 203, 228, 0.75);'><br></span><span class='token' style='background-color: rgba(251, 180, 174, 0.75);'>&nbsp;</span><span class='token' style='background-color: rgba(179, 205, 227, 0.75);'>&nbsp;O</span><span class='token' style='background-color: rgba(204, 235, 197, 0.75);'>,</span><span class='token' style='background-color: rgba(222, 203, 228, 0.75);'>&nbsp;that</span><span class='token' style='background-color: rgba(254, 217, 166, 0.75);'>&nbsp;false</span><span class='token' style='background-color: rgba(255, 255, 204, 0.75);'>&nbsp;fire</span><span class='token' style='background-color: rgba(229, 216, 189, 0.75);'>&nbsp;which</span><span class='token' style='background-color: rgba(253, 218, 236, 0.75);'>&nbsp;in</span><span class='token' style='background-color: rgba(242, 242, 242, 0.75);'>&nbsp;his</span><span class='token' style='background-color: rgba(251, 180, 174, 0.75);'>&nbsp;cheek</span><span class='token' style='background-color: rgba(179, 205, 227, 0.75);'>&nbsp;so</span><span class='token' style='background-color: rgba(204, 235, 197, 0.75);'>&nbsp;glow</span><span class='token' style='background-color: rgba(222, 203, 228, 0.75);'>ed</span><span class='token' style='background-color: rgba(254, 217, 166, 0.75);'>,</span><span class='token' style='background-color: rgba(255, 255, 204, 0.75);'><br></span><span class='token' style='background-color: rgba(251, 180, 174, 0.75);'>&nbsp;</span><span class='token' style='background-color: rgba(179, 205, 227, 0.75);'>&nbsp;O</span><span class='token' style='background-color: rgba(204, 235, 197, 0.75);'>,</span><span class='token' style='background-color: rgba(222, 203, 228, 0.75);'>&nbsp;that</span><span class='token' style='background-color: rgba(254, 217, 166, 0.75);'>&nbsp;force</span><span class='token' style='background-color: rgba(255, 255, 204, 0.75);'>d</span><span class='token' style='background-color: rgba(229, 216, 189, 0.75);'>&nbsp;thunder</span><span class='token' style='background-color: rgba(253, 218, 236, 0.75);'>&nbsp;from</span><span class='token' style='background-color: rgba(242, 242, 242, 0.75);'>&nbsp;his</span><span class='token' style='background-color: rgba(251, 180, 174, 0.75);'>&nbsp;heart</span><span class='token' style='background-color: rgba(179, 205, 227, 0.75);'>&nbsp;did</span><span class='token' style='background-color: rgba(204, 235, 197, 0.75);'>&nbsp;fly</span><span class='token' style='background-color: rgba(222, 203, 228, 0.75);'>,</span><span class='token' style='background-color: rgba(254, 217, 166, 0.75);'><br></span><span class='token' style='background-color: rgba(251, 180, 174, 0.75);'>&nbsp;</span><span class='token' style='background-color: rgba(179, 205, 227, 0.75);'>&nbsp;O</span><span class='token' style='background-color: rgba(204, 235, 197, 0.75);'>,</span><span class='token' style='background-color: rgba(222, 203, 228, 0.75);'>&nbsp;that</span><span class='token' style='background-color: rgba(254, 217, 166, 0.75);'>&nbsp;sad</span><span class='token' style='background-color: rgba(255, 255, 204, 0.75);'>&nbsp;breath</span><span class='token' style='background-color: rgba(229, 216, 189, 0.75);'>&nbsp;his</span><span class='token' style='background-color: rgba(253, 218, 236, 0.75);'>&nbsp;spong</span><span class='token' style='background-color: rgba(242, 242, 242, 0.75);'>y</span><span class='token' style='background-color: rgba(251, 180, 174, 0.75);'>&nbsp;lungs</span><span class='token' style='background-color: rgba(179, 205, 227, 0.75);'>&nbsp;bestow</span><span class='token' style='background-color: rgba(204, 235, 197, 0.75);'>ed</span><span class='token' style='background-color: rgba(222, 203, 228, 0.75);'>,</span><span class='token' style='background-color: rgba(254, 217, 166, 0.75);'><br></span><span class='token' style='background-color: rgba(251, 180, 174, 0.75);'>&nbsp;</span><span class='token' style='background-color: rgba(179, 205, 227, 0.75);'>&nbsp;O</span><span class='token' style='background-color: rgba(204, 235, 197, 0.75);'>,</span><span class='token' style='background-color: rgba(222, 203, 228, 0.75);'>&nbsp;all</span><span class='token' style='background-color: rgba(254, 217, 166, 0.75);'>&nbsp;that</span><span class='token' style='background-color: rgba(255, 255, 204, 0.75);'>&nbsp;borrowed</span><span class='token' style='background-color: rgba(229, 216, 189, 0.75);'>&nbsp;motion</span><span class='token' style='background-color: rgba(253, 218, 236, 0.75);'>,</span><span class='token' style='background-color: rgba(242, 242, 242, 0.75);'>&nbsp;seeming</span><span class='token' style='background-color: rgba(251, 180, 174, 0.75);'>&nbsp;owe</span><span class='token' style='background-color: rgba(179, 205, 227, 0.75);'>d</span><span class='token' style='background-color: rgba(204, 235, 197, 0.75);'>,</span><span class='token' style='background-color: rgba(222, 203, 228, 0.75);'><br></span><span class='token' style='background-color: rgba(251, 180, 174, 0.75);'>&nbsp;</span><span class='token' style='background-color: rgba(179, 205, 227, 0.75);'>&nbsp;Would</span><span class='token' style='background-color: rgba(204, 235, 197, 0.75);'>&nbsp;yet</span><span class='token' style='background-color: rgba(222, 203, 228, 0.75);'>&nbsp;again</span><span class='token' style='background-color: rgba(254, 217, 166, 0.75);'>&nbsp;betray</span><span class='token' style='background-color: rgba(255, 255, 204, 0.75);'>&nbsp;the</span><span class='token' style='background-color: rgba(229, 216, 189, 0.75);'>&nbsp;fore</span><span class='token' style='background-color: rgba(253, 218, 236, 0.75);'>-</span><span class='token' style='background-color: rgba(242, 242, 242, 0.75);'>be</span><span class='token' style='background-color: rgba(251, 180, 174, 0.75);'>t</span><span class='token' style='background-color: rgba(179, 205, 227, 0.75);'>ray</span><span class='token' style='background-color: rgba(204, 235, 197, 0.75);'>ed</span><span class='token' style='background-color: rgba(222, 203, 228, 0.75);'>,</span><span class='token' style='background-color: rgba(254, 217, 166, 0.75);'><br></span><span class='token' style='background-color: rgba(251, 180, 174, 0.75);'>&nbsp;</span><span class='token' style='background-color: rgba(179, 205, 227, 0.75);'>&nbsp;And</span><span class='token' style='background-color: rgba(204, 235, 197, 0.75);'>&nbsp;new</span><span class='token' style='background-color: rgba(222, 203, 228, 0.75);'>&nbsp;per</span><span class='token' style='background-color: rgba(254, 217, 166, 0.75);'>ver</span><span class='token' style='background-color: rgba(255, 255, 204, 0.75);'>t</span><span class='token' style='background-color: rgba(229, 216, 189, 0.75);'>&nbsp;a</span><span class='token' style='background-color: rgba(253, 218, 236, 0.75);'>&nbsp;reconcile</span><span class='token' style='background-color: rgba(242, 242, 242, 0.75);'>d</span><span class='token' style='background-color: rgba(251, 180, 174, 0.75);'>&nbsp;maid</span><span class='token' style='background-color: rgba(179, 205, 227, 0.75);'>.</span><span class='token' style='background-color: rgba(204, 235, 197, 0.75);'>'</span><span class='token' style='background-color: rgba(222, 203, 228, 0.75);'><br></span></div>"
      ],
      "text/plain": [
       "<IPython.core.display.HTML object>"
      ]
     },
     "metadata": {},
     "output_type": "display_data"
    }
   ],
   "source": [
    "print(\"\\n... BPE TOKENIZATION:\")\n",
    "plot_tokenization(basic_chunks[0], bpe_encoder, bpe_decoder)\n",
    "\n",
    "print(\"\\n... UNIGRAM TOKENIZATION:\")\n",
    "plot_tokenization(basic_chunks[0], uni_encoder, uni_decoder)"
   ]
  },
  {
   "cell_type": "markdown",
   "id": "28b78d20-17c7-4e7e-9f80-155aa86089cc",
   "metadata": {},
   "source": [
    "<br>\n",
    "\n",
    "<div align=\"center\">\n",
    "\n",
    "## 📊 Basic Exploratory Data Analysis (EDA) <a name=\"basic-eda\"></a>\n",
    "\n",
    "</div>\n",
    "\n",
    "<br>\n",
    "\n",
    "Here, we'll perform a basic EDA on the dataset to gain insights and identify potential issues. This analysis may include examining token frequency, distribution of chunk lengths, and other relevant characteristics. This information can be helpful in understanding the dataset's structure and guiding further preprocessing decisions.\n"
   ]
  },
  {
   "cell_type": "code",
   "execution_count": 237,
   "id": "92289f97-bf0d-42bb-85c9-5ffeb3259694",
   "metadata": {},
   "outputs": [
    {
     "data": {
      "application/vnd.jupyter.widget-view+json": {
       "model_id": "2733ecb294814cc18e1344c033e7eaac",
       "version_major": 2,
       "version_minor": 0
      },
      "text/plain": [
       "  0%|          | 0/13896 [00:00<?, ?it/s]"
      ]
     },
     "metadata": {},
     "output_type": "display_data"
    },
    {
     "data": {
      "application/vnd.jupyter.widget-view+json": {
       "model_id": "579b637fb1a242579e4ba1c27597ede1",
       "version_major": 2,
       "version_minor": 0
      },
      "text/plain": [
       "  0%|          | 0/13896 [00:00<?, ?it/s]"
      ]
     },
     "metadata": {},
     "output_type": "display_data"
    },
    {
     "data": {
      "text/html": [
       "<div>\n",
       "<style scoped>\n",
       "    .dataframe tbody tr th:only-of-type {\n",
       "        vertical-align: middle;\n",
       "    }\n",
       "\n",
       "    .dataframe tbody tr th {\n",
       "        vertical-align: top;\n",
       "    }\n",
       "\n",
       "    .dataframe thead th {\n",
       "        text-align: right;\n",
       "    }\n",
       "</style>\n",
       "<table border=\"1\" class=\"dataframe\">\n",
       "  <thead>\n",
       "    <tr style=\"text-align: right;\">\n",
       "      <th></th>\n",
       "      <th>content</th>\n",
       "      <th>uni_token_content</th>\n",
       "      <th>bpe_token_content</th>\n",
       "      <th>n_uni_tokens</th>\n",
       "      <th>n_bpe_tokens</th>\n",
       "      <th>n_chars</th>\n",
       "      <th>n_lines</th>\n",
       "      <th>valid_uni_chunk</th>\n",
       "      <th>valid_bpe_chunk</th>\n",
       "    </tr>\n",
       "  </thead>\n",
       "  <tbody>\n",
       "    <tr>\n",
       "      <th>0</th>\n",
       "      <td>'O, that infected moisture of his eye,\\n  O,...</td>\n",
       "      <td>[44, 13, 792, 9, 29, 4987, 6305, 779, 20, 37, ...</td>\n",
       "      <td>[9, 7953, 7952, 7938, 82, 4994, 76, 1065, 408,...</td>\n",
       "      <td>95</td>\n",
       "      <td>101</td>\n",
       "      <td>315</td>\n",
       "      <td>7</td>\n",
       "      <td>False</td>\n",
       "      <td>False</td>\n",
       "    </tr>\n",
       "    <tr>\n",
       "      <th>1</th>\n",
       "      <td>'Thus merely with the garment of a Grace  \\n...</td>\n",
       "      <td>[44, 13, 5722, 4696, 35, 15, 5163, 20, 21, 472...</td>\n",
       "      <td>[9, 7953, 2971, 3439, 121, 91, 22, 2011, 517, ...</td>\n",
       "      <td>94</td>\n",
       "      <td>97</td>\n",
       "      <td>315</td>\n",
       "      <td>7</td>\n",
       "      <td>False</td>\n",
       "      <td>False</td>\n",
       "    </tr>\n",
       "    <tr>\n",
       "      <th>2</th>\n",
       "      <td>'That not a heart which in his level came\\n ...</td>\n",
       "      <td>[44, 13, 6379, 30, 21, 157, 128, 26, 37, 3626,...</td>\n",
       "      <td>[9, 7953, 222, 77, 13, 378, 359, 61, 104, 7129...</td>\n",
       "      <td>95</td>\n",
       "      <td>98</td>\n",
       "      <td>331</td>\n",
       "      <td>7</td>\n",
       "      <td>False</td>\n",
       "      <td>False</td>\n",
       "    </tr>\n",
       "    <tr>\n",
       "      <th>3</th>\n",
       "      <td>'In him a plenitude of subtle matter,\\n  App...</td>\n",
       "      <td>[44, 13, 455, 115, 43, 21, 684, 159, 226, 408,...</td>\n",
       "      <td>[9, 7953, 470, 112, 13, 325, 39, 3988, 48, 614...</td>\n",
       "      <td>100</td>\n",
       "      <td>96</td>\n",
       "      <td>316</td>\n",
       "      <td>7</td>\n",
       "      <td>False</td>\n",
       "      <td>False</td>\n",
       "    </tr>\n",
       "    <tr>\n",
       "      <th>4</th>\n",
       "      <td>'For lo, his passion, but an art of craft,\\n...</td>\n",
       "      <td>[44, 13, 4020, 1420, 9, 37, 1201, 9, 53, 114, ...</td>\n",
       "      <td>[9, 7953, 338, 165, 7938, 104, 2627, 7938, 170...</td>\n",
       "      <td>91</td>\n",
       "      <td>95</td>\n",
       "      <td>316</td>\n",
       "      <td>7</td>\n",
       "      <td>False</td>\n",
       "      <td>False</td>\n",
       "    </tr>\n",
       "    <tr>\n",
       "      <th>...</th>\n",
       "      <td>...</td>\n",
       "      <td>...</td>\n",
       "      <td>...</td>\n",
       "      <td>...</td>\n",
       "      <td>...</td>\n",
       "      <td>...</td>\n",
       "      <td>...</td>\n",
       "      <td>...</td>\n",
       "      <td>...</td>\n",
       "    </tr>\n",
       "    <tr>\n",
       "      <th>13891</th>\n",
       "      <td>4\\n  Unthrifty loveliness why dost thou spend,...</td>\n",
       "      <td>[2714, 4, 12, 1046, 256, 102, 1275, 1404, 84, ...</td>\n",
       "      <td>[7993, 4, 9, 5070, 7928, 3843, 7937, 252, 7933...</td>\n",
       "      <td>176</td>\n",
       "      <td>183</td>\n",
       "      <td>619</td>\n",
       "      <td>15</td>\n",
       "      <td>True</td>\n",
       "      <td>True</td>\n",
       "    </tr>\n",
       "    <tr>\n",
       "      <th>13892</th>\n",
       "      <td>3\\n  Look in thy glass and tell the face thou ...</td>\n",
       "      <td>[678, 4, 12, 552, 26, 54, 1885, 17, 175, 15, 3...</td>\n",
       "      <td>[7991, 4, 9, 2377, 61, 163, 3612, 47, 465, 22,...</td>\n",
       "      <td>174</td>\n",
       "      <td>183</td>\n",
       "      <td>643</td>\n",
       "      <td>15</td>\n",
       "      <td>True</td>\n",
       "      <td>True</td>\n",
       "    </tr>\n",
       "    <tr>\n",
       "      <th>13893</th>\n",
       "      <td>2\\n  When forty winters shall besiege thy brow...</td>\n",
       "      <td>[695, 4, 12, 187, 4144, 1738, 14, 61, 6423, 54...</td>\n",
       "      <td>[7990, 4, 9, 656, 7126, 1618, 3323, 189, 1076,...</td>\n",
       "      <td>185</td>\n",
       "      <td>188</td>\n",
       "      <td>662</td>\n",
       "      <td>15</td>\n",
       "      <td>True</td>\n",
       "      <td>True</td>\n",
       "    </tr>\n",
       "    <tr>\n",
       "      <th>13894</th>\n",
       "      <td>1\\n  From fairest creatures we desire increase...</td>\n",
       "      <td>[615, 4, 12, 318, 598, 2968, 3404, 67, 676, 36...</td>\n",
       "      <td>[7985, 4, 9, 1251, 5259, 5836, 92, 1570, 6677,...</td>\n",
       "      <td>179</td>\n",
       "      <td>192</td>\n",
       "      <td>643</td>\n",
       "      <td>15</td>\n",
       "      <td>True</td>\n",
       "      <td>True</td>\n",
       "    </tr>\n",
       "    <tr>\n",
       "      <th>13895</th>\n",
       "      <td>KING OF FRANCE\\n  THE DUKE OF FLORENCE\\n  BE...</td>\n",
       "      <td>[12, 135, 134, 1272, 4, 12, 666, 300, 134, 318...</td>\n",
       "      <td>[9, 362, 356, 2562, 4, 9, 236, 7948, 2457, 356...</td>\n",
       "      <td>54</td>\n",
       "      <td>59</td>\n",
       "      <td>184</td>\n",
       "      <td>8</td>\n",
       "      <td>False</td>\n",
       "      <td>False</td>\n",
       "    </tr>\n",
       "  </tbody>\n",
       "</table>\n",
       "<p>13896 rows × 9 columns</p>\n",
       "</div>"
      ],
      "text/plain": [
       "                                                 content  \\\n",
       "0        'O, that infected moisture of his eye,\\n  O,...   \n",
       "1        'Thus merely with the garment of a Grace  \\n...   \n",
       "2        'That not a heart which in his level came\\n ...   \n",
       "3        'In him a plenitude of subtle matter,\\n  App...   \n",
       "4        'For lo, his passion, but an art of craft,\\n...   \n",
       "...                                                  ...   \n",
       "13891  4\\n  Unthrifty loveliness why dost thou spend,...   \n",
       "13892  3\\n  Look in thy glass and tell the face thou ...   \n",
       "13893  2\\n  When forty winters shall besiege thy brow...   \n",
       "13894  1\\n  From fairest creatures we desire increase...   \n",
       "13895    KING OF FRANCE\\n  THE DUKE OF FLORENCE\\n  BE...   \n",
       "\n",
       "                                       uni_token_content  \\\n",
       "0      [44, 13, 792, 9, 29, 4987, 6305, 779, 20, 37, ...   \n",
       "1      [44, 13, 5722, 4696, 35, 15, 5163, 20, 21, 472...   \n",
       "2      [44, 13, 6379, 30, 21, 157, 128, 26, 37, 3626,...   \n",
       "3      [44, 13, 455, 115, 43, 21, 684, 159, 226, 408,...   \n",
       "4      [44, 13, 4020, 1420, 9, 37, 1201, 9, 53, 114, ...   \n",
       "...                                                  ...   \n",
       "13891  [2714, 4, 12, 1046, 256, 102, 1275, 1404, 84, ...   \n",
       "13892  [678, 4, 12, 552, 26, 54, 1885, 17, 175, 15, 3...   \n",
       "13893  [695, 4, 12, 187, 4144, 1738, 14, 61, 6423, 54...   \n",
       "13894  [615, 4, 12, 318, 598, 2968, 3404, 67, 676, 36...   \n",
       "13895  [12, 135, 134, 1272, 4, 12, 666, 300, 134, 318...   \n",
       "\n",
       "                                       bpe_token_content  n_uni_tokens  \\\n",
       "0      [9, 7953, 7952, 7938, 82, 4994, 76, 1065, 408,...            95   \n",
       "1      [9, 7953, 2971, 3439, 121, 91, 22, 2011, 517, ...            94   \n",
       "2      [9, 7953, 222, 77, 13, 378, 359, 61, 104, 7129...            95   \n",
       "3      [9, 7953, 470, 112, 13, 325, 39, 3988, 48, 614...           100   \n",
       "4      [9, 7953, 338, 165, 7938, 104, 2627, 7938, 170...            91   \n",
       "...                                                  ...           ...   \n",
       "13891  [7993, 4, 9, 5070, 7928, 3843, 7937, 252, 7933...           176   \n",
       "13892  [7991, 4, 9, 2377, 61, 163, 3612, 47, 465, 22,...           174   \n",
       "13893  [7990, 4, 9, 656, 7126, 1618, 3323, 189, 1076,...           185   \n",
       "13894  [7985, 4, 9, 1251, 5259, 5836, 92, 1570, 6677,...           179   \n",
       "13895  [9, 362, 356, 2562, 4, 9, 236, 7948, 2457, 356...            54   \n",
       "\n",
       "       n_bpe_tokens  n_chars  n_lines  valid_uni_chunk  valid_bpe_chunk  \n",
       "0               101      315        7            False            False  \n",
       "1                97      315        7            False            False  \n",
       "2                98      331        7            False            False  \n",
       "3                96      316        7            False            False  \n",
       "4                95      316        7            False            False  \n",
       "...             ...      ...      ...              ...              ...  \n",
       "13891           183      619       15             True             True  \n",
       "13892           183      643       15             True             True  \n",
       "13893           188      662       15             True             True  \n",
       "13894           192      643       15             True             True  \n",
       "13895            59      184        8            False            False  \n",
       "\n",
       "[13896 rows x 9 columns]"
      ]
     },
     "metadata": {},
     "output_type": "display_data"
    },
    {
     "data": {
      "application/vnd.jupyter.widget-view+json": {
       "model_id": "e0edfb4c24724aa4aba9d98f6e95edde",
       "version_major": 2,
       "version_minor": 0
      },
      "text/plain": [
       "  0%|          | 0/7699 [00:00<?, ?it/s]"
      ]
     },
     "metadata": {},
     "output_type": "display_data"
    },
    {
     "data": {
      "application/vnd.jupyter.widget-view+json": {
       "model_id": "6d3226625c944b7dac7e244d90a92a43",
       "version_major": 2,
       "version_minor": 0
      },
      "text/plain": [
       "  0%|          | 0/7699 [00:00<?, ?it/s]"
      ]
     },
     "metadata": {},
     "output_type": "display_data"
    },
    {
     "data": {
      "text/html": [
       "<div>\n",
       "<style scoped>\n",
       "    .dataframe tbody tr th:only-of-type {\n",
       "        vertical-align: middle;\n",
       "    }\n",
       "\n",
       "    .dataframe tbody tr th {\n",
       "        vertical-align: top;\n",
       "    }\n",
       "\n",
       "    .dataframe thead th {\n",
       "        text-align: right;\n",
       "    }\n",
       "</style>\n",
       "<table border=\"1\" class=\"dataframe\">\n",
       "  <thead>\n",
       "    <tr style=\"text-align: right;\">\n",
       "      <th></th>\n",
       "      <th>content</th>\n",
       "      <th>uni_token_content</th>\n",
       "      <th>bpe_token_content</th>\n",
       "      <th>n_uni_tokens</th>\n",
       "      <th>n_bpe_tokens</th>\n",
       "      <th>n_chars</th>\n",
       "      <th>n_lines</th>\n",
       "      <th>valid_uni_chunk</th>\n",
       "      <th>valid_bpe_chunk</th>\n",
       "    </tr>\n",
       "  </thead>\n",
       "  <tbody>\n",
       "    <tr>\n",
       "      <th>0</th>\n",
       "      <td>1\\n  From fairest creatures we desire increase...</td>\n",
       "      <td>[615, 4, 12, 318, 598, 2968, 3404, 67, 676, 36...</td>\n",
       "      <td>[7985, 4, 9, 1251, 5259, 5836, 92, 1570, 6677,...</td>\n",
       "      <td>179</td>\n",
       "      <td>192</td>\n",
       "      <td>643</td>\n",
       "      <td>15</td>\n",
       "      <td>True</td>\n",
       "      <td>True</td>\n",
       "    </tr>\n",
       "    <tr>\n",
       "      <th>1</th>\n",
       "      <td>2\\n  When forty winters shall besiege thy brow...</td>\n",
       "      <td>[695, 4, 12, 187, 4144, 1738, 14, 61, 6423, 54...</td>\n",
       "      <td>[7990, 4, 9, 656, 7126, 1618, 3323, 189, 1076,...</td>\n",
       "      <td>185</td>\n",
       "      <td>188</td>\n",
       "      <td>662</td>\n",
       "      <td>15</td>\n",
       "      <td>True</td>\n",
       "      <td>True</td>\n",
       "    </tr>\n",
       "    <tr>\n",
       "      <th>2</th>\n",
       "      <td>3\\n  Look in thy glass and tell the face thou ...</td>\n",
       "      <td>[678, 4, 12, 552, 26, 54, 1885, 17, 175, 15, 3...</td>\n",
       "      <td>[7991, 4, 9, 2377, 61, 163, 3612, 47, 465, 22,...</td>\n",
       "      <td>174</td>\n",
       "      <td>183</td>\n",
       "      <td>643</td>\n",
       "      <td>15</td>\n",
       "      <td>True</td>\n",
       "      <td>True</td>\n",
       "    </tr>\n",
       "    <tr>\n",
       "      <th>3</th>\n",
       "      <td>4\\n  Unthrifty loveliness why dost thou spend,...</td>\n",
       "      <td>[2714, 4, 12, 1046, 256, 102, 1275, 1404, 84, ...</td>\n",
       "      <td>[7993, 4, 9, 5070, 7928, 3843, 7937, 252, 7933...</td>\n",
       "      <td>176</td>\n",
       "      <td>183</td>\n",
       "      <td>619</td>\n",
       "      <td>15</td>\n",
       "      <td>True</td>\n",
       "      <td>True</td>\n",
       "    </tr>\n",
       "    <tr>\n",
       "      <th>4</th>\n",
       "      <td>5\\n  Those hours that with gentle work did fra...</td>\n",
       "      <td>[3284, 4, 12, 1694, 1160, 29, 35, 439, 709, 13...</td>\n",
       "      <td>[7994, 4, 9, 4430, 2303, 82, 91, 523, 1551, 33...</td>\n",
       "      <td>169</td>\n",
       "      <td>176</td>\n",
       "      <td>652</td>\n",
       "      <td>15</td>\n",
       "      <td>True</td>\n",
       "      <td>True</td>\n",
       "    </tr>\n",
       "    <tr>\n",
       "      <th>...</th>\n",
       "      <td>...</td>\n",
       "      <td>...</td>\n",
       "      <td>...</td>\n",
       "      <td>...</td>\n",
       "      <td>...</td>\n",
       "      <td>...</td>\n",
       "      <td>...</td>\n",
       "      <td>...</td>\n",
       "      <td>...</td>\n",
       "    </tr>\n",
       "    <tr>\n",
       "      <th>7694</th>\n",
       "      <td>'\"Lo, this device was sent me from a nun,\\n  O...</td>\n",
       "      <td>[13, 967, 220, 263, 9, 40, 2604, 88, 599, 31, ...</td>\n",
       "      <td>[7953, 7988, 4864, 7938, 116, 5184, 256, 1157,...</td>\n",
       "      <td>277</td>\n",
       "      <td>282</td>\n",
       "      <td>944</td>\n",
       "      <td>23</td>\n",
       "      <td>True</td>\n",
       "      <td>True</td>\n",
       "    </tr>\n",
       "    <tr>\n",
       "      <th>7695</th>\n",
       "      <td>'\"How mighty then you are, O hear me tell!\\n  ...</td>\n",
       "      <td>[13, 967, 272, 1092, 1337, 121, 23, 62, 9, 77,...</td>\n",
       "      <td>[7953, 7988, 796, 2696, 326, 43, 193, 7938, 12...</td>\n",
       "      <td>309</td>\n",
       "      <td>298</td>\n",
       "      <td>983</td>\n",
       "      <td>23</td>\n",
       "      <td>True</td>\n",
       "      <td>True</td>\n",
       "    </tr>\n",
       "    <tr>\n",
       "      <th>7696</th>\n",
       "      <td>'\"Now all these hearts that do on mine depend,...</td>\n",
       "      <td>[13, 967, 3343, 245, 56, 154, 1013, 29, 55, 64...</td>\n",
       "      <td>[7953, 7988, 1178, 173, 417, 1938, 82, 138, 12...</td>\n",
       "      <td>285</td>\n",
       "      <td>283</td>\n",
       "      <td>977</td>\n",
       "      <td>23</td>\n",
       "      <td>True</td>\n",
       "      <td>True</td>\n",
       "    </tr>\n",
       "    <tr>\n",
       "      <th>7697</th>\n",
       "      <td>'For lo, his passion, but an art of craft,\\n  ...</td>\n",
       "      <td>[13, 4020, 1420, 9, 37, 1201, 9, 53, 114, 188,...</td>\n",
       "      <td>[7953, 338, 165, 7938, 104, 2627, 7938, 170, 1...</td>\n",
       "      <td>289</td>\n",
       "      <td>292</td>\n",
       "      <td>965</td>\n",
       "      <td>23</td>\n",
       "      <td>True</td>\n",
       "      <td>True</td>\n",
       "    </tr>\n",
       "    <tr>\n",
       "      <th>7698</th>\n",
       "      <td>'Thus merely with the garment of a Grace  \\n  ...</td>\n",
       "      <td>[13, 5722, 4696, 35, 15, 5163, 20, 21, 472, 44...</td>\n",
       "      <td>[7953, 2971, 3439, 121, 91, 22, 2011, 517, 48,...</td>\n",
       "      <td>190</td>\n",
       "      <td>199</td>\n",
       "      <td>630</td>\n",
       "      <td>15</td>\n",
       "      <td>True</td>\n",
       "      <td>True</td>\n",
       "    </tr>\n",
       "  </tbody>\n",
       "</table>\n",
       "<p>7699 rows × 9 columns</p>\n",
       "</div>"
      ],
      "text/plain": [
       "                                                content  \\\n",
       "0     1\\n  From fairest creatures we desire increase...   \n",
       "1     2\\n  When forty winters shall besiege thy brow...   \n",
       "2     3\\n  Look in thy glass and tell the face thou ...   \n",
       "3     4\\n  Unthrifty loveliness why dost thou spend,...   \n",
       "4     5\\n  Those hours that with gentle work did fra...   \n",
       "...                                                 ...   \n",
       "7694  '\"Lo, this device was sent me from a nun,\\n  O...   \n",
       "7695  '\"How mighty then you are, O hear me tell!\\n  ...   \n",
       "7696  '\"Now all these hearts that do on mine depend,...   \n",
       "7697  'For lo, his passion, but an art of craft,\\n  ...   \n",
       "7698  'Thus merely with the garment of a Grace  \\n  ...   \n",
       "\n",
       "                                      uni_token_content  \\\n",
       "0     [615, 4, 12, 318, 598, 2968, 3404, 67, 676, 36...   \n",
       "1     [695, 4, 12, 187, 4144, 1738, 14, 61, 6423, 54...   \n",
       "2     [678, 4, 12, 552, 26, 54, 1885, 17, 175, 15, 3...   \n",
       "3     [2714, 4, 12, 1046, 256, 102, 1275, 1404, 84, ...   \n",
       "4     [3284, 4, 12, 1694, 1160, 29, 35, 439, 709, 13...   \n",
       "...                                                 ...   \n",
       "7694  [13, 967, 220, 263, 9, 40, 2604, 88, 599, 31, ...   \n",
       "7695  [13, 967, 272, 1092, 1337, 121, 23, 62, 9, 77,...   \n",
       "7696  [13, 967, 3343, 245, 56, 154, 1013, 29, 55, 64...   \n",
       "7697  [13, 4020, 1420, 9, 37, 1201, 9, 53, 114, 188,...   \n",
       "7698  [13, 5722, 4696, 35, 15, 5163, 20, 21, 472, 44...   \n",
       "\n",
       "                                      bpe_token_content  n_uni_tokens  \\\n",
       "0     [7985, 4, 9, 1251, 5259, 5836, 92, 1570, 6677,...           179   \n",
       "1     [7990, 4, 9, 656, 7126, 1618, 3323, 189, 1076,...           185   \n",
       "2     [7991, 4, 9, 2377, 61, 163, 3612, 47, 465, 22,...           174   \n",
       "3     [7993, 4, 9, 5070, 7928, 3843, 7937, 252, 7933...           176   \n",
       "4     [7994, 4, 9, 4430, 2303, 82, 91, 523, 1551, 33...           169   \n",
       "...                                                 ...           ...   \n",
       "7694  [7953, 7988, 4864, 7938, 116, 5184, 256, 1157,...           277   \n",
       "7695  [7953, 7988, 796, 2696, 326, 43, 193, 7938, 12...           309   \n",
       "7696  [7953, 7988, 1178, 173, 417, 1938, 82, 138, 12...           285   \n",
       "7697  [7953, 338, 165, 7938, 104, 2627, 7938, 170, 1...           289   \n",
       "7698  [7953, 2971, 3439, 121, 91, 22, 2011, 517, 48,...           190   \n",
       "\n",
       "      n_bpe_tokens  n_chars  n_lines  valid_uni_chunk  valid_bpe_chunk  \n",
       "0              192      643       15             True             True  \n",
       "1              188      662       15             True             True  \n",
       "2              183      643       15             True             True  \n",
       "3              183      619       15             True             True  \n",
       "4              176      652       15             True             True  \n",
       "...            ...      ...      ...              ...              ...  \n",
       "7694           282      944       23             True             True  \n",
       "7695           298      983       23             True             True  \n",
       "7696           283      977       23             True             True  \n",
       "7697           292      965       23             True             True  \n",
       "7698           199      630       15             True             True  \n",
       "\n",
       "[7699 rows x 9 columns]"
      ]
     },
     "metadata": {},
     "output_type": "display_data"
    }
   ],
   "source": [
    "def get_n_chars(text):\n",
    "    return len(text)\n",
    "\n",
    "def get_n_lines(text):\n",
    "    return len(text.split(\"\\n\"))\n",
    "\n",
    "def get_n_tokens(tokens):\n",
    "    return len(tokens)\n",
    "\n",
    "def tokenize(text, encoder):\n",
    "    return encoder(text)\n",
    "\n",
    "def check_chunks(n_tokens, min_chunk_size=128, max_chunk_size=2048):\n",
    "    if min_chunk_size<=n_tokens<max_chunk_size:\n",
    "        return True\n",
    "    else:\n",
    "        return False\n",
    "    \n",
    "def get_metadata_df(df, drop_col_strings=('content',), additional_drop_strs=None):\n",
    "    if additional_drop_strs is not None: \n",
    "        drop_col_strings = list(additional_drop_strs)+additional_drop_strs\n",
    "    return df.copy().drop(\n",
    "        columns=[_c for _c in df.columns if any(True if _x in _c else False for _x in drop_col_strings)]\n",
    "    )\n",
    "    \n",
    "basic_chunk_df = pd.DataFrame({\"content\":basic_chunks})\n",
    "basic_chunk_df[\"uni_token_content\"] = basic_chunk_df[\"content\"].progress_apply(lambda x: tokenize(x, uni_encoder))\n",
    "basic_chunk_df[\"bpe_token_content\"] = basic_chunk_df[\"content\"].progress_apply(lambda x: tokenize(x, bpe_encoder))\n",
    "basic_chunk_df[\"n_uni_tokens\"] = basic_chunk_df[\"uni_token_content\"].apply(get_n_tokens)\n",
    "basic_chunk_df[\"n_bpe_tokens\"] = basic_chunk_df[\"bpe_token_content\"].apply(get_n_tokens)\n",
    "basic_chunk_df[\"n_chars\"] = basic_chunk_df[\"content\"].apply(get_n_chars)\n",
    "basic_chunk_df[\"n_lines\"] = basic_chunk_df[\"content\"].apply(get_n_lines)\n",
    "basic_chunk_df[\"valid_uni_chunk\"] = basic_chunk_df[\"n_uni_tokens\"].apply(check_chunks)\n",
    "basic_chunk_df[\"valid_bpe_chunk\"] = basic_chunk_df[\"n_bpe_tokens\"].apply(check_chunks)\n",
    "\n",
    "basic_chunk_df_meta = get_metadata_df(basic_chunk_df)\n",
    "display(basic_chunk_df)\n",
    "\n",
    "\n",
    "rcts_chunk_df = pd.DataFrame({\"content\":rcts_chunks})\n",
    "rcts_chunk_df[\"uni_token_content\"] = rcts_chunk_df[\"content\"].progress_apply(lambda x: tokenize(x, uni_encoder))\n",
    "rcts_chunk_df[\"bpe_token_content\"] = rcts_chunk_df[\"content\"].progress_apply(lambda x: tokenize(x, bpe_encoder))\n",
    "rcts_chunk_df[\"n_uni_tokens\"] = rcts_chunk_df[\"uni_token_content\"].apply(get_n_tokens)\n",
    "rcts_chunk_df[\"n_bpe_tokens\"] = rcts_chunk_df[\"bpe_token_content\"].apply(get_n_tokens)\n",
    "rcts_chunk_df[\"n_chars\"] = rcts_chunk_df[\"content\"].apply(get_n_chars)\n",
    "rcts_chunk_df[\"n_lines\"] = rcts_chunk_df[\"content\"].apply(get_n_lines)\n",
    "rcts_chunk_df[\"valid_uni_chunk\"] = rcts_chunk_df[\"n_uni_tokens\"].apply(check_chunks)\n",
    "rcts_chunk_df[\"valid_bpe_chunk\"] = rcts_chunk_df[\"n_bpe_tokens\"].apply(check_chunks)\n",
    "\n",
    "rcts_chunk_df_meta = get_metadata_df(rcts_chunk_df)\n",
    "display(rcts_chunk_df)"
   ]
  },
  {
   "cell_type": "markdown",
   "id": "755e4af5-180e-4e1a-acc7-069a29e9380a",
   "metadata": {},
   "source": [
    "<br>\n",
    "\n",
    "**DATASET VERSIONS**\n",
    "* v1:\n",
    "    * No filtering, no chunks removed (the above dataframe)\n",
    "* v2\n",
    "    * Split into individual datasets for bpe, unigram within each chunking technique (4 datasets total)\n",
    "    * Rename columns to not specify tokenization method to allow for more generalization across interaction\n",
    "* v3\n",
    "    * Drop small chunks\n",
    "    * Drop really big chunks\n",
    "* v4\n",
    "    * Evenly pad/truncated tokenized sequences up to reasonable length (close to max length --> 90th percentile?)\n"
   ]
  },
  {
   "cell_type": "code",
   "execution_count": 238,
   "id": "cb967614-28b0-49ed-a121-ab976b1f767f",
   "metadata": {},
   "outputs": [],
   "source": [
    "def pad_truncate_centered(tokenized_str, fixed_length=384, pad_value=0):\n",
    "    \"\"\"\n",
    "    Pad or truncate the tokenized strings such that they have a \n",
    "    fixed length and are centered around the middle of the string.\n",
    "\n",
    "    Args:\n",
    "        tokenized_str (list): List of integers representing tokenized string.\n",
    "        fixed_length (int, optional): The desired fixed length for the output list. Defaults to 384.\n",
    "        pad_value (int, optional): The value to use for padding. Defaults to 0.\n",
    "\n",
    "    Returns:\n",
    "        list: Padded or truncated list of integers with the specified fixed length.\n",
    "    \"\"\"\n",
    "    n_tokens = len(tokenized_str)\n",
    "\n",
    "    # If the number of tokens is less than the fixed length, pad the tokenized string\n",
    "    if n_tokens < fixed_length:\n",
    "        n_pad = fixed_length - n_tokens\n",
    "        n_left_pad = n_pad // 2\n",
    "        n_right_pad = n_pad - n_left_pad\n",
    "        return [pad_value] * n_left_pad + tokenized_str + [pad_value] * n_right_pad\n",
    "\n",
    "    # If the number of tokens is greater than or equal to the fixed length, truncate the tokenized string\n",
    "    else:\n",
    "        n_remove = n_tokens - fixed_length\n",
    "        n_left_remove = n_remove // 2\n",
    "        n_right_remove = n_remove - n_left_remove\n",
    "        return tokenized_str[n_left_remove:n_tokens - n_right_remove]\n",
    "    \n",
    "\n",
    "def drop_str_from_col_names(df, s_to_drop):\n",
    "    df.columns = [_c.replace(s_to_drop, \"\").replace(\"__\", \"_\").strip(\"_\") for _c in df.columns]\n",
    "    return df\n",
    "\n",
    "\n",
    "def save_ds_version(df, output_suffix, version_str=\"v1\", meta_df=None, _meta_dir=META_DIR, _ds_dir=DATASET_DIR): \n",
    "    ds_csv_path = os.path.join(_ds_dir, version_str)\n",
    "    df.to_csv(ds_csv_path+f\"_{output_suffix.strip('_')}.csv\", index=False)\n",
    "    \n",
    "    if meta_df is None:\n",
    "        meta_df = get_metadata_df(df)\n",
    "    \n",
    "    ds_meta_path = os.path.join(_meta_dir, version_str)\n",
    "    meta_df.to_csv(ds_meta_path+f\"_{output_suffix.strip('_')}.csv\", index=False)\n",
    "\n",
    "    \n",
    "DATASET_DIR = os.path.join(DATA_PATH, \"datasets\")\n",
    "if not os.path.isdir(DATASET_DIR): os.makedirs(DATASET_DIR, exist_ok=True)\n",
    "\n",
    "META_DIR = os.path.join(DATASET_DIR, \"meta\")\n",
    "if not os.path.isdir(META_DIR): os.makedirs(META_DIR, exist_ok=True)\n",
    "    \n",
    "    \n",
    "######################################## v1 ########################################\n",
    "# Save the previously created datasets along with the manually created metadata\n",
    "####################################################################################\n",
    "save_ds_version(rcts_chunk_df, \"rcts\", \"v1\", meta_df=rcts_chunk_df_meta)\n",
    "save_ds_version(basic_chunk_df, \"basic\", \"v1\", meta_df=basic_chunk_df_meta)\n",
    "####################################################################################\n",
    "\n",
    "######################################## v2 ########################################\n",
    "# Split bpe and unigram into their own dataframes (meta is generated automatically)\n",
    "####################################################################################\n",
    "rcts_uni_chunk_df = rcts_chunk_df.copy().drop(columns=[_c for _c in rcts_chunk_df.columns if \"bpe\" in _c])\n",
    "basic_uni_chunk_df = basic_chunk_df.copy().drop(columns=[_c for _c in basic_chunk_df.columns if \"bpe\" in _c])\n",
    "rcts_bpe_chunk_df = rcts_chunk_df.copy().drop(columns=[_c for _c in rcts_chunk_df.columns if \"uni\" in _c])\n",
    "basic_bpe_chunk_df = basic_chunk_df.copy().drop(columns=[_c for _c in basic_chunk_df.columns if \"uni\" in _c])\n",
    "\n",
    "# Rename columns\n",
    "rcts_uni_chunk_df = drop_str_from_col_names(rcts_uni_chunk_df, \"uni\")\n",
    "rcts_bpe_chunk_df = drop_str_from_col_names(rcts_bpe_chunk_df, \"bpe\")\n",
    "basic_uni_chunk_df = drop_str_from_col_names(basic_uni_chunk_df, \"uni\")\n",
    "basic_bpe_chunk_df = drop_str_from_col_names(basic_bpe_chunk_df, \"bpe\")\n",
    "\n",
    "save_ds_version(rcts_uni_chunk_df, \"rcts_uni\", \"v2\")\n",
    "save_ds_version(rcts_bpe_chunk_df, \"rcts_bpe\", \"v2\")\n",
    "save_ds_version(basic_uni_chunk_df, \"basic_uni\", \"v2\")\n",
    "save_ds_version(basic_bpe_chunk_df, \"basic_bpe\", \"v2\")\n",
    "####################################################################################\n",
    "\n",
    "######################################## v3 ########################################\n",
    "# Filtering (big and little get dropped)\n",
    "####################################################################################\n",
    "\n",
    "# Filter and drop valid chunk col\n",
    "for _df in [rcts_uni_chunk_df, rcts_bpe_chunk_df, basic_uni_chunk_df, basic_bpe_chunk_df]:\n",
    "    _df = _df[_df.valid_chunk].drop(columns=[\"valid_chunk\"]).reset_index(drop=True)\n",
    "\n",
    "# Save\n",
    "save_ds_version(rcts_uni_chunk_df, \"rcts_uni\", \"v3\")\n",
    "save_ds_version(rcts_bpe_chunk_df, \"rcts_bpe\", \"v3\")\n",
    "save_ds_version(basic_uni_chunk_df, \"basic_uni\", \"v3\")\n",
    "save_ds_version(basic_bpe_chunk_df, \"basic_bpe\", \"v3\")\n",
    "####################################################################################\n",
    "\n",
    "# ######################################## v4 ########################################\n",
    "# # Padding and truncation --> basic upper limit of 384 (assuming context lengths of 64-128)\n",
    "# ####################################################################################\n",
    "FIXED_CHUNK_SIZE = 384\n",
    "\n",
    "for _df in [rcts_uni_chunk_df, rcts_bpe_chunk_df, basic_uni_chunk_df, basic_bpe_chunk_df]:\n",
    "    _df[\"token_content\"] = _df[\"token_content\"].apply(lambda x: pad_truncate_centered(x, FIXED_CHUNK_SIZE))\n",
    "\n",
    "save_ds_version(rcts_uni_chunk_df, \"rcts_uni\", \"v4\")\n",
    "save_ds_version(rcts_bpe_chunk_df, \"rcts_bpe\", \"v4\")\n",
    "save_ds_version(basic_uni_chunk_df, \"basic_uni\", \"v4\")\n",
    "save_ds_version(basic_bpe_chunk_df, \"basic_bpe\", \"v4\")\n",
    "# ####################################################################################"
   ]
  },
  {
   "cell_type": "code",
   "execution_count": 236,
   "id": "3fc4e0a8-87e2-4954-9192-b0049d69b5bb",
   "metadata": {},
   "outputs": [
    {
     "data": {
      "text/html": [
       "<div>\n",
       "<style scoped>\n",
       "    .dataframe tbody tr th:only-of-type {\n",
       "        vertical-align: middle;\n",
       "    }\n",
       "\n",
       "    .dataframe tbody tr th {\n",
       "        vertical-align: top;\n",
       "    }\n",
       "\n",
       "    .dataframe thead th {\n",
       "        text-align: right;\n",
       "    }\n",
       "</style>\n",
       "<table border=\"1\" class=\"dataframe\">\n",
       "  <thead>\n",
       "    <tr style=\"text-align: right;\">\n",
       "      <th></th>\n",
       "      <th>content</th>\n",
       "      <th>token_content</th>\n",
       "      <th>n_tokens</th>\n",
       "      <th>n_chars</th>\n",
       "      <th>n_lines</th>\n",
       "      <th>valid_chunk</th>\n",
       "    </tr>\n",
       "  </thead>\n",
       "  <tbody>\n",
       "    <tr>\n",
       "      <th>0</th>\n",
       "      <td>1\\n  From fairest creatures we desire increase...</td>\n",
       "      <td>[0, 0, 0, 0, 0, 0, 0, 0, 0, 0, 0, 0, 0, 0, 0, ...</td>\n",
       "      <td>192</td>\n",
       "      <td>643</td>\n",
       "      <td>15</td>\n",
       "      <td>True</td>\n",
       "    </tr>\n",
       "    <tr>\n",
       "      <th>1</th>\n",
       "      <td>2\\n  When forty winters shall besiege thy brow...</td>\n",
       "      <td>[0, 0, 0, 0, 0, 0, 0, 0, 0, 0, 0, 0, 0, 0, 0, ...</td>\n",
       "      <td>188</td>\n",
       "      <td>662</td>\n",
       "      <td>15</td>\n",
       "      <td>True</td>\n",
       "    </tr>\n",
       "    <tr>\n",
       "      <th>2</th>\n",
       "      <td>3\\n  Look in thy glass and tell the face thou ...</td>\n",
       "      <td>[0, 0, 0, 0, 0, 0, 0, 0, 0, 0, 0, 0, 0, 0, 0, ...</td>\n",
       "      <td>183</td>\n",
       "      <td>643</td>\n",
       "      <td>15</td>\n",
       "      <td>True</td>\n",
       "    </tr>\n",
       "    <tr>\n",
       "      <th>3</th>\n",
       "      <td>4\\n  Unthrifty loveliness why dost thou spend,...</td>\n",
       "      <td>[0, 0, 0, 0, 0, 0, 0, 0, 0, 0, 0, 0, 0, 0, 0, ...</td>\n",
       "      <td>183</td>\n",
       "      <td>619</td>\n",
       "      <td>15</td>\n",
       "      <td>True</td>\n",
       "    </tr>\n",
       "    <tr>\n",
       "      <th>4</th>\n",
       "      <td>5\\n  Those hours that with gentle work did fra...</td>\n",
       "      <td>[0, 0, 0, 0, 0, 0, 0, 0, 0, 0, 0, 0, 0, 0, 0, ...</td>\n",
       "      <td>176</td>\n",
       "      <td>652</td>\n",
       "      <td>15</td>\n",
       "      <td>True</td>\n",
       "    </tr>\n",
       "    <tr>\n",
       "      <th>...</th>\n",
       "      <td>...</td>\n",
       "      <td>...</td>\n",
       "      <td>...</td>\n",
       "      <td>...</td>\n",
       "      <td>...</td>\n",
       "      <td>...</td>\n",
       "    </tr>\n",
       "    <tr>\n",
       "      <th>7694</th>\n",
       "      <td>'\"Lo, this device was sent me from a nun,\\n  O...</td>\n",
       "      <td>[0, 0, 0, 0, 0, 0, 0, 0, 0, 0, 0, 0, 0, 0, 0, ...</td>\n",
       "      <td>282</td>\n",
       "      <td>944</td>\n",
       "      <td>23</td>\n",
       "      <td>True</td>\n",
       "    </tr>\n",
       "    <tr>\n",
       "      <th>7695</th>\n",
       "      <td>'\"How mighty then you are, O hear me tell!\\n  ...</td>\n",
       "      <td>[0, 0, 0, 0, 0, 0, 0, 0, 0, 0, 0, 0, 0, 0, 0, ...</td>\n",
       "      <td>298</td>\n",
       "      <td>983</td>\n",
       "      <td>23</td>\n",
       "      <td>True</td>\n",
       "    </tr>\n",
       "    <tr>\n",
       "      <th>7696</th>\n",
       "      <td>'\"Now all these hearts that do on mine depend,...</td>\n",
       "      <td>[0, 0, 0, 0, 0, 0, 0, 0, 0, 0, 0, 0, 0, 0, 0, ...</td>\n",
       "      <td>283</td>\n",
       "      <td>977</td>\n",
       "      <td>23</td>\n",
       "      <td>True</td>\n",
       "    </tr>\n",
       "    <tr>\n",
       "      <th>7697</th>\n",
       "      <td>'For lo, his passion, but an art of craft,\\n  ...</td>\n",
       "      <td>[0, 0, 0, 0, 0, 0, 0, 0, 0, 0, 0, 0, 0, 0, 0, ...</td>\n",
       "      <td>292</td>\n",
       "      <td>965</td>\n",
       "      <td>23</td>\n",
       "      <td>True</td>\n",
       "    </tr>\n",
       "    <tr>\n",
       "      <th>7698</th>\n",
       "      <td>'Thus merely with the garment of a Grace  \\n  ...</td>\n",
       "      <td>[0, 0, 0, 0, 0, 0, 0, 0, 0, 0, 0, 0, 0, 0, 0, ...</td>\n",
       "      <td>199</td>\n",
       "      <td>630</td>\n",
       "      <td>15</td>\n",
       "      <td>True</td>\n",
       "    </tr>\n",
       "  </tbody>\n",
       "</table>\n",
       "<p>7699 rows × 6 columns</p>\n",
       "</div>"
      ],
      "text/plain": [
       "                                                content  \\\n",
       "0     1\\n  From fairest creatures we desire increase...   \n",
       "1     2\\n  When forty winters shall besiege thy brow...   \n",
       "2     3\\n  Look in thy glass and tell the face thou ...   \n",
       "3     4\\n  Unthrifty loveliness why dost thou spend,...   \n",
       "4     5\\n  Those hours that with gentle work did fra...   \n",
       "...                                                 ...   \n",
       "7694  '\"Lo, this device was sent me from a nun,\\n  O...   \n",
       "7695  '\"How mighty then you are, O hear me tell!\\n  ...   \n",
       "7696  '\"Now all these hearts that do on mine depend,...   \n",
       "7697  'For lo, his passion, but an art of craft,\\n  ...   \n",
       "7698  'Thus merely with the garment of a Grace  \\n  ...   \n",
       "\n",
       "                                          token_content  n_tokens  n_chars  \\\n",
       "0     [0, 0, 0, 0, 0, 0, 0, 0, 0, 0, 0, 0, 0, 0, 0, ...       192      643   \n",
       "1     [0, 0, 0, 0, 0, 0, 0, 0, 0, 0, 0, 0, 0, 0, 0, ...       188      662   \n",
       "2     [0, 0, 0, 0, 0, 0, 0, 0, 0, 0, 0, 0, 0, 0, 0, ...       183      643   \n",
       "3     [0, 0, 0, 0, 0, 0, 0, 0, 0, 0, 0, 0, 0, 0, 0, ...       183      619   \n",
       "4     [0, 0, 0, 0, 0, 0, 0, 0, 0, 0, 0, 0, 0, 0, 0, ...       176      652   \n",
       "...                                                 ...       ...      ...   \n",
       "7694  [0, 0, 0, 0, 0, 0, 0, 0, 0, 0, 0, 0, 0, 0, 0, ...       282      944   \n",
       "7695  [0, 0, 0, 0, 0, 0, 0, 0, 0, 0, 0, 0, 0, 0, 0, ...       298      983   \n",
       "7696  [0, 0, 0, 0, 0, 0, 0, 0, 0, 0, 0, 0, 0, 0, 0, ...       283      977   \n",
       "7697  [0, 0, 0, 0, 0, 0, 0, 0, 0, 0, 0, 0, 0, 0, 0, ...       292      965   \n",
       "7698  [0, 0, 0, 0, 0, 0, 0, 0, 0, 0, 0, 0, 0, 0, 0, ...       199      630   \n",
       "\n",
       "      n_lines  valid_chunk  \n",
       "0          15         True  \n",
       "1          15         True  \n",
       "2          15         True  \n",
       "3          15         True  \n",
       "4          15         True  \n",
       "...       ...          ...  \n",
       "7694       23         True  \n",
       "7695       23         True  \n",
       "7696       23         True  \n",
       "7697       23         True  \n",
       "7698       15         True  \n",
       "\n",
       "[7699 rows x 6 columns]"
      ]
     },
     "execution_count": 236,
     "metadata": {},
     "output_type": "execute_result"
    }
   ],
   "source": [
    "rcts_bpe_chunk_df"
   ]
  },
  {
   "cell_type": "markdown",
   "id": "e0aabee3-7e10-4898-906b-9d663529afca",
   "metadata": {},
   "source": [
    "<br>\n",
    "\n",
    "<div align=\"center\">\n",
    "\n",
    "## 💾 Converting to TFRecords <a name=\"converting-to-tfrecords\"></a>\n",
    "\n",
    "</div>\n",
    "\n",
    "<br>\n",
    "\n",
    "Finally, after completing the preprocessing steps and EDA, we'll convert the toy dataset into the `TFRecords` format. This efficient binary format is designed for use with TensorFlow and will enable seamless integration with your Language Model training pipeline.\n",
    "\n"
   ]
  },
  {
   "cell_type": "code",
   "execution_count": 256,
   "id": "d462afc7-0760-4544-9455-86f22e9ebe7a",
   "metadata": {},
   "outputs": [
    {
     "data": {
      "application/vnd.jupyter.widget-view+json": {
       "model_id": "a4a7e68563d247dc8cc44e75ac5d59c0",
       "version_major": 2,
       "version_minor": 0
      },
      "text/plain": [
       "  0%|          | 0/8 [00:00<?, ?it/s]"
      ]
     },
     "metadata": {},
     "output_type": "display_data"
    },
    {
     "name": "stdout",
     "output_type": "stream",
     "text": [
      "\n",
      "... Writing TFRecord 1 of 8 (1000 per TFRecord)...\n",
      "\n"
     ]
    },
    {
     "data": {
      "application/vnd.jupyter.widget-view+json": {
       "model_id": "00ebdb82b70a4252ac6e6d4040363dc6",
       "version_major": 2,
       "version_minor": 0
      },
      "text/plain": [
       "  0%|          | 0/1000 [00:00<?, ?it/s]"
      ]
     },
     "metadata": {},
     "output_type": "display_data"
    },
    {
     "name": "stdout",
     "output_type": "stream",
     "text": [
      "\n",
      "... Writing TFRecord 2 of 8 (1000 per TFRecord)...\n",
      "\n"
     ]
    },
    {
     "data": {
      "application/vnd.jupyter.widget-view+json": {
       "model_id": "3f3b98169d2d4635bfb5ccefb3930a89",
       "version_major": 2,
       "version_minor": 0
      },
      "text/plain": [
       "  0%|          | 0/1000 [00:00<?, ?it/s]"
      ]
     },
     "metadata": {},
     "output_type": "display_data"
    },
    {
     "name": "stdout",
     "output_type": "stream",
     "text": [
      "\n",
      "... Writing TFRecord 3 of 8 (1000 per TFRecord)...\n",
      "\n"
     ]
    },
    {
     "data": {
      "application/vnd.jupyter.widget-view+json": {
       "model_id": "3c5e92fc95e248aa99e78296d5ec10d5",
       "version_major": 2,
       "version_minor": 0
      },
      "text/plain": [
       "  0%|          | 0/1000 [00:00<?, ?it/s]"
      ]
     },
     "metadata": {},
     "output_type": "display_data"
    },
    {
     "name": "stdout",
     "output_type": "stream",
     "text": [
      "\n",
      "... Writing TFRecord 4 of 8 (1000 per TFRecord)...\n",
      "\n"
     ]
    },
    {
     "data": {
      "application/vnd.jupyter.widget-view+json": {
       "model_id": "7ba93b33978640588f9ed6ec33067c6e",
       "version_major": 2,
       "version_minor": 0
      },
      "text/plain": [
       "  0%|          | 0/1000 [00:00<?, ?it/s]"
      ]
     },
     "metadata": {},
     "output_type": "display_data"
    },
    {
     "name": "stdout",
     "output_type": "stream",
     "text": [
      "\n",
      "... Writing TFRecord 5 of 8 (1000 per TFRecord)...\n",
      "\n"
     ]
    },
    {
     "data": {
      "application/vnd.jupyter.widget-view+json": {
       "model_id": "101e9e138e404cc6948fd74869fb7e15",
       "version_major": 2,
       "version_minor": 0
      },
      "text/plain": [
       "  0%|          | 0/1000 [00:00<?, ?it/s]"
      ]
     },
     "metadata": {},
     "output_type": "display_data"
    },
    {
     "name": "stdout",
     "output_type": "stream",
     "text": [
      "\n",
      "... Writing TFRecord 6 of 8 (1000 per TFRecord)...\n",
      "\n"
     ]
    },
    {
     "data": {
      "application/vnd.jupyter.widget-view+json": {
       "model_id": "70bd6d0e4e9941edab66b0d1fe1ea6a5",
       "version_major": 2,
       "version_minor": 0
      },
      "text/plain": [
       "  0%|          | 0/1000 [00:00<?, ?it/s]"
      ]
     },
     "metadata": {},
     "output_type": "display_data"
    },
    {
     "name": "stdout",
     "output_type": "stream",
     "text": [
      "\n",
      "... Writing TFRecord 7 of 8 (1000 per TFRecord)...\n",
      "\n"
     ]
    },
    {
     "data": {
      "application/vnd.jupyter.widget-view+json": {
       "model_id": "b0a5fb19a1e148108444f942c7238f81",
       "version_major": 2,
       "version_minor": 0
      },
      "text/plain": [
       "  0%|          | 0/1000 [00:00<?, ?it/s]"
      ]
     },
     "metadata": {},
     "output_type": "display_data"
    },
    {
     "name": "stdout",
     "output_type": "stream",
     "text": [
      "\n",
      "... Writing TFRecord 8 of 8 (1000 per TFRecord)...\n",
      "\n"
     ]
    },
    {
     "data": {
      "application/vnd.jupyter.widget-view+json": {
       "model_id": "e3be2dd59271493eaf60797442f90515",
       "version_major": 2,
       "version_minor": 0
      },
      "text/plain": [
       "  0%|          | 0/1000 [00:00<?, ?it/s]"
      ]
     },
     "metadata": {},
     "output_type": "display_data"
    },
    {
     "data": {
      "application/vnd.jupyter.widget-view+json": {
       "model_id": "73349ade273e4a3b972c52759e2d0f4a",
       "version_major": 2,
       "version_minor": 0
      },
      "text/plain": [
       "  0%|          | 0/8 [00:00<?, ?it/s]"
      ]
     },
     "metadata": {},
     "output_type": "display_data"
    },
    {
     "name": "stdout",
     "output_type": "stream",
     "text": [
      "\n",
      "... Writing TFRecord 1 of 8 (1000 per TFRecord)...\n",
      "\n"
     ]
    },
    {
     "data": {
      "application/vnd.jupyter.widget-view+json": {
       "model_id": "1fe86dc55bd74128b6218bea5d240399",
       "version_major": 2,
       "version_minor": 0
      },
      "text/plain": [
       "  0%|          | 0/1000 [00:00<?, ?it/s]"
      ]
     },
     "metadata": {},
     "output_type": "display_data"
    },
    {
     "name": "stdout",
     "output_type": "stream",
     "text": [
      "\n",
      "... Writing TFRecord 2 of 8 (1000 per TFRecord)...\n",
      "\n"
     ]
    },
    {
     "data": {
      "application/vnd.jupyter.widget-view+json": {
       "model_id": "fcaffa0317e14ef3963253e0e952c808",
       "version_major": 2,
       "version_minor": 0
      },
      "text/plain": [
       "  0%|          | 0/1000 [00:00<?, ?it/s]"
      ]
     },
     "metadata": {},
     "output_type": "display_data"
    },
    {
     "name": "stdout",
     "output_type": "stream",
     "text": [
      "\n",
      "... Writing TFRecord 3 of 8 (1000 per TFRecord)...\n",
      "\n"
     ]
    },
    {
     "data": {
      "application/vnd.jupyter.widget-view+json": {
       "model_id": "9ef03d5b29e342549133a970a1346530",
       "version_major": 2,
       "version_minor": 0
      },
      "text/plain": [
       "  0%|          | 0/1000 [00:00<?, ?it/s]"
      ]
     },
     "metadata": {},
     "output_type": "display_data"
    },
    {
     "name": "stdout",
     "output_type": "stream",
     "text": [
      "\n",
      "... Writing TFRecord 4 of 8 (1000 per TFRecord)...\n",
      "\n"
     ]
    },
    {
     "data": {
      "application/vnd.jupyter.widget-view+json": {
       "model_id": "d758a412e2044a88a25947e379cf1d40",
       "version_major": 2,
       "version_minor": 0
      },
      "text/plain": [
       "  0%|          | 0/1000 [00:00<?, ?it/s]"
      ]
     },
     "metadata": {},
     "output_type": "display_data"
    },
    {
     "name": "stdout",
     "output_type": "stream",
     "text": [
      "\n",
      "... Writing TFRecord 5 of 8 (1000 per TFRecord)...\n",
      "\n"
     ]
    },
    {
     "data": {
      "application/vnd.jupyter.widget-view+json": {
       "model_id": "9a0ef72e9e13494f8bb17a2b45501de2",
       "version_major": 2,
       "version_minor": 0
      },
      "text/plain": [
       "  0%|          | 0/1000 [00:00<?, ?it/s]"
      ]
     },
     "metadata": {},
     "output_type": "display_data"
    },
    {
     "name": "stdout",
     "output_type": "stream",
     "text": [
      "\n",
      "... Writing TFRecord 6 of 8 (1000 per TFRecord)...\n",
      "\n"
     ]
    },
    {
     "data": {
      "application/vnd.jupyter.widget-view+json": {
       "model_id": "0f777753cac642ebb67541ebdfa1f8c0",
       "version_major": 2,
       "version_minor": 0
      },
      "text/plain": [
       "  0%|          | 0/1000 [00:00<?, ?it/s]"
      ]
     },
     "metadata": {},
     "output_type": "display_data"
    },
    {
     "name": "stdout",
     "output_type": "stream",
     "text": [
      "\n",
      "... Writing TFRecord 7 of 8 (1000 per TFRecord)...\n",
      "\n"
     ]
    },
    {
     "data": {
      "application/vnd.jupyter.widget-view+json": {
       "model_id": "3c93a824807a49d79b50dd4a83191801",
       "version_major": 2,
       "version_minor": 0
      },
      "text/plain": [
       "  0%|          | 0/1000 [00:00<?, ?it/s]"
      ]
     },
     "metadata": {},
     "output_type": "display_data"
    },
    {
     "name": "stdout",
     "output_type": "stream",
     "text": [
      "\n",
      "... Writing TFRecord 8 of 8 (1000 per TFRecord)...\n",
      "\n"
     ]
    },
    {
     "data": {
      "application/vnd.jupyter.widget-view+json": {
       "model_id": "bbe1292d09684f79ad19414cfb370bb8",
       "version_major": 2,
       "version_minor": 0
      },
      "text/plain": [
       "  0%|          | 0/1000 [00:00<?, ?it/s]"
      ]
     },
     "metadata": {},
     "output_type": "display_data"
    },
    {
     "data": {
      "application/vnd.jupyter.widget-view+json": {
       "model_id": "cef164615bc84bb188d7689eea87a023",
       "version_major": 2,
       "version_minor": 0
      },
      "text/plain": [
       "  0%|          | 0/14 [00:00<?, ?it/s]"
      ]
     },
     "metadata": {},
     "output_type": "display_data"
    },
    {
     "name": "stdout",
     "output_type": "stream",
     "text": [
      "\n",
      "... Writing TFRecord 1 of 14 (1000 per TFRecord)...\n",
      "\n"
     ]
    },
    {
     "data": {
      "application/vnd.jupyter.widget-view+json": {
       "model_id": "e267d917128c426c950906235fd90d8a",
       "version_major": 2,
       "version_minor": 0
      },
      "text/plain": [
       "  0%|          | 0/1000 [00:00<?, ?it/s]"
      ]
     },
     "metadata": {},
     "output_type": "display_data"
    },
    {
     "name": "stdout",
     "output_type": "stream",
     "text": [
      "\n",
      "... Writing TFRecord 2 of 14 (1000 per TFRecord)...\n",
      "\n"
     ]
    },
    {
     "data": {
      "application/vnd.jupyter.widget-view+json": {
       "model_id": "47308f9dcd7c439ebf25bfafcd15218e",
       "version_major": 2,
       "version_minor": 0
      },
      "text/plain": [
       "  0%|          | 0/1000 [00:00<?, ?it/s]"
      ]
     },
     "metadata": {},
     "output_type": "display_data"
    },
    {
     "name": "stdout",
     "output_type": "stream",
     "text": [
      "\n",
      "... Writing TFRecord 3 of 14 (1000 per TFRecord)...\n",
      "\n"
     ]
    },
    {
     "data": {
      "application/vnd.jupyter.widget-view+json": {
       "model_id": "a3c4703032d441c5b2a4c88def103093",
       "version_major": 2,
       "version_minor": 0
      },
      "text/plain": [
       "  0%|          | 0/1000 [00:00<?, ?it/s]"
      ]
     },
     "metadata": {},
     "output_type": "display_data"
    },
    {
     "name": "stdout",
     "output_type": "stream",
     "text": [
      "\n",
      "... Writing TFRecord 4 of 14 (1000 per TFRecord)...\n",
      "\n"
     ]
    },
    {
     "data": {
      "application/vnd.jupyter.widget-view+json": {
       "model_id": "8db3295a561a4f53b681903f5b31d9bc",
       "version_major": 2,
       "version_minor": 0
      },
      "text/plain": [
       "  0%|          | 0/1000 [00:00<?, ?it/s]"
      ]
     },
     "metadata": {},
     "output_type": "display_data"
    },
    {
     "name": "stdout",
     "output_type": "stream",
     "text": [
      "\n",
      "... Writing TFRecord 5 of 14 (1000 per TFRecord)...\n",
      "\n"
     ]
    },
    {
     "data": {
      "application/vnd.jupyter.widget-view+json": {
       "model_id": "67aab5cdabbb429e8525a9a13706b130",
       "version_major": 2,
       "version_minor": 0
      },
      "text/plain": [
       "  0%|          | 0/1000 [00:00<?, ?it/s]"
      ]
     },
     "metadata": {},
     "output_type": "display_data"
    },
    {
     "name": "stdout",
     "output_type": "stream",
     "text": [
      "\n",
      "... Writing TFRecord 6 of 14 (1000 per TFRecord)...\n",
      "\n"
     ]
    },
    {
     "data": {
      "application/vnd.jupyter.widget-view+json": {
       "model_id": "cb8a971a00524ef5bb7db3f46699122c",
       "version_major": 2,
       "version_minor": 0
      },
      "text/plain": [
       "  0%|          | 0/1000 [00:00<?, ?it/s]"
      ]
     },
     "metadata": {},
     "output_type": "display_data"
    },
    {
     "name": "stdout",
     "output_type": "stream",
     "text": [
      "\n",
      "... Writing TFRecord 7 of 14 (1000 per TFRecord)...\n",
      "\n"
     ]
    },
    {
     "data": {
      "application/vnd.jupyter.widget-view+json": {
       "model_id": "ca486a27adb14eec911625fb6c739bcb",
       "version_major": 2,
       "version_minor": 0
      },
      "text/plain": [
       "  0%|          | 0/1000 [00:00<?, ?it/s]"
      ]
     },
     "metadata": {},
     "output_type": "display_data"
    },
    {
     "name": "stdout",
     "output_type": "stream",
     "text": [
      "\n",
      "... Writing TFRecord 8 of 14 (1000 per TFRecord)...\n",
      "\n"
     ]
    },
    {
     "data": {
      "application/vnd.jupyter.widget-view+json": {
       "model_id": "ad0dfd5b367e48afac0f86236c035c1f",
       "version_major": 2,
       "version_minor": 0
      },
      "text/plain": [
       "  0%|          | 0/1000 [00:00<?, ?it/s]"
      ]
     },
     "metadata": {},
     "output_type": "display_data"
    },
    {
     "name": "stdout",
     "output_type": "stream",
     "text": [
      "\n",
      "... Writing TFRecord 9 of 14 (1000 per TFRecord)...\n",
      "\n"
     ]
    },
    {
     "data": {
      "application/vnd.jupyter.widget-view+json": {
       "model_id": "9afd25bc8229432c891a35841f0a6af9",
       "version_major": 2,
       "version_minor": 0
      },
      "text/plain": [
       "  0%|          | 0/1000 [00:00<?, ?it/s]"
      ]
     },
     "metadata": {},
     "output_type": "display_data"
    },
    {
     "name": "stdout",
     "output_type": "stream",
     "text": [
      "\n",
      "... Writing TFRecord 10 of 14 (1000 per TFRecord)...\n",
      "\n"
     ]
    },
    {
     "data": {
      "application/vnd.jupyter.widget-view+json": {
       "model_id": "5b7bb2b256554306b292ff64f344cadd",
       "version_major": 2,
       "version_minor": 0
      },
      "text/plain": [
       "  0%|          | 0/1000 [00:00<?, ?it/s]"
      ]
     },
     "metadata": {},
     "output_type": "display_data"
    },
    {
     "name": "stdout",
     "output_type": "stream",
     "text": [
      "\n",
      "... Writing TFRecord 11 of 14 (1000 per TFRecord)...\n",
      "\n"
     ]
    },
    {
     "data": {
      "application/vnd.jupyter.widget-view+json": {
       "model_id": "1a47d6804d59428783c661c967c34651",
       "version_major": 2,
       "version_minor": 0
      },
      "text/plain": [
       "  0%|          | 0/1000 [00:00<?, ?it/s]"
      ]
     },
     "metadata": {},
     "output_type": "display_data"
    },
    {
     "name": "stdout",
     "output_type": "stream",
     "text": [
      "\n",
      "... Writing TFRecord 12 of 14 (1000 per TFRecord)...\n",
      "\n"
     ]
    },
    {
     "data": {
      "application/vnd.jupyter.widget-view+json": {
       "model_id": "0250a65417b442bfb371373382d8b25b",
       "version_major": 2,
       "version_minor": 0
      },
      "text/plain": [
       "  0%|          | 0/1000 [00:00<?, ?it/s]"
      ]
     },
     "metadata": {},
     "output_type": "display_data"
    },
    {
     "name": "stdout",
     "output_type": "stream",
     "text": [
      "\n",
      "... Writing TFRecord 13 of 14 (1000 per TFRecord)...\n",
      "\n"
     ]
    },
    {
     "data": {
      "application/vnd.jupyter.widget-view+json": {
       "model_id": "ace3c149810f4565ad275c63bdd1eeb7",
       "version_major": 2,
       "version_minor": 0
      },
      "text/plain": [
       "  0%|          | 0/1000 [00:00<?, ?it/s]"
      ]
     },
     "metadata": {},
     "output_type": "display_data"
    },
    {
     "name": "stdout",
     "output_type": "stream",
     "text": [
      "\n",
      "... Writing TFRecord 14 of 14 (1000 per TFRecord)...\n",
      "\n"
     ]
    },
    {
     "data": {
      "application/vnd.jupyter.widget-view+json": {
       "model_id": "fccbbe3518b142d2a77371f1545e5322",
       "version_major": 2,
       "version_minor": 0
      },
      "text/plain": [
       "  0%|          | 0/1000 [00:00<?, ?it/s]"
      ]
     },
     "metadata": {},
     "output_type": "display_data"
    },
    {
     "data": {
      "application/vnd.jupyter.widget-view+json": {
       "model_id": "c480abc29dc24933b7beeffdbac01a85",
       "version_major": 2,
       "version_minor": 0
      },
      "text/plain": [
       "  0%|          | 0/14 [00:00<?, ?it/s]"
      ]
     },
     "metadata": {},
     "output_type": "display_data"
    },
    {
     "name": "stdout",
     "output_type": "stream",
     "text": [
      "\n",
      "... Writing TFRecord 1 of 14 (1000 per TFRecord)...\n",
      "\n"
     ]
    },
    {
     "data": {
      "application/vnd.jupyter.widget-view+json": {
       "model_id": "265b353f73f74ef4b8ac7d01312e4c89",
       "version_major": 2,
       "version_minor": 0
      },
      "text/plain": [
       "  0%|          | 0/1000 [00:00<?, ?it/s]"
      ]
     },
     "metadata": {},
     "output_type": "display_data"
    },
    {
     "name": "stdout",
     "output_type": "stream",
     "text": [
      "\n",
      "... Writing TFRecord 2 of 14 (1000 per TFRecord)...\n",
      "\n"
     ]
    },
    {
     "data": {
      "application/vnd.jupyter.widget-view+json": {
       "model_id": "2655f35384194bffbe355155cb81224a",
       "version_major": 2,
       "version_minor": 0
      },
      "text/plain": [
       "  0%|          | 0/1000 [00:00<?, ?it/s]"
      ]
     },
     "metadata": {},
     "output_type": "display_data"
    },
    {
     "name": "stdout",
     "output_type": "stream",
     "text": [
      "\n",
      "... Writing TFRecord 3 of 14 (1000 per TFRecord)...\n",
      "\n"
     ]
    },
    {
     "data": {
      "application/vnd.jupyter.widget-view+json": {
       "model_id": "0c65dd91e1c848f49e36fd3feba64fd6",
       "version_major": 2,
       "version_minor": 0
      },
      "text/plain": [
       "  0%|          | 0/1000 [00:00<?, ?it/s]"
      ]
     },
     "metadata": {},
     "output_type": "display_data"
    },
    {
     "name": "stdout",
     "output_type": "stream",
     "text": [
      "\n",
      "... Writing TFRecord 4 of 14 (1000 per TFRecord)...\n",
      "\n"
     ]
    },
    {
     "data": {
      "application/vnd.jupyter.widget-view+json": {
       "model_id": "e55ca6419691475d8ef273bbf42bc9b9",
       "version_major": 2,
       "version_minor": 0
      },
      "text/plain": [
       "  0%|          | 0/1000 [00:00<?, ?it/s]"
      ]
     },
     "metadata": {},
     "output_type": "display_data"
    },
    {
     "name": "stdout",
     "output_type": "stream",
     "text": [
      "\n",
      "... Writing TFRecord 5 of 14 (1000 per TFRecord)...\n",
      "\n"
     ]
    },
    {
     "data": {
      "application/vnd.jupyter.widget-view+json": {
       "model_id": "6326278bd1d34777a075667012c816ef",
       "version_major": 2,
       "version_minor": 0
      },
      "text/plain": [
       "  0%|          | 0/1000 [00:00<?, ?it/s]"
      ]
     },
     "metadata": {},
     "output_type": "display_data"
    },
    {
     "name": "stdout",
     "output_type": "stream",
     "text": [
      "\n",
      "... Writing TFRecord 6 of 14 (1000 per TFRecord)...\n",
      "\n"
     ]
    },
    {
     "data": {
      "application/vnd.jupyter.widget-view+json": {
       "model_id": "98aebd9d0a354801abddea5bbc34ef3f",
       "version_major": 2,
       "version_minor": 0
      },
      "text/plain": [
       "  0%|          | 0/1000 [00:00<?, ?it/s]"
      ]
     },
     "metadata": {},
     "output_type": "display_data"
    },
    {
     "name": "stdout",
     "output_type": "stream",
     "text": [
      "\n",
      "... Writing TFRecord 7 of 14 (1000 per TFRecord)...\n",
      "\n"
     ]
    },
    {
     "data": {
      "application/vnd.jupyter.widget-view+json": {
       "model_id": "ac108811dcb6480ca406e7cebfdac93e",
       "version_major": 2,
       "version_minor": 0
      },
      "text/plain": [
       "  0%|          | 0/1000 [00:00<?, ?it/s]"
      ]
     },
     "metadata": {},
     "output_type": "display_data"
    },
    {
     "name": "stdout",
     "output_type": "stream",
     "text": [
      "\n",
      "... Writing TFRecord 8 of 14 (1000 per TFRecord)...\n",
      "\n"
     ]
    },
    {
     "data": {
      "application/vnd.jupyter.widget-view+json": {
       "model_id": "511a5a2993844d2783f1283c5de0654e",
       "version_major": 2,
       "version_minor": 0
      },
      "text/plain": [
       "  0%|          | 0/1000 [00:00<?, ?it/s]"
      ]
     },
     "metadata": {},
     "output_type": "display_data"
    },
    {
     "name": "stdout",
     "output_type": "stream",
     "text": [
      "\n",
      "... Writing TFRecord 9 of 14 (1000 per TFRecord)...\n",
      "\n"
     ]
    },
    {
     "data": {
      "application/vnd.jupyter.widget-view+json": {
       "model_id": "d38b304591a54405a73236e4bdcf9f00",
       "version_major": 2,
       "version_minor": 0
      },
      "text/plain": [
       "  0%|          | 0/1000 [00:00<?, ?it/s]"
      ]
     },
     "metadata": {},
     "output_type": "display_data"
    },
    {
     "name": "stdout",
     "output_type": "stream",
     "text": [
      "\n",
      "... Writing TFRecord 10 of 14 (1000 per TFRecord)...\n",
      "\n"
     ]
    },
    {
     "data": {
      "application/vnd.jupyter.widget-view+json": {
       "model_id": "87bc376ae3c24cd2b7286118ae285cd8",
       "version_major": 2,
       "version_minor": 0
      },
      "text/plain": [
       "  0%|          | 0/1000 [00:00<?, ?it/s]"
      ]
     },
     "metadata": {},
     "output_type": "display_data"
    },
    {
     "name": "stdout",
     "output_type": "stream",
     "text": [
      "\n",
      "... Writing TFRecord 11 of 14 (1000 per TFRecord)...\n",
      "\n"
     ]
    },
    {
     "data": {
      "application/vnd.jupyter.widget-view+json": {
       "model_id": "ee597966b18041c6b0057d963c820313",
       "version_major": 2,
       "version_minor": 0
      },
      "text/plain": [
       "  0%|          | 0/1000 [00:00<?, ?it/s]"
      ]
     },
     "metadata": {},
     "output_type": "display_data"
    },
    {
     "name": "stdout",
     "output_type": "stream",
     "text": [
      "\n",
      "... Writing TFRecord 12 of 14 (1000 per TFRecord)...\n",
      "\n"
     ]
    },
    {
     "data": {
      "application/vnd.jupyter.widget-view+json": {
       "model_id": "76e47ea1e607451e9fa37f9da2104ea9",
       "version_major": 2,
       "version_minor": 0
      },
      "text/plain": [
       "  0%|          | 0/1000 [00:00<?, ?it/s]"
      ]
     },
     "metadata": {},
     "output_type": "display_data"
    },
    {
     "name": "stdout",
     "output_type": "stream",
     "text": [
      "\n",
      "... Writing TFRecord 13 of 14 (1000 per TFRecord)...\n",
      "\n"
     ]
    },
    {
     "data": {
      "application/vnd.jupyter.widget-view+json": {
       "model_id": "b13bcde3523e46e29510d381d83ecdc8",
       "version_major": 2,
       "version_minor": 0
      },
      "text/plain": [
       "  0%|          | 0/1000 [00:00<?, ?it/s]"
      ]
     },
     "metadata": {},
     "output_type": "display_data"
    },
    {
     "name": "stdout",
     "output_type": "stream",
     "text": [
      "\n",
      "... Writing TFRecord 14 of 14 (1000 per TFRecord)...\n",
      "\n"
     ]
    },
    {
     "data": {
      "application/vnd.jupyter.widget-view+json": {
       "model_id": "f85abc1cbb564408b76c90e3eec642d5",
       "version_major": 2,
       "version_minor": 0
      },
      "text/plain": [
       "  0%|          | 0/1000 [00:00<?, ?it/s]"
      ]
     },
     "metadata": {},
     "output_type": "display_data"
    },
    {
     "data": {
      "application/vnd.jupyter.widget-view+json": {
       "model_id": "3f7495903538491b99d6ceab9768c76d",
       "version_major": 2,
       "version_minor": 0
      },
      "text/plain": [
       "  0%|          | 0/8 [00:00<?, ?it/s]"
      ]
     },
     "metadata": {},
     "output_type": "display_data"
    },
    {
     "name": "stdout",
     "output_type": "stream",
     "text": [
      "\n",
      "... Writing TFRecord 1 of 8 (1000 per TFRecord)...\n",
      "\n"
     ]
    },
    {
     "data": {
      "application/vnd.jupyter.widget-view+json": {
       "model_id": "9f3dba9d1fb94fcaa2895cb633a80952",
       "version_major": 2,
       "version_minor": 0
      },
      "text/plain": [
       "  0%|          | 0/1000 [00:00<?, ?it/s]"
      ]
     },
     "metadata": {},
     "output_type": "display_data"
    },
    {
     "name": "stdout",
     "output_type": "stream",
     "text": [
      "\n",
      "... Writing TFRecord 2 of 8 (1000 per TFRecord)...\n",
      "\n"
     ]
    },
    {
     "data": {
      "application/vnd.jupyter.widget-view+json": {
       "model_id": "d8519ad115d84b34bf8aaf9a835c506f",
       "version_major": 2,
       "version_minor": 0
      },
      "text/plain": [
       "  0%|          | 0/1000 [00:00<?, ?it/s]"
      ]
     },
     "metadata": {},
     "output_type": "display_data"
    },
    {
     "name": "stdout",
     "output_type": "stream",
     "text": [
      "\n",
      "... Writing TFRecord 3 of 8 (1000 per TFRecord)...\n",
      "\n"
     ]
    },
    {
     "data": {
      "application/vnd.jupyter.widget-view+json": {
       "model_id": "2fd5e126d93d4a6abe68cd5cd5b8143b",
       "version_major": 2,
       "version_minor": 0
      },
      "text/plain": [
       "  0%|          | 0/1000 [00:00<?, ?it/s]"
      ]
     },
     "metadata": {},
     "output_type": "display_data"
    },
    {
     "name": "stdout",
     "output_type": "stream",
     "text": [
      "\n",
      "... Writing TFRecord 4 of 8 (1000 per TFRecord)...\n",
      "\n"
     ]
    },
    {
     "data": {
      "application/vnd.jupyter.widget-view+json": {
       "model_id": "f37ce09615a54e33b4e25959c217507e",
       "version_major": 2,
       "version_minor": 0
      },
      "text/plain": [
       "  0%|          | 0/1000 [00:00<?, ?it/s]"
      ]
     },
     "metadata": {},
     "output_type": "display_data"
    },
    {
     "name": "stdout",
     "output_type": "stream",
     "text": [
      "\n",
      "... Writing TFRecord 5 of 8 (1000 per TFRecord)...\n",
      "\n"
     ]
    },
    {
     "data": {
      "application/vnd.jupyter.widget-view+json": {
       "model_id": "bf7635a51bb74c1dbc6f2a6594561b21",
       "version_major": 2,
       "version_minor": 0
      },
      "text/plain": [
       "  0%|          | 0/1000 [00:00<?, ?it/s]"
      ]
     },
     "metadata": {},
     "output_type": "display_data"
    },
    {
     "name": "stdout",
     "output_type": "stream",
     "text": [
      "\n",
      "... Writing TFRecord 6 of 8 (1000 per TFRecord)...\n",
      "\n"
     ]
    },
    {
     "data": {
      "application/vnd.jupyter.widget-view+json": {
       "model_id": "63f967ed76dc487a83fd132fccca3460",
       "version_major": 2,
       "version_minor": 0
      },
      "text/plain": [
       "  0%|          | 0/1000 [00:00<?, ?it/s]"
      ]
     },
     "metadata": {},
     "output_type": "display_data"
    },
    {
     "name": "stdout",
     "output_type": "stream",
     "text": [
      "\n",
      "... Writing TFRecord 7 of 8 (1000 per TFRecord)...\n",
      "\n"
     ]
    },
    {
     "data": {
      "application/vnd.jupyter.widget-view+json": {
       "model_id": "b4a5acf3cb3b4390aa9abbd7bebf5e77",
       "version_major": 2,
       "version_minor": 0
      },
      "text/plain": [
       "  0%|          | 0/1000 [00:00<?, ?it/s]"
      ]
     },
     "metadata": {},
     "output_type": "display_data"
    },
    {
     "name": "stdout",
     "output_type": "stream",
     "text": [
      "\n",
      "... Writing TFRecord 8 of 8 (1000 per TFRecord)...\n",
      "\n"
     ]
    },
    {
     "data": {
      "application/vnd.jupyter.widget-view+json": {
       "model_id": "d5a00867ea4e46c1ae80fc372944b6e4",
       "version_major": 2,
       "version_minor": 0
      },
      "text/plain": [
       "  0%|          | 0/1000 [00:00<?, ?it/s]"
      ]
     },
     "metadata": {},
     "output_type": "display_data"
    },
    {
     "data": {
      "application/vnd.jupyter.widget-view+json": {
       "model_id": "a69e38a31f074946abc891d3d45bc9dc",
       "version_major": 2,
       "version_minor": 0
      },
      "text/plain": [
       "  0%|          | 0/8 [00:00<?, ?it/s]"
      ]
     },
     "metadata": {},
     "output_type": "display_data"
    },
    {
     "name": "stdout",
     "output_type": "stream",
     "text": [
      "\n",
      "... Writing TFRecord 1 of 8 (1000 per TFRecord)...\n",
      "\n"
     ]
    },
    {
     "data": {
      "application/vnd.jupyter.widget-view+json": {
       "model_id": "18b59572c60e4f3a8034511d983d38ca",
       "version_major": 2,
       "version_minor": 0
      },
      "text/plain": [
       "  0%|          | 0/1000 [00:00<?, ?it/s]"
      ]
     },
     "metadata": {},
     "output_type": "display_data"
    },
    {
     "name": "stdout",
     "output_type": "stream",
     "text": [
      "\n",
      "... Writing TFRecord 2 of 8 (1000 per TFRecord)...\n",
      "\n"
     ]
    },
    {
     "data": {
      "application/vnd.jupyter.widget-view+json": {
       "model_id": "390416ad4c5143d2aca397994464e332",
       "version_major": 2,
       "version_minor": 0
      },
      "text/plain": [
       "  0%|          | 0/1000 [00:00<?, ?it/s]"
      ]
     },
     "metadata": {},
     "output_type": "display_data"
    },
    {
     "name": "stdout",
     "output_type": "stream",
     "text": [
      "\n",
      "... Writing TFRecord 3 of 8 (1000 per TFRecord)...\n",
      "\n"
     ]
    },
    {
     "data": {
      "application/vnd.jupyter.widget-view+json": {
       "model_id": "5c5bcf201c1f4ee7af9d664284bc0531",
       "version_major": 2,
       "version_minor": 0
      },
      "text/plain": [
       "  0%|          | 0/1000 [00:00<?, ?it/s]"
      ]
     },
     "metadata": {},
     "output_type": "display_data"
    },
    {
     "name": "stdout",
     "output_type": "stream",
     "text": [
      "\n",
      "... Writing TFRecord 4 of 8 (1000 per TFRecord)...\n",
      "\n"
     ]
    },
    {
     "data": {
      "application/vnd.jupyter.widget-view+json": {
       "model_id": "eb282c6264514d8a838b181ace20c723",
       "version_major": 2,
       "version_minor": 0
      },
      "text/plain": [
       "  0%|          | 0/1000 [00:00<?, ?it/s]"
      ]
     },
     "metadata": {},
     "output_type": "display_data"
    },
    {
     "name": "stdout",
     "output_type": "stream",
     "text": [
      "\n",
      "... Writing TFRecord 5 of 8 (1000 per TFRecord)...\n",
      "\n"
     ]
    },
    {
     "data": {
      "application/vnd.jupyter.widget-view+json": {
       "model_id": "bb8eccc1a8644a5fa7f521b12c0cd67d",
       "version_major": 2,
       "version_minor": 0
      },
      "text/plain": [
       "  0%|          | 0/1000 [00:00<?, ?it/s]"
      ]
     },
     "metadata": {},
     "output_type": "display_data"
    },
    {
     "name": "stdout",
     "output_type": "stream",
     "text": [
      "\n",
      "... Writing TFRecord 6 of 8 (1000 per TFRecord)...\n",
      "\n"
     ]
    },
    {
     "data": {
      "application/vnd.jupyter.widget-view+json": {
       "model_id": "3d7ac46eb8544aa8b70d4ad1516d7dd5",
       "version_major": 2,
       "version_minor": 0
      },
      "text/plain": [
       "  0%|          | 0/1000 [00:00<?, ?it/s]"
      ]
     },
     "metadata": {},
     "output_type": "display_data"
    },
    {
     "name": "stdout",
     "output_type": "stream",
     "text": [
      "\n",
      "... Writing TFRecord 7 of 8 (1000 per TFRecord)...\n",
      "\n"
     ]
    },
    {
     "data": {
      "application/vnd.jupyter.widget-view+json": {
       "model_id": "cc0594f0978d47c98abfff32c5df92e6",
       "version_major": 2,
       "version_minor": 0
      },
      "text/plain": [
       "  0%|          | 0/1000 [00:00<?, ?it/s]"
      ]
     },
     "metadata": {},
     "output_type": "display_data"
    },
    {
     "name": "stdout",
     "output_type": "stream",
     "text": [
      "\n",
      "... Writing TFRecord 8 of 8 (1000 per TFRecord)...\n",
      "\n"
     ]
    },
    {
     "data": {
      "application/vnd.jupyter.widget-view+json": {
       "model_id": "18022fbe5fa5455b8e1de068a7d1b8ad",
       "version_major": 2,
       "version_minor": 0
      },
      "text/plain": [
       "  0%|          | 0/1000 [00:00<?, ?it/s]"
      ]
     },
     "metadata": {},
     "output_type": "display_data"
    },
    {
     "data": {
      "application/vnd.jupyter.widget-view+json": {
       "model_id": "3dc2ddcb1c18424ea918b96924b79939",
       "version_major": 2,
       "version_minor": 0
      },
      "text/plain": [
       "  0%|          | 0/14 [00:00<?, ?it/s]"
      ]
     },
     "metadata": {},
     "output_type": "display_data"
    },
    {
     "name": "stdout",
     "output_type": "stream",
     "text": [
      "\n",
      "... Writing TFRecord 1 of 14 (1000 per TFRecord)...\n",
      "\n"
     ]
    },
    {
     "data": {
      "application/vnd.jupyter.widget-view+json": {
       "model_id": "217392d49af34aa693a9fff12a01a593",
       "version_major": 2,
       "version_minor": 0
      },
      "text/plain": [
       "  0%|          | 0/1000 [00:00<?, ?it/s]"
      ]
     },
     "metadata": {},
     "output_type": "display_data"
    },
    {
     "name": "stdout",
     "output_type": "stream",
     "text": [
      "\n",
      "... Writing TFRecord 2 of 14 (1000 per TFRecord)...\n",
      "\n"
     ]
    },
    {
     "data": {
      "application/vnd.jupyter.widget-view+json": {
       "model_id": "f2ddedf49aa64374b43fb2f110916570",
       "version_major": 2,
       "version_minor": 0
      },
      "text/plain": [
       "  0%|          | 0/1000 [00:00<?, ?it/s]"
      ]
     },
     "metadata": {},
     "output_type": "display_data"
    },
    {
     "name": "stdout",
     "output_type": "stream",
     "text": [
      "\n",
      "... Writing TFRecord 3 of 14 (1000 per TFRecord)...\n",
      "\n"
     ]
    },
    {
     "data": {
      "application/vnd.jupyter.widget-view+json": {
       "model_id": "6864d7baeea949738b06f51764f30def",
       "version_major": 2,
       "version_minor": 0
      },
      "text/plain": [
       "  0%|          | 0/1000 [00:00<?, ?it/s]"
      ]
     },
     "metadata": {},
     "output_type": "display_data"
    },
    {
     "name": "stdout",
     "output_type": "stream",
     "text": [
      "\n",
      "... Writing TFRecord 4 of 14 (1000 per TFRecord)...\n",
      "\n"
     ]
    },
    {
     "data": {
      "application/vnd.jupyter.widget-view+json": {
       "model_id": "380c649e3dc54721be9e8c4e805272fd",
       "version_major": 2,
       "version_minor": 0
      },
      "text/plain": [
       "  0%|          | 0/1000 [00:00<?, ?it/s]"
      ]
     },
     "metadata": {},
     "output_type": "display_data"
    },
    {
     "name": "stdout",
     "output_type": "stream",
     "text": [
      "\n",
      "... Writing TFRecord 5 of 14 (1000 per TFRecord)...\n",
      "\n"
     ]
    },
    {
     "data": {
      "application/vnd.jupyter.widget-view+json": {
       "model_id": "19f9b6db7b304abe80537e69ea766ef4",
       "version_major": 2,
       "version_minor": 0
      },
      "text/plain": [
       "  0%|          | 0/1000 [00:00<?, ?it/s]"
      ]
     },
     "metadata": {},
     "output_type": "display_data"
    },
    {
     "name": "stdout",
     "output_type": "stream",
     "text": [
      "\n",
      "... Writing TFRecord 6 of 14 (1000 per TFRecord)...\n",
      "\n"
     ]
    },
    {
     "data": {
      "application/vnd.jupyter.widget-view+json": {
       "model_id": "05c54290e38b4ed9962fb3e6a330c7cd",
       "version_major": 2,
       "version_minor": 0
      },
      "text/plain": [
       "  0%|          | 0/1000 [00:00<?, ?it/s]"
      ]
     },
     "metadata": {},
     "output_type": "display_data"
    },
    {
     "name": "stdout",
     "output_type": "stream",
     "text": [
      "\n",
      "... Writing TFRecord 7 of 14 (1000 per TFRecord)...\n",
      "\n"
     ]
    },
    {
     "data": {
      "application/vnd.jupyter.widget-view+json": {
       "model_id": "bbfed40e8ce0403e9b64cf477886d5a6",
       "version_major": 2,
       "version_minor": 0
      },
      "text/plain": [
       "  0%|          | 0/1000 [00:00<?, ?it/s]"
      ]
     },
     "metadata": {},
     "output_type": "display_data"
    },
    {
     "name": "stdout",
     "output_type": "stream",
     "text": [
      "\n",
      "... Writing TFRecord 8 of 14 (1000 per TFRecord)...\n",
      "\n"
     ]
    },
    {
     "data": {
      "application/vnd.jupyter.widget-view+json": {
       "model_id": "ca298ad1b0784f63825c318ec2753ba8",
       "version_major": 2,
       "version_minor": 0
      },
      "text/plain": [
       "  0%|          | 0/1000 [00:00<?, ?it/s]"
      ]
     },
     "metadata": {},
     "output_type": "display_data"
    },
    {
     "name": "stdout",
     "output_type": "stream",
     "text": [
      "\n",
      "... Writing TFRecord 9 of 14 (1000 per TFRecord)...\n",
      "\n"
     ]
    },
    {
     "data": {
      "application/vnd.jupyter.widget-view+json": {
       "model_id": "f14a43f106354e6f91d9be91570fc75f",
       "version_major": 2,
       "version_minor": 0
      },
      "text/plain": [
       "  0%|          | 0/1000 [00:00<?, ?it/s]"
      ]
     },
     "metadata": {},
     "output_type": "display_data"
    },
    {
     "name": "stdout",
     "output_type": "stream",
     "text": [
      "\n",
      "... Writing TFRecord 10 of 14 (1000 per TFRecord)...\n",
      "\n"
     ]
    },
    {
     "data": {
      "application/vnd.jupyter.widget-view+json": {
       "model_id": "903146bd39fe4c68a514f891e9f361d6",
       "version_major": 2,
       "version_minor": 0
      },
      "text/plain": [
       "  0%|          | 0/1000 [00:00<?, ?it/s]"
      ]
     },
     "metadata": {},
     "output_type": "display_data"
    },
    {
     "name": "stdout",
     "output_type": "stream",
     "text": [
      "\n",
      "... Writing TFRecord 11 of 14 (1000 per TFRecord)...\n",
      "\n"
     ]
    },
    {
     "data": {
      "application/vnd.jupyter.widget-view+json": {
       "model_id": "71b800894eeb4dc5abbf1409a48b33e2",
       "version_major": 2,
       "version_minor": 0
      },
      "text/plain": [
       "  0%|          | 0/1000 [00:00<?, ?it/s]"
      ]
     },
     "metadata": {},
     "output_type": "display_data"
    },
    {
     "name": "stdout",
     "output_type": "stream",
     "text": [
      "\n",
      "... Writing TFRecord 12 of 14 (1000 per TFRecord)...\n",
      "\n"
     ]
    },
    {
     "data": {
      "application/vnd.jupyter.widget-view+json": {
       "model_id": "49cf502130714914923a4a958dc7f1aa",
       "version_major": 2,
       "version_minor": 0
      },
      "text/plain": [
       "  0%|          | 0/1000 [00:00<?, ?it/s]"
      ]
     },
     "metadata": {},
     "output_type": "display_data"
    },
    {
     "name": "stdout",
     "output_type": "stream",
     "text": [
      "\n",
      "... Writing TFRecord 13 of 14 (1000 per TFRecord)...\n",
      "\n"
     ]
    },
    {
     "data": {
      "application/vnd.jupyter.widget-view+json": {
       "model_id": "b809c5e50a0f415d9eb8534ea92ea2d4",
       "version_major": 2,
       "version_minor": 0
      },
      "text/plain": [
       "  0%|          | 0/1000 [00:00<?, ?it/s]"
      ]
     },
     "metadata": {},
     "output_type": "display_data"
    },
    {
     "name": "stdout",
     "output_type": "stream",
     "text": [
      "\n",
      "... Writing TFRecord 14 of 14 (1000 per TFRecord)...\n",
      "\n"
     ]
    },
    {
     "data": {
      "application/vnd.jupyter.widget-view+json": {
       "model_id": "a43a36bbca21434eb5b728d5f30f1722",
       "version_major": 2,
       "version_minor": 0
      },
      "text/plain": [
       "  0%|          | 0/1000 [00:00<?, ?it/s]"
      ]
     },
     "metadata": {},
     "output_type": "display_data"
    },
    {
     "data": {
      "application/vnd.jupyter.widget-view+json": {
       "model_id": "a77e2251a07745179cc9467195046fda",
       "version_major": 2,
       "version_minor": 0
      },
      "text/plain": [
       "  0%|          | 0/14 [00:00<?, ?it/s]"
      ]
     },
     "metadata": {},
     "output_type": "display_data"
    },
    {
     "name": "stdout",
     "output_type": "stream",
     "text": [
      "\n",
      "... Writing TFRecord 1 of 14 (1000 per TFRecord)...\n",
      "\n"
     ]
    },
    {
     "data": {
      "application/vnd.jupyter.widget-view+json": {
       "model_id": "7b447c7f77594021bb4a3258f1528b7e",
       "version_major": 2,
       "version_minor": 0
      },
      "text/plain": [
       "  0%|          | 0/1000 [00:00<?, ?it/s]"
      ]
     },
     "metadata": {},
     "output_type": "display_data"
    },
    {
     "name": "stdout",
     "output_type": "stream",
     "text": [
      "\n",
      "... Writing TFRecord 2 of 14 (1000 per TFRecord)...\n",
      "\n"
     ]
    },
    {
     "data": {
      "application/vnd.jupyter.widget-view+json": {
       "model_id": "356cc1ec54754e89b126d612727b2a3a",
       "version_major": 2,
       "version_minor": 0
      },
      "text/plain": [
       "  0%|          | 0/1000 [00:00<?, ?it/s]"
      ]
     },
     "metadata": {},
     "output_type": "display_data"
    },
    {
     "name": "stdout",
     "output_type": "stream",
     "text": [
      "\n",
      "... Writing TFRecord 3 of 14 (1000 per TFRecord)...\n",
      "\n"
     ]
    },
    {
     "data": {
      "application/vnd.jupyter.widget-view+json": {
       "model_id": "22c3682267d04b34b8a6f2b190ce40a1",
       "version_major": 2,
       "version_minor": 0
      },
      "text/plain": [
       "  0%|          | 0/1000 [00:00<?, ?it/s]"
      ]
     },
     "metadata": {},
     "output_type": "display_data"
    },
    {
     "name": "stdout",
     "output_type": "stream",
     "text": [
      "\n",
      "... Writing TFRecord 4 of 14 (1000 per TFRecord)...\n",
      "\n"
     ]
    },
    {
     "data": {
      "application/vnd.jupyter.widget-view+json": {
       "model_id": "87a82eee2a7b4e129ec1a67fbf5dc47d",
       "version_major": 2,
       "version_minor": 0
      },
      "text/plain": [
       "  0%|          | 0/1000 [00:00<?, ?it/s]"
      ]
     },
     "metadata": {},
     "output_type": "display_data"
    },
    {
     "name": "stdout",
     "output_type": "stream",
     "text": [
      "\n",
      "... Writing TFRecord 5 of 14 (1000 per TFRecord)...\n",
      "\n"
     ]
    },
    {
     "data": {
      "application/vnd.jupyter.widget-view+json": {
       "model_id": "ab61695e2e6047a6865772aa84680726",
       "version_major": 2,
       "version_minor": 0
      },
      "text/plain": [
       "  0%|          | 0/1000 [00:00<?, ?it/s]"
      ]
     },
     "metadata": {},
     "output_type": "display_data"
    },
    {
     "name": "stdout",
     "output_type": "stream",
     "text": [
      "\n",
      "... Writing TFRecord 6 of 14 (1000 per TFRecord)...\n",
      "\n"
     ]
    },
    {
     "data": {
      "application/vnd.jupyter.widget-view+json": {
       "model_id": "3cfd47ac7624415384874cd46970c6c2",
       "version_major": 2,
       "version_minor": 0
      },
      "text/plain": [
       "  0%|          | 0/1000 [00:00<?, ?it/s]"
      ]
     },
     "metadata": {},
     "output_type": "display_data"
    },
    {
     "name": "stdout",
     "output_type": "stream",
     "text": [
      "\n",
      "... Writing TFRecord 7 of 14 (1000 per TFRecord)...\n",
      "\n"
     ]
    },
    {
     "data": {
      "application/vnd.jupyter.widget-view+json": {
       "model_id": "8303e3863b9d47578383a5d787859530",
       "version_major": 2,
       "version_minor": 0
      },
      "text/plain": [
       "  0%|          | 0/1000 [00:00<?, ?it/s]"
      ]
     },
     "metadata": {},
     "output_type": "display_data"
    },
    {
     "name": "stdout",
     "output_type": "stream",
     "text": [
      "\n",
      "... Writing TFRecord 8 of 14 (1000 per TFRecord)...\n",
      "\n"
     ]
    },
    {
     "data": {
      "application/vnd.jupyter.widget-view+json": {
       "model_id": "bee824b0550e414c81158afc9b82f574",
       "version_major": 2,
       "version_minor": 0
      },
      "text/plain": [
       "  0%|          | 0/1000 [00:00<?, ?it/s]"
      ]
     },
     "metadata": {},
     "output_type": "display_data"
    },
    {
     "name": "stdout",
     "output_type": "stream",
     "text": [
      "\n",
      "... Writing TFRecord 9 of 14 (1000 per TFRecord)...\n",
      "\n"
     ]
    },
    {
     "data": {
      "application/vnd.jupyter.widget-view+json": {
       "model_id": "58b11fe9c24c4c109612cf2534f173e9",
       "version_major": 2,
       "version_minor": 0
      },
      "text/plain": [
       "  0%|          | 0/1000 [00:00<?, ?it/s]"
      ]
     },
     "metadata": {},
     "output_type": "display_data"
    },
    {
     "name": "stdout",
     "output_type": "stream",
     "text": [
      "\n",
      "... Writing TFRecord 10 of 14 (1000 per TFRecord)...\n",
      "\n"
     ]
    },
    {
     "data": {
      "application/vnd.jupyter.widget-view+json": {
       "model_id": "9e8d533846974c97a2d66d1b13b92eb2",
       "version_major": 2,
       "version_minor": 0
      },
      "text/plain": [
       "  0%|          | 0/1000 [00:00<?, ?it/s]"
      ]
     },
     "metadata": {},
     "output_type": "display_data"
    },
    {
     "name": "stdout",
     "output_type": "stream",
     "text": [
      "\n",
      "... Writing TFRecord 11 of 14 (1000 per TFRecord)...\n",
      "\n"
     ]
    },
    {
     "data": {
      "application/vnd.jupyter.widget-view+json": {
       "model_id": "ada2faf332284bf0a8a28d1e0f4f2392",
       "version_major": 2,
       "version_minor": 0
      },
      "text/plain": [
       "  0%|          | 0/1000 [00:00<?, ?it/s]"
      ]
     },
     "metadata": {},
     "output_type": "display_data"
    },
    {
     "name": "stdout",
     "output_type": "stream",
     "text": [
      "\n",
      "... Writing TFRecord 12 of 14 (1000 per TFRecord)...\n",
      "\n"
     ]
    },
    {
     "data": {
      "application/vnd.jupyter.widget-view+json": {
       "model_id": "56d2bac98669483f8d9176b32699da6b",
       "version_major": 2,
       "version_minor": 0
      },
      "text/plain": [
       "  0%|          | 0/1000 [00:00<?, ?it/s]"
      ]
     },
     "metadata": {},
     "output_type": "display_data"
    },
    {
     "name": "stdout",
     "output_type": "stream",
     "text": [
      "\n",
      "... Writing TFRecord 13 of 14 (1000 per TFRecord)...\n",
      "\n"
     ]
    },
    {
     "data": {
      "application/vnd.jupyter.widget-view+json": {
       "model_id": "ef092c27a32c43eea8e71f4229387878",
       "version_major": 2,
       "version_minor": 0
      },
      "text/plain": [
       "  0%|          | 0/1000 [00:00<?, ?it/s]"
      ]
     },
     "metadata": {},
     "output_type": "display_data"
    },
    {
     "name": "stdout",
     "output_type": "stream",
     "text": [
      "\n",
      "... Writing TFRecord 14 of 14 (1000 per TFRecord)...\n",
      "\n"
     ]
    },
    {
     "data": {
      "application/vnd.jupyter.widget-view+json": {
       "model_id": "dda45a1b8dbd4ba1b1824c1b415936c3",
       "version_major": 2,
       "version_minor": 0
      },
      "text/plain": [
       "  0%|          | 0/1000 [00:00<?, ?it/s]"
      ]
     },
     "metadata": {},
     "output_type": "display_data"
    },
    {
     "data": {
      "application/vnd.jupyter.widget-view+json": {
       "model_id": "af76d0ac001f4af4a433801033b9550e",
       "version_major": 2,
       "version_minor": 0
      },
      "text/plain": [
       "  0%|          | 0/8 [00:00<?, ?it/s]"
      ]
     },
     "metadata": {},
     "output_type": "display_data"
    },
    {
     "name": "stdout",
     "output_type": "stream",
     "text": [
      "\n",
      "... Writing TFRecord 1 of 8 (1000 per TFRecord)...\n",
      "\n"
     ]
    },
    {
     "data": {
      "application/vnd.jupyter.widget-view+json": {
       "model_id": "d7d6c4a8c95347bab3eda2740f856fa1",
       "version_major": 2,
       "version_minor": 0
      },
      "text/plain": [
       "  0%|          | 0/1000 [00:00<?, ?it/s]"
      ]
     },
     "metadata": {},
     "output_type": "display_data"
    },
    {
     "name": "stdout",
     "output_type": "stream",
     "text": [
      "\n",
      "... Writing TFRecord 2 of 8 (1000 per TFRecord)...\n",
      "\n"
     ]
    },
    {
     "data": {
      "application/vnd.jupyter.widget-view+json": {
       "model_id": "08e3350172854664bce6dc21eb6581ea",
       "version_major": 2,
       "version_minor": 0
      },
      "text/plain": [
       "  0%|          | 0/1000 [00:00<?, ?it/s]"
      ]
     },
     "metadata": {},
     "output_type": "display_data"
    },
    {
     "name": "stdout",
     "output_type": "stream",
     "text": [
      "\n",
      "... Writing TFRecord 3 of 8 (1000 per TFRecord)...\n",
      "\n"
     ]
    },
    {
     "data": {
      "application/vnd.jupyter.widget-view+json": {
       "model_id": "a57b7961e78842c9a8730536bdb4451c",
       "version_major": 2,
       "version_minor": 0
      },
      "text/plain": [
       "  0%|          | 0/1000 [00:00<?, ?it/s]"
      ]
     },
     "metadata": {},
     "output_type": "display_data"
    },
    {
     "name": "stdout",
     "output_type": "stream",
     "text": [
      "\n",
      "... Writing TFRecord 4 of 8 (1000 per TFRecord)...\n",
      "\n"
     ]
    },
    {
     "data": {
      "application/vnd.jupyter.widget-view+json": {
       "model_id": "179ad435fcf844e583bb0aba22ba29c2",
       "version_major": 2,
       "version_minor": 0
      },
      "text/plain": [
       "  0%|          | 0/1000 [00:00<?, ?it/s]"
      ]
     },
     "metadata": {},
     "output_type": "display_data"
    },
    {
     "name": "stdout",
     "output_type": "stream",
     "text": [
      "\n",
      "... Writing TFRecord 5 of 8 (1000 per TFRecord)...\n",
      "\n"
     ]
    },
    {
     "data": {
      "application/vnd.jupyter.widget-view+json": {
       "model_id": "caf5782d41c8423589e593cc46d0084a",
       "version_major": 2,
       "version_minor": 0
      },
      "text/plain": [
       "  0%|          | 0/1000 [00:00<?, ?it/s]"
      ]
     },
     "metadata": {},
     "output_type": "display_data"
    },
    {
     "name": "stdout",
     "output_type": "stream",
     "text": [
      "\n",
      "... Writing TFRecord 6 of 8 (1000 per TFRecord)...\n",
      "\n"
     ]
    },
    {
     "data": {
      "application/vnd.jupyter.widget-view+json": {
       "model_id": "57a5b05cc6b049ebb2f1a22c0e93e485",
       "version_major": 2,
       "version_minor": 0
      },
      "text/plain": [
       "  0%|          | 0/1000 [00:00<?, ?it/s]"
      ]
     },
     "metadata": {},
     "output_type": "display_data"
    },
    {
     "name": "stdout",
     "output_type": "stream",
     "text": [
      "\n",
      "... Writing TFRecord 7 of 8 (1000 per TFRecord)...\n",
      "\n"
     ]
    },
    {
     "data": {
      "application/vnd.jupyter.widget-view+json": {
       "model_id": "febae1106c01420289f4b7d3b6d535fd",
       "version_major": 2,
       "version_minor": 0
      },
      "text/plain": [
       "  0%|          | 0/1000 [00:00<?, ?it/s]"
      ]
     },
     "metadata": {},
     "output_type": "display_data"
    },
    {
     "name": "stdout",
     "output_type": "stream",
     "text": [
      "\n",
      "... Writing TFRecord 8 of 8 (1000 per TFRecord)...\n",
      "\n"
     ]
    },
    {
     "data": {
      "application/vnd.jupyter.widget-view+json": {
       "model_id": "fabac2a53f95474eade6e5ab55e6d5a4",
       "version_major": 2,
       "version_minor": 0
      },
      "text/plain": [
       "  0%|          | 0/1000 [00:00<?, ?it/s]"
      ]
     },
     "metadata": {},
     "output_type": "display_data"
    },
    {
     "data": {
      "application/vnd.jupyter.widget-view+json": {
       "model_id": "20a139f713f54ff4b12cd3239fa4969f",
       "version_major": 2,
       "version_minor": 0
      },
      "text/plain": [
       "  0%|          | 0/8 [00:00<?, ?it/s]"
      ]
     },
     "metadata": {},
     "output_type": "display_data"
    },
    {
     "name": "stdout",
     "output_type": "stream",
     "text": [
      "\n",
      "... Writing TFRecord 1 of 8 (1000 per TFRecord)...\n",
      "\n"
     ]
    },
    {
     "data": {
      "application/vnd.jupyter.widget-view+json": {
       "model_id": "56f0633893004078bb4a0758b3f01121",
       "version_major": 2,
       "version_minor": 0
      },
      "text/plain": [
       "  0%|          | 0/1000 [00:00<?, ?it/s]"
      ]
     },
     "metadata": {},
     "output_type": "display_data"
    },
    {
     "name": "stdout",
     "output_type": "stream",
     "text": [
      "\n",
      "... Writing TFRecord 2 of 8 (1000 per TFRecord)...\n",
      "\n"
     ]
    },
    {
     "data": {
      "application/vnd.jupyter.widget-view+json": {
       "model_id": "c7c1e4e696274b7f9e0c52a63e4ace78",
       "version_major": 2,
       "version_minor": 0
      },
      "text/plain": [
       "  0%|          | 0/1000 [00:00<?, ?it/s]"
      ]
     },
     "metadata": {},
     "output_type": "display_data"
    },
    {
     "name": "stdout",
     "output_type": "stream",
     "text": [
      "\n",
      "... Writing TFRecord 3 of 8 (1000 per TFRecord)...\n",
      "\n"
     ]
    },
    {
     "data": {
      "application/vnd.jupyter.widget-view+json": {
       "model_id": "7ee683eec3f24a2381c282d840beefc6",
       "version_major": 2,
       "version_minor": 0
      },
      "text/plain": [
       "  0%|          | 0/1000 [00:00<?, ?it/s]"
      ]
     },
     "metadata": {},
     "output_type": "display_data"
    },
    {
     "name": "stdout",
     "output_type": "stream",
     "text": [
      "\n",
      "... Writing TFRecord 4 of 8 (1000 per TFRecord)...\n",
      "\n"
     ]
    },
    {
     "data": {
      "application/vnd.jupyter.widget-view+json": {
       "model_id": "7e7aedcd82c543d3a6908e0fdcad0379",
       "version_major": 2,
       "version_minor": 0
      },
      "text/plain": [
       "  0%|          | 0/1000 [00:00<?, ?it/s]"
      ]
     },
     "metadata": {},
     "output_type": "display_data"
    },
    {
     "name": "stdout",
     "output_type": "stream",
     "text": [
      "\n",
      "... Writing TFRecord 5 of 8 (1000 per TFRecord)...\n",
      "\n"
     ]
    },
    {
     "data": {
      "application/vnd.jupyter.widget-view+json": {
       "model_id": "80a977aa49d2443794d9b135c6c214fd",
       "version_major": 2,
       "version_minor": 0
      },
      "text/plain": [
       "  0%|          | 0/1000 [00:00<?, ?it/s]"
      ]
     },
     "metadata": {},
     "output_type": "display_data"
    },
    {
     "name": "stdout",
     "output_type": "stream",
     "text": [
      "\n",
      "... Writing TFRecord 6 of 8 (1000 per TFRecord)...\n",
      "\n"
     ]
    },
    {
     "data": {
      "application/vnd.jupyter.widget-view+json": {
       "model_id": "449a5a51ccfa46829a28ee9a2e68e68c",
       "version_major": 2,
       "version_minor": 0
      },
      "text/plain": [
       "  0%|          | 0/1000 [00:00<?, ?it/s]"
      ]
     },
     "metadata": {},
     "output_type": "display_data"
    },
    {
     "name": "stdout",
     "output_type": "stream",
     "text": [
      "\n",
      "... Writing TFRecord 7 of 8 (1000 per TFRecord)...\n",
      "\n"
     ]
    },
    {
     "data": {
      "application/vnd.jupyter.widget-view+json": {
       "model_id": "8e35a8d4b79a430d85a135a833e9b5bd",
       "version_major": 2,
       "version_minor": 0
      },
      "text/plain": [
       "  0%|          | 0/1000 [00:00<?, ?it/s]"
      ]
     },
     "metadata": {},
     "output_type": "display_data"
    },
    {
     "name": "stdout",
     "output_type": "stream",
     "text": [
      "\n",
      "... Writing TFRecord 8 of 8 (1000 per TFRecord)...\n",
      "\n"
     ]
    },
    {
     "data": {
      "application/vnd.jupyter.widget-view+json": {
       "model_id": "dd09f20d7c374ab883daa0dc57ce6c58",
       "version_major": 2,
       "version_minor": 0
      },
      "text/plain": [
       "  0%|          | 0/1000 [00:00<?, ?it/s]"
      ]
     },
     "metadata": {},
     "output_type": "display_data"
    },
    {
     "data": {
      "application/vnd.jupyter.widget-view+json": {
       "model_id": "1df679beeb014794be1a0b9005a920a3",
       "version_major": 2,
       "version_minor": 0
      },
      "text/plain": [
       "  0%|          | 0/14 [00:00<?, ?it/s]"
      ]
     },
     "metadata": {},
     "output_type": "display_data"
    },
    {
     "name": "stdout",
     "output_type": "stream",
     "text": [
      "\n",
      "... Writing TFRecord 1 of 14 (1000 per TFRecord)...\n",
      "\n"
     ]
    },
    {
     "data": {
      "application/vnd.jupyter.widget-view+json": {
       "model_id": "8719ae6c42954970b668f9ae0527f0f2",
       "version_major": 2,
       "version_minor": 0
      },
      "text/plain": [
       "  0%|          | 0/1000 [00:00<?, ?it/s]"
      ]
     },
     "metadata": {},
     "output_type": "display_data"
    },
    {
     "name": "stdout",
     "output_type": "stream",
     "text": [
      "\n",
      "... Writing TFRecord 2 of 14 (1000 per TFRecord)...\n",
      "\n"
     ]
    },
    {
     "data": {
      "application/vnd.jupyter.widget-view+json": {
       "model_id": "21ff52ca1f31428e964aaf06c097e054",
       "version_major": 2,
       "version_minor": 0
      },
      "text/plain": [
       "  0%|          | 0/1000 [00:00<?, ?it/s]"
      ]
     },
     "metadata": {},
     "output_type": "display_data"
    },
    {
     "name": "stdout",
     "output_type": "stream",
     "text": [
      "\n",
      "... Writing TFRecord 3 of 14 (1000 per TFRecord)...\n",
      "\n"
     ]
    },
    {
     "data": {
      "application/vnd.jupyter.widget-view+json": {
       "model_id": "84b7112e726c4c7e9d225dca04e5ec27",
       "version_major": 2,
       "version_minor": 0
      },
      "text/plain": [
       "  0%|          | 0/1000 [00:00<?, ?it/s]"
      ]
     },
     "metadata": {},
     "output_type": "display_data"
    },
    {
     "name": "stdout",
     "output_type": "stream",
     "text": [
      "\n",
      "... Writing TFRecord 4 of 14 (1000 per TFRecord)...\n",
      "\n"
     ]
    },
    {
     "data": {
      "application/vnd.jupyter.widget-view+json": {
       "model_id": "cb56961387754432814862c58369f15e",
       "version_major": 2,
       "version_minor": 0
      },
      "text/plain": [
       "  0%|          | 0/1000 [00:00<?, ?it/s]"
      ]
     },
     "metadata": {},
     "output_type": "display_data"
    },
    {
     "name": "stdout",
     "output_type": "stream",
     "text": [
      "\n",
      "... Writing TFRecord 5 of 14 (1000 per TFRecord)...\n",
      "\n"
     ]
    },
    {
     "data": {
      "application/vnd.jupyter.widget-view+json": {
       "model_id": "8ee046cd40514ec795c815095a761989",
       "version_major": 2,
       "version_minor": 0
      },
      "text/plain": [
       "  0%|          | 0/1000 [00:00<?, ?it/s]"
      ]
     },
     "metadata": {},
     "output_type": "display_data"
    },
    {
     "name": "stdout",
     "output_type": "stream",
     "text": [
      "\n",
      "... Writing TFRecord 6 of 14 (1000 per TFRecord)...\n",
      "\n"
     ]
    },
    {
     "data": {
      "application/vnd.jupyter.widget-view+json": {
       "model_id": "c727f18dabc84e90aeaf1e25f5a0bfff",
       "version_major": 2,
       "version_minor": 0
      },
      "text/plain": [
       "  0%|          | 0/1000 [00:00<?, ?it/s]"
      ]
     },
     "metadata": {},
     "output_type": "display_data"
    },
    {
     "name": "stdout",
     "output_type": "stream",
     "text": [
      "\n",
      "... Writing TFRecord 7 of 14 (1000 per TFRecord)...\n",
      "\n"
     ]
    },
    {
     "data": {
      "application/vnd.jupyter.widget-view+json": {
       "model_id": "d6c554a0b7d54cdfb0170442fc06e0e0",
       "version_major": 2,
       "version_minor": 0
      },
      "text/plain": [
       "  0%|          | 0/1000 [00:00<?, ?it/s]"
      ]
     },
     "metadata": {},
     "output_type": "display_data"
    },
    {
     "name": "stdout",
     "output_type": "stream",
     "text": [
      "\n",
      "... Writing TFRecord 8 of 14 (1000 per TFRecord)...\n",
      "\n"
     ]
    },
    {
     "data": {
      "application/vnd.jupyter.widget-view+json": {
       "model_id": "159eba55bd074c93867da936199b58c7",
       "version_major": 2,
       "version_minor": 0
      },
      "text/plain": [
       "  0%|          | 0/1000 [00:00<?, ?it/s]"
      ]
     },
     "metadata": {},
     "output_type": "display_data"
    },
    {
     "name": "stdout",
     "output_type": "stream",
     "text": [
      "\n",
      "... Writing TFRecord 9 of 14 (1000 per TFRecord)...\n",
      "\n"
     ]
    },
    {
     "data": {
      "application/vnd.jupyter.widget-view+json": {
       "model_id": "41bd441465e149eb8f5758cc83dc5981",
       "version_major": 2,
       "version_minor": 0
      },
      "text/plain": [
       "  0%|          | 0/1000 [00:00<?, ?it/s]"
      ]
     },
     "metadata": {},
     "output_type": "display_data"
    },
    {
     "name": "stdout",
     "output_type": "stream",
     "text": [
      "\n",
      "... Writing TFRecord 10 of 14 (1000 per TFRecord)...\n",
      "\n"
     ]
    },
    {
     "data": {
      "application/vnd.jupyter.widget-view+json": {
       "model_id": "7482153aff2c445fad34c6339abed1d1",
       "version_major": 2,
       "version_minor": 0
      },
      "text/plain": [
       "  0%|          | 0/1000 [00:00<?, ?it/s]"
      ]
     },
     "metadata": {},
     "output_type": "display_data"
    },
    {
     "name": "stdout",
     "output_type": "stream",
     "text": [
      "\n",
      "... Writing TFRecord 11 of 14 (1000 per TFRecord)...\n",
      "\n"
     ]
    },
    {
     "data": {
      "application/vnd.jupyter.widget-view+json": {
       "model_id": "c391fc4935964caf92ecba00a933c3b9",
       "version_major": 2,
       "version_minor": 0
      },
      "text/plain": [
       "  0%|          | 0/1000 [00:00<?, ?it/s]"
      ]
     },
     "metadata": {},
     "output_type": "display_data"
    },
    {
     "name": "stdout",
     "output_type": "stream",
     "text": [
      "\n",
      "... Writing TFRecord 12 of 14 (1000 per TFRecord)...\n",
      "\n"
     ]
    },
    {
     "data": {
      "application/vnd.jupyter.widget-view+json": {
       "model_id": "15e4f47bf9e74e32a2913ff69082c7a2",
       "version_major": 2,
       "version_minor": 0
      },
      "text/plain": [
       "  0%|          | 0/1000 [00:00<?, ?it/s]"
      ]
     },
     "metadata": {},
     "output_type": "display_data"
    },
    {
     "name": "stdout",
     "output_type": "stream",
     "text": [
      "\n",
      "... Writing TFRecord 13 of 14 (1000 per TFRecord)...\n",
      "\n"
     ]
    },
    {
     "data": {
      "application/vnd.jupyter.widget-view+json": {
       "model_id": "b7882ce6a78344f895c03c10f9188bc2",
       "version_major": 2,
       "version_minor": 0
      },
      "text/plain": [
       "  0%|          | 0/1000 [00:00<?, ?it/s]"
      ]
     },
     "metadata": {},
     "output_type": "display_data"
    },
    {
     "name": "stdout",
     "output_type": "stream",
     "text": [
      "\n",
      "... Writing TFRecord 14 of 14 (1000 per TFRecord)...\n",
      "\n"
     ]
    },
    {
     "data": {
      "application/vnd.jupyter.widget-view+json": {
       "model_id": "db8feb39a82b48b3830313a215aaa136",
       "version_major": 2,
       "version_minor": 0
      },
      "text/plain": [
       "  0%|          | 0/1000 [00:00<?, ?it/s]"
      ]
     },
     "metadata": {},
     "output_type": "display_data"
    },
    {
     "data": {
      "application/vnd.jupyter.widget-view+json": {
       "model_id": "05595e50c6174025a7c3e7cc3276a444",
       "version_major": 2,
       "version_minor": 0
      },
      "text/plain": [
       "  0%|          | 0/14 [00:00<?, ?it/s]"
      ]
     },
     "metadata": {},
     "output_type": "display_data"
    },
    {
     "name": "stdout",
     "output_type": "stream",
     "text": [
      "\n",
      "... Writing TFRecord 1 of 14 (1000 per TFRecord)...\n",
      "\n"
     ]
    },
    {
     "data": {
      "application/vnd.jupyter.widget-view+json": {
       "model_id": "6bc9537952a04dd3b4caf2a8d9902259",
       "version_major": 2,
       "version_minor": 0
      },
      "text/plain": [
       "  0%|          | 0/1000 [00:00<?, ?it/s]"
      ]
     },
     "metadata": {},
     "output_type": "display_data"
    },
    {
     "name": "stdout",
     "output_type": "stream",
     "text": [
      "\n",
      "... Writing TFRecord 2 of 14 (1000 per TFRecord)...\n",
      "\n"
     ]
    },
    {
     "data": {
      "application/vnd.jupyter.widget-view+json": {
       "model_id": "8b679527b8a441e5b104b094b9396ec1",
       "version_major": 2,
       "version_minor": 0
      },
      "text/plain": [
       "  0%|          | 0/1000 [00:00<?, ?it/s]"
      ]
     },
     "metadata": {},
     "output_type": "display_data"
    },
    {
     "name": "stdout",
     "output_type": "stream",
     "text": [
      "\n",
      "... Writing TFRecord 3 of 14 (1000 per TFRecord)...\n",
      "\n"
     ]
    },
    {
     "data": {
      "application/vnd.jupyter.widget-view+json": {
       "model_id": "6c40269d43b744c9a3f254837a578c55",
       "version_major": 2,
       "version_minor": 0
      },
      "text/plain": [
       "  0%|          | 0/1000 [00:00<?, ?it/s]"
      ]
     },
     "metadata": {},
     "output_type": "display_data"
    },
    {
     "name": "stdout",
     "output_type": "stream",
     "text": [
      "\n",
      "... Writing TFRecord 4 of 14 (1000 per TFRecord)...\n",
      "\n"
     ]
    },
    {
     "data": {
      "application/vnd.jupyter.widget-view+json": {
       "model_id": "29f3be9604b248d29c8bb431a879394d",
       "version_major": 2,
       "version_minor": 0
      },
      "text/plain": [
       "  0%|          | 0/1000 [00:00<?, ?it/s]"
      ]
     },
     "metadata": {},
     "output_type": "display_data"
    },
    {
     "name": "stdout",
     "output_type": "stream",
     "text": [
      "\n",
      "... Writing TFRecord 5 of 14 (1000 per TFRecord)...\n",
      "\n"
     ]
    },
    {
     "data": {
      "application/vnd.jupyter.widget-view+json": {
       "model_id": "c257a776b4eb44dfb6c765d8ed370ee3",
       "version_major": 2,
       "version_minor": 0
      },
      "text/plain": [
       "  0%|          | 0/1000 [00:00<?, ?it/s]"
      ]
     },
     "metadata": {},
     "output_type": "display_data"
    },
    {
     "name": "stdout",
     "output_type": "stream",
     "text": [
      "\n",
      "... Writing TFRecord 6 of 14 (1000 per TFRecord)...\n",
      "\n"
     ]
    },
    {
     "data": {
      "application/vnd.jupyter.widget-view+json": {
       "model_id": "d6a9726b30154efea72b063ebfd91cfd",
       "version_major": 2,
       "version_minor": 0
      },
      "text/plain": [
       "  0%|          | 0/1000 [00:00<?, ?it/s]"
      ]
     },
     "metadata": {},
     "output_type": "display_data"
    },
    {
     "name": "stdout",
     "output_type": "stream",
     "text": [
      "\n",
      "... Writing TFRecord 7 of 14 (1000 per TFRecord)...\n",
      "\n"
     ]
    },
    {
     "data": {
      "application/vnd.jupyter.widget-view+json": {
       "model_id": "ccba298b3b744667b0e55388ad516c18",
       "version_major": 2,
       "version_minor": 0
      },
      "text/plain": [
       "  0%|          | 0/1000 [00:00<?, ?it/s]"
      ]
     },
     "metadata": {},
     "output_type": "display_data"
    },
    {
     "name": "stdout",
     "output_type": "stream",
     "text": [
      "\n",
      "... Writing TFRecord 8 of 14 (1000 per TFRecord)...\n",
      "\n"
     ]
    },
    {
     "data": {
      "application/vnd.jupyter.widget-view+json": {
       "model_id": "cdfb9407fbc546cc8f9e0fb1231eb0d2",
       "version_major": 2,
       "version_minor": 0
      },
      "text/plain": [
       "  0%|          | 0/1000 [00:00<?, ?it/s]"
      ]
     },
     "metadata": {},
     "output_type": "display_data"
    },
    {
     "name": "stdout",
     "output_type": "stream",
     "text": [
      "\n",
      "... Writing TFRecord 9 of 14 (1000 per TFRecord)...\n",
      "\n"
     ]
    },
    {
     "data": {
      "application/vnd.jupyter.widget-view+json": {
       "model_id": "48e89be883de48ee991c2ca2ff7a798d",
       "version_major": 2,
       "version_minor": 0
      },
      "text/plain": [
       "  0%|          | 0/1000 [00:00<?, ?it/s]"
      ]
     },
     "metadata": {},
     "output_type": "display_data"
    },
    {
     "name": "stdout",
     "output_type": "stream",
     "text": [
      "\n",
      "... Writing TFRecord 10 of 14 (1000 per TFRecord)...\n",
      "\n"
     ]
    },
    {
     "data": {
      "application/vnd.jupyter.widget-view+json": {
       "model_id": "12d8245f9de243fb9890018583e61bff",
       "version_major": 2,
       "version_minor": 0
      },
      "text/plain": [
       "  0%|          | 0/1000 [00:00<?, ?it/s]"
      ]
     },
     "metadata": {},
     "output_type": "display_data"
    },
    {
     "name": "stdout",
     "output_type": "stream",
     "text": [
      "\n",
      "... Writing TFRecord 11 of 14 (1000 per TFRecord)...\n",
      "\n"
     ]
    },
    {
     "data": {
      "application/vnd.jupyter.widget-view+json": {
       "model_id": "1ce2e11d0b24495580c26e8d20f5ddf8",
       "version_major": 2,
       "version_minor": 0
      },
      "text/plain": [
       "  0%|          | 0/1000 [00:00<?, ?it/s]"
      ]
     },
     "metadata": {},
     "output_type": "display_data"
    },
    {
     "name": "stdout",
     "output_type": "stream",
     "text": [
      "\n",
      "... Writing TFRecord 12 of 14 (1000 per TFRecord)...\n",
      "\n"
     ]
    },
    {
     "data": {
      "application/vnd.jupyter.widget-view+json": {
       "model_id": "4b01b37de0634d1997ce0191b1c4e0b1",
       "version_major": 2,
       "version_minor": 0
      },
      "text/plain": [
       "  0%|          | 0/1000 [00:00<?, ?it/s]"
      ]
     },
     "metadata": {},
     "output_type": "display_data"
    },
    {
     "name": "stdout",
     "output_type": "stream",
     "text": [
      "\n",
      "... Writing TFRecord 13 of 14 (1000 per TFRecord)...\n",
      "\n"
     ]
    },
    {
     "data": {
      "application/vnd.jupyter.widget-view+json": {
       "model_id": "3958be5f9c0c47d5a0ba9c0adb02edd2",
       "version_major": 2,
       "version_minor": 0
      },
      "text/plain": [
       "  0%|          | 0/1000 [00:00<?, ?it/s]"
      ]
     },
     "metadata": {},
     "output_type": "display_data"
    },
    {
     "name": "stdout",
     "output_type": "stream",
     "text": [
      "\n",
      "... Writing TFRecord 14 of 14 (1000 per TFRecord)...\n",
      "\n"
     ]
    },
    {
     "data": {
      "application/vnd.jupyter.widget-view+json": {
       "model_id": "aee125d6c4c34255abaab41fcac00467",
       "version_major": 2,
       "version_minor": 0
      },
      "text/plain": [
       "  0%|          | 0/1000 [00:00<?, ?it/s]"
      ]
     },
     "metadata": {},
     "output_type": "display_data"
    },
    {
     "data": {
      "application/vnd.jupyter.widget-view+json": {
       "model_id": "851d5a43c0694eb6955bf33f03a353bf",
       "version_major": 2,
       "version_minor": 0
      },
      "text/plain": [
       "  0%|          | 0/8 [00:00<?, ?it/s]"
      ]
     },
     "metadata": {},
     "output_type": "display_data"
    },
    {
     "name": "stdout",
     "output_type": "stream",
     "text": [
      "\n",
      "... Writing TFRecord 1 of 8 (1000 per TFRecord)...\n",
      "\n"
     ]
    },
    {
     "data": {
      "application/vnd.jupyter.widget-view+json": {
       "model_id": "9216d8c696da44bda9ac35083a1aa345",
       "version_major": 2,
       "version_minor": 0
      },
      "text/plain": [
       "  0%|          | 0/1000 [00:00<?, ?it/s]"
      ]
     },
     "metadata": {},
     "output_type": "display_data"
    },
    {
     "name": "stdout",
     "output_type": "stream",
     "text": [
      "\n",
      "... Writing TFRecord 2 of 8 (1000 per TFRecord)...\n",
      "\n"
     ]
    },
    {
     "data": {
      "application/vnd.jupyter.widget-view+json": {
       "model_id": "b9f434755ab044e48234e8f620ba18a3",
       "version_major": 2,
       "version_minor": 0
      },
      "text/plain": [
       "  0%|          | 0/1000 [00:00<?, ?it/s]"
      ]
     },
     "metadata": {},
     "output_type": "display_data"
    },
    {
     "name": "stdout",
     "output_type": "stream",
     "text": [
      "\n",
      "... Writing TFRecord 3 of 8 (1000 per TFRecord)...\n",
      "\n"
     ]
    },
    {
     "data": {
      "application/vnd.jupyter.widget-view+json": {
       "model_id": "80b9d3a6fc62498185922871ae72912b",
       "version_major": 2,
       "version_minor": 0
      },
      "text/plain": [
       "  0%|          | 0/1000 [00:00<?, ?it/s]"
      ]
     },
     "metadata": {},
     "output_type": "display_data"
    },
    {
     "name": "stdout",
     "output_type": "stream",
     "text": [
      "\n",
      "... Writing TFRecord 4 of 8 (1000 per TFRecord)...\n",
      "\n"
     ]
    },
    {
     "data": {
      "application/vnd.jupyter.widget-view+json": {
       "model_id": "22159ba4e6044ff2bffd7e994b4ae517",
       "version_major": 2,
       "version_minor": 0
      },
      "text/plain": [
       "  0%|          | 0/1000 [00:00<?, ?it/s]"
      ]
     },
     "metadata": {},
     "output_type": "display_data"
    },
    {
     "name": "stdout",
     "output_type": "stream",
     "text": [
      "\n",
      "... Writing TFRecord 5 of 8 (1000 per TFRecord)...\n",
      "\n"
     ]
    },
    {
     "data": {
      "application/vnd.jupyter.widget-view+json": {
       "model_id": "18ab471925ff4eeb99fddf83bd8047bb",
       "version_major": 2,
       "version_minor": 0
      },
      "text/plain": [
       "  0%|          | 0/1000 [00:00<?, ?it/s]"
      ]
     },
     "metadata": {},
     "output_type": "display_data"
    },
    {
     "name": "stdout",
     "output_type": "stream",
     "text": [
      "\n",
      "... Writing TFRecord 6 of 8 (1000 per TFRecord)...\n",
      "\n"
     ]
    },
    {
     "data": {
      "application/vnd.jupyter.widget-view+json": {
       "model_id": "517de50fef654aa4bd43b3ec0d3d3051",
       "version_major": 2,
       "version_minor": 0
      },
      "text/plain": [
       "  0%|          | 0/1000 [00:00<?, ?it/s]"
      ]
     },
     "metadata": {},
     "output_type": "display_data"
    },
    {
     "name": "stdout",
     "output_type": "stream",
     "text": [
      "\n",
      "... Writing TFRecord 7 of 8 (1000 per TFRecord)...\n",
      "\n"
     ]
    },
    {
     "data": {
      "application/vnd.jupyter.widget-view+json": {
       "model_id": "201a2d2c8ef743b98ebbac088aef4549",
       "version_major": 2,
       "version_minor": 0
      },
      "text/plain": [
       "  0%|          | 0/1000 [00:00<?, ?it/s]"
      ]
     },
     "metadata": {},
     "output_type": "display_data"
    },
    {
     "name": "stdout",
     "output_type": "stream",
     "text": [
      "\n",
      "... Writing TFRecord 8 of 8 (1000 per TFRecord)...\n",
      "\n"
     ]
    },
    {
     "data": {
      "application/vnd.jupyter.widget-view+json": {
       "model_id": "38499951f6d143fc980610a19990d7f6",
       "version_major": 2,
       "version_minor": 0
      },
      "text/plain": [
       "  0%|          | 0/1000 [00:00<?, ?it/s]"
      ]
     },
     "metadata": {},
     "output_type": "display_data"
    },
    {
     "data": {
      "application/vnd.jupyter.widget-view+json": {
       "model_id": "068ec0497b5b426e91f9ff101514594a",
       "version_major": 2,
       "version_minor": 0
      },
      "text/plain": [
       "  0%|          | 0/8 [00:00<?, ?it/s]"
      ]
     },
     "metadata": {},
     "output_type": "display_data"
    },
    {
     "name": "stdout",
     "output_type": "stream",
     "text": [
      "\n",
      "... Writing TFRecord 1 of 8 (1000 per TFRecord)...\n",
      "\n"
     ]
    },
    {
     "data": {
      "application/vnd.jupyter.widget-view+json": {
       "model_id": "9d96572730314c24870ebe1639e72891",
       "version_major": 2,
       "version_minor": 0
      },
      "text/plain": [
       "  0%|          | 0/1000 [00:00<?, ?it/s]"
      ]
     },
     "metadata": {},
     "output_type": "display_data"
    },
    {
     "name": "stdout",
     "output_type": "stream",
     "text": [
      "\n",
      "... Writing TFRecord 2 of 8 (1000 per TFRecord)...\n",
      "\n"
     ]
    },
    {
     "data": {
      "application/vnd.jupyter.widget-view+json": {
       "model_id": "e8bc36000b114423a799d4ce014acf91",
       "version_major": 2,
       "version_minor": 0
      },
      "text/plain": [
       "  0%|          | 0/1000 [00:00<?, ?it/s]"
      ]
     },
     "metadata": {},
     "output_type": "display_data"
    },
    {
     "name": "stdout",
     "output_type": "stream",
     "text": [
      "\n",
      "... Writing TFRecord 3 of 8 (1000 per TFRecord)...\n",
      "\n"
     ]
    },
    {
     "data": {
      "application/vnd.jupyter.widget-view+json": {
       "model_id": "90b4905499f34c239769fb62659213dc",
       "version_major": 2,
       "version_minor": 0
      },
      "text/plain": [
       "  0%|          | 0/1000 [00:00<?, ?it/s]"
      ]
     },
     "metadata": {},
     "output_type": "display_data"
    },
    {
     "name": "stdout",
     "output_type": "stream",
     "text": [
      "\n",
      "... Writing TFRecord 4 of 8 (1000 per TFRecord)...\n",
      "\n"
     ]
    },
    {
     "data": {
      "application/vnd.jupyter.widget-view+json": {
       "model_id": "10b0e41447774aa1be9020a64dbe5d0c",
       "version_major": 2,
       "version_minor": 0
      },
      "text/plain": [
       "  0%|          | 0/1000 [00:00<?, ?it/s]"
      ]
     },
     "metadata": {},
     "output_type": "display_data"
    },
    {
     "name": "stdout",
     "output_type": "stream",
     "text": [
      "\n",
      "... Writing TFRecord 5 of 8 (1000 per TFRecord)...\n",
      "\n"
     ]
    },
    {
     "data": {
      "application/vnd.jupyter.widget-view+json": {
       "model_id": "60686a5807da404b9842e3ea20589210",
       "version_major": 2,
       "version_minor": 0
      },
      "text/plain": [
       "  0%|          | 0/1000 [00:00<?, ?it/s]"
      ]
     },
     "metadata": {},
     "output_type": "display_data"
    },
    {
     "name": "stdout",
     "output_type": "stream",
     "text": [
      "\n",
      "... Writing TFRecord 6 of 8 (1000 per TFRecord)...\n",
      "\n"
     ]
    },
    {
     "data": {
      "application/vnd.jupyter.widget-view+json": {
       "model_id": "fe1c981ae28346d0a7266beb4044139e",
       "version_major": 2,
       "version_minor": 0
      },
      "text/plain": [
       "  0%|          | 0/1000 [00:00<?, ?it/s]"
      ]
     },
     "metadata": {},
     "output_type": "display_data"
    },
    {
     "name": "stdout",
     "output_type": "stream",
     "text": [
      "\n",
      "... Writing TFRecord 7 of 8 (1000 per TFRecord)...\n",
      "\n"
     ]
    },
    {
     "data": {
      "application/vnd.jupyter.widget-view+json": {
       "model_id": "db7b4b2f566d4dd2bbbff958dffa01c6",
       "version_major": 2,
       "version_minor": 0
      },
      "text/plain": [
       "  0%|          | 0/1000 [00:00<?, ?it/s]"
      ]
     },
     "metadata": {},
     "output_type": "display_data"
    },
    {
     "name": "stdout",
     "output_type": "stream",
     "text": [
      "\n",
      "... Writing TFRecord 8 of 8 (1000 per TFRecord)...\n",
      "\n"
     ]
    },
    {
     "data": {
      "application/vnd.jupyter.widget-view+json": {
       "model_id": "6acaebaea55745489844cfed22aadee2",
       "version_major": 2,
       "version_minor": 0
      },
      "text/plain": [
       "  0%|          | 0/1000 [00:00<?, ?it/s]"
      ]
     },
     "metadata": {},
     "output_type": "display_data"
    },
    {
     "data": {
      "application/vnd.jupyter.widget-view+json": {
       "model_id": "8c5b0f907732428a9e832f98f926fbd6",
       "version_major": 2,
       "version_minor": 0
      },
      "text/plain": [
       "  0%|          | 0/14 [00:00<?, ?it/s]"
      ]
     },
     "metadata": {},
     "output_type": "display_data"
    },
    {
     "name": "stdout",
     "output_type": "stream",
     "text": [
      "\n",
      "... Writing TFRecord 1 of 14 (1000 per TFRecord)...\n",
      "\n"
     ]
    },
    {
     "data": {
      "application/vnd.jupyter.widget-view+json": {
       "model_id": "5af27e126bed4a46ab86a597e4e041af",
       "version_major": 2,
       "version_minor": 0
      },
      "text/plain": [
       "  0%|          | 0/1000 [00:00<?, ?it/s]"
      ]
     },
     "metadata": {},
     "output_type": "display_data"
    },
    {
     "name": "stdout",
     "output_type": "stream",
     "text": [
      "\n",
      "... Writing TFRecord 2 of 14 (1000 per TFRecord)...\n",
      "\n"
     ]
    },
    {
     "data": {
      "application/vnd.jupyter.widget-view+json": {
       "model_id": "06e6fc04854f4455a66b7707cef6f16e",
       "version_major": 2,
       "version_minor": 0
      },
      "text/plain": [
       "  0%|          | 0/1000 [00:00<?, ?it/s]"
      ]
     },
     "metadata": {},
     "output_type": "display_data"
    },
    {
     "name": "stdout",
     "output_type": "stream",
     "text": [
      "\n",
      "... Writing TFRecord 3 of 14 (1000 per TFRecord)...\n",
      "\n"
     ]
    },
    {
     "data": {
      "application/vnd.jupyter.widget-view+json": {
       "model_id": "1aa8a1ae2cda4bc493ae612e81b66da5",
       "version_major": 2,
       "version_minor": 0
      },
      "text/plain": [
       "  0%|          | 0/1000 [00:00<?, ?it/s]"
      ]
     },
     "metadata": {},
     "output_type": "display_data"
    },
    {
     "name": "stdout",
     "output_type": "stream",
     "text": [
      "\n",
      "... Writing TFRecord 4 of 14 (1000 per TFRecord)...\n",
      "\n"
     ]
    },
    {
     "data": {
      "application/vnd.jupyter.widget-view+json": {
       "model_id": "64325e113f9a451fb0df612363b3e6b3",
       "version_major": 2,
       "version_minor": 0
      },
      "text/plain": [
       "  0%|          | 0/1000 [00:00<?, ?it/s]"
      ]
     },
     "metadata": {},
     "output_type": "display_data"
    },
    {
     "name": "stdout",
     "output_type": "stream",
     "text": [
      "\n",
      "... Writing TFRecord 5 of 14 (1000 per TFRecord)...\n",
      "\n"
     ]
    },
    {
     "data": {
      "application/vnd.jupyter.widget-view+json": {
       "model_id": "562a645392454d21b0b27e207a216017",
       "version_major": 2,
       "version_minor": 0
      },
      "text/plain": [
       "  0%|          | 0/1000 [00:00<?, ?it/s]"
      ]
     },
     "metadata": {},
     "output_type": "display_data"
    },
    {
     "name": "stdout",
     "output_type": "stream",
     "text": [
      "\n",
      "... Writing TFRecord 6 of 14 (1000 per TFRecord)...\n",
      "\n"
     ]
    },
    {
     "data": {
      "application/vnd.jupyter.widget-view+json": {
       "model_id": "9fe566bcc1404346810797791f13a5d8",
       "version_major": 2,
       "version_minor": 0
      },
      "text/plain": [
       "  0%|          | 0/1000 [00:00<?, ?it/s]"
      ]
     },
     "metadata": {},
     "output_type": "display_data"
    },
    {
     "name": "stdout",
     "output_type": "stream",
     "text": [
      "\n",
      "... Writing TFRecord 7 of 14 (1000 per TFRecord)...\n",
      "\n"
     ]
    },
    {
     "data": {
      "application/vnd.jupyter.widget-view+json": {
       "model_id": "298e5159f8ab4be4967361a778147b60",
       "version_major": 2,
       "version_minor": 0
      },
      "text/plain": [
       "  0%|          | 0/1000 [00:00<?, ?it/s]"
      ]
     },
     "metadata": {},
     "output_type": "display_data"
    },
    {
     "name": "stdout",
     "output_type": "stream",
     "text": [
      "\n",
      "... Writing TFRecord 8 of 14 (1000 per TFRecord)...\n",
      "\n"
     ]
    },
    {
     "data": {
      "application/vnd.jupyter.widget-view+json": {
       "model_id": "f1a387e0a68f41b491e2d50af8fb37b9",
       "version_major": 2,
       "version_minor": 0
      },
      "text/plain": [
       "  0%|          | 0/1000 [00:00<?, ?it/s]"
      ]
     },
     "metadata": {},
     "output_type": "display_data"
    },
    {
     "name": "stdout",
     "output_type": "stream",
     "text": [
      "\n",
      "... Writing TFRecord 9 of 14 (1000 per TFRecord)...\n",
      "\n"
     ]
    },
    {
     "data": {
      "application/vnd.jupyter.widget-view+json": {
       "model_id": "73de87d972dd485d8d1700469440fdf9",
       "version_major": 2,
       "version_minor": 0
      },
      "text/plain": [
       "  0%|          | 0/1000 [00:00<?, ?it/s]"
      ]
     },
     "metadata": {},
     "output_type": "display_data"
    },
    {
     "name": "stdout",
     "output_type": "stream",
     "text": [
      "\n",
      "... Writing TFRecord 10 of 14 (1000 per TFRecord)...\n",
      "\n"
     ]
    },
    {
     "data": {
      "application/vnd.jupyter.widget-view+json": {
       "model_id": "6d7d1800bf9746cea1c5ef7c6c9d3aaf",
       "version_major": 2,
       "version_minor": 0
      },
      "text/plain": [
       "  0%|          | 0/1000 [00:00<?, ?it/s]"
      ]
     },
     "metadata": {},
     "output_type": "display_data"
    },
    {
     "name": "stdout",
     "output_type": "stream",
     "text": [
      "\n",
      "... Writing TFRecord 11 of 14 (1000 per TFRecord)...\n",
      "\n"
     ]
    },
    {
     "data": {
      "application/vnd.jupyter.widget-view+json": {
       "model_id": "69399815daa547e88d5be727e9f86ab7",
       "version_major": 2,
       "version_minor": 0
      },
      "text/plain": [
       "  0%|          | 0/1000 [00:00<?, ?it/s]"
      ]
     },
     "metadata": {},
     "output_type": "display_data"
    },
    {
     "name": "stdout",
     "output_type": "stream",
     "text": [
      "\n",
      "... Writing TFRecord 12 of 14 (1000 per TFRecord)...\n",
      "\n"
     ]
    },
    {
     "data": {
      "application/vnd.jupyter.widget-view+json": {
       "model_id": "dbea9ce06e37479fbf8c7598811510de",
       "version_major": 2,
       "version_minor": 0
      },
      "text/plain": [
       "  0%|          | 0/1000 [00:00<?, ?it/s]"
      ]
     },
     "metadata": {},
     "output_type": "display_data"
    },
    {
     "name": "stdout",
     "output_type": "stream",
     "text": [
      "\n",
      "... Writing TFRecord 13 of 14 (1000 per TFRecord)...\n",
      "\n"
     ]
    },
    {
     "data": {
      "application/vnd.jupyter.widget-view+json": {
       "model_id": "71230233dcbf4190803b2b5199a3b6d1",
       "version_major": 2,
       "version_minor": 0
      },
      "text/plain": [
       "  0%|          | 0/1000 [00:00<?, ?it/s]"
      ]
     },
     "metadata": {},
     "output_type": "display_data"
    },
    {
     "name": "stdout",
     "output_type": "stream",
     "text": [
      "\n",
      "... Writing TFRecord 14 of 14 (1000 per TFRecord)...\n",
      "\n"
     ]
    },
    {
     "data": {
      "application/vnd.jupyter.widget-view+json": {
       "model_id": "38834e2373bf4edaaa32948c9dda64cc",
       "version_major": 2,
       "version_minor": 0
      },
      "text/plain": [
       "  0%|          | 0/1000 [00:00<?, ?it/s]"
      ]
     },
     "metadata": {},
     "output_type": "display_data"
    },
    {
     "data": {
      "application/vnd.jupyter.widget-view+json": {
       "model_id": "ff9ba06ee42e4cf6aa2b0a85efb9c75b",
       "version_major": 2,
       "version_minor": 0
      },
      "text/plain": [
       "  0%|          | 0/14 [00:00<?, ?it/s]"
      ]
     },
     "metadata": {},
     "output_type": "display_data"
    },
    {
     "name": "stdout",
     "output_type": "stream",
     "text": [
      "\n",
      "... Writing TFRecord 1 of 14 (1000 per TFRecord)...\n",
      "\n"
     ]
    },
    {
     "data": {
      "application/vnd.jupyter.widget-view+json": {
       "model_id": "01b7d66257c747039fb6437a6bdad270",
       "version_major": 2,
       "version_minor": 0
      },
      "text/plain": [
       "  0%|          | 0/1000 [00:00<?, ?it/s]"
      ]
     },
     "metadata": {},
     "output_type": "display_data"
    },
    {
     "name": "stdout",
     "output_type": "stream",
     "text": [
      "\n",
      "... Writing TFRecord 2 of 14 (1000 per TFRecord)...\n",
      "\n"
     ]
    },
    {
     "data": {
      "application/vnd.jupyter.widget-view+json": {
       "model_id": "cc92b116a2564e88b411d9c6c79ecd8f",
       "version_major": 2,
       "version_minor": 0
      },
      "text/plain": [
       "  0%|          | 0/1000 [00:00<?, ?it/s]"
      ]
     },
     "metadata": {},
     "output_type": "display_data"
    },
    {
     "name": "stdout",
     "output_type": "stream",
     "text": [
      "\n",
      "... Writing TFRecord 3 of 14 (1000 per TFRecord)...\n",
      "\n"
     ]
    },
    {
     "data": {
      "application/vnd.jupyter.widget-view+json": {
       "model_id": "7ea4f23228db4b6488f3d412f5a92f74",
       "version_major": 2,
       "version_minor": 0
      },
      "text/plain": [
       "  0%|          | 0/1000 [00:00<?, ?it/s]"
      ]
     },
     "metadata": {},
     "output_type": "display_data"
    },
    {
     "name": "stdout",
     "output_type": "stream",
     "text": [
      "\n",
      "... Writing TFRecord 4 of 14 (1000 per TFRecord)...\n",
      "\n"
     ]
    },
    {
     "data": {
      "application/vnd.jupyter.widget-view+json": {
       "model_id": "f71d414a51f94661b081feacd31da66d",
       "version_major": 2,
       "version_minor": 0
      },
      "text/plain": [
       "  0%|          | 0/1000 [00:00<?, ?it/s]"
      ]
     },
     "metadata": {},
     "output_type": "display_data"
    },
    {
     "name": "stdout",
     "output_type": "stream",
     "text": [
      "\n",
      "... Writing TFRecord 5 of 14 (1000 per TFRecord)...\n",
      "\n"
     ]
    },
    {
     "data": {
      "application/vnd.jupyter.widget-view+json": {
       "model_id": "770b208bf08c40c794c5499f323784fa",
       "version_major": 2,
       "version_minor": 0
      },
      "text/plain": [
       "  0%|          | 0/1000 [00:00<?, ?it/s]"
      ]
     },
     "metadata": {},
     "output_type": "display_data"
    },
    {
     "name": "stdout",
     "output_type": "stream",
     "text": [
      "\n",
      "... Writing TFRecord 6 of 14 (1000 per TFRecord)...\n",
      "\n"
     ]
    },
    {
     "data": {
      "application/vnd.jupyter.widget-view+json": {
       "model_id": "cc7ab0ddc64f4cae8e4543e095c3e9da",
       "version_major": 2,
       "version_minor": 0
      },
      "text/plain": [
       "  0%|          | 0/1000 [00:00<?, ?it/s]"
      ]
     },
     "metadata": {},
     "output_type": "display_data"
    },
    {
     "name": "stdout",
     "output_type": "stream",
     "text": [
      "\n",
      "... Writing TFRecord 7 of 14 (1000 per TFRecord)...\n",
      "\n"
     ]
    },
    {
     "data": {
      "application/vnd.jupyter.widget-view+json": {
       "model_id": "5ccc7b511ac24f17aaa7291a29bc11b7",
       "version_major": 2,
       "version_minor": 0
      },
      "text/plain": [
       "  0%|          | 0/1000 [00:00<?, ?it/s]"
      ]
     },
     "metadata": {},
     "output_type": "display_data"
    },
    {
     "name": "stdout",
     "output_type": "stream",
     "text": [
      "\n",
      "... Writing TFRecord 8 of 14 (1000 per TFRecord)...\n",
      "\n"
     ]
    },
    {
     "data": {
      "application/vnd.jupyter.widget-view+json": {
       "model_id": "4c776623ea1d44569d9793a696832039",
       "version_major": 2,
       "version_minor": 0
      },
      "text/plain": [
       "  0%|          | 0/1000 [00:00<?, ?it/s]"
      ]
     },
     "metadata": {},
     "output_type": "display_data"
    },
    {
     "name": "stdout",
     "output_type": "stream",
     "text": [
      "\n",
      "... Writing TFRecord 9 of 14 (1000 per TFRecord)...\n",
      "\n"
     ]
    },
    {
     "data": {
      "application/vnd.jupyter.widget-view+json": {
       "model_id": "7ab056655b7240268bc9bbd8586dc52f",
       "version_major": 2,
       "version_minor": 0
      },
      "text/plain": [
       "  0%|          | 0/1000 [00:00<?, ?it/s]"
      ]
     },
     "metadata": {},
     "output_type": "display_data"
    },
    {
     "name": "stdout",
     "output_type": "stream",
     "text": [
      "\n",
      "... Writing TFRecord 10 of 14 (1000 per TFRecord)...\n",
      "\n"
     ]
    },
    {
     "data": {
      "application/vnd.jupyter.widget-view+json": {
       "model_id": "f7798daa276146a696b1687911083bf2",
       "version_major": 2,
       "version_minor": 0
      },
      "text/plain": [
       "  0%|          | 0/1000 [00:00<?, ?it/s]"
      ]
     },
     "metadata": {},
     "output_type": "display_data"
    },
    {
     "name": "stdout",
     "output_type": "stream",
     "text": [
      "\n",
      "... Writing TFRecord 11 of 14 (1000 per TFRecord)...\n",
      "\n"
     ]
    },
    {
     "data": {
      "application/vnd.jupyter.widget-view+json": {
       "model_id": "821dd972da8e4fb6875880941adbe833",
       "version_major": 2,
       "version_minor": 0
      },
      "text/plain": [
       "  0%|          | 0/1000 [00:00<?, ?it/s]"
      ]
     },
     "metadata": {},
     "output_type": "display_data"
    },
    {
     "name": "stdout",
     "output_type": "stream",
     "text": [
      "\n",
      "... Writing TFRecord 12 of 14 (1000 per TFRecord)...\n",
      "\n"
     ]
    },
    {
     "data": {
      "application/vnd.jupyter.widget-view+json": {
       "model_id": "a65eb4fd50674ebb8d731b1c4c1f9f5d",
       "version_major": 2,
       "version_minor": 0
      },
      "text/plain": [
       "  0%|          | 0/1000 [00:00<?, ?it/s]"
      ]
     },
     "metadata": {},
     "output_type": "display_data"
    },
    {
     "name": "stdout",
     "output_type": "stream",
     "text": [
      "\n",
      "... Writing TFRecord 13 of 14 (1000 per TFRecord)...\n",
      "\n"
     ]
    },
    {
     "data": {
      "application/vnd.jupyter.widget-view+json": {
       "model_id": "139a36bcf8254dbcb5dbd539f8e8d138",
       "version_major": 2,
       "version_minor": 0
      },
      "text/plain": [
       "  0%|          | 0/1000 [00:00<?, ?it/s]"
      ]
     },
     "metadata": {},
     "output_type": "display_data"
    },
    {
     "name": "stdout",
     "output_type": "stream",
     "text": [
      "\n",
      "... Writing TFRecord 14 of 14 (1000 per TFRecord)...\n",
      "\n"
     ]
    },
    {
     "data": {
      "application/vnd.jupyter.widget-view+json": {
       "model_id": "d4ac2c9718ff418491801d5f5fe65dfe",
       "version_major": 2,
       "version_minor": 0
      },
      "text/plain": [
       "  0%|          | 0/1000 [00:00<?, ?it/s]"
      ]
     },
     "metadata": {},
     "output_type": "display_data"
    }
   ],
   "source": [
    "def _bytes_feature(value, is_list=False):\n",
    "    \"\"\"Returns a bytes_list from a string / byte.\"\"\"\n",
    "    if isinstance(value, type(tf.constant(0))):\n",
    "        value = value.numpy() # BytesList won't unpack a string from an EagerTensor.\n",
    "    \n",
    "    if not is_list:\n",
    "        value = [value]\n",
    "    \n",
    "    return tf.train.Feature(bytes_list=tf.train.BytesList(value=value))\n",
    "\n",
    "def _float_feature(value, is_list=False):\n",
    "    \"\"\"Returns a float_list from a float / double.\"\"\"\n",
    "        \n",
    "    if not is_list:\n",
    "        value = [value]\n",
    "        \n",
    "    return tf.train.Feature(float_list=tf.train.FloatList(value=value))\n",
    "\n",
    "def _int64_feature(value, is_list=False):\n",
    "    \"\"\"Returns an int64_list from a bool / enum / int / uint.\"\"\"\n",
    "        \n",
    "    if not is_list:\n",
    "        value = [value]\n",
    "        \n",
    "    return tf.train.Feature(int64_list=tf.train.Int64List(value=value))\n",
    "\n",
    "    \n",
    "def serialize_raw(token_ids):\n",
    "    \"\"\"\n",
    "    Creates a tf.Example message ready to be written to a file from N features.\n",
    "\n",
    "    Args:\n",
    "        token_ids (list of ints): A list of integers representing the tokens for each string\n",
    "    \n",
    "    Returns:\n",
    "        A tf.Example Message ready to be written to file\n",
    "    \"\"\"\n",
    "    \n",
    "    # Create a dictionary mapping the feature name to the \n",
    "    # tf.Example-compatible data type.\n",
    "    feature = {\n",
    "        \"token_content\": _int64_feature(token_ids, is_list=True),\n",
    "    }\n",
    "    \n",
    "    # Create a Features message using tf.train.Example.\n",
    "    example_proto = tf.train.Example(features=tf.train.Features(feature=feature))\n",
    "    return example_proto.SerializeToString()\n",
    "\n",
    "\n",
    "\n",
    "def write_tfrecords(ds, n_ex, output_suffix, version_str, n_ex_per_rec=10_000, serialize_fn=serialize_raw, out_dir=\"./tfrecords\"):\n",
    "    \"\"\"\"\"\"\n",
    "    n_recs = int(np.ceil(n_ex/n_ex_per_rec))\n",
    "    \n",
    "    # Make dataset generator iterable\n",
    "    ds = iter(ds)\n",
    "        \n",
    "    # Dataset directory\n",
    "    if not os.path.isdir(out_dir): os.makedirs(out_dir, exist_ok=True)\n",
    "    out_dir = os.path.join(out_dir, f\"{output_suffix.strip('_')}_{version_str}\")\n",
    "    if not os.path.isdir(out_dir): os.makedirs(out_dir, exist_ok=True)\n",
    "        \n",
    "    # Create tfrecords\n",
    "    for i in tqdm(range(n_recs), total=n_recs):\n",
    "        print(f\"\\n... Writing TFRecord {i+1} of {n_recs} ({n_ex_per_rec} per TFRecord)...\\n\")\n",
    "        tfrec_path = os.path.join(out_dir, f\"{(i+1):02}_{n_recs:02}.tfrec\")\n",
    "        \n",
    "        # This makes the tfrecord\n",
    "        with tf.io.TFRecordWriter(tfrec_path) as writer:\n",
    "            for ex in tqdm(range(n_ex_per_rec), total=n_ex_per_rec):\n",
    "                try:\n",
    "                    example = serialize_fn(next(ds))\n",
    "                    writer.write(example)\n",
    "                except:\n",
    "                    break\n",
    "                    \n",
    "                    \n",
    "\n",
    "TFRECORD_DIR = os.path.join(DATASET_DIR, \"tfrecords\")\n",
    "N_PER = 1000 # artificially low to replicate tfrecord amounts expected\n",
    "\n",
    "\n",
    "for _df in [rcts_uni_chunk_df, rcts_bpe_chunk_df, basic_uni_chunk_df, basic_bpe_chunk_df]:\n",
    "    write_tfrecords(\n",
    "        rcts_uni_chunk_df['token_content'], len(rcts_uni_chunk_df), \"rcts_uni\", \"v4\", \n",
    "        out_dir=TFRECORD_DIR, n_ex_per_rec=N_PER\n",
    "    )\n",
    "    write_tfrecords(\n",
    "        rcts_bpe_chunk_df['token_content'], len(rcts_bpe_chunk_df), \"rcts_bpe\", \"v4\", \n",
    "        out_dir=TFRECORD_DIR, n_ex_per_rec=N_PER\n",
    "    )\n",
    "    write_tfrecords(\n",
    "        basic_uni_chunk_df['token_content'], len(basic_uni_chunk_df), \"basic_uni\", \"v4\", \n",
    "        out_dir=TFRECORD_DIR, n_ex_per_rec=N_PER\n",
    "    )\n",
    "    write_tfrecords(\n",
    "        basic_bpe_chunk_df['token_content'], len(basic_bpe_chunk_df), \"basic_bpe\", \"v4\", \n",
    "        out_dir=TFRECORD_DIR, n_ex_per_rec=N_PER\n",
    "    )"
   ]
  },
  {
   "cell_type": "markdown",
   "id": "0075889a-00b8-4d08-ac86-b68f5868acb3",
   "metadata": {},
   "source": [
    "<br>\n",
    "\n",
    "**Check dataset**"
   ]
  },
  {
   "cell_type": "code",
   "execution_count": 270,
   "id": "53b2179a-823a-41a8-a2cd-f753a66f5354",
   "metadata": {},
   "outputs": [],
   "source": [
    "def parse_example(example_proto, max_seq_len=384, default_value=0):\n",
    "    feature_map = {\n",
    "        'token_content': tf.io.FixedLenFeature(\n",
    "            shape=[max_seq_len], dtype=tf.int64, default_value=[default_value]*max_seq_len\n",
    "        ) # tf.io.VarLenFeature(tf.int64),\n",
    "    }\n",
    "    features = tf.io.parse_single_example(example_proto, features=feature_map)['token_content']\n",
    "    \n",
    "    ### HOW FOR VARIABLE\n",
    "    # tf.io.VarLenFeature(tf.int64),\n",
    "    #parsed_example = tf.io.parse_single_example(example_proto, feature_map)\n",
    "    #features = tf.sparse.to_dense(parsed_example['token_content'])\n",
    "    \n",
    "    return features\n",
    "\n",
    "def load_tfrecord_dataset(input_files):\n",
    "    raw_dataset = tf.data.TFRecordDataset(input_files)\n",
    "    parsed_dataset = raw_dataset.map(parse_example)\n",
    "    return parsed_dataset\n",
    "\n",
    "TFREC_PATHS = sorted(glob(os.path.join(TFRECORD_DIR, \"rcts_bpe_v4\", \"*.tfrec\")))\n",
    "rcts_bpe_v4_ds = load_tfrecord_dataset(TFREC_PATHS)"
   ]
  },
  {
   "cell_type": "code",
   "execution_count": 284,
   "id": "8f38ce19-3dd9-47e4-9546-0fe8f37f3050",
   "metadata": {},
   "outputs": [
    {
     "data": {
      "text/html": [
       "<style>span.token {font-family: Courier New !important; font-size: 1.1em !important; font-weight: 300 !important; padding: 0px !important; margin-right: 0px !important; border-radius: 0px !important;}</style><div style='background-color: #C0C0C0; padding: 25px; border-radius: 8px; margin-left: 10px; margin-right: 10px; margin-top: 20px; margin-bottom: 20px;'><span class='token' style='background-color: rgba(251, 180, 174, 0.75);'>1</span><span class='token' style='background-color: rgba(179, 205, 227, 0.75);'><br></span><span class='token' style='background-color: rgba(251, 180, 174, 0.75);'>&nbsp;&nbsp;</span><span class='token' style='background-color: rgba(179, 205, 227, 0.75);'>From</span><span class='token' style='background-color: rgba(204, 235, 197, 0.75);'>&nbsp;fairest</span><span class='token' style='background-color: rgba(222, 203, 228, 0.75);'>&nbsp;creatures</span><span class='token' style='background-color: rgba(254, 217, 166, 0.75);'>&nbsp;we</span><span class='token' style='background-color: rgba(255, 255, 204, 0.75);'>&nbsp;desire</span><span class='token' style='background-color: rgba(229, 216, 189, 0.75);'>&nbsp;increase</span><span class='token' style='background-color: rgba(253, 218, 236, 0.75);'>,</span><span class='token' style='background-color: rgba(242, 242, 242, 0.75);'><br></span><span class='token' style='background-color: rgba(251, 180, 174, 0.75);'>&nbsp;&nbsp;</span><span class='token' style='background-color: rgba(179, 205, 227, 0.75);'>That</span><span class='token' style='background-color: rgba(204, 235, 197, 0.75);'>&nbsp;thereby</span><span class='token' style='background-color: rgba(222, 203, 228, 0.75);'>&nbsp;beauty</span><span class='token' style='background-color: rgba(254, 217, 166, 0.75);'>'</span><span class='token' style='background-color: rgba(255, 255, 204, 0.75);'>s</span><span class='token' style='background-color: rgba(229, 216, 189, 0.75);'>&nbsp;rose</span><span class='token' style='background-color: rgba(253, 218, 236, 0.75);'>&nbsp;might</span><span class='token' style='background-color: rgba(242, 242, 242, 0.75);'>&nbsp;never</span><span class='token' style='background-color: rgba(251, 180, 174, 0.75);'>&nbsp;die</span><span class='token' style='background-color: rgba(179, 205, 227, 0.75);'>,</span><span class='token' style='background-color: rgba(204, 235, 197, 0.75);'><br></span><span class='token' style='background-color: rgba(251, 180, 174, 0.75);'>&nbsp;&nbsp;</span><span class='token' style='background-color: rgba(179, 205, 227, 0.75);'>But</span><span class='token' style='background-color: rgba(204, 235, 197, 0.75);'>&nbsp;as</span><span class='token' style='background-color: rgba(222, 203, 228, 0.75);'>&nbsp;the</span><span class='token' style='background-color: rgba(254, 217, 166, 0.75);'>&nbsp;ri</span><span class='token' style='background-color: rgba(255, 255, 204, 0.75);'>per</span><span class='token' style='background-color: rgba(229, 216, 189, 0.75);'>&nbsp;should</span><span class='token' style='background-color: rgba(253, 218, 236, 0.75);'>&nbsp;by</span><span class='token' style='background-color: rgba(242, 242, 242, 0.75);'>&nbsp;time</span><span class='token' style='background-color: rgba(251, 180, 174, 0.75);'>&nbsp;dece</span><span class='token' style='background-color: rgba(179, 205, 227, 0.75);'>ase</span><span class='token' style='background-color: rgba(204, 235, 197, 0.75);'>,</span><span class='token' style='background-color: rgba(222, 203, 228, 0.75);'><br></span><span class='token' style='background-color: rgba(251, 180, 174, 0.75);'>&nbsp;&nbsp;</span><span class='token' style='background-color: rgba(179, 205, 227, 0.75);'>His</span><span class='token' style='background-color: rgba(204, 235, 197, 0.75);'>&nbsp;tender</span><span class='token' style='background-color: rgba(222, 203, 228, 0.75);'>&nbsp;heir</span><span class='token' style='background-color: rgba(254, 217, 166, 0.75);'>&nbsp;might</span><span class='token' style='background-color: rgba(255, 255, 204, 0.75);'>&nbsp;bear</span><span class='token' style='background-color: rgba(229, 216, 189, 0.75);'>&nbsp;his</span><span class='token' style='background-color: rgba(253, 218, 236, 0.75);'>&nbsp;memory</span><span class='token' style='background-color: rgba(242, 242, 242, 0.75);'>:</span><span class='token' style='background-color: rgba(251, 180, 174, 0.75);'><br></span><span class='token' style='background-color: rgba(251, 180, 174, 0.75);'>&nbsp;&nbsp;</span><span class='token' style='background-color: rgba(179, 205, 227, 0.75);'>But</span><span class='token' style='background-color: rgba(204, 235, 197, 0.75);'>&nbsp;thou</span><span class='token' style='background-color: rgba(222, 203, 228, 0.75);'>&nbsp;cont</span><span class='token' style='background-color: rgba(254, 217, 166, 0.75);'>ra</span><span class='token' style='background-color: rgba(255, 255, 204, 0.75);'>cted</span><span class='token' style='background-color: rgba(229, 216, 189, 0.75);'>&nbsp;to</span><span class='token' style='background-color: rgba(253, 218, 236, 0.75);'>&nbsp;thine</span><span class='token' style='background-color: rgba(242, 242, 242, 0.75);'>&nbsp;own</span><span class='token' style='background-color: rgba(251, 180, 174, 0.75);'>&nbsp;bright</span><span class='token' style='background-color: rgba(179, 205, 227, 0.75);'>&nbsp;eyes</span><span class='token' style='background-color: rgba(204, 235, 197, 0.75);'>,</span><span class='token' style='background-color: rgba(222, 203, 228, 0.75);'><br></span><span class='token' style='background-color: rgba(251, 180, 174, 0.75);'>&nbsp;&nbsp;</span><span class='token' style='background-color: rgba(179, 205, 227, 0.75);'>F</span><span class='token' style='background-color: rgba(204, 235, 197, 0.75);'>eed</span><span class='token' style='background-color: rgba(222, 203, 228, 0.75);'>'</span><span class='token' style='background-color: rgba(254, 217, 166, 0.75);'>st</span><span class='token' style='background-color: rgba(255, 255, 204, 0.75);'>&nbsp;thy</span><span class='token' style='background-color: rgba(229, 216, 189, 0.75);'>&nbsp;light</span><span class='token' style='background-color: rgba(253, 218, 236, 0.75);'>'</span><span class='token' style='background-color: rgba(242, 242, 242, 0.75);'>s</span><span class='token' style='background-color: rgba(251, 180, 174, 0.75);'>&nbsp;flame</span><span class='token' style='background-color: rgba(179, 205, 227, 0.75);'>&nbsp;with</span><span class='token' style='background-color: rgba(204, 235, 197, 0.75);'>&nbsp;self</span><span class='token' style='background-color: rgba(222, 203, 228, 0.75);'>-</span><span class='token' style='background-color: rgba(254, 217, 166, 0.75);'>s</span><span class='token' style='background-color: rgba(255, 255, 204, 0.75);'>ub</span><span class='token' style='background-color: rgba(229, 216, 189, 0.75);'>stant</span><span class='token' style='background-color: rgba(253, 218, 236, 0.75);'>ial</span><span class='token' style='background-color: rgba(242, 242, 242, 0.75);'>&nbsp;f</span><span class='token' style='background-color: rgba(251, 180, 174, 0.75);'>u</span><span class='token' style='background-color: rgba(179, 205, 227, 0.75);'>el</span><span class='token' style='background-color: rgba(204, 235, 197, 0.75);'>,</span><span class='token' style='background-color: rgba(222, 203, 228, 0.75);'><br></span><span class='token' style='background-color: rgba(251, 180, 174, 0.75);'>&nbsp;&nbsp;</span><span class='token' style='background-color: rgba(179, 205, 227, 0.75);'>Making</span><span class='token' style='background-color: rgba(204, 235, 197, 0.75);'>&nbsp;a</span><span class='token' style='background-color: rgba(222, 203, 228, 0.75);'>&nbsp;fam</span><span class='token' style='background-color: rgba(254, 217, 166, 0.75);'>ine</span><span class='token' style='background-color: rgba(255, 255, 204, 0.75);'>&nbsp;where</span><span class='token' style='background-color: rgba(229, 216, 189, 0.75);'>&nbsp;ab</span><span class='token' style='background-color: rgba(253, 218, 236, 0.75);'>und</span><span class='token' style='background-color: rgba(242, 242, 242, 0.75);'>ance</span><span class='token' style='background-color: rgba(251, 180, 174, 0.75);'>&nbsp;lies</span><span class='token' style='background-color: rgba(179, 205, 227, 0.75);'>,</span><span class='token' style='background-color: rgba(204, 235, 197, 0.75);'><br></span><span class='token' style='background-color: rgba(251, 180, 174, 0.75);'>&nbsp;&nbsp;</span><span class='token' style='background-color: rgba(179, 205, 227, 0.75);'>Thy</span><span class='token' style='background-color: rgba(204, 235, 197, 0.75);'>&nbsp;self</span><span class='token' style='background-color: rgba(222, 203, 228, 0.75);'>&nbsp;thy</span><span class='token' style='background-color: rgba(254, 217, 166, 0.75);'>&nbsp;foe</span><span class='token' style='background-color: rgba(255, 255, 204, 0.75);'>,</span><span class='token' style='background-color: rgba(229, 216, 189, 0.75);'>&nbsp;to</span><span class='token' style='background-color: rgba(253, 218, 236, 0.75);'>&nbsp;thy</span><span class='token' style='background-color: rgba(242, 242, 242, 0.75);'>&nbsp;sweet</span><span class='token' style='background-color: rgba(251, 180, 174, 0.75);'>&nbsp;self</span><span class='token' style='background-color: rgba(179, 205, 227, 0.75);'>&nbsp;too</span><span class='token' style='background-color: rgba(204, 235, 197, 0.75);'>&nbsp;cruel</span><span class='token' style='background-color: rgba(222, 203, 228, 0.75);'>:</span><span class='token' style='background-color: rgba(254, 217, 166, 0.75);'><br></span><span class='token' style='background-color: rgba(251, 180, 174, 0.75);'>&nbsp;&nbsp;</span><span class='token' style='background-color: rgba(179, 205, 227, 0.75);'>Thou</span><span class='token' style='background-color: rgba(204, 235, 197, 0.75);'>&nbsp;that</span><span class='token' style='background-color: rgba(222, 203, 228, 0.75);'>&nbsp;art</span><span class='token' style='background-color: rgba(254, 217, 166, 0.75);'>&nbsp;now</span><span class='token' style='background-color: rgba(255, 255, 204, 0.75);'>&nbsp;the</span><span class='token' style='background-color: rgba(229, 216, 189, 0.75);'>&nbsp;world</span><span class='token' style='background-color: rgba(253, 218, 236, 0.75);'>'</span><span class='token' style='background-color: rgba(242, 242, 242, 0.75);'>s</span><span class='token' style='background-color: rgba(251, 180, 174, 0.75);'>&nbsp;fresh</span><span class='token' style='background-color: rgba(179, 205, 227, 0.75);'>&nbsp;orn</span><span class='token' style='background-color: rgba(204, 235, 197, 0.75);'>ament</span><span class='token' style='background-color: rgba(222, 203, 228, 0.75);'>,</span><span class='token' style='background-color: rgba(254, 217, 166, 0.75);'><br></span><span class='token' style='background-color: rgba(251, 180, 174, 0.75);'>&nbsp;&nbsp;</span><span class='token' style='background-color: rgba(179, 205, 227, 0.75);'>And</span><span class='token' style='background-color: rgba(204, 235, 197, 0.75);'>&nbsp;only</span><span class='token' style='background-color: rgba(222, 203, 228, 0.75);'>&nbsp;herald</span><span class='token' style='background-color: rgba(254, 217, 166, 0.75);'>&nbsp;to</span><span class='token' style='background-color: rgba(255, 255, 204, 0.75);'>&nbsp;the</span><span class='token' style='background-color: rgba(229, 216, 189, 0.75);'>&nbsp;g</span><span class='token' style='background-color: rgba(253, 218, 236, 0.75);'>aud</span><span class='token' style='background-color: rgba(242, 242, 242, 0.75);'>y</span><span class='token' style='background-color: rgba(251, 180, 174, 0.75);'>&nbsp;spring</span><span class='token' style='background-color: rgba(179, 205, 227, 0.75);'>,</span><span class='token' style='background-color: rgba(204, 235, 197, 0.75);'><br></span><span class='token' style='background-color: rgba(251, 180, 174, 0.75);'>&nbsp;&nbsp;</span><span class='token' style='background-color: rgba(179, 205, 227, 0.75);'>Within</span><span class='token' style='background-color: rgba(204, 235, 197, 0.75);'>&nbsp;thine</span><span class='token' style='background-color: rgba(222, 203, 228, 0.75);'>&nbsp;own</span><span class='token' style='background-color: rgba(254, 217, 166, 0.75);'>&nbsp;bud</span><span class='token' style='background-color: rgba(255, 255, 204, 0.75);'>&nbsp;bu</span><span class='token' style='background-color: rgba(229, 216, 189, 0.75);'>ri</span><span class='token' style='background-color: rgba(253, 218, 236, 0.75);'>est</span><span class='token' style='background-color: rgba(242, 242, 242, 0.75);'>&nbsp;thy</span><span class='token' style='background-color: rgba(251, 180, 174, 0.75);'>&nbsp;content</span><span class='token' style='background-color: rgba(179, 205, 227, 0.75);'>,</span><span class='token' style='background-color: rgba(204, 235, 197, 0.75);'><br></span><span class='token' style='background-color: rgba(251, 180, 174, 0.75);'>&nbsp;&nbsp;</span><span class='token' style='background-color: rgba(179, 205, 227, 0.75);'>And</span><span class='token' style='background-color: rgba(204, 235, 197, 0.75);'>&nbsp;tender</span><span class='token' style='background-color: rgba(222, 203, 228, 0.75);'>&nbsp;chur</span><span class='token' style='background-color: rgba(254, 217, 166, 0.75);'>l</span><span class='token' style='background-color: rgba(255, 255, 204, 0.75);'>&nbsp;mak</span><span class='token' style='background-color: rgba(229, 216, 189, 0.75);'>'</span><span class='token' style='background-color: rgba(253, 218, 236, 0.75);'>st</span><span class='token' style='background-color: rgba(242, 242, 242, 0.75);'>&nbsp;waste</span><span class='token' style='background-color: rgba(251, 180, 174, 0.75);'>&nbsp;in</span><span class='token' style='background-color: rgba(179, 205, 227, 0.75);'>&nbsp;n</span><span class='token' style='background-color: rgba(204, 235, 197, 0.75);'>ig</span><span class='token' style='background-color: rgba(222, 203, 228, 0.75);'>g</span><span class='token' style='background-color: rgba(254, 217, 166, 0.75);'>ard</span><span class='token' style='background-color: rgba(255, 255, 204, 0.75);'>ing</span><span class='token' style='background-color: rgba(229, 216, 189, 0.75);'>:</span><span class='token' style='background-color: rgba(253, 218, 236, 0.75);'><br></span><span class='token' style='background-color: rgba(251, 180, 174, 0.75);'>&nbsp;&nbsp;&nbsp;&nbsp;</span><span class='token' style='background-color: rgba(179, 205, 227, 0.75);'>P</span><span class='token' style='background-color: rgba(204, 235, 197, 0.75);'>ity</span><span class='token' style='background-color: rgba(222, 203, 228, 0.75);'>&nbsp;the</span><span class='token' style='background-color: rgba(254, 217, 166, 0.75);'>&nbsp;world</span><span class='token' style='background-color: rgba(255, 255, 204, 0.75);'>,</span><span class='token' style='background-color: rgba(229, 216, 189, 0.75);'>&nbsp;or</span><span class='token' style='background-color: rgba(253, 218, 236, 0.75);'>&nbsp;else</span><span class='token' style='background-color: rgba(242, 242, 242, 0.75);'>&nbsp;this</span><span class='token' style='background-color: rgba(251, 180, 174, 0.75);'>&nbsp;gl</span><span class='token' style='background-color: rgba(179, 205, 227, 0.75);'>ut</span><span class='token' style='background-color: rgba(204, 235, 197, 0.75);'>ton</span><span class='token' style='background-color: rgba(222, 203, 228, 0.75);'>&nbsp;be</span><span class='token' style='background-color: rgba(254, 217, 166, 0.75);'>,</span><span class='token' style='background-color: rgba(255, 255, 204, 0.75);'><br></span><span class='token' style='background-color: rgba(251, 180, 174, 0.75);'>&nbsp;&nbsp;&nbsp;&nbsp;</span><span class='token' style='background-color: rgba(179, 205, 227, 0.75);'>To</span><span class='token' style='background-color: rgba(204, 235, 197, 0.75);'>&nbsp;eat</span><span class='token' style='background-color: rgba(222, 203, 228, 0.75);'>&nbsp;the</span><span class='token' style='background-color: rgba(254, 217, 166, 0.75);'>&nbsp;world</span><span class='token' style='background-color: rgba(255, 255, 204, 0.75);'>'</span><span class='token' style='background-color: rgba(229, 216, 189, 0.75);'>s</span><span class='token' style='background-color: rgba(253, 218, 236, 0.75);'>&nbsp;due</span><span class='token' style='background-color: rgba(242, 242, 242, 0.75);'>,</span><span class='token' style='background-color: rgba(251, 180, 174, 0.75);'>&nbsp;by</span><span class='token' style='background-color: rgba(179, 205, 227, 0.75);'>&nbsp;the</span><span class='token' style='background-color: rgba(204, 235, 197, 0.75);'>&nbsp;grave</span><span class='token' style='background-color: rgba(222, 203, 228, 0.75);'>&nbsp;and</span><span class='token' style='background-color: rgba(254, 217, 166, 0.75);'>&nbsp;thee</span><span class='token' style='background-color: rgba(255, 255, 204, 0.75);'>.</span><span class='token' style='background-color: rgba(229, 216, 189, 0.75);'><br></span></div>"
      ],
      "text/plain": [
       "<IPython.core.display.HTML object>"
      ]
     },
     "metadata": {},
     "output_type": "display_data"
    },
    {
     "data": {
      "text/html": [
       "<style>span.token {font-family: Courier New !important; font-size: 1.1em !important; font-weight: 300 !important; padding: 0px !important; margin-right: 0px !important; border-radius: 0px !important;}</style><div style='background-color: #C0C0C0; padding: 25px; border-radius: 8px; margin-left: 10px; margin-right: 10px; margin-top: 20px; margin-bottom: 20px;'><span class='token' style='background-color: rgba(251, 180, 174, 0.75);'>1</span><span class='token' style='background-color: rgba(179, 205, 227, 0.75);'><br></span><span class='token' style='background-color: rgba(251, 180, 174, 0.75);'>&nbsp;&nbsp;</span><span class='token' style='background-color: rgba(179, 205, 227, 0.75);'>From</span><span class='token' style='background-color: rgba(204, 235, 197, 0.75);'>&nbsp;fairest</span><span class='token' style='background-color: rgba(222, 203, 228, 0.75);'>&nbsp;creatures</span><span class='token' style='background-color: rgba(254, 217, 166, 0.75);'>&nbsp;we</span><span class='token' style='background-color: rgba(255, 255, 204, 0.75);'>&nbsp;desire</span><span class='token' style='background-color: rgba(229, 216, 189, 0.75);'>&nbsp;increase</span><span class='token' style='background-color: rgba(253, 218, 236, 0.75);'>,</span><span class='token' style='background-color: rgba(242, 242, 242, 0.75);'><br></span><span class='token' style='background-color: rgba(251, 180, 174, 0.75);'>&nbsp;&nbsp;</span><span class='token' style='background-color: rgba(179, 205, 227, 0.75);'>That</span><span class='token' style='background-color: rgba(204, 235, 197, 0.75);'>&nbsp;thereby</span><span class='token' style='background-color: rgba(222, 203, 228, 0.75);'>&nbsp;beauty</span><span class='token' style='background-color: rgba(254, 217, 166, 0.75);'>'</span><span class='token' style='background-color: rgba(255, 255, 204, 0.75);'>s</span><span class='token' style='background-color: rgba(229, 216, 189, 0.75);'>&nbsp;rose</span><span class='token' style='background-color: rgba(253, 218, 236, 0.75);'>&nbsp;might</span><span class='token' style='background-color: rgba(242, 242, 242, 0.75);'>&nbsp;never</span><span class='token' style='background-color: rgba(251, 180, 174, 0.75);'>&nbsp;die</span><span class='token' style='background-color: rgba(179, 205, 227, 0.75);'>,</span><span class='token' style='background-color: rgba(204, 235, 197, 0.75);'><br></span><span class='token' style='background-color: rgba(251, 180, 174, 0.75);'>&nbsp;&nbsp;</span><span class='token' style='background-color: rgba(179, 205, 227, 0.75);'>But</span><span class='token' style='background-color: rgba(204, 235, 197, 0.75);'>&nbsp;as</span><span class='token' style='background-color: rgba(222, 203, 228, 0.75);'>&nbsp;the</span><span class='token' style='background-color: rgba(254, 217, 166, 0.75);'>&nbsp;ri</span><span class='token' style='background-color: rgba(255, 255, 204, 0.75);'>per</span><span class='token' style='background-color: rgba(229, 216, 189, 0.75);'>&nbsp;should</span><span class='token' style='background-color: rgba(253, 218, 236, 0.75);'>&nbsp;by</span><span class='token' style='background-color: rgba(242, 242, 242, 0.75);'>&nbsp;time</span><span class='token' style='background-color: rgba(251, 180, 174, 0.75);'>&nbsp;dece</span><span class='token' style='background-color: rgba(179, 205, 227, 0.75);'>ase</span><span class='token' style='background-color: rgba(204, 235, 197, 0.75);'>,</span><span class='token' style='background-color: rgba(222, 203, 228, 0.75);'><br></span><span class='token' style='background-color: rgba(251, 180, 174, 0.75);'>&nbsp;&nbsp;</span><span class='token' style='background-color: rgba(179, 205, 227, 0.75);'>His</span><span class='token' style='background-color: rgba(204, 235, 197, 0.75);'>&nbsp;tender</span><span class='token' style='background-color: rgba(222, 203, 228, 0.75);'>&nbsp;heir</span><span class='token' style='background-color: rgba(254, 217, 166, 0.75);'>&nbsp;might</span><span class='token' style='background-color: rgba(255, 255, 204, 0.75);'>&nbsp;bear</span><span class='token' style='background-color: rgba(229, 216, 189, 0.75);'>&nbsp;his</span><span class='token' style='background-color: rgba(253, 218, 236, 0.75);'>&nbsp;memory</span><span class='token' style='background-color: rgba(242, 242, 242, 0.75);'>:</span><span class='token' style='background-color: rgba(251, 180, 174, 0.75);'><br></span><span class='token' style='background-color: rgba(251, 180, 174, 0.75);'>&nbsp;&nbsp;</span><span class='token' style='background-color: rgba(179, 205, 227, 0.75);'>But</span><span class='token' style='background-color: rgba(204, 235, 197, 0.75);'>&nbsp;thou</span><span class='token' style='background-color: rgba(222, 203, 228, 0.75);'>&nbsp;cont</span><span class='token' style='background-color: rgba(254, 217, 166, 0.75);'>ra</span><span class='token' style='background-color: rgba(255, 255, 204, 0.75);'>cted</span><span class='token' style='background-color: rgba(229, 216, 189, 0.75);'>&nbsp;to</span><span class='token' style='background-color: rgba(253, 218, 236, 0.75);'>&nbsp;thine</span><span class='token' style='background-color: rgba(242, 242, 242, 0.75);'>&nbsp;own</span><span class='token' style='background-color: rgba(251, 180, 174, 0.75);'>&nbsp;bright</span><span class='token' style='background-color: rgba(179, 205, 227, 0.75);'>&nbsp;eyes</span><span class='token' style='background-color: rgba(204, 235, 197, 0.75);'>,</span><span class='token' style='background-color: rgba(222, 203, 228, 0.75);'><br></span><span class='token' style='background-color: rgba(251, 180, 174, 0.75);'>&nbsp;&nbsp;</span><span class='token' style='background-color: rgba(179, 205, 227, 0.75);'>F</span><span class='token' style='background-color: rgba(204, 235, 197, 0.75);'>eed</span><span class='token' style='background-color: rgba(222, 203, 228, 0.75);'>'</span><span class='token' style='background-color: rgba(254, 217, 166, 0.75);'>st</span><span class='token' style='background-color: rgba(255, 255, 204, 0.75);'>&nbsp;thy</span><span class='token' style='background-color: rgba(229, 216, 189, 0.75);'>&nbsp;light</span><span class='token' style='background-color: rgba(253, 218, 236, 0.75);'>'</span><span class='token' style='background-color: rgba(242, 242, 242, 0.75);'>s</span><span class='token' style='background-color: rgba(251, 180, 174, 0.75);'>&nbsp;flame</span><span class='token' style='background-color: rgba(179, 205, 227, 0.75);'>&nbsp;with</span><span class='token' style='background-color: rgba(204, 235, 197, 0.75);'>&nbsp;self</span><span class='token' style='background-color: rgba(222, 203, 228, 0.75);'>-</span><span class='token' style='background-color: rgba(254, 217, 166, 0.75);'>s</span><span class='token' style='background-color: rgba(255, 255, 204, 0.75);'>ub</span><span class='token' style='background-color: rgba(229, 216, 189, 0.75);'>stant</span><span class='token' style='background-color: rgba(253, 218, 236, 0.75);'>ial</span><span class='token' style='background-color: rgba(242, 242, 242, 0.75);'>&nbsp;f</span><span class='token' style='background-color: rgba(251, 180, 174, 0.75);'>u</span><span class='token' style='background-color: rgba(179, 205, 227, 0.75);'>el</span><span class='token' style='background-color: rgba(204, 235, 197, 0.75);'>,</span><span class='token' style='background-color: rgba(222, 203, 228, 0.75);'><br></span><span class='token' style='background-color: rgba(251, 180, 174, 0.75);'>&nbsp;&nbsp;</span><span class='token' style='background-color: rgba(179, 205, 227, 0.75);'>Making</span><span class='token' style='background-color: rgba(204, 235, 197, 0.75);'>&nbsp;a</span><span class='token' style='background-color: rgba(222, 203, 228, 0.75);'>&nbsp;fam</span><span class='token' style='background-color: rgba(254, 217, 166, 0.75);'>ine</span><span class='token' style='background-color: rgba(255, 255, 204, 0.75);'>&nbsp;where</span><span class='token' style='background-color: rgba(229, 216, 189, 0.75);'>&nbsp;ab</span><span class='token' style='background-color: rgba(253, 218, 236, 0.75);'>und</span><span class='token' style='background-color: rgba(242, 242, 242, 0.75);'>ance</span><span class='token' style='background-color: rgba(251, 180, 174, 0.75);'>&nbsp;lies</span><span class='token' style='background-color: rgba(179, 205, 227, 0.75);'>,</span><span class='token' style='background-color: rgba(204, 235, 197, 0.75);'><br></span><span class='token' style='background-color: rgba(251, 180, 174, 0.75);'>&nbsp;&nbsp;</span><span class='token' style='background-color: rgba(179, 205, 227, 0.75);'>Thy</span><span class='token' style='background-color: rgba(204, 235, 197, 0.75);'>&nbsp;self</span><span class='token' style='background-color: rgba(222, 203, 228, 0.75);'>&nbsp;thy</span><span class='token' style='background-color: rgba(254, 217, 166, 0.75);'>&nbsp;foe</span><span class='token' style='background-color: rgba(255, 255, 204, 0.75);'>,</span><span class='token' style='background-color: rgba(229, 216, 189, 0.75);'>&nbsp;to</span><span class='token' style='background-color: rgba(253, 218, 236, 0.75);'>&nbsp;thy</span><span class='token' style='background-color: rgba(242, 242, 242, 0.75);'>&nbsp;sweet</span><span class='token' style='background-color: rgba(251, 180, 174, 0.75);'>&nbsp;self</span><span class='token' style='background-color: rgba(179, 205, 227, 0.75);'>&nbsp;too</span><span class='token' style='background-color: rgba(204, 235, 197, 0.75);'>&nbsp;cruel</span><span class='token' style='background-color: rgba(222, 203, 228, 0.75);'>:</span><span class='token' style='background-color: rgba(254, 217, 166, 0.75);'><br></span><span class='token' style='background-color: rgba(251, 180, 174, 0.75);'>&nbsp;&nbsp;</span><span class='token' style='background-color: rgba(179, 205, 227, 0.75);'>Thou</span><span class='token' style='background-color: rgba(204, 235, 197, 0.75);'>&nbsp;that</span><span class='token' style='background-color: rgba(222, 203, 228, 0.75);'>&nbsp;art</span><span class='token' style='background-color: rgba(254, 217, 166, 0.75);'>&nbsp;now</span><span class='token' style='background-color: rgba(255, 255, 204, 0.75);'>&nbsp;the</span><span class='token' style='background-color: rgba(229, 216, 189, 0.75);'>&nbsp;world</span><span class='token' style='background-color: rgba(253, 218, 236, 0.75);'>'</span><span class='token' style='background-color: rgba(242, 242, 242, 0.75);'>s</span><span class='token' style='background-color: rgba(251, 180, 174, 0.75);'>&nbsp;fresh</span><span class='token' style='background-color: rgba(179, 205, 227, 0.75);'>&nbsp;orn</span><span class='token' style='background-color: rgba(204, 235, 197, 0.75);'>ament</span><span class='token' style='background-color: rgba(222, 203, 228, 0.75);'>,</span><span class='token' style='background-color: rgba(254, 217, 166, 0.75);'><br></span><span class='token' style='background-color: rgba(251, 180, 174, 0.75);'>&nbsp;&nbsp;</span><span class='token' style='background-color: rgba(179, 205, 227, 0.75);'>And</span><span class='token' style='background-color: rgba(204, 235, 197, 0.75);'>&nbsp;only</span><span class='token' style='background-color: rgba(222, 203, 228, 0.75);'>&nbsp;herald</span><span class='token' style='background-color: rgba(254, 217, 166, 0.75);'>&nbsp;to</span><span class='token' style='background-color: rgba(255, 255, 204, 0.75);'>&nbsp;the</span><span class='token' style='background-color: rgba(229, 216, 189, 0.75);'>&nbsp;g</span><span class='token' style='background-color: rgba(253, 218, 236, 0.75);'>aud</span><span class='token' style='background-color: rgba(242, 242, 242, 0.75);'>y</span><span class='token' style='background-color: rgba(251, 180, 174, 0.75);'>&nbsp;spring</span><span class='token' style='background-color: rgba(179, 205, 227, 0.75);'>,</span><span class='token' style='background-color: rgba(204, 235, 197, 0.75);'><br></span><span class='token' style='background-color: rgba(251, 180, 174, 0.75);'>&nbsp;&nbsp;</span><span class='token' style='background-color: rgba(179, 205, 227, 0.75);'>Within</span><span class='token' style='background-color: rgba(204, 235, 197, 0.75);'>&nbsp;thine</span><span class='token' style='background-color: rgba(222, 203, 228, 0.75);'>&nbsp;own</span><span class='token' style='background-color: rgba(254, 217, 166, 0.75);'>&nbsp;bud</span><span class='token' style='background-color: rgba(255, 255, 204, 0.75);'>&nbsp;bu</span><span class='token' style='background-color: rgba(229, 216, 189, 0.75);'>ri</span><span class='token' style='background-color: rgba(253, 218, 236, 0.75);'>est</span><span class='token' style='background-color: rgba(242, 242, 242, 0.75);'>&nbsp;thy</span><span class='token' style='background-color: rgba(251, 180, 174, 0.75);'>&nbsp;content</span><span class='token' style='background-color: rgba(179, 205, 227, 0.75);'>,</span><span class='token' style='background-color: rgba(204, 235, 197, 0.75);'><br></span><span class='token' style='background-color: rgba(251, 180, 174, 0.75);'>&nbsp;&nbsp;</span><span class='token' style='background-color: rgba(179, 205, 227, 0.75);'>And</span><span class='token' style='background-color: rgba(204, 235, 197, 0.75);'>&nbsp;tender</span><span class='token' style='background-color: rgba(222, 203, 228, 0.75);'>&nbsp;chur</span><span class='token' style='background-color: rgba(254, 217, 166, 0.75);'>l</span><span class='token' style='background-color: rgba(255, 255, 204, 0.75);'>&nbsp;mak</span><span class='token' style='background-color: rgba(229, 216, 189, 0.75);'>'</span><span class='token' style='background-color: rgba(253, 218, 236, 0.75);'>st</span><span class='token' style='background-color: rgba(242, 242, 242, 0.75);'>&nbsp;waste</span><span class='token' style='background-color: rgba(251, 180, 174, 0.75);'>&nbsp;in</span><span class='token' style='background-color: rgba(179, 205, 227, 0.75);'>&nbsp;n</span><span class='token' style='background-color: rgba(204, 235, 197, 0.75);'>ig</span><span class='token' style='background-color: rgba(222, 203, 228, 0.75);'>g</span><span class='token' style='background-color: rgba(254, 217, 166, 0.75);'>ard</span><span class='token' style='background-color: rgba(255, 255, 204, 0.75);'>ing</span><span class='token' style='background-color: rgba(229, 216, 189, 0.75);'>:</span><span class='token' style='background-color: rgba(253, 218, 236, 0.75);'><br></span><span class='token' style='background-color: rgba(251, 180, 174, 0.75);'>&nbsp;&nbsp;&nbsp;&nbsp;</span><span class='token' style='background-color: rgba(179, 205, 227, 0.75);'>P</span><span class='token' style='background-color: rgba(204, 235, 197, 0.75);'>ity</span><span class='token' style='background-color: rgba(222, 203, 228, 0.75);'>&nbsp;the</span><span class='token' style='background-color: rgba(254, 217, 166, 0.75);'>&nbsp;world</span><span class='token' style='background-color: rgba(255, 255, 204, 0.75);'>,</span><span class='token' style='background-color: rgba(229, 216, 189, 0.75);'>&nbsp;or</span><span class='token' style='background-color: rgba(253, 218, 236, 0.75);'>&nbsp;else</span><span class='token' style='background-color: rgba(242, 242, 242, 0.75);'>&nbsp;this</span><span class='token' style='background-color: rgba(251, 180, 174, 0.75);'>&nbsp;gl</span><span class='token' style='background-color: rgba(179, 205, 227, 0.75);'>ut</span><span class='token' style='background-color: rgba(204, 235, 197, 0.75);'>ton</span><span class='token' style='background-color: rgba(222, 203, 228, 0.75);'>&nbsp;be</span><span class='token' style='background-color: rgba(254, 217, 166, 0.75);'>,</span><span class='token' style='background-color: rgba(255, 255, 204, 0.75);'><br></span><span class='token' style='background-color: rgba(251, 180, 174, 0.75);'>&nbsp;&nbsp;&nbsp;&nbsp;</span><span class='token' style='background-color: rgba(179, 205, 227, 0.75);'>To</span><span class='token' style='background-color: rgba(204, 235, 197, 0.75);'>&nbsp;eat</span><span class='token' style='background-color: rgba(222, 203, 228, 0.75);'>&nbsp;the</span><span class='token' style='background-color: rgba(254, 217, 166, 0.75);'>&nbsp;world</span><span class='token' style='background-color: rgba(255, 255, 204, 0.75);'>'</span><span class='token' style='background-color: rgba(229, 216, 189, 0.75);'>s</span><span class='token' style='background-color: rgba(253, 218, 236, 0.75);'>&nbsp;due</span><span class='token' style='background-color: rgba(242, 242, 242, 0.75);'>,</span><span class='token' style='background-color: rgba(251, 180, 174, 0.75);'>&nbsp;by</span><span class='token' style='background-color: rgba(179, 205, 227, 0.75);'>&nbsp;the</span><span class='token' style='background-color: rgba(204, 235, 197, 0.75);'>&nbsp;grave</span><span class='token' style='background-color: rgba(222, 203, 228, 0.75);'>&nbsp;and</span><span class='token' style='background-color: rgba(254, 217, 166, 0.75);'>&nbsp;thee</span><span class='token' style='background-color: rgba(255, 255, 204, 0.75);'>.</span><span class='token' style='background-color: rgba(229, 216, 189, 0.75);'><br></span></div>"
      ],
      "text/plain": [
       "<IPython.core.display.HTML object>"
      ]
     },
     "metadata": {},
     "output_type": "display_data"
    }
   ],
   "source": [
    "plot_tokenization(bpe_decoder(next(iter(rcts_bpe_v4_ds)).numpy().tolist()), bpe_encoder, bpe_decoder)\n",
    "plot_tokenization(bpe_decoder(rcts_bpe_chunk_df[\"token_content\"][0]), bpe_encoder, bpe_decoder)"
   ]
  },
  {
   "cell_type": "code",
   "execution_count": 276,
   "id": "b31e6c3e-80e4-4715-be5b-87681c758706",
   "metadata": {},
   "outputs": [
    {
     "data": {
      "text/plain": [
       "[0,\n",
       " 0,\n",
       " 0,\n",
       " 0,\n",
       " 0,\n",
       " 0,\n",
       " 0,\n",
       " 0,\n",
       " 0,\n",
       " 0,\n",
       " 0,\n",
       " 0,\n",
       " 0,\n",
       " 0,\n",
       " 0,\n",
       " 0,\n",
       " 0,\n",
       " 0,\n",
       " 0,\n",
       " 0,\n",
       " 0,\n",
       " 0,\n",
       " 0,\n",
       " 0,\n",
       " 0,\n",
       " 0,\n",
       " 0,\n",
       " 0,\n",
       " 0,\n",
       " 0,\n",
       " 0,\n",
       " 0,\n",
       " 0,\n",
       " 0,\n",
       " 0,\n",
       " 0,\n",
       " 0,\n",
       " 0,\n",
       " 0,\n",
       " 0,\n",
       " 0,\n",
       " 0,\n",
       " 0,\n",
       " 0,\n",
       " 0,\n",
       " 0,\n",
       " 0,\n",
       " 0,\n",
       " 0,\n",
       " 0,\n",
       " 0,\n",
       " 0,\n",
       " 0,\n",
       " 0,\n",
       " 0,\n",
       " 0,\n",
       " 0,\n",
       " 0,\n",
       " 0,\n",
       " 0,\n",
       " 0,\n",
       " 0,\n",
       " 0,\n",
       " 0,\n",
       " 0,\n",
       " 0,\n",
       " 0,\n",
       " 0,\n",
       " 0,\n",
       " 0,\n",
       " 0,\n",
       " 0,\n",
       " 0,\n",
       " 0,\n",
       " 0,\n",
       " 0,\n",
       " 0,\n",
       " 0,\n",
       " 0,\n",
       " 0,\n",
       " 0,\n",
       " 0,\n",
       " 0,\n",
       " 0,\n",
       " 0,\n",
       " 0,\n",
       " 0,\n",
       " 0,\n",
       " 0,\n",
       " 0,\n",
       " 0,\n",
       " 0,\n",
       " 0,\n",
       " 0,\n",
       " 0,\n",
       " 0,\n",
       " 7985,\n",
       " 4,\n",
       " 9,\n",
       " 1251,\n",
       " 5259,\n",
       " 5836,\n",
       " 92,\n",
       " 1570,\n",
       " 6677,\n",
       " 7938,\n",
       " 4,\n",
       " 9,\n",
       " 222,\n",
       " 7377,\n",
       " 1509,\n",
       " 7953,\n",
       " 7930,\n",
       " 3811,\n",
       " 667,\n",
       " 498,\n",
       " 850,\n",
       " 7938,\n",
       " 4,\n",
       " 9,\n",
       " 302,\n",
       " 127,\n",
       " 22,\n",
       " 531,\n",
       " 586,\n",
       " 337,\n",
       " 199,\n",
       " 446,\n",
       " 4148,\n",
       " 516,\n",
       " 7938,\n",
       " 4,\n",
       " 9,\n",
       " 1008,\n",
       " 2017,\n",
       " 2356,\n",
       " 667,\n",
       " 629,\n",
       " 104,\n",
       " 4160,\n",
       " 7981,\n",
       " 4,\n",
       " 9,\n",
       " 302,\n",
       " 110,\n",
       " 664,\n",
       " 109,\n",
       " 2798,\n",
       " 45,\n",
       " 887,\n",
       " 548,\n",
       " 3335,\n",
       " 613,\n",
       " 7938,\n",
       " 4,\n",
       " 9,\n",
       " 7967,\n",
       " 1271,\n",
       " 7953,\n",
       " 53,\n",
       " 163,\n",
       " 1093,\n",
       " 7953,\n",
       " 7930,\n",
       " 7315,\n",
       " 91,\n",
       " 1545,\n",
       " 7972,\n",
       " 7930,\n",
       " 1575,\n",
       " 5679,\n",
       " 1559,\n",
       " 28,\n",
       " 7935,\n",
       " 278,\n",
       " 7938,\n",
       " 4,\n",
       " 9,\n",
       " 6759,\n",
       " 13,\n",
       " 2548,\n",
       " 209,\n",
       " 466,\n",
       " 436,\n",
       " 1186,\n",
       " 342,\n",
       " 1493,\n",
       " 7938,\n",
       " 4,\n",
       " 9,\n",
       " 1255,\n",
       " 1545,\n",
       " 163,\n",
       " 3848,\n",
       " 7938,\n",
       " 45,\n",
       " 163,\n",
       " 558,\n",
       " 1545,\n",
       " 369,\n",
       " 3019,\n",
       " 7981,\n",
       " 4,\n",
       " 9,\n",
       " 821,\n",
       " 82,\n",
       " 494,\n",
       " 270,\n",
       " 22,\n",
       " 610,\n",
       " 7953,\n",
       " 7930,\n",
       " 2978,\n",
       " 6329,\n",
       " 2301,\n",
       " 7938,\n",
       " 4,\n",
       " 9,\n",
       " 103,\n",
       " 1394,\n",
       " 5121,\n",
       " 45,\n",
       " 22,\n",
       " 58,\n",
       " 1192,\n",
       " 7937,\n",
       " 3870,\n",
       " 7938,\n",
       " 4,\n",
       " 9,\n",
       " 2389,\n",
       " 887,\n",
       " 548,\n",
       " 4960,\n",
       " 1199,\n",
       " 105,\n",
       " 154,\n",
       " 163,\n",
       " 1868,\n",
       " 7938,\n",
       " 4,\n",
       " 9,\n",
       " 103,\n",
       " 2017,\n",
       " 2680,\n",
       " 7933,\n",
       " 5971,\n",
       " 7953,\n",
       " 53,\n",
       " 4519,\n",
       " 61,\n",
       " 38,\n",
       " 323,\n",
       " 7943,\n",
       " 201,\n",
       " 54,\n",
       " 7981,\n",
       " 4,\n",
       " 10,\n",
       " 7966,\n",
       " 364,\n",
       " 22,\n",
       " 610,\n",
       " 7938,\n",
       " 277,\n",
       " 959,\n",
       " 116,\n",
       " 772,\n",
       " 70,\n",
       " 4609,\n",
       " 60,\n",
       " 7938,\n",
       " 4,\n",
       " 10,\n",
       " 197,\n",
       " 2036,\n",
       " 22,\n",
       " 610,\n",
       " 7953,\n",
       " 7930,\n",
       " 3567,\n",
       " 7938,\n",
       " 199,\n",
       " 22,\n",
       " 1726,\n",
       " 47,\n",
       " 188,\n",
       " 7939,\n",
       " 0,\n",
       " 0,\n",
       " 0,\n",
       " 0,\n",
       " 0,\n",
       " 0,\n",
       " 0,\n",
       " 0,\n",
       " 0,\n",
       " 0,\n",
       " 0,\n",
       " 0,\n",
       " 0,\n",
       " 0,\n",
       " 0,\n",
       " 0,\n",
       " 0,\n",
       " 0,\n",
       " 0,\n",
       " 0,\n",
       " 0,\n",
       " 0,\n",
       " 0,\n",
       " 0,\n",
       " 0,\n",
       " 0,\n",
       " 0,\n",
       " 0,\n",
       " 0,\n",
       " 0,\n",
       " 0,\n",
       " 0,\n",
       " 0,\n",
       " 0,\n",
       " 0,\n",
       " 0,\n",
       " 0,\n",
       " 0,\n",
       " 0,\n",
       " 0,\n",
       " 0,\n",
       " 0,\n",
       " 0,\n",
       " 0,\n",
       " 0,\n",
       " 0,\n",
       " 0,\n",
       " 0,\n",
       " 0,\n",
       " 0,\n",
       " 0,\n",
       " 0,\n",
       " 0,\n",
       " 0,\n",
       " 0,\n",
       " 0,\n",
       " 0,\n",
       " 0,\n",
       " 0,\n",
       " 0,\n",
       " 0,\n",
       " 0,\n",
       " 0,\n",
       " 0,\n",
       " 0,\n",
       " 0,\n",
       " 0,\n",
       " 0,\n",
       " 0,\n",
       " 0,\n",
       " 0,\n",
       " 0,\n",
       " 0,\n",
       " 0,\n",
       " 0,\n",
       " 0,\n",
       " 0,\n",
       " 0,\n",
       " 0,\n",
       " 0,\n",
       " 0,\n",
       " 0,\n",
       " 0,\n",
       " 0,\n",
       " 0,\n",
       " 0,\n",
       " 0,\n",
       " 0,\n",
       " 0,\n",
       " 0,\n",
       " 0,\n",
       " 0,\n",
       " 0,\n",
       " 0,\n",
       " 0,\n",
       " 0]"
      ]
     },
     "execution_count": 283,
     "metadata": {},
     "output_type": "execute_result"
    }
   ],
   "source": [
    "next(iter(rcts_bpe_v4_ds)).numpy().shape"
   ]
  },
  {
   "cell_type": "code",
   "execution_count": null,
   "id": "1ad0b2ae-1443-4fe4-b74d-b29344334da4",
   "metadata": {},
   "outputs": [],
   "source": []
  }
 ],
 "metadata": {
  "kernelspec": {
   "display_name": "Python 3 (ipykernel)",
   "language": "python",
   "name": "python3"
  },
  "language_info": {
   "codemirror_mode": {
    "name": "ipython",
    "version": 3
   },
   "file_extension": ".py",
   "mimetype": "text/x-python",
   "name": "python",
   "nbconvert_exporter": "python",
   "pygments_lexer": "ipython3",
   "version": "3.9.16"
  }
 },
 "nbformat": 4,
 "nbformat_minor": 5
}
