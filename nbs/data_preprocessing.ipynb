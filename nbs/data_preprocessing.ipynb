{
 "cells": [
  {
   "cell_type": "markdown",
   "id": "29279551-2a6d-480f-8fe2-d18017f56b20",
   "metadata": {},
   "source": [
    "<div align=\"center\">\n",
    "\n",
    "# 🚀 Spearecode Preprocessing 🚀\n",
    "\n",
    "</div>\n",
    "\n",
    "<br>\n",
    "\n",
    "Welcome to the **Spearecode Preprocessing Notebook**! This notebook will guide you through the necessary preprocessing steps to prepare a toy dataset for Language Model training. We will focus on making the dataset more suitable for training by performing the following steps:\n",
    "\n",
    "1. 📚 **Loading the dataset**: We'll start by importing the dataset from a file or external source.\n",
    "2. 📦 **Chunking the text**: The dataset will be divided into smaller chunks or segments, making it easier to process during training.\n",
    "3. 💬 **Tokenization**: Each chunk of text will be split into individual tokens (words or subwords), which are the basic units for language models.\n",
    "4. 📊 **Basic Exploratory Data Analysis (EDA)**: We'll analyze the dataset's characteristics, such as token frequency, to gain insights and identify potential issues.\n",
    "\n",
    "After completing the preprocessing and EDA, the toy dataset will be converted into `TFRecords` format. This efficient binary format is designed for use with TensorFlow and will enable seamless integration with your Language Model training pipeline.\n",
    "\n",
    "Let's dive in and start preprocessing the dataset! 🎉\n"
   ]
  },
  {
   "cell_type": "markdown",
   "id": "76a62943-0d3c-4aae-933b-2a5fbe751ad6",
   "metadata": {},
   "source": [
    "<br><br>\n",
    "\n",
    "<div align=\"center\">\n",
    "\n",
    "# 🌟 Table of Contents 🌟\n",
    "\n",
    "</div>\n",
    "\n",
    "---\n",
    "\n",
    "0. [**Setup**](#setup)\n",
    "1. [**Loading the Dataset**](#loading-the-dataset)\n",
    "2. [**Chunking the Text**](#chunking-the-text)\n",
    "3. [**Tokenization**](#tokenization)\n",
    "4. [**Basic Exploratory Data Analysis (EDA)**](#basic-eda)\n",
    "5. [**Converting to TFRecords**](#converting-to-tfrecords)\n",
    "\n",
    "---\n",
    "\n"
   ]
  },
  {
   "cell_type": "markdown",
   "id": "59e83729-e61a-4d94-a074-17ccb60593dc",
   "metadata": {},
   "source": [
    "<br>\n",
    "\n",
    "<div align=\"center\">\n",
    "\n",
    "## 🛠️ Setup <a name=\"setup\"></a>\n",
    "\n",
    "</div>\n",
    "\n",
    "<br>\n",
    "\n",
    "In this section, we'll import required libraries and methods from our utilities file. We will also define relevant paths and high level information we may need later. We also run a few basic Tensorflow setup steps to ensure optimal and reproducible runs."
   ]
  },
  {
   "cell_type": "code",
   "execution_count": 1,
   "id": "8ab4c015-345e-4c48-a749-c7094604fecf",
   "metadata": {},
   "outputs": [],
   "source": [
    "# !pip install --upgrade tokenizer-viz\n",
    "\n",
    "# Regular imports (native python and pypi packages)\n",
    "import os\n",
    "import sys\n",
    "import random\n",
    "import numpy as np\n",
    "import pandas as pd\n",
    "from glob import glob\n",
    "import tensorflow as tf\n",
    "import sentencepiece as spm\n",
    "from IPython.display import HTML, display\n",
    "from tokenizer_viz import TokenVisualization\n",
    "from tqdm.notebook import tqdm; tqdm.pandas()\n",
    "\n",
    "# Add project root into path so imports work\n",
    "PROJECT_DIR = os.path.dirname(os.getcwd())\n",
    "sys.path.insert(0, PROJECT_DIR) \n",
    "\n",
    "# Our project imports\n",
    "from spearecode.preprocessing_utils import (\n",
    "    load_from_txt_file, preprocess_shakespeare, save_to_txt_file, print_check_speare\n",
    ")\n",
    "from spearecode.general_utils import (\n",
    "    tf_xla_jit, tf_set_memory_growth, seed_it_all, flatten_l_o_l, print_ln\n",
    ")\n",
    "from spearecode.filtering_utils import (\n",
    "    save_ds_version, drop_str_from_col_names, pad_truncate_centered,\n",
    "    get_metadata_df, check_chunks, tokenize, get_n_tokens,\n",
    "    get_n_lines, get_n_chars\n",
    ")\n",
    "from spearecode.tfrecord_utils import write_tfrecords\n",
    "\n",
    "\n",
    "### DEFINE PATHS --- [PROJECT_DIR=\"/home/paperspace/home/spearecode\"] --- ###\n",
    "NBS_PATH = os.path.join(PROJECT_DIR, \"nbs\")\n",
    "DATA_PATH = os.path.join(PROJECT_DIR, \"data\")\n",
    "SS_TEXT_PATH = os.path.join(DATA_PATH, \"t8.shakespeare.txt\")\n",
    "PREPROCESSED_FULL_TEXT_PATH = SS_TEXT_PATH.replace(\".txt\", \"_preprocessed.txt\")"
   ]
  },
  {
   "cell_type": "markdown",
   "id": "3975cca8-555a-4871-a41a-3ba37c72aa12",
   "metadata": {},
   "source": [
    "<br>\n",
    "\n",
    "<div align=\"center\">\n",
    "\n",
    "## 📚 Loading the Dataset <a name=\"loading-the-dataset\"></a>\n",
    "\n",
    "</div>\n",
    "\n",
    "<br>\n",
    "\n",
    "In this section, we'll import the dataset from a file or external source. The dataset will be read into memory, allowing us to manipulate and process the text as needed throughout the preprocessing steps.\n"
   ]
  },
  {
   "cell_type": "code",
   "execution_count": 2,
   "id": "1c7fa905-5791-48de-9933-bcd0fcfe95bc",
   "metadata": {},
   "outputs": [
    {
     "name": "stdout",
     "output_type": "stream",
     "text": [
      "\n",
      "... DATASET INFO:\n",
      "\tNUMBER OF CHARS --> 5,419,872\n",
      "\tNUMBER OF LINES --> 120,696\n",
      "\n",
      "\n",
      "... FIRST 1000 CHARACTERS:\n",
      "\n",
      "\n",
      "\n",
      "1\n",
      "  From fairest creatures we desire increase,\n",
      "  That thereby beauty's rose might never die,\n",
      "  But as the riper should by time decease,\n",
      "  His tender heir might bear his memory:\n",
      "  But thou contracted to thine own bright eyes,\n",
      "  Feed'st thy light's flame with self-substantial fuel,\n",
      "  Making a famine where abundance lies,\n",
      "  Thy self thy foe, to thy sweet self too cruel:\n",
      "  Thou that art now the world's fresh ornament,\n",
      "  And only herald to the gaudy spring,\n",
      "  Within thine own bud buriest thy content,\n",
      "  And tender churl mak'st waste in niggarding:\n",
      "    Pity the world, or else this glutton be,\n",
      "    To eat the world's due, by the grave and thee.\n",
      "\n",
      "2\n",
      "  When forty winters shall besiege thy brow,\n",
      "  And dig deep trenches in thy beauty's field,\n",
      "  Thy youth's proud livery so gazed on now,\n",
      "  Will be a tattered weed of small worth held:  \n",
      "  Then being asked, where all thy beauty lies,\n",
      "  Where all the treasure of thy lusty days;\n",
      "  To say within thine own deep sunken eyes,\n",
      "  Were an all-eating shame, and\n",
      "\n",
      "\n",
      "... LAST 1000 CHARACTERS:\n",
      "\n",
      "hite and swoon at tragic shows;\n",
      "\n",
      "  'That not a heart which in his level came\n",
      "  Could scape the hail of his all-hurting aim,\n",
      "  Showing fair nature is both kind and tame;\n",
      "  And, veiled in them, did win whom he would maim.\n",
      "  Against the thing he sought he would exclaim;\n",
      "  When he most burned in heart-wished luxury,\n",
      "  He preached pure maid and praised cold chastity.\n",
      "\n",
      "  'Thus merely with the garment of a Grace  \n",
      "  The naked and concealed fiend he covered,\n",
      "  That th' unexperient gave the tempter place,\n",
      "  Which, like a cherubin, above them hovered.\n",
      "  Who, young and simple, would not be so lovered?\n",
      "  Ay me, I fell, and yet do question make\n",
      "  What I should do again for such a sake.\n",
      "\n",
      "  'O, that infected moisture of his eye,\n",
      "  O, that false fire which in his cheek so glowed,\n",
      "  O, that forced thunder from his heart did fly,\n",
      "  O, that sad breath his spongy lungs bestowed,\n",
      "  O, all that borrowed motion, seeming owed,\n",
      "  Would yet again betray the fore-betrayed,\n",
      "  And new pervert a reconciled maid.'\n",
      "\n",
      "\n",
      "\n",
      "\n",
      "... RANDOM 1000 CHARACTERS:\n",
      "\n",
      "   And nights bright days when dreams do show thee me.\n",
      "\n",
      "44\n",
      "  If the dull substance of my flesh were thought,\n",
      "  Injurious distance should not stop my way,\n",
      "  For then despite of space I would be brought,\n",
      "  From limits far remote, where thou dost stay,\n",
      "  No matter then although my foot did stand\n",
      "  Upon the farthest earth removed from thee,\n",
      "  For nimble thought can jump both sea and land,\n",
      "  As soon as think the place where he would be.\n",
      "  But ah, thought kills me that I am not thought\n",
      "  To leap large lengths of miles when thou art gone,\n",
      "  But that so much of earth and water wrought,\n",
      "  I must attend, time's leisure with my moan.  \n",
      "    Receiving nought by elements so slow,\n",
      "    But heavy tears, badges of either's woe.\n",
      "\n",
      "45\n",
      "  The other two, slight air, and purging fire,\n",
      "  Are both with thee, wherever I abide,\n",
      "  The first my thought, the other my desire,\n",
      "  These present-absent with swift motion slide.\n",
      "  For when these quicker elements are gone\n",
      "  In tender embassy of love to thee,\n",
      "  My\n"
     ]
    }
   ],
   "source": [
    "raw_text = load_from_txt_file(SS_TEXT_PATH)\n",
    "ss_text = preprocess_shakespeare(raw_text)\n",
    "save_to_txt_file(ss_text, PREPROCESSED_FULL_TEXT_PATH)\n",
    "print_check_speare(ss_text)"
   ]
  },
  {
   "cell_type": "markdown",
   "id": "06ead5a1-5ce2-448f-83fd-7c38cd7ba060",
   "metadata": {},
   "source": [
    "<br>\n",
    "\n",
    "<div align=\"center\">\n",
    "\n",
    "## 📦 Chunking the Text <a name=\"chunking-the-text\"></a>\n",
    "\n",
    "</div>\n",
    "\n",
    "<br>\n",
    "\n",
    "Once the dataset is loaded, we'll divide it into smaller chunks or segments. This step is crucial for making the dataset more similar to code files (which is the type of data we will be using during the other parallel streams).\n",
    "\n",
    "I implement two simple methods:\n",
    "1. A basic double newline split **(`\\n\\n`)** resulting in 6294 chunks\n",
    "2. Using Langchain RecursiveTextSplitter to chunk to a particular text length\n",
    "    * This allows us to specify our desired text length and even overlap the chunks.\n",
    "        * Note we allow for a small amount of overlap and this may cause some leakage... but whatever.\n",
    "    * **We will use this method for our purposes.**\n",
    "    \n"
   ]
  },
  {
   "cell_type": "code",
   "execution_count": 3,
   "id": "1a8bb3c7-0144-4bb9-ba56-97e91893fae6",
   "metadata": {},
   "outputs": [],
   "source": [
    "def do_rcts_chunking(text, chunk_size=1024, chunk_overlap=128, length_fn=len):\n",
    "    \"\"\"\n",
    "    Perform Recursive Character Text Splitting (RCTS) chunking on the input text.\n",
    "    \n",
    "    Args:\n",
    "        text (str): The input text to be chunked.\n",
    "        chunk_size (int): The maximum size of each chunk.\n",
    "        chunk_overlap (int): The number of overlapping characters between adjacent chunks.\n",
    "        length_fn (callable, optional): Function to calculate the length of the text. Defaults to len.\n",
    "    \n",
    "    Returns:\n",
    "        list: A list of chunked text segments.\n",
    "    \"\"\"\n",
    "    # Import the RecursiveCharacterTextSplitter from langchain.text_splitter module\n",
    "    from langchain.text_splitter import RecursiveCharacterTextSplitter\n",
    "    \n",
    "    # Instantiate the text splitter with the specified parameters\n",
    "    text_splitter = RecursiveCharacterTextSplitter(\n",
    "        chunk_size=chunk_size,\n",
    "        chunk_overlap=chunk_overlap,\n",
    "        length_function=length_fn,\n",
    "    )\n",
    "    \n",
    "    # Split the input text into chunks\n",
    "    docs = text_splitter.create_documents([text])\n",
    "    \n",
    "    # Return the list of chunked text segments\n",
    "    return [x.page_content for x in docs if len(x.page_content)>1]\n",
    "\n",
    "def do_basic_chunking(text, chunk_delimeter=\"\\n\\n\", max_length=1800, min_length=300):\n",
    "    \"\"\"\n",
    "    Perform basic chunking on the input text using the specified delimiter.\n",
    "    \n",
    "    Args:\n",
    "        text (str): The input text to be chunked.\n",
    "        chunk_delimeter (str, optional): The delimiter used to split the text. Defaults to \"\\n\\n\".\n",
    "    \n",
    "    Returns:\n",
    "        list: A list of chunked text segments.\n",
    "    \"\"\"\n",
    "    # Split the input text based on the specified delimiter (ensure no empty chunks by stripping from ends)\n",
    "    raw_docs = text.strip(chunk_delimeter).split(chunk_delimeter)\n",
    "    tmp_docs = []\n",
    "    docs = []\n",
    "    \n",
    "    while len(raw_docs)>0:\n",
    "        doc = raw_docs.pop()\n",
    "        \n",
    "        if len(doc)>max_length:\n",
    "            raw_docs+=doc.split(\"\\n\")\n",
    "        elif len(doc)<min_length:\n",
    "            tmp_docs.append(doc)\n",
    "        else:\n",
    "            docs.append(doc)\n",
    "            \n",
    "        if len(\"\\n\".join(tmp_docs))>min_length:\n",
    "            docs.append(\"\\n\".join(tmp_docs))\n",
    "            tmp_docs = []\n",
    "    if tmp_docs:\n",
    "        docs.append(\"\\n\".join(tmp_docs))\n",
    "    \n",
    "    # Return the list of chunked text segments\n",
    "    return docs"
   ]
  },
  {
   "cell_type": "code",
   "execution_count": 4,
   "id": "14f23a54-67a5-4cf8-aa1a-e855b024faad",
   "metadata": {},
   "outputs": [
    {
     "name": "stdout",
     "output_type": "stream",
     "text": [
      "\n",
      "... FIRST BASIC CHUNK ...\n",
      "\n",
      "  'O, that infected moisture of his eye,\n",
      "  O, that false fire which in his cheek so glowed,\n",
      "  O, that forced thunder from his heart did fly,\n",
      "  O, that sad breath his spongy lungs bestowed,\n",
      "  O, all that borrowed motion, seeming owed,\n",
      "  Would yet again betray the fore-betrayed,\n",
      "  And new pervert a reconciled maid.'\n",
      "\n",
      "... FIRST RCTS CHUNK ...\n",
      "\n",
      "1\n",
      "  From fairest creatures we desire increase,\n",
      "  That thereby beauty's rose might never die,\n",
      "  But as the riper should by time decease,\n",
      "  His tender heir might bear his memory:\n",
      "  But thou contracted to thine own bright eyes,\n",
      "  Feed'st thy light's flame with self-substantial fuel,\n",
      "  Making a famine where abundance lies,\n",
      "  Thy self thy foe, to thy sweet self too cruel:\n",
      "  Thou that art now the world's fresh ornament,\n",
      "  And only herald to the gaudy spring,\n",
      "  Within thine own bud buriest thy content,\n",
      "  And tender churl mak'st waste in niggarding:\n",
      "    Pity the world, or else this glutton be,\n",
      "    To eat the world's due, by the grave and thee.\n",
      "\n",
      "... EXAMPLE RANDOM BASIC CHUNK ...\n",
      "\n",
      "  COUNTESS. If thou be he, then art thou prisoner.\n",
      "  TALBOT. Prisoner! To whom?\n",
      "  COUNTESS. To me, blood-thirsty lord\n",
      "    And for that cause I train'd thee to my house.\n",
      "    Long time thy shadow hath been thrall to me,\n",
      "    For in my gallery thy picture hangs;\n",
      "    But now the substance shall endure the like\n",
      "    And I will chain these legs and arms of thine\n",
      "    That hast by tyranny these many years\n",
      "    Wasted our country, slain our citizens,\n",
      "    And sent our sons and husbands captivate.\n",
      "  TALBOT. Ha, ha, ha!\n",
      "  COUNTESS. Laughest thou, wretch? Thy mirth shall turn to\n",
      "    moan.\n",
      "  TALBOT. I laugh to see your ladyship so fond\n",
      "    To think that you have aught but Talbot's shadow\n",
      "    Whereon to practise your severity.  \n",
      "  COUNTESS. Why, art not thou the man?\n",
      "  TALBOT. I am indeed.\n",
      "  COUNTESS. Then have I substance too.\n",
      "  TALBOT. No, no, I am but shadow of myself.\n",
      "    You are deceiv'd, my substance is not here;\n",
      "    For what you see is but the smallest part\n",
      "    And least proportion of humanity.\n",
      "    I tell you, madam, were the whole frame here,\n",
      "    It is of such a spacious lofty pitch\n",
      "    Your roof were not sufficient to contain 't.\n",
      "  COUNTESS. This is a riddling merchant for the nonce;\n",
      "    He will be here, and yet he is not here.\n",
      "    How can these contrarieties agree?\n",
      "  TALBOT. That will I show you presently.\n",
      "\n",
      "... EXAMPLE RANDOM RCTS CHUNK ...\n",
      "\n",
      "Enter ADRIANA, LUCIANA, the COURTEZAN, and a SCHOOLMASTER\n",
      "call'd PINCH\n",
      "\n",
      "... LAST BASIC CHUNK ...\n",
      "\n",
      "  KING OF FRANCE\n",
      "  THE DUKE OF FLORENCE\n",
      "  BERTRAM, Count of Rousillon\n",
      "  LAFEU, an old lord\n",
      "  PAROLLES, a follower of Bertram\n",
      "  TWO FRENCH LORDS, serving with Bertram\n",
      "Dramatis Personae\n",
      "\n",
      "\n",
      "... LAST RCTS CHUNK ...\n",
      "\n",
      "'Thus merely with the garment of a Grace  \n",
      "  The naked and concealed fiend he covered,\n",
      "  That th' unexperient gave the tempter place,\n",
      "  Which, like a cherubin, above them hovered.\n",
      "  Who, young and simple, would not be so lovered?\n",
      "  Ay me, I fell, and yet do question make\n",
      "  What I should do again for such a sake.\n",
      "\n",
      "  'O, that infected moisture of his eye,\n",
      "  O, that false fire which in his cheek so glowed,\n",
      "  O, that forced thunder from his heart did fly,\n",
      "  O, that sad breath his spongy lungs bestowed,\n",
      "  O, all that borrowed motion, seeming owed,\n",
      "  Would yet again betray the fore-betrayed,\n",
      "  And new pervert a reconciled maid.'\n"
     ]
    }
   ],
   "source": [
    "# Feel free to pass non-default kwargs \n",
    "#    -- otherwise the rcts chunks will overlap by 64 and be 512 characters long\n",
    "CHUNK_STYLE = \"basic\" # one of ['basic' | 'rcts']\n",
    "basic_chunks = do_basic_chunking(ss_text)\n",
    "rcts_chunks = do_rcts_chunking(ss_text)\n",
    "\n",
    "print(\"\\n... FIRST BASIC CHUNK ...\\n\")\n",
    "print(basic_chunks[0])\n",
    "\n",
    "print(\"\\n... FIRST RCTS CHUNK ...\\n\")\n",
    "print(rcts_chunks[0])\n",
    "\n",
    "print(\"\\n... EXAMPLE RANDOM BASIC CHUNK ...\\n\")\n",
    "print(random.sample(basic_chunks, 1)[0])\n",
    "\n",
    "print(\"\\n... EXAMPLE RANDOM RCTS CHUNK ...\\n\")\n",
    "print(random.sample(rcts_chunks, 1)[0])\n",
    "\n",
    "print(\"\\n... LAST BASIC CHUNK ...\\n\")\n",
    "print(basic_chunks[-1])\n",
    "\n",
    "print(\"\\n... LAST RCTS CHUNK ...\\n\")\n",
    "print(rcts_chunks[-1])\n"
   ]
  },
  {
   "cell_type": "markdown",
   "id": "57026a1f-c7b1-4d04-892b-0f8505b94ff8",
   "metadata": {},
   "source": [
    "<br>\n",
    "\n",
    "<div align=\"center\">\n",
    "\n",
    "## 💬 Tokenization <a name=\"tokenization\"></a>\n",
    "\n",
    "</div>\n",
    "\n",
    "<br>\n",
    "\n",
    "In this section, we'll tokenize the text, which involves splitting the chunks into individual tokens (words or subwords). Tokenization is an essential step in preprocessing, as it helps the Language Model understand the basic units of the text and learn meaningful patterns.\n",
    "\n",
    "* We will train our tokenizer on the non-chunked dataset (after basic preprocessing), however, we will \n"
   ]
  },
  {
   "cell_type": "code",
   "execution_count": 5,
   "id": "4517b50e-c416-408b-8480-61ffb558f310",
   "metadata": {},
   "outputs": [
    {
     "name": "stderr",
     "output_type": "stream",
     "text": [
      "sentencepiece_trainer.cc(77) LOG(INFO) Starts training with : \n",
      "trainer_spec {\n",
      "  input: /home/paperspace/home/spearecode/data/t8.shakespeare_preprocessed.txt\n",
      "  input_format: \n",
      "  model_prefix: /home/paperspace/home/spearecode/models/spearecode_unigram\n",
      "  model_type: UNIGRAM\n",
      "  vocab_size: 8000\n",
      "  self_test_sample_size: 0\n",
      "  character_coverage: 1\n",
      "  input_sentence_size: 0\n",
      "  shuffle_input_sentence: 1\n",
      "  seed_sentencepiece_size: 1000000\n",
      "  shrinking_factor: 0.75\n",
      "  max_sentence_length: 4192\n",
      "  num_threads: 8\n",
      "  num_sub_iterations: 2\n",
      "  max_sentencepiece_length: 16\n",
      "  split_by_unicode_script: 1\n",
      "  split_by_number: 1\n",
      "  split_by_whitespace: 1\n",
      "  split_digits: 0\n",
      "  treat_whitespace_as_suffix: 0\n",
      "  allow_whitespace_only_pieces: 1\n",
      "  user_defined_symbols: \n",
      "\n",
      "  user_defined_symbols: \t\n",
      "  user_defined_symbols: \n",
      "  user_defined_symbols: \f",
      "\n",
      "  user_defined_symbols: \u000b",
      "\n",
      "  required_chars: \n",
      "  byte_fallback: 0\n",
      "  vocabulary_output_piece_score: 1\n",
      "  train_extremely_large_corpus: 0\n",
      "  hard_vocab_limit: 1\n",
      "  use_all_vocab: 0\n",
      "  unk_id: 1\n",
      "  bos_id: 2\n",
      "  eos_id: 3\n",
      "  pad_id: 0\n",
      "  unk_piece: <unk>\n",
      "  bos_piece: <s>\n",
      "  eos_piece: </s>\n",
      "  pad_piece: <pad>\n",
      "  unk_surface:  ⁇ \n",
      "  enable_differential_privacy: 0\n",
      "  differential_privacy_noise_level: 0\n",
      "  differential_privacy_clipping_threshold: 0\n",
      "}\n",
      "normalizer_spec {\n",
      "  name: identity\n",
      "  add_dummy_prefix: 0\n",
      "  remove_extra_whitespaces: 0\n",
      "  escape_whitespaces: 1\n",
      "  normalization_rule_tsv: \n",
      "}\n",
      "denormalizer_spec {}\n",
      "trainer_interface.cc(350) LOG(INFO) SentenceIterator is not specified. Using MultiFileSentenceIterator.\n",
      "trainer_interface.cc(181) LOG(INFO) Loading corpus: /home/paperspace/home/spearecode/data/t8.shakespeare_preprocessed.txt\n",
      "trainer_interface.cc(406) LOG(INFO) Loaded all 114360 sentences\n",
      "trainer_interface.cc(422) LOG(INFO) Adding meta_piece: <pad>\n",
      "trainer_interface.cc(422) LOG(INFO) Adding meta_piece: <unk>\n",
      "trainer_interface.cc(422) LOG(INFO) Adding meta_piece: <s>\n",
      "trainer_interface.cc(422) LOG(INFO) Adding meta_piece: </s>\n",
      "trainer_interface.cc(422) LOG(INFO) Adding meta_piece: \n",
      "\n",
      "trainer_interface.cc(422) LOG(INFO) Adding meta_piece: \t\n",
      "trainer_interface.cc(422) LOG(INFO) Adding meta_piece: \n",
      "trainer_interface.cc(422) LOG(INFO) Adding meta_piece: \f",
      "\n",
      "trainer_interface.cc(422) LOG(INFO) Adding meta_piece: \u000b",
      "\n",
      "trainer_interface.cc(427) LOG(INFO) Normalizing sentences...\n",
      "trainer_interface.cc(536) LOG(INFO) all chars count=5299176\n",
      "trainer_interface.cc(557) LOG(INFO) Alphabet size=77\n",
      "trainer_interface.cc(558) LOG(INFO) Final character coverage=1\n",
      "trainer_interface.cc(590) LOG(INFO) Done! preprocessed 114360 sentences.\n",
      "unigram_model_trainer.cc(146) LOG(INFO) Making suffix array...\n",
      "unigram_model_trainer.cc(150) LOG(INFO) Extracting frequent sub strings...\n",
      "unigram_model_trainer.cc(201) LOG(INFO) Initialized 78089 seed sentencepieces\n",
      "trainer_interface.cc(596) LOG(INFO) Tokenizing input sentences with whitespace: 114360\n",
      "trainer_interface.cc(607) LOG(INFO) Done! 77750\n",
      "unigram_model_trainer.cc(491) LOG(INFO) Using 77750 sentences for EM training\n",
      "unigram_model_trainer.cc(507) LOG(INFO) EM sub_iter=0 size=31260 obj=12.1669 num_tokens=175594 num_tokens/piece=5.61721\n",
      "unigram_model_trainer.cc(507) LOG(INFO) EM sub_iter=1 size=25419 obj=9.62394 num_tokens=177420 num_tokens/piece=6.97982\n",
      "unigram_model_trainer.cc(507) LOG(INFO) EM sub_iter=0 size=19056 obj=9.5851 num_tokens=184455 num_tokens/piece=9.67963\n",
      "unigram_model_trainer.cc(507) LOG(INFO) EM sub_iter=1 size=19034 obj=9.54152 num_tokens=184468 num_tokens/piece=9.6915\n",
      "unigram_model_trainer.cc(507) LOG(INFO) EM sub_iter=0 size=14275 obj=9.63803 num_tokens=196779 num_tokens/piece=13.7849\n",
      "unigram_model_trainer.cc(507) LOG(INFO) EM sub_iter=1 size=14275 obj=9.61312 num_tokens=198143 num_tokens/piece=13.8804\n",
      "unigram_model_trainer.cc(507) LOG(INFO) EM sub_iter=0 size=10706 obj=9.76839 num_tokens=213280 num_tokens/piece=19.9215\n",
      "unigram_model_trainer.cc(507) LOG(INFO) EM sub_iter=1 size=10706 obj=9.73732 num_tokens=213252 num_tokens/piece=19.9189\n",
      "unigram_model_trainer.cc(507) LOG(INFO) EM sub_iter=0 size=8800 obj=9.8596 num_tokens=224558 num_tokens/piece=25.518\n",
      "unigram_model_trainer.cc(507) LOG(INFO) EM sub_iter=1 size=8800 obj=9.83874 num_tokens=224561 num_tokens/piece=25.5183\n",
      "trainer_interface.cc(685) LOG(INFO) Saving model: /home/paperspace/home/spearecode/models/spearecode_unigram.model\n",
      "trainer_interface.cc(697) LOG(INFO) Saving vocabs: /home/paperspace/home/spearecode/models/spearecode_unigram.vocab\n",
      "trainer_interface.cc(705) LOG(WARNING) The piece [\n",
      "] contains escaped characters that break the format of /home/paperspace/home/spearecode/models/spearecode_unigram.vocab\n",
      "trainer_interface.cc(705) LOG(WARNING) The piece [\t] contains escaped characters that break the format of /home/paperspace/home/spearecode/models/spearecode_unigram.vocab\n",
      "] contains escaped characters that break the format of /home/paperspace/home/spearecode/models/spearecode_unigram.vocab\n",
      "sentencepiece_trainer.cc(77) LOG(INFO) Starts training with : \n",
      "trainer_spec {\n",
      "  input: /home/paperspace/home/spearecode/data/t8.shakespeare_preprocessed.txt\n",
      "  input_format: \n",
      "  model_prefix: /home/paperspace/home/spearecode/models/spearecode_bpe\n",
      "  model_type: BPE\n",
      "  vocab_size: 8000\n",
      "  self_test_sample_size: 0\n",
      "  character_coverage: 1\n",
      "  input_sentence_size: 0\n",
      "  shuffle_input_sentence: 1\n",
      "  seed_sentencepiece_size: 1000000\n",
      "  shrinking_factor: 0.75\n",
      "  max_sentence_length: 4192\n",
      "  num_threads: 8\n",
      "  num_sub_iterations: 2\n",
      "  max_sentencepiece_length: 16\n",
      "  split_by_unicode_script: 1\n",
      "  split_by_number: 1\n",
      "  split_by_whitespace: 1\n",
      "  split_digits: 0\n",
      "  treat_whitespace_as_suffix: 0\n",
      "  allow_whitespace_only_pieces: 1\n",
      "  user_defined_symbols: \n",
      "\n",
      "  user_defined_symbols: \t\n",
      "  user_defined_symbols: \n",
      "  user_defined_symbols: \f",
      "\n",
      "  user_defined_symbols: \u000b",
      "\n",
      "  required_chars: \n",
      "  byte_fallback: 0\n",
      "  vocabulary_output_piece_score: 1\n",
      "  train_extremely_large_corpus: 0\n",
      "  hard_vocab_limit: 1\n",
      "  use_all_vocab: 0\n",
      "  unk_id: 1\n",
      "  bos_id: 2\n",
      "  eos_id: 3\n",
      "  pad_id: 0\n",
      "  unk_piece: <unk>\n",
      "  bos_piece: <s>\n",
      "  eos_piece: </s>\n",
      "  pad_piece: <pad>\n",
      "  unk_surface:  ⁇ \n",
      "  enable_differential_privacy: 0\n",
      "  differential_privacy_noise_level: 0\n",
      "  differential_privacy_clipping_threshold: 0\n",
      "}\n",
      "normalizer_spec {\n",
      "  name: identity\n",
      "  add_dummy_prefix: 0\n",
      "  remove_extra_whitespaces: 0\n",
      "  escape_whitespaces: 1\n",
      "  normalization_rule_tsv: \n",
      "}\n",
      "denormalizer_spec {}\n",
      "trainer_interface.cc(350) LOG(INFO) SentenceIterator is not specified. Using MultiFileSentenceIterator.\n",
      "trainer_interface.cc(181) LOG(INFO) Loading corpus: /home/paperspace/home/spearecode/data/t8.shakespeare_preprocessed.txt\n",
      "trainer_interface.cc(406) LOG(INFO) Loaded all 114360 sentences\n",
      "trainer_interface.cc(422) LOG(INFO) Adding meta_piece: <pad>\n",
      "trainer_interface.cc(422) LOG(INFO) Adding meta_piece: <unk>\n",
      "trainer_interface.cc(422) LOG(INFO) Adding meta_piece: <s>\n",
      "trainer_interface.cc(422) LOG(INFO) Adding meta_piece: </s>\n",
      "trainer_interface.cc(422) LOG(INFO) Adding meta_piece: \n",
      "\n",
      "trainer_interface.cc(422) LOG(INFO) Adding meta_piece: \t\n",
      "trainer_interface.cc(422) LOG(INFO) Adding meta_piece: \n",
      "trainer_interface.cc(422) LOG(INFO) Adding meta_piece: \f",
      "\n",
      "trainer_interface.cc(422) LOG(INFO) Adding meta_piece: \u000b",
      "\n",
      "trainer_interface.cc(427) LOG(INFO) Normalizing sentences...\n",
      "trainer_interface.cc(536) LOG(INFO) all chars count=5299176\n",
      "trainer_interface.cc(557) LOG(INFO) Alphabet size=77\n",
      "trainer_interface.cc(558) LOG(INFO) Final character coverage=1\n",
      "trainer_interface.cc(590) LOG(INFO) Done! preprocessed 114360 sentences.\n",
      "trainer_interface.cc(596) LOG(INFO) Tokenizing input sentences with whitespace: 114360\n",
      "trainer_interface.cc(607) LOG(INFO) Done! 77750\n",
      "bpe_model_trainer.cc(167) LOG(INFO) Updating active symbols. max_freq=250614 min_freq=21\n",
      "bpe_model_trainer.cc(258) LOG(INFO) Added: freq=28144 size=20 all=2074 active=1662 piece=▁f\n",
      "bpe_model_trainer.cc(258) LOG(INFO) Added: freq=16872 size=40 all=2694 active=2282 piece=▁of\n",
      "bpe_model_trainer.cc(258) LOG(INFO) Added: freq=10287 size=60 all=3675 active=3263 piece=ay\n",
      "bpe_model_trainer.cc(258) LOG(INFO) Added: freq=7598 size=80 all=4552 active=4140 piece=ke\n",
      "bpe_model_trainer.cc(258) LOG(INFO) Added: freq=5919 size=100 all=5437 active=5025 piece=ER\n",
      "bpe_model_trainer.cc(167) LOG(INFO) Updating active symbols. max_freq=5862 min_freq=448\n",
      "bpe_model_trainer.cc(258) LOG(INFO) Added: freq=5014 size=120 all=6042 active=1567 piece=ver\n",
      "bpe_model_trainer.cc(258) LOG(INFO) Added: freq=4275 size=140 all=6935 active=2460 piece=ES\n",
      "bpe_model_trainer.cc(258) LOG(INFO) Added: freq=3698 size=160 all=7807 active=3332 piece=OR\n",
      "bpe_model_trainer.cc(258) LOG(INFO) Added: freq=3125 size=180 all=8592 active=4117 piece=▁thee\n",
      "bpe_model_trainer.cc(258) LOG(INFO) Added: freq=2669 size=200 all=9173 active=4698 piece=▁at\n",
      "bpe_model_trainer.cc(167) LOG(INFO) Updating active symbols. max_freq=2645 min_freq=403\n",
      "bpe_model_trainer.cc(258) LOG(INFO) Added: freq=2366 size=220 all=9925 active=1749 piece=ul\n",
      "bpe_model_trainer.cc(258) LOG(INFO) Added: freq=2128 size=240 all=10643 active=2467 piece=au\n",
      "bpe_model_trainer.cc(258) LOG(INFO) Added: freq=1980 size=260 all=11269 active=3093 piece=▁can\n",
      "bpe_model_trainer.cc(258) LOG(INFO) Added: freq=1828 size=280 all=11859 active=3683 piece=▁What\n",
      "bpe_model_trainer.cc(258) LOG(INFO) Added: freq=1649 size=300 all=12315 active=4139 piece=um\n",
      "bpe_model_trainer.cc(167) LOG(INFO) Updating active symbols. max_freq=1645 min_freq=353\n",
      "bpe_model_trainer.cc(258) LOG(INFO) Added: freq=1571 size=320 all=12918 active=1501 piece=▁one\n",
      "bpe_model_trainer.cc(258) LOG(INFO) Added: freq=1429 size=340 all=13253 active=1836 piece=▁ho\n",
      "bpe_model_trainer.cc(258) LOG(INFO) Added: freq=1308 size=360 all=13677 active=2260 piece=pt\n",
      "bpe_model_trainer.cc(258) LOG(INFO) Added: freq=1209 size=380 all=14090 active=2673 piece=TR\n",
      "bpe_model_trainer.cc(258) LOG(INFO) Added: freq=1123 size=400 all=14602 active=3185 piece=ist\n",
      "bpe_model_trainer.cc(167) LOG(INFO) Updating active symbols. max_freq=1121 min_freq=308\n",
      "bpe_model_trainer.cc(258) LOG(INFO) Added: freq=1054 size=420 all=15119 active=1424 piece=ose\n",
      "bpe_model_trainer.cc(258) LOG(INFO) Added: freq=990 size=440 all=15480 active=1785 piece=▁cha\n",
      "bpe_model_trainer.cc(258) LOG(INFO) Added: freq=940 size=460 all=15962 active=2267 piece=▁day\n",
      "bpe_model_trainer.cc(258) LOG(INFO) Added: freq=895 size=480 all=16519 active=2824 piece=▁AN\n",
      "bpe_model_trainer.cc(258) LOG(INFO) Added: freq=868 size=500 all=16830 active=3135 piece=INE\n",
      "bpe_model_trainer.cc(167) LOG(INFO) Updating active symbols. max_freq=864 min_freq=270\n",
      "bpe_model_trainer.cc(258) LOG(INFO) Added: freq=815 size=520 all=17116 active=1277 piece=▁fear\n",
      "bpe_model_trainer.cc(258) LOG(INFO) Added: freq=785 size=540 all=17514 active=1675 piece=▁own\n",
      "bpe_model_trainer.cc(258) LOG(INFO) Added: freq=748 size=560 all=17740 active=1901 piece=man\n",
      "bpe_model_trainer.cc(258) LOG(INFO) Added: freq=712 size=580 all=18109 active=2270 piece=▁How\n",
      "bpe_model_trainer.cc(258) LOG(INFO) Added: freq=683 size=600 all=18530 active=2691 piece=▁▁▁▁▁▁▁▁▁▁▁▁▁▁\n",
      "bpe_model_trainer.cc(167) LOG(INFO) Updating active symbols. max_freq=682 min_freq=243\n",
      "bpe_model_trainer.cc(258) LOG(INFO) Added: freq=653 size=620 all=18691 active=1161 piece=▁im\n",
      "bpe_model_trainer.cc(258) LOG(INFO) Added: freq=633 size=640 all=18990 active=1460 piece=▁stand\n",
      "bpe_model_trainer.cc(258) LOG(INFO) Added: freq=604 size=660 all=19096 active=1566 piece=So\n",
      "bpe_model_trainer.cc(258) LOG(INFO) Added: freq=580 size=680 all=19351 active=1821 piece=for\n",
      "bpe_model_trainer.cc(258) LOG(INFO) Added: freq=565 size=700 all=19724 active=2194 piece=ENT\n",
      "bpe_model_trainer.cc(167) LOG(INFO) Updating active symbols. max_freq=565 min_freq=219\n",
      "bpe_model_trainer.cc(258) LOG(INFO) Added: freq=555 size=720 all=20101 active=1355 piece=eace\n",
      "bpe_model_trainer.cc(258) LOG(INFO) Added: freq=529 size=740 all=20254 active=1508 piece=▁Duke\n",
      "bpe_model_trainer.cc(258) LOG(INFO) Added: freq=515 size=760 all=20519 active=1773 piece=nto\n",
      "bpe_model_trainer.cc(258) LOG(INFO) Added: freq=496 size=780 all=20895 active=2149 piece=ier\n",
      "bpe_model_trainer.cc(258) LOG(INFO) Added: freq=483 size=800 all=21202 active=2456 piece=▁Thou\n",
      "bpe_model_trainer.cc(167) LOG(INFO) Updating active symbols. max_freq=482 min_freq=193\n",
      "bpe_model_trainer.cc(258) LOG(INFO) Added: freq=464 size=820 all=21561 active=1420 piece=▁little\n",
      "bpe_model_trainer.cc(258) LOG(INFO) Added: freq=451 size=840 all=21836 active=1695 piece=its\n",
      "bpe_model_trainer.cc(258) LOG(INFO) Added: freq=440 size=860 all=22035 active=1894 piece=▁chi\n",
      "bpe_model_trainer.cc(258) LOG(INFO) Added: freq=430 size=880 all=22202 active=2061 piece=▁himself\n",
      "bpe_model_trainer.cc(258) LOG(INFO) Added: freq=415 size=900 all=22433 active=2292 piece=led\n",
      "bpe_model_trainer.cc(167) LOG(INFO) Updating active symbols. max_freq=415 min_freq=180\n",
      "bpe_model_trainer.cc(258) LOG(INFO) Added: freq=406 size=920 all=22657 active=1292 piece=eds\n",
      "bpe_model_trainer.cc(258) LOG(INFO) Added: freq=396 size=940 all=22833 active=1468 piece=▁tongue\n",
      "bpe_model_trainer.cc(258) LOG(INFO) Added: freq=383 size=960 all=23114 active=1749 piece=ICK\n",
      "bpe_model_trainer.cc(258) LOG(INFO) Added: freq=377 size=980 all=23249 active=1884 piece=▁mean\n",
      "bpe_model_trainer.cc(258) LOG(INFO) Added: freq=367 size=1000 all=23383 active=2018 piece=His\n",
      "bpe_model_trainer.cc(167) LOG(INFO) Updating active symbols. max_freq=367 min_freq=164\n",
      "bpe_model_trainer.cc(258) LOG(INFO) Added: freq=362 size=1020 all=23474 active=1260 piece=UTED\n",
      "bpe_model_trainer.cc(258) LOG(INFO) Added: freq=357 size=1040 all=23632 active=1418 piece=air\n",
      "bpe_model_trainer.cc(258) LOG(INFO) Added: freq=349 size=1060 all=23815 active=1601 piece=▁husband\n",
      "bpe_model_trainer.cc(258) LOG(INFO) Added: freq=339 size=1080 all=24018 active=1804 piece=▁Br\n",
      "bpe_model_trainer.cc(258) LOG(INFO) Added: freq=331 size=1100 all=24098 active=1884 piece=▁whom\n",
      "bpe_model_trainer.cc(167) LOG(INFO) Updating active symbols. max_freq=331 min_freq=151\n",
      "bpe_model_trainer.cc(258) LOG(INFO) Added: freq=322 size=1120 all=24271 active=1378 piece=pect\n",
      "bpe_model_trainer.cc(258) LOG(INFO) Added: freq=312 size=1140 all=24454 active=1561 piece=▁state\n",
      "bpe_model_trainer.cc(258) LOG(INFO) Added: freq=305 size=1160 all=24635 active=1742 piece=▁shame\n",
      "bpe_model_trainer.cc(258) LOG(INFO) Added: freq=298 size=1180 all=24777 active=1884 piece=bs\n",
      "bpe_model_trainer.cc(258) LOG(INFO) Added: freq=293 size=1200 all=24962 active=2069 piece=▁happ\n",
      "bpe_model_trainer.cc(167) LOG(INFO) Updating active symbols. max_freq=291 min_freq=136\n",
      "bpe_model_trainer.cc(258) LOG(INFO) Added: freq=284 size=1220 all=25166 active=1447 piece=▁Not\n",
      "bpe_model_trainer.cc(258) LOG(INFO) Added: freq=277 size=1240 all=25316 active=1597 piece=ener\n",
      "bpe_model_trainer.cc(258) LOG(INFO) Added: freq=272 size=1260 all=25439 active=1720 piece=pen\n",
      "bpe_model_trainer.cc(258) LOG(INFO) Added: freq=268 size=1280 all=25655 active=1936 piece=▁lay\n",
      "bpe_model_trainer.cc(258) LOG(INFO) Added: freq=264 size=1300 all=25900 active=2181 piece=▁CH\n",
      "bpe_model_trainer.cc(167) LOG(INFO) Updating active symbols. max_freq=264 min_freq=125\n",
      "bpe_model_trainer.cc(258) LOG(INFO) Added: freq=260 size=1320 all=26147 active=1533 piece=▁swear\n",
      "bpe_model_trainer.cc(258) LOG(INFO) Added: freq=257 size=1340 all=26205 active=1591 piece=ats\n",
      "bpe_model_trainer.cc(258) LOG(INFO) Added: freq=250 size=1360 all=26414 active=1800 piece=ads\n",
      "bpe_model_trainer.cc(258) LOG(INFO) Added: freq=246 size=1380 all=26573 active=1959 piece=▁return\n",
      "bpe_model_trainer.cc(258) LOG(INFO) Added: freq=242 size=1400 all=26719 active=2105 piece=▁through\n",
      "bpe_model_trainer.cc(167) LOG(INFO) Updating active symbols. max_freq=241 min_freq=115\n",
      "bpe_model_trainer.cc(258) LOG(INFO) Added: freq=236 size=1420 all=26914 active=1529 piece=ithe\n",
      "bpe_model_trainer.cc(258) LOG(INFO) Added: freq=233 size=1440 all=27032 active=1647 piece=▁itself\n",
      "bpe_model_trainer.cc(258) LOG(INFO) Added: freq=229 size=1460 all=27173 active=1788 piece=▁business\n",
      "bpe_model_trainer.cc(258) LOG(INFO) Added: freq=225 size=1480 all=27299 active=1914 piece=▁sight\n",
      "bpe_model_trainer.cc(258) LOG(INFO) Added: freq=220 size=1500 all=27459 active=2074 piece=▁proud\n",
      "bpe_model_trainer.cc(167) LOG(INFO) Updating active symbols. max_freq=220 min_freq=106\n",
      "bpe_model_trainer.cc(258) LOG(INFO) Added: freq=215 size=1520 all=27600 active=1511 piece=PER\n",
      "bpe_model_trainer.cc(258) LOG(INFO) Added: freq=212 size=1540 all=27685 active=1596 piece=MAC\n",
      "bpe_model_trainer.cc(258) LOG(INFO) Added: freq=209 size=1560 all=27842 active=1753 piece=▁def\n",
      "bpe_model_trainer.cc(258) LOG(INFO) Added: freq=204 size=1580 all=27986 active=1897 piece=eon\n",
      "bpe_model_trainer.cc(258) LOG(INFO) Added: freq=201 size=1600 all=28102 active=2013 piece=▁cond\n",
      "bpe_model_trainer.cc(167) LOG(INFO) Updating active symbols. max_freq=201 min_freq=99\n",
      "bpe_model_trainer.cc(258) LOG(INFO) Added: freq=198 size=1620 all=28192 active=1489 piece=Lear\n",
      "bpe_model_trainer.cc(258) LOG(INFO) Added: freq=195 size=1640 all=28330 active=1627 piece=aim\n",
      "bpe_model_trainer.cc(258) LOG(INFO) Added: freq=193 size=1660 all=28544 active=1841 piece=▁trust\n",
      "bpe_model_trainer.cc(258) LOG(INFO) Added: freq=190 size=1680 all=28707 active=2004 piece=THIS\n",
      "bpe_model_trainer.cc(258) LOG(INFO) Added: freq=188 size=1700 all=28792 active=2089 piece=▁worthy\n",
      "bpe_model_trainer.cc(167) LOG(INFO) Updating active symbols. max_freq=187 min_freq=93\n",
      "bpe_model_trainer.cc(258) LOG(INFO) Added: freq=186 size=1720 all=28869 active=1517 piece=WARWICK\n",
      "bpe_model_trainer.cc(258) LOG(INFO) Added: freq=182 size=1740 all=28934 active=1582 piece=gue\n",
      "bpe_model_trainer.cc(258) LOG(INFO) Added: freq=181 size=1760 all=28957 active=1605 piece=NLY\n",
      "bpe_model_trainer.cc(258) LOG(INFO) Added: freq=181 size=1780 all=28966 active=1614 piece=▁INC\n",
      "bpe_model_trainer.cc(258) LOG(INFO) Added: freq=181 size=1800 all=28987 active=1635 piece=▁USED\n",
      "bpe_model_trainer.cc(167) LOG(INFO) Updating active symbols. max_freq=181 min_freq=88\n",
      "bpe_model_trainer.cc(258) LOG(INFO) Added: freq=181 size=1820 all=28985 active=1448 piece=PROVIDED\n",
      "bpe_model_trainer.cc(258) LOG(INFO) Added: freq=181 size=1840 all=28968 active=1431 piece=DISTRIBUTED\n",
      "bpe_model_trainer.cc(258) LOG(INFO) Added: freq=179 size=1860 all=29000 active=1463 piece=▁content\n",
      "bpe_model_trainer.cc(258) LOG(INFO) Added: freq=177 size=1880 all=29147 active=1610 piece=▁certain\n",
      "bpe_model_trainer.cc(258) LOG(INFO) Added: freq=174 size=1900 all=29243 active=1706 piece=BUR\n",
      "bpe_model_trainer.cc(167) LOG(INFO) Updating active symbols. max_freq=174 min_freq=84\n",
      "bpe_model_trainer.cc(258) LOG(INFO) Added: freq=172 size=1920 all=29336 active=1548 piece=▁report\n",
      "bpe_model_trainer.cc(258) LOG(INFO) Added: freq=170 size=1940 all=29388 active=1600 piece=Though\n",
      "bpe_model_trainer.cc(258) LOG(INFO) Added: freq=167 size=1960 all=29538 active=1750 piece=▁ten\n",
      "bpe_model_trainer.cc(258) LOG(INFO) Added: freq=165 size=1980 all=29598 active=1810 piece=▁est\n",
      "bpe_model_trainer.cc(258) LOG(INFO) Added: freq=163 size=2000 all=29701 active=1913 piece=esh\n",
      "bpe_model_trainer.cc(167) LOG(INFO) Updating active symbols. max_freq=163 min_freq=80\n",
      "bpe_model_trainer.cc(258) LOG(INFO) Added: freq=161 size=2020 all=29825 active=1598 piece=ries\n",
      "bpe_model_trainer.cc(258) LOG(INFO) Added: freq=159 size=2040 all=29916 active=1689 piece=▁watch\n",
      "bpe_model_trainer.cc(258) LOG(INFO) Added: freq=157 size=2060 all=30093 active=1866 piece=▁patience\n",
      "bpe_model_trainer.cc(258) LOG(INFO) Added: freq=154 size=2080 all=30164 active=1937 piece=PANDARUS\n",
      "bpe_model_trainer.cc(258) LOG(INFO) Added: freq=152 size=2100 all=30289 active=2062 piece=▁enter\n",
      "bpe_model_trainer.cc(167) LOG(INFO) Updating active symbols. max_freq=152 min_freq=76\n",
      "bpe_model_trainer.cc(258) LOG(INFO) Added: freq=150 size=2120 all=30393 active=1617 piece=▁att\n",
      "bpe_model_trainer.cc(258) LOG(INFO) Added: freq=148 size=2140 all=30467 active=1691 piece=▁behold\n",
      "bpe_model_trainer.cc(258) LOG(INFO) Added: freq=146 size=2160 all=30555 active=1779 piece=▁servant\n",
      "bpe_model_trainer.cc(258) LOG(INFO) Added: freq=143 size=2180 all=30617 active=1841 piece=ISTOL\n",
      "bpe_model_trainer.cc(258) LOG(INFO) Added: freq=141 size=2200 all=30788 active=2012 piece=▁feel\n",
      "bpe_model_trainer.cc(167) LOG(INFO) Updating active symbols. max_freq=141 min_freq=72\n",
      "bpe_model_trainer.cc(258) LOG(INFO) Added: freq=139 size=2220 all=30861 active=1611 piece=▁whe\n",
      "bpe_model_trainer.cc(258) LOG(INFO) Added: freq=138 size=2240 all=30929 active=1679 piece=▁EDWARD\n",
      "bpe_model_trainer.cc(258) LOG(INFO) Added: freq=136 size=2260 all=31138 active=1888 piece=ona\n",
      "bpe_model_trainer.cc(258) LOG(INFO) Added: freq=135 size=2280 all=31224 active=1974 piece=ICINIUS\n",
      "bpe_model_trainer.cc(258) LOG(INFO) Added: freq=133 size=2300 all=31362 active=2112 piece=▁Alas\n",
      "bpe_model_trainer.cc(167) LOG(INFO) Updating active symbols. max_freq=133 min_freq=68\n",
      "bpe_model_trainer.cc(258) LOG(INFO) Added: freq=131 size=2320 all=31471 active=1678 piece=▁presently\n",
      "bpe_model_trainer.cc(258) LOG(INFO) Added: freq=129 size=2340 all=31571 active=1778 piece=Leon\n",
      "bpe_model_trainer.cc(258) LOG(INFO) Added: freq=128 size=2360 all=31721 active=1928 piece=▁mot\n",
      "bpe_model_trainer.cc(258) LOG(INFO) Added: freq=127 size=2380 all=31788 active=1995 piece=PISTOL\n",
      "bpe_model_trainer.cc(258) LOG(INFO) Added: freq=126 size=2400 all=31828 active=2035 piece=Should\n",
      "bpe_model_trainer.cc(167) LOG(INFO) Updating active symbols. max_freq=126 min_freq=65\n",
      "bpe_model_trainer.cc(258) LOG(INFO) Added: freq=124 size=2420 all=31933 active=1697 piece=Against\n",
      "bpe_model_trainer.cc(258) LOG(INFO) Added: freq=122 size=2440 all=32031 active=1795 piece=pes\n",
      "bpe_model_trainer.cc(258) LOG(INFO) Added: freq=121 size=2460 all=32154 active=1918 piece=▁understand\n",
      "bpe_model_trainer.cc(258) LOG(INFO) Added: freq=119 size=2480 all=32267 active=2031 piece=▁abs\n",
      "bpe_model_trainer.cc(258) LOG(INFO) Added: freq=118 size=2500 all=32331 active=2095 piece=ffect\n",
      "bpe_model_trainer.cc(167) LOG(INFO) Updating active symbols. max_freq=118 min_freq=62\n",
      "bpe_model_trainer.cc(258) LOG(INFO) Added: freq=117 size=2520 all=32379 active=1656 piece=asters\n",
      "bpe_model_trainer.cc(258) LOG(INFO) Added: freq=116 size=2540 all=32517 active=1794 piece=▁fam\n",
      "bpe_model_trainer.cc(258) LOG(INFO) Added: freq=114 size=2560 all=32581 active=1858 piece=▁lim\n",
      "bpe_model_trainer.cc(258) LOG(INFO) Added: freq=113 size=2580 all=32731 active=2008 piece=▁case\n",
      "bpe_model_trainer.cc(258) LOG(INFO) Added: freq=112 size=2600 all=32860 active=2137 piece=LUCIO\n",
      "bpe_model_trainer.cc(167) LOG(INFO) Updating active symbols. max_freq=112 min_freq=59\n",
      "bpe_model_trainer.cc(258) LOG(INFO) Added: freq=110 size=2620 all=32955 active=1738 piece=sp\n",
      "bpe_model_trainer.cc(258) LOG(INFO) Added: freq=110 size=2640 all=33119 active=1902 piece=▁second\n",
      "bpe_model_trainer.cc(258) LOG(INFO) Added: freq=108 size=2660 all=33199 active=1982 piece=ety\n",
      "bpe_model_trainer.cc(258) LOG(INFO) Added: freq=107 size=2680 all=33308 active=2091 piece=▁MUR\n",
      "bpe_model_trainer.cc(258) LOG(INFO) Added: freq=106 size=2700 all=33402 active=2185 piece=▁shi\n",
      "bpe_model_trainer.cc(167) LOG(INFO) Updating active symbols. max_freq=106 min_freq=57\n",
      "bpe_model_trainer.cc(258) LOG(INFO) Added: freq=105 size=2720 all=33499 active=1759 piece=▁Per\n",
      "bpe_model_trainer.cc(258) LOG(INFO) Added: freq=104 size=2740 all=33614 active=1874 piece=elcome\n",
      "bpe_model_trainer.cc(258) LOG(INFO) Added: freq=103 size=2760 all=33667 active=1927 piece=▁noise\n",
      "bpe_model_trainer.cc(258) LOG(INFO) Added: freq=102 size=2780 all=33761 active=2021 piece=▁seems\n",
      "bpe_model_trainer.cc(258) LOG(INFO) Added: freq=101 size=2800 all=33862 active=2122 piece=▁bears\n",
      "bpe_model_trainer.cc(167) LOG(INFO) Updating active symbols. max_freq=101 min_freq=54\n",
      "bpe_model_trainer.cc(258) LOG(INFO) Added: freq=100 size=2820 all=33913 active=1745 piece=▁forgot\n",
      "bpe_model_trainer.cc(258) LOG(INFO) Added: freq=99 size=2840 all=33967 active=1799 piece=▁dangerous\n",
      "bpe_model_trainer.cc(258) LOG(INFO) Added: freq=98 size=2860 all=34013 active=1845 piece=▁rememb\n",
      "bpe_model_trainer.cc(258) LOG(INFO) Added: freq=97 size=2880 all=34105 active=1937 piece=▁valour\n",
      "bpe_model_trainer.cc(258) LOG(INFO) Added: freq=96 size=2900 all=34165 active=1997 piece=▁wisdom\n",
      "bpe_model_trainer.cc(167) LOG(INFO) Updating active symbols. max_freq=96 min_freq=53\n",
      "bpe_model_trainer.cc(258) LOG(INFO) Added: freq=95 size=2920 all=34280 active=1823 piece=▁offence\n",
      "bpe_model_trainer.cc(258) LOG(INFO) Added: freq=94 size=2940 all=34393 active=1936 piece=▁faults\n",
      "bpe_model_trainer.cc(258) LOG(INFO) Added: freq=92 size=2960 all=34560 active=2103 piece=ume\n",
      "bpe_model_trainer.cc(258) LOG(INFO) Added: freq=91 size=2980 all=34680 active=2223 piece=▁See\n",
      "bpe_model_trainer.cc(258) LOG(INFO) Added: freq=90 size=3000 all=34761 active=2304 piece=ANNE\n",
      "bpe_model_trainer.cc(167) LOG(INFO) Updating active symbols. max_freq=90 min_freq=50\n",
      "bpe_model_trainer.cc(258) LOG(INFO) Added: freq=90 size=3020 all=34816 active=1794 piece=▁quickly\n",
      "bpe_model_trainer.cc(258) LOG(INFO) Added: freq=89 size=3040 all=34931 active=1909 piece=▁taken\n",
      "bpe_model_trainer.cc(258) LOG(INFO) Added: freq=88 size=3060 all=34993 active=1971 piece=▁Gree\n",
      "bpe_model_trainer.cc(258) LOG(INFO) Added: freq=87 size=3080 all=35070 active=2048 piece=▁sus\n",
      "bpe_model_trainer.cc(258) LOG(INFO) Added: freq=86 size=3100 all=35112 active=2090 piece=▁army\n",
      "bpe_model_trainer.cc(167) LOG(INFO) Updating active symbols. max_freq=86 min_freq=49\n",
      "bpe_model_trainer.cc(258) LOG(INFO) Added: freq=85 size=3120 all=35197 active=1841 piece=▁Cor\n",
      "bpe_model_trainer.cc(258) LOG(INFO) Added: freq=85 size=3140 all=35243 active=1887 piece=OUCHSTONE\n",
      "bpe_model_trainer.cc(258) LOG(INFO) Added: freq=84 size=3160 all=35353 active=1997 piece=▁Suff\n",
      "bpe_model_trainer.cc(258) LOG(INFO) Added: freq=83 size=3180 all=35399 active=2043 piece=Scene\n",
      "bpe_model_trainer.cc(258) LOG(INFO) Added: freq=82 size=3200 all=35501 active=2145 piece=rate\n",
      "bpe_model_trainer.cc(167) LOG(INFO) Updating active symbols. max_freq=82 min_freq=47\n",
      "bpe_model_trainer.cc(258) LOG(INFO) Added: freq=81 size=3220 all=35559 active=1819 piece=erc\n",
      "bpe_model_trainer.cc(258) LOG(INFO) Added: freq=81 size=3240 all=35664 active=1924 piece=▁wealth\n",
      "bpe_model_trainer.cc(258) LOG(INFO) Added: freq=80 size=3260 all=35706 active=1966 piece=▁drawn\n",
      "bpe_model_trainer.cc(258) LOG(INFO) Added: freq=79 size=3280 all=35760 active=2020 piece=▁Val\n",
      "bpe_model_trainer.cc(258) LOG(INFO) Added: freq=79 size=3300 all=35802 active=2062 piece=▁street\n",
      "bpe_model_trainer.cc(167) LOG(INFO) Updating active symbols. max_freq=79 min_freq=45\n",
      "bpe_model_trainer.cc(258) LOG(INFO) Added: freq=78 size=3320 all=35865 active=1854 piece=ISANIO\n",
      "bpe_model_trainer.cc(258) LOG(INFO) Added: freq=77 size=3340 all=35934 active=1923 piece=CONST\n",
      "bpe_model_trainer.cc(258) LOG(INFO) Added: freq=76 size=3360 all=35966 active=1955 piece=IEL\n",
      "bpe_model_trainer.cc(258) LOG(INFO) Added: freq=76 size=3380 all=36110 active=2099 piece=▁monst\n",
      "bpe_model_trainer.cc(258) LOG(INFO) Added: freq=75 size=3400 all=36185 active=2174 piece=woman\n",
      "bpe_model_trainer.cc(167) LOG(INFO) Updating active symbols. max_freq=75 min_freq=43\n",
      "bpe_model_trainer.cc(258) LOG(INFO) Added: freq=74 size=3420 all=36222 active=1841 piece=INC\n",
      "bpe_model_trainer.cc(258) LOG(INFO) Added: freq=74 size=3440 all=36317 active=1936 piece=▁Before\n",
      "bpe_model_trainer.cc(258) LOG(INFO) Added: freq=73 size=3460 all=36355 active=1974 piece=UTOLY\n",
      "bpe_model_trainer.cc(258) LOG(INFO) Added: freq=72 size=3480 all=36366 active=1985 piece=1.\n",
      "bpe_model_trainer.cc(258) LOG(INFO) Added: freq=72 size=3500 all=36466 active=2085 piece=▁drunk\n",
      "bpe_model_trainer.cc(167) LOG(INFO) Updating active symbols. max_freq=72 min_freq=41\n",
      "bpe_model_trainer.cc(258) LOG(INFO) Added: freq=71 size=3520 all=36469 active=1826 piece=ts\n",
      "bpe_model_trainer.cc(258) LOG(INFO) Added: freq=71 size=3540 all=36647 active=2004 piece=▁dism\n",
      "bpe_model_trainer.cc(258) LOG(INFO) Added: freq=70 size=3560 all=36709 active=2066 piece=▁fig\n",
      "bpe_model_trainer.cc(258) LOG(INFO) Added: freq=69 size=3580 all=36757 active=2114 piece=2.\n",
      "bpe_model_trainer.cc(258) LOG(INFO) Added: freq=69 size=3600 all=36831 active=2188 piece=▁song\n",
      "bpe_model_trainer.cc(167) LOG(INFO) Updating active symbols. max_freq=69 min_freq=40\n",
      "bpe_model_trainer.cc(258) LOG(INFO) Added: freq=69 size=3620 all=36846 active=1856 piece=▁shouldst\n",
      "bpe_model_trainer.cc(258) LOG(INFO) Added: freq=68 size=3640 all=36964 active=1974 piece=▁neck\n",
      "bpe_model_trainer.cc(258) LOG(INFO) Added: freq=68 size=3660 all=36970 active=1980 piece=▁brothers\n",
      "bpe_model_trainer.cc(258) LOG(INFO) Added: freq=67 size=3680 all=37084 active=2094 piece=▁rans\n",
      "bpe_model_trainer.cc(258) LOG(INFO) Added: freq=67 size=3700 all=37094 active=2104 piece=▁Bolingbroke\n",
      "bpe_model_trainer.cc(167) LOG(INFO) Updating active symbols. max_freq=66 min_freq=39\n",
      "bpe_model_trainer.cc(258) LOG(INFO) Added: freq=66 size=3720 all=37230 active=1991 piece=▁meat\n",
      "bpe_model_trainer.cc(258) LOG(INFO) Added: freq=65 size=3740 all=37226 active=1987 piece=fl\n",
      "bpe_model_trainer.cc(258) LOG(INFO) Added: freq=65 size=3760 all=37288 active=2049 piece=▁wond\n",
      "bpe_model_trainer.cc(258) LOG(INFO) Added: freq=64 size=3780 all=37299 active=2060 piece=EF\n",
      "bpe_model_trainer.cc(258) LOG(INFO) Added: freq=64 size=3800 all=37401 active=2162 piece=▁knee\n",
      "bpe_model_trainer.cc(167) LOG(INFO) Updating active symbols. max_freq=64 min_freq=37\n",
      "bpe_model_trainer.cc(258) LOG(INFO) Added: freq=64 size=3820 all=37411 active=1881 piece=▁reasons\n",
      "bpe_model_trainer.cc(258) LOG(INFO) Added: freq=63 size=3840 all=37561 active=2031 piece=▁foe\n",
      "bpe_model_trainer.cc(258) LOG(INFO) Added: freq=63 size=3860 all=37602 active=2072 piece=▁London\n",
      "bpe_model_trainer.cc(258) LOG(INFO) Added: freq=62 size=3880 all=37637 active=2107 piece=thi\n",
      "bpe_model_trainer.cc(258) LOG(INFO) Added: freq=62 size=3900 all=37678 active=2148 piece=▁ransom\n",
      "bpe_model_trainer.cc(167) LOG(INFO) Updating active symbols. max_freq=62 min_freq=36\n",
      "bpe_model_trainer.cc(258) LOG(INFO) Added: freq=61 size=3920 all=37742 active=1946 piece=▁fle\n",
      "bpe_model_trainer.cc(258) LOG(INFO) Added: freq=61 size=3940 all=37797 active=2001 piece=▁weigh\n",
      "bpe_model_trainer.cc(258) LOG(INFO) Added: freq=60 size=3960 all=37856 active=2060 piece=▁Qu\n",
      "bpe_model_trainer.cc(258) LOG(INFO) Added: freq=60 size=3980 all=37951 active=2155 piece=itude\n",
      "bpe_model_trainer.cc(258) LOG(INFO) Added: freq=60 size=4000 all=37987 active=2191 piece=▁anger\n",
      "bpe_model_trainer.cc(167) LOG(INFO) Updating active symbols. max_freq=60 min_freq=35\n",
      "bpe_model_trainer.cc(258) LOG(INFO) Added: freq=60 size=4020 all=37986 active=1898 piece=▁breathe\n",
      "bpe_model_trainer.cc(258) LOG(INFO) Added: freq=59 size=4040 all=38049 active=1961 piece=ience\n",
      "bpe_model_trainer.cc(258) LOG(INFO) Added: freq=59 size=4060 all=38073 active=1985 piece=▁lawful\n",
      "bpe_model_trainer.cc(258) LOG(INFO) Added: freq=58 size=4080 all=38145 active=2057 piece=▁cat\n",
      "bpe_model_trainer.cc(258) LOG(INFO) Added: freq=58 size=4100 all=38200 active=2112 piece=▁Tybalt\n",
      "bpe_model_trainer.cc(167) LOG(INFO) Updating active symbols. max_freq=58 min_freq=34\n",
      "bpe_model_trainer.cc(258) LOG(INFO) Added: freq=57 size=4120 all=38193 active=1903 piece=TOM\n",
      "bpe_model_trainer.cc(258) LOG(INFO) Added: freq=57 size=4140 all=38308 active=2018 piece=▁dece\n",
      "bpe_model_trainer.cc(258) LOG(INFO) Added: freq=57 size=4160 all=38309 active=2019 piece=▁forgive\n",
      "bpe_model_trainer.cc(258) LOG(INFO) Added: freq=56 size=4180 all=38389 active=2099 piece=▁SH\n",
      "bpe_model_trainer.cc(258) LOG(INFO) Added: freq=56 size=4200 all=38438 active=2148 piece=ators\n",
      "bpe_model_trainer.cc(167) LOG(INFO) Updating active symbols. max_freq=56 min_freq=33\n",
      "bpe_model_trainer.cc(258) LOG(INFO) Added: freq=56 size=4220 all=38498 active=1973 piece=▁fancy\n",
      "bpe_model_trainer.cc(258) LOG(INFO) Added: freq=55 size=4240 all=38510 active=1985 piece=ald\n",
      "bpe_model_trainer.cc(258) LOG(INFO) Added: freq=55 size=4260 all=38586 active=2061 piece=▁shut\n",
      "bpe_model_trainer.cc(258) LOG(INFO) Added: freq=55 size=4280 all=38601 active=2076 piece=▁outward\n",
      "bpe_model_trainer.cc(258) LOG(INFO) Added: freq=54 size=4300 all=38681 active=2156 piece=▁Don\n",
      "bpe_model_trainer.cc(167) LOG(INFO) Updating active symbols. max_freq=54 min_freq=32\n",
      "bpe_model_trainer.cc(258) LOG(INFO) Added: freq=54 size=4320 all=38715 active=1967 piece=utenant\n",
      "bpe_model_trainer.cc(258) LOG(INFO) Added: freq=53 size=4340 all=38715 active=1967 piece=Bl\n",
      "bpe_model_trainer.cc(258) LOG(INFO) Added: freq=53 size=4360 all=38890 active=2142 piece=▁eng\n",
      "bpe_model_trainer.cc(258) LOG(INFO) Added: freq=53 size=4380 all=38967 active=2219 piece=▁bride\n",
      "bpe_model_trainer.cc(258) LOG(INFO) Added: freq=53 size=4400 all=38974 active=2226 piece=▁traitors\n",
      "bpe_model_trainer.cc(167) LOG(INFO) Updating active symbols. max_freq=53 min_freq=31\n",
      "bpe_model_trainer.cc(258) LOG(INFO) Added: freq=52 size=4420 all=39069 active=2044 piece=▁tid\n",
      "bpe_model_trainer.cc(258) LOG(INFO) Added: freq=52 size=4440 all=39097 active=2072 piece=▁faces\n",
      "bpe_model_trainer.cc(258) LOG(INFO) Added: freq=52 size=4460 all=39097 active=2072 piece=SATURNINUS\n",
      "bpe_model_trainer.cc(258) LOG(INFO) Added: freq=51 size=4480 all=39239 active=2214 piece=▁dig\n",
      "bpe_model_trainer.cc(258) LOG(INFO) Added: freq=51 size=4500 all=39315 active=2290 piece=▁benef\n",
      "bpe_model_trainer.cc(167) LOG(INFO) Updating active symbols. max_freq=51 min_freq=30\n",
      "bpe_model_trainer.cc(258) LOG(INFO) Added: freq=51 size=4520 all=39337 active=1983 piece=▁seeming\n",
      "bpe_model_trainer.cc(258) LOG(INFO) Added: freq=50 size=4540 all=39435 active=2081 piece=Call\n",
      "bpe_model_trainer.cc(258) LOG(INFO) Added: freq=50 size=4560 all=39562 active=2208 piece=▁perj\n",
      "bpe_model_trainer.cc(258) LOG(INFO) Added: freq=50 size=4580 all=39576 active=2222 piece=▁credit\n",
      "bpe_model_trainer.cc(258) LOG(INFO) Added: freq=49 size=4600 all=39613 active=2259 piece=soe\n",
      "bpe_model_trainer.cc(167) LOG(INFO) Updating active symbols. max_freq=49 min_freq=29\n",
      "bpe_model_trainer.cc(258) LOG(INFO) Added: freq=49 size=4620 all=39700 active=2057 piece=ating\n",
      "bpe_model_trainer.cc(258) LOG(INFO) Added: freq=49 size=4640 all=39744 active=2101 piece=▁habit\n",
      "bpe_model_trainer.cc(258) LOG(INFO) Added: freq=49 size=4660 all=39753 active=2110 piece=▁greatest\n",
      "bpe_model_trainer.cc(258) LOG(INFO) Added: freq=48 size=4680 all=39908 active=2265 piece=know\n",
      "bpe_model_trainer.cc(258) LOG(INFO) Added: freq=48 size=4700 all=39958 active=2315 piece=▁winds\n",
      "bpe_model_trainer.cc(167) LOG(INFO) Updating active symbols. max_freq=48 min_freq=28\n",
      "bpe_model_trainer.cc(258) LOG(INFO) Added: freq=48 size=4720 all=39965 active=2005 piece=▁Protector\n",
      "bpe_model_trainer.cc(258) LOG(INFO) Added: freq=47 size=4740 all=40051 active=2091 piece=utes\n",
      "bpe_model_trainer.cc(258) LOG(INFO) Added: freq=47 size=4760 all=40107 active=2147 piece=▁fiery\n",
      "bpe_model_trainer.cc(258) LOG(INFO) Added: freq=47 size=4780 all=40104 active=2144 piece=▁violent\n",
      "bpe_model_trainer.cc(258) LOG(INFO) Added: freq=46 size=4800 all=40156 active=2196 piece=hest\n",
      "bpe_model_trainer.cc(167) LOG(INFO) Updating active symbols. max_freq=46 min_freq=27\n",
      "bpe_model_trainer.cc(258) LOG(INFO) Added: freq=46 size=4820 all=40233 active=2077 piece=▁Ital\n",
      "bpe_model_trainer.cc(258) LOG(INFO) Added: freq=46 size=4840 all=40257 active=2101 piece=▁window\n",
      "bpe_model_trainer.cc(258) LOG(INFO) Added: freq=45 size=4860 all=40282 active=2126 piece=fac\n",
      "bpe_model_trainer.cc(258) LOG(INFO) Added: freq=45 size=4880 all=40346 active=2190 piece=iliar\n",
      "bpe_model_trainer.cc(258) LOG(INFO) Added: freq=45 size=4900 all=40383 active=2227 piece=▁chide\n",
      "bpe_model_trainer.cc(167) LOG(INFO) Updating active symbols. max_freq=45 min_freq=26\n",
      "bpe_model_trainer.cc(258) LOG(INFO) Added: freq=45 size=4920 all=40383 active=2020 piece=▁kinsman\n",
      "bpe_model_trainer.cc(258) LOG(INFO) Added: freq=44 size=4940 all=40431 active=2068 piece=IDOW\n",
      "bpe_model_trainer.cc(258) LOG(INFO) Added: freq=44 size=4960 all=40516 active=2153 piece=place\n",
      "bpe_model_trainer.cc(258) LOG(INFO) Added: freq=44 size=4980 all=40538 active=2175 piece=▁store\n",
      "bpe_model_trainer.cc(258) LOG(INFO) Added: freq=43 size=5000 all=40596 active=2233 piece=▁sy\n",
      "bpe_model_trainer.cc(167) LOG(INFO) Updating active symbols. max_freq=43 min_freq=25\n",
      "bpe_model_trainer.cc(258) LOG(INFO) Added: freq=43 size=5020 all=40669 active=2097 piece=▁fant\n",
      "bpe_model_trainer.cc(258) LOG(INFO) Added: freq=43 size=5040 all=40684 active=2112 piece=▁tread\n",
      "bpe_model_trainer.cc(258) LOG(INFO) Added: freq=42 size=5060 all=40676 active=2104 piece=Ha\n",
      "bpe_model_trainer.cc(258) LOG(INFO) Added: freq=42 size=5080 all=40753 active=2181 piece=twill\n",
      "bpe_model_trainer.cc(258) LOG(INFO) Added: freq=42 size=5100 all=40794 active=2222 piece=▁elder\n",
      "bpe_model_trainer.cc(167) LOG(INFO) Updating active symbols. max_freq=42 min_freq=25\n",
      "bpe_model_trainer.cc(258) LOG(INFO) Added: freq=42 size=5120 all=40805 active=2051 piece=▁farther\n",
      "bpe_model_trainer.cc(258) LOG(INFO) Added: freq=41 size=5140 all=40924 active=2170 piece=sequ\n",
      "bpe_model_trainer.cc(258) LOG(INFO) Added: freq=41 size=5160 all=40994 active=2240 piece=▁thie\n",
      "bpe_model_trainer.cc(258) LOG(INFO) Added: freq=41 size=5180 all=41004 active=2250 piece=▁island\n",
      "bpe_model_trainer.cc(258) LOG(INFO) Added: freq=40 size=5200 all=41022 active=2268 piece=Rem\n",
      "bpe_model_trainer.cc(167) LOG(INFO) Updating active symbols. max_freq=40 min_freq=24\n",
      "bpe_model_trainer.cc(258) LOG(INFO) Added: freq=40 size=5220 all=41097 active=2116 piece=▁abus\n",
      "bpe_model_trainer.cc(258) LOG(INFO) Added: freq=40 size=5240 all=41115 active=2134 piece=▁Banquo\n",
      "bpe_model_trainer.cc(258) LOG(INFO) Added: freq=40 size=5260 all=41120 active=2139 piece=▁confound\n",
      "bpe_model_trainer.cc(258) LOG(INFO) Added: freq=39 size=5280 all=41149 active=2168 piece=WER\n",
      "bpe_model_trainer.cc(258) LOG(INFO) Added: freq=39 size=5300 all=41280 active=2299 piece=▁mom\n",
      "bpe_model_trainer.cc(167) LOG(INFO) Updating active symbols. max_freq=39 min_freq=24\n",
      "bpe_model_trainer.cc(258) LOG(INFO) Added: freq=39 size=5320 all=41301 active=2084 piece=igious\n",
      "bpe_model_trainer.cc(258) LOG(INFO) Added: freq=39 size=5340 all=41309 active=2092 piece=▁hateful\n",
      "bpe_model_trainer.cc(258) LOG(INFO) Added: freq=38 size=5360 all=41305 active=2088 piece=jo\n",
      "bpe_model_trainer.cc(258) LOG(INFO) Added: freq=38 size=5380 all=41418 active=2201 piece=▁unw\n",
      "bpe_model_trainer.cc(258) LOG(INFO) Added: freq=38 size=5400 all=41466 active=2249 piece=engers\n",
      "bpe_model_trainer.cc(167) LOG(INFO) Updating active symbols. max_freq=38 min_freq=23\n",
      "bpe_model_trainer.cc(258) LOG(INFO) Added: freq=38 size=5420 all=41516 active=2119 piece=▁market\n",
      "bpe_model_trainer.cc(258) LOG(INFO) Added: freq=37 size=5440 all=41520 active=2123 piece=Two\n",
      "bpe_model_trainer.cc(258) LOG(INFO) Added: freq=37 size=5460 all=41578 active=2181 piece=▁Pis\n",
      "bpe_model_trainer.cc(258) LOG(INFO) Added: freq=37 size=5480 all=41641 active=2244 piece=▁isle\n",
      "bpe_model_trainer.cc(258) LOG(INFO) Added: freq=37 size=5500 all=41663 active=2266 piece=▁shoot\n",
      "bpe_model_trainer.cc(167) LOG(INFO) Updating active symbols. max_freq=37 min_freq=22\n",
      "bpe_model_trainer.cc(258) LOG(INFO) Added: freq=37 size=5520 all=41663 active=2082 piece=▁stroke\n",
      "bpe_model_trainer.cc(258) LOG(INFO) Added: freq=36 size=5540 all=41701 active=2120 piece=off\n",
      "bpe_model_trainer.cc(258) LOG(INFO) Added: freq=36 size=5560 all=41829 active=2248 piece=asted\n",
      "bpe_model_trainer.cc(258) LOG(INFO) Added: freq=36 size=5580 all=41874 active=2293 piece=should\n",
      "bpe_model_trainer.cc(258) LOG(INFO) Added: freq=36 size=5600 all=41883 active=2302 piece=▁consul\n",
      "bpe_model_trainer.cc(167) LOG(INFO) Updating active symbols. max_freq=36 min_freq=22\n",
      "bpe_model_trainer.cc(258) LOG(INFO) Added: freq=36 size=5620 all=41884 active=2094 piece=▁dignity\n",
      "bpe_model_trainer.cc(258) LOG(INFO) Added: freq=35 size=5640 all=41883 active=2093 piece=Su\n",
      "bpe_model_trainer.cc(258) LOG(INFO) Added: freq=35 size=5660 all=41987 active=2197 piece=tled\n",
      "bpe_model_trainer.cc(258) LOG(INFO) Added: freq=35 size=5680 all=42059 active=2269 piece=▁pomp\n",
      "bpe_model_trainer.cc(258) LOG(INFO) Added: freq=35 size=5700 all=42079 active=2289 piece=▁SENIOR\n",
      "bpe_model_trainer.cc(167) LOG(INFO) Updating active symbols. max_freq=35 min_freq=21\n",
      "bpe_model_trainer.cc(258) LOG(INFO) Added: freq=35 size=5720 all=42075 active=2100 piece=▁pleasant\n",
      "bpe_model_trainer.cc(258) LOG(INFO) Added: freq=34 size=5740 all=42085 active=2110 piece=POET\n",
      "bpe_model_trainer.cc(258) LOG(INFO) Added: freq=34 size=5760 all=42141 active=2166 piece=uries\n",
      "bpe_model_trainer.cc(258) LOG(INFO) Added: freq=34 size=5780 all=42166 active=2191 piece=upiter\n",
      "bpe_model_trainer.cc(258) LOG(INFO) Added: freq=34 size=5800 all=42169 active=2194 piece=▁fairer\n",
      "bpe_model_trainer.cc(167) LOG(INFO) Updating active symbols. max_freq=34 min_freq=21\n",
      "bpe_model_trainer.cc(258) LOG(INFO) Added: freq=34 size=5820 all=42163 active=2103 piece=▁Methinks\n",
      "bpe_model_trainer.cc(258) LOG(INFO) Added: freq=33 size=5840 all=42192 active=2132 piece=iev\n",
      "bpe_model_trainer.cc(258) LOG(INFO) Added: freq=33 size=5860 all=42311 active=2251 piece=roop\n",
      "bpe_model_trainer.cc(258) LOG(INFO) Added: freq=33 size=5880 all=42359 active=2299 piece=▁mill\n",
      "bpe_model_trainer.cc(258) LOG(INFO) Added: freq=33 size=5900 all=42366 active=2306 piece=▁paint\n",
      "bpe_model_trainer.cc(167) LOG(INFO) Updating active symbols. max_freq=33 min_freq=20\n",
      "bpe_model_trainer.cc(258) LOG(INFO) Added: freq=33 size=5920 all=42366 active=2117 piece=▁Capulet\n",
      "bpe_model_trainer.cc(258) LOG(INFO) Added: freq=32 size=5940 all=42359 active=2110 piece=Set\n",
      "bpe_model_trainer.cc(258) LOG(INFO) Added: freq=32 size=5960 all=42437 active=2188 piece=▁ach\n",
      "bpe_model_trainer.cc(258) LOG(INFO) Added: freq=32 size=5980 all=42514 active=2265 piece=▁Trib\n",
      "bpe_model_trainer.cc(258) LOG(INFO) Added: freq=32 size=6000 all=42528 active=2279 piece=▁desir\n",
      "bpe_model_trainer.cc(167) LOG(INFO) Updating active symbols. max_freq=32 min_freq=20\n",
      "bpe_model_trainer.cc(258) LOG(INFO) Added: freq=32 size=6020 all=42528 active=2125 piece=▁charac\n",
      "bpe_model_trainer.cc(258) LOG(INFO) Added: freq=32 size=6040 all=42530 active=2127 piece=▁services\n",
      "bpe_model_trainer.cc(258) LOG(INFO) Added: freq=31 size=6060 all=42599 active=2196 piece=▁GR\n",
      "bpe_model_trainer.cc(258) LOG(INFO) Added: freq=31 size=6080 all=42679 active=2276 piece=cians\n",
      "bpe_model_trainer.cc(258) LOG(INFO) Added: freq=31 size=6100 all=42707 active=2304 piece=lender\n",
      "bpe_model_trainer.cc(167) LOG(INFO) Updating active symbols. max_freq=31 min_freq=19\n",
      "bpe_model_trainer.cc(258) LOG(INFO) Added: freq=31 size=6120 all=42718 active=2145 piece=MOWBRAY\n",
      "bpe_model_trainer.cc(258) LOG(INFO) Added: freq=31 size=6140 all=42724 active=2151 piece=▁Orleans\n",
      "bpe_model_trainer.cc(258) LOG(INFO) Added: freq=31 size=6160 all=42713 active=2140 piece=▁conquest\n",
      "bpe_model_trainer.cc(258) LOG(INFO) Added: freq=30 size=6180 all=42747 active=2174 piece=sha\n",
      "bpe_model_trainer.cc(258) LOG(INFO) Added: freq=30 size=6200 all=42863 active=2290 piece=▁ago\n",
      "bpe_model_trainer.cc(167) LOG(INFO) Updating active symbols. max_freq=30 min_freq=19\n",
      "bpe_model_trainer.cc(258) LOG(INFO) Added: freq=30 size=6220 all=42932 active=2213 piece=▁liqu\n",
      "bpe_model_trainer.cc(258) LOG(INFO) Added: freq=30 size=6240 all=42948 active=2229 piece=▁estim\n",
      "bpe_model_trainer.cc(258) LOG(INFO) Added: freq=30 size=6260 all=42945 active=2226 piece=▁resolv\n",
      "bpe_model_trainer.cc(258) LOG(INFO) Added: freq=30 size=6280 all=42932 active=2213 piece=▁Soldiers\n",
      "bpe_model_trainer.cc(258) LOG(INFO) Added: freq=29 size=6300 all=42957 active=2238 piece=hus\n",
      "bpe_model_trainer.cc(167) LOG(INFO) Updating active symbols. max_freq=29 min_freq=18\n",
      "bpe_model_trainer.cc(258) LOG(INFO) Added: freq=29 size=6320 all=43006 active=2195 piece=▁nim\n",
      "bpe_model_trainer.cc(258) LOG(INFO) Added: freq=29 size=6340 all=43036 active=2225 piece=▁shun\n",
      "bpe_model_trainer.cc(258) LOG(INFO) Added: freq=29 size=6360 all=43057 active=2246 piece=▁scope\n",
      "bpe_model_trainer.cc(258) LOG(INFO) Added: freq=29 size=6380 all=43066 active=2255 piece=▁strive\n",
      "bpe_model_trainer.cc(258) LOG(INFO) Added: freq=29 size=6400 all=43056 active=2245 piece=▁conceive\n",
      "bpe_model_trainer.cc(167) LOG(INFO) Updating active symbols. max_freq=29 min_freq=18\n",
      "bpe_model_trainer.cc(258) LOG(INFO) Added: freq=28 size=6420 all=43090 active=2186 piece=▁Du\n",
      "bpe_model_trainer.cc(258) LOG(INFO) Added: freq=28 size=6440 all=43188 active=2284 piece=reme\n",
      "bpe_model_trainer.cc(258) LOG(INFO) Added: freq=28 size=6460 all=43238 active=2334 piece=▁bank\n",
      "bpe_model_trainer.cc(258) LOG(INFO) Added: freq=28 size=6480 all=43261 active=2357 piece=▁Their\n",
      "bpe_model_trainer.cc(258) LOG(INFO) Added: freq=28 size=6500 all=43263 active=2359 piece=▁direct\n",
      "bpe_model_trainer.cc(167) LOG(INFO) Updating active symbols. max_freq=28 min_freq=18\n",
      "bpe_model_trainer.cc(258) LOG(INFO) Added: freq=28 size=6520 all=43255 active=2153 piece=▁venture\n",
      "bpe_model_trainer.cc(258) LOG(INFO) Added: freq=27 size=6540 all=43245 active=2143 piece=kn\n",
      "bpe_model_trainer.cc(258) LOG(INFO) Added: freq=27 size=6560 all=43318 active=2216 piece=cell\n",
      "bpe_model_trainer.cc(258) LOG(INFO) Added: freq=27 size=6580 all=43382 active=2280 piece=▁tut\n",
      "bpe_model_trainer.cc(258) LOG(INFO) Added: freq=27 size=6600 all=43441 active=2339 piece=▁aunt\n",
      "bpe_model_trainer.cc(167) LOG(INFO) Updating active symbols. max_freq=27 min_freq=17\n",
      "bpe_model_trainer.cc(258) LOG(INFO) Added: freq=27 size=6620 all=43476 active=2207 piece=▁event\n",
      "bpe_model_trainer.cc(258) LOG(INFO) Added: freq=27 size=6640 all=43476 active=2207 piece=▁eldest\n",
      "bpe_model_trainer.cc(258) LOG(INFO) Added: freq=27 size=6660 all=43467 active=2198 piece=▁cherish\n",
      "bpe_model_trainer.cc(258) LOG(INFO) Added: freq=27 size=6680 all=43455 active=2186 piece=▁Winchester\n",
      "bpe_model_trainer.cc(258) LOG(INFO) Added: freq=26 size=6700 all=43530 active=2261 piece=Dost\n",
      "bpe_model_trainer.cc(167) LOG(INFO) Updating active symbols. max_freq=26 min_freq=17\n",
      "bpe_model_trainer.cc(258) LOG(INFO) Added: freq=26 size=6720 all=43598 active=2245 piece=▁net\n",
      "bpe_model_trainer.cc(258) LOG(INFO) Added: freq=26 size=6740 all=43642 active=2289 piece=▁hole\n",
      "bpe_model_trainer.cc(258) LOG(INFO) Added: freq=26 size=6760 all=43659 active=2306 piece=▁amend\n",
      "bpe_model_trainer.cc(258) LOG(INFO) Added: freq=26 size=6780 all=43669 active=2316 piece=▁strew\n",
      "bpe_model_trainer.cc(258) LOG(INFO) Added: freq=26 size=6800 all=43659 active=2306 piece=▁pursue\n",
      "bpe_model_trainer.cc(167) LOG(INFO) Updating active symbols. max_freq=26 min_freq=17\n",
      "bpe_model_trainer.cc(258) LOG(INFO) Added: freq=26 size=6820 all=43662 active=2186 piece=▁restore\n",
      "bpe_model_trainer.cc(258) LOG(INFO) Added: freq=26 size=6840 all=43656 active=2180 piece=▁perchance\n",
      "bpe_model_trainer.cc(258) LOG(INFO) Added: freq=25 size=6860 all=43652 active=2176 piece=ala\n",
      "bpe_model_trainer.cc(258) LOG(INFO) Added: freq=25 size=6880 all=43730 active=2254 piece=bell\n",
      "bpe_model_trainer.cc(258) LOG(INFO) Added: freq=25 size=6900 all=43789 active=2313 piece=▁rev\n",
      "bpe_model_trainer.cc(167) LOG(INFO) Updating active symbols. max_freq=25 min_freq=16\n",
      "bpe_model_trainer.cc(258) LOG(INFO) Added: freq=25 size=6920 all=43840 active=2233 piece=▁cove\n",
      "bpe_model_trainer.cc(258) LOG(INFO) Added: freq=25 size=6940 all=43857 active=2250 piece=▁clean\n",
      "bpe_model_trainer.cc(258) LOG(INFO) Added: freq=25 size=6960 all=43849 active=2242 piece=▁Imogen\n",
      "bpe_model_trainer.cc(258) LOG(INFO) Added: freq=25 size=6980 all=43839 active=2232 piece=▁fairies\n",
      "bpe_model_trainer.cc(258) LOG(INFO) Added: freq=25 size=7000 all=43832 active=2225 piece=▁grievous\n",
      "bpe_model_trainer.cc(167) LOG(INFO) Updating active symbols. max_freq=25 min_freq=16\n",
      "bpe_model_trainer.cc(258) LOG(INFO) Added: freq=24 size=7020 all=43827 active=2187 piece=ym\n",
      "bpe_model_trainer.cc(258) LOG(INFO) Added: freq=24 size=7040 all=43911 active=2271 piece=eder\n",
      "bpe_model_trainer.cc(258) LOG(INFO) Added: freq=24 size=7060 all=43971 active=2331 piece=About\n",
      "bpe_model_trainer.cc(258) LOG(INFO) Added: freq=24 size=7080 all=44004 active=2364 piece=▁blue\n",
      "bpe_model_trainer.cc(258) LOG(INFO) Added: freq=24 size=7100 all=44015 active=2375 piece=ARTHUR\n",
      "bpe_model_trainer.cc(167) LOG(INFO) Updating active symbols. max_freq=24 min_freq=16\n",
      "bpe_model_trainer.cc(258) LOG(INFO) Added: freq=24 size=7120 all=44020 active=2206 piece=▁frost\n",
      "bpe_model_trainer.cc(258) LOG(INFO) Added: freq=24 size=7140 all=44008 active=2194 piece=▁amends\n",
      "bpe_model_trainer.cc(258) LOG(INFO) Added: freq=24 size=7160 all=44009 active=2195 piece=▁Besides\n",
      "bpe_model_trainer.cc(258) LOG(INFO) Added: freq=24 size=7180 all=44000 active=2186 piece=DOLABELLA\n",
      "bpe_model_trainer.cc(258) LOG(INFO) Added: freq=23 size=7200 all=43992 active=2178 piece=PR\n",
      "bpe_model_trainer.cc(167) LOG(INFO) Updating active symbols. max_freq=23 min_freq=15\n",
      "bpe_model_trainer.cc(258) LOG(INFO) Added: freq=23 size=7220 all=44085 active=2287 piece=▁Ep\n",
      "bpe_model_trainer.cc(258) LOG(INFO) Added: freq=23 size=7240 all=44164 active=2366 piece=xcom\n",
      "bpe_model_trainer.cc(258) LOG(INFO) Added: freq=23 size=7260 all=44192 active=2394 piece=antus\n",
      "bpe_model_trainer.cc(258) LOG(INFO) Added: freq=23 size=7280 all=44211 active=2413 piece=▁diet\n",
      "bpe_model_trainer.cc(258) LOG(INFO) Added: freq=23 size=7300 all=44233 active=2435 piece=repare\n",
      "bpe_model_trainer.cc(167) LOG(INFO) Updating active symbols. max_freq=23 min_freq=15\n",
      "bpe_model_trainer.cc(258) LOG(INFO) Added: freq=23 size=7320 all=44243 active=2217 piece=▁vault\n",
      "bpe_model_trainer.cc(258) LOG(INFO) Added: freq=23 size=7340 all=44240 active=2214 piece=PANDULPH\n",
      "bpe_model_trainer.cc(258) LOG(INFO) Added: freq=23 size=7360 all=44230 active=2204 piece=▁poverty\n",
      "bpe_model_trainer.cc(258) LOG(INFO) Added: freq=23 size=7380 all=44217 active=2191 piece=▁injuries\n",
      "bpe_model_trainer.cc(258) LOG(INFO) Added: freq=22 size=7400 all=44201 active=2175 piece=Tr\n",
      "bpe_model_trainer.cc(167) LOG(INFO) Updating active symbols. max_freq=22 min_freq=15\n",
      "bpe_model_trainer.cc(258) LOG(INFO) Added: freq=22 size=7420 all=44268 active=2272 piece=cock\n",
      "bpe_model_trainer.cc(258) LOG(INFO) Added: freq=22 size=7440 all=44300 active=2304 piece=▁dit\n",
      "bpe_model_trainer.cc(258) LOG(INFO) Added: freq=22 size=7460 all=44356 active=2360 piece=ranch\n",
      "bpe_model_trainer.cc(258) LOG(INFO) Added: freq=22 size=7480 all=44385 active=2389 piece=▁spee\n",
      "bpe_model_trainer.cc(258) LOG(INFO) Added: freq=22 size=7500 all=44393 active=2397 piece=▁bragg\n",
      "bpe_model_trainer.cc(167) LOG(INFO) Updating active symbols. max_freq=22 min_freq=14\n",
      "bpe_model_trainer.cc(258) LOG(INFO) Added: freq=22 size=7520 all=44403 active=2226 piece=SILENCE\n",
      "bpe_model_trainer.cc(258) LOG(INFO) Added: freq=22 size=7540 all=44409 active=2232 piece=▁BERTRAM\n",
      "bpe_model_trainer.cc(258) LOG(INFO) Added: freq=22 size=7560 all=44406 active=2229 piece=▁sadness\n",
      "bpe_model_trainer.cc(258) LOG(INFO) Added: freq=22 size=7580 all=44388 active=2211 piece=▁character\n",
      "bpe_model_trainer.cc(258) LOG(INFO) Added: freq=21 size=7600 all=44392 active=2215 piece=Lay\n",
      "bpe_model_trainer.cc(167) LOG(INFO) Updating active symbols. max_freq=21 min_freq=14\n",
      "bpe_model_trainer.cc(258) LOG(INFO) Added: freq=21 size=7620 all=44475 active=2302 piece=empl\n",
      "bpe_model_trainer.cc(258) LOG(INFO) Added: freq=21 size=7640 all=44544 active=2371 piece=▁wet\n",
      "bpe_model_trainer.cc(258) LOG(INFO) Added: freq=21 size=7660 all=44598 active=2425 piece=▁acts\n",
      "bpe_model_trainer.cc(258) LOG(INFO) Added: freq=21 size=7680 all=44610 active=2437 piece=friend\n",
      "bpe_model_trainer.cc(258) LOG(INFO) Added: freq=21 size=7700 all=44616 active=2443 piece=▁moves\n",
      "bpe_model_trainer.cc(167) LOG(INFO) Updating active symbols. max_freq=21 min_freq=14\n",
      "bpe_model_trainer.cc(258) LOG(INFO) Added: freq=21 size=7720 all=44621 active=2236 piece=▁acknow\n",
      "bpe_model_trainer.cc(258) LOG(INFO) Added: freq=21 size=7740 all=44617 active=2232 piece=▁scurvy\n",
      "bpe_model_trainer.cc(258) LOG(INFO) Added: freq=21 size=7760 all=44615 active=2230 piece=▁drunken\n",
      "bpe_model_trainer.cc(258) LOG(INFO) Added: freq=21 size=7780 all=44606 active=2221 piece=▁fourteen\n",
      "bpe_model_trainer.cc(258) LOG(INFO) Added: freq=20 size=7800 all=44590 active=2205 piece=Aw\n",
      "bpe_model_trainer.cc(167) LOG(INFO) Updating active symbols. max_freq=20 min_freq=14\n",
      "bpe_model_trainer.cc(258) LOG(INFO) Added: freq=20 size=7820 all=44645 active=2280 piece=Else\n",
      "bpe_model_trainer.cc(258) LOG(INFO) Added: freq=20 size=7840 all=44700 active=2335 piece=rick\n",
      "bpe_model_trainer.cc(258) LOG(INFO) Added: freq=20 size=7860 all=44755 active=2390 piece=▁axe\n",
      "bpe_model_trainer.cc(258) LOG(INFO) Added: freq=20 size=7880 all=44805 active=2440 piece=ullus\n",
      "bpe_model_trainer.cc(258) LOG(INFO) Added: freq=20 size=7900 all=44838 active=2473 piece=▁robe\n",
      "bpe_model_trainer.cc(167) LOG(INFO) Updating active symbols. max_freq=20 min_freq=13\n",
      "trainer_interface.cc(685) LOG(INFO) Saving model: /home/paperspace/home/spearecode/models/spearecode_bpe.model\n",
      "trainer_interface.cc(697) LOG(INFO) Saving vocabs: /home/paperspace/home/spearecode/models/spearecode_bpe.vocab\n",
      "trainer_interface.cc(705) LOG(WARNING) The piece [\n",
      "] contains escaped characters that break the format of /home/paperspace/home/spearecode/models/spearecode_bpe.vocab\n",
      "trainer_interface.cc(705) LOG(WARNING) The piece [\t] contains escaped characters that break the format of /home/paperspace/home/spearecode/models/spearecode_bpe.vocab\n",
      "] contains escaped characters that break the format of /home/paperspace/home/spearecode/models/spearecode_bpe.vocab\n"
     ]
    }
   ],
   "source": [
    "# Setup model directory if not already setup\n",
    "MODEL_DIR = os.path.join(os.path.dirname(DATA_PATH), \"models\")\n",
    "if not os.path.isdir(MODEL_DIR): os.makedirs(MODEL_DIR, exist_ok=True)\n",
    "\n",
    "# User defined parameters (matching alphafold and code tokenization standards)\n",
    "MODEL_PATH = os.path.join(MODEL_DIR, 'spearecode')\n",
    "USER_DEFINED_SYMBOLS = [\"\\n\",\"\\t\",\"\\r\",\"\\f\",\"\\v\"]\n",
    "VOCAB_SIZE = 8_000\n",
    "CHAR_COVERAGE = 1.0000\n",
    "\n",
    "# Tokenizer parameters (and some defaults)\n",
    "base_tokenizer_kwargs = dict(\n",
    "    input = PREPROCESSED_FULL_TEXT_PATH,\n",
    "    vocab_size=VOCAB_SIZE,\n",
    "    character_coverage=CHAR_COVERAGE,\n",
    "    pad_id=0, unk_id=1, bos_id=2, eos_id=3,\n",
    "    remove_extra_whitespaces=False,\n",
    "    allow_whitespace_only_pieces=True,\n",
    "    add_dummy_prefix=False,\n",
    "    user_defined_symbols=USER_DEFINED_SYMBOLS,\n",
    "    normalization_rule_name=\"identity\",\n",
    "    num_threads=os.cpu_count(),\n",
    ")\n",
    "\n",
    "unigram_tokenizer_kwargs = base_tokenizer_kwargs.copy()\n",
    "unigram_tokenizer_kwargs.update(dict(\n",
    "    model_prefix=MODEL_PATH+\"_unigram\",\n",
    "    model_type=\"unigram\",\n",
    "))\n",
    "\n",
    "bpe_tokenizer_kwargs = base_tokenizer_kwargs.copy()\n",
    "bpe_tokenizer_kwargs.update(dict(\n",
    "    model_prefix=MODEL_PATH+\"_bpe\",\n",
    "    model_type=\"bpe\",\n",
    "))\n",
    "\n",
    "# train_tokenizer(ALL_TXT_PATHS, MODEL_PATH, VOCAB_SIZE, TOKENIZER_STYLE)\n",
    "spm.SentencePieceTrainer.Train(**unigram_tokenizer_kwargs)\n",
    "spm.SentencePieceTrainer.Train(**bpe_tokenizer_kwargs)\n",
    "\n",
    "sp_uni = spm.SentencePieceProcessor()\n",
    "sp_uni.load(f'{unigram_tokenizer_kwargs[\"model_prefix\"]}.model')\n",
    "uni_encoder = lambda x: sp_uni.encode(x)\n",
    "uni_decoder = lambda x: sp_uni.decode(x)\n",
    "\n",
    "sp_bpe = spm.SentencePieceProcessor()\n",
    "sp_bpe.load(f'{bpe_tokenizer_kwargs[\"model_prefix\"]}.model')\n",
    "bpe_encoder = lambda x: sp_bpe.encode(x)\n",
    "bpe_decoder = lambda x: sp_bpe.decode(x)"
   ]
  },
  {
   "cell_type": "code",
   "execution_count": 6,
   "id": "9039baa8-358d-4f36-b045-b86b9f6d5743",
   "metadata": {},
   "outputs": [
    {
     "name": "stdout",
     "output_type": "stream",
     "text": [
      "\n",
      "... BPE TOKENIZATION:\n"
     ]
    },
    {
     "data": {
      "text/html": [
       "<style>span.token {font-family: Courier New; font-size: 1.1em; font-weight: 300; padding: 0px; margin-right: 0px; border-color: rgba(0, 0, 0, 0.05); border-style: ridge; border-radius: 0px;}</style><div style='background-color: #FBFBFB; line-height: 175%; padding: 25px; border-radius: 8px; margin-left: 10px; margin-right: 10px; margin-top: 20px; margin-bottom: 20px; overflow-x: auto; white-space: nowrap;'><span class='token' style='background-color: rgba(179, 226, 205, 0.675);'>&nbsp;&nbsp;</span><span class='token' style='background-color: rgba(253, 205, 172, 0.675);'>'</span><span class='token' style='background-color: rgba(203, 213, 232, 0.675);'>O</span><span class='token' style='background-color: rgba(244, 202, 228, 0.675);'>,</span><span class='token' style='background-color: rgba(230, 245, 201, 0.675);'>&nbsp;that</span><span class='token' style='background-color: rgba(255, 242, 174, 0.675);'>&nbsp;infect</span><span class='token' style='background-color: rgba(241, 226, 204, 0.675);'>ed</span><span class='token' style='background-color: rgba(204, 204, 204, 0.675);'>&nbsp;mo</span><span class='token' style='background-color: rgba(179, 226, 205, 0.675);'>ist</span><span class='token' style='background-color: rgba(253, 205, 172, 0.675);'>ure</span><span class='token' style='background-color: rgba(203, 213, 232, 0.675);'>&nbsp;of</span><span class='token' style='background-color: rgba(244, 202, 228, 0.675);'>&nbsp;his</span><span class='token' style='background-color: rgba(230, 245, 201, 0.675);'>&nbsp;eye</span><span class='token' style='background-color: rgba(255, 242, 174, 0.675);'>,</span><span class='token' style='background-color: rgba(241, 226, 204, 0.675);'><br></span><span class='token' style='background-color: rgba(179, 226, 205, 0.675);'>&nbsp;&nbsp;</span><span class='token' style='background-color: rgba(253, 205, 172, 0.675);'>O</span><span class='token' style='background-color: rgba(203, 213, 232, 0.675);'>,</span><span class='token' style='background-color: rgba(244, 202, 228, 0.675);'>&nbsp;that</span><span class='token' style='background-color: rgba(230, 245, 201, 0.675);'>&nbsp;false</span><span class='token' style='background-color: rgba(255, 242, 174, 0.675);'>&nbsp;fire</span><span class='token' style='background-color: rgba(241, 226, 204, 0.675);'>&nbsp;which</span><span class='token' style='background-color: rgba(204, 204, 204, 0.675);'>&nbsp;in</span><span class='token' style='background-color: rgba(179, 226, 205, 0.675);'>&nbsp;his</span><span class='token' style='background-color: rgba(253, 205, 172, 0.675);'>&nbsp;cheek</span><span class='token' style='background-color: rgba(203, 213, 232, 0.675);'>&nbsp;so</span><span class='token' style='background-color: rgba(244, 202, 228, 0.675);'>&nbsp;gl</span><span class='token' style='background-color: rgba(230, 245, 201, 0.675);'>ow</span><span class='token' style='background-color: rgba(255, 242, 174, 0.675);'>ed</span><span class='token' style='background-color: rgba(241, 226, 204, 0.675);'>,</span><span class='token' style='background-color: rgba(204, 204, 204, 0.675);'><br></span><span class='token' style='background-color: rgba(179, 226, 205, 0.675);'>&nbsp;&nbsp;</span><span class='token' style='background-color: rgba(253, 205, 172, 0.675);'>O</span><span class='token' style='background-color: rgba(203, 213, 232, 0.675);'>,</span><span class='token' style='background-color: rgba(244, 202, 228, 0.675);'>&nbsp;that</span><span class='token' style='background-color: rgba(230, 245, 201, 0.675);'>&nbsp;force</span><span class='token' style='background-color: rgba(255, 242, 174, 0.675);'>d</span><span class='token' style='background-color: rgba(241, 226, 204, 0.675);'>&nbsp;thunder</span><span class='token' style='background-color: rgba(204, 204, 204, 0.675);'>&nbsp;from</span><span class='token' style='background-color: rgba(179, 226, 205, 0.675);'>&nbsp;his</span><span class='token' style='background-color: rgba(253, 205, 172, 0.675);'>&nbsp;heart</span><span class='token' style='background-color: rgba(203, 213, 232, 0.675);'>&nbsp;did</span><span class='token' style='background-color: rgba(244, 202, 228, 0.675);'>&nbsp;fly</span><span class='token' style='background-color: rgba(230, 245, 201, 0.675);'>,</span><span class='token' style='background-color: rgba(255, 242, 174, 0.675);'><br></span><span class='token' style='background-color: rgba(179, 226, 205, 0.675);'>&nbsp;&nbsp;</span><span class='token' style='background-color: rgba(253, 205, 172, 0.675);'>O</span><span class='token' style='background-color: rgba(203, 213, 232, 0.675);'>,</span><span class='token' style='background-color: rgba(244, 202, 228, 0.675);'>&nbsp;that</span><span class='token' style='background-color: rgba(230, 245, 201, 0.675);'>&nbsp;sad</span><span class='token' style='background-color: rgba(255, 242, 174, 0.675);'>&nbsp;breath</span><span class='token' style='background-color: rgba(241, 226, 204, 0.675);'>&nbsp;his</span><span class='token' style='background-color: rgba(204, 204, 204, 0.675);'>&nbsp;sp</span><span class='token' style='background-color: rgba(179, 226, 205, 0.675);'>ong</span><span class='token' style='background-color: rgba(253, 205, 172, 0.675);'>y</span><span class='token' style='background-color: rgba(203, 213, 232, 0.675);'>&nbsp;l</span><span class='token' style='background-color: rgba(244, 202, 228, 0.675);'>ung</span><span class='token' style='background-color: rgba(230, 245, 201, 0.675);'>s</span><span class='token' style='background-color: rgba(255, 242, 174, 0.675);'>&nbsp;bestow</span><span class='token' style='background-color: rgba(241, 226, 204, 0.675);'>ed</span><span class='token' style='background-color: rgba(204, 204, 204, 0.675);'>,</span><span class='token' style='background-color: rgba(179, 226, 205, 0.675);'><br></span><span class='token' style='background-color: rgba(179, 226, 205, 0.675);'>&nbsp;&nbsp;</span><span class='token' style='background-color: rgba(253, 205, 172, 0.675);'>O</span><span class='token' style='background-color: rgba(203, 213, 232, 0.675);'>,</span><span class='token' style='background-color: rgba(244, 202, 228, 0.675);'>&nbsp;all</span><span class='token' style='background-color: rgba(230, 245, 201, 0.675);'>&nbsp;that</span><span class='token' style='background-color: rgba(255, 242, 174, 0.675);'>&nbsp;borrow</span><span class='token' style='background-color: rgba(241, 226, 204, 0.675);'>ed</span><span class='token' style='background-color: rgba(204, 204, 204, 0.675);'>&nbsp;motion</span><span class='token' style='background-color: rgba(179, 226, 205, 0.675);'>,</span><span class='token' style='background-color: rgba(253, 205, 172, 0.675);'>&nbsp;seeming</span><span class='token' style='background-color: rgba(203, 213, 232, 0.675);'>&nbsp;ow</span><span class='token' style='background-color: rgba(244, 202, 228, 0.675);'>ed</span><span class='token' style='background-color: rgba(230, 245, 201, 0.675);'>,</span><span class='token' style='background-color: rgba(255, 242, 174, 0.675);'><br></span><span class='token' style='background-color: rgba(179, 226, 205, 0.675);'>&nbsp;&nbsp;</span><span class='token' style='background-color: rgba(253, 205, 172, 0.675);'>Would</span><span class='token' style='background-color: rgba(203, 213, 232, 0.675);'>&nbsp;yet</span><span class='token' style='background-color: rgba(244, 202, 228, 0.675);'>&nbsp;again</span><span class='token' style='background-color: rgba(230, 245, 201, 0.675);'>&nbsp;betray</span><span class='token' style='background-color: rgba(255, 242, 174, 0.675);'>&nbsp;the</span><span class='token' style='background-color: rgba(241, 226, 204, 0.675);'>&nbsp;fore</span><span class='token' style='background-color: rgba(204, 204, 204, 0.675);'>-</span><span class='token' style='background-color: rgba(179, 226, 205, 0.675);'>b</span><span class='token' style='background-color: rgba(253, 205, 172, 0.675);'>et</span><span class='token' style='background-color: rgba(203, 213, 232, 0.675);'>ray</span><span class='token' style='background-color: rgba(244, 202, 228, 0.675);'>ed</span><span class='token' style='background-color: rgba(230, 245, 201, 0.675);'>,</span><span class='token' style='background-color: rgba(255, 242, 174, 0.675);'><br></span><span class='token' style='background-color: rgba(179, 226, 205, 0.675);'>&nbsp;&nbsp;</span><span class='token' style='background-color: rgba(253, 205, 172, 0.675);'>And</span><span class='token' style='background-color: rgba(203, 213, 232, 0.675);'>&nbsp;new</span><span class='token' style='background-color: rgba(244, 202, 228, 0.675);'>&nbsp;per</span><span class='token' style='background-color: rgba(230, 245, 201, 0.675);'>vert</span><span class='token' style='background-color: rgba(255, 242, 174, 0.675);'>&nbsp;a</span><span class='token' style='background-color: rgba(241, 226, 204, 0.675);'>&nbsp;recon</span><span class='token' style='background-color: rgba(204, 204, 204, 0.675);'>ci</span><span class='token' style='background-color: rgba(179, 226, 205, 0.675);'>led</span><span class='token' style='background-color: rgba(253, 205, 172, 0.675);'>&nbsp;maid</span><span class='token' style='background-color: rgba(203, 213, 232, 0.675);'>.'</span><span class='token' style='background-color: rgba(244, 202, 228, 0.675);'><br></span></div>"
      ],
      "text/plain": [
       "<IPython.core.display.HTML object>"
      ]
     },
     "metadata": {},
     "output_type": "display_data"
    },
    {
     "name": "stdout",
     "output_type": "stream",
     "text": [
      "\n",
      "... UNIGRAM TOKENIZATION:\n"
     ]
    },
    {
     "data": {
      "text/html": [
       "<style>span.token {font-family: Courier New; font-size: 1.1em; font-weight: 300; padding: 0px; margin-right: 0px; border-color: rgba(0, 0, 0, 0.05); border-style: ridge; border-radius: 0px;}</style><div style='background-color: #FBFBFB; line-height: 175%; padding: 25px; border-radius: 8px; margin-left: 10px; margin-right: 10px; margin-top: 20px; margin-bottom: 20px; overflow-x: auto; white-space: nowrap;'><span class='token' style='background-color: rgba(179, 226, 205, 0.675);'>&nbsp;&nbsp;</span><span class='token' style='background-color: rgba(253, 205, 172, 0.675);'>'</span><span class='token' style='background-color: rgba(203, 213, 232, 0.675);'>O</span><span class='token' style='background-color: rgba(244, 202, 228, 0.675);'>,</span><span class='token' style='background-color: rgba(230, 245, 201, 0.675);'>&nbsp;that</span><span class='token' style='background-color: rgba(255, 242, 174, 0.675);'>&nbsp;infected</span><span class='token' style='background-color: rgba(241, 226, 204, 0.675);'>&nbsp;moist</span><span class='token' style='background-color: rgba(204, 204, 204, 0.675);'>ure</span><span class='token' style='background-color: rgba(179, 226, 205, 0.675);'>&nbsp;of</span><span class='token' style='background-color: rgba(253, 205, 172, 0.675);'>&nbsp;his</span><span class='token' style='background-color: rgba(203, 213, 232, 0.675);'>&nbsp;eye</span><span class='token' style='background-color: rgba(244, 202, 228, 0.675);'>,</span><span class='token' style='background-color: rgba(230, 245, 201, 0.675);'><br></span><span class='token' style='background-color: rgba(179, 226, 205, 0.675);'>&nbsp;</span><span class='token' style='background-color: rgba(253, 205, 172, 0.675);'>&nbsp;O</span><span class='token' style='background-color: rgba(203, 213, 232, 0.675);'>,</span><span class='token' style='background-color: rgba(244, 202, 228, 0.675);'>&nbsp;that</span><span class='token' style='background-color: rgba(230, 245, 201, 0.675);'>&nbsp;false</span><span class='token' style='background-color: rgba(255, 242, 174, 0.675);'>&nbsp;fire</span><span class='token' style='background-color: rgba(241, 226, 204, 0.675);'>&nbsp;which</span><span class='token' style='background-color: rgba(204, 204, 204, 0.675);'>&nbsp;in</span><span class='token' style='background-color: rgba(179, 226, 205, 0.675);'>&nbsp;his</span><span class='token' style='background-color: rgba(253, 205, 172, 0.675);'>&nbsp;cheek</span><span class='token' style='background-color: rgba(203, 213, 232, 0.675);'>&nbsp;so</span><span class='token' style='background-color: rgba(244, 202, 228, 0.675);'>&nbsp;glow</span><span class='token' style='background-color: rgba(230, 245, 201, 0.675);'>ed</span><span class='token' style='background-color: rgba(255, 242, 174, 0.675);'>,</span><span class='token' style='background-color: rgba(241, 226, 204, 0.675);'><br></span><span class='token' style='background-color: rgba(179, 226, 205, 0.675);'>&nbsp;</span><span class='token' style='background-color: rgba(253, 205, 172, 0.675);'>&nbsp;O</span><span class='token' style='background-color: rgba(203, 213, 232, 0.675);'>,</span><span class='token' style='background-color: rgba(244, 202, 228, 0.675);'>&nbsp;that</span><span class='token' style='background-color: rgba(230, 245, 201, 0.675);'>&nbsp;force</span><span class='token' style='background-color: rgba(255, 242, 174, 0.675);'>d</span><span class='token' style='background-color: rgba(241, 226, 204, 0.675);'>&nbsp;thunder</span><span class='token' style='background-color: rgba(204, 204, 204, 0.675);'>&nbsp;from</span><span class='token' style='background-color: rgba(179, 226, 205, 0.675);'>&nbsp;his</span><span class='token' style='background-color: rgba(253, 205, 172, 0.675);'>&nbsp;heart</span><span class='token' style='background-color: rgba(203, 213, 232, 0.675);'>&nbsp;did</span><span class='token' style='background-color: rgba(244, 202, 228, 0.675);'>&nbsp;fly</span><span class='token' style='background-color: rgba(230, 245, 201, 0.675);'>,</span><span class='token' style='background-color: rgba(255, 242, 174, 0.675);'><br></span><span class='token' style='background-color: rgba(179, 226, 205, 0.675);'>&nbsp;</span><span class='token' style='background-color: rgba(253, 205, 172, 0.675);'>&nbsp;O</span><span class='token' style='background-color: rgba(203, 213, 232, 0.675);'>,</span><span class='token' style='background-color: rgba(244, 202, 228, 0.675);'>&nbsp;that</span><span class='token' style='background-color: rgba(230, 245, 201, 0.675);'>&nbsp;sad</span><span class='token' style='background-color: rgba(255, 242, 174, 0.675);'>&nbsp;breath</span><span class='token' style='background-color: rgba(241, 226, 204, 0.675);'>&nbsp;his</span><span class='token' style='background-color: rgba(204, 204, 204, 0.675);'>&nbsp;spong</span><span class='token' style='background-color: rgba(179, 226, 205, 0.675);'>y</span><span class='token' style='background-color: rgba(253, 205, 172, 0.675);'>&nbsp;lungs</span><span class='token' style='background-color: rgba(203, 213, 232, 0.675);'>&nbsp;bestow</span><span class='token' style='background-color: rgba(244, 202, 228, 0.675);'>ed</span><span class='token' style='background-color: rgba(230, 245, 201, 0.675);'>,</span><span class='token' style='background-color: rgba(255, 242, 174, 0.675);'><br></span><span class='token' style='background-color: rgba(179, 226, 205, 0.675);'>&nbsp;</span><span class='token' style='background-color: rgba(253, 205, 172, 0.675);'>&nbsp;O</span><span class='token' style='background-color: rgba(203, 213, 232, 0.675);'>,</span><span class='token' style='background-color: rgba(244, 202, 228, 0.675);'>&nbsp;all</span><span class='token' style='background-color: rgba(230, 245, 201, 0.675);'>&nbsp;that</span><span class='token' style='background-color: rgba(255, 242, 174, 0.675);'>&nbsp;borrowed</span><span class='token' style='background-color: rgba(241, 226, 204, 0.675);'>&nbsp;motion</span><span class='token' style='background-color: rgba(204, 204, 204, 0.675);'>,</span><span class='token' style='background-color: rgba(179, 226, 205, 0.675);'>&nbsp;seeming</span><span class='token' style='background-color: rgba(253, 205, 172, 0.675);'>&nbsp;owe</span><span class='token' style='background-color: rgba(203, 213, 232, 0.675);'>d</span><span class='token' style='background-color: rgba(244, 202, 228, 0.675);'>,</span><span class='token' style='background-color: rgba(230, 245, 201, 0.675);'><br></span><span class='token' style='background-color: rgba(179, 226, 205, 0.675);'>&nbsp;</span><span class='token' style='background-color: rgba(253, 205, 172, 0.675);'>&nbsp;Would</span><span class='token' style='background-color: rgba(203, 213, 232, 0.675);'>&nbsp;yet</span><span class='token' style='background-color: rgba(244, 202, 228, 0.675);'>&nbsp;again</span><span class='token' style='background-color: rgba(230, 245, 201, 0.675);'>&nbsp;betray</span><span class='token' style='background-color: rgba(255, 242, 174, 0.675);'>&nbsp;the</span><span class='token' style='background-color: rgba(241, 226, 204, 0.675);'>&nbsp;fore</span><span class='token' style='background-color: rgba(204, 204, 204, 0.675);'>-</span><span class='token' style='background-color: rgba(179, 226, 205, 0.675);'>be</span><span class='token' style='background-color: rgba(253, 205, 172, 0.675);'>t</span><span class='token' style='background-color: rgba(203, 213, 232, 0.675);'>ray</span><span class='token' style='background-color: rgba(244, 202, 228, 0.675);'>ed</span><span class='token' style='background-color: rgba(230, 245, 201, 0.675);'>,</span><span class='token' style='background-color: rgba(255, 242, 174, 0.675);'><br></span><span class='token' style='background-color: rgba(179, 226, 205, 0.675);'>&nbsp;</span><span class='token' style='background-color: rgba(253, 205, 172, 0.675);'>&nbsp;And</span><span class='token' style='background-color: rgba(203, 213, 232, 0.675);'>&nbsp;new</span><span class='token' style='background-color: rgba(244, 202, 228, 0.675);'>&nbsp;per</span><span class='token' style='background-color: rgba(230, 245, 201, 0.675);'>ver</span><span class='token' style='background-color: rgba(255, 242, 174, 0.675);'>t</span><span class='token' style='background-color: rgba(241, 226, 204, 0.675);'>&nbsp;a</span><span class='token' style='background-color: rgba(204, 204, 204, 0.675);'>&nbsp;reconcile</span><span class='token' style='background-color: rgba(179, 226, 205, 0.675);'>d</span><span class='token' style='background-color: rgba(253, 205, 172, 0.675);'>&nbsp;maid</span><span class='token' style='background-color: rgba(203, 213, 232, 0.675);'>.</span><span class='token' style='background-color: rgba(244, 202, 228, 0.675);'>'</span><span class='token' style='background-color: rgba(230, 245, 201, 0.675);'><br></span></div>"
      ],
      "text/plain": [
       "<IPython.core.display.HTML object>"
      ]
     },
     "metadata": {},
     "output_type": "display_data"
    },
    {
     "name": "stdout",
     "output_type": "stream",
     "text": [
      "\n",
      "... CHAR TOKENIZATION:\n"
     ]
    },
    {
     "data": {
      "text/html": [
       "<style>span.token {font-family: Courier New; font-size: 1.1em; font-weight: 300; padding: 0px; margin-right: 0px; border-color: rgba(0, 0, 0, 0.05); border-style: ridge; border-radius: 0px;}</style><div style='background-color: #FBFBFB; line-height: 175%; padding: 25px; border-radius: 8px; margin-left: 10px; margin-right: 10px; margin-top: 20px; margin-bottom: 20px; overflow-x: auto; white-space: nowrap;'><span class='token' style='background-color: rgba(179, 226, 205, 0.675);'>&nbsp;</span><span class='token' style='background-color: rgba(253, 205, 172, 0.675);'>&nbsp;</span><span class='token' style='background-color: rgba(244, 202, 228, 0.675);'>O</span><span class='token' style='background-color: rgba(230, 245, 201, 0.675);'>,</span><span class='token' style='background-color: rgba(255, 242, 174, 0.675);'>&nbsp;</span><span class='token' style='background-color: rgba(241, 226, 204, 0.675);'>t</span><span class='token' style='background-color: rgba(204, 204, 204, 0.675);'>h</span><span class='token' style='background-color: rgba(179, 226, 205, 0.675);'>a</span><span class='token' style='background-color: rgba(253, 205, 172, 0.675);'>t</span><span class='token' style='background-color: rgba(203, 213, 232, 0.675);'>&nbsp;</span><span class='token' style='background-color: rgba(244, 202, 228, 0.675);'>i</span><span class='token' style='background-color: rgba(230, 245, 201, 0.675);'>n</span><span class='token' style='background-color: rgba(255, 242, 174, 0.675);'>f</span><span class='token' style='background-color: rgba(241, 226, 204, 0.675);'>e</span><span class='token' style='background-color: rgba(204, 204, 204, 0.675);'>c</span><span class='token' style='background-color: rgba(179, 226, 205, 0.675);'>t</span><span class='token' style='background-color: rgba(253, 205, 172, 0.675);'>e</span><span class='token' style='background-color: rgba(203, 213, 232, 0.675);'>d</span><span class='token' style='background-color: rgba(244, 202, 228, 0.675);'>&nbsp;</span><span class='token' style='background-color: rgba(230, 245, 201, 0.675);'>m</span><span class='token' style='background-color: rgba(255, 242, 174, 0.675);'>o</span><span class='token' style='background-color: rgba(241, 226, 204, 0.675);'>i</span><span class='token' style='background-color: rgba(204, 204, 204, 0.675);'>s</span><span class='token' style='background-color: rgba(179, 226, 205, 0.675);'>t</span><span class='token' style='background-color: rgba(253, 205, 172, 0.675);'>u</span><span class='token' style='background-color: rgba(203, 213, 232, 0.675);'>r</span><span class='token' style='background-color: rgba(244, 202, 228, 0.675);'>e</span><span class='token' style='background-color: rgba(230, 245, 201, 0.675);'>&nbsp;</span><span class='token' style='background-color: rgba(255, 242, 174, 0.675);'>o</span><span class='token' style='background-color: rgba(241, 226, 204, 0.675);'>f</span><span class='token' style='background-color: rgba(204, 204, 204, 0.675);'>&nbsp;</span><span class='token' style='background-color: rgba(179, 226, 205, 0.675);'>h</span><span class='token' style='background-color: rgba(253, 205, 172, 0.675);'>i</span><span class='token' style='background-color: rgba(203, 213, 232, 0.675);'>s</span><span class='token' style='background-color: rgba(244, 202, 228, 0.675);'>&nbsp;</span><span class='token' style='background-color: rgba(230, 245, 201, 0.675);'>e</span><span class='token' style='background-color: rgba(255, 242, 174, 0.675);'>y</span><span class='token' style='background-color: rgba(241, 226, 204, 0.675);'>e</span><span class='token' style='background-color: rgba(204, 204, 204, 0.675);'>,</span><span class='token' style='background-color: rgba(179, 226, 205, 0.675);'><br></span><span class='token' style='background-color: rgba(179, 226, 205, 0.675);'>&nbsp;</span><span class='token' style='background-color: rgba(253, 205, 172, 0.675);'>&nbsp;</span><span class='token' style='background-color: rgba(203, 213, 232, 0.675);'>O</span><span class='token' style='background-color: rgba(244, 202, 228, 0.675);'>,</span><span class='token' style='background-color: rgba(230, 245, 201, 0.675);'>&nbsp;</span><span class='token' style='background-color: rgba(255, 242, 174, 0.675);'>t</span><span class='token' style='background-color: rgba(241, 226, 204, 0.675);'>h</span><span class='token' style='background-color: rgba(204, 204, 204, 0.675);'>a</span><span class='token' style='background-color: rgba(179, 226, 205, 0.675);'>t</span><span class='token' style='background-color: rgba(253, 205, 172, 0.675);'>&nbsp;</span><span class='token' style='background-color: rgba(203, 213, 232, 0.675);'>f</span><span class='token' style='background-color: rgba(244, 202, 228, 0.675);'>a</span><span class='token' style='background-color: rgba(230, 245, 201, 0.675);'>l</span><span class='token' style='background-color: rgba(255, 242, 174, 0.675);'>s</span><span class='token' style='background-color: rgba(241, 226, 204, 0.675);'>e</span><span class='token' style='background-color: rgba(204, 204, 204, 0.675);'>&nbsp;</span><span class='token' style='background-color: rgba(179, 226, 205, 0.675);'>f</span><span class='token' style='background-color: rgba(253, 205, 172, 0.675);'>i</span><span class='token' style='background-color: rgba(203, 213, 232, 0.675);'>r</span><span class='token' style='background-color: rgba(244, 202, 228, 0.675);'>e</span><span class='token' style='background-color: rgba(230, 245, 201, 0.675);'>&nbsp;</span><span class='token' style='background-color: rgba(255, 242, 174, 0.675);'>w</span><span class='token' style='background-color: rgba(241, 226, 204, 0.675);'>h</span><span class='token' style='background-color: rgba(204, 204, 204, 0.675);'>i</span><span class='token' style='background-color: rgba(179, 226, 205, 0.675);'>c</span><span class='token' style='background-color: rgba(253, 205, 172, 0.675);'>h</span><span class='token' style='background-color: rgba(203, 213, 232, 0.675);'>&nbsp;</span><span class='token' style='background-color: rgba(244, 202, 228, 0.675);'>i</span><span class='token' style='background-color: rgba(230, 245, 201, 0.675);'>n</span><span class='token' style='background-color: rgba(255, 242, 174, 0.675);'>&nbsp;</span><span class='token' style='background-color: rgba(241, 226, 204, 0.675);'>h</span><span class='token' style='background-color: rgba(204, 204, 204, 0.675);'>i</span><span class='token' style='background-color: rgba(179, 226, 205, 0.675);'>s</span><span class='token' style='background-color: rgba(253, 205, 172, 0.675);'>&nbsp;</span><span class='token' style='background-color: rgba(203, 213, 232, 0.675);'>c</span><span class='token' style='background-color: rgba(244, 202, 228, 0.675);'>h</span><span class='token' style='background-color: rgba(230, 245, 201, 0.675);'>e</span><span class='token' style='background-color: rgba(255, 242, 174, 0.675);'>e</span><span class='token' style='background-color: rgba(241, 226, 204, 0.675);'>k</span><span class='token' style='background-color: rgba(204, 204, 204, 0.675);'>&nbsp;</span><span class='token' style='background-color: rgba(179, 226, 205, 0.675);'>s</span><span class='token' style='background-color: rgba(253, 205, 172, 0.675);'>o</span><span class='token' style='background-color: rgba(203, 213, 232, 0.675);'>&nbsp;</span><span class='token' style='background-color: rgba(244, 202, 228, 0.675);'>g</span><span class='token' style='background-color: rgba(230, 245, 201, 0.675);'>l</span><span class='token' style='background-color: rgba(255, 242, 174, 0.675);'>o</span><span class='token' style='background-color: rgba(241, 226, 204, 0.675);'>w</span><span class='token' style='background-color: rgba(204, 204, 204, 0.675);'>e</span><span class='token' style='background-color: rgba(179, 226, 205, 0.675);'>d</span><span class='token' style='background-color: rgba(253, 205, 172, 0.675);'>,</span><span class='token' style='background-color: rgba(203, 213, 232, 0.675);'><br></span><span class='token' style='background-color: rgba(179, 226, 205, 0.675);'>&nbsp;</span><span class='token' style='background-color: rgba(253, 205, 172, 0.675);'>&nbsp;</span><span class='token' style='background-color: rgba(203, 213, 232, 0.675);'>O</span><span class='token' style='background-color: rgba(244, 202, 228, 0.675);'>,</span><span class='token' style='background-color: rgba(230, 245, 201, 0.675);'>&nbsp;</span><span class='token' style='background-color: rgba(255, 242, 174, 0.675);'>t</span><span class='token' style='background-color: rgba(241, 226, 204, 0.675);'>h</span><span class='token' style='background-color: rgba(204, 204, 204, 0.675);'>a</span><span class='token' style='background-color: rgba(179, 226, 205, 0.675);'>t</span><span class='token' style='background-color: rgba(253, 205, 172, 0.675);'>&nbsp;</span><span class='token' style='background-color: rgba(203, 213, 232, 0.675);'>f</span><span class='token' style='background-color: rgba(244, 202, 228, 0.675);'>o</span><span class='token' style='background-color: rgba(230, 245, 201, 0.675);'>r</span><span class='token' style='background-color: rgba(255, 242, 174, 0.675);'>c</span><span class='token' style='background-color: rgba(241, 226, 204, 0.675);'>e</span><span class='token' style='background-color: rgba(204, 204, 204, 0.675);'>d</span><span class='token' style='background-color: rgba(179, 226, 205, 0.675);'>&nbsp;</span><span class='token' style='background-color: rgba(253, 205, 172, 0.675);'>t</span><span class='token' style='background-color: rgba(203, 213, 232, 0.675);'>h</span><span class='token' style='background-color: rgba(244, 202, 228, 0.675);'>u</span><span class='token' style='background-color: rgba(230, 245, 201, 0.675);'>n</span><span class='token' style='background-color: rgba(255, 242, 174, 0.675);'>d</span><span class='token' style='background-color: rgba(241, 226, 204, 0.675);'>e</span><span class='token' style='background-color: rgba(204, 204, 204, 0.675);'>r</span><span class='token' style='background-color: rgba(179, 226, 205, 0.675);'>&nbsp;</span><span class='token' style='background-color: rgba(253, 205, 172, 0.675);'>f</span><span class='token' style='background-color: rgba(203, 213, 232, 0.675);'>r</span><span class='token' style='background-color: rgba(244, 202, 228, 0.675);'>o</span><span class='token' style='background-color: rgba(230, 245, 201, 0.675);'>m</span><span class='token' style='background-color: rgba(255, 242, 174, 0.675);'>&nbsp;</span><span class='token' style='background-color: rgba(241, 226, 204, 0.675);'>h</span><span class='token' style='background-color: rgba(204, 204, 204, 0.675);'>i</span><span class='token' style='background-color: rgba(179, 226, 205, 0.675);'>s</span><span class='token' style='background-color: rgba(253, 205, 172, 0.675);'>&nbsp;</span><span class='token' style='background-color: rgba(203, 213, 232, 0.675);'>h</span><span class='token' style='background-color: rgba(244, 202, 228, 0.675);'>e</span><span class='token' style='background-color: rgba(230, 245, 201, 0.675);'>a</span><span class='token' style='background-color: rgba(255, 242, 174, 0.675);'>r</span><span class='token' style='background-color: rgba(241, 226, 204, 0.675);'>t</span><span class='token' style='background-color: rgba(204, 204, 204, 0.675);'>&nbsp;</span><span class='token' style='background-color: rgba(179, 226, 205, 0.675);'>d</span><span class='token' style='background-color: rgba(253, 205, 172, 0.675);'>i</span><span class='token' style='background-color: rgba(203, 213, 232, 0.675);'>d</span><span class='token' style='background-color: rgba(244, 202, 228, 0.675);'>&nbsp;</span><span class='token' style='background-color: rgba(230, 245, 201, 0.675);'>f</span><span class='token' style='background-color: rgba(255, 242, 174, 0.675);'>l</span><span class='token' style='background-color: rgba(241, 226, 204, 0.675);'>y</span><span class='token' style='background-color: rgba(204, 204, 204, 0.675);'>,</span><span class='token' style='background-color: rgba(179, 226, 205, 0.675);'><br></span><span class='token' style='background-color: rgba(179, 226, 205, 0.675);'>&nbsp;</span><span class='token' style='background-color: rgba(253, 205, 172, 0.675);'>&nbsp;</span><span class='token' style='background-color: rgba(203, 213, 232, 0.675);'>O</span><span class='token' style='background-color: rgba(244, 202, 228, 0.675);'>,</span><span class='token' style='background-color: rgba(230, 245, 201, 0.675);'>&nbsp;</span><span class='token' style='background-color: rgba(255, 242, 174, 0.675);'>t</span><span class='token' style='background-color: rgba(241, 226, 204, 0.675);'>h</span><span class='token' style='background-color: rgba(204, 204, 204, 0.675);'>a</span><span class='token' style='background-color: rgba(179, 226, 205, 0.675);'>t</span><span class='token' style='background-color: rgba(253, 205, 172, 0.675);'>&nbsp;</span><span class='token' style='background-color: rgba(203, 213, 232, 0.675);'>s</span><span class='token' style='background-color: rgba(244, 202, 228, 0.675);'>a</span><span class='token' style='background-color: rgba(230, 245, 201, 0.675);'>d</span><span class='token' style='background-color: rgba(255, 242, 174, 0.675);'>&nbsp;</span><span class='token' style='background-color: rgba(241, 226, 204, 0.675);'>b</span><span class='token' style='background-color: rgba(204, 204, 204, 0.675);'>r</span><span class='token' style='background-color: rgba(179, 226, 205, 0.675);'>e</span><span class='token' style='background-color: rgba(253, 205, 172, 0.675);'>a</span><span class='token' style='background-color: rgba(203, 213, 232, 0.675);'>t</span><span class='token' style='background-color: rgba(244, 202, 228, 0.675);'>h</span><span class='token' style='background-color: rgba(230, 245, 201, 0.675);'>&nbsp;</span><span class='token' style='background-color: rgba(255, 242, 174, 0.675);'>h</span><span class='token' style='background-color: rgba(241, 226, 204, 0.675);'>i</span><span class='token' style='background-color: rgba(204, 204, 204, 0.675);'>s</span><span class='token' style='background-color: rgba(179, 226, 205, 0.675);'>&nbsp;</span><span class='token' style='background-color: rgba(253, 205, 172, 0.675);'>s</span><span class='token' style='background-color: rgba(203, 213, 232, 0.675);'>p</span><span class='token' style='background-color: rgba(244, 202, 228, 0.675);'>o</span><span class='token' style='background-color: rgba(230, 245, 201, 0.675);'>n</span><span class='token' style='background-color: rgba(255, 242, 174, 0.675);'>g</span><span class='token' style='background-color: rgba(241, 226, 204, 0.675);'>y</span><span class='token' style='background-color: rgba(204, 204, 204, 0.675);'>&nbsp;</span><span class='token' style='background-color: rgba(179, 226, 205, 0.675);'>l</span><span class='token' style='background-color: rgba(253, 205, 172, 0.675);'>u</span><span class='token' style='background-color: rgba(203, 213, 232, 0.675);'>n</span><span class='token' style='background-color: rgba(244, 202, 228, 0.675);'>g</span><span class='token' style='background-color: rgba(230, 245, 201, 0.675);'>s</span><span class='token' style='background-color: rgba(255, 242, 174, 0.675);'>&nbsp;</span><span class='token' style='background-color: rgba(241, 226, 204, 0.675);'>b</span><span class='token' style='background-color: rgba(204, 204, 204, 0.675);'>e</span><span class='token' style='background-color: rgba(179, 226, 205, 0.675);'>s</span><span class='token' style='background-color: rgba(253, 205, 172, 0.675);'>t</span><span class='token' style='background-color: rgba(203, 213, 232, 0.675);'>o</span><span class='token' style='background-color: rgba(244, 202, 228, 0.675);'>w</span><span class='token' style='background-color: rgba(230, 245, 201, 0.675);'>e</span><span class='token' style='background-color: rgba(255, 242, 174, 0.675);'>d</span><span class='token' style='background-color: rgba(241, 226, 204, 0.675);'>,</span><span class='token' style='background-color: rgba(204, 204, 204, 0.675);'><br></span><span class='token' style='background-color: rgba(179, 226, 205, 0.675);'>&nbsp;</span><span class='token' style='background-color: rgba(253, 205, 172, 0.675);'>&nbsp;</span><span class='token' style='background-color: rgba(203, 213, 232, 0.675);'>O</span><span class='token' style='background-color: rgba(244, 202, 228, 0.675);'>,</span><span class='token' style='background-color: rgba(230, 245, 201, 0.675);'>&nbsp;</span><span class='token' style='background-color: rgba(255, 242, 174, 0.675);'>a</span><span class='token' style='background-color: rgba(241, 226, 204, 0.675);'>l</span><span class='token' style='background-color: rgba(204, 204, 204, 0.675);'>l</span><span class='token' style='background-color: rgba(179, 226, 205, 0.675);'>&nbsp;</span><span class='token' style='background-color: rgba(253, 205, 172, 0.675);'>t</span><span class='token' style='background-color: rgba(203, 213, 232, 0.675);'>h</span><span class='token' style='background-color: rgba(244, 202, 228, 0.675);'>a</span><span class='token' style='background-color: rgba(230, 245, 201, 0.675);'>t</span><span class='token' style='background-color: rgba(255, 242, 174, 0.675);'>&nbsp;</span><span class='token' style='background-color: rgba(241, 226, 204, 0.675);'>b</span><span class='token' style='background-color: rgba(204, 204, 204, 0.675);'>o</span><span class='token' style='background-color: rgba(179, 226, 205, 0.675);'>r</span><span class='token' style='background-color: rgba(253, 205, 172, 0.675);'>r</span><span class='token' style='background-color: rgba(203, 213, 232, 0.675);'>o</span><span class='token' style='background-color: rgba(244, 202, 228, 0.675);'>w</span><span class='token' style='background-color: rgba(230, 245, 201, 0.675);'>e</span><span class='token' style='background-color: rgba(255, 242, 174, 0.675);'>d</span><span class='token' style='background-color: rgba(241, 226, 204, 0.675);'>&nbsp;</span><span class='token' style='background-color: rgba(204, 204, 204, 0.675);'>m</span><span class='token' style='background-color: rgba(179, 226, 205, 0.675);'>o</span><span class='token' style='background-color: rgba(253, 205, 172, 0.675);'>t</span><span class='token' style='background-color: rgba(203, 213, 232, 0.675);'>i</span><span class='token' style='background-color: rgba(244, 202, 228, 0.675);'>o</span><span class='token' style='background-color: rgba(230, 245, 201, 0.675);'>n</span><span class='token' style='background-color: rgba(255, 242, 174, 0.675);'>,</span><span class='token' style='background-color: rgba(241, 226, 204, 0.675);'>&nbsp;</span><span class='token' style='background-color: rgba(204, 204, 204, 0.675);'>s</span><span class='token' style='background-color: rgba(179, 226, 205, 0.675);'>e</span><span class='token' style='background-color: rgba(253, 205, 172, 0.675);'>e</span><span class='token' style='background-color: rgba(203, 213, 232, 0.675);'>m</span><span class='token' style='background-color: rgba(244, 202, 228, 0.675);'>i</span><span class='token' style='background-color: rgba(230, 245, 201, 0.675);'>n</span><span class='token' style='background-color: rgba(255, 242, 174, 0.675);'>g</span><span class='token' style='background-color: rgba(241, 226, 204, 0.675);'>&nbsp;</span><span class='token' style='background-color: rgba(204, 204, 204, 0.675);'>o</span><span class='token' style='background-color: rgba(179, 226, 205, 0.675);'>w</span><span class='token' style='background-color: rgba(253, 205, 172, 0.675);'>e</span><span class='token' style='background-color: rgba(203, 213, 232, 0.675);'>d</span><span class='token' style='background-color: rgba(244, 202, 228, 0.675);'>,</span><span class='token' style='background-color: rgba(230, 245, 201, 0.675);'><br></span><span class='token' style='background-color: rgba(179, 226, 205, 0.675);'>&nbsp;</span><span class='token' style='background-color: rgba(253, 205, 172, 0.675);'>&nbsp;</span><span class='token' style='background-color: rgba(203, 213, 232, 0.675);'>W</span><span class='token' style='background-color: rgba(244, 202, 228, 0.675);'>o</span><span class='token' style='background-color: rgba(230, 245, 201, 0.675);'>u</span><span class='token' style='background-color: rgba(255, 242, 174, 0.675);'>l</span><span class='token' style='background-color: rgba(241, 226, 204, 0.675);'>d</span><span class='token' style='background-color: rgba(204, 204, 204, 0.675);'>&nbsp;</span><span class='token' style='background-color: rgba(179, 226, 205, 0.675);'>y</span><span class='token' style='background-color: rgba(253, 205, 172, 0.675);'>e</span><span class='token' style='background-color: rgba(203, 213, 232, 0.675);'>t</span><span class='token' style='background-color: rgba(244, 202, 228, 0.675);'>&nbsp;</span><span class='token' style='background-color: rgba(230, 245, 201, 0.675);'>a</span><span class='token' style='background-color: rgba(255, 242, 174, 0.675);'>g</span><span class='token' style='background-color: rgba(241, 226, 204, 0.675);'>a</span><span class='token' style='background-color: rgba(204, 204, 204, 0.675);'>i</span><span class='token' style='background-color: rgba(179, 226, 205, 0.675);'>n</span><span class='token' style='background-color: rgba(253, 205, 172, 0.675);'>&nbsp;</span><span class='token' style='background-color: rgba(203, 213, 232, 0.675);'>b</span><span class='token' style='background-color: rgba(244, 202, 228, 0.675);'>e</span><span class='token' style='background-color: rgba(230, 245, 201, 0.675);'>t</span><span class='token' style='background-color: rgba(255, 242, 174, 0.675);'>r</span><span class='token' style='background-color: rgba(241, 226, 204, 0.675);'>a</span><span class='token' style='background-color: rgba(204, 204, 204, 0.675);'>y</span><span class='token' style='background-color: rgba(179, 226, 205, 0.675);'>&nbsp;</span><span class='token' style='background-color: rgba(253, 205, 172, 0.675);'>t</span><span class='token' style='background-color: rgba(203, 213, 232, 0.675);'>h</span><span class='token' style='background-color: rgba(244, 202, 228, 0.675);'>e</span><span class='token' style='background-color: rgba(230, 245, 201, 0.675);'>&nbsp;</span><span class='token' style='background-color: rgba(255, 242, 174, 0.675);'>f</span><span class='token' style='background-color: rgba(241, 226, 204, 0.675);'>o</span><span class='token' style='background-color: rgba(204, 204, 204, 0.675);'>r</span><span class='token' style='background-color: rgba(179, 226, 205, 0.675);'>e</span><span class='token' style='background-color: rgba(253, 205, 172, 0.675);'>-</span><span class='token' style='background-color: rgba(203, 213, 232, 0.675);'>b</span><span class='token' style='background-color: rgba(244, 202, 228, 0.675);'>e</span><span class='token' style='background-color: rgba(230, 245, 201, 0.675);'>t</span><span class='token' style='background-color: rgba(255, 242, 174, 0.675);'>r</span><span class='token' style='background-color: rgba(241, 226, 204, 0.675);'>a</span><span class='token' style='background-color: rgba(204, 204, 204, 0.675);'>y</span><span class='token' style='background-color: rgba(179, 226, 205, 0.675);'>e</span><span class='token' style='background-color: rgba(253, 205, 172, 0.675);'>d</span><span class='token' style='background-color: rgba(203, 213, 232, 0.675);'>,</span><span class='token' style='background-color: rgba(244, 202, 228, 0.675);'><br></span><span class='token' style='background-color: rgba(179, 226, 205, 0.675);'>&nbsp;</span><span class='token' style='background-color: rgba(253, 205, 172, 0.675);'>&nbsp;</span><span class='token' style='background-color: rgba(203, 213, 232, 0.675);'>A</span><span class='token' style='background-color: rgba(244, 202, 228, 0.675);'>n</span><span class='token' style='background-color: rgba(230, 245, 201, 0.675);'>d</span><span class='token' style='background-color: rgba(255, 242, 174, 0.675);'>&nbsp;</span><span class='token' style='background-color: rgba(241, 226, 204, 0.675);'>n</span><span class='token' style='background-color: rgba(204, 204, 204, 0.675);'>e</span><span class='token' style='background-color: rgba(179, 226, 205, 0.675);'>w</span><span class='token' style='background-color: rgba(253, 205, 172, 0.675);'>&nbsp;</span><span class='token' style='background-color: rgba(203, 213, 232, 0.675);'>p</span><span class='token' style='background-color: rgba(244, 202, 228, 0.675);'>e</span><span class='token' style='background-color: rgba(230, 245, 201, 0.675);'>r</span><span class='token' style='background-color: rgba(255, 242, 174, 0.675);'>v</span><span class='token' style='background-color: rgba(241, 226, 204, 0.675);'>e</span><span class='token' style='background-color: rgba(204, 204, 204, 0.675);'>r</span><span class='token' style='background-color: rgba(179, 226, 205, 0.675);'>t</span><span class='token' style='background-color: rgba(253, 205, 172, 0.675);'>&nbsp;</span><span class='token' style='background-color: rgba(203, 213, 232, 0.675);'>a</span><span class='token' style='background-color: rgba(244, 202, 228, 0.675);'>&nbsp;</span><span class='token' style='background-color: rgba(230, 245, 201, 0.675);'>r</span><span class='token' style='background-color: rgba(255, 242, 174, 0.675);'>e</span><span class='token' style='background-color: rgba(241, 226, 204, 0.675);'>c</span><span class='token' style='background-color: rgba(204, 204, 204, 0.675);'>o</span><span class='token' style='background-color: rgba(179, 226, 205, 0.675);'>n</span><span class='token' style='background-color: rgba(253, 205, 172, 0.675);'>c</span><span class='token' style='background-color: rgba(203, 213, 232, 0.675);'>i</span><span class='token' style='background-color: rgba(244, 202, 228, 0.675);'>l</span><span class='token' style='background-color: rgba(230, 245, 201, 0.675);'>e</span><span class='token' style='background-color: rgba(255, 242, 174, 0.675);'>d</span><span class='token' style='background-color: rgba(241, 226, 204, 0.675);'>&nbsp;</span><span class='token' style='background-color: rgba(204, 204, 204, 0.675);'>m</span><span class='token' style='background-color: rgba(179, 226, 205, 0.675);'>a</span><span class='token' style='background-color: rgba(253, 205, 172, 0.675);'>i</span><span class='token' style='background-color: rgba(203, 213, 232, 0.675);'>d</span><span class='token' style='background-color: rgba(244, 202, 228, 0.675);'>.</span><span class='token' style='background-color: rgba(255, 242, 174, 0.675);'><br></span></div>"
      ],
      "text/plain": [
       "<IPython.core.display.HTML object>"
      ]
     },
     "metadata": {},
     "output_type": "display_data"
    }
   ],
   "source": [
    "print(\"\\n... BPE TOKENIZATION:\")\n",
    "bpe_token_viz = TokenVisualization(\n",
    "    encoder=bpe_encoder,\n",
    "    decoder=bpe_decoder,\n",
    "    background_color=\"#FBFBFB\"\n",
    ")\n",
    "_ = bpe_token_viz.visualize(basic_chunks[0], display_inline=True)\n",
    "\n",
    "print(\"\\n... UNIGRAM TOKENIZATION:\")\n",
    "uni_token_viz = TokenVisualization(\n",
    "    encoder=uni_encoder,\n",
    "    decoder=uni_decoder,\n",
    "    background_color=\"#FBFBFB\"\n",
    ")\n",
    "_ = uni_token_viz.visualize(basic_chunks[0], display_inline=True)\n",
    "\n",
    "\n",
    "### FOR FUN AND VIZ ###\n",
    "print(\"\\n... CHAR TOKENIZATION:\")\n",
    "dumb_char_map_s2i = {x:i for i, x in enumerate(set(basic_chunks[0]))}\n",
    "dumb_char_map_i2s = {v:k for k,v in dumb_char_map_s2i.items()}\n",
    "char_token_viz = TokenVisualization(\n",
    "    encoder=lambda x: [dumb_char_map_s2i.get(_x) for _x in x] if type(x)==str else dumb_char_map_s2i.get(x),\n",
    "    decoder=lambda x: \"\".join([dumb_char_map_i2s.get(_x) for _x in x]) if type(x)==list else dumb_char_map_i2s.get(x),\n",
    "    background_color=\"#FBFBFB\"\n",
    ")\n",
    "_ = char_token_viz.visualize(basic_chunks[0], display_inline=True)"
   ]
  },
  {
   "cell_type": "markdown",
   "id": "28b78d20-17c7-4e7e-9f80-155aa86089cc",
   "metadata": {},
   "source": [
    "<br>\n",
    "\n",
    "<div align=\"center\">\n",
    "\n",
    "## 📊 Basic Exploratory Data Analysis (EDA) <a name=\"basic-eda\"></a>\n",
    "\n",
    "</div>\n",
    "\n",
    "<br>\n",
    "\n",
    "Here, we'll perform a basic EDA on the dataset to gain insights and identify potential issues. This analysis may include examining token frequency, distribution of chunk lengths, and other relevant characteristics. This information can be helpful in understanding the dataset's structure and guiding further preprocessing decisions.\n",
    "\n",
    "We will utilize the metadata columns we create to create different versions of the dataset:\n",
    "\n",
    "<br>\n",
    "\n",
    "<table>\n",
    "  <thead>\n",
    "    <tr>\n",
    "      <th style=\"text-align: center; font-weight: bold; width: 15%;\">Version</th>\n",
    "      <th style=\"text-align: center; font-weight: bold; width: 85%;\">Description</th>\n",
    "    </tr>\n",
    "  </thead>\n",
    "  <tbody>\n",
    "    <tr>\n",
    "      <td style=\"text-align: center;\"><strong>v1</strong></td>\n",
    "      <td>No filtering, no chunks removed (the above dataframe)</td>\n",
    "    </tr>\n",
    "    <tr>\n",
    "      <td style=\"text-align: center;\"><strong>v2</strong></td>\n",
    "      <td>Split into individual datasets for bpe, unigram within each chunking technique (4 datasets total)<br>Rename columns to not specify tokenization method to allow for more generalization across interaction</td>\n",
    "    </tr>\n",
    "    <tr>\n",
    "      <td style=\"text-align: center;\"><strong>v3</strong></td>\n",
    "      <td>Drop small chunks<br>Drop really big chunks</td>\n",
    "    </tr>\n",
    "    <tr>\n",
    "      <td style=\"text-align: center;\"><strong>v4</strong></td>\n",
    "      <td>Evenly pad/truncated tokenized sequences up to reasonable length (close to max length --> 90th percentile?)</td>\n",
    "    </tr>\n",
    "  </tbody>\n",
    "</table>\n",
    "\n",
    "<br>\n",
    "\n"
   ]
  },
  {
   "cell_type": "code",
   "execution_count": 7,
   "id": "92289f97-bf0d-42bb-85c9-5ffeb3259694",
   "metadata": {},
   "outputs": [
    {
     "data": {
      "application/vnd.jupyter.widget-view+json": {
       "model_id": "40c0f3c6538f466684184c6350f458bd",
       "version_major": 2,
       "version_minor": 0
      },
      "text/plain": [
       "  0%|          | 0/13896 [00:00<?, ?it/s]"
      ]
     },
     "metadata": {},
     "output_type": "display_data"
    },
    {
     "data": {
      "application/vnd.jupyter.widget-view+json": {
       "model_id": "f2bfa68b2ccd4096b5f0965721d04d0b",
       "version_major": 2,
       "version_minor": 0
      },
      "text/plain": [
       "  0%|          | 0/13896 [00:00<?, ?it/s]"
      ]
     },
     "metadata": {},
     "output_type": "display_data"
    },
    {
     "data": {
      "application/vnd.jupyter.widget-view+json": {
       "model_id": "d1477390d0f74eb1ad19e10a5563f430",
       "version_major": 2,
       "version_minor": 0
      },
      "text/plain": [
       "  0%|          | 0/7699 [00:00<?, ?it/s]"
      ]
     },
     "metadata": {},
     "output_type": "display_data"
    },
    {
     "data": {
      "application/vnd.jupyter.widget-view+json": {
       "model_id": "b714314d2122493d808d118e1b1e427e",
       "version_major": 2,
       "version_minor": 0
      },
      "text/plain": [
       "  0%|          | 0/7699 [00:00<?, ?it/s]"
      ]
     },
     "metadata": {},
     "output_type": "display_data"
    }
   ],
   "source": [
    "# 1. Setup - Create directories if necessary    \n",
    "DATASET_DIR = os.path.join(DATA_PATH, \"datasets\")\n",
    "if not os.path.isdir(DATASET_DIR): os.makedirs(DATASET_DIR, exist_ok=True)\n",
    "META_DIR = os.path.join(DATASET_DIR, \"meta\")\n",
    "if not os.path.isdir(META_DIR): os.makedirs(META_DIR, exist_ok=True)\n",
    "\n",
    "\n",
    "# 2. Dataframe and metadata creation\n",
    "#       - Instantiate\n",
    "#       - Create metadata columns\n",
    "#       - Create metadata dataframe (optional)\n",
    "basic_chunk_df = pd.DataFrame({\"content\":basic_chunks})\n",
    "rcts_chunk_df = pd.DataFrame({\"content\":rcts_chunks})\n",
    "\n",
    "for _df in [basic_chunk_df, rcts_chunk_df]:\n",
    "    _df[\"uni_token_content\"] = _df[\"content\"].progress_apply(lambda x: tokenize(x, uni_encoder))\n",
    "    _df[\"bpe_token_content\"] = _df[\"content\"].progress_apply(lambda x: tokenize(x, bpe_encoder))\n",
    "    _df[\"n_uni_tokens\"] = _df[\"uni_token_content\"].apply(get_n_tokens)\n",
    "    _df[\"n_bpe_tokens\"] = _df[\"bpe_token_content\"].apply(get_n_tokens)\n",
    "    _df[\"n_chars\"] = _df[\"content\"].apply(get_n_chars)\n",
    "    _df[\"n_lines\"] = _df[\"content\"].apply(get_n_lines)\n",
    "    _df[\"valid_uni_chunk\"] = _df[\"n_uni_tokens\"].apply(check_chunks)\n",
    "    _df[\"valid_bpe_chunk\"] = _df[\"n_bpe_tokens\"].apply(check_chunks)\n",
    "\n",
    "basic_chunk_df_meta = get_metadata_df(basic_chunk_df)\n",
    "rcts_chunk_df_meta = get_metadata_df(rcts_chunk_df)\n",
    "\n",
    "\n",
    "# 3. Versioning\n",
    "    \n",
    "######################################## v1 ########################################\n",
    "# Save the previously created datasets along with the manually created metadata\n",
    "####################################################################################\n",
    "save_ds_version(rcts_chunk_df, \"rcts\", version_str=\"v1\", meta_dir=META_DIR, ds_dir=DATASET_DIR, meta_df=rcts_chunk_df_meta)\n",
    "save_ds_version(basic_chunk_df, \"basic\", version_str=\"v1\", meta_dir=META_DIR, ds_dir=DATASET_DIR, meta_df=basic_chunk_df_meta)\n",
    "####################################################################################\n",
    "\n",
    "######################################## v2 ########################################\n",
    "# Split bpe and unigram into their own dataframes (meta is generated automatically)\n",
    "####################################################################################\n",
    "rcts_uni_chunk_df = rcts_chunk_df.copy().drop(columns=[_c for _c in rcts_chunk_df.columns if \"bpe\" in _c])\n",
    "basic_uni_chunk_df = basic_chunk_df.copy().drop(columns=[_c for _c in basic_chunk_df.columns if \"bpe\" in _c])\n",
    "rcts_bpe_chunk_df = rcts_chunk_df.copy().drop(columns=[_c for _c in rcts_chunk_df.columns if \"uni\" in _c])\n",
    "basic_bpe_chunk_df = basic_chunk_df.copy().drop(columns=[_c for _c in basic_chunk_df.columns if \"uni\" in _c])\n",
    "\n",
    "# Rename columns\n",
    "rcts_uni_chunk_df = drop_str_from_col_names(rcts_uni_chunk_df, \"uni\")\n",
    "rcts_bpe_chunk_df = drop_str_from_col_names(rcts_bpe_chunk_df, \"bpe\")\n",
    "basic_uni_chunk_df = drop_str_from_col_names(basic_uni_chunk_df, \"uni\")\n",
    "basic_bpe_chunk_df = drop_str_from_col_names(basic_bpe_chunk_df, \"bpe\")\n",
    "\n",
    "save_ds_version(rcts_uni_chunk_df, \"rcts_uni\", version_str=\"v2\", meta_dir=META_DIR, ds_dir=DATASET_DIR)\n",
    "save_ds_version(rcts_bpe_chunk_df, \"rcts_bpe\", version_str=\"v2\", meta_dir=META_DIR, ds_dir=DATASET_DIR)\n",
    "save_ds_version(basic_uni_chunk_df, \"basic_uni\", version_str=\"v2\", meta_dir=META_DIR, ds_dir=DATASET_DIR)\n",
    "save_ds_version(basic_bpe_chunk_df, \"basic_bpe\", version_str=\"v2\", meta_dir=META_DIR, ds_dir=DATASET_DIR)\n",
    "####################################################################################\n",
    "\n",
    "######################################## v3 ########################################\n",
    "# Filtering (big and little get dropped)\n",
    "####################################################################################\n",
    "\n",
    "# Filter and drop valid chunk col\n",
    "for _df in [rcts_uni_chunk_df, rcts_bpe_chunk_df, basic_uni_chunk_df, basic_bpe_chunk_df]:\n",
    "    _df = _df[_df.valid_chunk].drop(columns=[\"valid_chunk\"]).reset_index(drop=True)\n",
    "\n",
    "# Save\n",
    "save_ds_version(rcts_uni_chunk_df, \"rcts_uni\", version_str=\"v3\", meta_dir=META_DIR, ds_dir=DATASET_DIR)\n",
    "save_ds_version(rcts_bpe_chunk_df, \"rcts_bpe\", version_str=\"v3\", meta_dir=META_DIR, ds_dir=DATASET_DIR)\n",
    "save_ds_version(basic_uni_chunk_df, \"basic_uni\", version_str=\"v3\", meta_dir=META_DIR, ds_dir=DATASET_DIR)\n",
    "save_ds_version(basic_bpe_chunk_df, \"basic_bpe\", version_str=\"v3\", meta_dir=META_DIR, ds_dir=DATASET_DIR)\n",
    "####################################################################################\n",
    "\n",
    "# ######################################## v4 ########################################\n",
    "# # Padding and truncation --> basic upper limit of 384 (assuming context lengths of 64-128)\n",
    "# ####################################################################################\n",
    "FIXED_CHUNK_SIZE = 384\n",
    "\n",
    "for _df in [rcts_uni_chunk_df, rcts_bpe_chunk_df, basic_uni_chunk_df, basic_bpe_chunk_df]:\n",
    "    _df[\"token_content\"] = _df[\"token_content\"].apply(lambda x: pad_truncate_centered(x, FIXED_CHUNK_SIZE))\n",
    "\n",
    "save_ds_version(rcts_uni_chunk_df, \"rcts_uni\", version_str=\"v4\", meta_dir=META_DIR, ds_dir=DATASET_DIR)\n",
    "save_ds_version(rcts_bpe_chunk_df, \"rcts_bpe\", version_str=\"v4\", meta_dir=META_DIR, ds_dir=DATASET_DIR)\n",
    "save_ds_version(basic_uni_chunk_df, \"basic_uni\", version_str=\"v4\", meta_dir=META_DIR, ds_dir=DATASET_DIR)\n",
    "save_ds_version(basic_bpe_chunk_df, \"basic_bpe\", version_str=\"v4\", meta_dir=META_DIR, ds_dir=DATASET_DIR)\n",
    "# ####################################################################################"
   ]
  },
  {
   "cell_type": "markdown",
   "id": "e0aabee3-7e10-4898-906b-9d663529afca",
   "metadata": {},
   "source": [
    "<br>\n",
    "\n",
    "<div align=\"center\">\n",
    "\n",
    "## 💾 Converting to TFRecords <a name=\"converting-to-tfrecords\"></a>\n",
    "\n",
    "</div>\n",
    "\n",
    "<br>\n",
    "\n",
    "Finally, after completing the preprocessing steps and EDA, we'll convert the toy dataset into the `TFRecords` format. This efficient binary format is designed for use with TensorFlow and will enable seamless integration with your Language Model training pipeline.\n",
    "\n"
   ]
  },
  {
   "cell_type": "code",
   "execution_count": 11,
   "id": "d462afc7-0760-4544-9455-86f22e9ebe7a",
   "metadata": {},
   "outputs": [
    {
     "name": "stderr",
     "output_type": "stream",
     "text": [
      "Writing TFRecords:   0%|                                  | 0/8 [00:00<?, ?it/s]"
     ]
    },
    {
     "name": "stdout",
     "output_type": "stream",
     "text": [
      "\n",
      "... Writing TFRecord 1 of 8 (1000 per TFRecord)...\n",
      "\n"
     ]
    },
    {
     "name": "stderr",
     "output_type": "stream",
     "text": [
      "\n",
      "100%|████████████████████████████████████| 1000/1000 [00:00<00:00, 14435.34it/s]\u001b[A"
     ]
    },
    {
     "name": "stdout",
     "output_type": "stream",
     "text": [
      "\n",
      "... Writing TFRecord 2 of 8 (1000 per TFRecord)...\n",
      "\n"
     ]
    },
    {
     "name": "stderr",
     "output_type": "stream",
     "text": [
      "\n",
      "\n",
      "100%|████████████████████████████████████| 1000/1000 [00:00<00:00, 14579.10it/s]\u001b[A\n",
      "Writing TFRecords:  25%|██████▌                   | 2/8 [00:00<00:00, 13.69it/s]"
     ]
    },
    {
     "name": "stdout",
     "output_type": "stream",
     "text": [
      "\n",
      "... Writing TFRecord 3 of 8 (1000 per TFRecord)...\n",
      "\n"
     ]
    },
    {
     "name": "stderr",
     "output_type": "stream",
     "text": [
      "\n",
      "100%|████████████████████████████████████| 1000/1000 [00:00<00:00, 14803.08it/s]\u001b[A\n"
     ]
    },
    {
     "name": "stdout",
     "output_type": "stream",
     "text": [
      "\n",
      "... Writing TFRecord 4 of 8 (1000 per TFRecord)...\n",
      "\n"
     ]
    },
    {
     "name": "stderr",
     "output_type": "stream",
     "text": [
      "\n",
      "100%|████████████████████████████████████| 1000/1000 [00:00<00:00, 14716.60it/s]\u001b[A\n",
      "Writing TFRecords:  50%|█████████████             | 4/8 [00:00<00:00, 13.82it/s]"
     ]
    },
    {
     "name": "stdout",
     "output_type": "stream",
     "text": [
      "\n",
      "... Writing TFRecord 5 of 8 (1000 per TFRecord)...\n",
      "\n"
     ]
    },
    {
     "name": "stderr",
     "output_type": "stream",
     "text": [
      "\n",
      "100%|████████████████████████████████████| 1000/1000 [00:00<00:00, 14329.70it/s]\u001b[A\n"
     ]
    },
    {
     "name": "stdout",
     "output_type": "stream",
     "text": [
      "\n",
      "... Writing TFRecord 6 of 8 (1000 per TFRecord)...\n",
      "\n"
     ]
    },
    {
     "name": "stderr",
     "output_type": "stream",
     "text": [
      "\n",
      "100%|████████████████████████████████████| 1000/1000 [00:00<00:00, 14133.75it/s]\u001b[A\n",
      "Writing TFRecords:  75%|███████████████████▌      | 6/8 [00:00<00:00, 13.61it/s]"
     ]
    },
    {
     "name": "stdout",
     "output_type": "stream",
     "text": [
      "\n",
      "... Writing TFRecord 7 of 8 (1000 per TFRecord)...\n",
      "\n"
     ]
    },
    {
     "name": "stderr",
     "output_type": "stream",
     "text": [
      "\n",
      "100%|████████████████████████████████████| 1000/1000 [00:00<00:00, 13981.39it/s]\u001b[A\n"
     ]
    },
    {
     "name": "stdout",
     "output_type": "stream",
     "text": [
      "\n",
      "... Writing TFRecord 8 of 8 (1000 per TFRecord)...\n",
      "\n"
     ]
    },
    {
     "name": "stderr",
     "output_type": "stream",
     "text": [
      "\n",
      " 70%|█████████████████████████▊           | 699/1000 [00:00<00:00, 14034.29it/s]\u001b[A\n",
      "Writing TFRecords: 100%|██████████████████████████| 8/8 [00:00<00:00, 14.06it/s]\n",
      "Writing TFRecords:   0%|                                  | 0/8 [00:00<?, ?it/s]"
     ]
    },
    {
     "name": "stdout",
     "output_type": "stream",
     "text": [
      "\n",
      "... Writing TFRecord 1 of 8 (1000 per TFRecord)...\n",
      "\n"
     ]
    },
    {
     "name": "stderr",
     "output_type": "stream",
     "text": [
      "\n",
      "100%|████████████████████████████████████| 1000/1000 [00:00<00:00, 13404.61it/s]\u001b[A\n"
     ]
    },
    {
     "name": "stdout",
     "output_type": "stream",
     "text": [
      "\n",
      "... Writing TFRecord 2 of 8 (1000 per TFRecord)...\n",
      "\n"
     ]
    },
    {
     "name": "stderr",
     "output_type": "stream",
     "text": [
      "\n",
      "100%|████████████████████████████████████| 1000/1000 [00:00<00:00, 13860.79it/s]\u001b[A\n",
      "Writing TFRecords:  25%|██████▌                   | 2/8 [00:00<00:00, 13.08it/s]"
     ]
    },
    {
     "name": "stdout",
     "output_type": "stream",
     "text": [
      "\n",
      "... Writing TFRecord 3 of 8 (1000 per TFRecord)...\n",
      "\n"
     ]
    },
    {
     "name": "stderr",
     "output_type": "stream",
     "text": [
      "\n",
      "100%|████████████████████████████████████| 1000/1000 [00:00<00:00, 13440.35it/s]\u001b[A\n"
     ]
    },
    {
     "name": "stdout",
     "output_type": "stream",
     "text": [
      "\n",
      "... Writing TFRecord 4 of 8 (1000 per TFRecord)...\n",
      "\n"
     ]
    },
    {
     "name": "stderr",
     "output_type": "stream",
     "text": [
      "\n",
      "100%|████████████████████████████████████| 1000/1000 [00:00<00:00, 15090.74it/s]\u001b[A\n",
      "Writing TFRecords:  50%|█████████████             | 4/8 [00:00<00:00, 13.35it/s]"
     ]
    },
    {
     "name": "stdout",
     "output_type": "stream",
     "text": [
      "\n",
      "... Writing TFRecord 5 of 8 (1000 per TFRecord)...\n",
      "\n"
     ]
    },
    {
     "name": "stderr",
     "output_type": "stream",
     "text": [
      "\n",
      "100%|████████████████████████████████████| 1000/1000 [00:00<00:00, 13936.42it/s]\u001b[A\n"
     ]
    },
    {
     "name": "stdout",
     "output_type": "stream",
     "text": [
      "\n",
      "... Writing TFRecord 6 of 8 (1000 per TFRecord)...\n",
      "\n"
     ]
    },
    {
     "name": "stderr",
     "output_type": "stream",
     "text": [
      "\n",
      "100%|████████████████████████████████████| 1000/1000 [00:00<00:00, 14231.44it/s]\u001b[A\n",
      "Writing TFRecords:  75%|███████████████████▌      | 6/8 [00:00<00:00, 13.32it/s]"
     ]
    },
    {
     "name": "stdout",
     "output_type": "stream",
     "text": [
      "\n",
      "... Writing TFRecord 7 of 8 (1000 per TFRecord)...\n",
      "\n"
     ]
    },
    {
     "name": "stderr",
     "output_type": "stream",
     "text": [
      "\n",
      "100%|████████████████████████████████████| 1000/1000 [00:00<00:00, 14428.39it/s]\u001b[A\n"
     ]
    },
    {
     "name": "stdout",
     "output_type": "stream",
     "text": [
      "\n",
      "... Writing TFRecord 8 of 8 (1000 per TFRecord)...\n",
      "\n"
     ]
    },
    {
     "name": "stderr",
     "output_type": "stream",
     "text": [
      "\n",
      " 70%|█████████████████████████▊           | 699/1000 [00:00<00:00, 12389.99it/s]\u001b[A\n",
      "Writing TFRecords: 100%|██████████████████████████| 8/8 [00:00<00:00, 13.66it/s]\n",
      "Writing TFRecords:   0%|                                 | 0/14 [00:00<?, ?it/s]"
     ]
    },
    {
     "name": "stdout",
     "output_type": "stream",
     "text": [
      "\n",
      "... Writing TFRecord 1 of 14 (1000 per TFRecord)...\n",
      "\n"
     ]
    },
    {
     "name": "stderr",
     "output_type": "stream",
     "text": [
      "\n",
      "100%|████████████████████████████████████| 1000/1000 [00:00<00:00, 14307.41it/s]\u001b[A\n"
     ]
    },
    {
     "name": "stdout",
     "output_type": "stream",
     "text": [
      "\n",
      "... Writing TFRecord 2 of 14 (1000 per TFRecord)...\n",
      "\n"
     ]
    },
    {
     "name": "stderr",
     "output_type": "stream",
     "text": [
      "\n",
      "100%|████████████████████████████████████| 1000/1000 [00:00<00:00, 13718.35it/s]\u001b[A\n",
      "Writing TFRecords:  14%|███▌                     | 2/14 [00:00<00:00, 13.27it/s]"
     ]
    },
    {
     "name": "stdout",
     "output_type": "stream",
     "text": [
      "\n",
      "... Writing TFRecord 3 of 14 (1000 per TFRecord)...\n",
      "\n"
     ]
    },
    {
     "name": "stderr",
     "output_type": "stream",
     "text": [
      "\n",
      "100%|████████████████████████████████████| 1000/1000 [00:00<00:00, 14305.66it/s]\u001b[A\n"
     ]
    },
    {
     "name": "stdout",
     "output_type": "stream",
     "text": [
      "\n",
      "... Writing TFRecord 4 of 14 (1000 per TFRecord)...\n",
      "\n"
     ]
    },
    {
     "name": "stderr",
     "output_type": "stream",
     "text": [
      "\n",
      "100%|████████████████████████████████████| 1000/1000 [00:00<00:00, 14373.85it/s]\u001b[A\n",
      "Writing TFRecords:  29%|███████▏                 | 4/14 [00:00<00:00, 13.40it/s]"
     ]
    },
    {
     "name": "stdout",
     "output_type": "stream",
     "text": [
      "\n",
      "... Writing TFRecord 5 of 14 (1000 per TFRecord)...\n",
      "\n"
     ]
    },
    {
     "name": "stderr",
     "output_type": "stream",
     "text": [
      "\n",
      "100%|████████████████████████████████████| 1000/1000 [00:00<00:00, 14365.28it/s]\u001b[A\n"
     ]
    },
    {
     "name": "stdout",
     "output_type": "stream",
     "text": [
      "\n",
      "... Writing TFRecord 6 of 14 (1000 per TFRecord)...\n",
      "\n"
     ]
    },
    {
     "name": "stderr",
     "output_type": "stream",
     "text": [
      "\n",
      "100%|████████████████████████████████████| 1000/1000 [00:00<00:00, 13421.21it/s]\u001b[A\n",
      "Writing TFRecords:  43%|██████████▋              | 6/14 [00:00<00:00, 13.27it/s]"
     ]
    },
    {
     "name": "stdout",
     "output_type": "stream",
     "text": [
      "\n",
      "... Writing TFRecord 7 of 14 (1000 per TFRecord)...\n",
      "\n"
     ]
    },
    {
     "name": "stderr",
     "output_type": "stream",
     "text": [
      "\n",
      "100%|████████████████████████████████████| 1000/1000 [00:00<00:00, 14479.29it/s]\u001b[A\n"
     ]
    },
    {
     "name": "stdout",
     "output_type": "stream",
     "text": [
      "\n",
      "... Writing TFRecord 8 of 14 (1000 per TFRecord)...\n",
      "\n"
     ]
    },
    {
     "name": "stderr",
     "output_type": "stream",
     "text": [
      "\n",
      " 70%|█████████████████████████▊           | 699/1000 [00:00<00:00, 14104.23it/s]\u001b[A\n",
      "Writing TFRecords:  57%|██████████████▎          | 8/14 [00:00<00:00, 14.21it/s]"
     ]
    },
    {
     "name": "stdout",
     "output_type": "stream",
     "text": [
      "\n",
      "... Writing TFRecord 9 of 14 (1000 per TFRecord)...\n",
      "\n"
     ]
    },
    {
     "name": "stderr",
     "output_type": "stream",
     "text": [
      "\n",
      "  0%|                                                  | 0/1000 [00:00<?, ?it/s]\u001b[A\n"
     ]
    },
    {
     "name": "stdout",
     "output_type": "stream",
     "text": [
      "\n",
      "... Writing TFRecord 10 of 14 (1000 per TFRecord)...\n",
      "\n"
     ]
    },
    {
     "name": "stderr",
     "output_type": "stream",
     "text": [
      "\n",
      "  0%|                                                  | 0/1000 [00:00<?, ?it/s]\u001b[A\n"
     ]
    },
    {
     "name": "stdout",
     "output_type": "stream",
     "text": [
      "\n",
      "... Writing TFRecord 11 of 14 (1000 per TFRecord)...\n",
      "\n"
     ]
    },
    {
     "name": "stderr",
     "output_type": "stream",
     "text": [
      "\n",
      "  0%|                                                  | 0/1000 [00:00<?, ?it/s]\u001b[A\n"
     ]
    },
    {
     "name": "stdout",
     "output_type": "stream",
     "text": [
      "\n",
      "... Writing TFRecord 12 of 14 (1000 per TFRecord)...\n",
      "\n"
     ]
    },
    {
     "name": "stderr",
     "output_type": "stream",
     "text": [
      "\n",
      "  0%|                                                  | 0/1000 [00:00<?, ?it/s]\u001b[A\n"
     ]
    },
    {
     "name": "stdout",
     "output_type": "stream",
     "text": [
      "\n",
      "... Writing TFRecord 13 of 14 (1000 per TFRecord)...\n",
      "\n"
     ]
    },
    {
     "name": "stderr",
     "output_type": "stream",
     "text": [
      "\n",
      "  0%|                                                  | 0/1000 [00:00<?, ?it/s]\u001b[A\n"
     ]
    },
    {
     "name": "stdout",
     "output_type": "stream",
     "text": [
      "\n",
      "... Writing TFRecord 14 of 14 (1000 per TFRecord)...\n",
      "\n"
     ]
    },
    {
     "name": "stderr",
     "output_type": "stream",
     "text": [
      "\n",
      "  0%|                                                  | 0/1000 [00:00<?, ?it/s]\u001b[A\n",
      "Writing TFRecords: 100%|████████████████████████| 14/14 [00:00<00:00, 23.69it/s]\n",
      "Writing TFRecords:   0%|                                 | 0/14 [00:00<?, ?it/s]"
     ]
    },
    {
     "name": "stdout",
     "output_type": "stream",
     "text": [
      "\n",
      "... Writing TFRecord 1 of 14 (1000 per TFRecord)...\n",
      "\n"
     ]
    },
    {
     "name": "stderr",
     "output_type": "stream",
     "text": [
      "\n",
      "100%|████████████████████████████████████| 1000/1000 [00:00<00:00, 14079.76it/s]\u001b[A\n"
     ]
    },
    {
     "name": "stdout",
     "output_type": "stream",
     "text": [
      "\n",
      "... Writing TFRecord 2 of 14 (1000 per TFRecord)...\n",
      "\n"
     ]
    },
    {
     "name": "stderr",
     "output_type": "stream",
     "text": [
      "\n",
      "100%|████████████████████████████████████| 1000/1000 [00:00<00:00, 14511.86it/s]\u001b[A\n",
      "Writing TFRecords:  14%|███▌                     | 2/14 [00:00<00:00, 13.67it/s]"
     ]
    },
    {
     "name": "stdout",
     "output_type": "stream",
     "text": [
      "\n",
      "... Writing TFRecord 3 of 14 (1000 per TFRecord)...\n",
      "\n"
     ]
    },
    {
     "name": "stderr",
     "output_type": "stream",
     "text": [
      "\n",
      "100%|████████████████████████████████████| 1000/1000 [00:00<00:00, 14042.61it/s]\u001b[A\n"
     ]
    },
    {
     "name": "stdout",
     "output_type": "stream",
     "text": [
      "\n",
      "... Writing TFRecord 4 of 14 (1000 per TFRecord)...\n",
      "\n"
     ]
    },
    {
     "name": "stderr",
     "output_type": "stream",
     "text": [
      "\n",
      "100%|████████████████████████████████████| 1000/1000 [00:00<00:00, 14300.19it/s]\u001b[A\n",
      "Writing TFRecords:  29%|███████▏                 | 4/14 [00:00<00:00, 13.57it/s]"
     ]
    },
    {
     "name": "stdout",
     "output_type": "stream",
     "text": [
      "\n",
      "... Writing TFRecord 5 of 14 (1000 per TFRecord)...\n",
      "\n"
     ]
    },
    {
     "name": "stderr",
     "output_type": "stream",
     "text": [
      "\n",
      "100%|████████████████████████████████████| 1000/1000 [00:00<00:00, 15260.73it/s]\u001b[A\n"
     ]
    },
    {
     "name": "stdout",
     "output_type": "stream",
     "text": [
      "\n",
      "... Writing TFRecord 6 of 14 (1000 per TFRecord)...\n",
      "\n"
     ]
    },
    {
     "name": "stderr",
     "output_type": "stream",
     "text": [
      "\n",
      "100%|████████████████████████████████████| 1000/1000 [00:00<00:00, 14273.33it/s]\u001b[A\n",
      "Writing TFRecords:  43%|██████████▋              | 6/14 [00:00<00:00, 13.76it/s]"
     ]
    },
    {
     "name": "stdout",
     "output_type": "stream",
     "text": [
      "\n",
      "... Writing TFRecord 7 of 14 (1000 per TFRecord)...\n",
      "\n"
     ]
    },
    {
     "name": "stderr",
     "output_type": "stream",
     "text": [
      "\n",
      "100%|████████████████████████████████████| 1000/1000 [00:00<00:00, 14576.56it/s]\u001b[A\n"
     ]
    },
    {
     "name": "stdout",
     "output_type": "stream",
     "text": [
      "\n",
      "... Writing TFRecord 8 of 14 (1000 per TFRecord)...\n",
      "\n"
     ]
    },
    {
     "name": "stderr",
     "output_type": "stream",
     "text": [
      "\n",
      " 70%|█████████████████████████▊           | 699/1000 [00:00<00:00, 13508.19it/s]\u001b[A\n",
      "Writing TFRecords:  57%|██████████████▎          | 8/14 [00:00<00:00, 14.41it/s]"
     ]
    },
    {
     "name": "stdout",
     "output_type": "stream",
     "text": [
      "\n",
      "... Writing TFRecord 9 of 14 (1000 per TFRecord)...\n",
      "\n"
     ]
    },
    {
     "name": "stderr",
     "output_type": "stream",
     "text": [
      "\n",
      "  0%|                                                  | 0/1000 [00:00<?, ?it/s]\u001b[A\n"
     ]
    },
    {
     "name": "stdout",
     "output_type": "stream",
     "text": [
      "\n",
      "... Writing TFRecord 10 of 14 (1000 per TFRecord)...\n",
      "\n"
     ]
    },
    {
     "name": "stderr",
     "output_type": "stream",
     "text": [
      "\n",
      "  0%|                                                  | 0/1000 [00:00<?, ?it/s]\u001b[A\n"
     ]
    },
    {
     "name": "stdout",
     "output_type": "stream",
     "text": [
      "\n",
      "... Writing TFRecord 11 of 14 (1000 per TFRecord)...\n",
      "\n"
     ]
    },
    {
     "name": "stderr",
     "output_type": "stream",
     "text": [
      "\n",
      "  0%|                                                  | 0/1000 [00:00<?, ?it/s]\u001b[A\n"
     ]
    },
    {
     "name": "stdout",
     "output_type": "stream",
     "text": [
      "\n",
      "... Writing TFRecord 12 of 14 (1000 per TFRecord)...\n",
      "\n"
     ]
    },
    {
     "name": "stderr",
     "output_type": "stream",
     "text": [
      "\n",
      "  0%|                                                  | 0/1000 [00:00<?, ?it/s]\u001b[A\n"
     ]
    },
    {
     "name": "stdout",
     "output_type": "stream",
     "text": [
      "\n",
      "... Writing TFRecord 13 of 14 (1000 per TFRecord)...\n",
      "\n"
     ]
    },
    {
     "name": "stderr",
     "output_type": "stream",
     "text": [
      "\n",
      "  0%|                                                  | 0/1000 [00:00<?, ?it/s]\u001b[A\n"
     ]
    },
    {
     "name": "stdout",
     "output_type": "stream",
     "text": [
      "\n",
      "... Writing TFRecord 14 of 14 (1000 per TFRecord)...\n",
      "\n"
     ]
    },
    {
     "name": "stderr",
     "output_type": "stream",
     "text": [
      "\n",
      "  0%|                                                  | 0/1000 [00:00<?, ?it/s]\u001b[A\n",
      "Writing TFRecords: 100%|████████████████████████| 14/14 [00:00<00:00, 24.10it/s]\n"
     ]
    }
   ],
   "source": [
    "# Define tfrecord creation constants\n",
    "TFRECORD_DIR = os.path.join(DATASET_DIR, \"tfrecords\")\n",
    "N_PER = 1000 # artificially low to replicate tfrecord amounts expected\n",
    "VERSION_TO_USE = \"v4\"\n",
    "\n",
    "for _df, _suffix in zip([rcts_uni_chunk_df, rcts_bpe_chunk_df, basic_uni_chunk_df, basic_bpe_chunk_df], \n",
    "                        [\"rcts_uni\", \"rcts_bpe\", \"basic_uni\", \"basic_bpe\"]):\n",
    "    # Create the respective tfrecords\n",
    "    write_tfrecords(\n",
    "        ds=rcts_uni_chunk_df['token_content'],  n_ex=len(_df), \n",
    "        output_suffix=_suffix,  version_str=VERSION_TO_USE, \n",
    "        n_ex_per_rec=N_PER, out_dir=TFRECORD_DIR, \n",
    "    )"
   ]
  },
  {
   "cell_type": "markdown",
   "id": "0075889a-00b8-4d08-ac86-b68f5868acb3",
   "metadata": {},
   "source": [
    "<br>\n",
    "\n",
    "**Check dataset**"
   ]
  },
  {
   "cell_type": "code",
   "execution_count": 35,
   "id": "53b2179a-823a-41a8-a2cd-f753a66f5354",
   "metadata": {},
   "outputs": [],
   "source": [
    "def parse_example(example_proto, max_seq_len=384, default_value=0):\n",
    "    feature_map = {\n",
    "        'token_content': tf.io.FixedLenFeature(\n",
    "            shape=[max_seq_len], dtype=tf.int64, default_value=[default_value]*max_seq_len\n",
    "        ) # tf.io.VarLenFeature(tf.int64),\n",
    "    }\n",
    "    features = tf.io.parse_single_example(example_proto, features=feature_map)['token_content']\n",
    "    \n",
    "    ### HOW FOR VARIABLE\n",
    "    # tf.io.VarLenFeature(tf.int64),\n",
    "    #parsed_example = tf.io.parse_single_example(example_proto, feature_map)\n",
    "    #features = tf.sparse.to_dense(parsed_example['token_content'])\n",
    "    \n",
    "    return features\n",
    "\n",
    "def load_tfrecord_dataset(input_files):\n",
    "    raw_dataset = tf.data.TFRecordDataset(input_files)\n",
    "    parsed_dataset = raw_dataset.map(parse_example)\n",
    "    return parsed_dataset\n",
    "\n",
    "DEMO_DS_CHUNK_STYLE, DEMO_DS_TOK_STYLE, DEMO_DS_VERSION = \"rcts\", \"bpe\", \"v4\"\n",
    "DEMO_TFREC_PATHS = sorted(glob(os.path.join(\n",
    "    TFRECORD_DIR, f\"{DEMO_DS_CHUNK_STYLE}_{DEMO_DS_TOK_STYLE}_{DEMO_DS_VERSION}\", \"*.tfrec\"\n",
    ")))\n",
    "demo_ds = load_tfrecord_dataset(DEMO_TFREC_PATHS)"
   ]
  },
  {
   "cell_type": "code",
   "execution_count": 36,
   "id": "8f38ce19-3dd9-47e4-9546-0fe8f37f3050",
   "metadata": {},
   "outputs": [
    {
     "name": "stdout",
     "output_type": "stream",
     "text": [
      "\n",
      "... FROM TFRECORD ...\n",
      "\n"
     ]
    },
    {
     "data": {
      "text/html": [
       "<style>span.token {font-family: Courier New; font-size: 1.1em; font-weight: 300; padding: 0px; margin-right: 0px; border-color: rgba(0, 0, 0, 0.05); border-style: ridge; border-radius: 0px;}</style><div style='background-color: #FBFBFB; line-height: 175%; padding: 25px; border-radius: 8px; margin-left: 10px; margin-right: 10px; margin-top: 20px; margin-bottom: 20px; overflow-x: auto; white-space: nowrap;'><span class='token' style='background-color: rgba(179, 226, 205, 0.675);'>cc</span><span class='token' style='background-color: rgba(253, 205, 172, 0.675);'><br></span><span class='token' style='background-color: rgba(179, 226, 205, 0.675);'>he</span><span class='token' style='background-color: rgba(253, 205, 172, 0.675);'>ak</span><span class='token' style='background-color: rgba(203, 213, 232, 0.675);'>&nbsp;ke</span><span class='token' style='background-color: rgba(244, 202, 228, 0.675);'>ume</span><span class='token' style='background-color: rgba(230, 245, 201, 0.675);'>&nbsp;mid</span><span class='token' style='background-color: rgba(255, 242, 174, 0.675);'>le</span><span class='token' style='background-color: rgba(241, 226, 204, 0.675);'>&nbsp;arm</span><span class='token' style='background-color: rgba(204, 204, 204, 0.675);'>&nbsp;thief</span><span class='token' style='background-color: rgba(179, 226, 205, 0.675);'>&nbsp;&nbsp;</span><span class='token' style='background-color: rgba(253, 205, 172, 0.675);'><br></span><span class='token' style='background-color: rgba(179, 226, 205, 0.675);'>he</span><span class='token' style='background-color: rgba(253, 205, 172, 0.675);'>ce</span><span class='token' style='background-color: rgba(203, 213, 232, 0.675);'>&nbsp;AR</span><span class='token' style='background-color: rgba(244, 202, 228, 0.675);'>&nbsp;leave</span><span class='token' style='background-color: rgba(230, 245, 201, 0.675);'>&nbsp;a</span><span class='token' style='background-color: rgba(255, 242, 174, 0.675);'>ou</span><span class='token' style='background-color: rgba(241, 226, 204, 0.675);'>&nbsp;base</span><span class='token' style='background-color: rgba(204, 204, 204, 0.675);'>&nbsp;(</span><span class='token' style='background-color: rgba(179, 226, 205, 0.675);'>&nbsp;sp</span><span class='token' style='background-color: rgba(253, 205, 172, 0.675);'>&nbsp;He</span><span class='token' style='background-color: rgba(203, 213, 232, 0.675);'>&nbsp;&nbsp;</span><span class='token' style='background-color: rgba(244, 202, 228, 0.675);'><br></span><span class='token' style='background-color: rgba(179, 226, 205, 0.675);'>he</span><span class='token' style='background-color: rgba(253, 205, 172, 0.675);'>ut</span><span class='token' style='background-color: rgba(203, 213, 232, 0.675);'>&nbsp;of</span><span class='token' style='background-color: rgba(244, 202, 228, 0.675);'>&nbsp;s</span><span class='token' style='background-color: rgba(230, 245, 201, 0.675);'>GELO</span><span class='token' style='background-color: rgba(255, 242, 174, 0.675);'>&nbsp;S</span><span class='token' style='background-color: rgba(241, 226, 204, 0.675);'>&nbsp;li</span><span class='token' style='background-color: rgba(204, 204, 204, 0.675);'>et</span><span class='token' style='background-color: rgba(179, 226, 205, 0.675);'>nt</span><span class='token' style='background-color: rgba(253, 205, 172, 0.675);'>&nbsp;Emilia</span><span class='token' style='background-color: rgba(203, 213, 232, 0.675);'>&nbsp;it</span><span class='token' style='background-color: rgba(244, 202, 228, 0.675);'>&nbsp;&nbsp;</span><span class='token' style='background-color: rgba(230, 245, 201, 0.675);'><br></span><span class='token' style='background-color: rgba(179, 226, 205, 0.675);'>he</span><span class='token' style='background-color: rgba(253, 205, 172, 0.675);'>ING</span><span class='token' style='background-color: rgba(203, 213, 232, 0.675);'>ail</span><span class='token' style='background-color: rgba(244, 202, 228, 0.675);'>&nbsp;sent</span><span class='token' style='background-color: rgba(230, 245, 201, 0.675);'>&nbsp;(</span><span class='token' style='background-color: rgba(255, 242, 174, 0.675);'>&nbsp;The</span><span class='token' style='background-color: rgba(241, 226, 204, 0.675);'>&nbsp;y</span><span class='token' style='background-color: rgba(204, 204, 204, 0.675);'>ENOBARBUS</span><span class='token' style='background-color: rgba(179, 226, 205, 0.675);'>al</span><span class='token' style='background-color: rgba(253, 205, 172, 0.675);'><br></span><span class='token' style='background-color: rgba(179, 226, 205, 0.675);'>he</span><span class='token' style='background-color: rgba(253, 205, 172, 0.675);'>ut</span><span class='token' style='background-color: rgba(203, 213, 232, 0.675);'>&nbsp;to</span><span class='token' style='background-color: rgba(244, 202, 228, 0.675);'>TISTA</span><span class='token' style='background-color: rgba(230, 245, 201, 0.675);'>at</span><span class='token' style='background-color: rgba(255, 242, 174, 0.675);'>re</span><span class='token' style='background-color: rgba(241, 226, 204, 0.675);'>ime</span><span class='token' style='background-color: rgba(204, 204, 204, 0.675);'>&nbsp;our</span><span class='token' style='background-color: rgba(179, 226, 205, 0.675);'>&nbsp;between</span><span class='token' style='background-color: rgba(253, 205, 172, 0.675);'>ive</span><span class='token' style='background-color: rgba(203, 213, 232, 0.675);'>&nbsp;&nbsp;</span><span class='token' style='background-color: rgba(244, 202, 228, 0.675);'><br></span><span class='token' style='background-color: rgba(179, 226, 205, 0.675);'>he</span><span class='token' style='background-color: rgba(253, 205, 172, 0.675);'>Draw</span><span class='token' style='background-color: rgba(203, 213, 232, 0.675);'>&nbsp;ach</span><span class='token' style='background-color: rgba(244, 202, 228, 0.675);'>ing</span><span class='token' style='background-color: rgba(230, 245, 201, 0.675);'>&nbsp;des</span><span class='token' style='background-color: rgba(255, 242, 174, 0.675);'>&nbsp;a</span><span class='token' style='background-color: rgba(241, 226, 204, 0.675);'>ou</span><span class='token' style='background-color: rgba(204, 204, 204, 0.675);'>onio</span><span class='token' style='background-color: rgba(179, 226, 205, 0.675);'>&nbsp;l</span><span class='token' style='background-color: rgba(253, 205, 172, 0.675);'>ENT</span><span class='token' style='background-color: rgba(203, 213, 232, 0.675);'>&nbsp;d</span><span class='token' style='background-color: rgba(244, 202, 228, 0.675);'>&nbsp;outra</span><span class='token' style='background-color: rgba(230, 245, 201, 0.675);'>&nbsp;fort</span><span class='token' style='background-color: rgba(255, 242, 174, 0.675);'>&nbsp;love</span><span class='token' style='background-color: rgba(241, 226, 204, 0.675);'>&nbsp;No</span><span class='token' style='background-color: rgba(204, 204, 204, 0.675);'>&nbsp;&nbsp;</span><span class='token' style='background-color: rgba(179, 226, 205, 0.675);'><br></span><span class='token' style='background-color: rgba(179, 226, 205, 0.675);'>he</span><span class='token' style='background-color: rgba(253, 205, 172, 0.675);'>BISHOP</span><span class='token' style='background-color: rgba(203, 213, 232, 0.675);'>&nbsp;and</span><span class='token' style='background-color: rgba(244, 202, 228, 0.675);'>nd</span><span class='token' style='background-color: rgba(230, 245, 201, 0.675);'>&nbsp;whiles</span><span class='token' style='background-color: rgba(255, 242, 174, 0.675);'>AL</span><span class='token' style='background-color: rgba(241, 226, 204, 0.675);'>chard</span><span class='token' style='background-color: rgba(204, 204, 204, 0.675);'>ps</span><span class='token' style='background-color: rgba(179, 226, 205, 0.675);'>&nbsp;&nbsp;</span><span class='token' style='background-color: rgba(253, 205, 172, 0.675);'><br></span><span class='token' style='background-color: rgba(179, 226, 205, 0.675);'>he</span><span class='token' style='background-color: rgba(253, 205, 172, 0.675);'>&nbsp;ex</span><span class='token' style='background-color: rgba(203, 213, 232, 0.675);'>ENT</span><span class='token' style='background-color: rgba(244, 202, 228, 0.675);'>ing</span><span class='token' style='background-color: rgba(230, 245, 201, 0.675);'>FORD</span><span class='token' style='background-color: rgba(255, 242, 174, 0.675);'>&nbsp;&nbsp;</span><span class='token' style='background-color: rgba(241, 226, 204, 0.675);'>re</span><span class='token' style='background-color: rgba(204, 204, 204, 0.675);'>ing</span><span class='token' style='background-color: rgba(179, 226, 205, 0.675);'>&nbsp;lord</span><span class='token' style='background-color: rgba(253, 205, 172, 0.675);'>ENT</span><span class='token' style='background-color: rgba(203, 213, 232, 0.675);'>hi</span><span class='token' style='background-color: rgba(244, 202, 228, 0.675);'>&nbsp;TIME</span><span class='token' style='background-color: rgba(230, 245, 201, 0.675);'>al</span><span class='token' style='background-color: rgba(255, 242, 174, 0.675);'><br></span><span class='token' style='background-color: rgba(179, 226, 205, 0.675);'>he</span><span class='token' style='background-color: rgba(253, 205, 172, 0.675);'>ake</span><span class='token' style='background-color: rgba(203, 213, 232, 0.675);'>on</span><span class='token' style='background-color: rgba(244, 202, 228, 0.675);'>&nbsp;thee</span><span class='token' style='background-color: rgba(230, 245, 201, 0.675);'>&nbsp;with</span><span class='token' style='background-color: rgba(255, 242, 174, 0.675);'>&nbsp;s</span><span class='token' style='background-color: rgba(241, 226, 204, 0.675);'>sel</span><span class='token' style='background-color: rgba(204, 204, 204, 0.675);'>&nbsp;a</span><span class='token' style='background-color: rgba(179, 226, 205, 0.675);'>ou</span><span class='token' style='background-color: rgba(253, 205, 172, 0.675);'>&nbsp;yourself</span><span class='token' style='background-color: rgba(203, 213, 232, 0.675);'>&nbsp;idle</span><span class='token' style='background-color: rgba(244, 202, 228, 0.675);'>&nbsp;&nbsp;</span><span class='token' style='background-color: rgba(230, 245, 201, 0.675);'><br></span><span class='token' style='background-color: rgba(179, 226, 205, 0.675);'>he</span><span class='token' style='background-color: rgba(253, 205, 172, 0.675);'>es</span><span class='token' style='background-color: rgba(203, 213, 232, 0.675);'>&nbsp;str</span><span class='token' style='background-color: rgba(244, 202, 228, 0.675);'>&nbsp;Ros</span><span class='token' style='background-color: rgba(230, 245, 201, 0.675);'>re</span><span class='token' style='background-color: rgba(255, 242, 174, 0.675);'>&nbsp;s</span><span class='token' style='background-color: rgba(241, 226, 204, 0.675);'>&nbsp;BEL</span><span class='token' style='background-color: rgba(204, 204, 204, 0.675);'>CHINE</span><span class='token' style='background-color: rgba(179, 226, 205, 0.675);'>&nbsp;&nbsp;</span><span class='token' style='background-color: rgba(253, 205, 172, 0.675);'><br></span><span class='token' style='background-color: rgba(179, 226, 205, 0.675);'>he</span><span class='token' style='background-color: rgba(253, 205, 172, 0.675);'>Even</span><span class='token' style='background-color: rgba(203, 213, 232, 0.675);'>ime</span><span class='token' style='background-color: rgba(244, 202, 228, 0.675);'>&nbsp;our</span><span class='token' style='background-color: rgba(230, 245, 201, 0.675);'>Her</span><span class='token' style='background-color: rgba(255, 242, 174, 0.675);'>&nbsp;the</span><span class='token' style='background-color: rgba(241, 226, 204, 0.675);'>Her</span><span class='token' style='background-color: rgba(204, 204, 204, 0.675);'>&nbsp;bar</span><span class='token' style='background-color: rgba(179, 226, 205, 0.675);'>&nbsp;&nbsp;&nbsp;&nbsp;&nbsp;&nbsp;&nbsp;&nbsp;</span><span class='token' style='background-color: rgba(253, 205, 172, 0.675);'>ing</span><span class='token' style='background-color: rgba(203, 213, 232, 0.675);'>&nbsp;wrong</span><span class='token' style='background-color: rgba(244, 202, 228, 0.675);'>&nbsp;&nbsp;</span><span class='token' style='background-color: rgba(230, 245, 201, 0.675);'><br></span><span class='token' style='background-color: rgba(179, 226, 205, 0.675);'>he</span><span class='token' style='background-color: rgba(253, 205, 172, 0.675);'>es</span><span class='token' style='background-color: rgba(203, 213, 232, 0.675);'>ail</span><span class='token' style='background-color: rgba(244, 202, 228, 0.675);'>&nbsp;begun</span><span class='token' style='background-color: rgba(230, 245, 201, 0.675);'>PID</span><span class='token' style='background-color: rgba(255, 242, 174, 0.675);'>&nbsp;ach</span><span class='token' style='background-color: rgba(241, 226, 204, 0.675);'>&nbsp;eat</span><span class='token' style='background-color: rgba(204, 204, 204, 0.675);'>ors</span><span class='token' style='background-color: rgba(179, 226, 205, 0.675);'>oe</span><span class='token' style='background-color: rgba(253, 205, 172, 0.675);'>ver</span><span class='token' style='background-color: rgba(203, 213, 232, 0.675);'>&nbsp;and</span><span class='token' style='background-color: rgba(244, 202, 228, 0.675);'>al</span><span class='token' style='background-color: rgba(230, 245, 201, 0.675);'><br></span><span class='token' style='background-color: rgba(179, 226, 205, 0.675);'>&nbsp;t</span><span class='token' style='background-color: rgba(253, 205, 172, 0.675);'>BERON</span><span class='token' style='background-color: rgba(203, 213, 232, 0.675);'>&nbsp;s</span><span class='token' style='background-color: rgba(244, 202, 228, 0.675);'>sel</span><span class='token' style='background-color: rgba(230, 245, 201, 0.675);'>&nbsp;&nbsp;</span><span class='token' style='background-color: rgba(255, 242, 174, 0.675);'>her</span><span class='token' style='background-color: rgba(241, 226, 204, 0.675);'>&nbsp;speak</span><span class='token' style='background-color: rgba(204, 204, 204, 0.675);'>&nbsp;th</span><span class='token' style='background-color: rgba(179, 226, 205, 0.675);'>char</span><span class='token' style='background-color: rgba(253, 205, 172, 0.675);'>&nbsp;&nbsp;&nbsp;&nbsp;&nbsp;&nbsp;&nbsp;&nbsp;</span><span class='token' style='background-color: rgba(203, 213, 232, 0.675);'>bit</span><span class='token' style='background-color: rgba(244, 202, 228, 0.675);'>&nbsp;c</span><span class='token' style='background-color: rgba(230, 245, 201, 0.675);'>&nbsp;&nbsp;</span><span class='token' style='background-color: rgba(255, 242, 174, 0.675);'><br></span><span class='token' style='background-color: rgba(179, 226, 205, 0.675);'>&nbsp;t</span><span class='token' style='background-color: rgba(253, 205, 172, 0.675);'>&nbsp;g</span><span class='token' style='background-color: rgba(203, 213, 232, 0.675);'>&nbsp;MA</span><span class='token' style='background-color: rgba(244, 202, 228, 0.675);'>&nbsp;s</span><span class='token' style='background-color: rgba(230, 245, 201, 0.675);'>sel</span><span class='token' style='background-color: rgba(255, 242, 174, 0.675);'>&nbsp;a</span><span class='token' style='background-color: rgba(241, 226, 204, 0.675);'>ou</span><span class='token' style='background-color: rgba(204, 204, 204, 0.675);'>HAM</span><span class='token' style='background-color: rgba(179, 226, 205, 0.675);'>&nbsp;&nbsp;</span><span class='token' style='background-color: rgba(253, 205, 172, 0.675);'>et</span><span class='token' style='background-color: rgba(203, 213, 232, 0.675);'>&nbsp;s</span><span class='token' style='background-color: rgba(244, 202, 228, 0.675);'>&nbsp;FOR</span><span class='token' style='background-color: rgba(230, 245, 201, 0.675);'>&nbsp;m</span><span class='token' style='background-color: rgba(255, 242, 174, 0.675);'>&nbsp;be</span><span class='token' style='background-color: rgba(241, 226, 204, 0.675);'>&nbsp;&nbsp;&nbsp;&nbsp;</span><span class='token' style='background-color: rgba(204, 204, 204, 0.675);'><br></span></div>"
      ],
      "text/plain": [
       "<IPython.core.display.HTML object>"
      ]
     },
     "metadata": {},
     "output_type": "display_data"
    },
    {
     "name": "stdout",
     "output_type": "stream",
     "text": [
      "\n",
      "... FROM PANDAS DATAFRAME ...\n",
      "\n"
     ]
    },
    {
     "data": {
      "text/html": [
       "<style>span.token {font-family: Courier New; font-size: 1.1em; font-weight: 300; padding: 0px; margin-right: 0px; border-color: rgba(0, 0, 0, 0.05); border-style: ridge; border-radius: 0px;}</style><div style='background-color: #FBFBFB; line-height: 175%; padding: 25px; border-radius: 8px; margin-left: 10px; margin-right: 10px; margin-top: 20px; margin-bottom: 20px; overflow-x: auto; white-space: nowrap;'><span class='token' style='background-color: rgba(179, 226, 205, 0.675);'>1</span><span class='token' style='background-color: rgba(253, 205, 172, 0.675);'><br></span><span class='token' style='background-color: rgba(179, 226, 205, 0.675);'>&nbsp;&nbsp;</span><span class='token' style='background-color: rgba(253, 205, 172, 0.675);'>From</span><span class='token' style='background-color: rgba(203, 213, 232, 0.675);'>&nbsp;fairest</span><span class='token' style='background-color: rgba(244, 202, 228, 0.675);'>&nbsp;creatures</span><span class='token' style='background-color: rgba(230, 245, 201, 0.675);'>&nbsp;we</span><span class='token' style='background-color: rgba(255, 242, 174, 0.675);'>&nbsp;desire</span><span class='token' style='background-color: rgba(241, 226, 204, 0.675);'>&nbsp;increase</span><span class='token' style='background-color: rgba(204, 204, 204, 0.675);'>,</span><span class='token' style='background-color: rgba(179, 226, 205, 0.675);'><br></span><span class='token' style='background-color: rgba(179, 226, 205, 0.675);'>&nbsp;&nbsp;</span><span class='token' style='background-color: rgba(253, 205, 172, 0.675);'>That</span><span class='token' style='background-color: rgba(203, 213, 232, 0.675);'>&nbsp;thereby</span><span class='token' style='background-color: rgba(244, 202, 228, 0.675);'>&nbsp;beauty</span><span class='token' style='background-color: rgba(230, 245, 201, 0.675);'>'</span><span class='token' style='background-color: rgba(255, 242, 174, 0.675);'>s</span><span class='token' style='background-color: rgba(241, 226, 204, 0.675);'>&nbsp;rose</span><span class='token' style='background-color: rgba(204, 204, 204, 0.675);'>&nbsp;might</span><span class='token' style='background-color: rgba(179, 226, 205, 0.675);'>&nbsp;never</span><span class='token' style='background-color: rgba(253, 205, 172, 0.675);'>&nbsp;die</span><span class='token' style='background-color: rgba(203, 213, 232, 0.675);'>,</span><span class='token' style='background-color: rgba(244, 202, 228, 0.675);'><br></span><span class='token' style='background-color: rgba(179, 226, 205, 0.675);'>&nbsp;&nbsp;</span><span class='token' style='background-color: rgba(253, 205, 172, 0.675);'>But</span><span class='token' style='background-color: rgba(203, 213, 232, 0.675);'>&nbsp;as</span><span class='token' style='background-color: rgba(244, 202, 228, 0.675);'>&nbsp;the</span><span class='token' style='background-color: rgba(230, 245, 201, 0.675);'>&nbsp;ri</span><span class='token' style='background-color: rgba(255, 242, 174, 0.675);'>per</span><span class='token' style='background-color: rgba(241, 226, 204, 0.675);'>&nbsp;should</span><span class='token' style='background-color: rgba(204, 204, 204, 0.675);'>&nbsp;by</span><span class='token' style='background-color: rgba(179, 226, 205, 0.675);'>&nbsp;time</span><span class='token' style='background-color: rgba(253, 205, 172, 0.675);'>&nbsp;dece</span><span class='token' style='background-color: rgba(203, 213, 232, 0.675);'>ase</span><span class='token' style='background-color: rgba(244, 202, 228, 0.675);'>,</span><span class='token' style='background-color: rgba(230, 245, 201, 0.675);'><br></span><span class='token' style='background-color: rgba(179, 226, 205, 0.675);'>&nbsp;&nbsp;</span><span class='token' style='background-color: rgba(253, 205, 172, 0.675);'>His</span><span class='token' style='background-color: rgba(203, 213, 232, 0.675);'>&nbsp;tender</span><span class='token' style='background-color: rgba(244, 202, 228, 0.675);'>&nbsp;heir</span><span class='token' style='background-color: rgba(230, 245, 201, 0.675);'>&nbsp;might</span><span class='token' style='background-color: rgba(255, 242, 174, 0.675);'>&nbsp;bear</span><span class='token' style='background-color: rgba(241, 226, 204, 0.675);'>&nbsp;his</span><span class='token' style='background-color: rgba(204, 204, 204, 0.675);'>&nbsp;memory</span><span class='token' style='background-color: rgba(179, 226, 205, 0.675);'>:</span><span class='token' style='background-color: rgba(253, 205, 172, 0.675);'><br></span><span class='token' style='background-color: rgba(179, 226, 205, 0.675);'>&nbsp;&nbsp;</span><span class='token' style='background-color: rgba(253, 205, 172, 0.675);'>But</span><span class='token' style='background-color: rgba(203, 213, 232, 0.675);'>&nbsp;thou</span><span class='token' style='background-color: rgba(244, 202, 228, 0.675);'>&nbsp;cont</span><span class='token' style='background-color: rgba(230, 245, 201, 0.675);'>ra</span><span class='token' style='background-color: rgba(255, 242, 174, 0.675);'>cted</span><span class='token' style='background-color: rgba(241, 226, 204, 0.675);'>&nbsp;to</span><span class='token' style='background-color: rgba(204, 204, 204, 0.675);'>&nbsp;thine</span><span class='token' style='background-color: rgba(179, 226, 205, 0.675);'>&nbsp;own</span><span class='token' style='background-color: rgba(253, 205, 172, 0.675);'>&nbsp;bright</span><span class='token' style='background-color: rgba(203, 213, 232, 0.675);'>&nbsp;eyes</span><span class='token' style='background-color: rgba(244, 202, 228, 0.675);'>,</span><span class='token' style='background-color: rgba(230, 245, 201, 0.675);'><br></span><span class='token' style='background-color: rgba(179, 226, 205, 0.675);'>&nbsp;&nbsp;</span><span class='token' style='background-color: rgba(253, 205, 172, 0.675);'>F</span><span class='token' style='background-color: rgba(203, 213, 232, 0.675);'>eed</span><span class='token' style='background-color: rgba(244, 202, 228, 0.675);'>'</span><span class='token' style='background-color: rgba(230, 245, 201, 0.675);'>st</span><span class='token' style='background-color: rgba(255, 242, 174, 0.675);'>&nbsp;thy</span><span class='token' style='background-color: rgba(241, 226, 204, 0.675);'>&nbsp;light</span><span class='token' style='background-color: rgba(204, 204, 204, 0.675);'>'</span><span class='token' style='background-color: rgba(179, 226, 205, 0.675);'>s</span><span class='token' style='background-color: rgba(253, 205, 172, 0.675);'>&nbsp;flame</span><span class='token' style='background-color: rgba(203, 213, 232, 0.675);'>&nbsp;with</span><span class='token' style='background-color: rgba(244, 202, 228, 0.675);'>&nbsp;self</span><span class='token' style='background-color: rgba(230, 245, 201, 0.675);'>-</span><span class='token' style='background-color: rgba(255, 242, 174, 0.675);'>s</span><span class='token' style='background-color: rgba(241, 226, 204, 0.675);'>ub</span><span class='token' style='background-color: rgba(204, 204, 204, 0.675);'>stant</span><span class='token' style='background-color: rgba(179, 226, 205, 0.675);'>ial</span><span class='token' style='background-color: rgba(253, 205, 172, 0.675);'>&nbsp;f</span><span class='token' style='background-color: rgba(203, 213, 232, 0.675);'>u</span><span class='token' style='background-color: rgba(244, 202, 228, 0.675);'>el</span><span class='token' style='background-color: rgba(230, 245, 201, 0.675);'>,</span><span class='token' style='background-color: rgba(255, 242, 174, 0.675);'><br></span><span class='token' style='background-color: rgba(179, 226, 205, 0.675);'>&nbsp;&nbsp;</span><span class='token' style='background-color: rgba(253, 205, 172, 0.675);'>Making</span><span class='token' style='background-color: rgba(203, 213, 232, 0.675);'>&nbsp;a</span><span class='token' style='background-color: rgba(244, 202, 228, 0.675);'>&nbsp;fam</span><span class='token' style='background-color: rgba(230, 245, 201, 0.675);'>ine</span><span class='token' style='background-color: rgba(255, 242, 174, 0.675);'>&nbsp;where</span><span class='token' style='background-color: rgba(241, 226, 204, 0.675);'>&nbsp;ab</span><span class='token' style='background-color: rgba(204, 204, 204, 0.675);'>und</span><span class='token' style='background-color: rgba(179, 226, 205, 0.675);'>ance</span><span class='token' style='background-color: rgba(253, 205, 172, 0.675);'>&nbsp;lies</span><span class='token' style='background-color: rgba(203, 213, 232, 0.675);'>,</span><span class='token' style='background-color: rgba(244, 202, 228, 0.675);'><br></span><span class='token' style='background-color: rgba(179, 226, 205, 0.675);'>&nbsp;&nbsp;</span><span class='token' style='background-color: rgba(253, 205, 172, 0.675);'>Thy</span><span class='token' style='background-color: rgba(203, 213, 232, 0.675);'>&nbsp;self</span><span class='token' style='background-color: rgba(244, 202, 228, 0.675);'>&nbsp;thy</span><span class='token' style='background-color: rgba(230, 245, 201, 0.675);'>&nbsp;foe</span><span class='token' style='background-color: rgba(255, 242, 174, 0.675);'>,</span><span class='token' style='background-color: rgba(241, 226, 204, 0.675);'>&nbsp;to</span><span class='token' style='background-color: rgba(204, 204, 204, 0.675);'>&nbsp;thy</span><span class='token' style='background-color: rgba(179, 226, 205, 0.675);'>&nbsp;sweet</span><span class='token' style='background-color: rgba(253, 205, 172, 0.675);'>&nbsp;self</span><span class='token' style='background-color: rgba(203, 213, 232, 0.675);'>&nbsp;too</span><span class='token' style='background-color: rgba(244, 202, 228, 0.675);'>&nbsp;cruel</span><span class='token' style='background-color: rgba(230, 245, 201, 0.675);'>:</span><span class='token' style='background-color: rgba(255, 242, 174, 0.675);'><br></span><span class='token' style='background-color: rgba(179, 226, 205, 0.675);'>&nbsp;&nbsp;</span><span class='token' style='background-color: rgba(253, 205, 172, 0.675);'>Thou</span><span class='token' style='background-color: rgba(203, 213, 232, 0.675);'>&nbsp;that</span><span class='token' style='background-color: rgba(244, 202, 228, 0.675);'>&nbsp;art</span><span class='token' style='background-color: rgba(230, 245, 201, 0.675);'>&nbsp;now</span><span class='token' style='background-color: rgba(255, 242, 174, 0.675);'>&nbsp;the</span><span class='token' style='background-color: rgba(241, 226, 204, 0.675);'>&nbsp;world</span><span class='token' style='background-color: rgba(204, 204, 204, 0.675);'>'</span><span class='token' style='background-color: rgba(179, 226, 205, 0.675);'>s</span><span class='token' style='background-color: rgba(253, 205, 172, 0.675);'>&nbsp;fresh</span><span class='token' style='background-color: rgba(203, 213, 232, 0.675);'>&nbsp;orn</span><span class='token' style='background-color: rgba(244, 202, 228, 0.675);'>ament</span><span class='token' style='background-color: rgba(230, 245, 201, 0.675);'>,</span><span class='token' style='background-color: rgba(255, 242, 174, 0.675);'><br></span><span class='token' style='background-color: rgba(179, 226, 205, 0.675);'>&nbsp;&nbsp;</span><span class='token' style='background-color: rgba(253, 205, 172, 0.675);'>And</span><span class='token' style='background-color: rgba(203, 213, 232, 0.675);'>&nbsp;only</span><span class='token' style='background-color: rgba(244, 202, 228, 0.675);'>&nbsp;herald</span><span class='token' style='background-color: rgba(230, 245, 201, 0.675);'>&nbsp;to</span><span class='token' style='background-color: rgba(255, 242, 174, 0.675);'>&nbsp;the</span><span class='token' style='background-color: rgba(241, 226, 204, 0.675);'>&nbsp;g</span><span class='token' style='background-color: rgba(204, 204, 204, 0.675);'>aud</span><span class='token' style='background-color: rgba(179, 226, 205, 0.675);'>y</span><span class='token' style='background-color: rgba(253, 205, 172, 0.675);'>&nbsp;spring</span><span class='token' style='background-color: rgba(203, 213, 232, 0.675);'>,</span><span class='token' style='background-color: rgba(244, 202, 228, 0.675);'><br></span><span class='token' style='background-color: rgba(179, 226, 205, 0.675);'>&nbsp;&nbsp;</span><span class='token' style='background-color: rgba(253, 205, 172, 0.675);'>Within</span><span class='token' style='background-color: rgba(203, 213, 232, 0.675);'>&nbsp;thine</span><span class='token' style='background-color: rgba(244, 202, 228, 0.675);'>&nbsp;own</span><span class='token' style='background-color: rgba(230, 245, 201, 0.675);'>&nbsp;bud</span><span class='token' style='background-color: rgba(255, 242, 174, 0.675);'>&nbsp;bu</span><span class='token' style='background-color: rgba(241, 226, 204, 0.675);'>ri</span><span class='token' style='background-color: rgba(204, 204, 204, 0.675);'>est</span><span class='token' style='background-color: rgba(179, 226, 205, 0.675);'>&nbsp;thy</span><span class='token' style='background-color: rgba(253, 205, 172, 0.675);'>&nbsp;content</span><span class='token' style='background-color: rgba(203, 213, 232, 0.675);'>,</span><span class='token' style='background-color: rgba(244, 202, 228, 0.675);'><br></span><span class='token' style='background-color: rgba(179, 226, 205, 0.675);'>&nbsp;&nbsp;</span><span class='token' style='background-color: rgba(253, 205, 172, 0.675);'>And</span><span class='token' style='background-color: rgba(203, 213, 232, 0.675);'>&nbsp;tender</span><span class='token' style='background-color: rgba(244, 202, 228, 0.675);'>&nbsp;chur</span><span class='token' style='background-color: rgba(230, 245, 201, 0.675);'>l</span><span class='token' style='background-color: rgba(255, 242, 174, 0.675);'>&nbsp;mak</span><span class='token' style='background-color: rgba(241, 226, 204, 0.675);'>'</span><span class='token' style='background-color: rgba(204, 204, 204, 0.675);'>st</span><span class='token' style='background-color: rgba(179, 226, 205, 0.675);'>&nbsp;waste</span><span class='token' style='background-color: rgba(253, 205, 172, 0.675);'>&nbsp;in</span><span class='token' style='background-color: rgba(203, 213, 232, 0.675);'>&nbsp;n</span><span class='token' style='background-color: rgba(244, 202, 228, 0.675);'>ig</span><span class='token' style='background-color: rgba(230, 245, 201, 0.675);'>g</span><span class='token' style='background-color: rgba(255, 242, 174, 0.675);'>ard</span><span class='token' style='background-color: rgba(241, 226, 204, 0.675);'>ing</span><span class='token' style='background-color: rgba(204, 204, 204, 0.675);'>:</span><span class='token' style='background-color: rgba(179, 226, 205, 0.675);'><br></span><span class='token' style='background-color: rgba(179, 226, 205, 0.675);'>&nbsp;&nbsp;&nbsp;&nbsp;</span><span class='token' style='background-color: rgba(253, 205, 172, 0.675);'>P</span><span class='token' style='background-color: rgba(203, 213, 232, 0.675);'>ity</span><span class='token' style='background-color: rgba(244, 202, 228, 0.675);'>&nbsp;the</span><span class='token' style='background-color: rgba(230, 245, 201, 0.675);'>&nbsp;world</span><span class='token' style='background-color: rgba(255, 242, 174, 0.675);'>,</span><span class='token' style='background-color: rgba(241, 226, 204, 0.675);'>&nbsp;or</span><span class='token' style='background-color: rgba(204, 204, 204, 0.675);'>&nbsp;else</span><span class='token' style='background-color: rgba(179, 226, 205, 0.675);'>&nbsp;this</span><span class='token' style='background-color: rgba(253, 205, 172, 0.675);'>&nbsp;gl</span><span class='token' style='background-color: rgba(203, 213, 232, 0.675);'>ut</span><span class='token' style='background-color: rgba(244, 202, 228, 0.675);'>ton</span><span class='token' style='background-color: rgba(230, 245, 201, 0.675);'>&nbsp;be</span><span class='token' style='background-color: rgba(255, 242, 174, 0.675);'>,</span><span class='token' style='background-color: rgba(241, 226, 204, 0.675);'><br></span><span class='token' style='background-color: rgba(179, 226, 205, 0.675);'>&nbsp;&nbsp;&nbsp;&nbsp;</span><span class='token' style='background-color: rgba(253, 205, 172, 0.675);'>To</span><span class='token' style='background-color: rgba(203, 213, 232, 0.675);'>&nbsp;eat</span><span class='token' style='background-color: rgba(244, 202, 228, 0.675);'>&nbsp;the</span><span class='token' style='background-color: rgba(230, 245, 201, 0.675);'>&nbsp;world</span><span class='token' style='background-color: rgba(255, 242, 174, 0.675);'>'</span><span class='token' style='background-color: rgba(241, 226, 204, 0.675);'>s</span><span class='token' style='background-color: rgba(204, 204, 204, 0.675);'>&nbsp;due</span><span class='token' style='background-color: rgba(179, 226, 205, 0.675);'>,</span><span class='token' style='background-color: rgba(253, 205, 172, 0.675);'>&nbsp;by</span><span class='token' style='background-color: rgba(203, 213, 232, 0.675);'>&nbsp;the</span><span class='token' style='background-color: rgba(244, 202, 228, 0.675);'>&nbsp;grave</span><span class='token' style='background-color: rgba(230, 245, 201, 0.675);'>&nbsp;and</span><span class='token' style='background-color: rgba(255, 242, 174, 0.675);'>&nbsp;thee</span><span class='token' style='background-color: rgba(241, 226, 204, 0.675);'>.</span><span class='token' style='background-color: rgba(204, 204, 204, 0.675);'><br></span></div>"
      ],
      "text/plain": [
       "<IPython.core.display.HTML object>"
      ]
     },
     "metadata": {},
     "output_type": "display_data"
    }
   ],
   "source": [
    "viz_tool = bpe_token_viz if DEMO_DS_TOK_STYLE==\"bpe\" else uni_token_viz\n",
    "\n",
    "print(\"\\n... FROM TFRECORD ...\\n\")\n",
    "display(HTML(viz_tool.visualize(bpe_decoder(next(iter(demo_ds)).numpy().tolist()))))\n",
    "\n",
    "# TODO make modular... not important\n",
    "print(\"\\n... FROM PANDAS DATAFRAME ...\\n\")\n",
    "display(HTML(viz_tool.visualize(bpe_decoder(rcts_bpe_chunk_df[\"token_content\"][0]))))"
   ]
  },
  {
   "cell_type": "code",
   "execution_count": null,
   "id": "a73b2b45-ef78-41cb-9b70-b158e7d89ff3",
   "metadata": {},
   "outputs": [],
   "source": []
  }
 ],
 "metadata": {
  "kernelspec": {
   "display_name": "Python 3 (ipykernel)",
   "language": "python",
   "name": "python3"
  },
  "language_info": {
   "codemirror_mode": {
    "name": "ipython",
    "version": 3
   },
   "file_extension": ".py",
   "mimetype": "text/x-python",
   "name": "python",
   "nbconvert_exporter": "python",
   "pygments_lexer": "ipython3",
   "version": "3.9.16"
  }
 },
 "nbformat": 4,
 "nbformat_minor": 5
}
