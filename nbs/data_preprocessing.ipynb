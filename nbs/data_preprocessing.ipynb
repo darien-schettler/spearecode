{
 "cells": [
  {
   "cell_type": "markdown",
   "id": "1adfdc95-726e-4b4f-90d8-23f2a573a602",
   "metadata": {},
   "source": [
    "<b>WandB Notes</b>\n",
    "\n",
    "* Code save\n",
    "* Logging (HTML)\n",
    "* WandB conifg (run config)\n",
    "* WandB callback (super?)\n",
    "* run.save (model summary)\n",
    "\n"
   ]
  },
  {
   "cell_type": "markdown",
   "id": "29279551-2a6d-480f-8fe2-d18017f56b20",
   "metadata": {},
   "source": [
    "<div align=\"center\">\n",
    "\n",
    "# 🚀 Spearecode Preprocessing 🚀\n",
    "\n",
    "</div>\n",
    "\n",
    "<br>\n",
    "\n",
    "Welcome to the **Spearecode Preprocessing Notebook**! This notebook will guide you through the necessary preprocessing steps to prepare a toy dataset for Language Model training. We will focus on making the dataset more suitable for training by performing the following steps:\n",
    "\n",
    "1. 📚 **Loading the dataset**: We'll start by importing the dataset from a file or external source.\n",
    "2. 📦 **Chunking the text**: The dataset will be divided into smaller chunks or segments, making it easier to process during training.\n",
    "3. 💬 **Tokenization**: Each chunk of text will be split into individual tokens (words or subwords), which are the basic units for language models.\n",
    "4. 📊 **Basic Exploratory Data Analysis (EDA)**: We'll analyze the dataset's characteristics, such as token frequency, to gain insights and identify potential issues.\n",
    "\n",
    "After completing the preprocessing and EDA, the toy dataset will be converted into `TFRecords` format. This efficient binary format is designed for use with TensorFlow and will enable seamless integration with your Language Model training pipeline.\n",
    "\n",
    "Let's dive in and start preprocessing the dataset! 🎉\n"
   ]
  },
  {
   "cell_type": "markdown",
   "id": "76a62943-0d3c-4aae-933b-2a5fbe751ad6",
   "metadata": {},
   "source": [
    "<br><br>\n",
    "\n",
    "<div align=\"center\">\n",
    "\n",
    "# 🌟 Table of Contents 🌟\n",
    "\n",
    "</div>\n",
    "\n",
    "---\n",
    "\n",
    "0. [**Setup**](#setup)\n",
    "1. [**Loading the Dataset**](#loading-the-dataset)\n",
    "2. [**Chunking the Text**](#chunking-the-text)\n",
    "3. [**Tokenization**](#tokenization)\n",
    "4. [**Basic Exploratory Data Analysis (EDA)**](#basic-eda)\n",
    "5. [**Converting to TFRecords**](#converting-to-tfrecords)\n",
    "\n",
    "---\n",
    "\n"
   ]
  },
  {
   "cell_type": "markdown",
   "id": "59e83729-e61a-4d94-a074-17ccb60593dc",
   "metadata": {},
   "source": [
    "<br>\n",
    "\n",
    "<div align=\"center\">\n",
    "\n",
    "## 🛠️ Setup <a name=\"setup\"></a>\n",
    "\n",
    "</div>\n",
    "\n",
    "<br>\n",
    "\n",
    "In this section, we'll import required libraries and methods from our utilities file. We will also define relevant paths and high level information we may need later. We also run a few basic Tensorflow setup steps to ensure optimal and reproducible runs."
   ]
  },
  {
   "cell_type": "code",
   "execution_count": 1,
   "id": "8ab4c015-345e-4c48-a749-c7094604fecf",
   "metadata": {},
   "outputs": [
    {
     "name": "stderr",
     "output_type": "stream",
     "text": [
      "\u001b[34m\u001b[1mwandb\u001b[0m: Currently logged in as: \u001b[33mds08tf\u001b[0m (\u001b[33mds-ml\u001b[0m). Use \u001b[1m`wandb login --relogin`\u001b[0m to force relogin\n"
     ]
    },
    {
     "data": {
      "text/html": [
       "wandb version 0.15.0 is available!  To upgrade, please run:\n",
       " $ pip install wandb --upgrade"
      ],
      "text/plain": [
       "<IPython.core.display.HTML object>"
      ]
     },
     "metadata": {},
     "output_type": "display_data"
    },
    {
     "data": {
      "text/html": [
       "Tracking run with wandb version 0.14.2"
      ],
      "text/plain": [
       "<IPython.core.display.HTML object>"
      ]
     },
     "metadata": {},
     "output_type": "display_data"
    },
    {
     "data": {
      "text/html": [
       "Run data is saved locally in <code>/home/paperspace/home/spearecode/nbs/wandb/run-20230424_134243-lar8231g</code>"
      ],
      "text/plain": [
       "<IPython.core.display.HTML object>"
      ]
     },
     "metadata": {},
     "output_type": "display_data"
    },
    {
     "data": {
      "text/html": [
       "Syncing run <strong><a href='https://wandb.ai/ds-ml/spearecode-nbs/runs/lar8231g' target=\"_blank\">dry-sun-8</a></strong> to <a href='https://wandb.ai/ds-ml/spearecode-nbs' target=\"_blank\">Weights & Biases</a> (<a href='https://wandb.me/run' target=\"_blank\">docs</a>)<br/>"
      ],
      "text/plain": [
       "<IPython.core.display.HTML object>"
      ]
     },
     "metadata": {},
     "output_type": "display_data"
    },
    {
     "data": {
      "text/html": [
       " View project at <a href='https://wandb.ai/ds-ml/spearecode-nbs' target=\"_blank\">https://wandb.ai/ds-ml/spearecode-nbs</a>"
      ],
      "text/plain": [
       "<IPython.core.display.HTML object>"
      ]
     },
     "metadata": {},
     "output_type": "display_data"
    },
    {
     "data": {
      "text/html": [
       " View run at <a href='https://wandb.ai/ds-ml/spearecode-nbs/runs/lar8231g' target=\"_blank\">https://wandb.ai/ds-ml/spearecode-nbs/runs/lar8231g</a>"
      ],
      "text/plain": [
       "<IPython.core.display.HTML object>"
      ]
     },
     "metadata": {},
     "output_type": "display_data"
    }
   ],
   "source": [
    "# !pip install -q --upgrade tokenizer-viz\n",
    "# !pip install -q --upgrade langchain\n",
    "# !pip install -q --upgrade wandb\n",
    "\n",
    "# Regular imports (native python and pypi packages)\n",
    "import os\n",
    "import sys\n",
    "import random\n",
    "import langchain\n",
    "import numpy as np\n",
    "import pandas as pd\n",
    "from glob import glob\n",
    "import tensorflow as tf\n",
    "import sentencepiece as spm\n",
    "from IPython.display import HTML, display\n",
    "from tokenizer_viz import TokenVisualization\n",
    "from tqdm.notebook import tqdm; tqdm.pandas()\n",
    "\n",
    "# Add project root into path so imports work\n",
    "PROJECT_DIR = os.path.dirname(os.getcwd())\n",
    "sys.path.insert(0, PROJECT_DIR) \n",
    "\n",
    "import wandb\n",
    "wandb.init(settings=wandb.Settings(code_dir=PROJECT_DIR))\n",
    "\n",
    "# Our project imports\n",
    "from spearecode.utils.preprocessing_utils import (\n",
    "    load_from_txt_file, preprocess_shakespeare, save_to_txt_file, print_check_speare\n",
    ")\n",
    "from spearecode.utils.general_utils import (\n",
    "    tf_xla_jit, tf_set_memory_growth, seed_it_all, flatten_l_o_l, print_ln\n",
    ")\n",
    "from spearecode.utils.filtering_utils import (\n",
    "    save_ds_version, drop_str_from_col_names, pad_truncate_centered,\n",
    "    get_metadata_df, check_chunks, tokenize, get_n_tokens,\n",
    "    get_n_lines, get_n_chars\n",
    ")\n",
    "from spearecode.utils.tfrecord_utils import write_tfrecords, load_tfrecord_dataset\n",
    "\n",
    "\n",
    "### DEFINE PATHS --- [PROJECT_DIR=\"/home/paperspace/home/spearecode\"] --- ###\n",
    "NBS_PATH = os.path.join(PROJECT_DIR, \"nbs\")\n",
    "DATA_PATH = os.path.join(PROJECT_DIR, \"data\")\n",
    "SS_TEXT_PATH = os.path.join(DATA_PATH, \"t8.shakespeare.txt\")\n",
    "PREPROCESSED_FULL_TEXT_PATH = SS_TEXT_PATH.replace(\".txt\", \"_preprocessed.txt\")"
   ]
  },
  {
   "cell_type": "markdown",
   "id": "3975cca8-555a-4871-a41a-3ba37c72aa12",
   "metadata": {},
   "source": [
    "<br>\n",
    "\n",
    "<div align=\"center\">\n",
    "\n",
    "## 📚 Loading the Dataset <a name=\"loading-the-dataset\"></a>\n",
    "\n",
    "</div>\n",
    "\n",
    "<br>\n",
    "\n",
    "In this section, we'll import the dataset from a file or external source. The dataset will be read into memory, allowing us to manipulate and process the text as needed throughout the preprocessing steps.\n"
   ]
  },
  {
   "cell_type": "code",
   "execution_count": 2,
   "id": "1c7fa905-5791-48de-9933-bcd0fcfe95bc",
   "metadata": {},
   "outputs": [
    {
     "name": "stdout",
     "output_type": "stream",
     "text": [
      "\n",
      "... DATASET INFO:\n",
      "\tNUMBER OF CHARS --> 5,419,872\n",
      "\tNUMBER OF LINES --> 120,696\n",
      "\n",
      "\n",
      "... FIRST 1000 CHARACTERS:\n",
      "\n",
      "\n",
      "\n",
      "1\n",
      "  From fairest creatures we desire increase,\n",
      "  That thereby beauty's rose might never die,\n",
      "  But as the riper should by time decease,\n",
      "  His tender heir might bear his memory:\n",
      "  But thou contracted to thine own bright eyes,\n",
      "  Feed'st thy light's flame with self-substantial fuel,\n",
      "  Making a famine where abundance lies,\n",
      "  Thy self thy foe, to thy sweet self too cruel:\n",
      "  Thou that art now the world's fresh ornament,\n",
      "  And only herald to the gaudy spring,\n",
      "  Within thine own bud buriest thy content,\n",
      "  And tender churl mak'st waste in niggarding:\n",
      "    Pity the world, or else this glutton be,\n",
      "    To eat the world's due, by the grave and thee.\n",
      "\n",
      "2\n",
      "  When forty winters shall besiege thy brow,\n",
      "  And dig deep trenches in thy beauty's field,\n",
      "  Thy youth's proud livery so gazed on now,\n",
      "  Will be a tattered weed of small worth held:  \n",
      "  Then being asked, where all thy beauty lies,\n",
      "  Where all the treasure of thy lusty days;\n",
      "  To say within thine own deep sunken eyes,\n",
      "  Were an all-eating shame, and\n",
      "\n",
      "\n",
      "... LAST 1000 CHARACTERS:\n",
      "\n",
      "hite and swoon at tragic shows;\n",
      "\n",
      "  'That not a heart which in his level came\n",
      "  Could scape the hail of his all-hurting aim,\n",
      "  Showing fair nature is both kind and tame;\n",
      "  And, veiled in them, did win whom he would maim.\n",
      "  Against the thing he sought he would exclaim;\n",
      "  When he most burned in heart-wished luxury,\n",
      "  He preached pure maid and praised cold chastity.\n",
      "\n",
      "  'Thus merely with the garment of a Grace  \n",
      "  The naked and concealed fiend he covered,\n",
      "  That th' unexperient gave the tempter place,\n",
      "  Which, like a cherubin, above them hovered.\n",
      "  Who, young and simple, would not be so lovered?\n",
      "  Ay me, I fell, and yet do question make\n",
      "  What I should do again for such a sake.\n",
      "\n",
      "  'O, that infected moisture of his eye,\n",
      "  O, that false fire which in his cheek so glowed,\n",
      "  O, that forced thunder from his heart did fly,\n",
      "  O, that sad breath his spongy lungs bestowed,\n",
      "  O, all that borrowed motion, seeming owed,\n",
      "  Would yet again betray the fore-betrayed,\n",
      "  And new pervert a reconciled maid.'\n",
      "\n",
      "\n",
      "\n",
      "\n",
      "... RANDOM 1000 CHARACTERS:\n",
      "\n",
      "how happy you make those.\n",
      "    So true a fool is love, that in your will,\n",
      "    (Though you do any thing) he thinks no ill.\n",
      "\n",
      "58\n",
      "  That god forbid, that made me first your slave,\n",
      "  I should in thought control your times of pleasure,\n",
      "  Or at your hand th' account of hours to crave,\n",
      "  Being your vassal bound to stay your leisure.\n",
      "  O let me suffer (being at your beck)\n",
      "  Th' imprisoned absence of your liberty,\n",
      "  And patience tame to sufferance bide each check,\n",
      "  Without accusing you of injury.  \n",
      "  Be where you list, your charter is so strong,\n",
      "  That you your self may privilage your time\n",
      "  To what you will, to you it doth belong,\n",
      "  Your self to pardon of self-doing crime.\n",
      "    I am to wait, though waiting so be hell,\n",
      "    Not blame your pleasure be it ill or well.\n",
      "\n",
      "59\n",
      "  If there be nothing new, but that which is,\n",
      "  Hath been before, how are our brains beguiled,\n",
      "  Which labouring for invention bear amis\n",
      "  The second burthen of a former child!\n",
      "  O that record could with a backward look,\n",
      "  Even\n"
     ]
    }
   ],
   "source": [
    "raw_text = load_from_txt_file(SS_TEXT_PATH)\n",
    "ss_text = preprocess_shakespeare(raw_text)\n",
    "save_to_txt_file(ss_text, PREPROCESSED_FULL_TEXT_PATH)\n",
    "print_check_speare(ss_text)"
   ]
  },
  {
   "cell_type": "markdown",
   "id": "06ead5a1-5ce2-448f-83fd-7c38cd7ba060",
   "metadata": {},
   "source": [
    "<br>\n",
    "\n",
    "<div align=\"center\">\n",
    "\n",
    "## 📦 Chunking the Text <a name=\"chunking-the-text\"></a>\n",
    "\n",
    "</div>\n",
    "\n",
    "<br>\n",
    "\n",
    "Once the dataset is loaded, we'll divide it into smaller chunks or segments. This step is crucial for making the dataset more similar to code files (which is the type of data we will be using during the other parallel streams).\n",
    "\n",
    "I implement two simple methods:\n",
    "1. A basic double newline split **(`\\n\\n`)** resulting in 6294 chunks\n",
    "2. Using Langchain RecursiveTextSplitter to chunk to a particular text length\n",
    "    * This allows us to specify our desired text length and even overlap the chunks.\n",
    "        * Note we allow for a small amount of overlap and this may cause some leakage... but whatever.\n",
    "    * **We will use this method for our purposes.**\n",
    "    \n"
   ]
  },
  {
   "cell_type": "code",
   "execution_count": 4,
   "id": "1a8bb3c7-0144-4bb9-ba56-97e91893fae6",
   "metadata": {},
   "outputs": [],
   "source": [
    "def do_rcts_chunking(text, chunk_size=1024, chunk_overlap=896, length_fn=len):\n",
    "    \"\"\"\n",
    "    Perform Recursive Character Text Splitting (RCTS) chunking on the input text.\n",
    "    \n",
    "    Args:\n",
    "        text (str): The input text to be chunked.\n",
    "        chunk_size (int): The maximum size of each chunk.\n",
    "        chunk_overlap (int): The number of overlapping characters between adjacent chunks.\n",
    "        length_fn (callable, optional): Function to calculate the length of the text. Defaults to len.\n",
    "    \n",
    "    Returns:\n",
    "        list: A list of chunked text segments.\n",
    "    \"\"\"\n",
    "    # Import the RecursiveCharacterTextSplitter from langchain.text_splitter module\n",
    "    from langchain.text_splitter import RecursiveCharacterTextSplitter\n",
    "    \n",
    "    # Instantiate the text splitter with the specified parameters\n",
    "    text_splitter = RecursiveCharacterTextSplitter(\n",
    "        chunk_size=chunk_size,\n",
    "        chunk_overlap=chunk_overlap,\n",
    "        length_function=length_fn,\n",
    "    )\n",
    "    \n",
    "    # Split the input text into chunks\n",
    "    docs = text_splitter.create_documents([text])\n",
    "    \n",
    "    # Return the list of chunked text segments\n",
    "    return [x.page_content for x in docs if len(x.page_content)>1]\n",
    "\n",
    "def do_basic_chunking(text, chunk_delimeter=\"\\n\\n\", max_length=1800, min_length=600):\n",
    "    \"\"\"\n",
    "    Perform basic chunking on the input text using the specified delimiter.\n",
    "    \n",
    "    Args:\n",
    "        text (str): The input text to be chunked.\n",
    "        chunk_delimeter (str, optional): The delimiter used to split the text. Defaults to \"\\n\\n\".\n",
    "    \n",
    "    Returns:\n",
    "        list: A list of chunked text segments.\n",
    "    \"\"\"\n",
    "    # Split the input text based on the specified delimiter (ensure no empty chunks by stripping from ends)\n",
    "    raw_docs = text.strip(chunk_delimeter).split(chunk_delimeter)\n",
    "    tmp_docs = []\n",
    "    docs = []\n",
    "    \n",
    "    while len(raw_docs)>0:\n",
    "        doc = raw_docs.pop()\n",
    "        \n",
    "        if len(doc)>max_length:\n",
    "            raw_docs+=doc.split(\"\\n\")\n",
    "        elif len(doc)<min_length:\n",
    "            tmp_docs.append(doc)\n",
    "        else:\n",
    "            docs.append(doc)\n",
    "            \n",
    "        if len(\"\\n\".join(tmp_docs))>min_length:\n",
    "            docs.append(\"\\n\".join(tmp_docs))\n",
    "            tmp_docs = []\n",
    "    if tmp_docs:\n",
    "        docs.append(\"\\n\".join(tmp_docs))\n",
    "    \n",
    "    # Return the list of chunked text segments\n",
    "    return docs"
   ]
  },
  {
   "cell_type": "code",
   "execution_count": 5,
   "id": "14f23a54-67a5-4cf8-aa1a-e855b024faad",
   "metadata": {},
   "outputs": [
    {
     "name": "stdout",
     "output_type": "stream",
     "text": [
      "\n",
      "... FIRST BASIC CHUNK ...\n",
      "\n",
      "  'O, that infected moisture of his eye,\n",
      "  O, that false fire which in his cheek so glowed,\n",
      "  O, that forced thunder from his heart did fly,\n",
      "  O, that sad breath his spongy lungs bestowed,\n",
      "  O, all that borrowed motion, seeming owed,\n",
      "  Would yet again betray the fore-betrayed,\n",
      "  And new pervert a reconciled maid.'\n",
      "  'Thus merely with the garment of a Grace  \n",
      "  The naked and concealed fiend he covered,\n",
      "  That th' unexperient gave the tempter place,\n",
      "  Which, like a cherubin, above them hovered.\n",
      "  Who, young and simple, would not be so lovered?\n",
      "  Ay me, I fell, and yet do question make\n",
      "  What I should do again for such a sake.\n",
      "\n",
      "... FIRST RCTS CHUNK ...\n",
      "\n",
      "1\n",
      "  From fairest creatures we desire increase,\n",
      "  That thereby beauty's rose might never die,\n",
      "  But as the riper should by time decease,\n",
      "  His tender heir might bear his memory:\n",
      "  But thou contracted to thine own bright eyes,\n",
      "  Feed'st thy light's flame with self-substantial fuel,\n",
      "  Making a famine where abundance lies,\n",
      "  Thy self thy foe, to thy sweet self too cruel:\n",
      "  Thou that art now the world's fresh ornament,\n",
      "  And only herald to the gaudy spring,\n",
      "  Within thine own bud buriest thy content,\n",
      "  And tender churl mak'st waste in niggarding:\n",
      "    Pity the world, or else this glutton be,\n",
      "    To eat the world's due, by the grave and thee.\n",
      "\n",
      "... EXAMPLE RANDOM BASIC CHUNK ...\n",
      "\n",
      "    Things to strike honour sad. Bid him recount\n",
      "    This was his gentleman in trust-of him\n",
      "    As if besmear'd in hell. Sit by us; you shall hear-\n",
      "    That once were his, and is become as black\n",
      "    Hath into monstrous habits put the graces\n",
      "    His hour of speech a minute-he, my lady,\n",
      "    Almost with ravish'd list'ning, could not find\n",
      "    Who was enroll'd 'mongst wonders, and when we,\n",
      "    Than ever they were fair. This man so complete,\n",
      "    They turn to vicious forms, ten times more ugly\n",
      "    Not well dispos'd, the mind growing once corrupt,\n",
      "    When these so noble benefits shall prove\n",
      "    And never seek for aid out of himself. Yet see,\n",
      "\n",
      "... EXAMPLE RANDOM RCTS CHUNK ...\n",
      "\n",
      "Whose mother was her painting, hath betray'd him.\n",
      "    Poor I am stale, a garment out of fashion,\n",
      "    And for I am richer than to hang by th' walls\n",
      "    I must be ripp'd. To pieces with me! O,\n",
      "    Men's vows are women's traitors! All good seeming,\n",
      "    By thy revolt, O husband, shall be thought\n",
      "    Put on for villainy; not born where't grows,\n",
      "    But worn a bait for ladies.  \n",
      "  PISANIO. Good madam, hear me.\n",
      "  IMOGEN. True honest men being heard, like false Aeneas,\n",
      "    Were, in his time, thought false; and Sinon's weeping\n",
      "    Did scandal many a holy tear, took pity\n",
      "    From most true wretchedness. So thou, Posthumus,\n",
      "    Wilt lay the leaven on all proper men:\n",
      "    Goodly and gallant shall be false and perjur'd\n",
      "    From thy great fail. Come, fellow, be thou honest;\n",
      "    Do thou thy master's bidding; when thou seest him,\n",
      "    A little witness my obedience. Look!\n",
      "    I draw the sword myself; take it, and hit\n",
      "    The innocent mansion of my love, my heart.\n",
      "    Fear not; 'tis empty of all things but grief;\n",
      "\n",
      "... LAST BASIC CHUNK ...\n",
      "\n",
      "1\n",
      "  From fairest creatures we desire increase,\n",
      "  That thereby beauty's rose might never die,\n",
      "  But as the riper should by time decease,\n",
      "  His tender heir might bear his memory:\n",
      "  But thou contracted to thine own bright eyes,\n",
      "  Feed'st thy light's flame with self-substantial fuel,\n",
      "  Making a famine where abundance lies,\n",
      "  Thy self thy foe, to thy sweet self too cruel:\n",
      "  Thou that art now the world's fresh ornament,\n",
      "  And only herald to the gaudy spring,\n",
      "  Within thine own bud buriest thy content,\n",
      "  And tender churl mak'st waste in niggarding:\n",
      "    Pity the world, or else this glutton be,\n",
      "    To eat the world's due, by the grave and thee.\n",
      "\n",
      "... LAST RCTS CHUNK ...\n",
      "\n",
      "'That not a heart which in his level came\n",
      "  Could scape the hail of his all-hurting aim,\n",
      "  Showing fair nature is both kind and tame;\n",
      "  And, veiled in them, did win whom he would maim.\n",
      "  Against the thing he sought he would exclaim;\n",
      "  When he most burned in heart-wished luxury,\n",
      "  He preached pure maid and praised cold chastity.\n",
      "\n",
      "  'Thus merely with the garment of a Grace  \n",
      "  The naked and concealed fiend he covered,\n",
      "  That th' unexperient gave the tempter place,\n",
      "  Which, like a cherubin, above them hovered.\n",
      "  Who, young and simple, would not be so lovered?\n",
      "  Ay me, I fell, and yet do question make\n",
      "  What I should do again for such a sake.\n",
      "\n",
      "  'O, that infected moisture of his eye,\n",
      "  O, that false fire which in his cheek so glowed,\n",
      "  O, that forced thunder from his heart did fly,\n",
      "  O, that sad breath his spongy lungs bestowed,\n",
      "  O, all that borrowed motion, seeming owed,\n",
      "  Would yet again betray the fore-betrayed,\n",
      "  And new pervert a reconciled maid.'\n"
     ]
    }
   ],
   "source": [
    "# Feel free to pass non-default kwargs \n",
    "#    -- otherwise the rcts chunks will overlap by 64 and be 512 characters long\n",
    "CHUNK_STYLE = \"rcts\" # one of ['basic' | 'rcts']\n",
    "basic_chunks = do_basic_chunking(ss_text)\n",
    "rcts_chunks = do_rcts_chunking(ss_text)\n",
    "\n",
    "print(\"\\n... FIRST BASIC CHUNK ...\\n\")\n",
    "print(basic_chunks[0])\n",
    "\n",
    "print(\"\\n... FIRST RCTS CHUNK ...\\n\")\n",
    "print(rcts_chunks[0])\n",
    "\n",
    "print(\"\\n... EXAMPLE RANDOM BASIC CHUNK ...\\n\")\n",
    "print(random.sample(basic_chunks, 1)[0])\n",
    "\n",
    "print(\"\\n... EXAMPLE RANDOM RCTS CHUNK ...\\n\")\n",
    "print(random.sample(rcts_chunks, 1)[0])\n",
    "\n",
    "print(\"\\n... LAST BASIC CHUNK ...\\n\")\n",
    "print(basic_chunks[-1])\n",
    "\n",
    "print(\"\\n... LAST RCTS CHUNK ...\\n\")\n",
    "print(rcts_chunks[-1])\n"
   ]
  },
  {
   "cell_type": "markdown",
   "id": "57026a1f-c7b1-4d04-892b-0f8505b94ff8",
   "metadata": {},
   "source": [
    "<br>\n",
    "\n",
    "<div align=\"center\">\n",
    "\n",
    "## 💬 Tokenization <a name=\"tokenization\"></a>\n",
    "\n",
    "</div>\n",
    "\n",
    "<br>\n",
    "\n",
    "In this section, we'll tokenize the text, which involves splitting the chunks into individual tokens (words or subwords). Tokenization is an essential step in preprocessing, as it helps the Language Model understand the basic units of the text and learn meaningful patterns.\n",
    "\n",
    "* We will train our tokenizer on the non-chunked dataset (after basic preprocessing), however, we will \n"
   ]
  },
  {
   "cell_type": "code",
   "execution_count": 6,
   "id": "4517b50e-c416-408b-8480-61ffb558f310",
   "metadata": {},
   "outputs": [],
   "source": [
    "# Setup model directory if not already setup\n",
    "MODEL_DIR = os.path.join(os.path.dirname(DATA_PATH), \"models\")\n",
    "if not os.path.isdir(MODEL_DIR): os.makedirs(MODEL_DIR, exist_ok=True)\n",
    "\n",
    "# User defined parameters (matching alphafold and code tokenization standards)\n",
    "MODEL_PATH = os.path.join(MODEL_DIR, 'spearecode')\n",
    "USER_DEFINED_SYMBOLS = [\"[MASK]\", \"[NL]\"] # mask and newline replacement\n",
    "VOCAB_SIZE = 8_000\n",
    "CHAR_COVERAGE = 1.0000\n",
    "\n",
    "# If using CLS token\n",
    "PREPEND_CLS = False\n",
    "if PREPEND_CLS: USER_DEFINED_SYMBOLS.append([\"CLS\"])\n",
    "\n",
    "\n",
    "# Tokenizer parameters (and some defaults)\n",
    "base_tokenizer_kwargs = dict(\n",
    "    input = PREPROCESSED_FULL_TEXT_PATH,\n",
    "    vocab_size=VOCAB_SIZE,\n",
    "    character_coverage=CHAR_COVERAGE,\n",
    "    pad_id=0, unk_id=1, bos_id=2, eos_id=3,\n",
    "    remove_extra_whitespaces=False,\n",
    "    allow_whitespace_only_pieces=True,\n",
    "    add_dummy_prefix=False,\n",
    "    user_defined_symbols=USER_DEFINED_SYMBOLS,\n",
    "    normalization_rule_name=\"identity\",\n",
    "    num_threads=os.cpu_count(),\n",
    "    minloglevel=2,\n",
    ")\n",
    "\n",
    "unigram_tokenizer_kwargs = base_tokenizer_kwargs.copy()\n",
    "unigram_tokenizer_kwargs.update(dict(\n",
    "    model_prefix=MODEL_PATH+\"_uni\",\n",
    "    model_type=\"unigram\",\n",
    "))\n",
    "\n",
    "bpe_tokenizer_kwargs = base_tokenizer_kwargs.copy()\n",
    "bpe_tokenizer_kwargs.update(dict(\n",
    "    model_prefix=MODEL_PATH+\"_bpe\",\n",
    "    model_type=\"bpe\",\n",
    "    vocab_size=VOCAB_SIZE*2\n",
    "))\n",
    "\n",
    "# train_tokenizer(ALL_TXT_PATHS, MODEL_PATH, VOCAB_SIZE, TOKENIZER_STYLE)\n",
    "spm.SentencePieceTrainer.Train(**unigram_tokenizer_kwargs)\n",
    "spm.SentencePieceTrainer.Train(**bpe_tokenizer_kwargs)\n",
    "\n",
    "sp_uni = spm.SentencePieceProcessor()\n",
    "sp_uni.load(f'{unigram_tokenizer_kwargs[\"model_prefix\"]}.model')\n",
    "uni_encoder = lambda x: sp_uni.encode(x.replace(\"\\n\", \"[NL]\"))\n",
    "uni_decoder = lambda x: sp_uni.decode(x).replace(\"[NL]\", \"\\n\")\n",
    "\n",
    "sp_bpe = spm.SentencePieceProcessor()\n",
    "sp_bpe.load(f'{bpe_tokenizer_kwargs[\"model_prefix\"]}.model')\n",
    "bpe_encoder = lambda x: sp_bpe.encode(x.replace(\"\\n\", \"[NL]\"))\n",
    "bpe_decoder = lambda x: sp_bpe.decode(x).replace(\"[NL]\", \"\\n\")"
   ]
  },
  {
   "cell_type": "code",
   "execution_count": 7,
   "id": "9039baa8-358d-4f36-b045-b86b9f6d5743",
   "metadata": {},
   "outputs": [
    {
     "name": "stdout",
     "output_type": "stream",
     "text": [
      "\n",
      "... BPE TOKENIZATION:\n"
     ]
    },
    {
     "data": {
      "text/html": [
       "<style>span.token {font-family: Courier New; font-size: 1.1em; font-weight: 300; padding: 0px; margin-right: 0px; border-color: rgba(0, 0, 0, 0.05); border-style: ridge; border-radius: 0px;}</style><div style='background-color: #FBFBFB; line-height: 175%; padding: 25px; border-radius: 8px; margin-left: 10px; margin-right: 10px; margin-top: 20px; margin-bottom: 20px; overflow-x: auto; white-space: nowrap;'><span class='token' style='background-color: rgba(179, 226, 205, 0.675);'>1</span><span class='token' style='background-color: rgba(253, 205, 172, 0.675);'><br></span><span class='token' style='background-color: rgba(179, 226, 205, 0.675);'>&nbsp;&nbsp;</span><span class='token' style='background-color: rgba(253, 205, 172, 0.675);'>From</span><span class='token' style='background-color: rgba(203, 213, 232, 0.675);'>&nbsp;fairest</span><span class='token' style='background-color: rgba(244, 202, 228, 0.675);'>&nbsp;creatures</span><span class='token' style='background-color: rgba(230, 245, 201, 0.675);'>&nbsp;we</span><span class='token' style='background-color: rgba(255, 242, 174, 0.675);'>&nbsp;desire</span><span class='token' style='background-color: rgba(241, 226, 204, 0.675);'>&nbsp;increase</span><span class='token' style='background-color: rgba(204, 204, 204, 0.675);'>,</span><span class='token' style='background-color: rgba(179, 226, 205, 0.675);'><br></span><span class='token' style='background-color: rgba(179, 226, 205, 0.675);'>&nbsp;&nbsp;</span><span class='token' style='background-color: rgba(253, 205, 172, 0.675);'>That</span><span class='token' style='background-color: rgba(203, 213, 232, 0.675);'>&nbsp;thereby</span><span class='token' style='background-color: rgba(244, 202, 228, 0.675);'>&nbsp;beauty</span><span class='token' style='background-color: rgba(230, 245, 201, 0.675);'>'</span><span class='token' style='background-color: rgba(255, 242, 174, 0.675);'>s</span><span class='token' style='background-color: rgba(241, 226, 204, 0.675);'>&nbsp;rose</span><span class='token' style='background-color: rgba(204, 204, 204, 0.675);'>&nbsp;might</span><span class='token' style='background-color: rgba(179, 226, 205, 0.675);'>&nbsp;never</span><span class='token' style='background-color: rgba(253, 205, 172, 0.675);'>&nbsp;die</span><span class='token' style='background-color: rgba(203, 213, 232, 0.675);'>,</span><span class='token' style='background-color: rgba(244, 202, 228, 0.675);'><br></span><span class='token' style='background-color: rgba(179, 226, 205, 0.675);'>&nbsp;&nbsp;</span><span class='token' style='background-color: rgba(253, 205, 172, 0.675);'>But</span><span class='token' style='background-color: rgba(203, 213, 232, 0.675);'>&nbsp;as</span><span class='token' style='background-color: rgba(244, 202, 228, 0.675);'>&nbsp;the</span><span class='token' style='background-color: rgba(230, 245, 201, 0.675);'>&nbsp;ri</span><span class='token' style='background-color: rgba(255, 242, 174, 0.675);'>per</span><span class='token' style='background-color: rgba(241, 226, 204, 0.675);'>&nbsp;should</span><span class='token' style='background-color: rgba(204, 204, 204, 0.675);'>&nbsp;by</span><span class='token' style='background-color: rgba(179, 226, 205, 0.675);'>&nbsp;time</span><span class='token' style='background-color: rgba(253, 205, 172, 0.675);'>&nbsp;decease</span><span class='token' style='background-color: rgba(203, 213, 232, 0.675);'>,</span><span class='token' style='background-color: rgba(244, 202, 228, 0.675);'><br></span><span class='token' style='background-color: rgba(179, 226, 205, 0.675);'>&nbsp;&nbsp;</span><span class='token' style='background-color: rgba(253, 205, 172, 0.675);'>His</span><span class='token' style='background-color: rgba(203, 213, 232, 0.675);'>&nbsp;tender</span><span class='token' style='background-color: rgba(244, 202, 228, 0.675);'>&nbsp;heir</span><span class='token' style='background-color: rgba(230, 245, 201, 0.675);'>&nbsp;might</span><span class='token' style='background-color: rgba(255, 242, 174, 0.675);'>&nbsp;bear</span><span class='token' style='background-color: rgba(241, 226, 204, 0.675);'>&nbsp;his</span><span class='token' style='background-color: rgba(204, 204, 204, 0.675);'>&nbsp;memory</span><span class='token' style='background-color: rgba(179, 226, 205, 0.675);'>:</span><span class='token' style='background-color: rgba(253, 205, 172, 0.675);'><br></span><span class='token' style='background-color: rgba(179, 226, 205, 0.675);'>&nbsp;&nbsp;</span><span class='token' style='background-color: rgba(253, 205, 172, 0.675);'>But</span><span class='token' style='background-color: rgba(203, 213, 232, 0.675);'>&nbsp;thou</span><span class='token' style='background-color: rgba(244, 202, 228, 0.675);'>&nbsp;contracted</span><span class='token' style='background-color: rgba(230, 245, 201, 0.675);'>&nbsp;to</span><span class='token' style='background-color: rgba(255, 242, 174, 0.675);'>&nbsp;thine</span><span class='token' style='background-color: rgba(241, 226, 204, 0.675);'>&nbsp;own</span><span class='token' style='background-color: rgba(204, 204, 204, 0.675);'>&nbsp;bright</span><span class='token' style='background-color: rgba(179, 226, 205, 0.675);'>&nbsp;eyes</span><span class='token' style='background-color: rgba(253, 205, 172, 0.675);'>,</span><span class='token' style='background-color: rgba(203, 213, 232, 0.675);'><br></span><span class='token' style='background-color: rgba(179, 226, 205, 0.675);'>&nbsp;&nbsp;</span><span class='token' style='background-color: rgba(253, 205, 172, 0.675);'>Feed</span><span class='token' style='background-color: rgba(203, 213, 232, 0.675);'>'</span><span class='token' style='background-color: rgba(244, 202, 228, 0.675);'>st</span><span class='token' style='background-color: rgba(230, 245, 201, 0.675);'>&nbsp;thy</span><span class='token' style='background-color: rgba(255, 242, 174, 0.675);'>&nbsp;light</span><span class='token' style='background-color: rgba(241, 226, 204, 0.675);'>'</span><span class='token' style='background-color: rgba(204, 204, 204, 0.675);'>s</span><span class='token' style='background-color: rgba(179, 226, 205, 0.675);'>&nbsp;flame</span><span class='token' style='background-color: rgba(253, 205, 172, 0.675);'>&nbsp;with</span><span class='token' style='background-color: rgba(203, 213, 232, 0.675);'>&nbsp;self</span><span class='token' style='background-color: rgba(244, 202, 228, 0.675);'>-</span><span class='token' style='background-color: rgba(230, 245, 201, 0.675);'>sub</span><span class='token' style='background-color: rgba(255, 242, 174, 0.675);'>stantial</span><span class='token' style='background-color: rgba(241, 226, 204, 0.675);'>&nbsp;f</span><span class='token' style='background-color: rgba(204, 204, 204, 0.675);'>uel</span><span class='token' style='background-color: rgba(179, 226, 205, 0.675);'>,</span><span class='token' style='background-color: rgba(253, 205, 172, 0.675);'><br></span><span class='token' style='background-color: rgba(179, 226, 205, 0.675);'>&nbsp;&nbsp;</span><span class='token' style='background-color: rgba(253, 205, 172, 0.675);'>Making</span><span class='token' style='background-color: rgba(203, 213, 232, 0.675);'>&nbsp;a</span><span class='token' style='background-color: rgba(244, 202, 228, 0.675);'>&nbsp;famine</span><span class='token' style='background-color: rgba(230, 245, 201, 0.675);'>&nbsp;where</span><span class='token' style='background-color: rgba(255, 242, 174, 0.675);'>&nbsp;abundance</span><span class='token' style='background-color: rgba(241, 226, 204, 0.675);'>&nbsp;lies</span><span class='token' style='background-color: rgba(204, 204, 204, 0.675);'>,</span><span class='token' style='background-color: rgba(179, 226, 205, 0.675);'><br></span><span class='token' style='background-color: rgba(179, 226, 205, 0.675);'>&nbsp;&nbsp;</span><span class='token' style='background-color: rgba(253, 205, 172, 0.675);'>Thy</span><span class='token' style='background-color: rgba(203, 213, 232, 0.675);'>&nbsp;self</span><span class='token' style='background-color: rgba(244, 202, 228, 0.675);'>&nbsp;thy</span><span class='token' style='background-color: rgba(230, 245, 201, 0.675);'>&nbsp;foe</span><span class='token' style='background-color: rgba(255, 242, 174, 0.675);'>,</span><span class='token' style='background-color: rgba(241, 226, 204, 0.675);'>&nbsp;to</span><span class='token' style='background-color: rgba(204, 204, 204, 0.675);'>&nbsp;thy</span><span class='token' style='background-color: rgba(179, 226, 205, 0.675);'>&nbsp;sweet</span><span class='token' style='background-color: rgba(253, 205, 172, 0.675);'>&nbsp;self</span><span class='token' style='background-color: rgba(203, 213, 232, 0.675);'>&nbsp;too</span><span class='token' style='background-color: rgba(244, 202, 228, 0.675);'>&nbsp;cruel</span><span class='token' style='background-color: rgba(230, 245, 201, 0.675);'>:</span><span class='token' style='background-color: rgba(255, 242, 174, 0.675);'><br></span><span class='token' style='background-color: rgba(179, 226, 205, 0.675);'>&nbsp;&nbsp;</span><span class='token' style='background-color: rgba(253, 205, 172, 0.675);'>Thou</span><span class='token' style='background-color: rgba(203, 213, 232, 0.675);'>&nbsp;that</span><span class='token' style='background-color: rgba(244, 202, 228, 0.675);'>&nbsp;art</span><span class='token' style='background-color: rgba(230, 245, 201, 0.675);'>&nbsp;now</span><span class='token' style='background-color: rgba(255, 242, 174, 0.675);'>&nbsp;the</span><span class='token' style='background-color: rgba(241, 226, 204, 0.675);'>&nbsp;world</span><span class='token' style='background-color: rgba(204, 204, 204, 0.675);'>'</span><span class='token' style='background-color: rgba(179, 226, 205, 0.675);'>s</span><span class='token' style='background-color: rgba(253, 205, 172, 0.675);'>&nbsp;fresh</span><span class='token' style='background-color: rgba(203, 213, 232, 0.675);'>&nbsp;ornament</span><span class='token' style='background-color: rgba(244, 202, 228, 0.675);'>,</span><span class='token' style='background-color: rgba(230, 245, 201, 0.675);'><br></span><span class='token' style='background-color: rgba(179, 226, 205, 0.675);'>&nbsp;&nbsp;</span><span class='token' style='background-color: rgba(253, 205, 172, 0.675);'>And</span><span class='token' style='background-color: rgba(203, 213, 232, 0.675);'>&nbsp;only</span><span class='token' style='background-color: rgba(244, 202, 228, 0.675);'>&nbsp;herald</span><span class='token' style='background-color: rgba(230, 245, 201, 0.675);'>&nbsp;to</span><span class='token' style='background-color: rgba(255, 242, 174, 0.675);'>&nbsp;the</span><span class='token' style='background-color: rgba(241, 226, 204, 0.675);'>&nbsp;gaudy</span><span class='token' style='background-color: rgba(204, 204, 204, 0.675);'>&nbsp;spring</span><span class='token' style='background-color: rgba(179, 226, 205, 0.675);'>,</span><span class='token' style='background-color: rgba(253, 205, 172, 0.675);'><br></span><span class='token' style='background-color: rgba(179, 226, 205, 0.675);'>&nbsp;&nbsp;</span><span class='token' style='background-color: rgba(253, 205, 172, 0.675);'>Within</span><span class='token' style='background-color: rgba(203, 213, 232, 0.675);'>&nbsp;thine</span><span class='token' style='background-color: rgba(244, 202, 228, 0.675);'>&nbsp;own</span><span class='token' style='background-color: rgba(230, 245, 201, 0.675);'>&nbsp;bud</span><span class='token' style='background-color: rgba(255, 242, 174, 0.675);'>&nbsp;bu</span><span class='token' style='background-color: rgba(241, 226, 204, 0.675);'>ri</span><span class='token' style='background-color: rgba(204, 204, 204, 0.675);'>est</span><span class='token' style='background-color: rgba(179, 226, 205, 0.675);'>&nbsp;thy</span><span class='token' style='background-color: rgba(253, 205, 172, 0.675);'>&nbsp;content</span><span class='token' style='background-color: rgba(203, 213, 232, 0.675);'>,</span><span class='token' style='background-color: rgba(244, 202, 228, 0.675);'><br></span><span class='token' style='background-color: rgba(179, 226, 205, 0.675);'>&nbsp;&nbsp;</span><span class='token' style='background-color: rgba(253, 205, 172, 0.675);'>And</span><span class='token' style='background-color: rgba(203, 213, 232, 0.675);'>&nbsp;tender</span><span class='token' style='background-color: rgba(244, 202, 228, 0.675);'>&nbsp;churl</span><span class='token' style='background-color: rgba(230, 245, 201, 0.675);'>&nbsp;mak</span><span class='token' style='background-color: rgba(255, 242, 174, 0.675);'>'</span><span class='token' style='background-color: rgba(241, 226, 204, 0.675);'>st</span><span class='token' style='background-color: rgba(204, 204, 204, 0.675);'>&nbsp;waste</span><span class='token' style='background-color: rgba(179, 226, 205, 0.675);'>&nbsp;in</span><span class='token' style='background-color: rgba(253, 205, 172, 0.675);'>&nbsp;niggard</span><span class='token' style='background-color: rgba(203, 213, 232, 0.675);'>ing</span><span class='token' style='background-color: rgba(244, 202, 228, 0.675);'>:</span><span class='token' style='background-color: rgba(230, 245, 201, 0.675);'><br></span><span class='token' style='background-color: rgba(179, 226, 205, 0.675);'>&nbsp;&nbsp;&nbsp;&nbsp;</span><span class='token' style='background-color: rgba(253, 205, 172, 0.675);'>Pity</span><span class='token' style='background-color: rgba(203, 213, 232, 0.675);'>&nbsp;the</span><span class='token' style='background-color: rgba(244, 202, 228, 0.675);'>&nbsp;world</span><span class='token' style='background-color: rgba(230, 245, 201, 0.675);'>,</span><span class='token' style='background-color: rgba(255, 242, 174, 0.675);'>&nbsp;or</span><span class='token' style='background-color: rgba(241, 226, 204, 0.675);'>&nbsp;else</span><span class='token' style='background-color: rgba(204, 204, 204, 0.675);'>&nbsp;this</span><span class='token' style='background-color: rgba(179, 226, 205, 0.675);'>&nbsp;glut</span><span class='token' style='background-color: rgba(253, 205, 172, 0.675);'>ton</span><span class='token' style='background-color: rgba(203, 213, 232, 0.675);'>&nbsp;be</span><span class='token' style='background-color: rgba(244, 202, 228, 0.675);'>,</span><span class='token' style='background-color: rgba(230, 245, 201, 0.675);'><br></span><span class='token' style='background-color: rgba(179, 226, 205, 0.675);'>&nbsp;&nbsp;&nbsp;&nbsp;</span><span class='token' style='background-color: rgba(253, 205, 172, 0.675);'>To</span><span class='token' style='background-color: rgba(203, 213, 232, 0.675);'>&nbsp;eat</span><span class='token' style='background-color: rgba(244, 202, 228, 0.675);'>&nbsp;the</span><span class='token' style='background-color: rgba(230, 245, 201, 0.675);'>&nbsp;world</span><span class='token' style='background-color: rgba(255, 242, 174, 0.675);'>'</span><span class='token' style='background-color: rgba(241, 226, 204, 0.675);'>s</span><span class='token' style='background-color: rgba(204, 204, 204, 0.675);'>&nbsp;due</span><span class='token' style='background-color: rgba(179, 226, 205, 0.675);'>,</span><span class='token' style='background-color: rgba(253, 205, 172, 0.675);'>&nbsp;by</span><span class='token' style='background-color: rgba(203, 213, 232, 0.675);'>&nbsp;the</span><span class='token' style='background-color: rgba(244, 202, 228, 0.675);'>&nbsp;grave</span><span class='token' style='background-color: rgba(230, 245, 201, 0.675);'>&nbsp;and</span><span class='token' style='background-color: rgba(255, 242, 174, 0.675);'>&nbsp;thee</span><span class='token' style='background-color: rgba(241, 226, 204, 0.675);'>.</span><span class='token' style='background-color: rgba(204, 204, 204, 0.675);'><br></span></div>"
      ],
      "text/plain": [
       "<IPython.core.display.HTML object>"
      ]
     },
     "metadata": {},
     "output_type": "display_data"
    },
    {
     "name": "stdout",
     "output_type": "stream",
     "text": [
      "\n",
      "... UNIGRAM TOKENIZATION:\n"
     ]
    },
    {
     "data": {
      "text/html": [
       "<style>span.token {font-family: Courier New; font-size: 1.1em; font-weight: 300; padding: 0px; margin-right: 0px; border-color: rgba(0, 0, 0, 0.05); border-style: ridge; border-radius: 0px;}</style><div style='background-color: #FBFBFB; line-height: 175%; padding: 25px; border-radius: 8px; margin-left: 10px; margin-right: 10px; margin-top: 20px; margin-bottom: 20px; overflow-x: auto; white-space: nowrap;'><span class='token' style='background-color: rgba(179, 226, 205, 0.675);'>1</span><span class='token' style='background-color: rgba(253, 205, 172, 0.675);'><br></span><span class='token' style='background-color: rgba(179, 226, 205, 0.675);'>&nbsp;</span><span class='token' style='background-color: rgba(253, 205, 172, 0.675);'>&nbsp;F</span><span class='token' style='background-color: rgba(203, 213, 232, 0.675);'>rom</span><span class='token' style='background-color: rgba(244, 202, 228, 0.675);'>&nbsp;fairest</span><span class='token' style='background-color: rgba(230, 245, 201, 0.675);'>&nbsp;creatures</span><span class='token' style='background-color: rgba(255, 242, 174, 0.675);'>&nbsp;we</span><span class='token' style='background-color: rgba(241, 226, 204, 0.675);'>&nbsp;desire</span><span class='token' style='background-color: rgba(204, 204, 204, 0.675);'>&nbsp;increase</span><span class='token' style='background-color: rgba(179, 226, 205, 0.675);'>,</span><span class='token' style='background-color: rgba(253, 205, 172, 0.675);'><br></span><span class='token' style='background-color: rgba(179, 226, 205, 0.675);'>&nbsp;</span><span class='token' style='background-color: rgba(253, 205, 172, 0.675);'>&nbsp;That</span><span class='token' style='background-color: rgba(203, 213, 232, 0.675);'>&nbsp;thereby</span><span class='token' style='background-color: rgba(244, 202, 228, 0.675);'>&nbsp;beauty</span><span class='token' style='background-color: rgba(230, 245, 201, 0.675);'>'</span><span class='token' style='background-color: rgba(255, 242, 174, 0.675);'>s</span><span class='token' style='background-color: rgba(241, 226, 204, 0.675);'>&nbsp;rose</span><span class='token' style='background-color: rgba(204, 204, 204, 0.675);'>&nbsp;might</span><span class='token' style='background-color: rgba(179, 226, 205, 0.675);'>&nbsp;never</span><span class='token' style='background-color: rgba(253, 205, 172, 0.675);'>&nbsp;die</span><span class='token' style='background-color: rgba(203, 213, 232, 0.675);'>,</span><span class='token' style='background-color: rgba(244, 202, 228, 0.675);'><br></span><span class='token' style='background-color: rgba(179, 226, 205, 0.675);'>&nbsp;</span><span class='token' style='background-color: rgba(253, 205, 172, 0.675);'>&nbsp;But</span><span class='token' style='background-color: rgba(203, 213, 232, 0.675);'>&nbsp;as</span><span class='token' style='background-color: rgba(244, 202, 228, 0.675);'>&nbsp;the</span><span class='token' style='background-color: rgba(230, 245, 201, 0.675);'>&nbsp;ripe</span><span class='token' style='background-color: rgba(255, 242, 174, 0.675);'>r</span><span class='token' style='background-color: rgba(241, 226, 204, 0.675);'>&nbsp;should</span><span class='token' style='background-color: rgba(204, 204, 204, 0.675);'>&nbsp;by</span><span class='token' style='background-color: rgba(179, 226, 205, 0.675);'>&nbsp;time</span><span class='token' style='background-color: rgba(253, 205, 172, 0.675);'>&nbsp;deceas</span><span class='token' style='background-color: rgba(203, 213, 232, 0.675);'>e</span><span class='token' style='background-color: rgba(244, 202, 228, 0.675);'>,</span><span class='token' style='background-color: rgba(230, 245, 201, 0.675);'><br></span><span class='token' style='background-color: rgba(179, 226, 205, 0.675);'>&nbsp;</span><span class='token' style='background-color: rgba(253, 205, 172, 0.675);'>&nbsp;His</span><span class='token' style='background-color: rgba(203, 213, 232, 0.675);'>&nbsp;tender</span><span class='token' style='background-color: rgba(244, 202, 228, 0.675);'>&nbsp;heir</span><span class='token' style='background-color: rgba(230, 245, 201, 0.675);'>&nbsp;might</span><span class='token' style='background-color: rgba(255, 242, 174, 0.675);'>&nbsp;bear</span><span class='token' style='background-color: rgba(241, 226, 204, 0.675);'>&nbsp;his</span><span class='token' style='background-color: rgba(204, 204, 204, 0.675);'>&nbsp;memory</span><span class='token' style='background-color: rgba(179, 226, 205, 0.675);'>:</span><span class='token' style='background-color: rgba(253, 205, 172, 0.675);'><br></span><span class='token' style='background-color: rgba(179, 226, 205, 0.675);'>&nbsp;</span><span class='token' style='background-color: rgba(253, 205, 172, 0.675);'>&nbsp;But</span><span class='token' style='background-color: rgba(203, 213, 232, 0.675);'>&nbsp;thou</span><span class='token' style='background-color: rgba(244, 202, 228, 0.675);'>&nbsp;contract</span><span class='token' style='background-color: rgba(230, 245, 201, 0.675);'>ed</span><span class='token' style='background-color: rgba(255, 242, 174, 0.675);'>&nbsp;to</span><span class='token' style='background-color: rgba(241, 226, 204, 0.675);'>&nbsp;thine</span><span class='token' style='background-color: rgba(204, 204, 204, 0.675);'>&nbsp;own</span><span class='token' style='background-color: rgba(179, 226, 205, 0.675);'>&nbsp;bright</span><span class='token' style='background-color: rgba(253, 205, 172, 0.675);'>&nbsp;eyes</span><span class='token' style='background-color: rgba(203, 213, 232, 0.675);'>,</span><span class='token' style='background-color: rgba(244, 202, 228, 0.675);'><br></span><span class='token' style='background-color: rgba(179, 226, 205, 0.675);'>&nbsp;</span><span class='token' style='background-color: rgba(253, 205, 172, 0.675);'>&nbsp;Feed</span><span class='token' style='background-color: rgba(203, 213, 232, 0.675);'>'</span><span class='token' style='background-color: rgba(244, 202, 228, 0.675);'>st</span><span class='token' style='background-color: rgba(230, 245, 201, 0.675);'>&nbsp;thy</span><span class='token' style='background-color: rgba(255, 242, 174, 0.675);'>&nbsp;light</span><span class='token' style='background-color: rgba(241, 226, 204, 0.675);'>'</span><span class='token' style='background-color: rgba(204, 204, 204, 0.675);'>s</span><span class='token' style='background-color: rgba(179, 226, 205, 0.675);'>&nbsp;flame</span><span class='token' style='background-color: rgba(253, 205, 172, 0.675);'>&nbsp;with</span><span class='token' style='background-color: rgba(203, 213, 232, 0.675);'>&nbsp;self</span><span class='token' style='background-color: rgba(244, 202, 228, 0.675);'>-</span><span class='token' style='background-color: rgba(230, 245, 201, 0.675);'>substantial</span><span class='token' style='background-color: rgba(255, 242, 174, 0.675);'>&nbsp;f</span><span class='token' style='background-color: rgba(241, 226, 204, 0.675);'>u</span><span class='token' style='background-color: rgba(204, 204, 204, 0.675);'>el</span><span class='token' style='background-color: rgba(179, 226, 205, 0.675);'>,</span><span class='token' style='background-color: rgba(253, 205, 172, 0.675);'><br></span><span class='token' style='background-color: rgba(179, 226, 205, 0.675);'>&nbsp;</span><span class='token' style='background-color: rgba(253, 205, 172, 0.675);'>&nbsp;Mak</span><span class='token' style='background-color: rgba(203, 213, 232, 0.675);'>ing</span><span class='token' style='background-color: rgba(244, 202, 228, 0.675);'>&nbsp;a</span><span class='token' style='background-color: rgba(230, 245, 201, 0.675);'>&nbsp;famine</span><span class='token' style='background-color: rgba(255, 242, 174, 0.675);'>&nbsp;where</span><span class='token' style='background-color: rgba(241, 226, 204, 0.675);'>&nbsp;abundance</span><span class='token' style='background-color: rgba(204, 204, 204, 0.675);'>&nbsp;lies</span><span class='token' style='background-color: rgba(179, 226, 205, 0.675);'>,</span><span class='token' style='background-color: rgba(253, 205, 172, 0.675);'><br></span><span class='token' style='background-color: rgba(179, 226, 205, 0.675);'>&nbsp;</span><span class='token' style='background-color: rgba(253, 205, 172, 0.675);'>&nbsp;Thy</span><span class='token' style='background-color: rgba(203, 213, 232, 0.675);'>&nbsp;self</span><span class='token' style='background-color: rgba(244, 202, 228, 0.675);'>&nbsp;thy</span><span class='token' style='background-color: rgba(230, 245, 201, 0.675);'>&nbsp;foe</span><span class='token' style='background-color: rgba(255, 242, 174, 0.675);'>,</span><span class='token' style='background-color: rgba(241, 226, 204, 0.675);'>&nbsp;to</span><span class='token' style='background-color: rgba(204, 204, 204, 0.675);'>&nbsp;thy</span><span class='token' style='background-color: rgba(179, 226, 205, 0.675);'>&nbsp;sweet</span><span class='token' style='background-color: rgba(253, 205, 172, 0.675);'>&nbsp;self</span><span class='token' style='background-color: rgba(203, 213, 232, 0.675);'>&nbsp;too</span><span class='token' style='background-color: rgba(244, 202, 228, 0.675);'>&nbsp;cruel</span><span class='token' style='background-color: rgba(230, 245, 201, 0.675);'>:</span><span class='token' style='background-color: rgba(255, 242, 174, 0.675);'><br></span><span class='token' style='background-color: rgba(179, 226, 205, 0.675);'>&nbsp;</span><span class='token' style='background-color: rgba(253, 205, 172, 0.675);'>&nbsp;Thou</span><span class='token' style='background-color: rgba(203, 213, 232, 0.675);'>&nbsp;that</span><span class='token' style='background-color: rgba(244, 202, 228, 0.675);'>&nbsp;art</span><span class='token' style='background-color: rgba(230, 245, 201, 0.675);'>&nbsp;now</span><span class='token' style='background-color: rgba(255, 242, 174, 0.675);'>&nbsp;the</span><span class='token' style='background-color: rgba(241, 226, 204, 0.675);'>&nbsp;world</span><span class='token' style='background-color: rgba(204, 204, 204, 0.675);'>'</span><span class='token' style='background-color: rgba(179, 226, 205, 0.675);'>s</span><span class='token' style='background-color: rgba(253, 205, 172, 0.675);'>&nbsp;fresh</span><span class='token' style='background-color: rgba(203, 213, 232, 0.675);'>&nbsp;ornament</span><span class='token' style='background-color: rgba(244, 202, 228, 0.675);'>,</span><span class='token' style='background-color: rgba(230, 245, 201, 0.675);'><br></span><span class='token' style='background-color: rgba(179, 226, 205, 0.675);'>&nbsp;</span><span class='token' style='background-color: rgba(253, 205, 172, 0.675);'>&nbsp;And</span><span class='token' style='background-color: rgba(203, 213, 232, 0.675);'>&nbsp;only</span><span class='token' style='background-color: rgba(244, 202, 228, 0.675);'>&nbsp;herald</span><span class='token' style='background-color: rgba(230, 245, 201, 0.675);'>&nbsp;to</span><span class='token' style='background-color: rgba(255, 242, 174, 0.675);'>&nbsp;the</span><span class='token' style='background-color: rgba(241, 226, 204, 0.675);'>&nbsp;gaudy</span><span class='token' style='background-color: rgba(204, 204, 204, 0.675);'>&nbsp;spring</span><span class='token' style='background-color: rgba(179, 226, 205, 0.675);'>,</span><span class='token' style='background-color: rgba(253, 205, 172, 0.675);'><br></span><span class='token' style='background-color: rgba(179, 226, 205, 0.675);'>&nbsp;</span><span class='token' style='background-color: rgba(253, 205, 172, 0.675);'>&nbsp;Within</span><span class='token' style='background-color: rgba(203, 213, 232, 0.675);'>&nbsp;thine</span><span class='token' style='background-color: rgba(244, 202, 228, 0.675);'>&nbsp;own</span><span class='token' style='background-color: rgba(230, 245, 201, 0.675);'>&nbsp;bu</span><span class='token' style='background-color: rgba(255, 242, 174, 0.675);'>d</span><span class='token' style='background-color: rgba(241, 226, 204, 0.675);'>&nbsp;bu</span><span class='token' style='background-color: rgba(204, 204, 204, 0.675);'>ries</span><span class='token' style='background-color: rgba(179, 226, 205, 0.675);'>t</span><span class='token' style='background-color: rgba(253, 205, 172, 0.675);'>&nbsp;thy</span><span class='token' style='background-color: rgba(203, 213, 232, 0.675);'>&nbsp;content</span><span class='token' style='background-color: rgba(244, 202, 228, 0.675);'>,</span><span class='token' style='background-color: rgba(230, 245, 201, 0.675);'><br></span><span class='token' style='background-color: rgba(179, 226, 205, 0.675);'>&nbsp;</span><span class='token' style='background-color: rgba(253, 205, 172, 0.675);'>&nbsp;And</span><span class='token' style='background-color: rgba(203, 213, 232, 0.675);'>&nbsp;tender</span><span class='token' style='background-color: rgba(244, 202, 228, 0.675);'>&nbsp;churl</span><span class='token' style='background-color: rgba(230, 245, 201, 0.675);'>&nbsp;mak</span><span class='token' style='background-color: rgba(255, 242, 174, 0.675);'>'</span><span class='token' style='background-color: rgba(241, 226, 204, 0.675);'>st</span><span class='token' style='background-color: rgba(204, 204, 204, 0.675);'>&nbsp;waste</span><span class='token' style='background-color: rgba(179, 226, 205, 0.675);'>&nbsp;in</span><span class='token' style='background-color: rgba(253, 205, 172, 0.675);'>&nbsp;niggard</span><span class='token' style='background-color: rgba(203, 213, 232, 0.675);'>ing</span><span class='token' style='background-color: rgba(244, 202, 228, 0.675);'>:</span><span class='token' style='background-color: rgba(230, 245, 201, 0.675);'><br></span><span class='token' style='background-color: rgba(179, 226, 205, 0.675);'>&nbsp;&nbsp;&nbsp;</span><span class='token' style='background-color: rgba(253, 205, 172, 0.675);'>&nbsp;Pity</span><span class='token' style='background-color: rgba(203, 213, 232, 0.675);'>&nbsp;the</span><span class='token' style='background-color: rgba(244, 202, 228, 0.675);'>&nbsp;world</span><span class='token' style='background-color: rgba(230, 245, 201, 0.675);'>,</span><span class='token' style='background-color: rgba(255, 242, 174, 0.675);'>&nbsp;or</span><span class='token' style='background-color: rgba(241, 226, 204, 0.675);'>&nbsp;else</span><span class='token' style='background-color: rgba(204, 204, 204, 0.675);'>&nbsp;this</span><span class='token' style='background-color: rgba(179, 226, 205, 0.675);'>&nbsp;glu</span><span class='token' style='background-color: rgba(253, 205, 172, 0.675);'>t</span><span class='token' style='background-color: rgba(203, 213, 232, 0.675);'>ton</span><span class='token' style='background-color: rgba(244, 202, 228, 0.675);'>&nbsp;be</span><span class='token' style='background-color: rgba(230, 245, 201, 0.675);'>,</span><span class='token' style='background-color: rgba(255, 242, 174, 0.675);'><br></span><span class='token' style='background-color: rgba(179, 226, 205, 0.675);'>&nbsp;&nbsp;&nbsp;</span><span class='token' style='background-color: rgba(253, 205, 172, 0.675);'>&nbsp;To</span><span class='token' style='background-color: rgba(203, 213, 232, 0.675);'>&nbsp;eat</span><span class='token' style='background-color: rgba(244, 202, 228, 0.675);'>&nbsp;the</span><span class='token' style='background-color: rgba(230, 245, 201, 0.675);'>&nbsp;world</span><span class='token' style='background-color: rgba(255, 242, 174, 0.675);'>'</span><span class='token' style='background-color: rgba(241, 226, 204, 0.675);'>s</span><span class='token' style='background-color: rgba(204, 204, 204, 0.675);'>&nbsp;due</span><span class='token' style='background-color: rgba(179, 226, 205, 0.675);'>,</span><span class='token' style='background-color: rgba(253, 205, 172, 0.675);'>&nbsp;by</span><span class='token' style='background-color: rgba(203, 213, 232, 0.675);'>&nbsp;the</span><span class='token' style='background-color: rgba(244, 202, 228, 0.675);'>&nbsp;grave</span><span class='token' style='background-color: rgba(230, 245, 201, 0.675);'>&nbsp;and</span><span class='token' style='background-color: rgba(255, 242, 174, 0.675);'>&nbsp;thee</span><span class='token' style='background-color: rgba(241, 226, 204, 0.675);'>.</span><span class='token' style='background-color: rgba(204, 204, 204, 0.675);'><br></span></div>"
      ],
      "text/plain": [
       "<IPython.core.display.HTML object>"
      ]
     },
     "metadata": {},
     "output_type": "display_data"
    },
    {
     "name": "stdout",
     "output_type": "stream",
     "text": [
      "\n",
      "... CHAR TOKENIZATION:\n"
     ]
    },
    {
     "data": {
      "text/html": [
       "<style>span.token {font-family: Courier New; font-size: 1.1em; font-weight: 300; padding: 0px; margin-right: 0px; border-color: rgba(0, 0, 0, 0.05); border-style: ridge; border-radius: 0px;}</style><div style='background-color: #FBFBFB; line-height: 175%; padding: 25px; border-radius: 8px; margin-left: 10px; margin-right: 10px; margin-top: 20px; margin-bottom: 20px; overflow-x: auto; white-space: nowrap;'><span class='token' style='background-color: rgba(179, 226, 205, 0.675);'>&nbsp;</span><span class='token' style='background-color: rgba(253, 205, 172, 0.675);'>&nbsp;</span><span class='token' style='background-color: rgba(203, 213, 232, 0.675);'>'</span><span class='token' style='background-color: rgba(244, 202, 228, 0.675);'>O</span><span class='token' style='background-color: rgba(230, 245, 201, 0.675);'>,</span><span class='token' style='background-color: rgba(255, 242, 174, 0.675);'>&nbsp;</span><span class='token' style='background-color: rgba(241, 226, 204, 0.675);'>t</span><span class='token' style='background-color: rgba(204, 204, 204, 0.675);'>h</span><span class='token' style='background-color: rgba(179, 226, 205, 0.675);'>a</span><span class='token' style='background-color: rgba(253, 205, 172, 0.675);'>t</span><span class='token' style='background-color: rgba(203, 213, 232, 0.675);'>&nbsp;</span><span class='token' style='background-color: rgba(244, 202, 228, 0.675);'>i</span><span class='token' style='background-color: rgba(230, 245, 201, 0.675);'>n</span><span class='token' style='background-color: rgba(255, 242, 174, 0.675);'>f</span><span class='token' style='background-color: rgba(241, 226, 204, 0.675);'>e</span><span class='token' style='background-color: rgba(204, 204, 204, 0.675);'>c</span><span class='token' style='background-color: rgba(179, 226, 205, 0.675);'>t</span><span class='token' style='background-color: rgba(253, 205, 172, 0.675);'>e</span><span class='token' style='background-color: rgba(203, 213, 232, 0.675);'>d</span><span class='token' style='background-color: rgba(244, 202, 228, 0.675);'>&nbsp;</span><span class='token' style='background-color: rgba(230, 245, 201, 0.675);'>m</span><span class='token' style='background-color: rgba(255, 242, 174, 0.675);'>o</span><span class='token' style='background-color: rgba(241, 226, 204, 0.675);'>i</span><span class='token' style='background-color: rgba(204, 204, 204, 0.675);'>s</span><span class='token' style='background-color: rgba(179, 226, 205, 0.675);'>t</span><span class='token' style='background-color: rgba(253, 205, 172, 0.675);'>u</span><span class='token' style='background-color: rgba(203, 213, 232, 0.675);'>r</span><span class='token' style='background-color: rgba(244, 202, 228, 0.675);'>e</span><span class='token' style='background-color: rgba(230, 245, 201, 0.675);'>&nbsp;</span><span class='token' style='background-color: rgba(255, 242, 174, 0.675);'>o</span><span class='token' style='background-color: rgba(241, 226, 204, 0.675);'>f</span><span class='token' style='background-color: rgba(204, 204, 204, 0.675);'>&nbsp;</span><span class='token' style='background-color: rgba(179, 226, 205, 0.675);'>h</span><span class='token' style='background-color: rgba(253, 205, 172, 0.675);'>i</span><span class='token' style='background-color: rgba(203, 213, 232, 0.675);'>s</span><span class='token' style='background-color: rgba(244, 202, 228, 0.675);'>&nbsp;</span><span class='token' style='background-color: rgba(230, 245, 201, 0.675);'>e</span><span class='token' style='background-color: rgba(255, 242, 174, 0.675);'>y</span><span class='token' style='background-color: rgba(241, 226, 204, 0.675);'>e</span><span class='token' style='background-color: rgba(204, 204, 204, 0.675);'>,</span><span class='token' style='background-color: rgba(179, 226, 205, 0.675);'><br></span><span class='token' style='background-color: rgba(179, 226, 205, 0.675);'>&nbsp;</span><span class='token' style='background-color: rgba(253, 205, 172, 0.675);'>&nbsp;</span><span class='token' style='background-color: rgba(203, 213, 232, 0.675);'>O</span><span class='token' style='background-color: rgba(244, 202, 228, 0.675);'>,</span><span class='token' style='background-color: rgba(230, 245, 201, 0.675);'>&nbsp;</span><span class='token' style='background-color: rgba(255, 242, 174, 0.675);'>t</span><span class='token' style='background-color: rgba(241, 226, 204, 0.675);'>h</span><span class='token' style='background-color: rgba(204, 204, 204, 0.675);'>a</span><span class='token' style='background-color: rgba(179, 226, 205, 0.675);'>t</span><span class='token' style='background-color: rgba(253, 205, 172, 0.675);'>&nbsp;</span><span class='token' style='background-color: rgba(203, 213, 232, 0.675);'>f</span><span class='token' style='background-color: rgba(244, 202, 228, 0.675);'>a</span><span class='token' style='background-color: rgba(230, 245, 201, 0.675);'>l</span><span class='token' style='background-color: rgba(255, 242, 174, 0.675);'>s</span><span class='token' style='background-color: rgba(241, 226, 204, 0.675);'>e</span><span class='token' style='background-color: rgba(204, 204, 204, 0.675);'>&nbsp;</span><span class='token' style='background-color: rgba(179, 226, 205, 0.675);'>f</span><span class='token' style='background-color: rgba(253, 205, 172, 0.675);'>i</span><span class='token' style='background-color: rgba(203, 213, 232, 0.675);'>r</span><span class='token' style='background-color: rgba(244, 202, 228, 0.675);'>e</span><span class='token' style='background-color: rgba(230, 245, 201, 0.675);'>&nbsp;</span><span class='token' style='background-color: rgba(241, 226, 204, 0.675);'>h</span><span class='token' style='background-color: rgba(204, 204, 204, 0.675);'>i</span><span class='token' style='background-color: rgba(179, 226, 205, 0.675);'>c</span><span class='token' style='background-color: rgba(253, 205, 172, 0.675);'>h</span><span class='token' style='background-color: rgba(203, 213, 232, 0.675);'>&nbsp;</span><span class='token' style='background-color: rgba(244, 202, 228, 0.675);'>i</span><span class='token' style='background-color: rgba(230, 245, 201, 0.675);'>n</span><span class='token' style='background-color: rgba(255, 242, 174, 0.675);'>&nbsp;</span><span class='token' style='background-color: rgba(241, 226, 204, 0.675);'>h</span><span class='token' style='background-color: rgba(204, 204, 204, 0.675);'>i</span><span class='token' style='background-color: rgba(179, 226, 205, 0.675);'>s</span><span class='token' style='background-color: rgba(253, 205, 172, 0.675);'>&nbsp;</span><span class='token' style='background-color: rgba(203, 213, 232, 0.675);'>c</span><span class='token' style='background-color: rgba(244, 202, 228, 0.675);'>h</span><span class='token' style='background-color: rgba(230, 245, 201, 0.675);'>e</span><span class='token' style='background-color: rgba(255, 242, 174, 0.675);'>e</span><span class='token' style='background-color: rgba(241, 226, 204, 0.675);'>k</span><span class='token' style='background-color: rgba(204, 204, 204, 0.675);'>&nbsp;</span><span class='token' style='background-color: rgba(179, 226, 205, 0.675);'>s</span><span class='token' style='background-color: rgba(253, 205, 172, 0.675);'>o</span><span class='token' style='background-color: rgba(203, 213, 232, 0.675);'>&nbsp;</span><span class='token' style='background-color: rgba(244, 202, 228, 0.675);'>g</span><span class='token' style='background-color: rgba(230, 245, 201, 0.675);'>l</span><span class='token' style='background-color: rgba(255, 242, 174, 0.675);'>o</span><span class='token' style='background-color: rgba(204, 204, 204, 0.675);'>e</span><span class='token' style='background-color: rgba(179, 226, 205, 0.675);'>d</span><span class='token' style='background-color: rgba(253, 205, 172, 0.675);'>,</span><span class='token' style='background-color: rgba(203, 213, 232, 0.675);'><br></span><span class='token' style='background-color: rgba(179, 226, 205, 0.675);'>&nbsp;</span><span class='token' style='background-color: rgba(253, 205, 172, 0.675);'>&nbsp;</span><span class='token' style='background-color: rgba(203, 213, 232, 0.675);'>O</span><span class='token' style='background-color: rgba(244, 202, 228, 0.675);'>,</span><span class='token' style='background-color: rgba(230, 245, 201, 0.675);'>&nbsp;</span><span class='token' style='background-color: rgba(255, 242, 174, 0.675);'>t</span><span class='token' style='background-color: rgba(241, 226, 204, 0.675);'>h</span><span class='token' style='background-color: rgba(204, 204, 204, 0.675);'>a</span><span class='token' style='background-color: rgba(179, 226, 205, 0.675);'>t</span><span class='token' style='background-color: rgba(253, 205, 172, 0.675);'>&nbsp;</span><span class='token' style='background-color: rgba(203, 213, 232, 0.675);'>f</span><span class='token' style='background-color: rgba(244, 202, 228, 0.675);'>o</span><span class='token' style='background-color: rgba(230, 245, 201, 0.675);'>r</span><span class='token' style='background-color: rgba(255, 242, 174, 0.675);'>c</span><span class='token' style='background-color: rgba(241, 226, 204, 0.675);'>e</span><span class='token' style='background-color: rgba(204, 204, 204, 0.675);'>d</span><span class='token' style='background-color: rgba(179, 226, 205, 0.675);'>&nbsp;</span><span class='token' style='background-color: rgba(253, 205, 172, 0.675);'>t</span><span class='token' style='background-color: rgba(203, 213, 232, 0.675);'>h</span><span class='token' style='background-color: rgba(244, 202, 228, 0.675);'>u</span><span class='token' style='background-color: rgba(230, 245, 201, 0.675);'>n</span><span class='token' style='background-color: rgba(255, 242, 174, 0.675);'>d</span><span class='token' style='background-color: rgba(241, 226, 204, 0.675);'>e</span><span class='token' style='background-color: rgba(204, 204, 204, 0.675);'>r</span><span class='token' style='background-color: rgba(179, 226, 205, 0.675);'>&nbsp;</span><span class='token' style='background-color: rgba(253, 205, 172, 0.675);'>f</span><span class='token' style='background-color: rgba(203, 213, 232, 0.675);'>r</span><span class='token' style='background-color: rgba(244, 202, 228, 0.675);'>o</span><span class='token' style='background-color: rgba(230, 245, 201, 0.675);'>m</span><span class='token' style='background-color: rgba(255, 242, 174, 0.675);'>&nbsp;</span><span class='token' style='background-color: rgba(241, 226, 204, 0.675);'>h</span><span class='token' style='background-color: rgba(204, 204, 204, 0.675);'>i</span><span class='token' style='background-color: rgba(179, 226, 205, 0.675);'>s</span><span class='token' style='background-color: rgba(253, 205, 172, 0.675);'>&nbsp;</span><span class='token' style='background-color: rgba(203, 213, 232, 0.675);'>h</span><span class='token' style='background-color: rgba(244, 202, 228, 0.675);'>e</span><span class='token' style='background-color: rgba(230, 245, 201, 0.675);'>a</span><span class='token' style='background-color: rgba(255, 242, 174, 0.675);'>r</span><span class='token' style='background-color: rgba(241, 226, 204, 0.675);'>t</span><span class='token' style='background-color: rgba(204, 204, 204, 0.675);'>&nbsp;</span><span class='token' style='background-color: rgba(179, 226, 205, 0.675);'>d</span><span class='token' style='background-color: rgba(253, 205, 172, 0.675);'>i</span><span class='token' style='background-color: rgba(203, 213, 232, 0.675);'>d</span><span class='token' style='background-color: rgba(244, 202, 228, 0.675);'>&nbsp;</span><span class='token' style='background-color: rgba(230, 245, 201, 0.675);'>f</span><span class='token' style='background-color: rgba(255, 242, 174, 0.675);'>l</span><span class='token' style='background-color: rgba(241, 226, 204, 0.675);'>y</span><span class='token' style='background-color: rgba(204, 204, 204, 0.675);'>,</span><span class='token' style='background-color: rgba(179, 226, 205, 0.675);'><br></span><span class='token' style='background-color: rgba(179, 226, 205, 0.675);'>&nbsp;</span><span class='token' style='background-color: rgba(253, 205, 172, 0.675);'>&nbsp;</span><span class='token' style='background-color: rgba(203, 213, 232, 0.675);'>O</span><span class='token' style='background-color: rgba(244, 202, 228, 0.675);'>,</span><span class='token' style='background-color: rgba(230, 245, 201, 0.675);'>&nbsp;</span><span class='token' style='background-color: rgba(255, 242, 174, 0.675);'>t</span><span class='token' style='background-color: rgba(241, 226, 204, 0.675);'>h</span><span class='token' style='background-color: rgba(204, 204, 204, 0.675);'>a</span><span class='token' style='background-color: rgba(179, 226, 205, 0.675);'>t</span><span class='token' style='background-color: rgba(253, 205, 172, 0.675);'>&nbsp;</span><span class='token' style='background-color: rgba(203, 213, 232, 0.675);'>s</span><span class='token' style='background-color: rgba(244, 202, 228, 0.675);'>a</span><span class='token' style='background-color: rgba(230, 245, 201, 0.675);'>d</span><span class='token' style='background-color: rgba(255, 242, 174, 0.675);'>&nbsp;</span><span class='token' style='background-color: rgba(241, 226, 204, 0.675);'>b</span><span class='token' style='background-color: rgba(204, 204, 204, 0.675);'>r</span><span class='token' style='background-color: rgba(179, 226, 205, 0.675);'>e</span><span class='token' style='background-color: rgba(253, 205, 172, 0.675);'>a</span><span class='token' style='background-color: rgba(203, 213, 232, 0.675);'>t</span><span class='token' style='background-color: rgba(244, 202, 228, 0.675);'>h</span><span class='token' style='background-color: rgba(230, 245, 201, 0.675);'>&nbsp;</span><span class='token' style='background-color: rgba(255, 242, 174, 0.675);'>h</span><span class='token' style='background-color: rgba(241, 226, 204, 0.675);'>i</span><span class='token' style='background-color: rgba(204, 204, 204, 0.675);'>s</span><span class='token' style='background-color: rgba(179, 226, 205, 0.675);'>&nbsp;</span><span class='token' style='background-color: rgba(253, 205, 172, 0.675);'>s</span><span class='token' style='background-color: rgba(203, 213, 232, 0.675);'>p</span><span class='token' style='background-color: rgba(244, 202, 228, 0.675);'>o</span><span class='token' style='background-color: rgba(230, 245, 201, 0.675);'>n</span><span class='token' style='background-color: rgba(255, 242, 174, 0.675);'>g</span><span class='token' style='background-color: rgba(241, 226, 204, 0.675);'>y</span><span class='token' style='background-color: rgba(204, 204, 204, 0.675);'>&nbsp;</span><span class='token' style='background-color: rgba(179, 226, 205, 0.675);'>l</span><span class='token' style='background-color: rgba(253, 205, 172, 0.675);'>u</span><span class='token' style='background-color: rgba(203, 213, 232, 0.675);'>n</span><span class='token' style='background-color: rgba(244, 202, 228, 0.675);'>g</span><span class='token' style='background-color: rgba(230, 245, 201, 0.675);'>s</span><span class='token' style='background-color: rgba(255, 242, 174, 0.675);'>&nbsp;</span><span class='token' style='background-color: rgba(241, 226, 204, 0.675);'>b</span><span class='token' style='background-color: rgba(204, 204, 204, 0.675);'>e</span><span class='token' style='background-color: rgba(179, 226, 205, 0.675);'>s</span><span class='token' style='background-color: rgba(253, 205, 172, 0.675);'>t</span><span class='token' style='background-color: rgba(203, 213, 232, 0.675);'>o</span><span class='token' style='background-color: rgba(230, 245, 201, 0.675);'>e</span><span class='token' style='background-color: rgba(255, 242, 174, 0.675);'>d</span><span class='token' style='background-color: rgba(241, 226, 204, 0.675);'>,</span><span class='token' style='background-color: rgba(204, 204, 204, 0.675);'><br></span><span class='token' style='background-color: rgba(179, 226, 205, 0.675);'>&nbsp;</span><span class='token' style='background-color: rgba(253, 205, 172, 0.675);'>&nbsp;</span><span class='token' style='background-color: rgba(203, 213, 232, 0.675);'>O</span><span class='token' style='background-color: rgba(244, 202, 228, 0.675);'>,</span><span class='token' style='background-color: rgba(230, 245, 201, 0.675);'>&nbsp;</span><span class='token' style='background-color: rgba(255, 242, 174, 0.675);'>a</span><span class='token' style='background-color: rgba(241, 226, 204, 0.675);'>l</span><span class='token' style='background-color: rgba(204, 204, 204, 0.675);'>l</span><span class='token' style='background-color: rgba(179, 226, 205, 0.675);'>&nbsp;</span><span class='token' style='background-color: rgba(253, 205, 172, 0.675);'>t</span><span class='token' style='background-color: rgba(203, 213, 232, 0.675);'>h</span><span class='token' style='background-color: rgba(244, 202, 228, 0.675);'>a</span><span class='token' style='background-color: rgba(230, 245, 201, 0.675);'>t</span><span class='token' style='background-color: rgba(255, 242, 174, 0.675);'>&nbsp;</span><span class='token' style='background-color: rgba(241, 226, 204, 0.675);'>b</span><span class='token' style='background-color: rgba(204, 204, 204, 0.675);'>o</span><span class='token' style='background-color: rgba(179, 226, 205, 0.675);'>r</span><span class='token' style='background-color: rgba(253, 205, 172, 0.675);'>r</span><span class='token' style='background-color: rgba(203, 213, 232, 0.675);'>o</span><span class='token' style='background-color: rgba(230, 245, 201, 0.675);'>e</span><span class='token' style='background-color: rgba(255, 242, 174, 0.675);'>d</span><span class='token' style='background-color: rgba(241, 226, 204, 0.675);'>&nbsp;</span><span class='token' style='background-color: rgba(204, 204, 204, 0.675);'>m</span><span class='token' style='background-color: rgba(179, 226, 205, 0.675);'>o</span><span class='token' style='background-color: rgba(253, 205, 172, 0.675);'>t</span><span class='token' style='background-color: rgba(203, 213, 232, 0.675);'>i</span><span class='token' style='background-color: rgba(244, 202, 228, 0.675);'>o</span><span class='token' style='background-color: rgba(230, 245, 201, 0.675);'>n</span><span class='token' style='background-color: rgba(255, 242, 174, 0.675);'>,</span><span class='token' style='background-color: rgba(241, 226, 204, 0.675);'>&nbsp;</span><span class='token' style='background-color: rgba(204, 204, 204, 0.675);'>s</span><span class='token' style='background-color: rgba(179, 226, 205, 0.675);'>e</span><span class='token' style='background-color: rgba(253, 205, 172, 0.675);'>e</span><span class='token' style='background-color: rgba(203, 213, 232, 0.675);'>m</span><span class='token' style='background-color: rgba(244, 202, 228, 0.675);'>i</span><span class='token' style='background-color: rgba(230, 245, 201, 0.675);'>n</span><span class='token' style='background-color: rgba(255, 242, 174, 0.675);'>g</span><span class='token' style='background-color: rgba(241, 226, 204, 0.675);'>&nbsp;</span><span class='token' style='background-color: rgba(204, 204, 204, 0.675);'>o</span><span class='token' style='background-color: rgba(253, 205, 172, 0.675);'>e</span><span class='token' style='background-color: rgba(203, 213, 232, 0.675);'>d</span><span class='token' style='background-color: rgba(244, 202, 228, 0.675);'>,</span><span class='token' style='background-color: rgba(230, 245, 201, 0.675);'><br></span><span class='token' style='background-color: rgba(179, 226, 205, 0.675);'>&nbsp;</span><span class='token' style='background-color: rgba(253, 205, 172, 0.675);'>&nbsp;</span><span class='token' style='background-color: rgba(203, 213, 232, 0.675);'>W</span><span class='token' style='background-color: rgba(244, 202, 228, 0.675);'>o</span><span class='token' style='background-color: rgba(230, 245, 201, 0.675);'>u</span><span class='token' style='background-color: rgba(255, 242, 174, 0.675);'>l</span><span class='token' style='background-color: rgba(241, 226, 204, 0.675);'>d</span><span class='token' style='background-color: rgba(204, 204, 204, 0.675);'>&nbsp;</span><span class='token' style='background-color: rgba(179, 226, 205, 0.675);'>y</span><span class='token' style='background-color: rgba(253, 205, 172, 0.675);'>e</span><span class='token' style='background-color: rgba(203, 213, 232, 0.675);'>t</span><span class='token' style='background-color: rgba(244, 202, 228, 0.675);'>&nbsp;</span><span class='token' style='background-color: rgba(230, 245, 201, 0.675);'>a</span><span class='token' style='background-color: rgba(255, 242, 174, 0.675);'>g</span><span class='token' style='background-color: rgba(241, 226, 204, 0.675);'>a</span><span class='token' style='background-color: rgba(204, 204, 204, 0.675);'>i</span><span class='token' style='background-color: rgba(179, 226, 205, 0.675);'>n</span><span class='token' style='background-color: rgba(253, 205, 172, 0.675);'>&nbsp;</span><span class='token' style='background-color: rgba(203, 213, 232, 0.675);'>b</span><span class='token' style='background-color: rgba(244, 202, 228, 0.675);'>e</span><span class='token' style='background-color: rgba(230, 245, 201, 0.675);'>t</span><span class='token' style='background-color: rgba(255, 242, 174, 0.675);'>r</span><span class='token' style='background-color: rgba(241, 226, 204, 0.675);'>a</span><span class='token' style='background-color: rgba(204, 204, 204, 0.675);'>y</span><span class='token' style='background-color: rgba(179, 226, 205, 0.675);'>&nbsp;</span><span class='token' style='background-color: rgba(253, 205, 172, 0.675);'>t</span><span class='token' style='background-color: rgba(203, 213, 232, 0.675);'>h</span><span class='token' style='background-color: rgba(244, 202, 228, 0.675);'>e</span><span class='token' style='background-color: rgba(230, 245, 201, 0.675);'>&nbsp;</span><span class='token' style='background-color: rgba(255, 242, 174, 0.675);'>f</span><span class='token' style='background-color: rgba(241, 226, 204, 0.675);'>o</span><span class='token' style='background-color: rgba(204, 204, 204, 0.675);'>r</span><span class='token' style='background-color: rgba(179, 226, 205, 0.675);'>e</span><span class='token' style='background-color: rgba(253, 205, 172, 0.675);'>-</span><span class='token' style='background-color: rgba(203, 213, 232, 0.675);'>b</span><span class='token' style='background-color: rgba(244, 202, 228, 0.675);'>e</span><span class='token' style='background-color: rgba(230, 245, 201, 0.675);'>t</span><span class='token' style='background-color: rgba(255, 242, 174, 0.675);'>r</span><span class='token' style='background-color: rgba(241, 226, 204, 0.675);'>a</span><span class='token' style='background-color: rgba(204, 204, 204, 0.675);'>y</span><span class='token' style='background-color: rgba(179, 226, 205, 0.675);'>e</span><span class='token' style='background-color: rgba(253, 205, 172, 0.675);'>d</span><span class='token' style='background-color: rgba(203, 213, 232, 0.675);'>,</span><span class='token' style='background-color: rgba(244, 202, 228, 0.675);'><br></span><span class='token' style='background-color: rgba(179, 226, 205, 0.675);'>&nbsp;</span><span class='token' style='background-color: rgba(253, 205, 172, 0.675);'>&nbsp;</span><span class='token' style='background-color: rgba(203, 213, 232, 0.675);'>A</span><span class='token' style='background-color: rgba(244, 202, 228, 0.675);'>n</span><span class='token' style='background-color: rgba(230, 245, 201, 0.675);'>d</span><span class='token' style='background-color: rgba(255, 242, 174, 0.675);'>&nbsp;</span><span class='token' style='background-color: rgba(241, 226, 204, 0.675);'>n</span><span class='token' style='background-color: rgba(204, 204, 204, 0.675);'>e</span><span class='token' style='background-color: rgba(253, 205, 172, 0.675);'>&nbsp;</span><span class='token' style='background-color: rgba(203, 213, 232, 0.675);'>p</span><span class='token' style='background-color: rgba(244, 202, 228, 0.675);'>e</span><span class='token' style='background-color: rgba(230, 245, 201, 0.675);'>r</span><span class='token' style='background-color: rgba(255, 242, 174, 0.675);'>v</span><span class='token' style='background-color: rgba(241, 226, 204, 0.675);'>e</span><span class='token' style='background-color: rgba(204, 204, 204, 0.675);'>r</span><span class='token' style='background-color: rgba(179, 226, 205, 0.675);'>t</span><span class='token' style='background-color: rgba(253, 205, 172, 0.675);'>&nbsp;</span><span class='token' style='background-color: rgba(203, 213, 232, 0.675);'>a</span><span class='token' style='background-color: rgba(244, 202, 228, 0.675);'>&nbsp;</span><span class='token' style='background-color: rgba(230, 245, 201, 0.675);'>r</span><span class='token' style='background-color: rgba(255, 242, 174, 0.675);'>e</span><span class='token' style='background-color: rgba(241, 226, 204, 0.675);'>c</span><span class='token' style='background-color: rgba(204, 204, 204, 0.675);'>o</span><span class='token' style='background-color: rgba(179, 226, 205, 0.675);'>n</span><span class='token' style='background-color: rgba(253, 205, 172, 0.675);'>c</span><span class='token' style='background-color: rgba(203, 213, 232, 0.675);'>i</span><span class='token' style='background-color: rgba(244, 202, 228, 0.675);'>l</span><span class='token' style='background-color: rgba(230, 245, 201, 0.675);'>e</span><span class='token' style='background-color: rgba(255, 242, 174, 0.675);'>d</span><span class='token' style='background-color: rgba(241, 226, 204, 0.675);'>&nbsp;</span><span class='token' style='background-color: rgba(204, 204, 204, 0.675);'>m</span><span class='token' style='background-color: rgba(179, 226, 205, 0.675);'>a</span><span class='token' style='background-color: rgba(253, 205, 172, 0.675);'>i</span><span class='token' style='background-color: rgba(203, 213, 232, 0.675);'>d</span><span class='token' style='background-color: rgba(244, 202, 228, 0.675);'>.</span><span class='token' style='background-color: rgba(230, 245, 201, 0.675);'>'</span><span class='token' style='background-color: rgba(255, 242, 174, 0.675);'><br></span><span class='token' style='background-color: rgba(179, 226, 205, 0.675);'>&nbsp;</span><span class='token' style='background-color: rgba(253, 205, 172, 0.675);'>&nbsp;</span><span class='token' style='background-color: rgba(203, 213, 232, 0.675);'>'</span><span class='token' style='background-color: rgba(244, 202, 228, 0.675);'>T</span><span class='token' style='background-color: rgba(230, 245, 201, 0.675);'>h</span><span class='token' style='background-color: rgba(255, 242, 174, 0.675);'>u</span><span class='token' style='background-color: rgba(241, 226, 204, 0.675);'>s</span><span class='token' style='background-color: rgba(204, 204, 204, 0.675);'>&nbsp;</span><span class='token' style='background-color: rgba(179, 226, 205, 0.675);'>m</span><span class='token' style='background-color: rgba(253, 205, 172, 0.675);'>e</span><span class='token' style='background-color: rgba(203, 213, 232, 0.675);'>r</span><span class='token' style='background-color: rgba(244, 202, 228, 0.675);'>e</span><span class='token' style='background-color: rgba(230, 245, 201, 0.675);'>l</span><span class='token' style='background-color: rgba(255, 242, 174, 0.675);'>y</span><span class='token' style='background-color: rgba(241, 226, 204, 0.675);'>&nbsp;</span><span class='token' style='background-color: rgba(179, 226, 205, 0.675);'>i</span><span class='token' style='background-color: rgba(253, 205, 172, 0.675);'>t</span><span class='token' style='background-color: rgba(203, 213, 232, 0.675);'>h</span><span class='token' style='background-color: rgba(244, 202, 228, 0.675);'>&nbsp;</span><span class='token' style='background-color: rgba(230, 245, 201, 0.675);'>t</span><span class='token' style='background-color: rgba(255, 242, 174, 0.675);'>h</span><span class='token' style='background-color: rgba(241, 226, 204, 0.675);'>e</span><span class='token' style='background-color: rgba(204, 204, 204, 0.675);'>&nbsp;</span><span class='token' style='background-color: rgba(179, 226, 205, 0.675);'>g</span><span class='token' style='background-color: rgba(253, 205, 172, 0.675);'>a</span><span class='token' style='background-color: rgba(203, 213, 232, 0.675);'>r</span><span class='token' style='background-color: rgba(244, 202, 228, 0.675);'>m</span><span class='token' style='background-color: rgba(230, 245, 201, 0.675);'>e</span><span class='token' style='background-color: rgba(255, 242, 174, 0.675);'>n</span><span class='token' style='background-color: rgba(241, 226, 204, 0.675);'>t</span><span class='token' style='background-color: rgba(204, 204, 204, 0.675);'>&nbsp;</span><span class='token' style='background-color: rgba(179, 226, 205, 0.675);'>o</span><span class='token' style='background-color: rgba(253, 205, 172, 0.675);'>f</span><span class='token' style='background-color: rgba(203, 213, 232, 0.675);'>&nbsp;</span><span class='token' style='background-color: rgba(244, 202, 228, 0.675);'>a</span><span class='token' style='background-color: rgba(230, 245, 201, 0.675);'>&nbsp;</span><span class='token' style='background-color: rgba(255, 242, 174, 0.675);'>G</span><span class='token' style='background-color: rgba(241, 226, 204, 0.675);'>r</span><span class='token' style='background-color: rgba(204, 204, 204, 0.675);'>a</span><span class='token' style='background-color: rgba(179, 226, 205, 0.675);'>c</span><span class='token' style='background-color: rgba(253, 205, 172, 0.675);'>e</span><span class='token' style='background-color: rgba(203, 213, 232, 0.675);'>&nbsp;</span><span class='token' style='background-color: rgba(244, 202, 228, 0.675);'>&nbsp;</span><span class='token' style='background-color: rgba(230, 245, 201, 0.675);'><br></span><span class='token' style='background-color: rgba(179, 226, 205, 0.675);'>&nbsp;</span><span class='token' style='background-color: rgba(253, 205, 172, 0.675);'>&nbsp;</span><span class='token' style='background-color: rgba(203, 213, 232, 0.675);'>T</span><span class='token' style='background-color: rgba(244, 202, 228, 0.675);'>h</span><span class='token' style='background-color: rgba(230, 245, 201, 0.675);'>e</span><span class='token' style='background-color: rgba(255, 242, 174, 0.675);'>&nbsp;</span><span class='token' style='background-color: rgba(241, 226, 204, 0.675);'>n</span><span class='token' style='background-color: rgba(204, 204, 204, 0.675);'>a</span><span class='token' style='background-color: rgba(179, 226, 205, 0.675);'>k</span><span class='token' style='background-color: rgba(253, 205, 172, 0.675);'>e</span><span class='token' style='background-color: rgba(203, 213, 232, 0.675);'>d</span><span class='token' style='background-color: rgba(244, 202, 228, 0.675);'>&nbsp;</span><span class='token' style='background-color: rgba(230, 245, 201, 0.675);'>a</span><span class='token' style='background-color: rgba(255, 242, 174, 0.675);'>n</span><span class='token' style='background-color: rgba(241, 226, 204, 0.675);'>d</span><span class='token' style='background-color: rgba(204, 204, 204, 0.675);'>&nbsp;</span><span class='token' style='background-color: rgba(179, 226, 205, 0.675);'>c</span><span class='token' style='background-color: rgba(253, 205, 172, 0.675);'>o</span><span class='token' style='background-color: rgba(203, 213, 232, 0.675);'>n</span><span class='token' style='background-color: rgba(244, 202, 228, 0.675);'>c</span><span class='token' style='background-color: rgba(230, 245, 201, 0.675);'>e</span><span class='token' style='background-color: rgba(255, 242, 174, 0.675);'>a</span><span class='token' style='background-color: rgba(241, 226, 204, 0.675);'>l</span><span class='token' style='background-color: rgba(204, 204, 204, 0.675);'>e</span><span class='token' style='background-color: rgba(179, 226, 205, 0.675);'>d</span><span class='token' style='background-color: rgba(253, 205, 172, 0.675);'>&nbsp;</span><span class='token' style='background-color: rgba(203, 213, 232, 0.675);'>f</span><span class='token' style='background-color: rgba(244, 202, 228, 0.675);'>i</span><span class='token' style='background-color: rgba(230, 245, 201, 0.675);'>e</span><span class='token' style='background-color: rgba(255, 242, 174, 0.675);'>n</span><span class='token' style='background-color: rgba(241, 226, 204, 0.675);'>d</span><span class='token' style='background-color: rgba(204, 204, 204, 0.675);'>&nbsp;</span><span class='token' style='background-color: rgba(179, 226, 205, 0.675);'>h</span><span class='token' style='background-color: rgba(253, 205, 172, 0.675);'>e</span><span class='token' style='background-color: rgba(203, 213, 232, 0.675);'>&nbsp;</span><span class='token' style='background-color: rgba(244, 202, 228, 0.675);'>c</span><span class='token' style='background-color: rgba(230, 245, 201, 0.675);'>o</span><span class='token' style='background-color: rgba(255, 242, 174, 0.675);'>v</span><span class='token' style='background-color: rgba(241, 226, 204, 0.675);'>e</span><span class='token' style='background-color: rgba(204, 204, 204, 0.675);'>r</span><span class='token' style='background-color: rgba(179, 226, 205, 0.675);'>e</span><span class='token' style='background-color: rgba(253, 205, 172, 0.675);'>d</span><span class='token' style='background-color: rgba(203, 213, 232, 0.675);'>,</span><span class='token' style='background-color: rgba(244, 202, 228, 0.675);'><br></span><span class='token' style='background-color: rgba(179, 226, 205, 0.675);'>&nbsp;</span><span class='token' style='background-color: rgba(253, 205, 172, 0.675);'>&nbsp;</span><span class='token' style='background-color: rgba(203, 213, 232, 0.675);'>T</span><span class='token' style='background-color: rgba(244, 202, 228, 0.675);'>h</span><span class='token' style='background-color: rgba(230, 245, 201, 0.675);'>a</span><span class='token' style='background-color: rgba(255, 242, 174, 0.675);'>t</span><span class='token' style='background-color: rgba(241, 226, 204, 0.675);'>&nbsp;</span><span class='token' style='background-color: rgba(204, 204, 204, 0.675);'>t</span><span class='token' style='background-color: rgba(179, 226, 205, 0.675);'>h</span><span class='token' style='background-color: rgba(253, 205, 172, 0.675);'>'</span><span class='token' style='background-color: rgba(203, 213, 232, 0.675);'>&nbsp;</span><span class='token' style='background-color: rgba(244, 202, 228, 0.675);'>u</span><span class='token' style='background-color: rgba(230, 245, 201, 0.675);'>n</span><span class='token' style='background-color: rgba(255, 242, 174, 0.675);'>e</span><span class='token' style='background-color: rgba(241, 226, 204, 0.675);'>x</span><span class='token' style='background-color: rgba(204, 204, 204, 0.675);'>p</span><span class='token' style='background-color: rgba(179, 226, 205, 0.675);'>e</span><span class='token' style='background-color: rgba(253, 205, 172, 0.675);'>r</span><span class='token' style='background-color: rgba(203, 213, 232, 0.675);'>i</span><span class='token' style='background-color: rgba(244, 202, 228, 0.675);'>e</span><span class='token' style='background-color: rgba(230, 245, 201, 0.675);'>n</span><span class='token' style='background-color: rgba(255, 242, 174, 0.675);'>t</span><span class='token' style='background-color: rgba(241, 226, 204, 0.675);'>&nbsp;</span><span class='token' style='background-color: rgba(204, 204, 204, 0.675);'>g</span><span class='token' style='background-color: rgba(179, 226, 205, 0.675);'>a</span><span class='token' style='background-color: rgba(253, 205, 172, 0.675);'>v</span><span class='token' style='background-color: rgba(203, 213, 232, 0.675);'>e</span><span class='token' style='background-color: rgba(244, 202, 228, 0.675);'>&nbsp;</span><span class='token' style='background-color: rgba(230, 245, 201, 0.675);'>t</span><span class='token' style='background-color: rgba(255, 242, 174, 0.675);'>h</span><span class='token' style='background-color: rgba(241, 226, 204, 0.675);'>e</span><span class='token' style='background-color: rgba(204, 204, 204, 0.675);'>&nbsp;</span><span class='token' style='background-color: rgba(179, 226, 205, 0.675);'>t</span><span class='token' style='background-color: rgba(253, 205, 172, 0.675);'>e</span><span class='token' style='background-color: rgba(203, 213, 232, 0.675);'>m</span><span class='token' style='background-color: rgba(244, 202, 228, 0.675);'>p</span><span class='token' style='background-color: rgba(230, 245, 201, 0.675);'>t</span><span class='token' style='background-color: rgba(255, 242, 174, 0.675);'>e</span><span class='token' style='background-color: rgba(241, 226, 204, 0.675);'>r</span><span class='token' style='background-color: rgba(204, 204, 204, 0.675);'>&nbsp;</span><span class='token' style='background-color: rgba(179, 226, 205, 0.675);'>p</span><span class='token' style='background-color: rgba(253, 205, 172, 0.675);'>l</span><span class='token' style='background-color: rgba(203, 213, 232, 0.675);'>a</span><span class='token' style='background-color: rgba(244, 202, 228, 0.675);'>c</span><span class='token' style='background-color: rgba(230, 245, 201, 0.675);'>e</span><span class='token' style='background-color: rgba(255, 242, 174, 0.675);'>,</span><span class='token' style='background-color: rgba(241, 226, 204, 0.675);'><br></span><span class='token' style='background-color: rgba(179, 226, 205, 0.675);'>&nbsp;</span><span class='token' style='background-color: rgba(253, 205, 172, 0.675);'>&nbsp;</span><span class='token' style='background-color: rgba(203, 213, 232, 0.675);'>W</span><span class='token' style='background-color: rgba(244, 202, 228, 0.675);'>h</span><span class='token' style='background-color: rgba(230, 245, 201, 0.675);'>i</span><span class='token' style='background-color: rgba(255, 242, 174, 0.675);'>c</span><span class='token' style='background-color: rgba(241, 226, 204, 0.675);'>h</span><span class='token' style='background-color: rgba(204, 204, 204, 0.675);'>,</span><span class='token' style='background-color: rgba(179, 226, 205, 0.675);'>&nbsp;</span><span class='token' style='background-color: rgba(253, 205, 172, 0.675);'>l</span><span class='token' style='background-color: rgba(203, 213, 232, 0.675);'>i</span><span class='token' style='background-color: rgba(244, 202, 228, 0.675);'>k</span><span class='token' style='background-color: rgba(230, 245, 201, 0.675);'>e</span><span class='token' style='background-color: rgba(255, 242, 174, 0.675);'>&nbsp;</span><span class='token' style='background-color: rgba(241, 226, 204, 0.675);'>a</span><span class='token' style='background-color: rgba(204, 204, 204, 0.675);'>&nbsp;</span><span class='token' style='background-color: rgba(179, 226, 205, 0.675);'>c</span><span class='token' style='background-color: rgba(253, 205, 172, 0.675);'>h</span><span class='token' style='background-color: rgba(203, 213, 232, 0.675);'>e</span><span class='token' style='background-color: rgba(244, 202, 228, 0.675);'>r</span><span class='token' style='background-color: rgba(230, 245, 201, 0.675);'>u</span><span class='token' style='background-color: rgba(255, 242, 174, 0.675);'>b</span><span class='token' style='background-color: rgba(241, 226, 204, 0.675);'>i</span><span class='token' style='background-color: rgba(204, 204, 204, 0.675);'>n</span><span class='token' style='background-color: rgba(179, 226, 205, 0.675);'>,</span><span class='token' style='background-color: rgba(253, 205, 172, 0.675);'>&nbsp;</span><span class='token' style='background-color: rgba(203, 213, 232, 0.675);'>a</span><span class='token' style='background-color: rgba(244, 202, 228, 0.675);'>b</span><span class='token' style='background-color: rgba(230, 245, 201, 0.675);'>o</span><span class='token' style='background-color: rgba(255, 242, 174, 0.675);'>v</span><span class='token' style='background-color: rgba(241, 226, 204, 0.675);'>e</span><span class='token' style='background-color: rgba(204, 204, 204, 0.675);'>&nbsp;</span><span class='token' style='background-color: rgba(179, 226, 205, 0.675);'>t</span><span class='token' style='background-color: rgba(253, 205, 172, 0.675);'>h</span><span class='token' style='background-color: rgba(203, 213, 232, 0.675);'>e</span><span class='token' style='background-color: rgba(244, 202, 228, 0.675);'>m</span><span class='token' style='background-color: rgba(230, 245, 201, 0.675);'>&nbsp;</span><span class='token' style='background-color: rgba(255, 242, 174, 0.675);'>h</span><span class='token' style='background-color: rgba(241, 226, 204, 0.675);'>o</span><span class='token' style='background-color: rgba(204, 204, 204, 0.675);'>v</span><span class='token' style='background-color: rgba(179, 226, 205, 0.675);'>e</span><span class='token' style='background-color: rgba(253, 205, 172, 0.675);'>r</span><span class='token' style='background-color: rgba(203, 213, 232, 0.675);'>e</span><span class='token' style='background-color: rgba(244, 202, 228, 0.675);'>d</span><span class='token' style='background-color: rgba(230, 245, 201, 0.675);'>.</span><span class='token' style='background-color: rgba(255, 242, 174, 0.675);'><br></span><span class='token' style='background-color: rgba(179, 226, 205, 0.675);'>&nbsp;</span><span class='token' style='background-color: rgba(253, 205, 172, 0.675);'>&nbsp;</span><span class='token' style='background-color: rgba(203, 213, 232, 0.675);'>W</span><span class='token' style='background-color: rgba(244, 202, 228, 0.675);'>h</span><span class='token' style='background-color: rgba(230, 245, 201, 0.675);'>o</span><span class='token' style='background-color: rgba(255, 242, 174, 0.675);'>,</span><span class='token' style='background-color: rgba(241, 226, 204, 0.675);'>&nbsp;</span><span class='token' style='background-color: rgba(204, 204, 204, 0.675);'>y</span><span class='token' style='background-color: rgba(179, 226, 205, 0.675);'>o</span><span class='token' style='background-color: rgba(253, 205, 172, 0.675);'>u</span><span class='token' style='background-color: rgba(203, 213, 232, 0.675);'>n</span><span class='token' style='background-color: rgba(244, 202, 228, 0.675);'>g</span><span class='token' style='background-color: rgba(230, 245, 201, 0.675);'>&nbsp;</span><span class='token' style='background-color: rgba(255, 242, 174, 0.675);'>a</span><span class='token' style='background-color: rgba(241, 226, 204, 0.675);'>n</span><span class='token' style='background-color: rgba(204, 204, 204, 0.675);'>d</span><span class='token' style='background-color: rgba(179, 226, 205, 0.675);'>&nbsp;</span><span class='token' style='background-color: rgba(253, 205, 172, 0.675);'>s</span><span class='token' style='background-color: rgba(203, 213, 232, 0.675);'>i</span><span class='token' style='background-color: rgba(244, 202, 228, 0.675);'>m</span><span class='token' style='background-color: rgba(230, 245, 201, 0.675);'>p</span><span class='token' style='background-color: rgba(255, 242, 174, 0.675);'>l</span><span class='token' style='background-color: rgba(241, 226, 204, 0.675);'>e</span><span class='token' style='background-color: rgba(204, 204, 204, 0.675);'>,</span><span class='token' style='background-color: rgba(179, 226, 205, 0.675);'>&nbsp;</span><span class='token' style='background-color: rgba(203, 213, 232, 0.675);'>o</span><span class='token' style='background-color: rgba(244, 202, 228, 0.675);'>u</span><span class='token' style='background-color: rgba(230, 245, 201, 0.675);'>l</span><span class='token' style='background-color: rgba(255, 242, 174, 0.675);'>d</span><span class='token' style='background-color: rgba(241, 226, 204, 0.675);'>&nbsp;</span><span class='token' style='background-color: rgba(204, 204, 204, 0.675);'>n</span><span class='token' style='background-color: rgba(179, 226, 205, 0.675);'>o</span><span class='token' style='background-color: rgba(253, 205, 172, 0.675);'>t</span><span class='token' style='background-color: rgba(203, 213, 232, 0.675);'>&nbsp;</span><span class='token' style='background-color: rgba(244, 202, 228, 0.675);'>b</span><span class='token' style='background-color: rgba(230, 245, 201, 0.675);'>e</span><span class='token' style='background-color: rgba(255, 242, 174, 0.675);'>&nbsp;</span><span class='token' style='background-color: rgba(241, 226, 204, 0.675);'>s</span><span class='token' style='background-color: rgba(204, 204, 204, 0.675);'>o</span><span class='token' style='background-color: rgba(179, 226, 205, 0.675);'>&nbsp;</span><span class='token' style='background-color: rgba(253, 205, 172, 0.675);'>l</span><span class='token' style='background-color: rgba(203, 213, 232, 0.675);'>o</span><span class='token' style='background-color: rgba(244, 202, 228, 0.675);'>v</span><span class='token' style='background-color: rgba(230, 245, 201, 0.675);'>e</span><span class='token' style='background-color: rgba(255, 242, 174, 0.675);'>r</span><span class='token' style='background-color: rgba(241, 226, 204, 0.675);'>e</span><span class='token' style='background-color: rgba(204, 204, 204, 0.675);'>d</span><span class='token' style='background-color: rgba(179, 226, 205, 0.675);'>?</span><span class='token' style='background-color: rgba(253, 205, 172, 0.675);'><br></span><span class='token' style='background-color: rgba(179, 226, 205, 0.675);'>&nbsp;</span><span class='token' style='background-color: rgba(253, 205, 172, 0.675);'>&nbsp;</span><span class='token' style='background-color: rgba(203, 213, 232, 0.675);'>A</span><span class='token' style='background-color: rgba(244, 202, 228, 0.675);'>y</span><span class='token' style='background-color: rgba(230, 245, 201, 0.675);'>&nbsp;</span><span class='token' style='background-color: rgba(255, 242, 174, 0.675);'>m</span><span class='token' style='background-color: rgba(241, 226, 204, 0.675);'>e</span><span class='token' style='background-color: rgba(204, 204, 204, 0.675);'>,</span><span class='token' style='background-color: rgba(179, 226, 205, 0.675);'>&nbsp;</span><span class='token' style='background-color: rgba(253, 205, 172, 0.675);'>I</span><span class='token' style='background-color: rgba(203, 213, 232, 0.675);'>&nbsp;</span><span class='token' style='background-color: rgba(244, 202, 228, 0.675);'>f</span><span class='token' style='background-color: rgba(230, 245, 201, 0.675);'>e</span><span class='token' style='background-color: rgba(255, 242, 174, 0.675);'>l</span><span class='token' style='background-color: rgba(241, 226, 204, 0.675);'>l</span><span class='token' style='background-color: rgba(204, 204, 204, 0.675);'>,</span><span class='token' style='background-color: rgba(179, 226, 205, 0.675);'>&nbsp;</span><span class='token' style='background-color: rgba(253, 205, 172, 0.675);'>a</span><span class='token' style='background-color: rgba(203, 213, 232, 0.675);'>n</span><span class='token' style='background-color: rgba(244, 202, 228, 0.675);'>d</span><span class='token' style='background-color: rgba(230, 245, 201, 0.675);'>&nbsp;</span><span class='token' style='background-color: rgba(255, 242, 174, 0.675);'>y</span><span class='token' style='background-color: rgba(241, 226, 204, 0.675);'>e</span><span class='token' style='background-color: rgba(204, 204, 204, 0.675);'>t</span><span class='token' style='background-color: rgba(179, 226, 205, 0.675);'>&nbsp;</span><span class='token' style='background-color: rgba(253, 205, 172, 0.675);'>d</span><span class='token' style='background-color: rgba(203, 213, 232, 0.675);'>o</span><span class='token' style='background-color: rgba(244, 202, 228, 0.675);'>&nbsp;</span><span class='token' style='background-color: rgba(230, 245, 201, 0.675);'>q</span><span class='token' style='background-color: rgba(255, 242, 174, 0.675);'>u</span><span class='token' style='background-color: rgba(241, 226, 204, 0.675);'>e</span><span class='token' style='background-color: rgba(204, 204, 204, 0.675);'>s</span><span class='token' style='background-color: rgba(179, 226, 205, 0.675);'>t</span><span class='token' style='background-color: rgba(253, 205, 172, 0.675);'>i</span><span class='token' style='background-color: rgba(203, 213, 232, 0.675);'>o</span><span class='token' style='background-color: rgba(244, 202, 228, 0.675);'>n</span><span class='token' style='background-color: rgba(230, 245, 201, 0.675);'>&nbsp;</span><span class='token' style='background-color: rgba(255, 242, 174, 0.675);'>m</span><span class='token' style='background-color: rgba(241, 226, 204, 0.675);'>a</span><span class='token' style='background-color: rgba(204, 204, 204, 0.675);'>k</span><span class='token' style='background-color: rgba(179, 226, 205, 0.675);'>e</span><span class='token' style='background-color: rgba(253, 205, 172, 0.675);'><br></span><span class='token' style='background-color: rgba(179, 226, 205, 0.675);'>&nbsp;</span><span class='token' style='background-color: rgba(253, 205, 172, 0.675);'>&nbsp;</span><span class='token' style='background-color: rgba(203, 213, 232, 0.675);'>W</span><span class='token' style='background-color: rgba(244, 202, 228, 0.675);'>h</span><span class='token' style='background-color: rgba(230, 245, 201, 0.675);'>a</span><span class='token' style='background-color: rgba(255, 242, 174, 0.675);'>t</span><span class='token' style='background-color: rgba(241, 226, 204, 0.675);'>&nbsp;</span><span class='token' style='background-color: rgba(204, 204, 204, 0.675);'>I</span><span class='token' style='background-color: rgba(179, 226, 205, 0.675);'>&nbsp;</span><span class='token' style='background-color: rgba(253, 205, 172, 0.675);'>s</span><span class='token' style='background-color: rgba(203, 213, 232, 0.675);'>h</span><span class='token' style='background-color: rgba(244, 202, 228, 0.675);'>o</span><span class='token' style='background-color: rgba(230, 245, 201, 0.675);'>u</span><span class='token' style='background-color: rgba(255, 242, 174, 0.675);'>l</span><span class='token' style='background-color: rgba(241, 226, 204, 0.675);'>d</span><span class='token' style='background-color: rgba(204, 204, 204, 0.675);'>&nbsp;</span><span class='token' style='background-color: rgba(179, 226, 205, 0.675);'>d</span><span class='token' style='background-color: rgba(253, 205, 172, 0.675);'>o</span><span class='token' style='background-color: rgba(203, 213, 232, 0.675);'>&nbsp;</span><span class='token' style='background-color: rgba(244, 202, 228, 0.675);'>a</span><span class='token' style='background-color: rgba(230, 245, 201, 0.675);'>g</span><span class='token' style='background-color: rgba(255, 242, 174, 0.675);'>a</span><span class='token' style='background-color: rgba(241, 226, 204, 0.675);'>i</span><span class='token' style='background-color: rgba(204, 204, 204, 0.675);'>n</span><span class='token' style='background-color: rgba(179, 226, 205, 0.675);'>&nbsp;</span><span class='token' style='background-color: rgba(253, 205, 172, 0.675);'>f</span><span class='token' style='background-color: rgba(203, 213, 232, 0.675);'>o</span><span class='token' style='background-color: rgba(244, 202, 228, 0.675);'>r</span><span class='token' style='background-color: rgba(230, 245, 201, 0.675);'>&nbsp;</span><span class='token' style='background-color: rgba(255, 242, 174, 0.675);'>s</span><span class='token' style='background-color: rgba(241, 226, 204, 0.675);'>u</span><span class='token' style='background-color: rgba(204, 204, 204, 0.675);'>c</span><span class='token' style='background-color: rgba(179, 226, 205, 0.675);'>h</span><span class='token' style='background-color: rgba(253, 205, 172, 0.675);'>&nbsp;</span><span class='token' style='background-color: rgba(203, 213, 232, 0.675);'>a</span><span class='token' style='background-color: rgba(244, 202, 228, 0.675);'>&nbsp;</span><span class='token' style='background-color: rgba(230, 245, 201, 0.675);'>s</span><span class='token' style='background-color: rgba(255, 242, 174, 0.675);'>a</span><span class='token' style='background-color: rgba(241, 226, 204, 0.675);'>k</span><span class='token' style='background-color: rgba(204, 204, 204, 0.675);'>e</span><span class='token' style='background-color: rgba(179, 226, 205, 0.675);'>.</span><span class='token' style='background-color: rgba(253, 205, 172, 0.675);'><br></span></div>"
      ],
      "text/plain": [
       "<IPython.core.display.HTML object>"
      ]
     },
     "metadata": {},
     "output_type": "display_data"
    }
   ],
   "source": [
    "print(\"\\n... BPE TOKENIZATION:\")\n",
    "bpe_token_viz = TokenVisualization(\n",
    "    encoder=bpe_encoder,\n",
    "    decoder=bpe_decoder,\n",
    "    background_color=\"#FBFBFB\"\n",
    ")\n",
    "_ = bpe_token_viz.visualize(rcts_chunks[0], display_inline=True)\n",
    "\n",
    "print(\"\\n... UNIGRAM TOKENIZATION:\")\n",
    "uni_token_viz = TokenVisualization(\n",
    "    encoder=uni_encoder,\n",
    "    decoder=uni_decoder,\n",
    "    background_color=\"#FBFBFB\"\n",
    ")\n",
    "_ = uni_token_viz.visualize(rcts_chunks[0], display_inline=True)\n",
    "\n",
    "\n",
    "### FOR FUN AND VIZ ###\n",
    "print(\"\\n... CHAR TOKENIZATION:\")\n",
    "dumb_char_map_s2i = {x:i for i, x in enumerate(set(basic_chunks[0]))}\n",
    "dumb_char_map_i2s = {v:k for k,v in dumb_char_map_s2i.items()}\n",
    "char_token_viz = TokenVisualization(\n",
    "    encoder=lambda x: [dumb_char_map_s2i.get(_x) for _x in x] if type(x)==str else dumb_char_map_s2i.get(x),\n",
    "    decoder=lambda x: \"\".join([dumb_char_map_i2s.get(_x) for _x in x]) if type(x)==list else dumb_char_map_i2s.get(x),\n",
    "    background_color=\"#FBFBFB\"\n",
    ")\n",
    "_ = char_token_viz.visualize(basic_chunks[0], display_inline=True)"
   ]
  },
  {
   "cell_type": "markdown",
   "id": "28b78d20-17c7-4e7e-9f80-155aa86089cc",
   "metadata": {},
   "source": [
    "<br>\n",
    "\n",
    "<div align=\"center\">\n",
    "\n",
    "## 📊 Basic Exploratory Data Analysis (EDA) <a name=\"basic-eda\"></a>\n",
    "\n",
    "</div>\n",
    "\n",
    "<br>\n",
    "\n",
    "Here, we'll perform a basic EDA on the dataset to gain insights and identify potential issues. This analysis may include examining token frequency, distribution of chunk lengths, and other relevant characteristics. This information can be helpful in understanding the dataset's structure and guiding further preprocessing decisions.\n",
    "\n",
    "We will utilize the metadata columns we create to create different versions of the dataset:\n",
    "\n",
    "<br>\n",
    "\n",
    "<table>\n",
    "  <thead>\n",
    "    <tr>\n",
    "      <th style=\"text-align: center; font-weight: bold; width: 15%;\">Version</th>\n",
    "      <th style=\"text-align: center; font-weight: bold; width: 85%;\">Description</th>\n",
    "    </tr>\n",
    "  </thead>\n",
    "  <tbody>\n",
    "    <tr>\n",
    "      <td style=\"text-align: center;\"><strong>v1</strong></td>\n",
    "        <td>No filtering, no chunks removed. We just generate metadata and (optional) prepend a <b>[CLS]</b> token to every chunk.</td>\n",
    "    </tr>\n",
    "    <tr>\n",
    "      <td style=\"text-align: center;\"><strong>v2</strong></td>\n",
    "      <td>Split into individual datasets for bpe, unigram within each chunking technique (4 datasets total)<br>Rename columns to not specify tokenization method to allow for more generalization across interaction</td>\n",
    "    </tr>\n",
    "    <tr>\n",
    "      <td style=\"text-align: center;\"><strong>v3</strong></td>\n",
    "      <td>Drop small chunks<br>Drop really big chunks</td>\n",
    "    </tr>\n",
    "    <tr>\n",
    "      <td style=\"text-align: center;\"><strong>v4</strong></td>\n",
    "      <td>Evenly pad/truncated tokenized sequences up to reasonable length (close to max length --> 90th percentile?)</td>\n",
    "    </tr>\n",
    "  </tbody>\n",
    "</table>\n",
    "\n",
    "<br>\n",
    "\n"
   ]
  },
  {
   "cell_type": "code",
   "execution_count": 8,
   "id": "92289f97-bf0d-42bb-85c9-5ffeb3259694",
   "metadata": {},
   "outputs": [
    {
     "data": {
      "application/vnd.jupyter.widget-view+json": {
       "model_id": "c724360fc679419ab6a566eebed216a7",
       "version_major": 2,
       "version_minor": 0
      },
      "text/plain": [
       "  0%|          | 0/7770 [00:00<?, ?it/s]"
      ]
     },
     "metadata": {},
     "output_type": "display_data"
    },
    {
     "data": {
      "application/vnd.jupyter.widget-view+json": {
       "model_id": "874928cfe56e487f959384649a637613",
       "version_major": 2,
       "version_minor": 0
      },
      "text/plain": [
       "  0%|          | 0/7770 [00:00<?, ?it/s]"
      ]
     },
     "metadata": {},
     "output_type": "display_data"
    },
    {
     "data": {
      "application/vnd.jupyter.widget-view+json": {
       "model_id": "5264cb41f8934494beceefcee556aaf8",
       "version_major": 2,
       "version_minor": 0
      },
      "text/plain": [
       "  0%|          | 0/27818 [00:00<?, ?it/s]"
      ]
     },
     "metadata": {},
     "output_type": "display_data"
    },
    {
     "data": {
      "application/vnd.jupyter.widget-view+json": {
       "model_id": "b3943e082ede4f08b8a96664e26ab0c2",
       "version_major": 2,
       "version_minor": 0
      },
      "text/plain": [
       "  0%|          | 0/27818 [00:00<?, ?it/s]"
      ]
     },
     "metadata": {},
     "output_type": "display_data"
    }
   ],
   "source": [
    "# 1. Setup - Create directories if necessary    \n",
    "DATASET_DIR = os.path.join(DATA_PATH, \"datasets\")\n",
    "if not os.path.isdir(DATASET_DIR): os.makedirs(DATASET_DIR, exist_ok=True)\n",
    "META_DIR = os.path.join(DATASET_DIR, \"meta\")\n",
    "if not os.path.isdir(META_DIR): os.makedirs(META_DIR, exist_ok=True)\n",
    "\n",
    "\n",
    "# 2. Dataframe and metadata creation\n",
    "#       - Instantiate\n",
    "#       - Create metadata columns\n",
    "#       - Create metadata dataframe (optional)\n",
    "basic_chunk_df = pd.DataFrame({\"content\":basic_chunks})\n",
    "rcts_chunk_df = pd.DataFrame({\"content\":rcts_chunks})\n",
    "\n",
    "for _df in [basic_chunk_df, rcts_chunk_df]:\n",
    "    if PREPEND_CLS: _df[\"content\"] = \"[CLS] \"+_df[\"content\"]\n",
    "    _df[\"uni_token_content\"] = _df[\"content\"].progress_apply(lambda x: tokenize(x, uni_encoder))\n",
    "    _df[\"bpe_token_content\"] = _df[\"content\"].progress_apply(lambda x: tokenize(x, bpe_encoder))\n",
    "    _df[\"n_uni_tokens\"] = _df[\"uni_token_content\"].apply(get_n_tokens)\n",
    "    _df[\"n_bpe_tokens\"] = _df[\"bpe_token_content\"].apply(get_n_tokens)\n",
    "    _df[\"n_chars\"] = _df[\"content\"].apply(get_n_chars)\n",
    "    _df[\"n_lines\"] = _df[\"content\"].apply(get_n_lines)\n",
    "    _df[\"valid_uni_chunk\"] = _df[\"n_uni_tokens\"].apply(check_chunks)\n",
    "    _df[\"valid_bpe_chunk\"] = _df[\"n_bpe_tokens\"].apply(check_chunks)\n",
    "\n",
    "basic_chunk_df_meta = get_metadata_df(basic_chunk_df)\n",
    "rcts_chunk_df_meta = get_metadata_df(rcts_chunk_df)\n",
    "\n",
    "\n",
    "# 3. Versioning\n",
    "    \n",
    "######################################## v1 ########################################\n",
    "# Save the previously created datasets along with the manually created metadata\n",
    "####################################################################################\n",
    "save_ds_version(rcts_chunk_df, \"rcts\", version_str=\"v1\", meta_dir=META_DIR, ds_dir=DATASET_DIR, meta_df=rcts_chunk_df_meta)\n",
    "save_ds_version(basic_chunk_df, \"basic\", version_str=\"v1\", meta_dir=META_DIR, ds_dir=DATASET_DIR, meta_df=basic_chunk_df_meta)\n",
    "####################################################################################\n",
    "\n",
    "######################################## v2 ########################################\n",
    "# Split bpe and unigram into their own dataframes (meta is generated automatically)\n",
    "####################################################################################\n",
    "rcts_uni_chunk_df = rcts_chunk_df.copy().drop(columns=[_c for _c in rcts_chunk_df.columns if \"bpe\" in _c])\n",
    "basic_uni_chunk_df = basic_chunk_df.copy().drop(columns=[_c for _c in basic_chunk_df.columns if \"bpe\" in _c])\n",
    "rcts_bpe_chunk_df = rcts_chunk_df.copy().drop(columns=[_c for _c in rcts_chunk_df.columns if \"uni\" in _c])\n",
    "basic_bpe_chunk_df = basic_chunk_df.copy().drop(columns=[_c for _c in basic_chunk_df.columns if \"uni\" in _c])\n",
    "\n",
    "# Rename columns\n",
    "rcts_uni_chunk_df = drop_str_from_col_names(rcts_uni_chunk_df, \"uni\")\n",
    "rcts_bpe_chunk_df = drop_str_from_col_names(rcts_bpe_chunk_df, \"bpe\")\n",
    "basic_uni_chunk_df = drop_str_from_col_names(basic_uni_chunk_df, \"uni\")\n",
    "basic_bpe_chunk_df = drop_str_from_col_names(basic_bpe_chunk_df, \"bpe\")\n",
    "\n",
    "save_ds_version(rcts_uni_chunk_df, \"rcts_uni\", version_str=\"v2\", meta_dir=META_DIR, ds_dir=DATASET_DIR)\n",
    "save_ds_version(rcts_bpe_chunk_df, \"rcts_bpe\", version_str=\"v2\", meta_dir=META_DIR, ds_dir=DATASET_DIR)\n",
    "save_ds_version(basic_uni_chunk_df, \"basic_uni\", version_str=\"v2\", meta_dir=META_DIR, ds_dir=DATASET_DIR)\n",
    "save_ds_version(basic_bpe_chunk_df, \"basic_bpe\", version_str=\"v2\", meta_dir=META_DIR, ds_dir=DATASET_DIR)\n",
    "####################################################################################\n",
    "\n",
    "######################################## v3 ########################################\n",
    "# Filtering (big and little get dropped)\n",
    "####################################################################################\n",
    "\n",
    "# Filter and drop valid chunk col (bit more code due to the inplace problem)\n",
    "for _df in [rcts_uni_chunk_df, rcts_bpe_chunk_df, basic_uni_chunk_df, basic_bpe_chunk_df]:\n",
    "    _df.drop(_df[_df.valid_chunk == False].index, inplace=True)\n",
    "    _df.drop(columns=[\"valid_chunk\"], inplace=True)\n",
    "    _df.reset_index(drop=True, inplace=True)\n",
    "    \n",
    "# Save\n",
    "save_ds_version(rcts_uni_chunk_df, \"rcts_uni\", version_str=\"v3\", meta_dir=META_DIR, ds_dir=DATASET_DIR)\n",
    "save_ds_version(rcts_bpe_chunk_df, \"rcts_bpe\", version_str=\"v3\", meta_dir=META_DIR, ds_dir=DATASET_DIR)\n",
    "save_ds_version(basic_uni_chunk_df, \"basic_uni\", version_str=\"v3\", meta_dir=META_DIR, ds_dir=DATASET_DIR)\n",
    "save_ds_version(basic_bpe_chunk_df, \"basic_bpe\", version_str=\"v3\", meta_dir=META_DIR, ds_dir=DATASET_DIR)\n",
    "####################################################################################\n",
    "\n",
    "# ######################################## v4 ########################################\n",
    "# # Padding and truncation --> basic upper limit of 384 (assuming context lengths of 64-128)\n",
    "# ####################################################################################\n",
    "FIXED_CHUNK_SIZE = 384\n",
    "\n",
    "for _df in [rcts_uni_chunk_df, rcts_bpe_chunk_df, basic_uni_chunk_df, basic_bpe_chunk_df]:\n",
    "    _df[\"token_content\"] = _df[\"token_content\"].apply(lambda x: pad_truncate_centered(x, FIXED_CHUNK_SIZE))\n",
    "\n",
    "save_ds_version(rcts_uni_chunk_df, \"rcts_uni\", version_str=\"v4\", meta_dir=META_DIR, ds_dir=DATASET_DIR)\n",
    "save_ds_version(rcts_bpe_chunk_df, \"rcts_bpe\", version_str=\"v4\", meta_dir=META_DIR, ds_dir=DATASET_DIR)\n",
    "save_ds_version(basic_uni_chunk_df, \"basic_uni\", version_str=\"v4\", meta_dir=META_DIR, ds_dir=DATASET_DIR)\n",
    "save_ds_version(basic_bpe_chunk_df, \"basic_bpe\", version_str=\"v4\", meta_dir=META_DIR, ds_dir=DATASET_DIR)\n",
    "# ####################################################################################"
   ]
  },
  {
   "cell_type": "markdown",
   "id": "e0aabee3-7e10-4898-906b-9d663529afca",
   "metadata": {},
   "source": [
    "<br>\n",
    "\n",
    "<div align=\"center\">\n",
    "\n",
    "## 💾 Converting to TFRecords <a name=\"converting-to-tfrecords\"></a>\n",
    "\n",
    "</div>\n",
    "\n",
    "<br>\n",
    "\n",
    "Finally, after completing the preprocessing steps and EDA, we'll convert the toy dataset into the `TFRecords` format. This efficient binary format is designed for use with TensorFlow and will enable seamless integration with your Language Model training pipeline.\n",
    "\n"
   ]
  },
  {
   "cell_type": "code",
   "execution_count": 12,
   "id": "d462afc7-0760-4544-9455-86f22e9ebe7a",
   "metadata": {
    "tags": []
   },
   "outputs": [
    {
     "name": "stderr",
     "output_type": "stream",
     "text": [
      "Writing TFRecords:   0%|                                                                 | 0/269 [00:00<?, ?it/s]"
     ]
    },
    {
     "name": "stdout",
     "output_type": "stream",
     "text": [
      "\n",
      "... Writing TFRecord 1 of 269 (100 per TFRecord)...\n",
      "\n"
     ]
    },
    {
     "name": "stderr",
     "output_type": "stream",
     "text": [
      "\n",
      "100%|███████████████████████████████████████████████████████████████████████| 100/100 [00:00<00:00, 10707.68it/s]\u001b[A\n"
     ]
    },
    {
     "name": "stdout",
     "output_type": "stream",
     "text": [
      "\n",
      "... Writing TFRecord 2 of 269 (100 per TFRecord)...\n",
      "\n"
     ]
    },
    {
     "name": "stderr",
     "output_type": "stream",
     "text": [
      "\n",
      "100%|███████████████████████████████████████████████████████████████████████| 100/100 [00:00<00:00, 11803.64it/s]\u001b[A\n"
     ]
    },
    {
     "name": "stdout",
     "output_type": "stream",
     "text": [
      "\n",
      "... Writing TFRecord 3 of 269 (100 per TFRecord)...\n",
      "\n"
     ]
    },
    {
     "name": "stderr",
     "output_type": "stream",
     "text": [
      "\n",
      "100%|███████████████████████████████████████████████████████████████████████| 100/100 [00:00<00:00, 13487.38it/s]\u001b[A\n"
     ]
    },
    {
     "name": "stdout",
     "output_type": "stream",
     "text": [
      "\n",
      "... Writing TFRecord 4 of 269 (100 per TFRecord)...\n",
      "\n"
     ]
    },
    {
     "name": "stderr",
     "output_type": "stream",
     "text": [
      "\n",
      "100%|███████████████████████████████████████████████████████████████████████| 100/100 [00:00<00:00, 12320.61it/s]\u001b[A\n"
     ]
    },
    {
     "name": "stdout",
     "output_type": "stream",
     "text": [
      "\n",
      "... Writing TFRecord 5 of 269 (100 per TFRecord)...\n",
      "\n"
     ]
    },
    {
     "name": "stderr",
     "output_type": "stream",
     "text": [
      "\n",
      "100%|███████████████████████████████████████████████████████████████████████| 100/100 [00:00<00:00, 12225.44it/s]\u001b[A\n"
     ]
    },
    {
     "name": "stdout",
     "output_type": "stream",
     "text": [
      "\n",
      "... Writing TFRecord 6 of 269 (100 per TFRecord)...\n",
      "\n"
     ]
    },
    {
     "name": "stderr",
     "output_type": "stream",
     "text": [
      "\n",
      "100%|███████████████████████████████████████████████████████████████████████| 100/100 [00:00<00:00, 13067.18it/s]\u001b[A\n"
     ]
    },
    {
     "name": "stdout",
     "output_type": "stream",
     "text": [
      "\n",
      "... Writing TFRecord 7 of 269 (100 per TFRecord)...\n",
      "\n"
     ]
    },
    {
     "name": "stderr",
     "output_type": "stream",
     "text": [
      "\n",
      "100%|███████████████████████████████████████████████████████████████████████| 100/100 [00:00<00:00, 13444.57it/s]\u001b[A\n"
     ]
    },
    {
     "name": "stdout",
     "output_type": "stream",
     "text": [
      "\n",
      "... Writing TFRecord 8 of 269 (100 per TFRecord)...\n",
      "\n"
     ]
    },
    {
     "name": "stderr",
     "output_type": "stream",
     "text": [
      "\n",
      "100%|███████████████████████████████████████████████████████████████████████| 100/100 [00:00<00:00, 13524.78it/s]\u001b[A\n",
      "Writing TFRecords:   3%|█▋                                                       | 8/269 [00:00<00:03, 78.62it/s]"
     ]
    },
    {
     "name": "stdout",
     "output_type": "stream",
     "text": [
      "\n",
      "... Writing TFRecord 9 of 269 (100 per TFRecord)...\n",
      "\n"
     ]
    },
    {
     "name": "stderr",
     "output_type": "stream",
     "text": [
      "\n",
      "100%|███████████████████████████████████████████████████████████████████████| 100/100 [00:00<00:00, 13692.11it/s]\u001b[A\n"
     ]
    },
    {
     "name": "stdout",
     "output_type": "stream",
     "text": [
      "\n",
      "... Writing TFRecord 10 of 269 (100 per TFRecord)...\n",
      "\n"
     ]
    },
    {
     "name": "stderr",
     "output_type": "stream",
     "text": [
      "\n",
      "100%|███████████████████████████████████████████████████████████████████████| 100/100 [00:00<00:00, 12768.83it/s]\u001b[A\n"
     ]
    },
    {
     "name": "stdout",
     "output_type": "stream",
     "text": [
      "\n",
      "... Writing TFRecord 11 of 269 (100 per TFRecord)...\n",
      "\n"
     ]
    },
    {
     "name": "stderr",
     "output_type": "stream",
     "text": [
      "\n",
      "100%|███████████████████████████████████████████████████████████████████████| 100/100 [00:00<00:00, 13631.15it/s]\u001b[A\n"
     ]
    },
    {
     "name": "stdout",
     "output_type": "stream",
     "text": [
      "\n",
      "... Writing TFRecord 12 of 269 (100 per TFRecord)...\n",
      "\n"
     ]
    },
    {
     "name": "stderr",
     "output_type": "stream",
     "text": [
      "\n",
      "100%|███████████████████████████████████████████████████████████████████████| 100/100 [00:00<00:00, 13006.80it/s]\u001b[A\n"
     ]
    },
    {
     "name": "stdout",
     "output_type": "stream",
     "text": [
      "\n",
      "... Writing TFRecord 13 of 269 (100 per TFRecord)...\n",
      "\n"
     ]
    },
    {
     "name": "stderr",
     "output_type": "stream",
     "text": [
      "\n",
      "100%|███████████████████████████████████████████████████████████████████████| 100/100 [00:00<00:00, 13902.23it/s]\u001b[A\n"
     ]
    },
    {
     "name": "stdout",
     "output_type": "stream",
     "text": [
      "\n",
      "... Writing TFRecord 14 of 269 (100 per TFRecord)...\n",
      "\n"
     ]
    },
    {
     "name": "stderr",
     "output_type": "stream",
     "text": [
      "\n",
      "100%|███████████████████████████████████████████████████████████████████████| 100/100 [00:00<00:00, 12305.79it/s]\u001b[A\n"
     ]
    },
    {
     "name": "stdout",
     "output_type": "stream",
     "text": [
      "\n",
      "... Writing TFRecord 15 of 269 (100 per TFRecord)...\n",
      "\n"
     ]
    },
    {
     "name": "stderr",
     "output_type": "stream",
     "text": [
      "\n",
      "100%|███████████████████████████████████████████████████████████████████████| 100/100 [00:00<00:00, 12945.78it/s]\u001b[A\n"
     ]
    },
    {
     "name": "stdout",
     "output_type": "stream",
     "text": [
      "\n",
      "... Writing TFRecord 16 of 269 (100 per TFRecord)...\n",
      "\n"
     ]
    },
    {
     "name": "stderr",
     "output_type": "stream",
     "text": [
      "\n",
      "100%|███████████████████████████████████████████████████████████████████████| 100/100 [00:00<00:00, 12519.19it/s]\u001b[A\n"
     ]
    },
    {
     "name": "stdout",
     "output_type": "stream",
     "text": [
      "\n",
      "... Writing TFRecord 17 of 269 (100 per TFRecord)...\n",
      "\n"
     ]
    },
    {
     "name": "stderr",
     "output_type": "stream",
     "text": [
      "\n",
      "100%|███████████████████████████████████████████████████████████████████████| 100/100 [00:00<00:00, 13859.51it/s]\u001b[A\n",
      "Writing TFRecords:   6%|███▌                                                    | 17/269 [00:00<00:03, 83.38it/s]"
     ]
    },
    {
     "name": "stdout",
     "output_type": "stream",
     "text": [
      "\n",
      "... Writing TFRecord 18 of 269 (100 per TFRecord)...\n",
      "\n"
     ]
    },
    {
     "name": "stderr",
     "output_type": "stream",
     "text": [
      "\n",
      "100%|███████████████████████████████████████████████████████████████████████| 100/100 [00:00<00:00, 13534.82it/s]\u001b[A\n"
     ]
    },
    {
     "name": "stdout",
     "output_type": "stream",
     "text": [
      "\n",
      "... Writing TFRecord 19 of 269 (100 per TFRecord)...\n",
      "\n"
     ]
    },
    {
     "name": "stderr",
     "output_type": "stream",
     "text": [
      "\n",
      "100%|███████████████████████████████████████████████████████████████████████| 100/100 [00:00<00:00, 12960.18it/s]\u001b[A\n"
     ]
    },
    {
     "name": "stdout",
     "output_type": "stream",
     "text": [
      "\n",
      "... Writing TFRecord 20 of 269 (100 per TFRecord)...\n",
      "\n"
     ]
    },
    {
     "name": "stderr",
     "output_type": "stream",
     "text": [
      "\n",
      "100%|███████████████████████████████████████████████████████████████████████| 100/100 [00:00<00:00, 12675.06it/s]\u001b[A\n"
     ]
    },
    {
     "name": "stdout",
     "output_type": "stream",
     "text": [
      "\n",
      "... Writing TFRecord 21 of 269 (100 per TFRecord)...\n",
      "\n"
     ]
    },
    {
     "name": "stderr",
     "output_type": "stream",
     "text": [
      "\n",
      "100%|███████████████████████████████████████████████████████████████████████| 100/100 [00:00<00:00, 11844.64it/s]\u001b[A\n"
     ]
    },
    {
     "name": "stdout",
     "output_type": "stream",
     "text": [
      "\n",
      "... Writing TFRecord 22 of 269 (100 per TFRecord)...\n",
      "\n"
     ]
    },
    {
     "name": "stderr",
     "output_type": "stream",
     "text": [
      "\n",
      "100%|███████████████████████████████████████████████████████████████████████| 100/100 [00:00<00:00, 13436.82it/s]\u001b[A\n"
     ]
    },
    {
     "name": "stdout",
     "output_type": "stream",
     "text": [
      "\n",
      "... Writing TFRecord 23 of 269 (100 per TFRecord)...\n",
      "\n"
     ]
    },
    {
     "name": "stderr",
     "output_type": "stream",
     "text": [
      "\n",
      "100%|███████████████████████████████████████████████████████████████████████| 100/100 [00:00<00:00, 12507.62it/s]\u001b[A\n"
     ]
    },
    {
     "name": "stdout",
     "output_type": "stream",
     "text": [
      "\n",
      "... Writing TFRecord 24 of 269 (100 per TFRecord)...\n",
      "\n"
     ]
    },
    {
     "name": "stderr",
     "output_type": "stream",
     "text": [
      "\n",
      "100%|███████████████████████████████████████████████████████████████████████| 100/100 [00:00<00:00, 12808.21it/s]\u001b[A\n"
     ]
    },
    {
     "name": "stdout",
     "output_type": "stream",
     "text": [
      "\n",
      "... Writing TFRecord 25 of 269 (100 per TFRecord)...\n",
      "\n"
     ]
    },
    {
     "name": "stderr",
     "output_type": "stream",
     "text": [
      "\n",
      "100%|███████████████████████████████████████████████████████████████████████| 100/100 [00:00<00:00, 14165.64it/s]\u001b[A\n"
     ]
    },
    {
     "name": "stdout",
     "output_type": "stream",
     "text": [
      "\n",
      "... Writing TFRecord 26 of 269 (100 per TFRecord)...\n",
      "\n"
     ]
    },
    {
     "name": "stderr",
     "output_type": "stream",
     "text": [
      "\n",
      "100%|███████████████████████████████████████████████████████████████████████| 100/100 [00:00<00:00, 13103.51it/s]\u001b[A\n",
      "Writing TFRecords:  10%|█████▍                                                  | 26/269 [00:00<00:02, 83.72it/s]"
     ]
    },
    {
     "name": "stdout",
     "output_type": "stream",
     "text": [
      "\n",
      "... Writing TFRecord 27 of 269 (100 per TFRecord)...\n",
      "\n"
     ]
    },
    {
     "name": "stderr",
     "output_type": "stream",
     "text": [
      "\n",
      "100%|███████████████████████████████████████████████████████████████████████| 100/100 [00:00<00:00, 12441.21it/s]\u001b[A\n"
     ]
    },
    {
     "name": "stdout",
     "output_type": "stream",
     "text": [
      "\n",
      "... Writing TFRecord 28 of 269 (100 per TFRecord)...\n",
      "\n"
     ]
    },
    {
     "name": "stderr",
     "output_type": "stream",
     "text": [
      "\n",
      "100%|███████████████████████████████████████████████████████████████████████| 100/100 [00:00<00:00, 13127.71it/s]\u001b[A\n"
     ]
    },
    {
     "name": "stdout",
     "output_type": "stream",
     "text": [
      "\n",
      "... Writing TFRecord 29 of 269 (100 per TFRecord)...\n",
      "\n"
     ]
    },
    {
     "name": "stderr",
     "output_type": "stream",
     "text": [
      "\n",
      "100%|███████████████████████████████████████████████████████████████████████| 100/100 [00:00<00:00, 13921.61it/s]\u001b[A\n"
     ]
    },
    {
     "name": "stdout",
     "output_type": "stream",
     "text": [
      "\n",
      "... Writing TFRecord 30 of 269 (100 per TFRecord)...\n",
      "\n"
     ]
    },
    {
     "name": "stderr",
     "output_type": "stream",
     "text": [
      "\n",
      "100%|███████████████████████████████████████████████████████████████████████| 100/100 [00:00<00:00, 12400.38it/s]\u001b[A\n"
     ]
    },
    {
     "name": "stdout",
     "output_type": "stream",
     "text": [
      "\n",
      "... Writing TFRecord 31 of 269 (100 per TFRecord)...\n",
      "\n"
     ]
    },
    {
     "name": "stderr",
     "output_type": "stream",
     "text": [
      "\n",
      "100%|███████████████████████████████████████████████████████████████████████| 100/100 [00:00<00:00, 12097.09it/s]\u001b[A\n"
     ]
    },
    {
     "name": "stdout",
     "output_type": "stream",
     "text": [
      "\n",
      "... Writing TFRecord 32 of 269 (100 per TFRecord)...\n",
      "\n"
     ]
    },
    {
     "name": "stderr",
     "output_type": "stream",
     "text": [
      "\n",
      "100%|███████████████████████████████████████████████████████████████████████| 100/100 [00:00<00:00, 13509.53it/s]\u001b[A\n"
     ]
    },
    {
     "name": "stdout",
     "output_type": "stream",
     "text": [
      "\n",
      "... Writing TFRecord 33 of 269 (100 per TFRecord)...\n",
      "\n"
     ]
    },
    {
     "name": "stderr",
     "output_type": "stream",
     "text": [
      "\n",
      "100%|███████████████████████████████████████████████████████████████████████| 100/100 [00:00<00:00, 14111.78it/s]\u001b[A\n"
     ]
    },
    {
     "name": "stdout",
     "output_type": "stream",
     "text": [
      "\n",
      "... Writing TFRecord 34 of 269 (100 per TFRecord)...\n",
      "\n"
     ]
    },
    {
     "name": "stderr",
     "output_type": "stream",
     "text": [
      "\n",
      "100%|███████████████████████████████████████████████████████████████████████| 100/100 [00:00<00:00, 14630.61it/s]\u001b[A"
     ]
    },
    {
     "name": "stdout",
     "output_type": "stream",
     "text": [
      "\n",
      "... Writing TFRecord 35 of 269 (100 per TFRecord)...\n",
      "\n"
     ]
    },
    {
     "name": "stderr",
     "output_type": "stream",
     "text": [
      "\n",
      "\n",
      "100%|███████████████████████████████████████████████████████████████████████| 100/100 [00:00<00:00, 14296.49it/s]\u001b[A\n",
      "Writing TFRecords:  13%|███████▎                                                | 35/269 [00:00<00:02, 84.64it/s]"
     ]
    },
    {
     "name": "stdout",
     "output_type": "stream",
     "text": [
      "\n",
      "... Writing TFRecord 36 of 269 (100 per TFRecord)...\n",
      "\n"
     ]
    },
    {
     "name": "stderr",
     "output_type": "stream",
     "text": [
      "\n",
      "100%|███████████████████████████████████████████████████████████████████████| 100/100 [00:00<00:00, 14306.24it/s]\u001b[A\n"
     ]
    },
    {
     "name": "stdout",
     "output_type": "stream",
     "text": [
      "\n",
      "... Writing TFRecord 37 of 269 (100 per TFRecord)...\n",
      "\n"
     ]
    },
    {
     "name": "stderr",
     "output_type": "stream",
     "text": [
      "\n",
      "100%|███████████████████████████████████████████████████████████████████████| 100/100 [00:00<00:00, 14253.73it/s]\u001b[A\n"
     ]
    },
    {
     "name": "stdout",
     "output_type": "stream",
     "text": [
      "\n",
      "... Writing TFRecord 38 of 269 (100 per TFRecord)...\n",
      "\n"
     ]
    },
    {
     "name": "stderr",
     "output_type": "stream",
     "text": [
      "\n",
      "100%|███████████████████████████████████████████████████████████████████████| 100/100 [00:00<00:00, 13217.48it/s]\u001b[A\n"
     ]
    },
    {
     "name": "stdout",
     "output_type": "stream",
     "text": [
      "\n",
      "... Writing TFRecord 39 of 269 (100 per TFRecord)...\n",
      "\n"
     ]
    },
    {
     "name": "stderr",
     "output_type": "stream",
     "text": [
      "\n",
      "100%|███████████████████████████████████████████████████████████████████████| 100/100 [00:00<00:00, 12622.04it/s]\u001b[A\n"
     ]
    },
    {
     "name": "stdout",
     "output_type": "stream",
     "text": [
      "\n",
      "... Writing TFRecord 40 of 269 (100 per TFRecord)...\n",
      "\n"
     ]
    },
    {
     "name": "stderr",
     "output_type": "stream",
     "text": [
      "\n",
      "100%|███████████████████████████████████████████████████████████████████████| 100/100 [00:00<00:00, 12294.96it/s]\u001b[A\n"
     ]
    },
    {
     "name": "stdout",
     "output_type": "stream",
     "text": [
      "\n",
      "... Writing TFRecord 41 of 269 (100 per TFRecord)...\n",
      "\n"
     ]
    },
    {
     "name": "stderr",
     "output_type": "stream",
     "text": [
      "\n",
      "100%|███████████████████████████████████████████████████████████████████████| 100/100 [00:00<00:00, 12579.26it/s]\u001b[A\n"
     ]
    },
    {
     "name": "stdout",
     "output_type": "stream",
     "text": [
      "\n",
      "... Writing TFRecord 42 of 269 (100 per TFRecord)...\n",
      "\n"
     ]
    },
    {
     "name": "stderr",
     "output_type": "stream",
     "text": [
      "\n",
      "100%|███████████████████████████████████████████████████████████████████████| 100/100 [00:00<00:00, 13390.07it/s]\u001b[A\n"
     ]
    },
    {
     "name": "stdout",
     "output_type": "stream",
     "text": [
      "\n",
      "... Writing TFRecord 43 of 269 (100 per TFRecord)...\n",
      "\n"
     ]
    },
    {
     "name": "stderr",
     "output_type": "stream",
     "text": [
      "\n",
      "100%|███████████████████████████████████████████████████████████████████████| 100/100 [00:00<00:00, 12575.12it/s]\u001b[A\n"
     ]
    },
    {
     "name": "stdout",
     "output_type": "stream",
     "text": [
      "\n",
      "... Writing TFRecord 44 of 269 (100 per TFRecord)...\n",
      "\n"
     ]
    },
    {
     "name": "stderr",
     "output_type": "stream",
     "text": [
      "\n",
      "100%|███████████████████████████████████████████████████████████████████████| 100/100 [00:00<00:00, 11901.44it/s]\u001b[A\n",
      "Writing TFRecords:  16%|█████████▏                                              | 44/269 [00:00<00:02, 84.59it/s]"
     ]
    },
    {
     "name": "stdout",
     "output_type": "stream",
     "text": [
      "\n",
      "... Writing TFRecord 45 of 269 (100 per TFRecord)...\n",
      "\n"
     ]
    },
    {
     "name": "stderr",
     "output_type": "stream",
     "text": [
      "\n",
      "100%|███████████████████████████████████████████████████████████████████████| 100/100 [00:00<00:00, 11421.15it/s]\u001b[A\n"
     ]
    },
    {
     "name": "stdout",
     "output_type": "stream",
     "text": [
      "\n",
      "... Writing TFRecord 46 of 269 (100 per TFRecord)...\n",
      "\n"
     ]
    },
    {
     "name": "stderr",
     "output_type": "stream",
     "text": [
      "\n",
      "100%|███████████████████████████████████████████████████████████████████████| 100/100 [00:00<00:00, 12509.48it/s]\u001b[A\n"
     ]
    },
    {
     "name": "stdout",
     "output_type": "stream",
     "text": [
      "\n",
      "... Writing TFRecord 47 of 269 (100 per TFRecord)...\n",
      "\n"
     ]
    },
    {
     "name": "stderr",
     "output_type": "stream",
     "text": [
      "\n",
      "100%|███████████████████████████████████████████████████████████████████████| 100/100 [00:00<00:00, 13768.97it/s]\u001b[A\n"
     ]
    },
    {
     "name": "stdout",
     "output_type": "stream",
     "text": [
      "\n",
      "... Writing TFRecord 48 of 269 (100 per TFRecord)...\n",
      "\n"
     ]
    },
    {
     "name": "stderr",
     "output_type": "stream",
     "text": [
      "\n",
      "100%|███████████████████████████████████████████████████████████████████████| 100/100 [00:00<00:00, 12463.39it/s]\u001b[A\n"
     ]
    },
    {
     "name": "stdout",
     "output_type": "stream",
     "text": [
      "\n",
      "... Writing TFRecord 49 of 269 (100 per TFRecord)...\n",
      "\n"
     ]
    },
    {
     "name": "stderr",
     "output_type": "stream",
     "text": [
      "\n",
      "100%|███████████████████████████████████████████████████████████████████████| 100/100 [00:00<00:00, 12888.50it/s]\u001b[A\n"
     ]
    },
    {
     "name": "stdout",
     "output_type": "stream",
     "text": [
      "\n",
      "... Writing TFRecord 50 of 269 (100 per TFRecord)...\n",
      "\n"
     ]
    },
    {
     "name": "stderr",
     "output_type": "stream",
     "text": [
      "\n",
      "100%|███████████████████████████████████████████████████████████████████████| 100/100 [00:00<00:00, 12860.44it/s]\u001b[A\n"
     ]
    },
    {
     "name": "stdout",
     "output_type": "stream",
     "text": [
      "\n",
      "... Writing TFRecord 51 of 269 (100 per TFRecord)...\n",
      "\n"
     ]
    },
    {
     "name": "stderr",
     "output_type": "stream",
     "text": [
      "\n",
      "100%|███████████████████████████████████████████████████████████████████████| 100/100 [00:00<00:00, 12676.21it/s]\u001b[A\n"
     ]
    },
    {
     "name": "stdout",
     "output_type": "stream",
     "text": [
      "\n",
      "... Writing TFRecord 52 of 269 (100 per TFRecord)...\n",
      "\n"
     ]
    },
    {
     "name": "stderr",
     "output_type": "stream",
     "text": [
      "\n",
      "100%|███████████████████████████████████████████████████████████████████████| 100/100 [00:00<00:00, 11852.67it/s]\u001b[A\n"
     ]
    },
    {
     "name": "stdout",
     "output_type": "stream",
     "text": [
      "\n",
      "... Writing TFRecord 53 of 269 (100 per TFRecord)...\n",
      "\n"
     ]
    },
    {
     "name": "stderr",
     "output_type": "stream",
     "text": [
      "\n",
      "100%|███████████████████████████████████████████████████████████████████████| 100/100 [00:00<00:00, 12397.08it/s]\u001b[A\n",
      "Writing TFRecords:  20%|███████████                                             | 53/269 [00:00<00:02, 82.91it/s]"
     ]
    },
    {
     "name": "stdout",
     "output_type": "stream",
     "text": [
      "\n",
      "... Writing TFRecord 54 of 269 (100 per TFRecord)...\n",
      "\n"
     ]
    },
    {
     "name": "stderr",
     "output_type": "stream",
     "text": [
      "\n",
      "100%|███████████████████████████████████████████████████████████████████████| 100/100 [00:00<00:00, 12655.55it/s]\u001b[A\n"
     ]
    },
    {
     "name": "stdout",
     "output_type": "stream",
     "text": [
      "\n",
      "... Writing TFRecord 55 of 269 (100 per TFRecord)...\n",
      "\n"
     ]
    },
    {
     "name": "stderr",
     "output_type": "stream",
     "text": [
      "\n",
      "100%|███████████████████████████████████████████████████████████████████████| 100/100 [00:00<00:00, 12796.49it/s]\u001b[A\n"
     ]
    },
    {
     "name": "stdout",
     "output_type": "stream",
     "text": [
      "\n",
      "... Writing TFRecord 56 of 269 (100 per TFRecord)...\n",
      "\n"
     ]
    },
    {
     "name": "stderr",
     "output_type": "stream",
     "text": [
      "\n",
      "100%|███████████████████████████████████████████████████████████████████████| 100/100 [00:00<00:00, 12352.90it/s]\u001b[A\n"
     ]
    },
    {
     "name": "stdout",
     "output_type": "stream",
     "text": [
      "\n",
      "... Writing TFRecord 57 of 269 (100 per TFRecord)...\n",
      "\n"
     ]
    },
    {
     "name": "stderr",
     "output_type": "stream",
     "text": [
      "\n",
      "100%|███████████████████████████████████████████████████████████████████████| 100/100 [00:00<00:00, 12500.91it/s]\u001b[A\n"
     ]
    },
    {
     "name": "stdout",
     "output_type": "stream",
     "text": [
      "\n",
      "... Writing TFRecord 58 of 269 (100 per TFRecord)...\n",
      "\n"
     ]
    },
    {
     "name": "stderr",
     "output_type": "stream",
     "text": [
      "\n",
      "100%|███████████████████████████████████████████████████████████████████████| 100/100 [00:00<00:00, 13117.86it/s]\u001b[A\n"
     ]
    },
    {
     "name": "stdout",
     "output_type": "stream",
     "text": [
      "\n",
      "... Writing TFRecord 59 of 269 (100 per TFRecord)...\n",
      "\n"
     ]
    },
    {
     "name": "stderr",
     "output_type": "stream",
     "text": [
      "\n",
      "100%|███████████████████████████████████████████████████████████████████████| 100/100 [00:00<00:00, 13355.53it/s]\u001b[A\n"
     ]
    },
    {
     "name": "stdout",
     "output_type": "stream",
     "text": [
      "\n",
      "... Writing TFRecord 60 of 269 (100 per TFRecord)...\n",
      "\n"
     ]
    },
    {
     "name": "stderr",
     "output_type": "stream",
     "text": [
      "\n",
      "100%|███████████████████████████████████████████████████████████████████████| 100/100 [00:00<00:00, 12937.80it/s]\u001b[A\n"
     ]
    },
    {
     "name": "stdout",
     "output_type": "stream",
     "text": [
      "\n",
      "... Writing TFRecord 61 of 269 (100 per TFRecord)...\n",
      "\n"
     ]
    },
    {
     "name": "stderr",
     "output_type": "stream",
     "text": [
      "\n",
      "100%|███████████████████████████████████████████████████████████████████████| 100/100 [00:00<00:00, 12609.90it/s]\u001b[A\n"
     ]
    },
    {
     "name": "stdout",
     "output_type": "stream",
     "text": [
      "\n",
      "... Writing TFRecord 62 of 269 (100 per TFRecord)...\n",
      "\n"
     ]
    },
    {
     "name": "stderr",
     "output_type": "stream",
     "text": [
      "\n",
      "100%|███████████████████████████████████████████████████████████████████████| 100/100 [00:00<00:00, 12275.53it/s]\u001b[A\n",
      "Writing TFRecords:  23%|████████████▉                                           | 62/269 [00:00<00:02, 82.48it/s]"
     ]
    },
    {
     "name": "stdout",
     "output_type": "stream",
     "text": [
      "\n",
      "... Writing TFRecord 63 of 269 (100 per TFRecord)...\n",
      "\n"
     ]
    },
    {
     "name": "stderr",
     "output_type": "stream",
     "text": [
      "\n",
      "100%|████████████████████████████████████████████████████████████████████████| 100/100 [00:00<00:00, 8310.49it/s]\u001b[A\n"
     ]
    },
    {
     "name": "stdout",
     "output_type": "stream",
     "text": [
      "\n",
      "... Writing TFRecord 64 of 269 (100 per TFRecord)...\n",
      "\n"
     ]
    },
    {
     "name": "stderr",
     "output_type": "stream",
     "text": [
      "\n",
      "100%|███████████████████████████████████████████████████████████████████████| 100/100 [00:00<00:00, 10884.12it/s]\u001b[A\n"
     ]
    },
    {
     "name": "stdout",
     "output_type": "stream",
     "text": [
      "\n",
      "... Writing TFRecord 65 of 269 (100 per TFRecord)...\n",
      "\n"
     ]
    },
    {
     "name": "stderr",
     "output_type": "stream",
     "text": [
      "\n",
      "100%|███████████████████████████████████████████████████████████████████████| 100/100 [00:00<00:00, 11629.20it/s]\u001b[A\n"
     ]
    },
    {
     "name": "stdout",
     "output_type": "stream",
     "text": [
      "\n",
      "... Writing TFRecord 66 of 269 (100 per TFRecord)...\n",
      "\n"
     ]
    },
    {
     "name": "stderr",
     "output_type": "stream",
     "text": [
      "\n",
      "100%|███████████████████████████████████████████████████████████████████████| 100/100 [00:00<00:00, 11570.49it/s]\u001b[A\n"
     ]
    },
    {
     "name": "stdout",
     "output_type": "stream",
     "text": [
      "\n",
      "... Writing TFRecord 67 of 269 (100 per TFRecord)...\n",
      "\n"
     ]
    },
    {
     "name": "stderr",
     "output_type": "stream",
     "text": [
      "\n",
      "100%|███████████████████████████████████████████████████████████████████████| 100/100 [00:00<00:00, 11231.53it/s]\u001b[A\n"
     ]
    },
    {
     "name": "stdout",
     "output_type": "stream",
     "text": [
      "\n",
      "... Writing TFRecord 68 of 269 (100 per TFRecord)...\n",
      "\n"
     ]
    },
    {
     "name": "stderr",
     "output_type": "stream",
     "text": [
      "\n",
      "100%|███████████████████████████████████████████████████████████████████████| 100/100 [00:00<00:00, 11146.47it/s]\u001b[A\n"
     ]
    },
    {
     "name": "stdout",
     "output_type": "stream",
     "text": [
      "\n",
      "... Writing TFRecord 69 of 269 (100 per TFRecord)...\n",
      "\n"
     ]
    },
    {
     "name": "stderr",
     "output_type": "stream",
     "text": [
      "\n",
      "100%|███████████████████████████████████████████████████████████████████████| 100/100 [00:00<00:00, 10803.38it/s]\u001b[A\n"
     ]
    },
    {
     "name": "stdout",
     "output_type": "stream",
     "text": [
      "\n",
      "... Writing TFRecord 70 of 269 (100 per TFRecord)...\n",
      "\n"
     ]
    },
    {
     "name": "stderr",
     "output_type": "stream",
     "text": [
      "\n",
      "100%|███████████████████████████████████████████████████████████████████████| 100/100 [00:00<00:00, 12832.50it/s]\u001b[A\n"
     ]
    },
    {
     "name": "stdout",
     "output_type": "stream",
     "text": [
      "\n",
      "... Writing TFRecord 71 of 269 (100 per TFRecord)...\n",
      "\n"
     ]
    },
    {
     "name": "stderr",
     "output_type": "stream",
     "text": [
      "\n",
      "100%|███████████████████████████████████████████████████████████████████████| 100/100 [00:00<00:00, 12630.02it/s]\u001b[A\n",
      "Writing TFRecords:  26%|██████████████▊                                         | 71/269 [00:00<00:02, 79.91it/s]"
     ]
    },
    {
     "name": "stdout",
     "output_type": "stream",
     "text": [
      "\n",
      "... Writing TFRecord 72 of 269 (100 per TFRecord)...\n",
      "\n"
     ]
    },
    {
     "name": "stderr",
     "output_type": "stream",
     "text": [
      "\n",
      "100%|███████████████████████████████████████████████████████████████████████| 100/100 [00:00<00:00, 12350.35it/s]\u001b[A\n"
     ]
    },
    {
     "name": "stdout",
     "output_type": "stream",
     "text": [
      "\n",
      "... Writing TFRecord 73 of 269 (100 per TFRecord)...\n",
      "\n"
     ]
    },
    {
     "name": "stderr",
     "output_type": "stream",
     "text": [
      "\n",
      "100%|███████████████████████████████████████████████████████████████████████| 100/100 [00:00<00:00, 11163.67it/s]\u001b[A\n"
     ]
    },
    {
     "name": "stdout",
     "output_type": "stream",
     "text": [
      "\n",
      "... Writing TFRecord 74 of 269 (100 per TFRecord)...\n",
      "\n"
     ]
    },
    {
     "name": "stderr",
     "output_type": "stream",
     "text": [
      "\n",
      "100%|███████████████████████████████████████████████████████████████████████| 100/100 [00:00<00:00, 10874.24it/s]\u001b[A\n"
     ]
    },
    {
     "name": "stdout",
     "output_type": "stream",
     "text": [
      "\n",
      "... Writing TFRecord 75 of 269 (100 per TFRecord)...\n",
      "\n"
     ]
    },
    {
     "name": "stderr",
     "output_type": "stream",
     "text": [
      "\n",
      "100%|███████████████████████████████████████████████████████████████████████| 100/100 [00:00<00:00, 10861.85it/s]\u001b[A\n"
     ]
    },
    {
     "name": "stdout",
     "output_type": "stream",
     "text": [
      "\n",
      "... Writing TFRecord 76 of 269 (100 per TFRecord)...\n",
      "\n"
     ]
    },
    {
     "name": "stderr",
     "output_type": "stream",
     "text": [
      "\n",
      "100%|███████████████████████████████████████████████████████████████████████| 100/100 [00:00<00:00, 10194.95it/s]\u001b[A\n"
     ]
    },
    {
     "name": "stdout",
     "output_type": "stream",
     "text": [
      "\n",
      "... Writing TFRecord 77 of 269 (100 per TFRecord)...\n",
      "\n"
     ]
    },
    {
     "name": "stderr",
     "output_type": "stream",
     "text": [
      "\n",
      "100%|███████████████████████████████████████████████████████████████████████| 100/100 [00:00<00:00, 10442.94it/s]\u001b[A"
     ]
    },
    {
     "name": "stdout",
     "output_type": "stream",
     "text": [
      "\n",
      "... Writing TFRecord 78 of 269 (100 per TFRecord)...\n"
     ]
    },
    {
     "name": "stderr",
     "output_type": "stream",
     "text": [
      "\n"
     ]
    },
    {
     "name": "stdout",
     "output_type": "stream",
     "text": [
      "\n"
     ]
    },
    {
     "name": "stderr",
     "output_type": "stream",
     "text": [
      "\n",
      "100%|███████████████████████████████████████████████████████████████████████| 100/100 [00:00<00:00, 10783.66it/s]\u001b[A\n"
     ]
    },
    {
     "name": "stdout",
     "output_type": "stream",
     "text": [
      "\n",
      "... Writing TFRecord 79 of 269 (100 per TFRecord)...\n",
      "\n"
     ]
    },
    {
     "name": "stderr",
     "output_type": "stream",
     "text": [
      "\n",
      "100%|███████████████████████████████████████████████████████████████████████| 100/100 [00:00<00:00, 10457.79it/s]\u001b[A\n"
     ]
    },
    {
     "name": "stdout",
     "output_type": "stream",
     "text": [
      "\n",
      "... Writing TFRecord 80 of 269 (100 per TFRecord)...\n",
      "\n"
     ]
    },
    {
     "name": "stderr",
     "output_type": "stream",
     "text": [
      "\n",
      "100%|███████████████████████████████████████████████████████████████████████| 100/100 [00:00<00:00, 10853.98it/s]\u001b[A\n",
      "Writing TFRecords:  30%|████████████████▋                                       | 80/269 [00:00<00:02, 77.75it/s]"
     ]
    },
    {
     "name": "stdout",
     "output_type": "stream",
     "text": [
      "\n",
      "... Writing TFRecord 81 of 269 (100 per TFRecord)...\n",
      "\n"
     ]
    },
    {
     "name": "stderr",
     "output_type": "stream",
     "text": [
      "\n",
      "100%|███████████████████████████████████████████████████████████████████████| 100/100 [00:00<00:00, 13091.65it/s]\u001b[A\n"
     ]
    },
    {
     "name": "stdout",
     "output_type": "stream",
     "text": [
      "\n",
      "... Writing TFRecord 82 of 269 (100 per TFRecord)...\n",
      "\n"
     ]
    },
    {
     "name": "stderr",
     "output_type": "stream",
     "text": [
      "\n",
      "100%|███████████████████████████████████████████████████████████████████████| 100/100 [00:00<00:00, 12242.21it/s]\u001b[A\n"
     ]
    },
    {
     "name": "stdout",
     "output_type": "stream",
     "text": [
      "\n",
      "... Writing TFRecord 83 of 269 (100 per TFRecord)...\n",
      "\n"
     ]
    },
    {
     "name": "stderr",
     "output_type": "stream",
     "text": [
      "\n",
      "100%|███████████████████████████████████████████████████████████████████████| 100/100 [00:00<00:00, 12712.71it/s]\u001b[A\n"
     ]
    },
    {
     "name": "stdout",
     "output_type": "stream",
     "text": [
      "\n",
      "... Writing TFRecord 84 of 269 (100 per TFRecord)...\n",
      "\n"
     ]
    },
    {
     "name": "stderr",
     "output_type": "stream",
     "text": [
      "\n",
      "100%|███████████████████████████████████████████████████████████████████████| 100/100 [00:00<00:00, 11876.50it/s]\u001b[A\n"
     ]
    },
    {
     "name": "stdout",
     "output_type": "stream",
     "text": [
      "\n",
      "... Writing TFRecord 85 of 269 (100 per TFRecord)...\n",
      "\n"
     ]
    },
    {
     "name": "stderr",
     "output_type": "stream",
     "text": [
      "\n",
      "100%|███████████████████████████████████████████████████████████████████████| 100/100 [00:00<00:00, 10875.93it/s]\u001b[A\n"
     ]
    },
    {
     "name": "stdout",
     "output_type": "stream",
     "text": [
      "\n",
      "... Writing TFRecord 86 of 269 (100 per TFRecord)...\n",
      "\n"
     ]
    },
    {
     "name": "stderr",
     "output_type": "stream",
     "text": [
      "\n",
      "100%|███████████████████████████████████████████████████████████████████████| 100/100 [00:00<00:00, 10497.83it/s]\u001b[A\n"
     ]
    },
    {
     "name": "stdout",
     "output_type": "stream",
     "text": [
      "\n",
      "... Writing TFRecord 87 of 269 (100 per TFRecord)...\n",
      "\n"
     ]
    },
    {
     "name": "stderr",
     "output_type": "stream",
     "text": [
      "\n",
      "100%|███████████████████████████████████████████████████████████████████████| 100/100 [00:00<00:00, 10116.51it/s]\u001b[A\n"
     ]
    },
    {
     "name": "stdout",
     "output_type": "stream",
     "text": [
      "\n",
      "... Writing TFRecord 88 of 269 (100 per TFRecord)...\n",
      "\n"
     ]
    },
    {
     "name": "stderr",
     "output_type": "stream",
     "text": [
      "\n",
      "100%|███████████████████████████████████████████████████████████████████████| 100/100 [00:00<00:00, 13771.23it/s]\u001b[A\n",
      "Writing TFRecords:  33%|██████████████████▎                                     | 88/269 [00:01<00:02, 77.96it/s]"
     ]
    },
    {
     "name": "stdout",
     "output_type": "stream",
     "text": [
      "\n",
      "... Writing TFRecord 89 of 269 (100 per TFRecord)...\n",
      "\n"
     ]
    },
    {
     "name": "stderr",
     "output_type": "stream",
     "text": [
      "\n",
      "100%|███████████████████████████████████████████████████████████████████████| 100/100 [00:00<00:00, 13209.57it/s]\u001b[A\n"
     ]
    },
    {
     "name": "stdout",
     "output_type": "stream",
     "text": [
      "\n",
      "... Writing TFRecord 90 of 269 (100 per TFRecord)...\n",
      "\n"
     ]
    },
    {
     "name": "stderr",
     "output_type": "stream",
     "text": [
      "\n",
      "100%|███████████████████████████████████████████████████████████████████████| 100/100 [00:00<00:00, 11798.66it/s]\u001b[A\n"
     ]
    },
    {
     "name": "stdout",
     "output_type": "stream",
     "text": [
      "\n",
      "... Writing TFRecord 91 of 269 (100 per TFRecord)...\n",
      "\n"
     ]
    },
    {
     "name": "stderr",
     "output_type": "stream",
     "text": [
      "\n",
      "100%|███████████████████████████████████████████████████████████████████████| 100/100 [00:00<00:00, 11726.41it/s]\u001b[A\n"
     ]
    },
    {
     "name": "stdout",
     "output_type": "stream",
     "text": [
      "\n",
      "... Writing TFRecord 92 of 269 (100 per TFRecord)...\n",
      "\n"
     ]
    },
    {
     "name": "stderr",
     "output_type": "stream",
     "text": [
      "\n",
      "100%|███████████████████████████████████████████████████████████████████████| 100/100 [00:00<00:00, 11894.01it/s]\u001b[A\n"
     ]
    },
    {
     "name": "stdout",
     "output_type": "stream",
     "text": [
      "\n",
      "... Writing TFRecord 93 of 269 (100 per TFRecord)...\n",
      "\n"
     ]
    },
    {
     "name": "stderr",
     "output_type": "stream",
     "text": [
      "\n",
      "100%|███████████████████████████████████████████████████████████████████████| 100/100 [00:00<00:00, 11739.54it/s]\u001b[A\n"
     ]
    },
    {
     "name": "stdout",
     "output_type": "stream",
     "text": [
      "\n",
      "... Writing TFRecord 94 of 269 (100 per TFRecord)...\n",
      "\n"
     ]
    },
    {
     "name": "stderr",
     "output_type": "stream",
     "text": [
      "\n",
      "100%|███████████████████████████████████████████████████████████████████████| 100/100 [00:00<00:00, 10687.49it/s]\u001b[A\n"
     ]
    },
    {
     "name": "stdout",
     "output_type": "stream",
     "text": [
      "\n",
      "... Writing TFRecord 95 of 269 (100 per TFRecord)...\n",
      "\n"
     ]
    },
    {
     "name": "stderr",
     "output_type": "stream",
     "text": [
      "\n",
      "100%|███████████████████████████████████████████████████████████████████████| 100/100 [00:00<00:00, 12084.20it/s]\u001b[A\n"
     ]
    },
    {
     "name": "stdout",
     "output_type": "stream",
     "text": [
      "\n",
      "... Writing TFRecord 96 of 269 (100 per TFRecord)...\n",
      "\n"
     ]
    },
    {
     "name": "stderr",
     "output_type": "stream",
     "text": [
      "\n",
      "100%|███████████████████████████████████████████████████████████████████████| 100/100 [00:00<00:00, 13426.50it/s]\u001b[A\n",
      "Writing TFRecords:  36%|███████████████████▉                                    | 96/269 [00:01<00:02, 78.41it/s]"
     ]
    },
    {
     "name": "stdout",
     "output_type": "stream",
     "text": [
      "\n",
      "... Writing TFRecord 97 of 269 (100 per TFRecord)...\n",
      "\n"
     ]
    },
    {
     "name": "stderr",
     "output_type": "stream",
     "text": [
      "\n",
      "100%|███████████████████████████████████████████████████████████████████████| 100/100 [00:00<00:00, 13930.40it/s]\u001b[A\n"
     ]
    },
    {
     "name": "stdout",
     "output_type": "stream",
     "text": [
      "\n",
      "... Writing TFRecord 98 of 269 (100 per TFRecord)...\n",
      "\n"
     ]
    },
    {
     "name": "stderr",
     "output_type": "stream",
     "text": [
      "\n",
      "100%|███████████████████████████████████████████████████████████████████████| 100/100 [00:00<00:00, 11421.15it/s]\u001b[A\n"
     ]
    },
    {
     "name": "stdout",
     "output_type": "stream",
     "text": [
      "\n",
      "... Writing TFRecord 99 of 269 (100 per TFRecord)...\n",
      "\n"
     ]
    },
    {
     "name": "stderr",
     "output_type": "stream",
     "text": [
      "\n",
      "100%|███████████████████████████████████████████████████████████████████████| 100/100 [00:00<00:00, 12118.06it/s]\u001b[A\n"
     ]
    },
    {
     "name": "stdout",
     "output_type": "stream",
     "text": [
      "\n",
      "... Writing TFRecord 100 of 269 (100 per TFRecord)...\n",
      "\n"
     ]
    },
    {
     "name": "stderr",
     "output_type": "stream",
     "text": [
      "\n",
      "100%|███████████████████████████████████████████████████████████████████████| 100/100 [00:00<00:00, 11167.24it/s]\u001b[A\n"
     ]
    },
    {
     "name": "stdout",
     "output_type": "stream",
     "text": [
      "\n",
      "... Writing TFRecord 101 of 269 (100 per TFRecord)...\n",
      "\n"
     ]
    },
    {
     "name": "stderr",
     "output_type": "stream",
     "text": [
      "\n",
      "100%|███████████████████████████████████████████████████████████████████████| 100/100 [00:00<00:00, 10838.84it/s]\u001b[A\n"
     ]
    },
    {
     "name": "stdout",
     "output_type": "stream",
     "text": [
      "\n",
      "... Writing TFRecord 102 of 269 (100 per TFRecord)...\n",
      "\n"
     ]
    },
    {
     "name": "stderr",
     "output_type": "stream",
     "text": [
      "\n",
      "100%|███████████████████████████████████████████████████████████████████████| 100/100 [00:00<00:00, 11169.62it/s]\u001b[A\n"
     ]
    },
    {
     "name": "stdout",
     "output_type": "stream",
     "text": [
      "\n",
      "... Writing TFRecord 103 of 269 (100 per TFRecord)...\n",
      "\n"
     ]
    },
    {
     "name": "stderr",
     "output_type": "stream",
     "text": [
      "\n",
      "100%|███████████████████████████████████████████████████████████████████████| 100/100 [00:00<00:00, 11199.44it/s]\u001b[A\n"
     ]
    },
    {
     "name": "stdout",
     "output_type": "stream",
     "text": [
      "\n",
      "... Writing TFRecord 104 of 269 (100 per TFRecord)...\n",
      "\n"
     ]
    },
    {
     "name": "stderr",
     "output_type": "stream",
     "text": [
      "\n",
      "100%|███████████████████████████████████████████████████████████████████████| 100/100 [00:00<00:00, 12049.48it/s]\u001b[A\n",
      "Writing TFRecords:  39%|█████████████████████▎                                 | 104/269 [00:01<00:02, 77.73it/s]"
     ]
    },
    {
     "name": "stdout",
     "output_type": "stream",
     "text": [
      "\n",
      "... Writing TFRecord 105 of 269 (100 per TFRecord)...\n",
      "\n"
     ]
    },
    {
     "name": "stderr",
     "output_type": "stream",
     "text": [
      "\n",
      "100%|███████████████████████████████████████████████████████████████████████| 100/100 [00:00<00:00, 12147.90it/s]\u001b[A\n"
     ]
    },
    {
     "name": "stdout",
     "output_type": "stream",
     "text": [
      "\n",
      "... Writing TFRecord 106 of 269 (100 per TFRecord)...\n",
      "\n"
     ]
    },
    {
     "name": "stderr",
     "output_type": "stream",
     "text": [
      "\n",
      "100%|███████████████████████████████████████████████████████████████████████| 100/100 [00:00<00:00, 12086.98it/s]\u001b[A\n"
     ]
    },
    {
     "name": "stdout",
     "output_type": "stream",
     "text": [
      "\n",
      "... Writing TFRecord 107 of 269 (100 per TFRecord)...\n",
      "\n"
     ]
    },
    {
     "name": "stderr",
     "output_type": "stream",
     "text": [
      "\n",
      "100%|███████████████████████████████████████████████████████████████████████| 100/100 [00:00<00:00, 11578.80it/s]\u001b[A\n"
     ]
    },
    {
     "name": "stdout",
     "output_type": "stream",
     "text": [
      "\n",
      "... Writing TFRecord 108 of 269 (100 per TFRecord)...\n",
      "\n"
     ]
    },
    {
     "name": "stderr",
     "output_type": "stream",
     "text": [
      "\n",
      "100%|███████████████████████████████████████████████████████████████████████| 100/100 [00:00<00:00, 11606.03it/s]\u001b[A\n"
     ]
    },
    {
     "name": "stdout",
     "output_type": "stream",
     "text": [
      "\n",
      "... Writing TFRecord 109 of 269 (100 per TFRecord)...\n",
      "\n"
     ]
    },
    {
     "name": "stderr",
     "output_type": "stream",
     "text": [
      "\n",
      "100%|███████████████████████████████████████████████████████████████████████| 100/100 [00:00<00:00, 11839.29it/s]\u001b[A\n"
     ]
    },
    {
     "name": "stdout",
     "output_type": "stream",
     "text": [
      "\n",
      "... Writing TFRecord 110 of 269 (100 per TFRecord)...\n",
      "\n"
     ]
    },
    {
     "name": "stderr",
     "output_type": "stream",
     "text": [
      "\n",
      "100%|███████████████████████████████████████████████████████████████████████| 100/100 [00:00<00:00, 12491.60it/s]\u001b[A\n"
     ]
    },
    {
     "name": "stdout",
     "output_type": "stream",
     "text": [
      "\n",
      "... Writing TFRecord 111 of 269 (100 per TFRecord)...\n",
      "\n"
     ]
    },
    {
     "name": "stderr",
     "output_type": "stream",
     "text": [
      "\n",
      "100%|███████████████████████████████████████████████████████████████████████| 100/100 [00:00<00:00, 12099.54it/s]\u001b[A\n"
     ]
    },
    {
     "name": "stdout",
     "output_type": "stream",
     "text": [
      "\n",
      "... Writing TFRecord 112 of 269 (100 per TFRecord)...\n",
      "\n"
     ]
    },
    {
     "name": "stderr",
     "output_type": "stream",
     "text": [
      "\n",
      "100%|███████████████████████████████████████████████████████████████████████| 100/100 [00:00<00:00, 12174.34it/s]\u001b[A\n"
     ]
    },
    {
     "name": "stdout",
     "output_type": "stream",
     "text": [
      "\n",
      "... Writing TFRecord 113 of 269 (100 per TFRecord)...\n",
      "\n"
     ]
    },
    {
     "name": "stderr",
     "output_type": "stream",
     "text": [
      "\n",
      "100%|███████████████████████████████████████████████████████████████████████| 100/100 [00:00<00:00, 13028.22it/s]\u001b[A\n",
      "Writing TFRecords:  42%|███████████████████████                                | 113/269 [00:01<00:01, 78.96it/s]"
     ]
    },
    {
     "name": "stdout",
     "output_type": "stream",
     "text": [
      "\n",
      "... Writing TFRecord 114 of 269 (100 per TFRecord)...\n",
      "\n"
     ]
    },
    {
     "name": "stderr",
     "output_type": "stream",
     "text": [
      "\n",
      "100%|███████████████████████████████████████████████████████████████████████| 100/100 [00:00<00:00, 11643.41it/s]\u001b[A\n"
     ]
    },
    {
     "name": "stdout",
     "output_type": "stream",
     "text": [
      "\n",
      "... Writing TFRecord 115 of 269 (100 per TFRecord)...\n",
      "\n"
     ]
    },
    {
     "name": "stderr",
     "output_type": "stream",
     "text": [
      "\n",
      "100%|███████████████████████████████████████████████████████████████████████| 100/100 [00:00<00:00, 12768.83it/s]\u001b[A\n"
     ]
    },
    {
     "name": "stdout",
     "output_type": "stream",
     "text": [
      "\n",
      "... Writing TFRecord 116 of 269 (100 per TFRecord)...\n",
      "\n"
     ]
    },
    {
     "name": "stderr",
     "output_type": "stream",
     "text": [
      "\n",
      "100%|███████████████████████████████████████████████████████████████████████| 100/100 [00:00<00:00, 11635.65it/s]\u001b[A\n"
     ]
    },
    {
     "name": "stdout",
     "output_type": "stream",
     "text": [
      "\n",
      "... Writing TFRecord 117 of 269 (100 per TFRecord)...\n",
      "\n"
     ]
    },
    {
     "name": "stderr",
     "output_type": "stream",
     "text": [
      "\n",
      "100%|███████████████████████████████████████████████████████████████████████| 100/100 [00:00<00:00, 13104.74it/s]\u001b[A\n"
     ]
    },
    {
     "name": "stdout",
     "output_type": "stream",
     "text": [
      "\n",
      "... Writing TFRecord 118 of 269 (100 per TFRecord)...\n",
      "\n"
     ]
    },
    {
     "name": "stderr",
     "output_type": "stream",
     "text": [
      "\n",
      "100%|███████████████████████████████████████████████████████████████████████| 100/100 [00:00<00:00, 11624.04it/s]\u001b[A\n"
     ]
    },
    {
     "name": "stdout",
     "output_type": "stream",
     "text": [
      "\n",
      "... Writing TFRecord 119 of 269 (100 per TFRecord)...\n",
      "\n"
     ]
    },
    {
     "name": "stderr",
     "output_type": "stream",
     "text": [
      "\n",
      "100%|███████████████████████████████████████████████████████████████████████| 100/100 [00:00<00:00, 10804.77it/s]\u001b[A\n"
     ]
    },
    {
     "name": "stdout",
     "output_type": "stream",
     "text": [
      "\n",
      "... Writing TFRecord 120 of 269 (100 per TFRecord)...\n",
      "\n"
     ]
    },
    {
     "name": "stderr",
     "output_type": "stream",
     "text": [
      "\n",
      "100%|███████████████████████████████████████████████████████████████████████| 100/100 [00:00<00:00, 12113.51it/s]\u001b[A\n"
     ]
    },
    {
     "name": "stdout",
     "output_type": "stream",
     "text": [
      "\n",
      "... Writing TFRecord 121 of 269 (100 per TFRecord)...\n",
      "\n"
     ]
    },
    {
     "name": "stderr",
     "output_type": "stream",
     "text": [
      "\n",
      "100%|███████████████████████████████████████████████████████████████████████| 100/100 [00:00<00:00, 12014.62it/s]\u001b[A\n",
      "Writing TFRecords:  45%|████████████████████████▋                              | 121/269 [00:01<00:01, 79.11it/s]"
     ]
    },
    {
     "name": "stdout",
     "output_type": "stream",
     "text": [
      "\n",
      "... Writing TFRecord 122 of 269 (100 per TFRecord)...\n",
      "\n"
     ]
    },
    {
     "name": "stderr",
     "output_type": "stream",
     "text": [
      "\n",
      "100%|███████████████████████████████████████████████████████████████████████| 100/100 [00:00<00:00, 13010.84it/s]\u001b[A\n"
     ]
    },
    {
     "name": "stdout",
     "output_type": "stream",
     "text": [
      "\n",
      "... Writing TFRecord 123 of 269 (100 per TFRecord)...\n",
      "\n"
     ]
    },
    {
     "name": "stderr",
     "output_type": "stream",
     "text": [
      "\n",
      "100%|███████████████████████████████████████████████████████████████████████| 100/100 [00:00<00:00, 13579.07it/s]\u001b[A\n"
     ]
    },
    {
     "name": "stdout",
     "output_type": "stream",
     "text": [
      "\n",
      "... Writing TFRecord 124 of 269 (100 per TFRecord)...\n",
      "\n"
     ]
    },
    {
     "name": "stderr",
     "output_type": "stream",
     "text": [
      "\n",
      "100%|███████████████████████████████████████████████████████████████████████| 100/100 [00:00<00:00, 11944.82it/s]\u001b[A\n"
     ]
    },
    {
     "name": "stdout",
     "output_type": "stream",
     "text": [
      "\n",
      "... Writing TFRecord 125 of 269 (100 per TFRecord)...\n",
      "\n"
     ]
    },
    {
     "name": "stderr",
     "output_type": "stream",
     "text": [
      "\n",
      "100%|███████████████████████████████████████████████████████████████████████| 100/100 [00:00<00:00, 12516.95it/s]\u001b[A\n"
     ]
    },
    {
     "name": "stdout",
     "output_type": "stream",
     "text": [
      "\n",
      "... Writing TFRecord 126 of 269 (100 per TFRecord)...\n",
      "\n"
     ]
    },
    {
     "name": "stderr",
     "output_type": "stream",
     "text": [
      "\n",
      "100%|███████████████████████████████████████████████████████████████████████| 100/100 [00:00<00:00, 13743.26it/s]\u001b[A\n"
     ]
    },
    {
     "name": "stdout",
     "output_type": "stream",
     "text": [
      "\n",
      "... Writing TFRecord 127 of 269 (100 per TFRecord)...\n",
      "\n"
     ]
    },
    {
     "name": "stderr",
     "output_type": "stream",
     "text": [
      "\n",
      "100%|███████████████████████████████████████████████████████████████████████| 100/100 [00:00<00:00, 12201.97it/s]\u001b[A\n"
     ]
    },
    {
     "name": "stdout",
     "output_type": "stream",
     "text": [
      "\n",
      "... Writing TFRecord 128 of 269 (100 per TFRecord)...\n",
      "\n"
     ]
    },
    {
     "name": "stderr",
     "output_type": "stream",
     "text": [
      "\n",
      "100%|███████████████████████████████████████████████████████████████████████| 100/100 [00:00<00:00, 11825.93it/s]\u001b[A\n"
     ]
    },
    {
     "name": "stdout",
     "output_type": "stream",
     "text": [
      "\n",
      "... Writing TFRecord 129 of 269 (100 per TFRecord)...\n",
      "\n"
     ]
    },
    {
     "name": "stderr",
     "output_type": "stream",
     "text": [
      "\n",
      "100%|███████████████████████████████████████████████████████████████████████| 100/100 [00:00<00:00, 12911.51it/s]\u001b[A\n"
     ]
    },
    {
     "name": "stdout",
     "output_type": "stream",
     "text": [
      "\n",
      "... Writing TFRecord 130 of 269 (100 per TFRecord)...\n",
      "\n"
     ]
    },
    {
     "name": "stderr",
     "output_type": "stream",
     "text": [
      "\n",
      "100%|███████████████████████████████████████████████████████████████████████| 100/100 [00:00<00:00, 12018.41it/s]\u001b[A\n",
      "Writing TFRecords:  48%|██████████████████████████▌                            | 130/269 [00:01<00:01, 80.22it/s]"
     ]
    },
    {
     "name": "stdout",
     "output_type": "stream",
     "text": [
      "\n",
      "... Writing TFRecord 131 of 269 (100 per TFRecord)...\n",
      "\n"
     ]
    },
    {
     "name": "stderr",
     "output_type": "stream",
     "text": [
      "\n",
      "100%|███████████████████████████████████████████████████████████████████████| 100/100 [00:00<00:00, 13043.61it/s]\u001b[A\n"
     ]
    },
    {
     "name": "stdout",
     "output_type": "stream",
     "text": [
      "\n",
      "... Writing TFRecord 132 of 269 (100 per TFRecord)...\n",
      "\n"
     ]
    },
    {
     "name": "stderr",
     "output_type": "stream",
     "text": [
      "\n",
      "100%|███████████████████████████████████████████████████████████████████████| 100/100 [00:00<00:00, 12505.38it/s]\u001b[A\n"
     ]
    },
    {
     "name": "stdout",
     "output_type": "stream",
     "text": [
      "\n",
      "... Writing TFRecord 133 of 269 (100 per TFRecord)...\n",
      "\n"
     ]
    },
    {
     "name": "stderr",
     "output_type": "stream",
     "text": [
      "\n",
      "100%|███████████████████████████████████████████████████████████████████████| 100/100 [00:00<00:00, 12785.95it/s]\u001b[A\n"
     ]
    },
    {
     "name": "stdout",
     "output_type": "stream",
     "text": [
      "\n",
      "... Writing TFRecord 134 of 269 (100 per TFRecord)...\n",
      "\n"
     ]
    },
    {
     "name": "stderr",
     "output_type": "stream",
     "text": [
      "\n",
      "100%|███████████████████████████████████████████████████████████████████████| 100/100 [00:00<00:00, 12833.68it/s]\u001b[A\n"
     ]
    },
    {
     "name": "stdout",
     "output_type": "stream",
     "text": [
      "\n",
      "... Writing TFRecord 135 of 269 (100 per TFRecord)...\n",
      "\n"
     ]
    },
    {
     "name": "stderr",
     "output_type": "stream",
     "text": [
      "\n",
      "100%|███████████████████████████████████████████████████████████████████████| 100/100 [00:00<00:00, 13538.31it/s]\u001b[A\n"
     ]
    },
    {
     "name": "stdout",
     "output_type": "stream",
     "text": [
      "\n",
      "... Writing TFRecord 136 of 269 (100 per TFRecord)...\n",
      "\n"
     ]
    },
    {
     "name": "stderr",
     "output_type": "stream",
     "text": [
      "\n",
      "100%|███████████████████████████████████████████████████████████████████████| 100/100 [00:00<00:00, 12850.59it/s]\u001b[A\n"
     ]
    },
    {
     "name": "stdout",
     "output_type": "stream",
     "text": [
      "\n",
      "... Writing TFRecord 137 of 269 (100 per TFRecord)...\n",
      "\n"
     ]
    },
    {
     "name": "stderr",
     "output_type": "stream",
     "text": [
      "\n",
      "100%|███████████████████████████████████████████████████████████████████████| 100/100 [00:00<00:00, 12703.08it/s]\u001b[A\n"
     ]
    },
    {
     "name": "stdout",
     "output_type": "stream",
     "text": [
      "\n",
      "... Writing TFRecord 138 of 269 (100 per TFRecord)...\n",
      "\n"
     ]
    },
    {
     "name": "stderr",
     "output_type": "stream",
     "text": [
      "\n",
      "100%|███████████████████████████████████████████████████████████████████████| 100/100 [00:00<00:00, 13131.41it/s]\u001b[A\n"
     ]
    },
    {
     "name": "stdout",
     "output_type": "stream",
     "text": [
      "\n",
      "... Writing TFRecord 139 of 269 (100 per TFRecord)...\n",
      "\n"
     ]
    },
    {
     "name": "stderr",
     "output_type": "stream",
     "text": [
      "\n",
      "100%|███████████████████████████████████████████████████████████████████████| 100/100 [00:00<00:00, 12976.22it/s]\u001b[A\n",
      "Writing TFRecords:  52%|████████████████████████████▍                          | 139/269 [00:01<00:01, 81.04it/s]"
     ]
    },
    {
     "name": "stdout",
     "output_type": "stream",
     "text": [
      "\n",
      "... Writing TFRecord 140 of 269 (100 per TFRecord)...\n",
      "\n"
     ]
    },
    {
     "name": "stderr",
     "output_type": "stream",
     "text": [
      "\n",
      "100%|███████████████████████████████████████████████████████████████████████| 100/100 [00:00<00:00, 12267.63it/s]\u001b[A\n"
     ]
    },
    {
     "name": "stdout",
     "output_type": "stream",
     "text": [
      "\n",
      "... Writing TFRecord 141 of 269 (100 per TFRecord)...\n",
      "\n"
     ]
    },
    {
     "name": "stderr",
     "output_type": "stream",
     "text": [
      "\n",
      "100%|███████████████████████████████████████████████████████████████████████| 100/100 [00:00<00:00, 12139.46it/s]\u001b[A\n"
     ]
    },
    {
     "name": "stdout",
     "output_type": "stream",
     "text": [
      "\n",
      "... Writing TFRecord 142 of 269 (100 per TFRecord)...\n",
      "\n"
     ]
    },
    {
     "name": "stderr",
     "output_type": "stream",
     "text": [
      "\n",
      "100%|███████████████████████████████████████████████████████████████████████| 100/100 [00:00<00:00, 13027.41it/s]\u001b[A\n"
     ]
    },
    {
     "name": "stdout",
     "output_type": "stream",
     "text": [
      "\n",
      "... Writing TFRecord 143 of 269 (100 per TFRecord)...\n",
      "\n"
     ]
    },
    {
     "name": "stderr",
     "output_type": "stream",
     "text": [
      "\n",
      "100%|███████████████████████████████████████████████████████████████████████| 100/100 [00:00<00:00, 12719.26it/s]\u001b[A\n"
     ]
    },
    {
     "name": "stdout",
     "output_type": "stream",
     "text": [
      "\n",
      "... Writing TFRecord 144 of 269 (100 per TFRecord)...\n",
      "\n"
     ]
    },
    {
     "name": "stderr",
     "output_type": "stream",
     "text": [
      "\n",
      "100%|███████████████████████████████████████████████████████████████████████| 100/100 [00:00<00:00, 13173.48it/s]\u001b[A\n"
     ]
    },
    {
     "name": "stdout",
     "output_type": "stream",
     "text": [
      "\n",
      "... Writing TFRecord 145 of 269 (100 per TFRecord)...\n",
      "\n"
     ]
    },
    {
     "name": "stderr",
     "output_type": "stream",
     "text": [
      "\n",
      "100%|███████████████████████████████████████████████████████████████████████| 100/100 [00:00<00:00, 13609.03it/s]\u001b[A\n"
     ]
    },
    {
     "name": "stdout",
     "output_type": "stream",
     "text": [
      "\n",
      "... Writing TFRecord 146 of 269 (100 per TFRecord)...\n",
      "\n"
     ]
    },
    {
     "name": "stderr",
     "output_type": "stream",
     "text": [
      "\n",
      "100%|███████████████████████████████████████████████████████████████████████| 100/100 [00:00<00:00, 13200.43it/s]\u001b[A\n"
     ]
    },
    {
     "name": "stdout",
     "output_type": "stream",
     "text": [
      "\n",
      "... Writing TFRecord 147 of 269 (100 per TFRecord)...\n",
      "\n"
     ]
    },
    {
     "name": "stderr",
     "output_type": "stream",
     "text": [
      "\n",
      "100%|███████████████████████████████████████████████████████████████████████| 100/100 [00:00<00:00, 11824.27it/s]\u001b[A"
     ]
    },
    {
     "name": "stdout",
     "output_type": "stream",
     "text": [
      "\n",
      "... Writing TFRecord 148 of 269 (100 per TFRecord)...\n",
      "\n"
     ]
    },
    {
     "name": "stderr",
     "output_type": "stream",
     "text": [
      "\n",
      "\n",
      "100%|███████████████████████████████████████████████████████████████████████| 100/100 [00:00<00:00, 14276.05it/s]\u001b[A\n",
      "Writing TFRecords:  55%|██████████████████████████████▎                        | 148/269 [00:01<00:01, 82.72it/s]"
     ]
    },
    {
     "name": "stdout",
     "output_type": "stream",
     "text": [
      "\n",
      "... Writing TFRecord 149 of 269 (100 per TFRecord)...\n",
      "\n"
     ]
    },
    {
     "name": "stderr",
     "output_type": "stream",
     "text": [
      "\n",
      "100%|███████████████████████████████████████████████████████████████████████| 100/100 [00:00<00:00, 12869.91it/s]\u001b[A\n"
     ]
    },
    {
     "name": "stdout",
     "output_type": "stream",
     "text": [
      "\n",
      "... Writing TFRecord 150 of 269 (100 per TFRecord)...\n",
      "\n"
     ]
    },
    {
     "name": "stderr",
     "output_type": "stream",
     "text": [
      "\n",
      "100%|███████████████████████████████████████████████████████████████████████| 100/100 [00:00<00:00, 12873.86it/s]\u001b[A\n"
     ]
    },
    {
     "name": "stdout",
     "output_type": "stream",
     "text": [
      "\n",
      "... Writing TFRecord 151 of 269 (100 per TFRecord)...\n",
      "\n"
     ]
    },
    {
     "name": "stderr",
     "output_type": "stream",
     "text": [
      "\n",
      "100%|███████████████████████████████████████████████████████████████████████| 100/100 [00:00<00:00, 12378.79it/s]\u001b[A\n"
     ]
    },
    {
     "name": "stdout",
     "output_type": "stream",
     "text": [
      "\n",
      "... Writing TFRecord 152 of 269 (100 per TFRecord)...\n",
      "\n"
     ]
    },
    {
     "name": "stderr",
     "output_type": "stream",
     "text": [
      "\n",
      "100%|███████████████████████████████████████████████████████████████████████| 100/100 [00:00<00:00, 13333.45it/s]\u001b[A\n"
     ]
    },
    {
     "name": "stdout",
     "output_type": "stream",
     "text": [
      "\n",
      "... Writing TFRecord 153 of 269 (100 per TFRecord)...\n",
      "\n"
     ]
    },
    {
     "name": "stderr",
     "output_type": "stream",
     "text": [
      "\n",
      "100%|███████████████████████████████████████████████████████████████████████| 100/100 [00:00<00:00, 11413.38it/s]\u001b[A\n"
     ]
    },
    {
     "name": "stdout",
     "output_type": "stream",
     "text": [
      "\n",
      "... Writing TFRecord 154 of 269 (100 per TFRecord)...\n",
      "\n"
     ]
    },
    {
     "name": "stderr",
     "output_type": "stream",
     "text": [
      "\n",
      "100%|███████████████████████████████████████████████████████████████████████| 100/100 [00:00<00:00, 13600.21it/s]\u001b[A\n"
     ]
    },
    {
     "name": "stdout",
     "output_type": "stream",
     "text": [
      "\n",
      "... Writing TFRecord 155 of 269 (100 per TFRecord)...\n",
      "\n"
     ]
    },
    {
     "name": "stderr",
     "output_type": "stream",
     "text": [
      "\n",
      "100%|███████████████████████████████████████████████████████████████████████| 100/100 [00:00<00:00, 13450.61it/s]\u001b[A\n"
     ]
    },
    {
     "name": "stdout",
     "output_type": "stream",
     "text": [
      "\n",
      "... Writing TFRecord 156 of 269 (100 per TFRecord)...\n",
      "\n"
     ]
    },
    {
     "name": "stderr",
     "output_type": "stream",
     "text": [
      "\n",
      "100%|███████████████████████████████████████████████████████████████████████| 100/100 [00:00<00:00, 13380.24it/s]\u001b[A\n"
     ]
    },
    {
     "name": "stdout",
     "output_type": "stream",
     "text": [
      "\n",
      "... Writing TFRecord 157 of 269 (100 per TFRecord)...\n",
      "\n"
     ]
    },
    {
     "name": "stderr",
     "output_type": "stream",
     "text": [
      "\n",
      "100%|███████████████████████████████████████████████████████████████████████| 100/100 [00:00<00:00, 10698.94it/s]\u001b[A\n",
      "Writing TFRecords:  58%|████████████████████████████████                       | 157/269 [00:01<00:01, 82.99it/s]"
     ]
    },
    {
     "name": "stdout",
     "output_type": "stream",
     "text": [
      "\n",
      "... Writing TFRecord 158 of 269 (100 per TFRecord)...\n",
      "\n"
     ]
    },
    {
     "name": "stderr",
     "output_type": "stream",
     "text": [
      "\n",
      "100%|███████████████████████████████████████████████████████████████████████| 100/100 [00:00<00:00, 13513.45it/s]\u001b[A\n"
     ]
    },
    {
     "name": "stdout",
     "output_type": "stream",
     "text": [
      "\n",
      "... Writing TFRecord 159 of 269 (100 per TFRecord)...\n",
      "\n"
     ]
    },
    {
     "name": "stderr",
     "output_type": "stream",
     "text": [
      "\n",
      "100%|███████████████████████████████████████████████████████████████████████| 100/100 [00:00<00:00, 13417.05it/s]\u001b[A\n"
     ]
    },
    {
     "name": "stdout",
     "output_type": "stream",
     "text": [
      "\n",
      "... Writing TFRecord 160 of 269 (100 per TFRecord)...\n",
      "\n"
     ]
    },
    {
     "name": "stderr",
     "output_type": "stream",
     "text": [
      "\n",
      "100%|███████████████████████████████████████████████████████████████████████| 100/100 [00:00<00:00, 12614.45it/s]\u001b[A\n"
     ]
    },
    {
     "name": "stdout",
     "output_type": "stream",
     "text": [
      "\n",
      "... Writing TFRecord 161 of 269 (100 per TFRecord)...\n",
      "\n"
     ]
    },
    {
     "name": "stderr",
     "output_type": "stream",
     "text": [
      "\n",
      "100%|███████████████████████████████████████████████████████████████████████| 100/100 [00:00<00:00, 12082.11it/s]\u001b[A\n"
     ]
    },
    {
     "name": "stdout",
     "output_type": "stream",
     "text": [
      "\n",
      "... Writing TFRecord 162 of 269 (100 per TFRecord)...\n",
      "\n"
     ]
    },
    {
     "name": "stderr",
     "output_type": "stream",
     "text": [
      "\n",
      "100%|███████████████████████████████████████████████████████████████████████| 100/100 [00:00<00:00, 13071.66it/s]\u001b[A\n"
     ]
    },
    {
     "name": "stdout",
     "output_type": "stream",
     "text": [
      "\n",
      "... Writing TFRecord 163 of 269 (100 per TFRecord)...\n",
      "\n"
     ]
    },
    {
     "name": "stderr",
     "output_type": "stream",
     "text": [
      "\n",
      "100%|███████████████████████████████████████████████████████████████████████| 100/100 [00:00<00:00, 12745.55it/s]\u001b[A\n"
     ]
    },
    {
     "name": "stdout",
     "output_type": "stream",
     "text": [
      "\n",
      "... Writing TFRecord 164 of 269 (100 per TFRecord)...\n",
      "\n"
     ]
    },
    {
     "name": "stderr",
     "output_type": "stream",
     "text": [
      "\n",
      "100%|███████████████████████████████████████████████████████████████████████| 100/100 [00:00<00:00, 12951.78it/s]\u001b[A\n"
     ]
    },
    {
     "name": "stdout",
     "output_type": "stream",
     "text": [
      "\n",
      "... Writing TFRecord 165 of 269 (100 per TFRecord)...\n",
      "\n"
     ]
    },
    {
     "name": "stderr",
     "output_type": "stream",
     "text": [
      "\n",
      "100%|████████████████████████████████████████████████████████████████████████| 100/100 [00:00<00:00, 8352.03it/s]\u001b[A\n"
     ]
    },
    {
     "name": "stdout",
     "output_type": "stream",
     "text": [
      "\n",
      "... Writing TFRecord 166 of 269 (100 per TFRecord)...\n",
      "\n"
     ]
    },
    {
     "name": "stderr",
     "output_type": "stream",
     "text": [
      "\n",
      "100%|███████████████████████████████████████████████████████████████████████| 100/100 [00:00<00:00, 10580.99it/s]\u001b[A\n",
      "Writing TFRecords:  62%|█████████████████████████████████▉                     | 166/269 [00:02<00:01, 82.32it/s]"
     ]
    },
    {
     "name": "stdout",
     "output_type": "stream",
     "text": [
      "\n",
      "... Writing TFRecord 167 of 269 (100 per TFRecord)...\n",
      "\n"
     ]
    },
    {
     "name": "stderr",
     "output_type": "stream",
     "text": [
      "\n",
      "100%|████████████████████████████████████████████████████████████████████████| 100/100 [00:00<00:00, 8494.96it/s]\u001b[A\n"
     ]
    },
    {
     "name": "stdout",
     "output_type": "stream",
     "text": [
      "\n",
      "... Writing TFRecord 168 of 269 (100 per TFRecord)...\n",
      "\n"
     ]
    },
    {
     "name": "stderr",
     "output_type": "stream",
     "text": [
      "\n",
      "100%|███████████████████████████████████████████████████████████████████████| 100/100 [00:00<00:00, 10077.37it/s]\u001b[A\n"
     ]
    },
    {
     "name": "stdout",
     "output_type": "stream",
     "text": [
      "\n",
      "... Writing TFRecord 169 of 269 (100 per TFRecord)...\n",
      "\n"
     ]
    },
    {
     "name": "stderr",
     "output_type": "stream",
     "text": [
      "\n",
      "100%|███████████████████████████████████████████████████████████████████████| 100/100 [00:00<00:00, 12601.94it/s]\u001b[A\n"
     ]
    },
    {
     "name": "stdout",
     "output_type": "stream",
     "text": [
      "\n",
      "... Writing TFRecord 170 of 269 (100 per TFRecord)...\n",
      "\n"
     ]
    },
    {
     "name": "stderr",
     "output_type": "stream",
     "text": [
      "\n",
      "100%|███████████████████████████████████████████████████████████████████████| 100/100 [00:00<00:00, 13638.68it/s]\u001b[A\n"
     ]
    },
    {
     "name": "stdout",
     "output_type": "stream",
     "text": [
      "\n",
      "... Writing TFRecord 171 of 269 (100 per TFRecord)...\n",
      "\n"
     ]
    },
    {
     "name": "stderr",
     "output_type": "stream",
     "text": [
      "\n",
      "100%|███████████████████████████████████████████████████████████████████████| 100/100 [00:00<00:00, 12001.56it/s]\u001b[A\n"
     ]
    },
    {
     "name": "stdout",
     "output_type": "stream",
     "text": [
      "\n",
      "... Writing TFRecord 172 of 269 (100 per TFRecord)...\n",
      "\n"
     ]
    },
    {
     "name": "stderr",
     "output_type": "stream",
     "text": [
      "\n",
      "100%|███████████████████████████████████████████████████████████████████████| 100/100 [00:00<00:00, 11354.98it/s]\u001b[A\n"
     ]
    },
    {
     "name": "stdout",
     "output_type": "stream",
     "text": [
      "\n",
      "... Writing TFRecord 173 of 269 (100 per TFRecord)...\n",
      "\n"
     ]
    },
    {
     "name": "stderr",
     "output_type": "stream",
     "text": [
      "\n",
      "100%|███████████████████████████████████████████████████████████████████████| 100/100 [00:00<00:00, 12012.21it/s]\u001b[A\n"
     ]
    },
    {
     "name": "stdout",
     "output_type": "stream",
     "text": [
      "\n",
      "... Writing TFRecord 174 of 269 (100 per TFRecord)...\n",
      "\n"
     ]
    },
    {
     "name": "stderr",
     "output_type": "stream",
     "text": [
      "\n",
      "100%|███████████████████████████████████████████████████████████████████████| 100/100 [00:00<00:00, 12651.36it/s]\u001b[A\n"
     ]
    },
    {
     "name": "stdout",
     "output_type": "stream",
     "text": [
      "\n",
      "... Writing TFRecord 175 of 269 (100 per TFRecord)...\n",
      "\n"
     ]
    },
    {
     "name": "stderr",
     "output_type": "stream",
     "text": [
      "\n",
      "100%|███████████████████████████████████████████████████████████████████████| 100/100 [00:00<00:00, 12630.02it/s]\u001b[A\n",
      "Writing TFRecords:  65%|███████████████████████████████████▊                   | 175/269 [00:02<00:01, 81.30it/s]"
     ]
    },
    {
     "name": "stdout",
     "output_type": "stream",
     "text": [
      "\n",
      "... Writing TFRecord 176 of 269 (100 per TFRecord)...\n",
      "\n"
     ]
    },
    {
     "name": "stderr",
     "output_type": "stream",
     "text": [
      "\n",
      "100%|███████████████████████████████████████████████████████████████████████| 100/100 [00:00<00:00, 13945.22it/s]\u001b[A\n"
     ]
    },
    {
     "name": "stdout",
     "output_type": "stream",
     "text": [
      "\n",
      "... Writing TFRecord 177 of 269 (100 per TFRecord)...\n",
      "\n"
     ]
    },
    {
     "name": "stderr",
     "output_type": "stream",
     "text": [
      "\n",
      "100%|███████████████████████████████████████████████████████████████████████| 100/100 [00:00<00:00, 13579.95it/s]\u001b[A\n"
     ]
    },
    {
     "name": "stdout",
     "output_type": "stream",
     "text": [
      "\n",
      "... Writing TFRecord 178 of 269 (100 per TFRecord)...\n",
      "\n"
     ]
    },
    {
     "name": "stderr",
     "output_type": "stream",
     "text": [
      "\n",
      "100%|███████████████████████████████████████████████████████████████████████| 100/100 [00:00<00:00, 13009.22it/s]\u001b[A\n"
     ]
    },
    {
     "name": "stdout",
     "output_type": "stream",
     "text": [
      "\n",
      "... Writing TFRecord 179 of 269 (100 per TFRecord)...\n",
      "\n"
     ]
    },
    {
     "name": "stderr",
     "output_type": "stream",
     "text": [
      "\n",
      "100%|███████████████████████████████████████████████████████████████████████| 100/100 [00:00<00:00, 10536.60it/s]\u001b[A\n"
     ]
    },
    {
     "name": "stdout",
     "output_type": "stream",
     "text": [
      "\n",
      "... Writing TFRecord 180 of 269 (100 per TFRecord)...\n",
      "\n"
     ]
    },
    {
     "name": "stderr",
     "output_type": "stream",
     "text": [
      "\n",
      "100%|███████████████████████████████████████████████████████████████████████| 100/100 [00:00<00:00, 11119.87it/s]\u001b[A\n"
     ]
    },
    {
     "name": "stdout",
     "output_type": "stream",
     "text": [
      "\n",
      "... Writing TFRecord 181 of 269 (100 per TFRecord)...\n",
      "\n"
     ]
    },
    {
     "name": "stderr",
     "output_type": "stream",
     "text": [
      "\n",
      "100%|███████████████████████████████████████████████████████████████████████| 100/100 [00:00<00:00, 12247.22it/s]\u001b[A\n"
     ]
    },
    {
     "name": "stdout",
     "output_type": "stream",
     "text": [
      "\n",
      "... Writing TFRecord 182 of 269 (100 per TFRecord)...\n",
      "\n"
     ]
    },
    {
     "name": "stderr",
     "output_type": "stream",
     "text": [
      "\n",
      "100%|███████████████████████████████████████████████████████████████████████| 100/100 [00:00<00:00, 11905.83it/s]\u001b[A\n"
     ]
    },
    {
     "name": "stdout",
     "output_type": "stream",
     "text": [
      "\n",
      "... Writing TFRecord 183 of 269 (100 per TFRecord)...\n",
      "\n"
     ]
    },
    {
     "name": "stderr",
     "output_type": "stream",
     "text": [
      "\n",
      "100%|███████████████████████████████████████████████████████████████████████| 100/100 [00:00<00:00, 12406.25it/s]\u001b[A\n"
     ]
    },
    {
     "name": "stdout",
     "output_type": "stream",
     "text": [
      "\n",
      "... Writing TFRecord 184 of 269 (100 per TFRecord)...\n",
      "\n"
     ]
    },
    {
     "name": "stderr",
     "output_type": "stream",
     "text": [
      "\n",
      "100%|███████████████████████████████████████████████████████████████████████| 100/100 [00:00<00:00, 12481.56it/s]\u001b[A\n",
      "Writing TFRecords:  68%|█████████████████████████████████████▌                 | 184/269 [00:02<00:01, 82.64it/s]"
     ]
    },
    {
     "name": "stdout",
     "output_type": "stream",
     "text": [
      "\n",
      "... Writing TFRecord 185 of 269 (100 per TFRecord)...\n",
      "\n"
     ]
    },
    {
     "name": "stderr",
     "output_type": "stream",
     "text": [
      "\n",
      "100%|███████████████████████████████████████████████████████████████████████| 100/100 [00:00<00:00, 13053.35it/s]\u001b[A\n"
     ]
    },
    {
     "name": "stdout",
     "output_type": "stream",
     "text": [
      "\n",
      "... Writing TFRecord 186 of 269 (100 per TFRecord)...\n",
      "\n"
     ]
    },
    {
     "name": "stderr",
     "output_type": "stream",
     "text": [
      "\n",
      "100%|███████████████████████████████████████████████████████████████████████| 100/100 [00:00<00:00, 11980.64it/s]\u001b[A\n"
     ]
    },
    {
     "name": "stdout",
     "output_type": "stream",
     "text": [
      "\n",
      "... Writing TFRecord 187 of 269 (100 per TFRecord)...\n",
      "\n"
     ]
    },
    {
     "name": "stderr",
     "output_type": "stream",
     "text": [
      "\n",
      "100%|███████████████████████████████████████████████████████████████████████| 100/100 [00:00<00:00, 12404.05it/s]\u001b[A\n"
     ]
    },
    {
     "name": "stdout",
     "output_type": "stream",
     "text": [
      "\n",
      "... Writing TFRecord 188 of 269 (100 per TFRecord)...\n",
      "\n"
     ]
    },
    {
     "name": "stderr",
     "output_type": "stream",
     "text": [
      "\n",
      "100%|███████████████████████████████████████████████████████████████████████| 100/100 [00:00<00:00, 13239.18it/s]\u001b[A\n"
     ]
    },
    {
     "name": "stdout",
     "output_type": "stream",
     "text": [
      "\n",
      "... Writing TFRecord 189 of 269 (100 per TFRecord)...\n",
      "\n"
     ]
    },
    {
     "name": "stderr",
     "output_type": "stream",
     "text": [
      "\n",
      "100%|███████████████████████████████████████████████████████████████████████| 100/100 [00:00<00:00, 12867.54it/s]\u001b[A\n"
     ]
    },
    {
     "name": "stdout",
     "output_type": "stream",
     "text": [
      "\n",
      "... Writing TFRecord 190 of 269 (100 per TFRecord)...\n",
      "\n"
     ]
    },
    {
     "name": "stderr",
     "output_type": "stream",
     "text": [
      "\n",
      "100%|███████████████████████████████████████████████████████████████████████| 100/100 [00:00<00:00, 10079.07it/s]\u001b[A\n"
     ]
    },
    {
     "name": "stdout",
     "output_type": "stream",
     "text": [
      "\n",
      "... Writing TFRecord 191 of 269 (100 per TFRecord)...\n",
      "\n"
     ]
    },
    {
     "name": "stderr",
     "output_type": "stream",
     "text": [
      "\n",
      "100%|███████████████████████████████████████████████████████████████████████| 100/100 [00:00<00:00, 10329.53it/s]\u001b[A\n"
     ]
    },
    {
     "name": "stdout",
     "output_type": "stream",
     "text": [
      "\n",
      "... Writing TFRecord 192 of 269 (100 per TFRecord)...\n",
      "\n"
     ]
    },
    {
     "name": "stderr",
     "output_type": "stream",
     "text": [
      "\n",
      "100%|███████████████████████████████████████████████████████████████████████| 100/100 [00:00<00:00, 13305.54it/s]\u001b[A\n"
     ]
    },
    {
     "name": "stdout",
     "output_type": "stream",
     "text": [
      "\n",
      "... Writing TFRecord 193 of 269 (100 per TFRecord)...\n",
      "\n"
     ]
    },
    {
     "name": "stderr",
     "output_type": "stream",
     "text": [
      "\n",
      "100%|███████████████████████████████████████████████████████████████████████| 100/100 [00:00<00:00, 13118.27it/s]\u001b[A\n",
      "Writing TFRecords:  72%|███████████████████████████████████████▍               | 193/269 [00:02<00:00, 83.13it/s]"
     ]
    },
    {
     "name": "stdout",
     "output_type": "stream",
     "text": [
      "\n",
      "... Writing TFRecord 194 of 269 (100 per TFRecord)...\n",
      "\n"
     ]
    },
    {
     "name": "stderr",
     "output_type": "stream",
     "text": [
      "\n",
      "100%|███████████████████████████████████████████████████████████████████████| 100/100 [00:00<00:00, 12391.59it/s]\u001b[A\n"
     ]
    },
    {
     "name": "stdout",
     "output_type": "stream",
     "text": [
      "\n",
      "... Writing TFRecord 195 of 269 (100 per TFRecord)...\n",
      "\n"
     ]
    },
    {
     "name": "stderr",
     "output_type": "stream",
     "text": [
      "\n",
      "100%|███████████████████████████████████████████████████████████████████████| 100/100 [00:00<00:00, 13329.64it/s]\u001b[A\n"
     ]
    },
    {
     "name": "stdout",
     "output_type": "stream",
     "text": [
      "\n",
      "... Writing TFRecord 196 of 269 (100 per TFRecord)...\n",
      "\n"
     ]
    },
    {
     "name": "stderr",
     "output_type": "stream",
     "text": [
      "\n",
      "100%|███████████████████████████████████████████████████████████████████████| 100/100 [00:00<00:00, 14344.90it/s]\u001b[A\n"
     ]
    },
    {
     "name": "stdout",
     "output_type": "stream",
     "text": [
      "\n",
      "... Writing TFRecord 197 of 269 (100 per TFRecord)...\n",
      "\n"
     ]
    },
    {
     "name": "stderr",
     "output_type": "stream",
     "text": [
      "\n",
      "100%|███████████████████████████████████████████████████████████████████████| 100/100 [00:00<00:00, 12869.12it/s]\u001b[A\n"
     ]
    },
    {
     "name": "stdout",
     "output_type": "stream",
     "text": [
      "\n",
      "... Writing TFRecord 198 of 269 (100 per TFRecord)...\n",
      "\n"
     ]
    },
    {
     "name": "stderr",
     "output_type": "stream",
     "text": [
      "\n",
      "100%|███████████████████████████████████████████████████████████████████████| 100/100 [00:00<00:00, 12166.57it/s]\u001b[A\n"
     ]
    },
    {
     "name": "stdout",
     "output_type": "stream",
     "text": [
      "\n",
      "... Writing TFRecord 199 of 269 (100 per TFRecord)...\n",
      "\n"
     ]
    },
    {
     "name": "stderr",
     "output_type": "stream",
     "text": [
      "\n",
      "100%|███████████████████████████████████████████████████████████████████████| 100/100 [00:00<00:00, 13827.53it/s]\u001b[A\n"
     ]
    },
    {
     "name": "stdout",
     "output_type": "stream",
     "text": [
      "\n",
      "... Writing TFRecord 200 of 269 (100 per TFRecord)...\n",
      "\n"
     ]
    },
    {
     "name": "stderr",
     "output_type": "stream",
     "text": [
      "\n",
      "100%|███████████████████████████████████████████████████████████████████████| 100/100 [00:00<00:00, 11127.25it/s]\u001b[A\n"
     ]
    },
    {
     "name": "stdout",
     "output_type": "stream",
     "text": [
      "\n",
      "... Writing TFRecord 201 of 269 (100 per TFRecord)...\n",
      "\n"
     ]
    },
    {
     "name": "stderr",
     "output_type": "stream",
     "text": [
      "\n",
      "100%|███████████████████████████████████████████████████████████████████████| 100/100 [00:00<00:00, 12110.72it/s]\u001b[A\n"
     ]
    },
    {
     "name": "stdout",
     "output_type": "stream",
     "text": [
      "\n",
      "... Writing TFRecord 202 of 269 (100 per TFRecord)...\n",
      "\n"
     ]
    },
    {
     "name": "stderr",
     "output_type": "stream",
     "text": [
      "\n",
      "100%|███████████████████████████████████████████████████████████████████████| 100/100 [00:00<00:00, 12068.55it/s]\u001b[A\n",
      "Writing TFRecords:  75%|█████████████████████████████████████████▎             | 202/269 [00:02<00:00, 82.90it/s]"
     ]
    },
    {
     "name": "stdout",
     "output_type": "stream",
     "text": [
      "\n",
      "... Writing TFRecord 203 of 269 (100 per TFRecord)...\n",
      "\n"
     ]
    },
    {
     "name": "stderr",
     "output_type": "stream",
     "text": [
      "\n",
      "100%|███████████████████████████████████████████████████████████████████████| 100/100 [00:00<00:00, 11775.47it/s]\u001b[A\n"
     ]
    },
    {
     "name": "stdout",
     "output_type": "stream",
     "text": [
      "\n",
      "... Writing TFRecord 204 of 269 (100 per TFRecord)...\n",
      "\n"
     ]
    },
    {
     "name": "stderr",
     "output_type": "stream",
     "text": [
      "\n",
      "100%|███████████████████████████████████████████████████████████████████████| 100/100 [00:00<00:00, 12646.02it/s]\u001b[A\n"
     ]
    },
    {
     "name": "stdout",
     "output_type": "stream",
     "text": [
      "\n",
      "... Writing TFRecord 205 of 269 (100 per TFRecord)...\n",
      "\n"
     ]
    },
    {
     "name": "stderr",
     "output_type": "stream",
     "text": [
      "\n",
      "100%|███████████████████████████████████████████████████████████████████████| 100/100 [00:00<00:00, 12912.30it/s]\u001b[A\n"
     ]
    },
    {
     "name": "stdout",
     "output_type": "stream",
     "text": [
      "\n",
      "... Writing TFRecord 206 of 269 (100 per TFRecord)...\n",
      "\n"
     ]
    },
    {
     "name": "stderr",
     "output_type": "stream",
     "text": [
      "\n",
      "100%|███████████████████████████████████████████████████████████████████████| 100/100 [00:00<00:00, 12867.54it/s]\u001b[A\n"
     ]
    },
    {
     "name": "stdout",
     "output_type": "stream",
     "text": [
      "\n",
      "... Writing TFRecord 207 of 269 (100 per TFRecord)...\n",
      "\n"
     ]
    },
    {
     "name": "stderr",
     "output_type": "stream",
     "text": [
      "\n",
      "100%|███████████████████████████████████████████████████████████████████████| 100/100 [00:00<00:00, 12047.75it/s]\u001b[A\n"
     ]
    },
    {
     "name": "stdout",
     "output_type": "stream",
     "text": [
      "\n",
      "... Writing TFRecord 208 of 269 (100 per TFRecord)...\n",
      "\n"
     ]
    },
    {
     "name": "stderr",
     "output_type": "stream",
     "text": [
      "\n",
      "100%|███████████████████████████████████████████████████████████████████████| 100/100 [00:00<00:00, 10578.59it/s]\u001b[A\n"
     ]
    },
    {
     "name": "stdout",
     "output_type": "stream",
     "text": [
      "\n",
      "... Writing TFRecord 209 of 269 (100 per TFRecord)...\n",
      "\n"
     ]
    },
    {
     "name": "stderr",
     "output_type": "stream",
     "text": [
      "\n",
      "100%|███████████████████████████████████████████████████████████████████████| 100/100 [00:00<00:00, 11304.18it/s]\u001b[A\n"
     ]
    },
    {
     "name": "stdout",
     "output_type": "stream",
     "text": [
      "\n",
      "... Writing TFRecord 210 of 269 (100 per TFRecord)...\n",
      "\n"
     ]
    },
    {
     "name": "stderr",
     "output_type": "stream",
     "text": [
      "\n",
      "100%|███████████████████████████████████████████████████████████████████████| 100/100 [00:00<00:00, 13446.30it/s]\u001b[A\n"
     ]
    },
    {
     "name": "stdout",
     "output_type": "stream",
     "text": [
      "\n",
      "... Writing TFRecord 211 of 269 (100 per TFRecord)...\n",
      "\n"
     ]
    },
    {
     "name": "stderr",
     "output_type": "stream",
     "text": [
      "\n",
      "100%|███████████████████████████████████████████████████████████████████████| 100/100 [00:00<00:00, 14055.04it/s]\u001b[A\n",
      "Writing TFRecords:  78%|███████████████████████████████████████████▏           | 211/269 [00:02<00:00, 81.70it/s]"
     ]
    },
    {
     "name": "stdout",
     "output_type": "stream",
     "text": [
      "\n",
      "... Writing TFRecord 212 of 269 (100 per TFRecord)...\n",
      "\n"
     ]
    },
    {
     "name": "stderr",
     "output_type": "stream",
     "text": [
      "\n",
      "100%|███████████████████████████████████████████████████████████████████████| 100/100 [00:00<00:00, 11672.24it/s]\u001b[A\n"
     ]
    },
    {
     "name": "stdout",
     "output_type": "stream",
     "text": [
      "\n",
      "... Writing TFRecord 213 of 269 (100 per TFRecord)...\n",
      "\n"
     ]
    },
    {
     "name": "stderr",
     "output_type": "stream",
     "text": [
      "\n",
      "100%|███████████████████████████████████████████████████████████████████████| 100/100 [00:00<00:00, 10549.05it/s]\u001b[A\n"
     ]
    },
    {
     "name": "stdout",
     "output_type": "stream",
     "text": [
      "\n",
      "... Writing TFRecord 214 of 269 (100 per TFRecord)...\n",
      "\n"
     ]
    },
    {
     "name": "stderr",
     "output_type": "stream",
     "text": [
      "\n",
      "100%|███████████████████████████████████████████████████████████████████████| 100/100 [00:00<00:00, 10517.84it/s]\u001b[A\n"
     ]
    },
    {
     "name": "stdout",
     "output_type": "stream",
     "text": [
      "\n",
      "... Writing TFRecord 215 of 269 (100 per TFRecord)...\n",
      "\n"
     ]
    },
    {
     "name": "stderr",
     "output_type": "stream",
     "text": [
      "\n",
      "100%|███████████████████████████████████████████████████████████████████████| 100/100 [00:00<00:00, 11166.05it/s]\u001b[A\n"
     ]
    },
    {
     "name": "stdout",
     "output_type": "stream",
     "text": [
      "\n",
      "... Writing TFRecord 216 of 269 (100 per TFRecord)...\n",
      "\n"
     ]
    },
    {
     "name": "stderr",
     "output_type": "stream",
     "text": [
      "\n",
      "100%|███████████████████████████████████████████████████████████████████████| 100/100 [00:00<00:00, 11883.56it/s]\u001b[A\n"
     ]
    },
    {
     "name": "stdout",
     "output_type": "stream",
     "text": [
      "\n",
      "... Writing TFRecord 217 of 269 (100 per TFRecord)...\n",
      "\n"
     ]
    },
    {
     "name": "stderr",
     "output_type": "stream",
     "text": [
      "\n",
      "100%|███████████████████████████████████████████████████████████████████████| 100/100 [00:00<00:00, 11287.75it/s]\u001b[A\n"
     ]
    },
    {
     "name": "stdout",
     "output_type": "stream",
     "text": [
      "\n",
      "... Writing TFRecord 218 of 269 (100 per TFRecord)...\n",
      "\n"
     ]
    },
    {
     "name": "stderr",
     "output_type": "stream",
     "text": [
      "\n",
      "100%|███████████████████████████████████████████████████████████████████████| 100/100 [00:00<00:00, 10817.03it/s]\u001b[A\n"
     ]
    },
    {
     "name": "stdout",
     "output_type": "stream",
     "text": [
      "\n",
      "... Writing TFRecord 219 of 269 (100 per TFRecord)...\n",
      "\n"
     ]
    },
    {
     "name": "stderr",
     "output_type": "stream",
     "text": [
      "\n",
      "100%|███████████████████████████████████████████████████████████████████████| 100/100 [00:00<00:00, 12012.21it/s]\u001b[A\n"
     ]
    },
    {
     "name": "stdout",
     "output_type": "stream",
     "text": [
      "\n",
      "... Writing TFRecord 220 of 269 (100 per TFRecord)...\n",
      "\n"
     ]
    },
    {
     "name": "stderr",
     "output_type": "stream",
     "text": [
      "\n",
      "100%|███████████████████████████████████████████████████████████████████████| 100/100 [00:00<00:00, 10940.62it/s]\u001b[A\n",
      "Writing TFRecords:  82%|████████████████████████████████████████████▉          | 220/269 [00:02<00:00, 79.67it/s]"
     ]
    },
    {
     "name": "stdout",
     "output_type": "stream",
     "text": [
      "\n",
      "... Writing TFRecord 221 of 269 (100 per TFRecord)...\n",
      "\n"
     ]
    },
    {
     "name": "stderr",
     "output_type": "stream",
     "text": [
      "\n",
      "100%|███████████████████████████████████████████████████████████████████████| 100/100 [00:00<00:00, 12547.65it/s]\u001b[A\n"
     ]
    },
    {
     "name": "stdout",
     "output_type": "stream",
     "text": [
      "\n",
      "... Writing TFRecord 222 of 269 (100 per TFRecord)...\n",
      "\n"
     ]
    },
    {
     "name": "stderr",
     "output_type": "stream",
     "text": [
      "\n",
      "100%|███████████████████████████████████████████████████████████████████████| 100/100 [00:00<00:00, 13003.17it/s]\u001b[A\n"
     ]
    },
    {
     "name": "stdout",
     "output_type": "stream",
     "text": [
      "\n",
      "... Writing TFRecord 223 of 269 (100 per TFRecord)...\n",
      "\n"
     ]
    },
    {
     "name": "stderr",
     "output_type": "stream",
     "text": [
      "\n",
      "100%|███████████████████████████████████████████████████████████████████████| 100/100 [00:00<00:00, 10997.99it/s]\u001b[A\n"
     ]
    },
    {
     "name": "stdout",
     "output_type": "stream",
     "text": [
      "\n",
      "... Writing TFRecord 224 of 269 (100 per TFRecord)...\n",
      "\n"
     ]
    },
    {
     "name": "stderr",
     "output_type": "stream",
     "text": [
      "\n",
      "100%|███████████████████████████████████████████████████████████████████████| 100/100 [00:00<00:00, 11539.62it/s]\u001b[A\n"
     ]
    },
    {
     "name": "stdout",
     "output_type": "stream",
     "text": [
      "\n",
      "... Writing TFRecord 225 of 269 (100 per TFRecord)...\n",
      "\n"
     ]
    },
    {
     "name": "stderr",
     "output_type": "stream",
     "text": [
      "\n",
      "100%|███████████████████████████████████████████████████████████████████████| 100/100 [00:00<00:00, 10913.00it/s]\u001b[A\n"
     ]
    },
    {
     "name": "stdout",
     "output_type": "stream",
     "text": [
      "\n",
      "... Writing TFRecord 226 of 269 (100 per TFRecord)...\n",
      "\n"
     ]
    },
    {
     "name": "stderr",
     "output_type": "stream",
     "text": [
      "\n",
      "100%|███████████████████████████████████████████████████████████████████████| 100/100 [00:00<00:00, 12142.62it/s]\u001b[A\n"
     ]
    },
    {
     "name": "stdout",
     "output_type": "stream",
     "text": [
      "\n",
      "... Writing TFRecord 227 of 269 (100 per TFRecord)...\n",
      "\n"
     ]
    },
    {
     "name": "stderr",
     "output_type": "stream",
     "text": [
      "\n",
      "100%|███████████████████████████████████████████████████████████████████████| 100/100 [00:00<00:00, 11221.32it/s]\u001b[A\n"
     ]
    },
    {
     "name": "stdout",
     "output_type": "stream",
     "text": [
      "\n",
      "... Writing TFRecord 228 of 269 (100 per TFRecord)...\n",
      "\n"
     ]
    },
    {
     "name": "stderr",
     "output_type": "stream",
     "text": [
      "\n",
      "100%|███████████████████████████████████████████████████████████████████████| 100/100 [00:00<00:00, 12213.69it/s]\u001b[A\n"
     ]
    },
    {
     "name": "stdout",
     "output_type": "stream",
     "text": [
      "\n",
      "... Writing TFRecord 229 of 269 (100 per TFRecord)...\n",
      "\n"
     ]
    },
    {
     "name": "stderr",
     "output_type": "stream",
     "text": [
      "\n",
      "100%|███████████████████████████████████████████████████████████████████████| 100/100 [00:00<00:00, 13075.74it/s]\u001b[A\n",
      "Writing TFRecords:  85%|██████████████████████████████████████████████▊        | 229/269 [00:02<00:00, 80.07it/s]"
     ]
    },
    {
     "name": "stdout",
     "output_type": "stream",
     "text": [
      "\n",
      "... Writing TFRecord 230 of 269 (100 per TFRecord)...\n",
      "\n"
     ]
    },
    {
     "name": "stderr",
     "output_type": "stream",
     "text": [
      "\n",
      "100%|███████████████████████████████████████████████████████████████████████| 100/100 [00:00<00:00, 14405.50it/s]\u001b[A\n"
     ]
    },
    {
     "name": "stdout",
     "output_type": "stream",
     "text": [
      "\n",
      "... Writing TFRecord 231 of 269 (100 per TFRecord)...\n",
      "\n"
     ]
    },
    {
     "name": "stderr",
     "output_type": "stream",
     "text": [
      "\n",
      "100%|███████████████████████████████████████████████████████████████████████| 100/100 [00:00<00:00, 11753.69it/s]\u001b[A\n"
     ]
    },
    {
     "name": "stdout",
     "output_type": "stream",
     "text": [
      "\n",
      "... Writing TFRecord 232 of 269 (100 per TFRecord)...\n",
      "\n"
     ]
    },
    {
     "name": "stderr",
     "output_type": "stream",
     "text": [
      "\n",
      "100%|███████████████████████████████████████████████████████████████████████| 100/100 [00:00<00:00, 11221.02it/s]\u001b[A\n"
     ]
    },
    {
     "name": "stdout",
     "output_type": "stream",
     "text": [
      "\n",
      "... Writing TFRecord 233 of 269 (100 per TFRecord)...\n",
      "\n"
     ]
    },
    {
     "name": "stderr",
     "output_type": "stream",
     "text": [
      "\n",
      "100%|███████████████████████████████████████████████████████████████████████| 100/100 [00:00<00:00, 13284.04it/s]\u001b[A\n"
     ]
    },
    {
     "name": "stdout",
     "output_type": "stream",
     "text": [
      "\n",
      "... Writing TFRecord 234 of 269 (100 per TFRecord)...\n",
      "\n"
     ]
    },
    {
     "name": "stderr",
     "output_type": "stream",
     "text": [
      "\n",
      "100%|███████████████████████████████████████████████████████████████████████| 100/100 [00:00<00:00, 12349.99it/s]\u001b[A\n"
     ]
    },
    {
     "name": "stdout",
     "output_type": "stream",
     "text": [
      "\n",
      "... Writing TFRecord 235 of 269 (100 per TFRecord)...\n",
      "\n"
     ]
    },
    {
     "name": "stderr",
     "output_type": "stream",
     "text": [
      "\n",
      "100%|███████████████████████████████████████████████████████████████████████| 100/100 [00:00<00:00, 11626.94it/s]\u001b[A\n"
     ]
    },
    {
     "name": "stdout",
     "output_type": "stream",
     "text": [
      "\n",
      "... Writing TFRecord 236 of 269 (100 per TFRecord)...\n",
      "\n"
     ]
    },
    {
     "name": "stderr",
     "output_type": "stream",
     "text": [
      "\n",
      "100%|███████████████████████████████████████████████████████████████████████| 100/100 [00:00<00:00, 11132.56it/s]\u001b[A\n"
     ]
    },
    {
     "name": "stdout",
     "output_type": "stream",
     "text": [
      "\n",
      "... Writing TFRecord 237 of 269 (100 per TFRecord)...\n",
      "\n"
     ]
    },
    {
     "name": "stderr",
     "output_type": "stream",
     "text": [
      "\n",
      "100%|███████████████████████████████████████████████████████████████████████| 100/100 [00:00<00:00, 11352.22it/s]\u001b[A\n"
     ]
    },
    {
     "name": "stdout",
     "output_type": "stream",
     "text": [
      "\n",
      "... Writing TFRecord 238 of 269 (100 per TFRecord)...\n",
      "\n"
     ]
    },
    {
     "name": "stderr",
     "output_type": "stream",
     "text": [
      "\n",
      "100%|███████████████████████████████████████████████████████████████████████| 100/100 [00:00<00:00, 12296.77it/s]\u001b[A\n",
      "Writing TFRecords:  88%|████████████████████████████████████████████████▋      | 238/269 [00:02<00:00, 80.49it/s]"
     ]
    },
    {
     "name": "stdout",
     "output_type": "stream",
     "text": [
      "\n",
      "... Writing TFRecord 239 of 269 (100 per TFRecord)...\n",
      "\n"
     ]
    },
    {
     "name": "stderr",
     "output_type": "stream",
     "text": [
      "\n",
      "100%|███████████████████████████████████████████████████████████████████████| 100/100 [00:00<00:00, 11991.26it/s]\u001b[A\n"
     ]
    },
    {
     "name": "stdout",
     "output_type": "stream",
     "text": [
      "\n",
      "... Writing TFRecord 240 of 269 (100 per TFRecord)...\n",
      "\n"
     ]
    },
    {
     "name": "stderr",
     "output_type": "stream",
     "text": [
      "\n",
      "100%|███████████████████████████████████████████████████████████████████████| 100/100 [00:00<00:00, 12865.57it/s]\u001b[A\n"
     ]
    },
    {
     "name": "stdout",
     "output_type": "stream",
     "text": [
      "\n",
      "... Writing TFRecord 241 of 269 (100 per TFRecord)...\n",
      "\n"
     ]
    },
    {
     "name": "stderr",
     "output_type": "stream",
     "text": [
      "\n",
      "100%|███████████████████████████████████████████████████████████████████████| 100/100 [00:00<00:00, 11928.51it/s]\u001b[A\n"
     ]
    },
    {
     "name": "stdout",
     "output_type": "stream",
     "text": [
      "\n",
      "... Writing TFRecord 242 of 269 (100 per TFRecord)...\n",
      "\n"
     ]
    },
    {
     "name": "stderr",
     "output_type": "stream",
     "text": [
      "\n",
      "100%|███████████████████████████████████████████████████████████████████████| 100/100 [00:00<00:00, 12021.16it/s]\u001b[A\n"
     ]
    },
    {
     "name": "stdout",
     "output_type": "stream",
     "text": [
      "\n",
      "... Writing TFRecord 243 of 269 (100 per TFRecord)...\n",
      "\n"
     ]
    },
    {
     "name": "stderr",
     "output_type": "stream",
     "text": [
      "\n",
      "100%|███████████████████████████████████████████████████████████████████████| 100/100 [00:00<00:00, 13296.68it/s]\u001b[A\n"
     ]
    },
    {
     "name": "stdout",
     "output_type": "stream",
     "text": [
      "\n",
      "... Writing TFRecord 244 of 269 (100 per TFRecord)...\n",
      "\n"
     ]
    },
    {
     "name": "stderr",
     "output_type": "stream",
     "text": [
      "\n",
      "100%|███████████████████████████████████████████████████████████████████████| 100/100 [00:00<00:00, 12963.79it/s]\u001b[A\n"
     ]
    },
    {
     "name": "stdout",
     "output_type": "stream",
     "text": [
      "\n",
      "... Writing TFRecord 245 of 269 (100 per TFRecord)...\n",
      "\n"
     ]
    },
    {
     "name": "stderr",
     "output_type": "stream",
     "text": [
      "\n",
      "100%|███████████████████████████████████████████████████████████████████████| 100/100 [00:00<00:00, 12300.01it/s]\u001b[A\n"
     ]
    },
    {
     "name": "stdout",
     "output_type": "stream",
     "text": [
      "\n",
      "... Writing TFRecord 246 of 269 (100 per TFRecord)...\n",
      "\n"
     ]
    },
    {
     "name": "stderr",
     "output_type": "stream",
     "text": [
      "\n",
      "100%|███████████████████████████████████████████████████████████████████████| 100/100 [00:00<00:00, 11855.01it/s]\u001b[A\n"
     ]
    },
    {
     "name": "stdout",
     "output_type": "stream",
     "text": [
      "\n",
      "... Writing TFRecord 247 of 269 (100 per TFRecord)...\n",
      "\n"
     ]
    },
    {
     "name": "stderr",
     "output_type": "stream",
     "text": [
      "\n",
      "100%|███████████████████████████████████████████████████████████████████████| 100/100 [00:00<00:00, 12120.86it/s]\u001b[A\n",
      "Writing TFRecords:  92%|██████████████████████████████████████████████████▌    | 247/269 [00:03<00:00, 81.49it/s]"
     ]
    },
    {
     "name": "stdout",
     "output_type": "stream",
     "text": [
      "\n",
      "... Writing TFRecord 248 of 269 (100 per TFRecord)...\n",
      "\n"
     ]
    },
    {
     "name": "stderr",
     "output_type": "stream",
     "text": [
      "\n",
      "100%|███████████████████████████████████████████████████████████████████████| 100/100 [00:00<00:00, 10487.33it/s]\u001b[A\n"
     ]
    },
    {
     "name": "stdout",
     "output_type": "stream",
     "text": [
      "\n",
      "... Writing TFRecord 249 of 269 (100 per TFRecord)...\n",
      "\n"
     ]
    },
    {
     "name": "stderr",
     "output_type": "stream",
     "text": [
      "\n",
      "100%|███████████████████████████████████████████████████████████████████████| 100/100 [00:00<00:00, 10765.94it/s]\u001b[A\n"
     ]
    },
    {
     "name": "stdout",
     "output_type": "stream",
     "text": [
      "\n",
      "... Writing TFRecord 250 of 269 (100 per TFRecord)...\n",
      "\n"
     ]
    },
    {
     "name": "stderr",
     "output_type": "stream",
     "text": [
      "\n",
      "100%|███████████████████████████████████████████████████████████████████████| 100/100 [00:00<00:00, 11161.89it/s]\u001b[A\n"
     ]
    },
    {
     "name": "stdout",
     "output_type": "stream",
     "text": [
      "\n",
      "... Writing TFRecord 251 of 269 (100 per TFRecord)...\n",
      "\n"
     ]
    },
    {
     "name": "stderr",
     "output_type": "stream",
     "text": [
      "\n",
      "100%|███████████████████████████████████████████████████████████████████████| 100/100 [00:00<00:00, 11329.22it/s]\u001b[A\n"
     ]
    },
    {
     "name": "stdout",
     "output_type": "stream",
     "text": [
      "\n",
      "... Writing TFRecord 252 of 269 (100 per TFRecord)...\n",
      "\n"
     ]
    },
    {
     "name": "stderr",
     "output_type": "stream",
     "text": [
      "\n",
      "100%|███████████████████████████████████████████████████████████████████████| 100/100 [00:00<00:00, 12301.09it/s]\u001b[A\n"
     ]
    },
    {
     "name": "stdout",
     "output_type": "stream",
     "text": [
      "\n",
      "... Writing TFRecord 253 of 269 (100 per TFRecord)...\n",
      "\n"
     ]
    },
    {
     "name": "stderr",
     "output_type": "stream",
     "text": [
      "\n",
      "100%|███████████████████████████████████████████████████████████████████████| 100/100 [00:00<00:00, 10938.62it/s]\u001b[A\n"
     ]
    },
    {
     "name": "stdout",
     "output_type": "stream",
     "text": [
      "\n",
      "... Writing TFRecord 254 of 269 (100 per TFRecord)...\n",
      "\n"
     ]
    },
    {
     "name": "stderr",
     "output_type": "stream",
     "text": [
      "\n",
      "100%|███████████████████████████████████████████████████████████████████████| 100/100 [00:00<00:00, 11245.39it/s]\u001b[A\n"
     ]
    },
    {
     "name": "stdout",
     "output_type": "stream",
     "text": [
      "\n",
      "... Writing TFRecord 255 of 269 (100 per TFRecord)...\n",
      "\n"
     ]
    },
    {
     "name": "stderr",
     "output_type": "stream",
     "text": [
      "\n",
      "100%|███████████████████████████████████████████████████████████████████████| 100/100 [00:00<00:00, 10898.26it/s]\u001b[A\n"
     ]
    },
    {
     "name": "stdout",
     "output_type": "stream",
     "text": [
      "\n",
      "... Writing TFRecord 256 of 269 (100 per TFRecord)...\n",
      "\n"
     ]
    },
    {
     "name": "stderr",
     "output_type": "stream",
     "text": [
      "\n",
      "100%|███████████████████████████████████████████████████████████████████████| 100/100 [00:00<00:00, 11243.88it/s]\u001b[A\n",
      "Writing TFRecords:  95%|████████████████████████████████████████████████████▎  | 256/269 [00:03<00:00, 80.41it/s]"
     ]
    },
    {
     "name": "stdout",
     "output_type": "stream",
     "text": [
      "\n",
      "... Writing TFRecord 257 of 269 (100 per TFRecord)...\n",
      "\n"
     ]
    },
    {
     "name": "stderr",
     "output_type": "stream",
     "text": [
      "\n",
      "100%|███████████████████████████████████████████████████████████████████████| 100/100 [00:00<00:00, 12273.02it/s]\u001b[A\n"
     ]
    },
    {
     "name": "stdout",
     "output_type": "stream",
     "text": [
      "\n",
      "... Writing TFRecord 258 of 269 (100 per TFRecord)...\n",
      "\n"
     ]
    },
    {
     "name": "stderr",
     "output_type": "stream",
     "text": [
      "\n",
      "100%|███████████████████████████████████████████████████████████████████████| 100/100 [00:00<00:00, 10894.86it/s]\u001b[A\n"
     ]
    },
    {
     "name": "stdout",
     "output_type": "stream",
     "text": [
      "\n",
      "... Writing TFRecord 259 of 269 (100 per TFRecord)...\n",
      "\n"
     ]
    },
    {
     "name": "stderr",
     "output_type": "stream",
     "text": [
      "\n",
      "100%|███████████████████████████████████████████████████████████████████████| 100/100 [00:00<00:00, 12940.99it/s]\u001b[A\n"
     ]
    },
    {
     "name": "stdout",
     "output_type": "stream",
     "text": [
      "\n",
      "... Writing TFRecord 260 of 269 (100 per TFRecord)...\n",
      "\n"
     ]
    },
    {
     "name": "stderr",
     "output_type": "stream",
     "text": [
      "\n",
      "100%|███████████████████████████████████████████████████████████████████████| 100/100 [00:00<00:00, 13026.60it/s]\u001b[A\n"
     ]
    },
    {
     "name": "stdout",
     "output_type": "stream",
     "text": [
      "\n",
      "... Writing TFRecord 261 of 269 (100 per TFRecord)...\n",
      "\n"
     ]
    },
    {
     "name": "stderr",
     "output_type": "stream",
     "text": [
      "\n",
      "100%|███████████████████████████████████████████████████████████████████████| 100/100 [00:00<00:00, 12686.18it/s]\u001b[A\n"
     ]
    },
    {
     "name": "stdout",
     "output_type": "stream",
     "text": [
      "\n",
      "... Writing TFRecord 262 of 269 (100 per TFRecord)...\n",
      "\n"
     ]
    },
    {
     "name": "stderr",
     "output_type": "stream",
     "text": [
      "\n",
      "100%|███████████████████████████████████████████████████████████████████████| 100/100 [00:00<00:00, 13019.72it/s]\u001b[A\n"
     ]
    },
    {
     "name": "stdout",
     "output_type": "stream",
     "text": [
      "\n",
      "... Writing TFRecord 263 of 269 (100 per TFRecord)...\n",
      "\n"
     ]
    },
    {
     "name": "stderr",
     "output_type": "stream",
     "text": [
      "\n",
      "100%|███████████████████████████████████████████████████████████████████████| 100/100 [00:00<00:00, 10810.90it/s]\u001b[A\n"
     ]
    },
    {
     "name": "stdout",
     "output_type": "stream",
     "text": [
      "\n",
      "... Writing TFRecord 264 of 269 (100 per TFRecord)...\n",
      "\n"
     ]
    },
    {
     "name": "stderr",
     "output_type": "stream",
     "text": [
      "\n",
      "100%|███████████████████████████████████████████████████████████████████████| 100/100 [00:00<00:00, 11841.63it/s]\u001b[A\n"
     ]
    },
    {
     "name": "stdout",
     "output_type": "stream",
     "text": [
      "\n",
      "... Writing TFRecord 265 of 269 (100 per TFRecord)...\n",
      "\n"
     ]
    },
    {
     "name": "stderr",
     "output_type": "stream",
     "text": [
      "\n",
      "100%|████████████████████████████████████████████████████████████████████████| 100/100 [00:00<00:00, 8108.70it/s]\u001b[A\n",
      "Writing TFRecords:  99%|██████████████████████████████████████████████████████▏| 265/269 [00:03<00:00, 79.46it/s]"
     ]
    },
    {
     "name": "stdout",
     "output_type": "stream",
     "text": [
      "\n",
      "... Writing TFRecord 266 of 269 (100 per TFRecord)...\n",
      "\n"
     ]
    },
    {
     "name": "stderr",
     "output_type": "stream",
     "text": [
      "\n",
      "100%|████████████████████████████████████████████████████████████████████████| 100/100 [00:00<00:00, 7939.10it/s]\u001b[A\n"
     ]
    },
    {
     "name": "stdout",
     "output_type": "stream",
     "text": [
      "\n",
      "... Writing TFRecord 267 of 269 (100 per TFRecord)...\n",
      "\n"
     ]
    },
    {
     "name": "stderr",
     "output_type": "stream",
     "text": [
      "\n",
      "100%|███████████████████████████████████████████████████████████████████████| 100/100 [00:00<00:00, 11879.19it/s]\u001b[A\n"
     ]
    },
    {
     "name": "stdout",
     "output_type": "stream",
     "text": [
      "\n",
      "... Writing TFRecord 268 of 269 (100 per TFRecord)...\n",
      "\n"
     ]
    },
    {
     "name": "stderr",
     "output_type": "stream",
     "text": [
      "\n",
      "100%|███████████████████████████████████████████████████████████████████████| 100/100 [00:00<00:00, 12288.12it/s]\u001b[A\n"
     ]
    },
    {
     "name": "stdout",
     "output_type": "stream",
     "text": [
      "\n",
      "... Writing TFRecord 269 of 269 (100 per TFRecord)...\n",
      "\n"
     ]
    },
    {
     "name": "stderr",
     "output_type": "stream",
     "text": [
      "\n",
      " 33%|████████████████████████                                                 | 33/100 [00:00<00:00, 9065.50it/s]\u001b[A\n",
      "Writing TFRecords: 100%|███████████████████████████████████████████████████████| 269/269 [00:03<00:00, 80.74it/s]\n",
      "Writing TFRecords:   0%|                                                                 | 0/268 [00:00<?, ?it/s]"
     ]
    },
    {
     "name": "stdout",
     "output_type": "stream",
     "text": [
      "\n",
      "... Writing TFRecord 1 of 268 (100 per TFRecord)...\n",
      "\n"
     ]
    },
    {
     "name": "stderr",
     "output_type": "stream",
     "text": [
      "\n",
      "100%|███████████████████████████████████████████████████████████████████████| 100/100 [00:00<00:00, 11945.16it/s]\u001b[A\n"
     ]
    },
    {
     "name": "stdout",
     "output_type": "stream",
     "text": [
      "\n",
      "... Writing TFRecord 2 of 268 (100 per TFRecord)...\n",
      "\n"
     ]
    },
    {
     "name": "stderr",
     "output_type": "stream",
     "text": [
      "\n",
      "100%|███████████████████████████████████████████████████████████████████████| 100/100 [00:00<00:00, 12925.44it/s]\u001b[A\n"
     ]
    },
    {
     "name": "stdout",
     "output_type": "stream",
     "text": [
      "\n",
      "... Writing TFRecord 3 of 268 (100 per TFRecord)...\n",
      "\n"
     ]
    },
    {
     "name": "stderr",
     "output_type": "stream",
     "text": [
      "\n",
      "100%|███████████████████████████████████████████████████████████████████████| 100/100 [00:00<00:00, 10276.63it/s]\u001b[A\n"
     ]
    },
    {
     "name": "stdout",
     "output_type": "stream",
     "text": [
      "\n",
      "... Writing TFRecord 4 of 268 (100 per TFRecord)...\n",
      "\n"
     ]
    },
    {
     "name": "stderr",
     "output_type": "stream",
     "text": [
      "\n",
      "100%|███████████████████████████████████████████████████████████████████████| 100/100 [00:00<00:00, 11408.73it/s]\u001b[A\n"
     ]
    },
    {
     "name": "stdout",
     "output_type": "stream",
     "text": [
      "\n",
      "... Writing TFRecord 5 of 268 (100 per TFRecord)...\n",
      "\n"
     ]
    },
    {
     "name": "stderr",
     "output_type": "stream",
     "text": [
      "\n",
      "100%|███████████████████████████████████████████████████████████████████████| 100/100 [00:00<00:00, 11493.76it/s]\u001b[A\n"
     ]
    },
    {
     "name": "stdout",
     "output_type": "stream",
     "text": [
      "\n",
      "... Writing TFRecord 6 of 268 (100 per TFRecord)...\n",
      "\n"
     ]
    },
    {
     "name": "stderr",
     "output_type": "stream",
     "text": [
      "\n",
      "100%|███████████████████████████████████████████████████████████████████████| 100/100 [00:00<00:00, 10117.00it/s]\u001b[A\n"
     ]
    },
    {
     "name": "stdout",
     "output_type": "stream",
     "text": [
      "\n",
      "... Writing TFRecord 7 of 268 (100 per TFRecord)...\n",
      "\n"
     ]
    },
    {
     "name": "stderr",
     "output_type": "stream",
     "text": [
      "\n",
      "100%|███████████████████████████████████████████████████████████████████████| 100/100 [00:00<00:00, 12610.28it/s]\u001b[A\n"
     ]
    },
    {
     "name": "stdout",
     "output_type": "stream",
     "text": [
      "\n",
      "... Writing TFRecord 8 of 268 (100 per TFRecord)...\n",
      "\n"
     ]
    },
    {
     "name": "stderr",
     "output_type": "stream",
     "text": [
      "\n",
      "100%|███████████████████████████████████████████████████████████████████████| 100/100 [00:00<00:00, 10119.44it/s]\u001b[A\n",
      "Writing TFRecords:   3%|█▋                                                       | 8/268 [00:00<00:03, 70.69it/s]"
     ]
    },
    {
     "name": "stdout",
     "output_type": "stream",
     "text": [
      "\n",
      "... Writing TFRecord 9 of 268 (100 per TFRecord)...\n",
      "\n"
     ]
    },
    {
     "name": "stderr",
     "output_type": "stream",
     "text": [
      "\n",
      "100%|███████████████████████████████████████████████████████████████████████| 100/100 [00:00<00:00, 10655.18it/s]\u001b[A\n"
     ]
    },
    {
     "name": "stdout",
     "output_type": "stream",
     "text": [
      "\n",
      "... Writing TFRecord 10 of 268 (100 per TFRecord)...\n",
      "\n"
     ]
    },
    {
     "name": "stderr",
     "output_type": "stream",
     "text": [
      "\n",
      "100%|███████████████████████████████████████████████████████████████████████| 100/100 [00:00<00:00, 13055.79it/s]\u001b[A\n"
     ]
    },
    {
     "name": "stdout",
     "output_type": "stream",
     "text": [
      "\n",
      "... Writing TFRecord 11 of 268 (100 per TFRecord)...\n",
      "\n"
     ]
    },
    {
     "name": "stderr",
     "output_type": "stream",
     "text": [
      "\n",
      "100%|███████████████████████████████████████████████████████████████████████| 100/100 [00:00<00:00, 12107.57it/s]\u001b[A\n"
     ]
    },
    {
     "name": "stdout",
     "output_type": "stream",
     "text": [
      "\n",
      "... Writing TFRecord 12 of 268 (100 per TFRecord)...\n",
      "\n"
     ]
    },
    {
     "name": "stderr",
     "output_type": "stream",
     "text": [
      "\n",
      "100%|███████████████████████████████████████████████████████████████████████| 100/100 [00:00<00:00, 11664.78it/s]\u001b[A\n"
     ]
    },
    {
     "name": "stdout",
     "output_type": "stream",
     "text": [
      "\n",
      "... Writing TFRecord 13 of 268 (100 per TFRecord)...\n",
      "\n"
     ]
    },
    {
     "name": "stderr",
     "output_type": "stream",
     "text": [
      "\n",
      "100%|███████████████████████████████████████████████████████████████████████| 100/100 [00:00<00:00, 11450.15it/s]\u001b[A\n"
     ]
    },
    {
     "name": "stdout",
     "output_type": "stream",
     "text": [
      "\n",
      "... Writing TFRecord 14 of 268 (100 per TFRecord)...\n",
      "\n"
     ]
    },
    {
     "name": "stderr",
     "output_type": "stream",
     "text": [
      "\n",
      "100%|███████████████████████████████████████████████████████████████████████| 100/100 [00:00<00:00, 10701.12it/s]\u001b[A\n"
     ]
    },
    {
     "name": "stdout",
     "output_type": "stream",
     "text": [
      "\n",
      "... Writing TFRecord 15 of 268 (100 per TFRecord)...\n",
      "\n"
     ]
    },
    {
     "name": "stderr",
     "output_type": "stream",
     "text": [
      "\n",
      "100%|████████████████████████████████████████████████████████████████████████| 100/100 [00:00<00:00, 8324.84it/s]\u001b[A\n"
     ]
    },
    {
     "name": "stdout",
     "output_type": "stream",
     "text": [
      "\n",
      "... Writing TFRecord 16 of 268 (100 per TFRecord)...\n",
      "\n"
     ]
    },
    {
     "name": "stderr",
     "output_type": "stream",
     "text": [
      "\n",
      "100%|███████████████████████████████████████████████████████████████████████| 100/100 [00:00<00:00, 11999.84it/s]\u001b[A\n",
      "Writing TFRecords:   6%|███▎                                                    | 16/268 [00:00<00:03, 72.26it/s]"
     ]
    },
    {
     "name": "stdout",
     "output_type": "stream",
     "text": [
      "\n",
      "... Writing TFRecord 17 of 268 (100 per TFRecord)...\n",
      "\n"
     ]
    },
    {
     "name": "stderr",
     "output_type": "stream",
     "text": [
      "\n",
      "100%|███████████████████████████████████████████████████████████████████████| 100/100 [00:00<00:00, 11981.67it/s]\u001b[A\n"
     ]
    },
    {
     "name": "stdout",
     "output_type": "stream",
     "text": [
      "\n",
      "... Writing TFRecord 18 of 268 (100 per TFRecord)...\n",
      "\n"
     ]
    },
    {
     "name": "stderr",
     "output_type": "stream",
     "text": [
      "\n",
      "100%|███████████████████████████████████████████████████████████████████████| 100/100 [00:00<00:00, 11019.08it/s]\u001b[A\n"
     ]
    },
    {
     "name": "stdout",
     "output_type": "stream",
     "text": [
      "\n",
      "... Writing TFRecord 19 of 268 (100 per TFRecord)...\n",
      "\n"
     ]
    },
    {
     "name": "stderr",
     "output_type": "stream",
     "text": [
      "\n",
      "100%|███████████████████████████████████████████████████████████████████████| 100/100 [00:00<00:00, 11481.81it/s]\u001b[A\n"
     ]
    },
    {
     "name": "stdout",
     "output_type": "stream",
     "text": [
      "\n",
      "... Writing TFRecord 20 of 268 (100 per TFRecord)...\n",
      "\n"
     ]
    },
    {
     "name": "stderr",
     "output_type": "stream",
     "text": [
      "\n",
      "100%|███████████████████████████████████████████████████████████████████████| 100/100 [00:00<00:00, 11497.54it/s]\u001b[A\n"
     ]
    },
    {
     "name": "stdout",
     "output_type": "stream",
     "text": [
      "\n",
      "... Writing TFRecord 21 of 268 (100 per TFRecord)...\n",
      "\n"
     ]
    },
    {
     "name": "stderr",
     "output_type": "stream",
     "text": [
      "\n",
      "100%|███████████████████████████████████████████████████████████████████████| 100/100 [00:00<00:00, 10994.82it/s]\u001b[A\n"
     ]
    },
    {
     "name": "stdout",
     "output_type": "stream",
     "text": [
      "\n",
      "... Writing TFRecord 22 of 268 (100 per TFRecord)...\n",
      "\n"
     ]
    },
    {
     "name": "stderr",
     "output_type": "stream",
     "text": [
      "\n",
      "100%|███████████████████████████████████████████████████████████████████████| 100/100 [00:00<00:00, 11042.29it/s]\u001b[A\n"
     ]
    },
    {
     "name": "stdout",
     "output_type": "stream",
     "text": [
      "\n",
      "... Writing TFRecord 23 of 268 (100 per TFRecord)...\n",
      "\n"
     ]
    },
    {
     "name": "stderr",
     "output_type": "stream",
     "text": [
      "\n",
      "100%|███████████████████████████████████████████████████████████████████████| 100/100 [00:00<00:00, 10138.76it/s]\u001b[A\n"
     ]
    },
    {
     "name": "stdout",
     "output_type": "stream",
     "text": [
      "\n",
      "... Writing TFRecord 24 of 268 (100 per TFRecord)...\n",
      "\n"
     ]
    },
    {
     "name": "stderr",
     "output_type": "stream",
     "text": [
      "\n",
      "100%|███████████████████████████████████████████████████████████████████████| 100/100 [00:00<00:00, 11659.27it/s]\u001b[A\n",
      "Writing TFRecords:   9%|█████                                                   | 24/268 [00:00<00:03, 72.25it/s]"
     ]
    },
    {
     "name": "stdout",
     "output_type": "stream",
     "text": [
      "\n",
      "... Writing TFRecord 25 of 268 (100 per TFRecord)...\n",
      "\n"
     ]
    },
    {
     "name": "stderr",
     "output_type": "stream",
     "text": [
      "\n",
      "100%|███████████████████████████████████████████████████████████████████████| 100/100 [00:00<00:00, 10854.82it/s]\u001b[A\n"
     ]
    },
    {
     "name": "stdout",
     "output_type": "stream",
     "text": [
      "\n",
      "... Writing TFRecord 26 of 268 (100 per TFRecord)...\n",
      "\n"
     ]
    },
    {
     "name": "stderr",
     "output_type": "stream",
     "text": [
      "\n",
      "100%|███████████████████████████████████████████████████████████████████████| 100/100 [00:00<00:00, 11141.43it/s]\u001b[A\n"
     ]
    },
    {
     "name": "stdout",
     "output_type": "stream",
     "text": [
      "\n",
      "... Writing TFRecord 27 of 268 (100 per TFRecord)...\n",
      "\n"
     ]
    },
    {
     "name": "stderr",
     "output_type": "stream",
     "text": [
      "\n",
      "100%|███████████████████████████████████████████████████████████████████████| 100/100 [00:00<00:00, 12198.77it/s]\u001b[A\n"
     ]
    },
    {
     "name": "stdout",
     "output_type": "stream",
     "text": [
      "\n",
      "... Writing TFRecord 28 of 268 (100 per TFRecord)...\n",
      "\n"
     ]
    },
    {
     "name": "stderr",
     "output_type": "stream",
     "text": [
      "\n",
      "100%|███████████████████████████████████████████████████████████████████████| 100/100 [00:00<00:00, 10331.56it/s]\u001b[A\n"
     ]
    },
    {
     "name": "stdout",
     "output_type": "stream",
     "text": [
      "\n",
      "... Writing TFRecord 29 of 268 (100 per TFRecord)...\n",
      "\n"
     ]
    },
    {
     "name": "stderr",
     "output_type": "stream",
     "text": [
      "\n",
      "100%|███████████████████████████████████████████████████████████████████████| 100/100 [00:00<00:00, 11630.49it/s]\u001b[A\n"
     ]
    },
    {
     "name": "stdout",
     "output_type": "stream",
     "text": [
      "\n",
      "... Writing TFRecord 30 of 268 (100 per TFRecord)...\n",
      "\n"
     ]
    },
    {
     "name": "stderr",
     "output_type": "stream",
     "text": [
      "\n",
      "100%|███████████████████████████████████████████████████████████████████████| 100/100 [00:00<00:00, 10820.94it/s]\u001b[A\n"
     ]
    },
    {
     "name": "stdout",
     "output_type": "stream",
     "text": [
      "\n",
      "... Writing TFRecord 31 of 268 (100 per TFRecord)...\n",
      "\n"
     ]
    },
    {
     "name": "stderr",
     "output_type": "stream",
     "text": [
      "\n",
      "100%|███████████████████████████████████████████████████████████████████████| 100/100 [00:00<00:00, 11327.08it/s]\u001b[A\n"
     ]
    },
    {
     "name": "stdout",
     "output_type": "stream",
     "text": [
      "\n",
      "... Writing TFRecord 32 of 268 (100 per TFRecord)...\n",
      "\n"
     ]
    },
    {
     "name": "stderr",
     "output_type": "stream",
     "text": [
      "\n",
      "100%|███████████████████████████████████████████████████████████████████████| 100/100 [00:00<00:00, 11349.76it/s]\u001b[A\n",
      "Writing TFRecords:  12%|██████▋                                                 | 32/268 [00:00<00:03, 74.03it/s]"
     ]
    },
    {
     "name": "stdout",
     "output_type": "stream",
     "text": [
      "\n",
      "... Writing TFRecord 33 of 268 (100 per TFRecord)...\n",
      "\n"
     ]
    },
    {
     "name": "stderr",
     "output_type": "stream",
     "text": [
      "\n",
      "100%|███████████████████████████████████████████████████████████████████████| 100/100 [00:00<00:00, 10035.42it/s]\u001b[A\n"
     ]
    },
    {
     "name": "stdout",
     "output_type": "stream",
     "text": [
      "\n",
      "... Writing TFRecord 34 of 268 (100 per TFRecord)...\n",
      "\n"
     ]
    },
    {
     "name": "stderr",
     "output_type": "stream",
     "text": [
      "\n",
      "100%|████████████████████████████████████████████████████████████████████████| 100/100 [00:00<00:00, 8258.29it/s]\u001b[A\n"
     ]
    },
    {
     "name": "stdout",
     "output_type": "stream",
     "text": [
      "\n",
      "... Writing TFRecord 35 of 268 (100 per TFRecord)...\n",
      "\n"
     ]
    },
    {
     "name": "stderr",
     "output_type": "stream",
     "text": [
      "\n",
      "100%|███████████████████████████████████████████████████████████████████████| 100/100 [00:00<00:00, 11877.84it/s]\u001b[A\n"
     ]
    },
    {
     "name": "stdout",
     "output_type": "stream",
     "text": [
      "\n",
      "... Writing TFRecord 36 of 268 (100 per TFRecord)...\n",
      "\n"
     ]
    },
    {
     "name": "stderr",
     "output_type": "stream",
     "text": [
      "\n",
      "100%|███████████████████████████████████████████████████████████████████████| 100/100 [00:00<00:00, 11991.95it/s]\u001b[A\n"
     ]
    },
    {
     "name": "stdout",
     "output_type": "stream",
     "text": [
      "\n",
      "... Writing TFRecord 37 of 268 (100 per TFRecord)...\n",
      "\n"
     ]
    },
    {
     "name": "stderr",
     "output_type": "stream",
     "text": [
      "\n",
      "100%|███████████████████████████████████████████████████████████████████████| 100/100 [00:00<00:00, 11672.89it/s]\u001b[A\n"
     ]
    },
    {
     "name": "stdout",
     "output_type": "stream",
     "text": [
      "\n",
      "... Writing TFRecord 38 of 268 (100 per TFRecord)...\n",
      "\n"
     ]
    },
    {
     "name": "stderr",
     "output_type": "stream",
     "text": [
      "\n",
      "100%|███████████████████████████████████████████████████████████████████████| 100/100 [00:00<00:00, 11207.23it/s]\u001b[A\n"
     ]
    },
    {
     "name": "stdout",
     "output_type": "stream",
     "text": [
      "\n",
      "... Writing TFRecord 39 of 268 (100 per TFRecord)...\n",
      "\n"
     ]
    },
    {
     "name": "stderr",
     "output_type": "stream",
     "text": [
      "\n",
      "100%|███████████████████████████████████████████████████████████████████████| 100/100 [00:00<00:00, 12436.41it/s]\u001b[A\n"
     ]
    },
    {
     "name": "stdout",
     "output_type": "stream",
     "text": [
      "\n",
      "... Writing TFRecord 40 of 268 (100 per TFRecord)...\n",
      "\n"
     ]
    },
    {
     "name": "stderr",
     "output_type": "stream",
     "text": [
      "\n",
      "100%|███████████████████████████████████████████████████████████████████████| 100/100 [00:00<00:00, 12223.66it/s]\u001b[A\n",
      "Writing TFRecords:  15%|████████▎                                               | 40/268 [00:00<00:03, 73.62it/s]"
     ]
    },
    {
     "name": "stdout",
     "output_type": "stream",
     "text": [
      "\n",
      "... Writing TFRecord 41 of 268 (100 per TFRecord)...\n",
      "\n"
     ]
    },
    {
     "name": "stderr",
     "output_type": "stream",
     "text": [
      "\n",
      "100%|███████████████████████████████████████████████████████████████████████| 100/100 [00:00<00:00, 13636.91it/s]\u001b[A\n"
     ]
    },
    {
     "name": "stdout",
     "output_type": "stream",
     "text": [
      "\n",
      "... Writing TFRecord 42 of 268 (100 per TFRecord)...\n",
      "\n"
     ]
    },
    {
     "name": "stderr",
     "output_type": "stream",
     "text": [
      "\n",
      "100%|███████████████████████████████████████████████████████████████████████| 100/100 [00:00<00:00, 12183.54it/s]\u001b[A\n"
     ]
    },
    {
     "name": "stdout",
     "output_type": "stream",
     "text": [
      "\n",
      "... Writing TFRecord 43 of 268 (100 per TFRecord)...\n",
      "\n"
     ]
    },
    {
     "name": "stderr",
     "output_type": "stream",
     "text": [
      "\n",
      "100%|███████████████████████████████████████████████████████████████████████| 100/100 [00:00<00:00, 11772.82it/s]\u001b[A\n"
     ]
    },
    {
     "name": "stdout",
     "output_type": "stream",
     "text": [
      "\n",
      "... Writing TFRecord 44 of 268 (100 per TFRecord)...\n",
      "\n"
     ]
    },
    {
     "name": "stderr",
     "output_type": "stream",
     "text": [
      "\n",
      "100%|███████████████████████████████████████████████████████████████████████| 100/100 [00:00<00:00, 13406.76it/s]\u001b[A\n"
     ]
    },
    {
     "name": "stdout",
     "output_type": "stream",
     "text": [
      "\n",
      "... Writing TFRecord 45 of 268 (100 per TFRecord)...\n",
      "\n"
     ]
    },
    {
     "name": "stderr",
     "output_type": "stream",
     "text": [
      "\n",
      "100%|███████████████████████████████████████████████████████████████████████| 100/100 [00:00<00:00, 12602.70it/s]\u001b[A\n"
     ]
    },
    {
     "name": "stdout",
     "output_type": "stream",
     "text": [
      "\n",
      "... Writing TFRecord 46 of 268 (100 per TFRecord)...\n",
      "\n"
     ]
    },
    {
     "name": "stderr",
     "output_type": "stream",
     "text": [
      "\n",
      "100%|███████████████████████████████████████████████████████████████████████| 100/100 [00:00<00:00, 13298.79it/s]\u001b[A\n"
     ]
    },
    {
     "name": "stdout",
     "output_type": "stream",
     "text": [
      "\n",
      "... Writing TFRecord 47 of 268 (100 per TFRecord)...\n",
      "\n"
     ]
    },
    {
     "name": "stderr",
     "output_type": "stream",
     "text": [
      "\n",
      "100%|███████████████████████████████████████████████████████████████████████| 100/100 [00:00<00:00, 13141.70it/s]\u001b[A\n"
     ]
    },
    {
     "name": "stdout",
     "output_type": "stream",
     "text": [
      "\n",
      "... Writing TFRecord 48 of 268 (100 per TFRecord)...\n",
      "\n"
     ]
    },
    {
     "name": "stderr",
     "output_type": "stream",
     "text": [
      "\n",
      "100%|███████████████████████████████████████████████████████████████████████| 100/100 [00:00<00:00, 13285.73it/s]\u001b[A\n"
     ]
    },
    {
     "name": "stdout",
     "output_type": "stream",
     "text": [
      "\n",
      "... Writing TFRecord 49 of 268 (100 per TFRecord)...\n",
      "\n"
     ]
    },
    {
     "name": "stderr",
     "output_type": "stream",
     "text": [
      "\n",
      "100%|███████████████████████████████████████████████████████████████████████| 100/100 [00:00<00:00, 13472.21it/s]\u001b[A\n",
      "Writing TFRecords:  18%|██████████▏                                             | 49/268 [00:00<00:02, 76.22it/s]"
     ]
    },
    {
     "name": "stdout",
     "output_type": "stream",
     "text": [
      "\n",
      "... Writing TFRecord 50 of 268 (100 per TFRecord)...\n",
      "\n"
     ]
    },
    {
     "name": "stderr",
     "output_type": "stream",
     "text": [
      "\n",
      "100%|███████████████████████████████████████████████████████████████████████| 100/100 [00:00<00:00, 12527.42it/s]\u001b[A\n"
     ]
    },
    {
     "name": "stdout",
     "output_type": "stream",
     "text": [
      "\n",
      "... Writing TFRecord 51 of 268 (100 per TFRecord)...\n",
      "\n"
     ]
    },
    {
     "name": "stderr",
     "output_type": "stream",
     "text": [
      "\n",
      "100%|███████████████████████████████████████████████████████████████████████| 100/100 [00:00<00:00, 13211.24it/s]\u001b[A\n"
     ]
    },
    {
     "name": "stdout",
     "output_type": "stream",
     "text": [
      "\n",
      "... Writing TFRecord 52 of 268 (100 per TFRecord)...\n",
      "\n"
     ]
    },
    {
     "name": "stderr",
     "output_type": "stream",
     "text": [
      "\n",
      "100%|███████████████████████████████████████████████████████████████████████| 100/100 [00:00<00:00, 13969.84it/s]\u001b[A\n"
     ]
    },
    {
     "name": "stdout",
     "output_type": "stream",
     "text": [
      "\n",
      "... Writing TFRecord 53 of 268 (100 per TFRecord)...\n",
      "\n"
     ]
    },
    {
     "name": "stderr",
     "output_type": "stream",
     "text": [
      "\n",
      "100%|███████████████████████████████████████████████████████████████████████| 100/100 [00:00<00:00, 12543.53it/s]\u001b[A\n"
     ]
    },
    {
     "name": "stdout",
     "output_type": "stream",
     "text": [
      "\n",
      "... Writing TFRecord 54 of 268 (100 per TFRecord)...\n",
      "\n"
     ]
    },
    {
     "name": "stderr",
     "output_type": "stream",
     "text": [
      "\n",
      "100%|███████████████████████████████████████████████████████████████████████| 100/100 [00:00<00:00, 10768.71it/s]\u001b[A\n"
     ]
    },
    {
     "name": "stdout",
     "output_type": "stream",
     "text": [
      "\n",
      "... Writing TFRecord 55 of 268 (100 per TFRecord)...\n",
      "\n"
     ]
    },
    {
     "name": "stderr",
     "output_type": "stream",
     "text": [
      "\n",
      "100%|███████████████████████████████████████████████████████████████████████| 100/100 [00:00<00:00, 10293.28it/s]\u001b[A\n"
     ]
    },
    {
     "name": "stdout",
     "output_type": "stream",
     "text": [
      "\n",
      "... Writing TFRecord 56 of 268 (100 per TFRecord)...\n",
      "\n"
     ]
    },
    {
     "name": "stderr",
     "output_type": "stream",
     "text": [
      "\n",
      "100%|███████████████████████████████████████████████████████████████████████| 100/100 [00:00<00:00, 11197.95it/s]\u001b[A\n"
     ]
    },
    {
     "name": "stdout",
     "output_type": "stream",
     "text": [
      "\n",
      "... Writing TFRecord 57 of 268 (100 per TFRecord)...\n",
      "\n"
     ]
    },
    {
     "name": "stderr",
     "output_type": "stream",
     "text": [
      "\n",
      "100%|███████████████████████████████████████████████████████████████████████| 100/100 [00:00<00:00, 12517.32it/s]\u001b[A\n"
     ]
    },
    {
     "name": "stdout",
     "output_type": "stream",
     "text": [
      "\n",
      "... Writing TFRecord 58 of 268 (100 per TFRecord)...\n",
      "\n"
     ]
    },
    {
     "name": "stderr",
     "output_type": "stream",
     "text": [
      "\n",
      "100%|███████████████████████████████████████████████████████████████████████| 100/100 [00:00<00:00, 13271.01it/s]\u001b[A\n",
      "Writing TFRecords:  22%|████████████                                            | 58/268 [00:00<00:02, 78.00it/s]"
     ]
    },
    {
     "name": "stdout",
     "output_type": "stream",
     "text": [
      "\n",
      "... Writing TFRecord 59 of 268 (100 per TFRecord)...\n",
      "\n"
     ]
    },
    {
     "name": "stderr",
     "output_type": "stream",
     "text": [
      "\n",
      "100%|███████████████████████████████████████████████████████████████████████| 100/100 [00:00<00:00, 11668.02it/s]\u001b[A\n"
     ]
    },
    {
     "name": "stdout",
     "output_type": "stream",
     "text": [
      "\n",
      "... Writing TFRecord 60 of 268 (100 per TFRecord)...\n",
      "\n"
     ]
    },
    {
     "name": "stderr",
     "output_type": "stream",
     "text": [
      "\n",
      "100%|███████████████████████████████████████████████████████████████████████| 100/100 [00:00<00:00, 12324.59it/s]\u001b[A\n"
     ]
    },
    {
     "name": "stdout",
     "output_type": "stream",
     "text": [
      "\n",
      "... Writing TFRecord 61 of 268 (100 per TFRecord)...\n",
      "\n"
     ]
    },
    {
     "name": "stderr",
     "output_type": "stream",
     "text": [
      "\n",
      "100%|███████████████████████████████████████████████████████████████████████| 100/100 [00:00<00:00, 11674.84it/s]\u001b[A\n"
     ]
    },
    {
     "name": "stdout",
     "output_type": "stream",
     "text": [
      "\n",
      "... Writing TFRecord 62 of 268 (100 per TFRecord)...\n",
      "\n"
     ]
    },
    {
     "name": "stderr",
     "output_type": "stream",
     "text": [
      "\n",
      "100%|███████████████████████████████████████████████████████████████████████| 100/100 [00:00<00:00, 11836.28it/s]\u001b[A\n"
     ]
    },
    {
     "name": "stdout",
     "output_type": "stream",
     "text": [
      "\n",
      "... Writing TFRecord 63 of 268 (100 per TFRecord)...\n",
      "\n"
     ]
    },
    {
     "name": "stderr",
     "output_type": "stream",
     "text": [
      "\n",
      "100%|███████████████████████████████████████████████████████████████████████| 100/100 [00:00<00:00, 12364.55it/s]\u001b[A\n"
     ]
    },
    {
     "name": "stdout",
     "output_type": "stream",
     "text": [
      "\n",
      "... Writing TFRecord 64 of 268 (100 per TFRecord)...\n",
      "\n"
     ]
    },
    {
     "name": "stderr",
     "output_type": "stream",
     "text": [
      "\n",
      "100%|███████████████████████████████████████████████████████████████████████| 100/100 [00:00<00:00, 12316.63it/s]\u001b[A\n"
     ]
    },
    {
     "name": "stdout",
     "output_type": "stream",
     "text": [
      "\n",
      "... Writing TFRecord 65 of 268 (100 per TFRecord)...\n",
      "\n"
     ]
    },
    {
     "name": "stderr",
     "output_type": "stream",
     "text": [
      "\n",
      "100%|████████████████████████████████████████████████████████████████████████| 100/100 [00:00<00:00, 8821.76it/s]\u001b[A\n"
     ]
    },
    {
     "name": "stdout",
     "output_type": "stream",
     "text": [
      "\n",
      "... Writing TFRecord 66 of 268 (100 per TFRecord)...\n",
      "\n"
     ]
    },
    {
     "name": "stderr",
     "output_type": "stream",
     "text": [
      "\n",
      "100%|███████████████████████████████████████████████████████████████████████| 100/100 [00:00<00:00, 14096.61it/s]\u001b[A\n",
      "Writing TFRecords:  25%|█████████████▊                                          | 66/268 [00:00<00:02, 77.83it/s]"
     ]
    },
    {
     "name": "stdout",
     "output_type": "stream",
     "text": [
      "\n",
      "... Writing TFRecord 67 of 268 (100 per TFRecord)...\n",
      "\n"
     ]
    },
    {
     "name": "stderr",
     "output_type": "stream",
     "text": [
      "\n",
      "100%|███████████████████████████████████████████████████████████████████████| 100/100 [00:00<00:00, 12635.35it/s]\u001b[A\n"
     ]
    },
    {
     "name": "stdout",
     "output_type": "stream",
     "text": [
      "\n",
      "... Writing TFRecord 68 of 268 (100 per TFRecord)...\n",
      "\n"
     ]
    },
    {
     "name": "stderr",
     "output_type": "stream",
     "text": [
      "\n",
      "100%|███████████████████████████████████████████████████████████████████████| 100/100 [00:00<00:00, 10483.14it/s]\u001b[A\n"
     ]
    },
    {
     "name": "stdout",
     "output_type": "stream",
     "text": [
      "\n",
      "... Writing TFRecord 69 of 268 (100 per TFRecord)...\n",
      "\n"
     ]
    },
    {
     "name": "stderr",
     "output_type": "stream",
     "text": [
      "\n",
      "100%|███████████████████████████████████████████████████████████████████████| 100/100 [00:00<00:00, 11385.81it/s]\u001b[A\n"
     ]
    },
    {
     "name": "stdout",
     "output_type": "stream",
     "text": [
      "\n",
      "... Writing TFRecord 70 of 268 (100 per TFRecord)...\n",
      "\n"
     ]
    },
    {
     "name": "stderr",
     "output_type": "stream",
     "text": [
      "\n",
      "100%|███████████████████████████████████████████████████████████████████████| 100/100 [00:00<00:00, 11849.99it/s]\u001b[A\n"
     ]
    },
    {
     "name": "stdout",
     "output_type": "stream",
     "text": [
      "\n",
      "... Writing TFRecord 71 of 268 (100 per TFRecord)...\n",
      "\n"
     ]
    },
    {
     "name": "stderr",
     "output_type": "stream",
     "text": [
      "\n",
      "100%|███████████████████████████████████████████████████████████████████████| 100/100 [00:00<00:00, 11908.87it/s]\u001b[A\n"
     ]
    },
    {
     "name": "stdout",
     "output_type": "stream",
     "text": [
      "\n",
      "... Writing TFRecord 72 of 268 (100 per TFRecord)...\n",
      "\n"
     ]
    },
    {
     "name": "stderr",
     "output_type": "stream",
     "text": [
      "\n",
      "100%|████████████████████████████████████████████████████████████████████████| 100/100 [00:00<00:00, 6750.20it/s]\u001b[A\n"
     ]
    },
    {
     "name": "stdout",
     "output_type": "stream",
     "text": [
      "\n",
      "... Writing TFRecord 73 of 268 (100 per TFRecord)...\n",
      "\n"
     ]
    },
    {
     "name": "stderr",
     "output_type": "stream",
     "text": [
      "\n",
      "100%|████████████████████████████████████████████████████████████████████████| 100/100 [00:00<00:00, 8230.90it/s]\u001b[A\n"
     ]
    },
    {
     "name": "stdout",
     "output_type": "stream",
     "text": [
      "\n",
      "... Writing TFRecord 74 of 268 (100 per TFRecord)...\n",
      "\n"
     ]
    },
    {
     "name": "stderr",
     "output_type": "stream",
     "text": [
      "\n",
      "100%|███████████████████████████████████████████████████████████████████████| 100/100 [00:00<00:00, 12140.51it/s]\u001b[A\n",
      "Writing TFRecords:  28%|███████████████▍                                        | 74/268 [00:00<00:02, 75.88it/s]"
     ]
    },
    {
     "name": "stdout",
     "output_type": "stream",
     "text": [
      "\n",
      "... Writing TFRecord 75 of 268 (100 per TFRecord)...\n",
      "\n"
     ]
    },
    {
     "name": "stderr",
     "output_type": "stream",
     "text": [
      "\n",
      "100%|███████████████████████████████████████████████████████████████████████| 100/100 [00:00<00:00, 13676.48it/s]\u001b[A\n"
     ]
    },
    {
     "name": "stdout",
     "output_type": "stream",
     "text": [
      "\n",
      "... Writing TFRecord 76 of 268 (100 per TFRecord)...\n",
      "\n"
     ]
    },
    {
     "name": "stderr",
     "output_type": "stream",
     "text": [
      "\n",
      "100%|███████████████████████████████████████████████████████████████████████| 100/100 [00:00<00:00, 12755.24it/s]\u001b[A\n"
     ]
    },
    {
     "name": "stdout",
     "output_type": "stream",
     "text": [
      "\n",
      "... Writing TFRecord 77 of 268 (100 per TFRecord)...\n",
      "\n"
     ]
    },
    {
     "name": "stderr",
     "output_type": "stream",
     "text": [
      "\n",
      "100%|███████████████████████████████████████████████████████████████████████| 100/100 [00:00<00:00, 13897.17it/s]\u001b[A\n"
     ]
    },
    {
     "name": "stdout",
     "output_type": "stream",
     "text": [
      "\n",
      "... Writing TFRecord 78 of 268 (100 per TFRecord)...\n",
      "\n"
     ]
    },
    {
     "name": "stderr",
     "output_type": "stream",
     "text": [
      "\n",
      "100%|███████████████████████████████████████████████████████████████████████| 100/100 [00:00<00:00, 12211.20it/s]\u001b[A\n"
     ]
    },
    {
     "name": "stdout",
     "output_type": "stream",
     "text": [
      "\n",
      "... Writing TFRecord 79 of 268 (100 per TFRecord)...\n",
      "\n"
     ]
    },
    {
     "name": "stderr",
     "output_type": "stream",
     "text": [
      "\n",
      "100%|███████████████████████████████████████████████████████████████████████| 100/100 [00:00<00:00, 10518.37it/s]\u001b[A\n"
     ]
    },
    {
     "name": "stdout",
     "output_type": "stream",
     "text": [
      "\n",
      "... Writing TFRecord 80 of 268 (100 per TFRecord)...\n",
      "\n"
     ]
    },
    {
     "name": "stderr",
     "output_type": "stream",
     "text": [
      "\n",
      "100%|███████████████████████████████████████████████████████████████████████| 100/100 [00:00<00:00, 10486.02it/s]\u001b[A\n"
     ]
    },
    {
     "name": "stdout",
     "output_type": "stream",
     "text": [
      "\n",
      "... Writing TFRecord 81 of 268 (100 per TFRecord)...\n",
      "\n"
     ]
    },
    {
     "name": "stderr",
     "output_type": "stream",
     "text": [
      "\n",
      "100%|███████████████████████████████████████████████████████████████████████| 100/100 [00:00<00:00, 12472.28it/s]\u001b[A\n"
     ]
    },
    {
     "name": "stdout",
     "output_type": "stream",
     "text": [
      "\n",
      "... Writing TFRecord 82 of 268 (100 per TFRecord)...\n",
      "\n"
     ]
    },
    {
     "name": "stderr",
     "output_type": "stream",
     "text": [
      "\n",
      "100%|███████████████████████████████████████████████████████████████████████| 100/100 [00:00<00:00, 12046.02it/s]\u001b[A\n"
     ]
    },
    {
     "name": "stdout",
     "output_type": "stream",
     "text": [
      "\n",
      "... Writing TFRecord 83 of 268 (100 per TFRecord)...\n",
      "\n"
     ]
    },
    {
     "name": "stderr",
     "output_type": "stream",
     "text": [
      "\n",
      "100%|███████████████████████████████████████████████████████████████████████| 100/100 [00:00<00:00, 12458.95it/s]\u001b[A\n",
      "Writing TFRecords:  31%|█████████████████▎                                      | 83/268 [00:01<00:02, 77.63it/s]"
     ]
    },
    {
     "name": "stdout",
     "output_type": "stream",
     "text": [
      "\n",
      "... Writing TFRecord 84 of 268 (100 per TFRecord)...\n",
      "\n"
     ]
    },
    {
     "name": "stderr",
     "output_type": "stream",
     "text": [
      "\n",
      "100%|███████████████████████████████████████████████████████████████████████| 100/100 [00:00<00:00, 11792.02it/s]\u001b[A\n"
     ]
    },
    {
     "name": "stdout",
     "output_type": "stream",
     "text": [
      "\n",
      "... Writing TFRecord 85 of 268 (100 per TFRecord)...\n",
      "\n"
     ]
    },
    {
     "name": "stderr",
     "output_type": "stream",
     "text": [
      "\n",
      "100%|███████████████████████████████████████████████████████████████████████| 100/100 [00:00<00:00, 11979.62it/s]\u001b[A\n"
     ]
    },
    {
     "name": "stdout",
     "output_type": "stream",
     "text": [
      "\n",
      "... Writing TFRecord 86 of 268 (100 per TFRecord)...\n",
      "\n"
     ]
    },
    {
     "name": "stderr",
     "output_type": "stream",
     "text": [
      "\n",
      "100%|███████████████████████████████████████████████████████████████████████| 100/100 [00:00<00:00, 11400.35it/s]\u001b[A\n"
     ]
    },
    {
     "name": "stdout",
     "output_type": "stream",
     "text": [
      "\n",
      "... Writing TFRecord 87 of 268 (100 per TFRecord)...\n",
      "\n"
     ]
    },
    {
     "name": "stderr",
     "output_type": "stream",
     "text": [
      "\n",
      "100%|███████████████████████████████████████████████████████████████████████| 100/100 [00:00<00:00, 12899.20it/s]\u001b[A\n"
     ]
    },
    {
     "name": "stdout",
     "output_type": "stream",
     "text": [
      "\n",
      "... Writing TFRecord 88 of 268 (100 per TFRecord)...\n",
      "\n"
     ]
    },
    {
     "name": "stderr",
     "output_type": "stream",
     "text": [
      "\n",
      "100%|███████████████████████████████████████████████████████████████████████| 100/100 [00:00<00:00, 12973.81it/s]\u001b[A"
     ]
    },
    {
     "name": "stdout",
     "output_type": "stream",
     "text": [
      "\n",
      "... Writing TFRecord 89 of 268 (100 per TFRecord)...\n",
      "\n"
     ]
    },
    {
     "name": "stderr",
     "output_type": "stream",
     "text": [
      "\n",
      "\n",
      "100%|███████████████████████████████████████████████████████████████████████| 100/100 [00:00<00:00, 14517.68it/s]\u001b[A\n"
     ]
    },
    {
     "name": "stdout",
     "output_type": "stream",
     "text": [
      "\n",
      "... Writing TFRecord 90 of 268 (100 per TFRecord)...\n",
      "\n"
     ]
    },
    {
     "name": "stderr",
     "output_type": "stream",
     "text": [
      "\n",
      "100%|███████████████████████████████████████████████████████████████████████| 100/100 [00:00<00:00, 12487.51it/s]\u001b[A\n"
     ]
    },
    {
     "name": "stdout",
     "output_type": "stream",
     "text": [
      "\n",
      "... Writing TFRecord 91 of 268 (100 per TFRecord)...\n",
      "\n"
     ]
    },
    {
     "name": "stderr",
     "output_type": "stream",
     "text": [
      "\n",
      "100%|███████████████████████████████████████████████████████████████████████| 100/100 [00:00<00:00, 12603.08it/s]\u001b[A\n"
     ]
    },
    {
     "name": "stdout",
     "output_type": "stream",
     "text": [
      "\n",
      "... Writing TFRecord 92 of 268 (100 per TFRecord)...\n",
      "\n"
     ]
    },
    {
     "name": "stderr",
     "output_type": "stream",
     "text": [
      "\n",
      "100%|███████████████████████████████████████████████████████████████████████| 100/100 [00:00<00:00, 12501.28it/s]\u001b[A\n",
      "Writing TFRecords:  34%|███████████████████▏                                    | 92/268 [00:01<00:02, 80.13it/s]"
     ]
    },
    {
     "name": "stdout",
     "output_type": "stream",
     "text": [
      "\n",
      "... Writing TFRecord 93 of 268 (100 per TFRecord)...\n",
      "\n"
     ]
    },
    {
     "name": "stderr",
     "output_type": "stream",
     "text": [
      "\n",
      "100%|███████████████████████████████████████████████████████████████████████| 100/100 [00:00<00:00, 12995.52it/s]\u001b[A\n"
     ]
    },
    {
     "name": "stdout",
     "output_type": "stream",
     "text": [
      "\n",
      "... Writing TFRecord 94 of 268 (100 per TFRecord)...\n",
      "\n"
     ]
    },
    {
     "name": "stderr",
     "output_type": "stream",
     "text": [
      "\n",
      "100%|███████████████████████████████████████████████████████████████████████| 100/100 [00:00<00:00, 13731.11it/s]\u001b[A\n"
     ]
    },
    {
     "name": "stdout",
     "output_type": "stream",
     "text": [
      "\n",
      "... Writing TFRecord 95 of 268 (100 per TFRecord)...\n",
      "\n"
     ]
    },
    {
     "name": "stderr",
     "output_type": "stream",
     "text": [
      "\n",
      "100%|███████████████████████████████████████████████████████████████████████| 100/100 [00:00<00:00, 13090.43it/s]\u001b[A\n"
     ]
    },
    {
     "name": "stdout",
     "output_type": "stream",
     "text": [
      "\n",
      "... Writing TFRecord 96 of 268 (100 per TFRecord)...\n",
      "\n"
     ]
    },
    {
     "name": "stderr",
     "output_type": "stream",
     "text": [
      "\n",
      "100%|███████████████████████████████████████████████████████████████████████| 100/100 [00:00<00:00, 13327.94it/s]\u001b[A\n"
     ]
    },
    {
     "name": "stdout",
     "output_type": "stream",
     "text": [
      "\n",
      "... Writing TFRecord 97 of 268 (100 per TFRecord)...\n",
      "\n"
     ]
    },
    {
     "name": "stderr",
     "output_type": "stream",
     "text": [
      "\n",
      "100%|███████████████████████████████████████████████████████████████████████| 100/100 [00:00<00:00, 12478.96it/s]\u001b[A\n"
     ]
    },
    {
     "name": "stdout",
     "output_type": "stream",
     "text": [
      "\n",
      "... Writing TFRecord 98 of 268 (100 per TFRecord)...\n",
      "\n"
     ]
    },
    {
     "name": "stderr",
     "output_type": "stream",
     "text": [
      "\n",
      "100%|███████████████████████████████████████████████████████████████████████| 100/100 [00:00<00:00, 13483.47it/s]\u001b[A\n"
     ]
    },
    {
     "name": "stdout",
     "output_type": "stream",
     "text": [
      "\n",
      "... Writing TFRecord 99 of 268 (100 per TFRecord)...\n",
      "\n"
     ]
    },
    {
     "name": "stderr",
     "output_type": "stream",
     "text": [
      "\n",
      "100%|███████████████████████████████████████████████████████████████████████| 100/100 [00:00<00:00, 12472.28it/s]\u001b[A\n"
     ]
    },
    {
     "name": "stdout",
     "output_type": "stream",
     "text": [
      "\n",
      "... Writing TFRecord 100 of 268 (100 per TFRecord)...\n",
      "\n"
     ]
    },
    {
     "name": "stderr",
     "output_type": "stream",
     "text": [
      "\n",
      "100%|███████████████████████████████████████████████████████████████████████| 100/100 [00:00<00:00, 12249.72it/s]\u001b[A\n"
     ]
    },
    {
     "name": "stdout",
     "output_type": "stream",
     "text": [
      "\n",
      "... Writing TFRecord 101 of 268 (100 per TFRecord)...\n",
      "\n"
     ]
    },
    {
     "name": "stderr",
     "output_type": "stream",
     "text": [
      "\n",
      "100%|███████████████████████████████████████████████████████████████████████| 100/100 [00:00<00:00, 12927.03it/s]\u001b[A\n",
      "Writing TFRecords:  38%|████████████████████▋                                  | 101/268 [00:01<00:02, 82.63it/s]"
     ]
    },
    {
     "name": "stdout",
     "output_type": "stream",
     "text": [
      "\n",
      "... Writing TFRecord 102 of 268 (100 per TFRecord)...\n",
      "\n"
     ]
    },
    {
     "name": "stderr",
     "output_type": "stream",
     "text": [
      "\n",
      "100%|███████████████████████████████████████████████████████████████████████| 100/100 [00:00<00:00, 13233.33it/s]\u001b[A\n"
     ]
    },
    {
     "name": "stdout",
     "output_type": "stream",
     "text": [
      "\n",
      "... Writing TFRecord 103 of 268 (100 per TFRecord)...\n",
      "\n"
     ]
    },
    {
     "name": "stderr",
     "output_type": "stream",
     "text": [
      "\n",
      "100%|███████████████████████████████████████████████████████████████████████| 100/100 [00:00<00:00, 12624.32it/s]\u001b[A\n"
     ]
    },
    {
     "name": "stdout",
     "output_type": "stream",
     "text": [
      "\n",
      "... Writing TFRecord 104 of 268 (100 per TFRecord)...\n",
      "\n"
     ]
    },
    {
     "name": "stderr",
     "output_type": "stream",
     "text": [
      "\n",
      "100%|███████████████████████████████████████████████████████████████████████| 100/100 [00:00<00:00, 12347.81it/s]\u001b[A\n"
     ]
    },
    {
     "name": "stdout",
     "output_type": "stream",
     "text": [
      "\n",
      "... Writing TFRecord 105 of 268 (100 per TFRecord)...\n",
      "\n"
     ]
    },
    {
     "name": "stderr",
     "output_type": "stream",
     "text": [
      "\n",
      "100%|███████████████████████████████████████████████████████████████████████| 100/100 [00:00<00:00, 12095.70it/s]\u001b[A\n"
     ]
    },
    {
     "name": "stdout",
     "output_type": "stream",
     "text": [
      "\n",
      "... Writing TFRecord 106 of 268 (100 per TFRecord)...\n",
      "\n"
     ]
    },
    {
     "name": "stderr",
     "output_type": "stream",
     "text": [
      "\n",
      "100%|███████████████████████████████████████████████████████████████████████| 100/100 [00:00<00:00, 12995.52it/s]\u001b[A\n"
     ]
    },
    {
     "name": "stdout",
     "output_type": "stream",
     "text": [
      "\n",
      "... Writing TFRecord 107 of 268 (100 per TFRecord)...\n",
      "\n"
     ]
    },
    {
     "name": "stderr",
     "output_type": "stream",
     "text": [
      "\n",
      "100%|███████████████████████████████████████████████████████████████████████| 100/100 [00:00<00:00, 13205.42it/s]\u001b[A\n"
     ]
    },
    {
     "name": "stdout",
     "output_type": "stream",
     "text": [
      "\n",
      "... Writing TFRecord 108 of 268 (100 per TFRecord)...\n",
      "\n"
     ]
    },
    {
     "name": "stderr",
     "output_type": "stream",
     "text": [
      "\n",
      "100%|███████████████████████████████████████████████████████████████████████| 100/100 [00:00<00:00, 13241.27it/s]\u001b[A\n"
     ]
    },
    {
     "name": "stdout",
     "output_type": "stream",
     "text": [
      "\n",
      "... Writing TFRecord 109 of 268 (100 per TFRecord)...\n",
      "\n"
     ]
    },
    {
     "name": "stderr",
     "output_type": "stream",
     "text": [
      "\n",
      "100%|███████████████████████████████████████████████████████████████████████| 100/100 [00:00<00:00, 13331.33it/s]\u001b[A\n"
     ]
    },
    {
     "name": "stdout",
     "output_type": "stream",
     "text": [
      "\n",
      "... Writing TFRecord 110 of 268 (100 per TFRecord)...\n",
      "\n"
     ]
    },
    {
     "name": "stderr",
     "output_type": "stream",
     "text": [
      "\n",
      "100%|███████████████████████████████████████████████████████████████████████| 100/100 [00:00<00:00, 12721.96it/s]\u001b[A\n"
     ]
    },
    {
     "name": "stdout",
     "output_type": "stream",
     "text": [
      "\n",
      "... Writing TFRecord 111 of 268 (100 per TFRecord)...\n",
      "\n"
     ]
    },
    {
     "name": "stderr",
     "output_type": "stream",
     "text": [
      "\n",
      "100%|███████████████████████████████████████████████████████████████████████| 100/100 [00:00<00:00, 12787.90it/s]\u001b[A\n",
      "Writing TFRecords:  41%|██████████████████████▊                                | 111/268 [00:01<00:01, 85.08it/s]"
     ]
    },
    {
     "name": "stdout",
     "output_type": "stream",
     "text": [
      "\n",
      "... Writing TFRecord 112 of 268 (100 per TFRecord)...\n",
      "\n"
     ]
    },
    {
     "name": "stderr",
     "output_type": "stream",
     "text": [
      "\n",
      "100%|███████████████████████████████████████████████████████████████████████| 100/100 [00:00<00:00, 12932.61it/s]\u001b[A\n"
     ]
    },
    {
     "name": "stdout",
     "output_type": "stream",
     "text": [
      "\n",
      "... Writing TFRecord 113 of 268 (100 per TFRecord)...\n",
      "\n"
     ]
    },
    {
     "name": "stderr",
     "output_type": "stream",
     "text": [
      "\n",
      "100%|███████████████████████████████████████████████████████████████████████| 100/100 [00:00<00:00, 14028.24it/s]\u001b[A\n"
     ]
    },
    {
     "name": "stdout",
     "output_type": "stream",
     "text": [
      "\n",
      "... Writing TFRecord 114 of 268 (100 per TFRecord)...\n",
      "\n"
     ]
    },
    {
     "name": "stderr",
     "output_type": "stream",
     "text": [
      "\n",
      "100%|███████████████████████████████████████████████████████████████████████| 100/100 [00:00<00:00, 13242.94it/s]\u001b[A\n"
     ]
    },
    {
     "name": "stdout",
     "output_type": "stream",
     "text": [
      "\n",
      "... Writing TFRecord 115 of 268 (100 per TFRecord)...\n",
      "\n"
     ]
    },
    {
     "name": "stderr",
     "output_type": "stream",
     "text": [
      "\n",
      "100%|███████████████████████████████████████████████████████████████████████| 100/100 [00:00<00:00, 13651.11it/s]\u001b[A\n"
     ]
    },
    {
     "name": "stdout",
     "output_type": "stream",
     "text": [
      "\n",
      "... Writing TFRecord 116 of 268 (100 per TFRecord)...\n",
      "\n"
     ]
    },
    {
     "name": "stderr",
     "output_type": "stream",
     "text": [
      "\n",
      "100%|███████████████████████████████████████████████████████████████████████| 100/100 [00:00<00:00, 13261.36it/s]\u001b[A\n"
     ]
    },
    {
     "name": "stdout",
     "output_type": "stream",
     "text": [
      "\n",
      "... Writing TFRecord 117 of 268 (100 per TFRecord)...\n",
      "\n"
     ]
    },
    {
     "name": "stderr",
     "output_type": "stream",
     "text": [
      "\n",
      "100%|███████████████████████████████████████████████████████████████████████| 100/100 [00:00<00:00, 13071.66it/s]\u001b[A\n"
     ]
    },
    {
     "name": "stdout",
     "output_type": "stream",
     "text": [
      "\n",
      "... Writing TFRecord 118 of 268 (100 per TFRecord)...\n",
      "\n"
     ]
    },
    {
     "name": "stderr",
     "output_type": "stream",
     "text": [
      "\n",
      "100%|███████████████████████████████████████████████████████████████████████| 100/100 [00:00<00:00, 12555.17it/s]\u001b[A\n"
     ]
    },
    {
     "name": "stdout",
     "output_type": "stream",
     "text": [
      "\n",
      "... Writing TFRecord 119 of 268 (100 per TFRecord)...\n",
      "\n"
     ]
    },
    {
     "name": "stderr",
     "output_type": "stream",
     "text": [
      "\n",
      "100%|███████████████████████████████████████████████████████████████████████| 100/100 [00:00<00:00, 12621.66it/s]\u001b[A\n"
     ]
    },
    {
     "name": "stdout",
     "output_type": "stream",
     "text": [
      "\n",
      "... Writing TFRecord 120 of 268 (100 per TFRecord)...\n",
      "\n"
     ]
    },
    {
     "name": "stderr",
     "output_type": "stream",
     "text": [
      "\n",
      "100%|███████████████████████████████████████████████████████████████████████| 100/100 [00:00<00:00, 11161.30it/s]\u001b[A\n"
     ]
    },
    {
     "name": "stdout",
     "output_type": "stream",
     "text": [
      "\n",
      "... Writing TFRecord 121 of 268 (100 per TFRecord)...\n",
      "\n"
     ]
    },
    {
     "name": "stderr",
     "output_type": "stream",
     "text": [
      "\n",
      "100%|███████████████████████████████████████████████████████████████████████| 100/100 [00:00<00:00, 11419.29it/s]\u001b[A\n",
      "Writing TFRecords:  45%|████████████████████████▊                              | 121/268 [00:01<00:01, 86.94it/s]"
     ]
    },
    {
     "name": "stdout",
     "output_type": "stream",
     "text": [
      "\n",
      "... Writing TFRecord 122 of 268 (100 per TFRecord)...\n",
      "\n"
     ]
    },
    {
     "name": "stderr",
     "output_type": "stream",
     "text": [
      "\n",
      "100%|███████████████████████████████████████████████████████████████████████| 100/100 [00:00<00:00, 12997.13it/s]\u001b[A\n"
     ]
    },
    {
     "name": "stdout",
     "output_type": "stream",
     "text": [
      "\n",
      "... Writing TFRecord 123 of 268 (100 per TFRecord)...\n",
      "\n"
     ]
    },
    {
     "name": "stderr",
     "output_type": "stream",
     "text": [
      "\n",
      "100%|███████████████████████████████████████████████████████████████████████| 100/100 [00:00<00:00, 13435.10it/s]\u001b[A\n"
     ]
    },
    {
     "name": "stdout",
     "output_type": "stream",
     "text": [
      "\n",
      "... Writing TFRecord 124 of 268 (100 per TFRecord)...\n",
      "\n"
     ]
    },
    {
     "name": "stderr",
     "output_type": "stream",
     "text": [
      "\n",
      "100%|███████████████████████████████████████████████████████████████████████| 100/100 [00:00<00:00, 13103.11it/s]\u001b[A\n"
     ]
    },
    {
     "name": "stdout",
     "output_type": "stream",
     "text": [
      "\n",
      "... Writing TFRecord 125 of 268 (100 per TFRecord)...\n",
      "\n"
     ]
    },
    {
     "name": "stderr",
     "output_type": "stream",
     "text": [
      "\n",
      "100%|███████████████████████████████████████████████████████████████████████| 100/100 [00:00<00:00, 13222.07it/s]\u001b[A\n"
     ]
    },
    {
     "name": "stdout",
     "output_type": "stream",
     "text": [
      "\n",
      "... Writing TFRecord 126 of 268 (100 per TFRecord)...\n",
      "\n"
     ]
    },
    {
     "name": "stderr",
     "output_type": "stream",
     "text": [
      "\n",
      "100%|███████████████████████████████████████████████████████████████████████| 100/100 [00:00<00:00, 13294.99it/s]\u001b[A\n"
     ]
    },
    {
     "name": "stdout",
     "output_type": "stream",
     "text": [
      "\n",
      "... Writing TFRecord 127 of 268 (100 per TFRecord)...\n",
      "\n"
     ]
    },
    {
     "name": "stderr",
     "output_type": "stream",
     "text": [
      "\n",
      "100%|███████████████████████████████████████████████████████████████████████| 100/100 [00:00<00:00, 11781.75it/s]\u001b[A\n"
     ]
    },
    {
     "name": "stdout",
     "output_type": "stream",
     "text": [
      "\n",
      "... Writing TFRecord 128 of 268 (100 per TFRecord)...\n",
      "\n"
     ]
    },
    {
     "name": "stderr",
     "output_type": "stream",
     "text": [
      "\n",
      "100%|███████████████████████████████████████████████████████████████████████| 100/100 [00:00<00:00, 11684.27it/s]\u001b[A\n"
     ]
    },
    {
     "name": "stdout",
     "output_type": "stream",
     "text": [
      "\n",
      "... Writing TFRecord 129 of 268 (100 per TFRecord)...\n",
      "\n"
     ]
    },
    {
     "name": "stderr",
     "output_type": "stream",
     "text": [
      "\n",
      "100%|███████████████████████████████████████████████████████████████████████| 100/100 [00:00<00:00, 12060.92it/s]\u001b[A\n"
     ]
    },
    {
     "name": "stdout",
     "output_type": "stream",
     "text": [
      "\n",
      "... Writing TFRecord 130 of 268 (100 per TFRecord)...\n",
      "\n"
     ]
    },
    {
     "name": "stderr",
     "output_type": "stream",
     "text": [
      "\n",
      "100%|███████████████████████████████████████████████████████████████████████| 100/100 [00:00<00:00, 12947.78it/s]\u001b[A\n",
      "Writing TFRecords:  49%|██████████████████████████▋                            | 130/268 [00:01<00:01, 87.48it/s]"
     ]
    },
    {
     "name": "stdout",
     "output_type": "stream",
     "text": [
      "\n",
      "... Writing TFRecord 131 of 268 (100 per TFRecord)...\n",
      "\n"
     ]
    },
    {
     "name": "stderr",
     "output_type": "stream",
     "text": [
      "\n",
      "100%|███████████████████████████████████████████████████████████████████████| 100/100 [00:00<00:00, 11827.27it/s]\u001b[A\n"
     ]
    },
    {
     "name": "stdout",
     "output_type": "stream",
     "text": [
      "\n",
      "... Writing TFRecord 132 of 268 (100 per TFRecord)...\n",
      "\n"
     ]
    },
    {
     "name": "stderr",
     "output_type": "stream",
     "text": [
      "\n",
      "100%|███████████████████████████████████████████████████████████████████████| 100/100 [00:00<00:00, 12479.70it/s]\u001b[A\n"
     ]
    },
    {
     "name": "stdout",
     "output_type": "stream",
     "text": [
      "\n",
      "... Writing TFRecord 133 of 268 (100 per TFRecord)...\n",
      "\n"
     ]
    },
    {
     "name": "stderr",
     "output_type": "stream",
     "text": [
      "\n",
      "100%|███████████████████████████████████████████████████████████████████████| 100/100 [00:00<00:00, 12612.55it/s]\u001b[A\n"
     ]
    },
    {
     "name": "stdout",
     "output_type": "stream",
     "text": [
      "\n",
      "... Writing TFRecord 134 of 268 (100 per TFRecord)...\n",
      "\n"
     ]
    },
    {
     "name": "stderr",
     "output_type": "stream",
     "text": [
      "\n",
      "100%|███████████████████████████████████████████████████████████████████████| 100/100 [00:00<00:00, 12472.28it/s]\u001b[A\n"
     ]
    },
    {
     "name": "stdout",
     "output_type": "stream",
     "text": [
      "\n",
      "... Writing TFRecord 135 of 268 (100 per TFRecord)...\n",
      "\n"
     ]
    },
    {
     "name": "stderr",
     "output_type": "stream",
     "text": [
      "\n",
      "100%|███████████████████████████████████████████████████████████████████████| 100/100 [00:00<00:00, 12024.95it/s]\u001b[A\n"
     ]
    },
    {
     "name": "stdout",
     "output_type": "stream",
     "text": [
      "\n",
      "... Writing TFRecord 136 of 268 (100 per TFRecord)...\n",
      "\n"
     ]
    },
    {
     "name": "stderr",
     "output_type": "stream",
     "text": [
      "\n",
      "100%|███████████████████████████████████████████████████████████████████████| 100/100 [00:00<00:00, 12604.59it/s]\u001b[A\n"
     ]
    },
    {
     "name": "stdout",
     "output_type": "stream",
     "text": [
      "\n",
      "... Writing TFRecord 137 of 268 (100 per TFRecord)...\n",
      "\n"
     ]
    },
    {
     "name": "stderr",
     "output_type": "stream",
     "text": [
      "\n",
      "100%|███████████████████████████████████████████████████████████████████████| 100/100 [00:00<00:00, 12784.78it/s]\u001b[A\n"
     ]
    },
    {
     "name": "stdout",
     "output_type": "stream",
     "text": [
      "\n",
      "... Writing TFRecord 138 of 268 (100 per TFRecord)...\n",
      "\n"
     ]
    },
    {
     "name": "stderr",
     "output_type": "stream",
     "text": [
      "\n",
      "100%|███████████████████████████████████████████████████████████████████████| 100/100 [00:00<00:00, 12547.28it/s]\u001b[A\n"
     ]
    },
    {
     "name": "stdout",
     "output_type": "stream",
     "text": [
      "\n",
      "... Writing TFRecord 139 of 268 (100 per TFRecord)...\n",
      "\n"
     ]
    },
    {
     "name": "stderr",
     "output_type": "stream",
     "text": [
      "\n",
      "100%|███████████████████████████████████████████████████████████████████████| 100/100 [00:00<00:00, 11423.64it/s]\u001b[A\n",
      "Writing TFRecords:  52%|████████████████████████████▌                          | 139/268 [00:01<00:01, 86.03it/s]"
     ]
    },
    {
     "name": "stdout",
     "output_type": "stream",
     "text": [
      "\n",
      "... Writing TFRecord 140 of 268 (100 per TFRecord)...\n",
      "\n"
     ]
    },
    {
     "name": "stderr",
     "output_type": "stream",
     "text": [
      "\n",
      "100%|███████████████████████████████████████████████████████████████████████| 100/100 [00:00<00:00, 13507.36it/s]\u001b[A\n"
     ]
    },
    {
     "name": "stdout",
     "output_type": "stream",
     "text": [
      "\n",
      "... Writing TFRecord 141 of 268 (100 per TFRecord)...\n",
      "\n"
     ]
    },
    {
     "name": "stderr",
     "output_type": "stream",
     "text": [
      "\n",
      "100%|███████████████████████████████████████████████████████████████████████| 100/100 [00:00<00:00, 11999.84it/s]\u001b[A\n"
     ]
    },
    {
     "name": "stdout",
     "output_type": "stream",
     "text": [
      "\n",
      "... Writing TFRecord 142 of 268 (100 per TFRecord)...\n",
      "\n"
     ]
    },
    {
     "name": "stderr",
     "output_type": "stream",
     "text": [
      "\n",
      "100%|███████████████████████████████████████████████████████████████████████| 100/100 [00:00<00:00, 13382.38it/s]\u001b[A\n"
     ]
    },
    {
     "name": "stdout",
     "output_type": "stream",
     "text": [
      "\n",
      "... Writing TFRecord 143 of 268 (100 per TFRecord)...\n",
      "\n"
     ]
    },
    {
     "name": "stderr",
     "output_type": "stream",
     "text": [
      "\n",
      "100%|███████████████████████████████████████████████████████████████████████| 100/100 [00:00<00:00, 12336.19it/s]\u001b[A\n"
     ]
    },
    {
     "name": "stdout",
     "output_type": "stream",
     "text": [
      "\n",
      "... Writing TFRecord 144 of 268 (100 per TFRecord)...\n",
      "\n"
     ]
    },
    {
     "name": "stderr",
     "output_type": "stream",
     "text": [
      "\n",
      "100%|███████████████████████████████████████████████████████████████████████| 100/100 [00:00<00:00, 12428.67it/s]\u001b[A\n"
     ]
    },
    {
     "name": "stdout",
     "output_type": "stream",
     "text": [
      "\n",
      "... Writing TFRecord 145 of 268 (100 per TFRecord)...\n",
      "\n"
     ]
    },
    {
     "name": "stderr",
     "output_type": "stream",
     "text": [
      "\n",
      "100%|████████████████████████████████████████████████████████████████████████| 100/100 [00:00<00:00, 7651.74it/s]\u001b[A\n"
     ]
    },
    {
     "name": "stdout",
     "output_type": "stream",
     "text": [
      "\n",
      "... Writing TFRecord 146 of 268 (100 per TFRecord)...\n",
      "\n"
     ]
    },
    {
     "name": "stderr",
     "output_type": "stream",
     "text": [
      "\n",
      "100%|████████████████████████████████████████████████████████████████████████| 100/100 [00:00<00:00, 8491.87it/s]\u001b[A\n"
     ]
    },
    {
     "name": "stdout",
     "output_type": "stream",
     "text": [
      "\n",
      "... Writing TFRecord 147 of 268 (100 per TFRecord)...\n",
      "\n"
     ]
    },
    {
     "name": "stderr",
     "output_type": "stream",
     "text": [
      "\n",
      "100%|███████████████████████████████████████████████████████████████████████| 100/100 [00:00<00:00, 12186.72it/s]\u001b[A\n"
     ]
    },
    {
     "name": "stdout",
     "output_type": "stream",
     "text": [
      "\n",
      "... Writing TFRecord 148 of 268 (100 per TFRecord)...\n",
      "\n"
     ]
    },
    {
     "name": "stderr",
     "output_type": "stream",
     "text": [
      "\n",
      "100%|███████████████████████████████████████████████████████████████████████| 100/100 [00:00<00:00, 12713.86it/s]\u001b[A\n",
      "Writing TFRecords:  55%|██████████████████████████████▎                        | 148/268 [00:01<00:01, 82.12it/s]"
     ]
    },
    {
     "name": "stdout",
     "output_type": "stream",
     "text": [
      "\n",
      "... Writing TFRecord 149 of 268 (100 per TFRecord)...\n",
      "\n"
     ]
    },
    {
     "name": "stderr",
     "output_type": "stream",
     "text": [
      "\n",
      "100%|███████████████████████████████████████████████████████████████████████| 100/100 [00:00<00:00, 12894.05it/s]\u001b[A\n"
     ]
    },
    {
     "name": "stdout",
     "output_type": "stream",
     "text": [
      "\n",
      "... Writing TFRecord 150 of 268 (100 per TFRecord)...\n",
      "\n"
     ]
    },
    {
     "name": "stderr",
     "output_type": "stream",
     "text": [
      "\n",
      "100%|████████████████████████████████████████████████████████████████████████| 100/100 [00:00<00:00, 8995.05it/s]\u001b[A\n"
     ]
    },
    {
     "name": "stdout",
     "output_type": "stream",
     "text": [
      "\n",
      "... Writing TFRecord 151 of 268 (100 per TFRecord)...\n",
      "\n"
     ]
    },
    {
     "name": "stderr",
     "output_type": "stream",
     "text": [
      "\n",
      "100%|███████████████████████████████████████████████████████████████████████| 100/100 [00:00<00:00, 12566.07it/s]\u001b[A\n"
     ]
    },
    {
     "name": "stdout",
     "output_type": "stream",
     "text": [
      "\n",
      "... Writing TFRecord 152 of 268 (100 per TFRecord)...\n",
      "\n"
     ]
    },
    {
     "name": "stderr",
     "output_type": "stream",
     "text": [
      "\n",
      "100%|███████████████████████████████████████████████████████████████████████| 100/100 [00:00<00:00, 12584.55it/s]\u001b[A\n"
     ]
    },
    {
     "name": "stdout",
     "output_type": "stream",
     "text": [
      "\n",
      "... Writing TFRecord 153 of 268 (100 per TFRecord)...\n",
      "\n"
     ]
    },
    {
     "name": "stderr",
     "output_type": "stream",
     "text": [
      "\n",
      "100%|███████████████████████████████████████████████████████████████████████| 100/100 [00:00<00:00, 12617.86it/s]\u001b[A\n"
     ]
    },
    {
     "name": "stdout",
     "output_type": "stream",
     "text": [
      "\n",
      "... Writing TFRecord 154 of 268 (100 per TFRecord)...\n",
      "\n"
     ]
    },
    {
     "name": "stderr",
     "output_type": "stream",
     "text": [
      "\n",
      "100%|███████████████████████████████████████████████████████████████████████| 100/100 [00:00<00:00, 12431.25it/s]\u001b[A\n"
     ]
    },
    {
     "name": "stdout",
     "output_type": "stream",
     "text": [
      "\n",
      "... Writing TFRecord 155 of 268 (100 per TFRecord)...\n",
      "\n"
     ]
    },
    {
     "name": "stderr",
     "output_type": "stream",
     "text": [
      "\n",
      "100%|███████████████████████████████████████████████████████████████████████| 100/100 [00:00<00:00, 12761.06it/s]\u001b[A\n"
     ]
    },
    {
     "name": "stdout",
     "output_type": "stream",
     "text": [
      "\n",
      "... Writing TFRecord 156 of 268 (100 per TFRecord)...\n",
      "\n"
     ]
    },
    {
     "name": "stderr",
     "output_type": "stream",
     "text": [
      "\n",
      "100%|███████████████████████████████████████████████████████████████████████| 100/100 [00:00<00:00, 12299.65it/s]\u001b[A\n"
     ]
    },
    {
     "name": "stdout",
     "output_type": "stream",
     "text": [
      "\n",
      "... Writing TFRecord 157 of 268 (100 per TFRecord)...\n",
      "\n"
     ]
    },
    {
     "name": "stderr",
     "output_type": "stream",
     "text": [
      "\n",
      "100%|███████████████████████████████████████████████████████████████████████| 100/100 [00:00<00:00, 13235.00it/s]\u001b[A\n",
      "Writing TFRecords:  59%|████████████████████████████████▏                      | 157/268 [00:01<00:01, 81.75it/s]"
     ]
    },
    {
     "name": "stdout",
     "output_type": "stream",
     "text": [
      "\n",
      "... Writing TFRecord 158 of 268 (100 per TFRecord)...\n",
      "\n"
     ]
    },
    {
     "name": "stderr",
     "output_type": "stream",
     "text": [
      "\n",
      "100%|███████████████████████████████████████████████████████████████████████| 100/100 [00:00<00:00, 13075.74it/s]\u001b[A\n"
     ]
    },
    {
     "name": "stdout",
     "output_type": "stream",
     "text": [
      "\n",
      "... Writing TFRecord 159 of 268 (100 per TFRecord)...\n",
      "\n"
     ]
    },
    {
     "name": "stderr",
     "output_type": "stream",
     "text": [
      "\n",
      "100%|███████████████████████████████████████████████████████████████████████| 100/100 [00:00<00:00, 11130.79it/s]\u001b[A\n"
     ]
    },
    {
     "name": "stdout",
     "output_type": "stream",
     "text": [
      "\n",
      "... Writing TFRecord 160 of 268 (100 per TFRecord)...\n",
      "\n"
     ]
    },
    {
     "name": "stderr",
     "output_type": "stream",
     "text": [
      "\n",
      "100%|███████████████████████████████████████████████████████████████████████| 100/100 [00:00<00:00, 11430.49it/s]\u001b[A\n"
     ]
    },
    {
     "name": "stdout",
     "output_type": "stream",
     "text": [
      "\n",
      "... Writing TFRecord 161 of 268 (100 per TFRecord)...\n",
      "\n"
     ]
    },
    {
     "name": "stderr",
     "output_type": "stream",
     "text": [
      "\n",
      "100%|███████████████████████████████████████████████████████████████████████| 100/100 [00:00<00:00, 12651.74it/s]\u001b[A\n"
     ]
    },
    {
     "name": "stdout",
     "output_type": "stream",
     "text": [
      "\n",
      "... Writing TFRecord 162 of 268 (100 per TFRecord)...\n",
      "\n"
     ]
    },
    {
     "name": "stderr",
     "output_type": "stream",
     "text": [
      "\n",
      "100%|███████████████████████████████████████████████████████████████████████| 100/100 [00:00<00:00, 12018.41it/s]\u001b[A\n"
     ]
    },
    {
     "name": "stdout",
     "output_type": "stream",
     "text": [
      "\n",
      "... Writing TFRecord 163 of 268 (100 per TFRecord)...\n",
      "\n"
     ]
    },
    {
     "name": "stderr",
     "output_type": "stream",
     "text": [
      "\n",
      "100%|███████████████████████████████████████████████████████████████████████| 100/100 [00:00<00:00, 12602.32it/s]\u001b[A\n"
     ]
    },
    {
     "name": "stdout",
     "output_type": "stream",
     "text": [
      "\n",
      "... Writing TFRecord 164 of 268 (100 per TFRecord)...\n",
      "\n"
     ]
    },
    {
     "name": "stderr",
     "output_type": "stream",
     "text": [
      "\n",
      "100%|███████████████████████████████████████████████████████████████████████| 100/100 [00:00<00:00, 12277.33it/s]\u001b[A\n"
     ]
    },
    {
     "name": "stdout",
     "output_type": "stream",
     "text": [
      "\n",
      "... Writing TFRecord 165 of 268 (100 per TFRecord)...\n",
      "\n"
     ]
    },
    {
     "name": "stderr",
     "output_type": "stream",
     "text": [
      "\n",
      "100%|███████████████████████████████████████████████████████████████████████| 100/100 [00:00<00:00, 13002.77it/s]\u001b[A\n"
     ]
    },
    {
     "name": "stdout",
     "output_type": "stream",
     "text": [
      "\n",
      "... Writing TFRecord 166 of 268 (100 per TFRecord)...\n",
      "\n"
     ]
    },
    {
     "name": "stderr",
     "output_type": "stream",
     "text": [
      "\n",
      "100%|███████████████████████████████████████████████████████████████████████| 100/100 [00:00<00:00, 13072.48it/s]\u001b[A\n",
      "Writing TFRecords:  62%|██████████████████████████████████                     | 166/268 [00:02<00:01, 82.63it/s]"
     ]
    },
    {
     "name": "stdout",
     "output_type": "stream",
     "text": [
      "\n",
      "... Writing TFRecord 167 of 268 (100 per TFRecord)...\n",
      "\n"
     ]
    },
    {
     "name": "stderr",
     "output_type": "stream",
     "text": [
      "\n",
      "100%|███████████████████████████████████████████████████████████████████████| 100/100 [00:00<00:00, 12280.92it/s]\u001b[A\n"
     ]
    },
    {
     "name": "stdout",
     "output_type": "stream",
     "text": [
      "\n",
      "... Writing TFRecord 168 of 268 (100 per TFRecord)...\n",
      "\n"
     ]
    },
    {
     "name": "stderr",
     "output_type": "stream",
     "text": [
      "\n",
      "100%|███████████████████████████████████████████████████████████████████████| 100/100 [00:00<00:00, 12560.43it/s]\u001b[A\n"
     ]
    },
    {
     "name": "stdout",
     "output_type": "stream",
     "text": [
      "\n",
      "... Writing TFRecord 169 of 268 (100 per TFRecord)...\n",
      "\n"
     ]
    },
    {
     "name": "stderr",
     "output_type": "stream",
     "text": [
      "\n",
      "100%|███████████████████████████████████████████████████████████████████████| 100/100 [00:00<00:00, 12502.77it/s]\u001b[A\n"
     ]
    },
    {
     "name": "stdout",
     "output_type": "stream",
     "text": [
      "\n",
      "... Writing TFRecord 170 of 268 (100 per TFRecord)...\n",
      "\n"
     ]
    },
    {
     "name": "stderr",
     "output_type": "stream",
     "text": [
      "\n",
      "100%|███████████████████████████████████████████████████████████████████████| 100/100 [00:00<00:00, 13912.84it/s]\u001b[A\n"
     ]
    },
    {
     "name": "stdout",
     "output_type": "stream",
     "text": [
      "\n",
      "... Writing TFRecord 171 of 268 (100 per TFRecord)...\n",
      "\n"
     ]
    },
    {
     "name": "stderr",
     "output_type": "stream",
     "text": [
      "\n",
      "100%|███████████████████████████████████████████████████████████████████████| 100/100 [00:00<00:00, 12598.53it/s]\u001b[A\n"
     ]
    },
    {
     "name": "stdout",
     "output_type": "stream",
     "text": [
      "\n",
      "... Writing TFRecord 172 of 268 (100 per TFRecord)...\n",
      "\n"
     ]
    },
    {
     "name": "stderr",
     "output_type": "stream",
     "text": [
      "\n",
      "100%|███████████████████████████████████████████████████████████████████████| 100/100 [00:00<00:00, 13008.42it/s]\u001b[A\n"
     ]
    },
    {
     "name": "stdout",
     "output_type": "stream",
     "text": [
      "\n",
      "... Writing TFRecord 173 of 268 (100 per TFRecord)...\n",
      "\n"
     ]
    },
    {
     "name": "stderr",
     "output_type": "stream",
     "text": [
      "\n",
      "100%|███████████████████████████████████████████████████████████████████████| 100/100 [00:00<00:00, 13727.96it/s]\u001b[A\n"
     ]
    },
    {
     "name": "stdout",
     "output_type": "stream",
     "text": [
      "\n",
      "... Writing TFRecord 174 of 268 (100 per TFRecord)...\n",
      "\n"
     ]
    },
    {
     "name": "stderr",
     "output_type": "stream",
     "text": [
      "\n",
      "100%|███████████████████████████████████████████████████████████████████████| 100/100 [00:00<00:00, 13941.51it/s]\u001b[A\n"
     ]
    },
    {
     "name": "stdout",
     "output_type": "stream",
     "text": [
      "\n",
      "... Writing TFRecord 175 of 268 (100 per TFRecord)...\n",
      "\n"
     ]
    },
    {
     "name": "stderr",
     "output_type": "stream",
     "text": [
      "\n",
      "100%|███████████████████████████████████████████████████████████████████████| 100/100 [00:00<00:00, 14627.55it/s]\u001b[A\n",
      "Writing TFRecords:  65%|███████████████████████████████████▉                   | 175/268 [00:02<00:01, 83.78it/s]"
     ]
    },
    {
     "name": "stdout",
     "output_type": "stream",
     "text": [
      "\n",
      "... Writing TFRecord 176 of 268 (100 per TFRecord)...\n",
      "\n"
     ]
    },
    {
     "name": "stderr",
     "output_type": "stream",
     "text": [
      "\n",
      "100%|███████████████████████████████████████████████████████████████████████| 100/100 [00:00<00:00, 11576.56it/s]\u001b[A\n"
     ]
    },
    {
     "name": "stdout",
     "output_type": "stream",
     "text": [
      "\n",
      "... Writing TFRecord 177 of 268 (100 per TFRecord)...\n",
      "\n"
     ]
    },
    {
     "name": "stderr",
     "output_type": "stream",
     "text": [
      "\n",
      "100%|███████████████████████████████████████████████████████████████████████| 100/100 [00:00<00:00, 11795.01it/s]\u001b[A\n"
     ]
    },
    {
     "name": "stdout",
     "output_type": "stream",
     "text": [
      "\n",
      "... Writing TFRecord 178 of 268 (100 per TFRecord)...\n",
      "\n"
     ]
    },
    {
     "name": "stderr",
     "output_type": "stream",
     "text": [
      "\n",
      "100%|███████████████████████████████████████████████████████████████████████| 100/100 [00:00<00:00, 11148.24it/s]\u001b[A\n"
     ]
    },
    {
     "name": "stdout",
     "output_type": "stream",
     "text": [
      "\n",
      "... Writing TFRecord 179 of 268 (100 per TFRecord)...\n",
      "\n"
     ]
    },
    {
     "name": "stderr",
     "output_type": "stream",
     "text": [
      "\n",
      "100%|███████████████████████████████████████████████████████████████████████| 100/100 [00:00<00:00, 11545.02it/s]\u001b[A\n"
     ]
    },
    {
     "name": "stdout",
     "output_type": "stream",
     "text": [
      "\n",
      "... Writing TFRecord 180 of 268 (100 per TFRecord)...\n",
      "\n"
     ]
    },
    {
     "name": "stderr",
     "output_type": "stream",
     "text": [
      "\n",
      "100%|███████████████████████████████████████████████████████████████████████| 100/100 [00:00<00:00, 11347.00it/s]\u001b[A\n"
     ]
    },
    {
     "name": "stdout",
     "output_type": "stream",
     "text": [
      "\n",
      "... Writing TFRecord 181 of 268 (100 per TFRecord)...\n",
      "\n"
     ]
    },
    {
     "name": "stderr",
     "output_type": "stream",
     "text": [
      "\n",
      "100%|███████████████████████████████████████████████████████████████████████| 100/100 [00:00<00:00, 12172.57it/s]\u001b[A\n"
     ]
    },
    {
     "name": "stdout",
     "output_type": "stream",
     "text": [
      "\n",
      "... Writing TFRecord 182 of 268 (100 per TFRecord)...\n",
      "\n"
     ]
    },
    {
     "name": "stderr",
     "output_type": "stream",
     "text": [
      "\n",
      "100%|███████████████████████████████████████████████████████████████████████| 100/100 [00:00<00:00, 12465.24it/s]\u001b[A\n"
     ]
    },
    {
     "name": "stdout",
     "output_type": "stream",
     "text": [
      "\n",
      "... Writing TFRecord 183 of 268 (100 per TFRecord)...\n",
      "\n"
     ]
    },
    {
     "name": "stderr",
     "output_type": "stream",
     "text": [
      "\n",
      "100%|███████████████████████████████████████████████████████████████████████| 100/100 [00:00<00:00, 13026.60it/s]\u001b[A\n"
     ]
    },
    {
     "name": "stdout",
     "output_type": "stream",
     "text": [
      "\n",
      "... Writing TFRecord 184 of 268 (100 per TFRecord)...\n",
      "\n"
     ]
    },
    {
     "name": "stderr",
     "output_type": "stream",
     "text": [
      "\n",
      "100%|████████████████████████████████████████████████████████████████████████| 100/100 [00:00<00:00, 7846.42it/s]\u001b[A\n",
      "Writing TFRecords:  69%|█████████████████████████████████████▊                 | 184/268 [00:02<00:01, 80.81it/s]"
     ]
    },
    {
     "name": "stdout",
     "output_type": "stream",
     "text": [
      "\n",
      "... Writing TFRecord 185 of 268 (100 per TFRecord)...\n",
      "\n"
     ]
    },
    {
     "name": "stderr",
     "output_type": "stream",
     "text": [
      "\n",
      "100%|████████████████████████████████████████████████████████████████████████| 100/100 [00:00<00:00, 9075.63it/s]\u001b[A\n"
     ]
    },
    {
     "name": "stdout",
     "output_type": "stream",
     "text": [
      "\n",
      "... Writing TFRecord 186 of 268 (100 per TFRecord)...\n",
      "\n"
     ]
    },
    {
     "name": "stderr",
     "output_type": "stream",
     "text": [
      "\n",
      "100%|███████████████████████████████████████████████████████████████████████| 100/100 [00:00<00:00, 12100.23it/s]\u001b[A\n"
     ]
    },
    {
     "name": "stdout",
     "output_type": "stream",
     "text": [
      "\n",
      "... Writing TFRecord 187 of 268 (100 per TFRecord)...\n",
      "\n"
     ]
    },
    {
     "name": "stderr",
     "output_type": "stream",
     "text": [
      "\n",
      "100%|███████████████████████████████████████████████████████████████████████| 100/100 [00:00<00:00, 11870.45it/s]\u001b[A\n"
     ]
    },
    {
     "name": "stdout",
     "output_type": "stream",
     "text": [
      "\n",
      "... Writing TFRecord 188 of 268 (100 per TFRecord)...\n",
      "\n"
     ]
    },
    {
     "name": "stderr",
     "output_type": "stream",
     "text": [
      "\n",
      "100%|███████████████████████████████████████████████████████████████████████| 100/100 [00:00<00:00, 11905.83it/s]\u001b[A\n"
     ]
    },
    {
     "name": "stdout",
     "output_type": "stream",
     "text": [
      "\n",
      "... Writing TFRecord 189 of 268 (100 per TFRecord)...\n",
      "\n"
     ]
    },
    {
     "name": "stderr",
     "output_type": "stream",
     "text": [
      "\n",
      "100%|███████████████████████████████████████████████████████████████████████| 100/100 [00:00<00:00, 12077.93it/s]\u001b[A\n"
     ]
    },
    {
     "name": "stdout",
     "output_type": "stream",
     "text": [
      "\n",
      "... Writing TFRecord 190 of 268 (100 per TFRecord)...\n",
      "\n"
     ]
    },
    {
     "name": "stderr",
     "output_type": "stream",
     "text": [
      "\n",
      "100%|███████████████████████████████████████████████████████████████████████| 100/100 [00:00<00:00, 12554.79it/s]\u001b[A\n"
     ]
    },
    {
     "name": "stdout",
     "output_type": "stream",
     "text": [
      "\n",
      "... Writing TFRecord 191 of 268 (100 per TFRecord)...\n",
      "\n"
     ]
    },
    {
     "name": "stderr",
     "output_type": "stream",
     "text": [
      "\n",
      "100%|███████████████████████████████████████████████████████████████████████| 100/100 [00:00<00:00, 11198.85it/s]\u001b[A\n"
     ]
    },
    {
     "name": "stdout",
     "output_type": "stream",
     "text": [
      "\n",
      "... Writing TFRecord 192 of 268 (100 per TFRecord)...\n",
      "\n"
     ]
    },
    {
     "name": "stderr",
     "output_type": "stream",
     "text": [
      "\n",
      "100%|████████████████████████████████████████████████████████████████████████| 100/100 [00:00<00:00, 9978.36it/s]\u001b[A\n"
     ]
    },
    {
     "name": "stdout",
     "output_type": "stream",
     "text": [
      "\n",
      "... Writing TFRecord 193 of 268 (100 per TFRecord)...\n",
      "\n"
     ]
    },
    {
     "name": "stderr",
     "output_type": "stream",
     "text": [
      "\n",
      "100%|███████████████████████████████████████████████████████████████████████| 100/100 [00:00<00:00, 10099.94it/s]\u001b[A\n",
      "Writing TFRecords:  72%|███████████████████████████████████████▌               | 193/268 [00:02<00:00, 78.97it/s]"
     ]
    },
    {
     "name": "stdout",
     "output_type": "stream",
     "text": [
      "\n",
      "... Writing TFRecord 194 of 268 (100 per TFRecord)...\n",
      "\n"
     ]
    },
    {
     "name": "stderr",
     "output_type": "stream",
     "text": [
      "\n",
      "100%|███████████████████████████████████████████████████████████████████████| 100/100 [00:00<00:00, 11101.03it/s]\u001b[A"
     ]
    },
    {
     "name": "stdout",
     "output_type": "stream",
     "text": [
      "\n",
      "... Writing TFRecord 195 of 268 (100 per TFRecord)...\n"
     ]
    },
    {
     "name": "stderr",
     "output_type": "stream",
     "text": [
      "\n"
     ]
    },
    {
     "name": "stdout",
     "output_type": "stream",
     "text": [
      "\n"
     ]
    },
    {
     "name": "stderr",
     "output_type": "stream",
     "text": [
      "\n",
      "100%|████████████████████████████████████████████████████████████████████████| 100/100 [00:00<00:00, 9447.48it/s]\u001b[A\n"
     ]
    },
    {
     "name": "stdout",
     "output_type": "stream",
     "text": [
      "\n",
      "... Writing TFRecord 196 of 268 (100 per TFRecord)...\n",
      "\n"
     ]
    },
    {
     "name": "stderr",
     "output_type": "stream",
     "text": [
      "\n",
      "100%|████████████████████████████████████████████████████████████████████████| 100/100 [00:00<00:00, 9978.84it/s]\u001b[A\n"
     ]
    },
    {
     "name": "stdout",
     "output_type": "stream",
     "text": [
      "\n",
      "... Writing TFRecord 197 of 268 (100 per TFRecord)...\n",
      "\n"
     ]
    },
    {
     "name": "stderr",
     "output_type": "stream",
     "text": [
      "\n",
      "100%|████████████████████████████████████████████████████████████████████████| 100/100 [00:00<00:00, 7496.52it/s]\u001b[A\n"
     ]
    },
    {
     "name": "stdout",
     "output_type": "stream",
     "text": [
      "\n",
      "... Writing TFRecord 198 of 268 (100 per TFRecord)...\n",
      "\n"
     ]
    },
    {
     "name": "stderr",
     "output_type": "stream",
     "text": [
      "\n",
      "100%|███████████████████████████████████████████████████████████████████████| 100/100 [00:00<00:00, 10716.43it/s]\u001b[A\n"
     ]
    },
    {
     "name": "stdout",
     "output_type": "stream",
     "text": [
      "\n",
      "... Writing TFRecord 199 of 268 (100 per TFRecord)...\n",
      "\n"
     ]
    },
    {
     "name": "stderr",
     "output_type": "stream",
     "text": [
      "\n",
      "100%|███████████████████████████████████████████████████████████████████████| 100/100 [00:00<00:00, 11288.67it/s]\u001b[A\n"
     ]
    },
    {
     "name": "stdout",
     "output_type": "stream",
     "text": [
      "\n",
      "... Writing TFRecord 200 of 268 (100 per TFRecord)...\n",
      "\n"
     ]
    },
    {
     "name": "stderr",
     "output_type": "stream",
     "text": [
      "\n",
      "100%|███████████████████████████████████████████████████████████████████████| 100/100 [00:00<00:00, 11708.74it/s]\u001b[A\n"
     ]
    },
    {
     "name": "stdout",
     "output_type": "stream",
     "text": [
      "\n",
      "... Writing TFRecord 201 of 268 (100 per TFRecord)...\n",
      "\n"
     ]
    },
    {
     "name": "stderr",
     "output_type": "stream",
     "text": [
      "\n",
      "100%|███████████████████████████████████████████████████████████████████████| 100/100 [00:00<00:00, 12715.41it/s]\u001b[A\n",
      "Writing TFRecords:  75%|█████████████████████████████████████████▎             | 201/268 [00:02<00:00, 75.22it/s]"
     ]
    },
    {
     "name": "stdout",
     "output_type": "stream",
     "text": [
      "\n",
      "... Writing TFRecord 202 of 268 (100 per TFRecord)...\n",
      "\n"
     ]
    },
    {
     "name": "stderr",
     "output_type": "stream",
     "text": [
      "\n",
      "100%|███████████████████████████████████████████████████████████████████████| 100/100 [00:00<00:00, 12410.65it/s]\u001b[A\n"
     ]
    },
    {
     "name": "stdout",
     "output_type": "stream",
     "text": [
      "\n",
      "... Writing TFRecord 203 of 268 (100 per TFRecord)...\n",
      "\n"
     ]
    },
    {
     "name": "stderr",
     "output_type": "stream",
     "text": [
      "\n",
      "100%|███████████████████████████████████████████████████████████████████████| 100/100 [00:00<00:00, 10717.53it/s]\u001b[A\n"
     ]
    },
    {
     "name": "stdout",
     "output_type": "stream",
     "text": [
      "\n",
      "... Writing TFRecord 204 of 268 (100 per TFRecord)...\n",
      "\n"
     ]
    },
    {
     "name": "stderr",
     "output_type": "stream",
     "text": [
      "\n",
      "100%|███████████████████████████████████████████████████████████████████████| 100/100 [00:00<00:00, 11898.73it/s]\u001b[A\n"
     ]
    },
    {
     "name": "stdout",
     "output_type": "stream",
     "text": [
      "\n",
      "... Writing TFRecord 205 of 268 (100 per TFRecord)...\n",
      "\n"
     ]
    },
    {
     "name": "stderr",
     "output_type": "stream",
     "text": [
      "\n",
      "100%|███████████████████████████████████████████████████████████████████████| 100/100 [00:00<00:00, 10629.25it/s]\u001b[A\n"
     ]
    },
    {
     "name": "stdout",
     "output_type": "stream",
     "text": [
      "\n",
      "... Writing TFRecord 206 of 268 (100 per TFRecord)...\n",
      "\n"
     ]
    },
    {
     "name": "stderr",
     "output_type": "stream",
     "text": [
      "\n",
      "100%|███████████████████████████████████████████████████████████████████████| 100/100 [00:00<00:00, 10466.14it/s]\u001b[A\n"
     ]
    },
    {
     "name": "stdout",
     "output_type": "stream",
     "text": [
      "\n",
      "... Writing TFRecord 207 of 268 (100 per TFRecord)...\n",
      "\n"
     ]
    },
    {
     "name": "stderr",
     "output_type": "stream",
     "text": [
      "\n",
      "100%|███████████████████████████████████████████████████████████████████████| 100/100 [00:00<00:00, 10008.12it/s]\u001b[A\n"
     ]
    },
    {
     "name": "stdout",
     "output_type": "stream",
     "text": [
      "\n",
      "... Writing TFRecord 208 of 268 (100 per TFRecord)...\n",
      "\n"
     ]
    },
    {
     "name": "stderr",
     "output_type": "stream",
     "text": [
      "\n",
      "100%|████████████████████████████████████████████████████████████████████████| 100/100 [00:00<00:00, 9731.79it/s]\u001b[A\n"
     ]
    },
    {
     "name": "stdout",
     "output_type": "stream",
     "text": [
      "\n",
      "... Writing TFRecord 209 of 268 (100 per TFRecord)...\n",
      "\n"
     ]
    },
    {
     "name": "stderr",
     "output_type": "stream",
     "text": [
      "\n",
      "100%|███████████████████████████████████████████████████████████████████████| 100/100 [00:00<00:00, 11779.11it/s]\u001b[A\n",
      "Writing TFRecords:  78%|██████████████████████████████████████████▉            | 209/268 [00:02<00:00, 74.40it/s]"
     ]
    },
    {
     "name": "stdout",
     "output_type": "stream",
     "text": [
      "\n",
      "... Writing TFRecord 210 of 268 (100 per TFRecord)...\n",
      "\n"
     ]
    },
    {
     "name": "stderr",
     "output_type": "stream",
     "text": [
      "\n",
      "100%|███████████████████████████████████████████████████████████████████████| 100/100 [00:00<00:00, 11677.77it/s]\u001b[A\n"
     ]
    },
    {
     "name": "stdout",
     "output_type": "stream",
     "text": [
      "\n",
      "... Writing TFRecord 211 of 268 (100 per TFRecord)...\n",
      "\n"
     ]
    },
    {
     "name": "stderr",
     "output_type": "stream",
     "text": [
      "\n",
      "100%|███████████████████████████████████████████████████████████████████████| 100/100 [00:00<00:00, 11636.30it/s]\u001b[A\n"
     ]
    },
    {
     "name": "stdout",
     "output_type": "stream",
     "text": [
      "\n",
      "... Writing TFRecord 212 of 268 (100 per TFRecord)...\n",
      "\n"
     ]
    },
    {
     "name": "stderr",
     "output_type": "stream",
     "text": [
      "\n",
      "100%|███████████████████████████████████████████████████████████████████████| 100/100 [00:00<00:00, 11898.40it/s]\u001b[A\n"
     ]
    },
    {
     "name": "stdout",
     "output_type": "stream",
     "text": [
      "\n",
      "... Writing TFRecord 213 of 268 (100 per TFRecord)...\n",
      "\n"
     ]
    },
    {
     "name": "stderr",
     "output_type": "stream",
     "text": [
      "\n",
      "100%|███████████████████████████████████████████████████████████████████████| 100/100 [00:00<00:00, 11531.05it/s]\u001b[A\n"
     ]
    },
    {
     "name": "stdout",
     "output_type": "stream",
     "text": [
      "\n",
      "... Writing TFRecord 214 of 268 (100 per TFRecord)...\n",
      "\n"
     ]
    },
    {
     "name": "stderr",
     "output_type": "stream",
     "text": [
      "\n",
      "100%|███████████████████████████████████████████████████████████████████████| 100/100 [00:00<00:00, 11132.27it/s]\u001b[A\n"
     ]
    },
    {
     "name": "stdout",
     "output_type": "stream",
     "text": [
      "\n",
      "... Writing TFRecord 215 of 268 (100 per TFRecord)...\n",
      "\n"
     ]
    },
    {
     "name": "stderr",
     "output_type": "stream",
     "text": [
      "\n",
      "100%|███████████████████████████████████████████████████████████████████████| 100/100 [00:00<00:00, 11385.50it/s]\u001b[A\n"
     ]
    },
    {
     "name": "stdout",
     "output_type": "stream",
     "text": [
      "\n",
      "... Writing TFRecord 216 of 268 (100 per TFRecord)...\n",
      "\n"
     ]
    },
    {
     "name": "stderr",
     "output_type": "stream",
     "text": [
      "\n",
      "100%|███████████████████████████████████████████████████████████████████████| 100/100 [00:00<00:00, 11926.48it/s]\u001b[A\n"
     ]
    },
    {
     "name": "stdout",
     "output_type": "stream",
     "text": [
      "\n",
      "... Writing TFRecord 217 of 268 (100 per TFRecord)...\n",
      "\n"
     ]
    },
    {
     "name": "stderr",
     "output_type": "stream",
     "text": [
      "\n",
      "100%|███████████████████████████████████████████████████████████████████████| 100/100 [00:00<00:00, 13373.84it/s]\u001b[A\n",
      "Writing TFRecords:  81%|████████████████████████████████████████████▌          | 217/268 [00:02<00:00, 75.30it/s]"
     ]
    },
    {
     "name": "stdout",
     "output_type": "stream",
     "text": [
      "\n",
      "... Writing TFRecord 218 of 268 (100 per TFRecord)...\n",
      "\n"
     ]
    },
    {
     "name": "stderr",
     "output_type": "stream",
     "text": [
      "\n",
      "100%|███████████████████████████████████████████████████████████████████████| 100/100 [00:00<00:00, 13644.45it/s]\u001b[A\n"
     ]
    },
    {
     "name": "stdout",
     "output_type": "stream",
     "text": [
      "\n",
      "... Writing TFRecord 219 of 268 (100 per TFRecord)...\n",
      "\n"
     ]
    },
    {
     "name": "stderr",
     "output_type": "stream",
     "text": [
      "\n",
      "100%|███████████████████████████████████████████████████████████████████████| 100/100 [00:00<00:00, 10714.51it/s]\u001b[A\n"
     ]
    },
    {
     "name": "stdout",
     "output_type": "stream",
     "text": [
      "\n",
      "... Writing TFRecord 220 of 268 (100 per TFRecord)...\n",
      "\n"
     ]
    },
    {
     "name": "stderr",
     "output_type": "stream",
     "text": [
      "\n",
      "100%|███████████████████████████████████████████████████████████████████████| 100/100 [00:00<00:00, 10917.26it/s]\u001b[A\n"
     ]
    },
    {
     "name": "stdout",
     "output_type": "stream",
     "text": [
      "\n",
      "... Writing TFRecord 221 of 268 (100 per TFRecord)...\n",
      "\n"
     ]
    },
    {
     "name": "stderr",
     "output_type": "stream",
     "text": [
      "\n",
      "100%|███████████████████████████████████████████████████████████████████████| 100/100 [00:00<00:00, 11685.25it/s]\u001b[A\n"
     ]
    },
    {
     "name": "stdout",
     "output_type": "stream",
     "text": [
      "\n",
      "... Writing TFRecord 222 of 268 (100 per TFRecord)...\n",
      "\n"
     ]
    },
    {
     "name": "stderr",
     "output_type": "stream",
     "text": [
      "\n",
      "100%|███████████████████████████████████████████████████████████████████████| 100/100 [00:00<00:00, 11373.15it/s]\u001b[A\n"
     ]
    },
    {
     "name": "stdout",
     "output_type": "stream",
     "text": [
      "\n",
      "... Writing TFRecord 223 of 268 (100 per TFRecord)...\n",
      "\n"
     ]
    },
    {
     "name": "stderr",
     "output_type": "stream",
     "text": [
      "\n",
      "100%|███████████████████████████████████████████████████████████████████████| 100/100 [00:00<00:00, 11313.02it/s]\u001b[A\n"
     ]
    },
    {
     "name": "stdout",
     "output_type": "stream",
     "text": [
      "\n",
      "... Writing TFRecord 224 of 268 (100 per TFRecord)...\n",
      "\n"
     ]
    },
    {
     "name": "stderr",
     "output_type": "stream",
     "text": [
      "\n",
      "100%|███████████████████████████████████████████████████████████████████████| 100/100 [00:00<00:00, 11584.56it/s]\u001b[A\n"
     ]
    },
    {
     "name": "stdout",
     "output_type": "stream",
     "text": [
      "\n",
      "... Writing TFRecord 225 of 268 (100 per TFRecord)...\n",
      "\n"
     ]
    },
    {
     "name": "stderr",
     "output_type": "stream",
     "text": [
      "\n",
      "100%|███████████████████████████████████████████████████████████████████████| 100/100 [00:00<00:00, 10909.60it/s]\u001b[A\n",
      "Writing TFRecords:  84%|██████████████████████████████████████████████▏        | 225/268 [00:02<00:00, 75.03it/s]"
     ]
    },
    {
     "name": "stdout",
     "output_type": "stream",
     "text": [
      "\n",
      "... Writing TFRecord 226 of 268 (100 per TFRecord)...\n",
      "\n"
     ]
    },
    {
     "name": "stderr",
     "output_type": "stream",
     "text": [
      "\n",
      "100%|████████████████████████████████████████████████████████████████████████| 100/100 [00:00<00:00, 7725.17it/s]\u001b[A\n"
     ]
    },
    {
     "name": "stdout",
     "output_type": "stream",
     "text": [
      "\n",
      "... Writing TFRecord 227 of 268 (100 per TFRecord)...\n",
      "\n"
     ]
    },
    {
     "name": "stderr",
     "output_type": "stream",
     "text": [
      "\n",
      "100%|████████████████████████████████████████████████████████████████████████| 100/100 [00:00<00:00, 5974.11it/s]\u001b[A\n"
     ]
    },
    {
     "name": "stdout",
     "output_type": "stream",
     "text": [
      "\n",
      "... Writing TFRecord 228 of 268 (100 per TFRecord)...\n",
      "\n"
     ]
    },
    {
     "name": "stderr",
     "output_type": "stream",
     "text": [
      "\n",
      "100%|████████████████████████████████████████████████████████████████████████| 100/100 [00:00<00:00, 8539.24it/s]\u001b[A\n"
     ]
    },
    {
     "name": "stdout",
     "output_type": "stream",
     "text": [
      "\n",
      "... Writing TFRecord 229 of 268 (100 per TFRecord)...\n",
      "\n"
     ]
    },
    {
     "name": "stderr",
     "output_type": "stream",
     "text": [
      "\n",
      "100%|███████████████████████████████████████████████████████████████████████| 100/100 [00:00<00:00, 13268.08it/s]\u001b[A\n"
     ]
    },
    {
     "name": "stdout",
     "output_type": "stream",
     "text": [
      "\n",
      "... Writing TFRecord 230 of 268 (100 per TFRecord)...\n",
      "\n"
     ]
    },
    {
     "name": "stderr",
     "output_type": "stream",
     "text": [
      "\n",
      "100%|███████████████████████████████████████████████████████████████████████| 100/100 [00:00<00:00, 12134.89it/s]\u001b[A\n"
     ]
    },
    {
     "name": "stdout",
     "output_type": "stream",
     "text": [
      "\n",
      "... Writing TFRecord 231 of 268 (100 per TFRecord)...\n",
      "\n"
     ]
    },
    {
     "name": "stderr",
     "output_type": "stream",
     "text": [
      "\n",
      "100%|███████████████████████████████████████████████████████████████████████| 100/100 [00:00<00:00, 12115.26it/s]\u001b[A\n"
     ]
    },
    {
     "name": "stdout",
     "output_type": "stream",
     "text": [
      "\n",
      "... Writing TFRecord 232 of 268 (100 per TFRecord)...\n",
      "\n"
     ]
    },
    {
     "name": "stderr",
     "output_type": "stream",
     "text": [
      "\n",
      "100%|███████████████████████████████████████████████████████████████████████| 100/100 [00:00<00:00, 11569.86it/s]\u001b[A\n"
     ]
    },
    {
     "name": "stdout",
     "output_type": "stream",
     "text": [
      "\n",
      "... Writing TFRecord 233 of 268 (100 per TFRecord)...\n",
      "\n"
     ]
    },
    {
     "name": "stderr",
     "output_type": "stream",
     "text": [
      "\n",
      "100%|███████████████████████████████████████████████████████████████████████| 100/100 [00:00<00:00, 12736.26it/s]\u001b[A\n",
      "Writing TFRecords:  87%|███████████████████████████████████████████████▊       | 233/268 [00:02<00:00, 72.80it/s]"
     ]
    },
    {
     "name": "stdout",
     "output_type": "stream",
     "text": [
      "\n",
      "... Writing TFRecord 234 of 268 (100 per TFRecord)...\n",
      "\n"
     ]
    },
    {
     "name": "stderr",
     "output_type": "stream",
     "text": [
      "\n",
      "100%|███████████████████████████████████████████████████████████████████████| 100/100 [00:00<00:00, 11171.70it/s]\u001b[A\n"
     ]
    },
    {
     "name": "stdout",
     "output_type": "stream",
     "text": [
      "\n",
      "... Writing TFRecord 235 of 268 (100 per TFRecord)...\n",
      "\n"
     ]
    },
    {
     "name": "stderr",
     "output_type": "stream",
     "text": [
      "\n",
      "100%|███████████████████████████████████████████████████████████████████████| 100/100 [00:00<00:00, 12254.73it/s]\u001b[A\n"
     ]
    },
    {
     "name": "stdout",
     "output_type": "stream",
     "text": [
      "\n",
      "... Writing TFRecord 236 of 268 (100 per TFRecord)...\n",
      "\n"
     ]
    },
    {
     "name": "stderr",
     "output_type": "stream",
     "text": [
      "\n",
      "100%|███████████████████████████████████████████████████████████████████████| 100/100 [00:00<00:00, 12376.23it/s]\u001b[A\n"
     ]
    },
    {
     "name": "stdout",
     "output_type": "stream",
     "text": [
      "\n",
      "... Writing TFRecord 237 of 268 (100 per TFRecord)...\n",
      "\n"
     ]
    },
    {
     "name": "stderr",
     "output_type": "stream",
     "text": [
      "\n",
      "100%|███████████████████████████████████████████████████████████████████████| 100/100 [00:00<00:00, 11376.54it/s]\u001b[A\n"
     ]
    },
    {
     "name": "stdout",
     "output_type": "stream",
     "text": [
      "\n",
      "... Writing TFRecord 238 of 268 (100 per TFRecord)...\n",
      "\n"
     ]
    },
    {
     "name": "stderr",
     "output_type": "stream",
     "text": [
      "\n",
      "100%|███████████████████████████████████████████████████████████████████████| 100/100 [00:00<00:00, 11437.97it/s]\u001b[A\n"
     ]
    },
    {
     "name": "stdout",
     "output_type": "stream",
     "text": [
      "\n",
      "... Writing TFRecord 239 of 268 (100 per TFRecord)...\n",
      "\n"
     ]
    },
    {
     "name": "stderr",
     "output_type": "stream",
     "text": [
      "\n",
      "100%|███████████████████████████████████████████████████████████████████████| 100/100 [00:00<00:00, 12410.28it/s]\u001b[A\n"
     ]
    },
    {
     "name": "stdout",
     "output_type": "stream",
     "text": [
      "\n",
      "... Writing TFRecord 240 of 268 (100 per TFRecord)...\n",
      "\n"
     ]
    },
    {
     "name": "stderr",
     "output_type": "stream",
     "text": [
      "\n",
      "100%|███████████████████████████████████████████████████████████████████████| 100/100 [00:00<00:00, 11733.63it/s]\u001b[A\n"
     ]
    },
    {
     "name": "stdout",
     "output_type": "stream",
     "text": [
      "\n",
      "... Writing TFRecord 241 of 268 (100 per TFRecord)...\n",
      "\n"
     ]
    },
    {
     "name": "stderr",
     "output_type": "stream",
     "text": [
      "\n",
      "100%|███████████████████████████████████████████████████████████████████████| 100/100 [00:00<00:00, 12952.18it/s]\u001b[A\n"
     ]
    },
    {
     "name": "stdout",
     "output_type": "stream",
     "text": [
      "\n",
      "... Writing TFRecord 242 of 268 (100 per TFRecord)...\n",
      "\n"
     ]
    },
    {
     "name": "stderr",
     "output_type": "stream",
     "text": [
      "\n",
      "100%|███████████████████████████████████████████████████████████████████████| 100/100 [00:00<00:00, 11976.54it/s]\u001b[A\n",
      "Writing TFRecords:  90%|█████████████████████████████████████████████████▋     | 242/268 [00:03<00:00, 75.65it/s]"
     ]
    },
    {
     "name": "stdout",
     "output_type": "stream",
     "text": [
      "\n",
      "... Writing TFRecord 243 of 268 (100 per TFRecord)...\n",
      "\n"
     ]
    },
    {
     "name": "stderr",
     "output_type": "stream",
     "text": [
      "\n",
      "100%|███████████████████████████████████████████████████████████████████████| 100/100 [00:00<00:00, 13612.57it/s]\u001b[A\n"
     ]
    },
    {
     "name": "stdout",
     "output_type": "stream",
     "text": [
      "\n",
      "... Writing TFRecord 244 of 268 (100 per TFRecord)...\n",
      "\n"
     ]
    },
    {
     "name": "stderr",
     "output_type": "stream",
     "text": [
      "\n",
      "100%|███████████████████████████████████████████████████████████████████████| 100/100 [00:00<00:00, 12693.86it/s]\u001b[A\n"
     ]
    },
    {
     "name": "stdout",
     "output_type": "stream",
     "text": [
      "\n",
      "... Writing TFRecord 245 of 268 (100 per TFRecord)...\n",
      "\n"
     ]
    },
    {
     "name": "stderr",
     "output_type": "stream",
     "text": [
      "\n",
      "100%|███████████████████████████████████████████████████████████████████████| 100/100 [00:00<00:00, 12213.69it/s]\u001b[A\n"
     ]
    },
    {
     "name": "stdout",
     "output_type": "stream",
     "text": [
      "\n",
      "... Writing TFRecord 246 of 268 (100 per TFRecord)...\n",
      "\n"
     ]
    },
    {
     "name": "stderr",
     "output_type": "stream",
     "text": [
      "\n",
      "100%|███████████████████████████████████████████████████████████████████████| 100/100 [00:00<00:00, 12927.43it/s]\u001b[A\n"
     ]
    },
    {
     "name": "stdout",
     "output_type": "stream",
     "text": [
      "\n",
      "... Writing TFRecord 247 of 268 (100 per TFRecord)...\n",
      "\n"
     ]
    },
    {
     "name": "stderr",
     "output_type": "stream",
     "text": [
      "\n",
      "100%|███████████████████████████████████████████████████████████████████████| 100/100 [00:00<00:00, 11834.94it/s]\u001b[A\n"
     ]
    },
    {
     "name": "stdout",
     "output_type": "stream",
     "text": [
      "\n",
      "... Writing TFRecord 248 of 268 (100 per TFRecord)...\n",
      "\n"
     ]
    },
    {
     "name": "stderr",
     "output_type": "stream",
     "text": [
      "\n",
      "100%|███████████████████████████████████████████████████████████████████████| 100/100 [00:00<00:00, 12843.11it/s]\u001b[A\n"
     ]
    },
    {
     "name": "stdout",
     "output_type": "stream",
     "text": [
      "\n",
      "... Writing TFRecord 249 of 268 (100 per TFRecord)...\n",
      "\n"
     ]
    },
    {
     "name": "stderr",
     "output_type": "stream",
     "text": [
      "\n",
      "100%|███████████████████████████████████████████████████████████████████████| 100/100 [00:00<00:00, 13817.96it/s]\u001b[A\n"
     ]
    },
    {
     "name": "stdout",
     "output_type": "stream",
     "text": [
      "\n",
      "... Writing TFRecord 250 of 268 (100 per TFRecord)...\n",
      "\n"
     ]
    },
    {
     "name": "stderr",
     "output_type": "stream",
     "text": [
      "\n",
      "100%|███████████████████████████████████████████████████████████████████████| 100/100 [00:00<00:00, 13953.57it/s]\u001b[A\n"
     ]
    },
    {
     "name": "stdout",
     "output_type": "stream",
     "text": [
      "\n",
      "... Writing TFRecord 251 of 268 (100 per TFRecord)...\n",
      "\n"
     ]
    },
    {
     "name": "stderr",
     "output_type": "stream",
     "text": [
      "\n",
      "100%|███████████████████████████████████████████████████████████████████████| 100/100 [00:00<00:00, 13368.30it/s]\u001b[A\n",
      "Writing TFRecords:  94%|███████████████████████████████████████████████████▌   | 251/268 [00:03<00:00, 78.87it/s]"
     ]
    },
    {
     "name": "stdout",
     "output_type": "stream",
     "text": [
      "\n",
      "... Writing TFRecord 252 of 268 (100 per TFRecord)...\n",
      "\n"
     ]
    },
    {
     "name": "stderr",
     "output_type": "stream",
     "text": [
      "\n",
      "100%|███████████████████████████████████████████████████████████████████████| 100/100 [00:00<00:00, 13135.52it/s]\u001b[A\n"
     ]
    },
    {
     "name": "stdout",
     "output_type": "stream",
     "text": [
      "\n",
      "... Writing TFRecord 253 of 268 (100 per TFRecord)...\n",
      "\n"
     ]
    },
    {
     "name": "stderr",
     "output_type": "stream",
     "text": [
      "\n",
      "100%|███████████████████████████████████████████████████████████████████████| 100/100 [00:00<00:00, 12227.22it/s]\u001b[A\n"
     ]
    },
    {
     "name": "stdout",
     "output_type": "stream",
     "text": [
      "\n",
      "... Writing TFRecord 254 of 268 (100 per TFRecord)...\n",
      "\n"
     ]
    },
    {
     "name": "stderr",
     "output_type": "stream",
     "text": [
      "\n",
      "100%|███████████████████████████████████████████████████████████████████████| 100/100 [00:00<00:00, 12047.40it/s]\u001b[A\n"
     ]
    },
    {
     "name": "stdout",
     "output_type": "stream",
     "text": [
      "\n",
      "... Writing TFRecord 255 of 268 (100 per TFRecord)...\n",
      "\n"
     ]
    },
    {
     "name": "stderr",
     "output_type": "stream",
     "text": [
      "\n",
      "100%|███████████████████████████████████████████████████████████████████████| 100/100 [00:00<00:00, 13037.94it/s]\u001b[A\n"
     ]
    },
    {
     "name": "stdout",
     "output_type": "stream",
     "text": [
      "\n",
      "... Writing TFRecord 256 of 268 (100 per TFRecord)...\n",
      "\n"
     ]
    },
    {
     "name": "stderr",
     "output_type": "stream",
     "text": [
      "\n",
      "100%|███████████████████████████████████████████████████████████████████████| 100/100 [00:00<00:00, 12182.83it/s]\u001b[A\n"
     ]
    },
    {
     "name": "stdout",
     "output_type": "stream",
     "text": [
      "\n",
      "... Writing TFRecord 257 of 268 (100 per TFRecord)...\n",
      "\n"
     ]
    },
    {
     "name": "stderr",
     "output_type": "stream",
     "text": [
      "\n",
      "100%|███████████████████████████████████████████████████████████████████████| 100/100 [00:00<00:00, 12746.32it/s]\u001b[A\n"
     ]
    },
    {
     "name": "stdout",
     "output_type": "stream",
     "text": [
      "\n",
      "... Writing TFRecord 258 of 268 (100 per TFRecord)...\n",
      "\n"
     ]
    },
    {
     "name": "stderr",
     "output_type": "stream",
     "text": [
      "\n",
      "100%|███████████████████████████████████████████████████████████████████████| 100/100 [00:00<00:00, 11459.53it/s]\u001b[A\n"
     ]
    },
    {
     "name": "stdout",
     "output_type": "stream",
     "text": [
      "\n",
      "... Writing TFRecord 259 of 268 (100 per TFRecord)...\n",
      "\n"
     ]
    },
    {
     "name": "stderr",
     "output_type": "stream",
     "text": [
      "\n",
      "100%|███████████████████████████████████████████████████████████████████████| 100/100 [00:00<00:00, 10996.26it/s]\u001b[A\n"
     ]
    },
    {
     "name": "stdout",
     "output_type": "stream",
     "text": [
      "\n",
      "... Writing TFRecord 260 of 268 (100 per TFRecord)...\n",
      "\n"
     ]
    },
    {
     "name": "stderr",
     "output_type": "stream",
     "text": [
      "\n",
      "100%|███████████████████████████████████████████████████████████████████████| 100/100 [00:00<00:00, 10904.78it/s]\u001b[A\n",
      "Writing TFRecords:  97%|█████████████████████████████████████████████████████▎ | 260/268 [00:03<00:00, 79.87it/s]"
     ]
    },
    {
     "name": "stdout",
     "output_type": "stream",
     "text": [
      "\n",
      "... Writing TFRecord 261 of 268 (100 per TFRecord)...\n",
      "\n"
     ]
    },
    {
     "name": "stderr",
     "output_type": "stream",
     "text": [
      "\n",
      "100%|███████████████████████████████████████████████████████████████████████| 100/100 [00:00<00:00, 10812.85it/s]\u001b[A\n"
     ]
    },
    {
     "name": "stdout",
     "output_type": "stream",
     "text": [
      "\n",
      "... Writing TFRecord 262 of 268 (100 per TFRecord)...\n",
      "\n"
     ]
    },
    {
     "name": "stderr",
     "output_type": "stream",
     "text": [
      "\n",
      "100%|███████████████████████████████████████████████████████████████████████| 100/100 [00:00<00:00, 11001.45it/s]\u001b[A\n"
     ]
    },
    {
     "name": "stdout",
     "output_type": "stream",
     "text": [
      "\n",
      "... Writing TFRecord 263 of 268 (100 per TFRecord)...\n",
      "\n"
     ]
    },
    {
     "name": "stderr",
     "output_type": "stream",
     "text": [
      "\n",
      "100%|███████████████████████████████████████████████████████████████████████| 100/100 [00:00<00:00, 10747.46it/s]\u001b[A\n"
     ]
    },
    {
     "name": "stdout",
     "output_type": "stream",
     "text": [
      "\n",
      "... Writing TFRecord 264 of 268 (100 per TFRecord)...\n",
      "\n"
     ]
    },
    {
     "name": "stderr",
     "output_type": "stream",
     "text": [
      "\n",
      "100%|███████████████████████████████████████████████████████████████████████| 100/100 [00:00<00:00, 11049.86it/s]\u001b[A\n"
     ]
    },
    {
     "name": "stdout",
     "output_type": "stream",
     "text": [
      "\n",
      "... Writing TFRecord 265 of 268 (100 per TFRecord)...\n",
      "\n"
     ]
    },
    {
     "name": "stderr",
     "output_type": "stream",
     "text": [
      "\n",
      "100%|███████████████████████████████████████████████████████████████████████| 100/100 [00:00<00:00, 11185.11it/s]\u001b[A\n"
     ]
    },
    {
     "name": "stdout",
     "output_type": "stream",
     "text": [
      "\n",
      "... Writing TFRecord 266 of 268 (100 per TFRecord)...\n",
      "\n"
     ]
    },
    {
     "name": "stderr",
     "output_type": "stream",
     "text": [
      "\n",
      "100%|███████████████████████████████████████████████████████████████████████| 100/100 [00:00<00:00, 11187.20it/s]\u001b[A\n"
     ]
    },
    {
     "name": "stdout",
     "output_type": "stream",
     "text": [
      "\n",
      "... Writing TFRecord 267 of 268 (100 per TFRecord)...\n",
      "\n"
     ]
    },
    {
     "name": "stderr",
     "output_type": "stream",
     "text": [
      "\n",
      "100%|███████████████████████████████████████████████████████████████████████| 100/100 [00:00<00:00, 10247.00it/s]\u001b[A\n"
     ]
    },
    {
     "name": "stdout",
     "output_type": "stream",
     "text": [
      "\n",
      "... Writing TFRecord 268 of 268 (100 per TFRecord)...\n",
      "\n"
     ]
    },
    {
     "name": "stderr",
     "output_type": "stream",
     "text": [
      "\n",
      " 22%|████████████████                                                         | 22/100 [00:00<00:00, 7632.95it/s]\u001b[A\n",
      "Writing TFRecords: 100%|███████████████████████████████████████████████████████| 268/268 [00:03<00:00, 78.89it/s]\n",
      "Writing TFRecords:   0%|                                                                  | 0/78 [00:00<?, ?it/s]"
     ]
    },
    {
     "name": "stdout",
     "output_type": "stream",
     "text": [
      "\n",
      "... Writing TFRecord 1 of 78 (100 per TFRecord)...\n",
      "\n"
     ]
    },
    {
     "name": "stderr",
     "output_type": "stream",
     "text": [
      "\n",
      "100%|███████████████████████████████████████████████████████████████████████| 100/100 [00:00<00:00, 11917.67it/s]\u001b[A\n"
     ]
    },
    {
     "name": "stdout",
     "output_type": "stream",
     "text": [
      "\n",
      "... Writing TFRecord 2 of 78 (100 per TFRecord)...\n",
      "\n"
     ]
    },
    {
     "name": "stderr",
     "output_type": "stream",
     "text": [
      "\n",
      "100%|███████████████████████████████████████████████████████████████████████| 100/100 [00:00<00:00, 11937.68it/s]\u001b[A\n"
     ]
    },
    {
     "name": "stdout",
     "output_type": "stream",
     "text": [
      "\n",
      "... Writing TFRecord 3 of 78 (100 per TFRecord)...\n",
      "\n"
     ]
    },
    {
     "name": "stderr",
     "output_type": "stream",
     "text": [
      "\n",
      "100%|███████████████████████████████████████████████████████████████████████| 100/100 [00:00<00:00, 11989.89it/s]\u001b[A\n"
     ]
    },
    {
     "name": "stdout",
     "output_type": "stream",
     "text": [
      "\n",
      "... Writing TFRecord 4 of 78 (100 per TFRecord)...\n",
      "\n"
     ]
    },
    {
     "name": "stderr",
     "output_type": "stream",
     "text": [
      "\n",
      "100%|███████████████████████████████████████████████████████████████████████| 100/100 [00:00<00:00, 11794.34it/s]\u001b[A\n"
     ]
    },
    {
     "name": "stdout",
     "output_type": "stream",
     "text": [
      "\n",
      "... Writing TFRecord 5 of 78 (100 per TFRecord)...\n",
      "\n"
     ]
    },
    {
     "name": "stderr",
     "output_type": "stream",
     "text": [
      "\n",
      "100%|███████████████████████████████████████████████████████████████████████| 100/100 [00:00<00:00, 11275.01it/s]\u001b[A\n"
     ]
    },
    {
     "name": "stdout",
     "output_type": "stream",
     "text": [
      "\n",
      "... Writing TFRecord 6 of 78 (100 per TFRecord)...\n",
      "\n"
     ]
    },
    {
     "name": "stderr",
     "output_type": "stream",
     "text": [
      "\n",
      "100%|███████████████████████████████████████████████████████████████████████| 100/100 [00:00<00:00, 10136.56it/s]\u001b[A\n"
     ]
    },
    {
     "name": "stdout",
     "output_type": "stream",
     "text": [
      "\n",
      "... Writing TFRecord 7 of 78 (100 per TFRecord)...\n",
      "\n"
     ]
    },
    {
     "name": "stderr",
     "output_type": "stream",
     "text": [
      "\n",
      "100%|███████████████████████████████████████████████████████████████████████| 100/100 [00:00<00:00, 11104.86it/s]\u001b[A\n"
     ]
    },
    {
     "name": "stdout",
     "output_type": "stream",
     "text": [
      "\n",
      "... Writing TFRecord 8 of 78 (100 per TFRecord)...\n",
      "\n"
     ]
    },
    {
     "name": "stderr",
     "output_type": "stream",
     "text": [
      "\n",
      "100%|███████████████████████████████████████████████████████████████████████| 100/100 [00:00<00:00, 10998.86it/s]\u001b[A\n",
      "Writing TFRecords:  10%|█████▉                                                    | 8/78 [00:00<00:00, 76.33it/s]"
     ]
    },
    {
     "name": "stdout",
     "output_type": "stream",
     "text": [
      "\n",
      "... Writing TFRecord 9 of 78 (100 per TFRecord)...\n",
      "\n"
     ]
    },
    {
     "name": "stderr",
     "output_type": "stream",
     "text": [
      "\n",
      "100%|███████████████████████████████████████████████████████████████████████| 100/100 [00:00<00:00, 12025.30it/s]\u001b[A\n"
     ]
    },
    {
     "name": "stdout",
     "output_type": "stream",
     "text": [
      "\n",
      "... Writing TFRecord 10 of 78 (100 per TFRecord)...\n",
      "\n"
     ]
    },
    {
     "name": "stderr",
     "output_type": "stream",
     "text": [
      "\n",
      "100%|████████████████████████████████████████████████████████████████████████| 100/100 [00:00<00:00, 9801.84it/s]\u001b[A\n"
     ]
    },
    {
     "name": "stdout",
     "output_type": "stream",
     "text": [
      "\n",
      "... Writing TFRecord 11 of 78 (100 per TFRecord)...\n",
      "\n"
     ]
    },
    {
     "name": "stderr",
     "output_type": "stream",
     "text": [
      "\n",
      "100%|███████████████████████████████████████████████████████████████████████| 100/100 [00:00<00:00, 10862.13it/s]\u001b[A\n"
     ]
    },
    {
     "name": "stdout",
     "output_type": "stream",
     "text": [
      "\n",
      "... Writing TFRecord 12 of 78 (100 per TFRecord)...\n",
      "\n"
     ]
    },
    {
     "name": "stderr",
     "output_type": "stream",
     "text": [
      "\n",
      "100%|███████████████████████████████████████████████████████████████████████| 100/100 [00:00<00:00, 12427.94it/s]\u001b[A\n"
     ]
    },
    {
     "name": "stdout",
     "output_type": "stream",
     "text": [
      "\n",
      "... Writing TFRecord 13 of 78 (100 per TFRecord)...\n",
      "\n"
     ]
    },
    {
     "name": "stderr",
     "output_type": "stream",
     "text": [
      "\n",
      "100%|███████████████████████████████████████████████████████████████████████| 100/100 [00:00<00:00, 12622.42it/s]\u001b[A\n"
     ]
    },
    {
     "name": "stdout",
     "output_type": "stream",
     "text": [
      "\n",
      "... Writing TFRecord 14 of 78 (100 per TFRecord)...\n",
      "\n"
     ]
    },
    {
     "name": "stderr",
     "output_type": "stream",
     "text": [
      "\n",
      "100%|███████████████████████████████████████████████████████████████████████| 100/100 [00:00<00:00, 11152.39it/s]\u001b[A\n"
     ]
    },
    {
     "name": "stdout",
     "output_type": "stream",
     "text": [
      "\n",
      "... Writing TFRecord 15 of 78 (100 per TFRecord)...\n",
      "\n"
     ]
    },
    {
     "name": "stderr",
     "output_type": "stream",
     "text": [
      "\n",
      "100%|███████████████████████████████████████████████████████████████████████| 100/100 [00:00<00:00, 10916.70it/s]\u001b[A\n"
     ]
    },
    {
     "name": "stdout",
     "output_type": "stream",
     "text": [
      "\n",
      "... Writing TFRecord 16 of 78 (100 per TFRecord)...\n",
      "\n"
     ]
    },
    {
     "name": "stderr",
     "output_type": "stream",
     "text": [
      "\n",
      "100%|███████████████████████████████████████████████████████████████████████| 100/100 [00:00<00:00, 12375.86it/s]\u001b[A\n",
      "Writing TFRecords:  21%|███████████▋                                             | 16/78 [00:00<00:00, 76.04it/s]"
     ]
    },
    {
     "name": "stdout",
     "output_type": "stream",
     "text": [
      "\n",
      "... Writing TFRecord 17 of 78 (100 per TFRecord)...\n",
      "\n"
     ]
    },
    {
     "name": "stderr",
     "output_type": "stream",
     "text": [
      "\n",
      "100%|███████████████████████████████████████████████████████████████████████| 100/100 [00:00<00:00, 12329.30it/s]\u001b[A\n"
     ]
    },
    {
     "name": "stdout",
     "output_type": "stream",
     "text": [
      "\n",
      "... Writing TFRecord 18 of 78 (100 per TFRecord)...\n",
      "\n"
     ]
    },
    {
     "name": "stderr",
     "output_type": "stream",
     "text": [
      "\n",
      "100%|███████████████████████████████████████████████████████████████████████| 100/100 [00:00<00:00, 11903.46it/s]\u001b[A\n"
     ]
    },
    {
     "name": "stdout",
     "output_type": "stream",
     "text": [
      "\n",
      "... Writing TFRecord 19 of 78 (100 per TFRecord)...\n",
      "\n"
     ]
    },
    {
     "name": "stderr",
     "output_type": "stream",
     "text": [
      "\n",
      "100%|███████████████████████████████████████████████████████████████████████| 100/100 [00:00<00:00, 12372.21it/s]\u001b[A\n"
     ]
    },
    {
     "name": "stdout",
     "output_type": "stream",
     "text": [
      "\n",
      "... Writing TFRecord 20 of 78 (100 per TFRecord)...\n",
      "\n"
     ]
    },
    {
     "name": "stderr",
     "output_type": "stream",
     "text": [
      "\n",
      "100%|███████████████████████████████████████████████████████████████████████| 100/100 [00:00<00:00, 12369.29it/s]\u001b[A\n"
     ]
    },
    {
     "name": "stdout",
     "output_type": "stream",
     "text": [
      "\n",
      "... Writing TFRecord 21 of 78 (100 per TFRecord)...\n",
      "\n"
     ]
    },
    {
     "name": "stderr",
     "output_type": "stream",
     "text": [
      "\n",
      "100%|███████████████████████████████████████████████████████████████████████| 100/100 [00:00<00:00, 10648.41it/s]\u001b[A\n"
     ]
    },
    {
     "name": "stdout",
     "output_type": "stream",
     "text": [
      "\n",
      "... Writing TFRecord 22 of 78 (100 per TFRecord)...\n",
      "\n"
     ]
    },
    {
     "name": "stderr",
     "output_type": "stream",
     "text": [
      "\n",
      "100%|███████████████████████████████████████████████████████████████████████| 100/100 [00:00<00:00, 12554.79it/s]\u001b[A\n"
     ]
    },
    {
     "name": "stdout",
     "output_type": "stream",
     "text": [
      "\n",
      "... Writing TFRecord 23 of 78 (100 per TFRecord)...\n",
      "\n"
     ]
    },
    {
     "name": "stderr",
     "output_type": "stream",
     "text": [
      "\n",
      "100%|███████████████████████████████████████████████████████████████████████| 100/100 [00:00<00:00, 12769.60it/s]\u001b[A\n"
     ]
    },
    {
     "name": "stdout",
     "output_type": "stream",
     "text": [
      "\n",
      "... Writing TFRecord 24 of 78 (100 per TFRecord)...\n",
      "\n"
     ]
    },
    {
     "name": "stderr",
     "output_type": "stream",
     "text": [
      "\n",
      "100%|████████████████████████████████████████████████████████████████████████| 100/100 [00:00<00:00, 9364.59it/s]\u001b[A\n",
      "Writing TFRecords:  31%|█████████████████▌                                       | 24/78 [00:00<00:00, 76.02it/s]"
     ]
    },
    {
     "name": "stdout",
     "output_type": "stream",
     "text": [
      "\n",
      "... Writing TFRecord 25 of 78 (100 per TFRecord)...\n",
      "\n"
     ]
    },
    {
     "name": "stderr",
     "output_type": "stream",
     "text": [
      "\n",
      "100%|███████████████████████████████████████████████████████████████████████| 100/100 [00:00<00:00, 11648.26it/s]\u001b[A\n"
     ]
    },
    {
     "name": "stdout",
     "output_type": "stream",
     "text": [
      "\n",
      "... Writing TFRecord 26 of 78 (100 per TFRecord)...\n",
      "\n"
     ]
    },
    {
     "name": "stderr",
     "output_type": "stream",
     "text": [
      "\n",
      "100%|███████████████████████████████████████████████████████████████████████| 100/100 [00:00<00:00, 12342.36it/s]\u001b[A\n"
     ]
    },
    {
     "name": "stdout",
     "output_type": "stream",
     "text": [
      "\n",
      "... Writing TFRecord 27 of 78 (100 per TFRecord)...\n",
      "\n"
     ]
    },
    {
     "name": "stderr",
     "output_type": "stream",
     "text": [
      "\n",
      "100%|███████████████████████████████████████████████████████████████████████| 100/100 [00:00<00:00, 12420.94it/s]\u001b[A\n"
     ]
    },
    {
     "name": "stdout",
     "output_type": "stream",
     "text": [
      "\n",
      "... Writing TFRecord 28 of 78 (100 per TFRecord)...\n",
      "\n"
     ]
    },
    {
     "name": "stderr",
     "output_type": "stream",
     "text": [
      "\n",
      "100%|███████████████████████████████████████████████████████████████████████| 100/100 [00:00<00:00, 14227.63it/s]\u001b[A\n"
     ]
    },
    {
     "name": "stdout",
     "output_type": "stream",
     "text": [
      "\n",
      "... Writing TFRecord 29 of 78 (100 per TFRecord)...\n",
      "\n"
     ]
    },
    {
     "name": "stderr",
     "output_type": "stream",
     "text": [
      "\n",
      "100%|████████████████████████████████████████████████████████████████████████| 100/100 [00:00<00:00, 9684.38it/s]\u001b[A\n"
     ]
    },
    {
     "name": "stdout",
     "output_type": "stream",
     "text": [
      "\n",
      "... Writing TFRecord 30 of 78 (100 per TFRecord)...\n",
      "\n"
     ]
    },
    {
     "name": "stderr",
     "output_type": "stream",
     "text": [
      "\n",
      "100%|███████████████████████████████████████████████████████████████████████| 100/100 [00:00<00:00, 11242.97it/s]\u001b[A\n"
     ]
    },
    {
     "name": "stdout",
     "output_type": "stream",
     "text": [
      "\n",
      "... Writing TFRecord 31 of 78 (100 per TFRecord)...\n",
      "\n"
     ]
    },
    {
     "name": "stderr",
     "output_type": "stream",
     "text": [
      "\n",
      "100%|███████████████████████████████████████████████████████████████████████| 100/100 [00:00<00:00, 11485.27it/s]\u001b[A\n"
     ]
    },
    {
     "name": "stdout",
     "output_type": "stream",
     "text": [
      "\n",
      "... Writing TFRecord 32 of 78 (100 per TFRecord)...\n",
      "\n"
     ]
    },
    {
     "name": "stderr",
     "output_type": "stream",
     "text": [
      "\n",
      "100%|███████████████████████████████████████████████████████████████████████| 100/100 [00:00<00:00, 12422.05it/s]\u001b[A\n",
      "Writing TFRecords:  41%|███████████████████████▍                                 | 32/78 [00:00<00:00, 76.11it/s]"
     ]
    },
    {
     "name": "stdout",
     "output_type": "stream",
     "text": [
      "\n",
      "... Writing TFRecord 33 of 78 (100 per TFRecord)...\n",
      "\n"
     ]
    },
    {
     "name": "stderr",
     "output_type": "stream",
     "text": [
      "\n",
      "100%|███████████████████████████████████████████████████████████████████████| 100/100 [00:00<00:00, 12593.99it/s]\u001b[A\n"
     ]
    },
    {
     "name": "stdout",
     "output_type": "stream",
     "text": [
      "\n",
      "... Writing TFRecord 34 of 78 (100 per TFRecord)...\n",
      "\n"
     ]
    },
    {
     "name": "stderr",
     "output_type": "stream",
     "text": [
      "\n",
      "100%|███████████████████████████████████████████████████████████████████████| 100/100 [00:00<00:00, 12870.31it/s]\u001b[A\n"
     ]
    },
    {
     "name": "stdout",
     "output_type": "stream",
     "text": [
      "\n",
      "... Writing TFRecord 35 of 78 (100 per TFRecord)...\n",
      "\n"
     ]
    },
    {
     "name": "stderr",
     "output_type": "stream",
     "text": [
      "\n",
      "100%|███████████████████████████████████████████████████████████████████████| 100/100 [00:00<00:00, 12032.20it/s]\u001b[A\n"
     ]
    },
    {
     "name": "stdout",
     "output_type": "stream",
     "text": [
      "\n",
      "... Writing TFRecord 36 of 78 (100 per TFRecord)...\n",
      "\n"
     ]
    },
    {
     "name": "stderr",
     "output_type": "stream",
     "text": [
      "\n",
      "100%|███████████████████████████████████████████████████████████████████████| 100/100 [00:00<00:00, 13560.20it/s]\u001b[A\n"
     ]
    },
    {
     "name": "stdout",
     "output_type": "stream",
     "text": [
      "\n",
      "... Writing TFRecord 37 of 78 (100 per TFRecord)...\n",
      "\n"
     ]
    },
    {
     "name": "stderr",
     "output_type": "stream",
     "text": [
      "\n",
      "100%|███████████████████████████████████████████████████████████████████████| 100/100 [00:00<00:00, 12183.54it/s]\u001b[A\n"
     ]
    },
    {
     "name": "stdout",
     "output_type": "stream",
     "text": [
      "\n",
      "... Writing TFRecord 38 of 78 (100 per TFRecord)...\n",
      "\n"
     ]
    },
    {
     "name": "stderr",
     "output_type": "stream",
     "text": [
      "\n",
      "100%|███████████████████████████████████████████████████████████████████████| 100/100 [00:00<00:00, 11805.30it/s]\u001b[A\n"
     ]
    },
    {
     "name": "stdout",
     "output_type": "stream",
     "text": [
      "\n",
      "... Writing TFRecord 39 of 78 (100 per TFRecord)...\n",
      "\n"
     ]
    },
    {
     "name": "stderr",
     "output_type": "stream",
     "text": [
      "\n",
      "100%|███████████████████████████████████████████████████████████████████████| 100/100 [00:00<00:00, 12892.06it/s]\u001b[A\n"
     ]
    },
    {
     "name": "stdout",
     "output_type": "stream",
     "text": [
      "\n",
      "... Writing TFRecord 40 of 78 (100 per TFRecord)...\n",
      "\n"
     ]
    },
    {
     "name": "stderr",
     "output_type": "stream",
     "text": [
      "\n",
      "100%|███████████████████████████████████████████████████████████████████████| 100/100 [00:00<00:00, 11820.27it/s]\u001b[A\n",
      "Writing TFRecords:  51%|█████████████████████████████▏                           | 40/78 [00:00<00:00, 77.15it/s]"
     ]
    },
    {
     "name": "stdout",
     "output_type": "stream",
     "text": [
      "\n",
      "... Writing TFRecord 41 of 78 (100 per TFRecord)...\n",
      "\n"
     ]
    },
    {
     "name": "stderr",
     "output_type": "stream",
     "text": [
      "\n",
      "100%|███████████████████████████████████████████████████████████████████████| 100/100 [00:00<00:00, 11839.62it/s]\u001b[A\n"
     ]
    },
    {
     "name": "stdout",
     "output_type": "stream",
     "text": [
      "\n",
      "... Writing TFRecord 42 of 78 (100 per TFRecord)...\n",
      "\n"
     ]
    },
    {
     "name": "stderr",
     "output_type": "stream",
     "text": [
      "\n",
      "100%|███████████████████████████████████████████████████████████████████████| 100/100 [00:00<00:00, 12848.23it/s]\u001b[A\n"
     ]
    },
    {
     "name": "stdout",
     "output_type": "stream",
     "text": [
      "\n",
      "... Writing TFRecord 43 of 78 (100 per TFRecord)...\n",
      "\n"
     ]
    },
    {
     "name": "stderr",
     "output_type": "stream",
     "text": [
      "\n",
      "100%|███████████████████████████████████████████████████████████████████████| 100/100 [00:00<00:00, 12954.18it/s]\u001b[A\n"
     ]
    },
    {
     "name": "stdout",
     "output_type": "stream",
     "text": [
      "\n",
      "... Writing TFRecord 44 of 78 (100 per TFRecord)...\n",
      "\n"
     ]
    },
    {
     "name": "stderr",
     "output_type": "stream",
     "text": [
      "\n",
      "100%|███████████████████████████████████████████████████████████████████████| 100/100 [00:00<00:00, 12238.28it/s]\u001b[A\n"
     ]
    },
    {
     "name": "stdout",
     "output_type": "stream",
     "text": [
      "\n",
      "... Writing TFRecord 45 of 78 (100 per TFRecord)...\n",
      "\n"
     ]
    },
    {
     "name": "stderr",
     "output_type": "stream",
     "text": [
      "\n",
      "100%|███████████████████████████████████████████████████████████████████████| 100/100 [00:00<00:00, 12690.78it/s]\u001b[A\n"
     ]
    },
    {
     "name": "stdout",
     "output_type": "stream",
     "text": [
      "\n",
      "... Writing TFRecord 46 of 78 (100 per TFRecord)...\n",
      "\n"
     ]
    },
    {
     "name": "stderr",
     "output_type": "stream",
     "text": [
      "\n",
      "100%|███████████████████████████████████████████████████████████████████████| 100/100 [00:00<00:00, 12449.33it/s]\u001b[A\n"
     ]
    },
    {
     "name": "stdout",
     "output_type": "stream",
     "text": [
      "\n",
      "... Writing TFRecord 47 of 78 (100 per TFRecord)...\n",
      "\n"
     ]
    },
    {
     "name": "stderr",
     "output_type": "stream",
     "text": [
      "\n",
      "100%|███████████████████████████████████████████████████████████████████████| 100/100 [00:00<00:00, 13240.43it/s]\u001b[A\n"
     ]
    },
    {
     "name": "stdout",
     "output_type": "stream",
     "text": [
      "\n",
      "... Writing TFRecord 48 of 78 (100 per TFRecord)...\n",
      "\n"
     ]
    },
    {
     "name": "stderr",
     "output_type": "stream",
     "text": [
      "\n",
      "100%|███████████████████████████████████████████████████████████████████████| 100/100 [00:00<00:00, 11771.50it/s]\u001b[A\n"
     ]
    },
    {
     "name": "stdout",
     "output_type": "stream",
     "text": [
      "\n",
      "... Writing TFRecord 49 of 78 (100 per TFRecord)...\n",
      "\n"
     ]
    },
    {
     "name": "stderr",
     "output_type": "stream",
     "text": [
      "\n",
      "100%|███████████████████████████████████████████████████████████████████████| 100/100 [00:00<00:00, 12506.87it/s]\u001b[A\n",
      "Writing TFRecords:  63%|███████████████████████████████████▊                     | 49/78 [00:00<00:00, 78.96it/s]"
     ]
    },
    {
     "name": "stdout",
     "output_type": "stream",
     "text": [
      "\n",
      "... Writing TFRecord 50 of 78 (100 per TFRecord)...\n",
      "\n"
     ]
    },
    {
     "name": "stderr",
     "output_type": "stream",
     "text": [
      "\n",
      "100%|███████████████████████████████████████████████████████████████████████| 100/100 [00:00<00:00, 12341.27it/s]\u001b[A\n"
     ]
    },
    {
     "name": "stdout",
     "output_type": "stream",
     "text": [
      "\n",
      "... Writing TFRecord 51 of 78 (100 per TFRecord)...\n",
      "\n"
     ]
    },
    {
     "name": "stderr",
     "output_type": "stream",
     "text": [
      "\n",
      "100%|███████████████████████████████████████████████████████████████████████| 100/100 [00:00<00:00, 12443.42it/s]\u001b[A\n"
     ]
    },
    {
     "name": "stdout",
     "output_type": "stream",
     "text": [
      "\n",
      "... Writing TFRecord 52 of 78 (100 per TFRecord)...\n",
      "\n"
     ]
    },
    {
     "name": "stderr",
     "output_type": "stream",
     "text": [
      "\n",
      "100%|███████████████████████████████████████████████████████████████████████| 100/100 [00:00<00:00, 13714.49it/s]\u001b[A\n"
     ]
    },
    {
     "name": "stdout",
     "output_type": "stream",
     "text": [
      "\n",
      "... Writing TFRecord 53 of 78 (100 per TFRecord)...\n",
      "\n"
     ]
    },
    {
     "name": "stderr",
     "output_type": "stream",
     "text": [
      "\n",
      "100%|███████████████████████████████████████████████████████████████████████| 100/100 [00:00<00:00, 12773.10it/s]\u001b[A\n"
     ]
    },
    {
     "name": "stdout",
     "output_type": "stream",
     "text": [
      "\n",
      "... Writing TFRecord 54 of 78 (100 per TFRecord)...\n",
      "\n"
     ]
    },
    {
     "name": "stderr",
     "output_type": "stream",
     "text": [
      "\n",
      "100%|███████████████████████████████████████████████████████████████████████| 100/100 [00:00<00:00, 13068.81it/s]\u001b[A\n"
     ]
    },
    {
     "name": "stdout",
     "output_type": "stream",
     "text": [
      "\n",
      "... Writing TFRecord 55 of 78 (100 per TFRecord)...\n",
      "\n"
     ]
    },
    {
     "name": "stderr",
     "output_type": "stream",
     "text": [
      "\n",
      "100%|███████████████████████████████████████████████████████████████████████| 100/100 [00:00<00:00, 13886.58it/s]\u001b[A\n"
     ]
    },
    {
     "name": "stdout",
     "output_type": "stream",
     "text": [
      "\n",
      "... Writing TFRecord 56 of 78 (100 per TFRecord)...\n",
      "\n"
     ]
    },
    {
     "name": "stderr",
     "output_type": "stream",
     "text": [
      "\n",
      "100%|███████████████████████████████████████████████████████████████████████| 100/100 [00:00<00:00, 14146.53it/s]\u001b[A\n"
     ]
    },
    {
     "name": "stdout",
     "output_type": "stream",
     "text": [
      "\n",
      "... Writing TFRecord 57 of 78 (100 per TFRecord)...\n",
      "\n"
     ]
    },
    {
     "name": "stderr",
     "output_type": "stream",
     "text": [
      "\n",
      "100%|███████████████████████████████████████████████████████████████████████| 100/100 [00:00<00:00, 14297.95it/s]\u001b[A\n"
     ]
    },
    {
     "name": "stdout",
     "output_type": "stream",
     "text": [
      "\n",
      "... Writing TFRecord 58 of 78 (100 per TFRecord)...\n",
      "\n"
     ]
    },
    {
     "name": "stderr",
     "output_type": "stream",
     "text": [
      "\n",
      "100%|███████████████████████████████████████████████████████████████████████| 100/100 [00:00<00:00, 11169.32it/s]\u001b[A\n",
      "Writing TFRecords:  74%|██████████████████████████████████████████▍              | 58/78 [00:00<00:00, 82.11it/s]"
     ]
    },
    {
     "name": "stdout",
     "output_type": "stream",
     "text": [
      "\n",
      "... Writing TFRecord 59 of 78 (100 per TFRecord)...\n",
      "\n"
     ]
    },
    {
     "name": "stderr",
     "output_type": "stream",
     "text": [
      "\n",
      "100%|███████████████████████████████████████████████████████████████████████| 100/100 [00:00<00:00, 12500.91it/s]\u001b[A\n"
     ]
    },
    {
     "name": "stdout",
     "output_type": "stream",
     "text": [
      "\n",
      "... Writing TFRecord 60 of 78 (100 per TFRecord)...\n",
      "\n"
     ]
    },
    {
     "name": "stderr",
     "output_type": "stream",
     "text": [
      "\n",
      "100%|████████████████████████████████████████████████████████████████████████| 100/100 [00:00<00:00, 9044.91it/s]\u001b[A\n"
     ]
    },
    {
     "name": "stdout",
     "output_type": "stream",
     "text": [
      "\n",
      "... Writing TFRecord 61 of 78 (100 per TFRecord)...\n",
      "\n"
     ]
    },
    {
     "name": "stderr",
     "output_type": "stream",
     "text": [
      "\n",
      "100%|████████████████████████████████████████████████████████████████████████| 100/100 [00:00<00:00, 9760.55it/s]\u001b[A\n"
     ]
    },
    {
     "name": "stdout",
     "output_type": "stream",
     "text": [
      "\n",
      "... Writing TFRecord 62 of 78 (100 per TFRecord)...\n",
      "\n"
     ]
    },
    {
     "name": "stderr",
     "output_type": "stream",
     "text": [
      "\n",
      "100%|████████████████████████████████████████████████████████████████████████| 100/100 [00:00<00:00, 9052.72it/s]\u001b[A\n"
     ]
    },
    {
     "name": "stdout",
     "output_type": "stream",
     "text": [
      "\n",
      "... Writing TFRecord 63 of 78 (100 per TFRecord)...\n",
      "\n"
     ]
    },
    {
     "name": "stderr",
     "output_type": "stream",
     "text": [
      "\n",
      "100%|███████████████████████████████████████████████████████████████████████| 100/100 [00:00<00:00, 12135.24it/s]\u001b[A\n"
     ]
    },
    {
     "name": "stdout",
     "output_type": "stream",
     "text": [
      "\n",
      "... Writing TFRecord 64 of 78 (100 per TFRecord)...\n",
      "\n"
     ]
    },
    {
     "name": "stderr",
     "output_type": "stream",
     "text": [
      "\n",
      "100%|████████████████████████████████████████████████████████████████████████| 100/100 [00:00<00:00, 9125.00it/s]\u001b[A\n"
     ]
    },
    {
     "name": "stdout",
     "output_type": "stream",
     "text": [
      "\n",
      "... Writing TFRecord 65 of 78 (100 per TFRecord)...\n",
      "\n"
     ]
    },
    {
     "name": "stderr",
     "output_type": "stream",
     "text": [
      "\n",
      "100%|████████████████████████████████████████████████████████████████████████| 100/100 [00:00<00:00, 9605.42it/s]\u001b[A\n"
     ]
    },
    {
     "name": "stdout",
     "output_type": "stream",
     "text": [
      "\n",
      "... Writing TFRecord 66 of 78 (100 per TFRecord)...\n",
      "\n"
     ]
    },
    {
     "name": "stderr",
     "output_type": "stream",
     "text": [
      "\n",
      "100%|███████████████████████████████████████████████████████████████████████| 100/100 [00:00<00:00, 11306.32it/s]\u001b[A\n"
     ]
    },
    {
     "name": "stdout",
     "output_type": "stream",
     "text": [
      "\n",
      "... Writing TFRecord 67 of 78 (100 per TFRecord)...\n",
      "\n"
     ]
    },
    {
     "name": "stderr",
     "output_type": "stream",
     "text": [
      "\n",
      "100%|███████████████████████████████████████████████████████████████████████| 100/100 [00:00<00:00, 12178.94it/s]\u001b[A\n",
      "Writing TFRecords:  86%|████████████████████████████████████████████████▉        | 67/78 [00:00<00:00, 78.75it/s]"
     ]
    },
    {
     "name": "stdout",
     "output_type": "stream",
     "text": [
      "\n",
      "... Writing TFRecord 68 of 78 (100 per TFRecord)...\n",
      "\n"
     ]
    },
    {
     "name": "stderr",
     "output_type": "stream",
     "text": [
      "\n",
      "100%|███████████████████████████████████████████████████████████████████████| 100/100 [00:00<00:00, 13509.53it/s]\u001b[A\n"
     ]
    },
    {
     "name": "stdout",
     "output_type": "stream",
     "text": [
      "\n",
      "... Writing TFRecord 69 of 78 (100 per TFRecord)...\n",
      "\n"
     ]
    },
    {
     "name": "stderr",
     "output_type": "stream",
     "text": [
      "\n",
      "100%|███████████████████████████████████████████████████████████████████████| 100/100 [00:00<00:00, 11819.60it/s]\u001b[A\n"
     ]
    },
    {
     "name": "stdout",
     "output_type": "stream",
     "text": [
      "\n",
      "... Writing TFRecord 70 of 78 (100 per TFRecord)...\n",
      "\n"
     ]
    },
    {
     "name": "stderr",
     "output_type": "stream",
     "text": [
      "\n",
      "100%|███████████████████████████████████████████████████████████████████████| 100/100 [00:00<00:00, 12514.33it/s]\u001b[A\n"
     ]
    },
    {
     "name": "stdout",
     "output_type": "stream",
     "text": [
      "\n",
      "... Writing TFRecord 71 of 78 (100 per TFRecord)...\n",
      "\n"
     ]
    },
    {
     "name": "stderr",
     "output_type": "stream",
     "text": [
      "\n",
      "100%|███████████████████████████████████████████████████████████████████████| 100/100 [00:00<00:00, 11372.53it/s]\u001b[A\n"
     ]
    },
    {
     "name": "stdout",
     "output_type": "stream",
     "text": [
      "\n",
      "... Writing TFRecord 72 of 78 (100 per TFRecord)...\n",
      "\n"
     ]
    },
    {
     "name": "stderr",
     "output_type": "stream",
     "text": [
      "\n",
      "100%|███████████████████████████████████████████████████████████████████████| 100/100 [00:00<00:00, 11582.00it/s]\u001b[A\n"
     ]
    },
    {
     "name": "stdout",
     "output_type": "stream",
     "text": [
      "\n",
      "... Writing TFRecord 73 of 78 (100 per TFRecord)...\n",
      "\n"
     ]
    },
    {
     "name": "stderr",
     "output_type": "stream",
     "text": [
      "\n",
      "100%|███████████████████████████████████████████████████████████████████████| 100/100 [00:00<00:00, 11599.93it/s]\u001b[A\n"
     ]
    },
    {
     "name": "stdout",
     "output_type": "stream",
     "text": [
      "\n",
      "... Writing TFRecord 74 of 78 (100 per TFRecord)...\n",
      "\n"
     ]
    },
    {
     "name": "stderr",
     "output_type": "stream",
     "text": [
      "\n",
      "100%|███████████████████████████████████████████████████████████████████████| 100/100 [00:00<00:00, 12377.32it/s]\u001b[A\n"
     ]
    },
    {
     "name": "stdout",
     "output_type": "stream",
     "text": [
      "\n",
      "... Writing TFRecord 75 of 78 (100 per TFRecord)...\n",
      "\n"
     ]
    },
    {
     "name": "stderr",
     "output_type": "stream",
     "text": [
      "\n",
      "100%|███████████████████████████████████████████████████████████████████████| 100/100 [00:00<00:00, 12596.64it/s]\u001b[A\n"
     ]
    },
    {
     "name": "stdout",
     "output_type": "stream",
     "text": [
      "\n",
      "... Writing TFRecord 76 of 78 (100 per TFRecord)...\n",
      "\n"
     ]
    },
    {
     "name": "stderr",
     "output_type": "stream",
     "text": [
      "\n",
      "100%|███████████████████████████████████████████████████████████████████████| 100/100 [00:00<00:00, 13182.59it/s]\u001b[A\n",
      "Writing TFRecords:  97%|███████████████████████████████████████████████████████▌ | 76/78 [00:00<00:00, 80.08it/s]"
     ]
    },
    {
     "name": "stdout",
     "output_type": "stream",
     "text": [
      "\n",
      "... Writing TFRecord 77 of 78 (100 per TFRecord)...\n",
      "\n"
     ]
    },
    {
     "name": "stderr",
     "output_type": "stream",
     "text": [
      "\n",
      "100%|███████████████████████████████████████████████████████████████████████| 100/100 [00:00<00:00, 12799.22it/s]\u001b[A\n"
     ]
    },
    {
     "name": "stdout",
     "output_type": "stream",
     "text": [
      "\n",
      "... Writing TFRecord 78 of 78 (100 per TFRecord)...\n",
      "\n"
     ]
    },
    {
     "name": "stderr",
     "output_type": "stream",
     "text": [
      "\n",
      " 70%|██████████████████████████████████████████████████▍                     | 70/100 [00:00<00:00, 11164.82it/s]\u001b[A\n",
      "Writing TFRecords: 100%|█████████████████████████████████████████████████████████| 78/78 [00:00<00:00, 79.19it/s]\n",
      "Writing TFRecords:   0%|                                                                  | 0/78 [00:00<?, ?it/s]"
     ]
    },
    {
     "name": "stdout",
     "output_type": "stream",
     "text": [
      "\n",
      "... Writing TFRecord 1 of 78 (100 per TFRecord)...\n",
      "\n"
     ]
    },
    {
     "name": "stderr",
     "output_type": "stream",
     "text": [
      "\n",
      "100%|███████████████████████████████████████████████████████████████████████| 100/100 [00:00<00:00, 12189.91it/s]\u001b[A\n"
     ]
    },
    {
     "name": "stdout",
     "output_type": "stream",
     "text": [
      "\n",
      "... Writing TFRecord 2 of 78 (100 per TFRecord)...\n",
      "\n"
     ]
    },
    {
     "name": "stderr",
     "output_type": "stream",
     "text": [
      "\n",
      "100%|███████████████████████████████████████████████████████████████████████| 100/100 [00:00<00:00, 12681.19it/s]\u001b[A\n"
     ]
    },
    {
     "name": "stdout",
     "output_type": "stream",
     "text": [
      "\n",
      "... Writing TFRecord 3 of 78 (100 per TFRecord)...\n",
      "\n"
     ]
    },
    {
     "name": "stderr",
     "output_type": "stream",
     "text": [
      "\n",
      "100%|███████████████████████████████████████████████████████████████████████| 100/100 [00:00<00:00, 12491.60it/s]\u001b[A\n"
     ]
    },
    {
     "name": "stdout",
     "output_type": "stream",
     "text": [
      "\n",
      "... Writing TFRecord 4 of 78 (100 per TFRecord)...\n",
      "\n"
     ]
    },
    {
     "name": "stderr",
     "output_type": "stream",
     "text": [
      "\n",
      "100%|███████████████████████████████████████████████████████████████████████| 100/100 [00:00<00:00, 13252.98it/s]\u001b[A\n"
     ]
    },
    {
     "name": "stdout",
     "output_type": "stream",
     "text": [
      "\n",
      "... Writing TFRecord 5 of 78 (100 per TFRecord)...\n",
      "\n"
     ]
    },
    {
     "name": "stderr",
     "output_type": "stream",
     "text": [
      "\n",
      "100%|███████████████████████████████████████████████████████████████████████| 100/100 [00:00<00:00, 12975.82it/s]\u001b[A\n"
     ]
    },
    {
     "name": "stdout",
     "output_type": "stream",
     "text": [
      "\n",
      "... Writing TFRecord 6 of 78 (100 per TFRecord)...\n",
      "\n"
     ]
    },
    {
     "name": "stderr",
     "output_type": "stream",
     "text": [
      "\n",
      "100%|███████████████████████████████████████████████████████████████████████| 100/100 [00:00<00:00, 12369.66it/s]\u001b[A\n"
     ]
    },
    {
     "name": "stdout",
     "output_type": "stream",
     "text": [
      "\n",
      "... Writing TFRecord 7 of 78 (100 per TFRecord)...\n",
      "\n"
     ]
    },
    {
     "name": "stderr",
     "output_type": "stream",
     "text": [
      "\n",
      "100%|███████████████████████████████████████████████████████████████████████| 100/100 [00:00<00:00, 13409.33it/s]\u001b[A\n"
     ]
    },
    {
     "name": "stdout",
     "output_type": "stream",
     "text": [
      "\n",
      "... Writing TFRecord 8 of 78 (100 per TFRecord)...\n",
      "\n"
     ]
    },
    {
     "name": "stderr",
     "output_type": "stream",
     "text": [
      "\n",
      "100%|███████████████████████████████████████████████████████████████████████| 100/100 [00:00<00:00, 13230.41it/s]\u001b[A\n"
     ]
    },
    {
     "name": "stdout",
     "output_type": "stream",
     "text": [
      "\n",
      "... Writing TFRecord 9 of 78 (100 per TFRecord)...\n",
      "\n"
     ]
    },
    {
     "name": "stderr",
     "output_type": "stream",
     "text": [
      "\n",
      "100%|███████████████████████████████████████████████████████████████████████| 100/100 [00:00<00:00, 12394.15it/s]\u001b[A\n"
     ]
    },
    {
     "name": "stdout",
     "output_type": "stream",
     "text": [
      "\n",
      "... Writing TFRecord 10 of 78 (100 per TFRecord)...\n",
      "\n"
     ]
    },
    {
     "name": "stderr",
     "output_type": "stream",
     "text": [
      "\n",
      "100%|███████████████████████████████████████████████████████████████████████| 100/100 [00:00<00:00, 12860.44it/s]\u001b[A\n",
      "Writing TFRecords:  13%|███████▎                                                 | 10/78 [00:00<00:00, 90.54it/s]"
     ]
    },
    {
     "name": "stdout",
     "output_type": "stream",
     "text": [
      "\n",
      "... Writing TFRecord 11 of 78 (100 per TFRecord)...\n",
      "\n"
     ]
    },
    {
     "name": "stderr",
     "output_type": "stream",
     "text": [
      "\n",
      "100%|███████████████████████████████████████████████████████████████████████| 100/100 [00:00<00:00, 12595.13it/s]\u001b[A\n"
     ]
    },
    {
     "name": "stdout",
     "output_type": "stream",
     "text": [
      "\n",
      "... Writing TFRecord 12 of 78 (100 per TFRecord)...\n",
      "\n"
     ]
    },
    {
     "name": "stderr",
     "output_type": "stream",
     "text": [
      "\n",
      "100%|███████████████████████████████████████████████████████████████████████| 100/100 [00:00<00:00, 11990.92it/s]\u001b[A\n"
     ]
    },
    {
     "name": "stdout",
     "output_type": "stream",
     "text": [
      "\n",
      "... Writing TFRecord 13 of 78 (100 per TFRecord)...\n",
      "\n"
     ]
    },
    {
     "name": "stderr",
     "output_type": "stream",
     "text": [
      "\n",
      "100%|███████████████████████████████████████████████████████████████████████| 100/100 [00:00<00:00, 12581.91it/s]\u001b[A\n"
     ]
    },
    {
     "name": "stdout",
     "output_type": "stream",
     "text": [
      "\n",
      "... Writing TFRecord 14 of 78 (100 per TFRecord)...\n",
      "\n"
     ]
    },
    {
     "name": "stderr",
     "output_type": "stream",
     "text": [
      "\n",
      "100%|███████████████████████████████████████████████████████████████████████| 100/100 [00:00<00:00, 13132.64it/s]\u001b[A\n"
     ]
    },
    {
     "name": "stdout",
     "output_type": "stream",
     "text": [
      "\n",
      "... Writing TFRecord 15 of 78 (100 per TFRecord)...\n",
      "\n"
     ]
    },
    {
     "name": "stderr",
     "output_type": "stream",
     "text": [
      "\n",
      "100%|███████████████████████████████████████████████████████████████████████| 100/100 [00:00<00:00, 11834.28it/s]\u001b[A\n"
     ]
    },
    {
     "name": "stdout",
     "output_type": "stream",
     "text": [
      "\n",
      "... Writing TFRecord 16 of 78 (100 per TFRecord)...\n",
      "\n"
     ]
    },
    {
     "name": "stderr",
     "output_type": "stream",
     "text": [
      "\n",
      "100%|███████████████████████████████████████████████████████████████████████| 100/100 [00:00<00:00, 11911.58it/s]\u001b[A\n"
     ]
    },
    {
     "name": "stdout",
     "output_type": "stream",
     "text": [
      "\n",
      "... Writing TFRecord 17 of 78 (100 per TFRecord)...\n",
      "\n"
     ]
    },
    {
     "name": "stderr",
     "output_type": "stream",
     "text": [
      "\n",
      "100%|███████████████████████████████████████████████████████████████████████| 100/100 [00:00<00:00, 10938.05it/s]\u001b[A\n"
     ]
    },
    {
     "name": "stdout",
     "output_type": "stream",
     "text": [
      "\n",
      "... Writing TFRecord 18 of 78 (100 per TFRecord)...\n",
      "\n"
     ]
    },
    {
     "name": "stderr",
     "output_type": "stream",
     "text": [
      "\n",
      "100%|███████████████████████████████████████████████████████████████████████| 100/100 [00:00<00:00, 11165.46it/s]\u001b[A\n"
     ]
    },
    {
     "name": "stdout",
     "output_type": "stream",
     "text": [
      "\n",
      "... Writing TFRecord 19 of 78 (100 per TFRecord)...\n",
      "\n"
     ]
    },
    {
     "name": "stderr",
     "output_type": "stream",
     "text": [
      "\n",
      "100%|███████████████████████████████████████████████████████████████████████| 100/100 [00:00<00:00, 12197.00it/s]\u001b[A\n"
     ]
    },
    {
     "name": "stdout",
     "output_type": "stream",
     "text": [
      "\n",
      "... Writing TFRecord 20 of 78 (100 per TFRecord)...\n",
      "\n"
     ]
    },
    {
     "name": "stderr",
     "output_type": "stream",
     "text": [
      "\n",
      "100%|███████████████████████████████████████████████████████████████████████| 100/100 [00:00<00:00, 10280.91it/s]\u001b[A\n",
      "Writing TFRecords:  26%|██████████████▌                                          | 20/78 [00:00<00:00, 86.33it/s]"
     ]
    },
    {
     "name": "stdout",
     "output_type": "stream",
     "text": [
      "\n",
      "... Writing TFRecord 21 of 78 (100 per TFRecord)...\n",
      "\n"
     ]
    },
    {
     "name": "stderr",
     "output_type": "stream",
     "text": [
      "\n",
      "100%|███████████████████████████████████████████████████████████████████████| 100/100 [00:00<00:00, 12117.36it/s]\u001b[A\n"
     ]
    },
    {
     "name": "stdout",
     "output_type": "stream",
     "text": [
      "\n",
      "... Writing TFRecord 22 of 78 (100 per TFRecord)...\n",
      "\n"
     ]
    },
    {
     "name": "stderr",
     "output_type": "stream",
     "text": [
      "\n",
      "100%|███████████████████████████████████████████████████████████████████████| 100/100 [00:00<00:00, 12368.93it/s]\u001b[A\n"
     ]
    },
    {
     "name": "stdout",
     "output_type": "stream",
     "text": [
      "\n",
      "... Writing TFRecord 23 of 78 (100 per TFRecord)...\n",
      "\n"
     ]
    },
    {
     "name": "stderr",
     "output_type": "stream",
     "text": [
      "\n",
      "100%|███████████████████████████████████████████████████████████████████████| 100/100 [00:00<00:00, 12025.99it/s]\u001b[A\n"
     ]
    },
    {
     "name": "stdout",
     "output_type": "stream",
     "text": [
      "\n",
      "... Writing TFRecord 24 of 78 (100 per TFRecord)...\n",
      "\n"
     ]
    },
    {
     "name": "stderr",
     "output_type": "stream",
     "text": [
      "\n",
      "100%|███████████████████████████████████████████████████████████████████████| 100/100 [00:00<00:00, 13519.98it/s]\u001b[A\n"
     ]
    },
    {
     "name": "stdout",
     "output_type": "stream",
     "text": [
      "\n",
      "... Writing TFRecord 25 of 78 (100 per TFRecord)...\n",
      "\n"
     ]
    },
    {
     "name": "stderr",
     "output_type": "stream",
     "text": [
      "\n",
      "100%|███████████████████████████████████████████████████████████████████████| 100/100 [00:00<00:00, 12228.65it/s]\u001b[A\n"
     ]
    },
    {
     "name": "stdout",
     "output_type": "stream",
     "text": [
      "\n",
      "... Writing TFRecord 26 of 78 (100 per TFRecord)...\n",
      "\n"
     ]
    },
    {
     "name": "stderr",
     "output_type": "stream",
     "text": [
      "\n",
      "100%|███████████████████████████████████████████████████████████████████████| 100/100 [00:00<00:00, 12919.07it/s]\u001b[A\n"
     ]
    },
    {
     "name": "stdout",
     "output_type": "stream",
     "text": [
      "\n",
      "... Writing TFRecord 27 of 78 (100 per TFRecord)...\n",
      "\n"
     ]
    },
    {
     "name": "stderr",
     "output_type": "stream",
     "text": [
      "\n",
      "100%|███████████████████████████████████████████████████████████████████████| 100/100 [00:00<00:00, 12461.17it/s]\u001b[A\n"
     ]
    },
    {
     "name": "stdout",
     "output_type": "stream",
     "text": [
      "\n",
      "... Writing TFRecord 28 of 78 (100 per TFRecord)...\n",
      "\n"
     ]
    },
    {
     "name": "stderr",
     "output_type": "stream",
     "text": [
      "\n",
      "100%|███████████████████████████████████████████████████████████████████████| 100/100 [00:00<00:00, 12307.95it/s]\u001b[A\n"
     ]
    },
    {
     "name": "stdout",
     "output_type": "stream",
     "text": [
      "\n",
      "... Writing TFRecord 29 of 78 (100 per TFRecord)...\n",
      "\n"
     ]
    },
    {
     "name": "stderr",
     "output_type": "stream",
     "text": [
      "\n",
      "100%|███████████████████████████████████████████████████████████████████████| 100/100 [00:00<00:00, 12493.83it/s]\u001b[A\n",
      "Writing TFRecords:  37%|█████████████████████▏                                   | 29/78 [00:00<00:00, 86.79it/s]"
     ]
    },
    {
     "name": "stdout",
     "output_type": "stream",
     "text": [
      "\n",
      "... Writing TFRecord 30 of 78 (100 per TFRecord)...\n",
      "\n"
     ]
    },
    {
     "name": "stderr",
     "output_type": "stream",
     "text": [
      "\n",
      "100%|███████████████████████████████████████████████████████████████████████| 100/100 [00:00<00:00, 12547.65it/s]\u001b[A\n"
     ]
    },
    {
     "name": "stdout",
     "output_type": "stream",
     "text": [
      "\n",
      "... Writing TFRecord 31 of 78 (100 per TFRecord)...\n",
      "\n"
     ]
    },
    {
     "name": "stderr",
     "output_type": "stream",
     "text": [
      "\n",
      "100%|███████████████████████████████████████████████████████████████████████| 100/100 [00:00<00:00, 12445.64it/s]\u001b[A\n"
     ]
    },
    {
     "name": "stdout",
     "output_type": "stream",
     "text": [
      "\n",
      "... Writing TFRecord 32 of 78 (100 per TFRecord)...\n",
      "\n"
     ]
    },
    {
     "name": "stderr",
     "output_type": "stream",
     "text": [
      "\n",
      "100%|███████████████████████████████████████████████████████████████████████| 100/100 [00:00<00:00, 13719.88it/s]\u001b[A\n"
     ]
    },
    {
     "name": "stdout",
     "output_type": "stream",
     "text": [
      "\n",
      "... Writing TFRecord 33 of 78 (100 per TFRecord)...\n",
      "\n"
     ]
    },
    {
     "name": "stderr",
     "output_type": "stream",
     "text": [
      "\n",
      "100%|███████████████████████████████████████████████████████████████████████| 100/100 [00:00<00:00, 13755.88it/s]\u001b[A\n"
     ]
    },
    {
     "name": "stdout",
     "output_type": "stream",
     "text": [
      "\n",
      "... Writing TFRecord 34 of 78 (100 per TFRecord)...\n",
      "\n"
     ]
    },
    {
     "name": "stderr",
     "output_type": "stream",
     "text": [
      "\n",
      "100%|███████████████████████████████████████████████████████████████████████| 100/100 [00:00<00:00, 10785.88it/s]\u001b[A\n"
     ]
    },
    {
     "name": "stdout",
     "output_type": "stream",
     "text": [
      "\n",
      "... Writing TFRecord 35 of 78 (100 per TFRecord)...\n",
      "\n"
     ]
    },
    {
     "name": "stderr",
     "output_type": "stream",
     "text": [
      "\n",
      "100%|███████████████████████████████████████████████████████████████████████| 100/100 [00:00<00:00, 13133.47it/s]\u001b[A\n"
     ]
    },
    {
     "name": "stdout",
     "output_type": "stream",
     "text": [
      "\n",
      "... Writing TFRecord 36 of 78 (100 per TFRecord)...\n",
      "\n"
     ]
    },
    {
     "name": "stderr",
     "output_type": "stream",
     "text": [
      "\n",
      "100%|███████████████████████████████████████████████████████████████████████| 100/100 [00:00<00:00, 12552.91it/s]\u001b[A\n"
     ]
    },
    {
     "name": "stdout",
     "output_type": "stream",
     "text": [
      "\n",
      "... Writing TFRecord 37 of 78 (100 per TFRecord)...\n",
      "\n"
     ]
    },
    {
     "name": "stderr",
     "output_type": "stream",
     "text": [
      "\n",
      "100%|███████████████████████████████████████████████████████████████████████| 100/100 [00:00<00:00, 11829.94it/s]\u001b[A\n"
     ]
    },
    {
     "name": "stdout",
     "output_type": "stream",
     "text": [
      "\n",
      "... Writing TFRecord 38 of 78 (100 per TFRecord)...\n",
      "\n"
     ]
    },
    {
     "name": "stderr",
     "output_type": "stream",
     "text": [
      "\n",
      "100%|███████████████████████████████████████████████████████████████████████| 100/100 [00:00<00:00, 13389.21it/s]\u001b[A\n",
      "Writing TFRecords:  49%|███████████████████████████▊                             | 38/78 [00:00<00:00, 86.32it/s]"
     ]
    },
    {
     "name": "stdout",
     "output_type": "stream",
     "text": [
      "\n",
      "... Writing TFRecord 39 of 78 (100 per TFRecord)...\n",
      "\n"
     ]
    },
    {
     "name": "stderr",
     "output_type": "stream",
     "text": [
      "\n",
      "100%|███████████████████████████████████████████████████████████████████████| 100/100 [00:00<00:00, 12537.90it/s]\u001b[A\n"
     ]
    },
    {
     "name": "stdout",
     "output_type": "stream",
     "text": [
      "\n",
      "... Writing TFRecord 40 of 78 (100 per TFRecord)...\n",
      "\n"
     ]
    },
    {
     "name": "stderr",
     "output_type": "stream",
     "text": [
      "\n",
      "100%|███████████████████████████████████████████████████████████████████████| 100/100 [00:00<00:00, 12824.66it/s]\u001b[A\n"
     ]
    },
    {
     "name": "stdout",
     "output_type": "stream",
     "text": [
      "\n",
      "... Writing TFRecord 41 of 78 (100 per TFRecord)...\n",
      "\n"
     ]
    },
    {
     "name": "stderr",
     "output_type": "stream",
     "text": [
      "\n",
      "100%|███████████████████████████████████████████████████████████████████████| 100/100 [00:00<00:00, 12982.65it/s]\u001b[A\n"
     ]
    },
    {
     "name": "stdout",
     "output_type": "stream",
     "text": [
      "\n",
      "... Writing TFRecord 42 of 78 (100 per TFRecord)...\n",
      "\n"
     ]
    },
    {
     "name": "stderr",
     "output_type": "stream",
     "text": [
      "\n",
      "100%|███████████████████████████████████████████████████████████████████████| 100/100 [00:00<00:00, 13399.05it/s]\u001b[A\n"
     ]
    },
    {
     "name": "stdout",
     "output_type": "stream",
     "text": [
      "\n",
      "... Writing TFRecord 43 of 78 (100 per TFRecord)...\n",
      "\n"
     ]
    },
    {
     "name": "stderr",
     "output_type": "stream",
     "text": [
      "\n",
      "100%|███████████████████████████████████████████████████████████████████████| 100/100 [00:00<00:00, 13609.92it/s]\u001b[A\n"
     ]
    },
    {
     "name": "stdout",
     "output_type": "stream",
     "text": [
      "\n",
      "... Writing TFRecord 44 of 78 (100 per TFRecord)...\n",
      "\n"
     ]
    },
    {
     "name": "stderr",
     "output_type": "stream",
     "text": [
      "\n",
      "100%|███████████████████████████████████████████████████████████████████████| 100/100 [00:00<00:00, 13024.58it/s]\u001b[A\n"
     ]
    },
    {
     "name": "stdout",
     "output_type": "stream",
     "text": [
      "\n",
      "... Writing TFRecord 45 of 78 (100 per TFRecord)...\n",
      "\n"
     ]
    },
    {
     "name": "stderr",
     "output_type": "stream",
     "text": [
      "\n",
      "100%|███████████████████████████████████████████████████████████████████████| 100/100 [00:00<00:00, 12400.75it/s]\u001b[A\n"
     ]
    },
    {
     "name": "stdout",
     "output_type": "stream",
     "text": [
      "\n",
      "... Writing TFRecord 46 of 78 (100 per TFRecord)...\n",
      "\n"
     ]
    },
    {
     "name": "stderr",
     "output_type": "stream",
     "text": [
      "\n",
      "100%|███████████████████████████████████████████████████████████████████████| 100/100 [00:00<00:00, 12562.31it/s]\u001b[A\n"
     ]
    },
    {
     "name": "stdout",
     "output_type": "stream",
     "text": [
      "\n",
      "... Writing TFRecord 47 of 78 (100 per TFRecord)...\n",
      "\n"
     ]
    },
    {
     "name": "stderr",
     "output_type": "stream",
     "text": [
      "\n",
      "100%|███████████████████████████████████████████████████████████████████████| 100/100 [00:00<00:00, 11997.09it/s]\u001b[A\n",
      "Writing TFRecords:  60%|██████████████████████████████████▎                      | 47/78 [00:00<00:00, 86.73it/s]"
     ]
    },
    {
     "name": "stdout",
     "output_type": "stream",
     "text": [
      "\n",
      "... Writing TFRecord 48 of 78 (100 per TFRecord)...\n",
      "\n"
     ]
    },
    {
     "name": "stderr",
     "output_type": "stream",
     "text": [
      "\n",
      "100%|███████████████████████████████████████████████████████████████████████| 100/100 [00:00<00:00, 12070.63it/s]\u001b[A\n"
     ]
    },
    {
     "name": "stdout",
     "output_type": "stream",
     "text": [
      "\n",
      "... Writing TFRecord 49 of 78 (100 per TFRecord)...\n",
      "\n"
     ]
    },
    {
     "name": "stderr",
     "output_type": "stream",
     "text": [
      "\n",
      "100%|███████████████████████████████████████████████████████████████████████| 100/100 [00:00<00:00, 12273.74it/s]\u001b[A\n"
     ]
    },
    {
     "name": "stdout",
     "output_type": "stream",
     "text": [
      "\n",
      "... Writing TFRecord 50 of 78 (100 per TFRecord)...\n",
      "\n"
     ]
    },
    {
     "name": "stderr",
     "output_type": "stream",
     "text": [
      "\n",
      "100%|███████████████████████████████████████████████████████████████████████| 100/100 [00:00<00:00, 12675.06it/s]\u001b[A\n"
     ]
    },
    {
     "name": "stdout",
     "output_type": "stream",
     "text": [
      "\n",
      "... Writing TFRecord 51 of 78 (100 per TFRecord)...\n",
      "\n"
     ]
    },
    {
     "name": "stderr",
     "output_type": "stream",
     "text": [
      "\n",
      "100%|███████████████████████████████████████████████████████████████████████| 100/100 [00:00<00:00, 12312.65it/s]\u001b[A\n"
     ]
    },
    {
     "name": "stdout",
     "output_type": "stream",
     "text": [
      "\n",
      "... Writing TFRecord 52 of 78 (100 per TFRecord)...\n",
      "\n"
     ]
    },
    {
     "name": "stderr",
     "output_type": "stream",
     "text": [
      "\n",
      "100%|███████████████████████████████████████████████████████████████████████| 100/100 [00:00<00:00, 11724.12it/s]\u001b[A\n"
     ]
    },
    {
     "name": "stdout",
     "output_type": "stream",
     "text": [
      "\n",
      "... Writing TFRecord 53 of 78 (100 per TFRecord)...\n",
      "\n"
     ]
    },
    {
     "name": "stderr",
     "output_type": "stream",
     "text": [
      "\n",
      "100%|███████████████████████████████████████████████████████████████████████| 100/100 [00:00<00:00, 12712.71it/s]\u001b[A\n"
     ]
    },
    {
     "name": "stdout",
     "output_type": "stream",
     "text": [
      "\n",
      "... Writing TFRecord 54 of 78 (100 per TFRecord)...\n",
      "\n"
     ]
    },
    {
     "name": "stderr",
     "output_type": "stream",
     "text": [
      "\n",
      "100%|███████████████████████████████████████████████████████████████████████| 100/100 [00:00<00:00, 12664.73it/s]\u001b[A\n"
     ]
    },
    {
     "name": "stdout",
     "output_type": "stream",
     "text": [
      "\n",
      "... Writing TFRecord 55 of 78 (100 per TFRecord)...\n",
      "\n"
     ]
    },
    {
     "name": "stderr",
     "output_type": "stream",
     "text": [
      "\n",
      "100%|███████████████████████████████████████████████████████████████████████| 100/100 [00:00<00:00, 12172.93it/s]\u001b[A\n"
     ]
    },
    {
     "name": "stdout",
     "output_type": "stream",
     "text": [
      "\n",
      "... Writing TFRecord 56 of 78 (100 per TFRecord)...\n",
      "\n"
     ]
    },
    {
     "name": "stderr",
     "output_type": "stream",
     "text": [
      "\n",
      "100%|███████████████████████████████████████████████████████████████████████| 100/100 [00:00<00:00, 11739.54it/s]\u001b[A\n",
      "Writing TFRecords:  72%|████████████████████████████████████████▉                | 56/78 [00:00<00:00, 85.20it/s]"
     ]
    },
    {
     "name": "stdout",
     "output_type": "stream",
     "text": [
      "\n",
      "... Writing TFRecord 57 of 78 (100 per TFRecord)...\n",
      "\n"
     ]
    },
    {
     "name": "stderr",
     "output_type": "stream",
     "text": [
      "\n",
      "100%|███████████████████████████████████████████████████████████████████████| 100/100 [00:00<00:00, 12424.25it/s]\u001b[A\n"
     ]
    },
    {
     "name": "stdout",
     "output_type": "stream",
     "text": [
      "\n",
      "... Writing TFRecord 58 of 78 (100 per TFRecord)...\n",
      "\n"
     ]
    },
    {
     "name": "stderr",
     "output_type": "stream",
     "text": [
      "\n",
      "100%|███████████████████████████████████████████████████████████████████████| 100/100 [00:00<00:00, 11894.01it/s]\u001b[A\n"
     ]
    },
    {
     "name": "stdout",
     "output_type": "stream",
     "text": [
      "\n",
      "... Writing TFRecord 59 of 78 (100 per TFRecord)...\n",
      "\n"
     ]
    },
    {
     "name": "stderr",
     "output_type": "stream",
     "text": [
      "\n",
      "100%|███████████████████████████████████████████████████████████████████████| 100/100 [00:00<00:00, 12233.28it/s]\u001b[A\n"
     ]
    },
    {
     "name": "stdout",
     "output_type": "stream",
     "text": [
      "\n",
      "... Writing TFRecord 60 of 78 (100 per TFRecord)...\n",
      "\n"
     ]
    },
    {
     "name": "stderr",
     "output_type": "stream",
     "text": [
      "\n",
      "100%|████████████████████████████████████████████████████████████████████████| 100/100 [00:00<00:00, 8291.76it/s]\u001b[A\n"
     ]
    },
    {
     "name": "stdout",
     "output_type": "stream",
     "text": [
      "\n",
      "... Writing TFRecord 61 of 78 (100 per TFRecord)...\n",
      "\n"
     ]
    },
    {
     "name": "stderr",
     "output_type": "stream",
     "text": [
      "\n",
      "100%|████████████████████████████████████████████████████████████████████████| 100/100 [00:00<00:00, 8326.00it/s]\u001b[A\n"
     ]
    },
    {
     "name": "stdout",
     "output_type": "stream",
     "text": [
      "\n",
      "... Writing TFRecord 62 of 78 (100 per TFRecord)...\n",
      "\n"
     ]
    },
    {
     "name": "stderr",
     "output_type": "stream",
     "text": [
      "\n",
      "100%|███████████████████████████████████████████████████████████████████████| 100/100 [00:00<00:00, 11415.87it/s]\u001b[A\n"
     ]
    },
    {
     "name": "stdout",
     "output_type": "stream",
     "text": [
      "\n",
      "... Writing TFRecord 63 of 78 (100 per TFRecord)...\n",
      "\n"
     ]
    },
    {
     "name": "stderr",
     "output_type": "stream",
     "text": [
      "\n",
      "100%|███████████████████████████████████████████████████████████████████████| 100/100 [00:00<00:00, 12711.94it/s]\u001b[A\n"
     ]
    },
    {
     "name": "stdout",
     "output_type": "stream",
     "text": [
      "\n",
      "... Writing TFRecord 64 of 78 (100 per TFRecord)...\n",
      "\n"
     ]
    },
    {
     "name": "stderr",
     "output_type": "stream",
     "text": [
      "\n",
      "100%|███████████████████████████████████████████████████████████████████████| 100/100 [00:00<00:00, 12464.87it/s]\u001b[A\n"
     ]
    },
    {
     "name": "stdout",
     "output_type": "stream",
     "text": [
      "\n",
      "... Writing TFRecord 65 of 78 (100 per TFRecord)...\n",
      "\n"
     ]
    },
    {
     "name": "stderr",
     "output_type": "stream",
     "text": [
      "\n",
      "100%|███████████████████████████████████████████████████████████████████████| 100/100 [00:00<00:00, 13078.18it/s]\u001b[A\n",
      "Writing TFRecords:  83%|███████████████████████████████████████████████▌         | 65/78 [00:00<00:00, 81.49it/s]"
     ]
    },
    {
     "name": "stdout",
     "output_type": "stream",
     "text": [
      "\n",
      "... Writing TFRecord 66 of 78 (100 per TFRecord)...\n",
      "\n"
     ]
    },
    {
     "name": "stderr",
     "output_type": "stream",
     "text": [
      "\n",
      "100%|███████████████████████████████████████████████████████████████████████| 100/100 [00:00<00:00, 12953.38it/s]\u001b[A\n"
     ]
    },
    {
     "name": "stdout",
     "output_type": "stream",
     "text": [
      "\n",
      "... Writing TFRecord 67 of 78 (100 per TFRecord)...\n",
      "\n"
     ]
    },
    {
     "name": "stderr",
     "output_type": "stream",
     "text": [
      "\n",
      "100%|███████████████████████████████████████████████████████████████████████| 100/100 [00:00<00:00, 12425.36it/s]\u001b[A\n"
     ]
    },
    {
     "name": "stdout",
     "output_type": "stream",
     "text": [
      "\n",
      "... Writing TFRecord 68 of 78 (100 per TFRecord)...\n",
      "\n"
     ]
    },
    {
     "name": "stderr",
     "output_type": "stream",
     "text": [
      "\n",
      "100%|███████████████████████████████████████████████████████████████████████| 100/100 [00:00<00:00, 11408.42it/s]\u001b[A\n"
     ]
    },
    {
     "name": "stdout",
     "output_type": "stream",
     "text": [
      "\n",
      "... Writing TFRecord 69 of 78 (100 per TFRecord)...\n",
      "\n"
     ]
    },
    {
     "name": "stderr",
     "output_type": "stream",
     "text": [
      "\n",
      "100%|███████████████████████████████████████████████████████████████████████| 100/100 [00:00<00:00, 12547.28it/s]\u001b[A\n"
     ]
    },
    {
     "name": "stdout",
     "output_type": "stream",
     "text": [
      "\n",
      "... Writing TFRecord 70 of 78 (100 per TFRecord)...\n",
      "\n"
     ]
    },
    {
     "name": "stderr",
     "output_type": "stream",
     "text": [
      "\n",
      "100%|███████████████████████████████████████████████████████████████████████| 100/100 [00:00<00:00, 13044.02it/s]\u001b[A\n"
     ]
    },
    {
     "name": "stdout",
     "output_type": "stream",
     "text": [
      "\n",
      "... Writing TFRecord 71 of 78 (100 per TFRecord)...\n",
      "\n"
     ]
    },
    {
     "name": "stderr",
     "output_type": "stream",
     "text": [
      "\n",
      "100%|███████████████████████████████████████████████████████████████████████| 100/100 [00:00<00:00, 13271.85it/s]\u001b[A\n"
     ]
    },
    {
     "name": "stdout",
     "output_type": "stream",
     "text": [
      "\n",
      "... Writing TFRecord 72 of 78 (100 per TFRecord)...\n",
      "\n"
     ]
    },
    {
     "name": "stderr",
     "output_type": "stream",
     "text": [
      "\n",
      "100%|███████████████████████████████████████████████████████████████████████| 100/100 [00:00<00:00, 13177.20it/s]\u001b[A\n"
     ]
    },
    {
     "name": "stdout",
     "output_type": "stream",
     "text": [
      "\n",
      "... Writing TFRecord 73 of 78 (100 per TFRecord)...\n",
      "\n"
     ]
    },
    {
     "name": "stderr",
     "output_type": "stream",
     "text": [
      "\n",
      "100%|███████████████████████████████████████████████████████████████████████| 100/100 [00:00<00:00, 12458.21it/s]\u001b[A\n"
     ]
    },
    {
     "name": "stdout",
     "output_type": "stream",
     "text": [
      "\n",
      "... Writing TFRecord 74 of 78 (100 per TFRecord)...\n",
      "\n"
     ]
    },
    {
     "name": "stderr",
     "output_type": "stream",
     "text": [
      "\n",
      "100%|███████████████████████████████████████████████████████████████████████| 100/100 [00:00<00:00, 13340.66it/s]\u001b[A\n",
      "Writing TFRecords:  95%|██████████████████████████████████████████████████████   | 74/78 [00:00<00:00, 82.60it/s]"
     ]
    },
    {
     "name": "stdout",
     "output_type": "stream",
     "text": [
      "\n",
      "... Writing TFRecord 75 of 78 (100 per TFRecord)...\n",
      "\n"
     ]
    },
    {
     "name": "stderr",
     "output_type": "stream",
     "text": [
      "\n",
      "100%|███████████████████████████████████████████████████████████████████████| 100/100 [00:00<00:00, 13443.71it/s]\u001b[A\n"
     ]
    },
    {
     "name": "stdout",
     "output_type": "stream",
     "text": [
      "\n",
      "... Writing TFRecord 76 of 78 (100 per TFRecord)...\n",
      "\n"
     ]
    },
    {
     "name": "stderr",
     "output_type": "stream",
     "text": [
      "\n",
      "100%|███████████████████████████████████████████████████████████████████████| 100/100 [00:00<00:00, 13278.58it/s]\u001b[A\n"
     ]
    },
    {
     "name": "stdout",
     "output_type": "stream",
     "text": [
      "\n",
      "... Writing TFRecord 77 of 78 (100 per TFRecord)...\n",
      "\n"
     ]
    },
    {
     "name": "stderr",
     "output_type": "stream",
     "text": [
      "\n",
      "100%|███████████████████████████████████████████████████████████████████████| 100/100 [00:00<00:00, 10473.19it/s]\u001b[A\n"
     ]
    },
    {
     "name": "stdout",
     "output_type": "stream",
     "text": [
      "\n",
      "... Writing TFRecord 78 of 78 (100 per TFRecord)...\n",
      "\n"
     ]
    },
    {
     "name": "stderr",
     "output_type": "stream",
     "text": [
      "\n",
      " 17%|████████████▏                                                           | 17/100 [00:00<00:00, 10862.76it/s]\u001b[A\n",
      "Writing TFRecords: 100%|█████████████████████████████████████████████████████████| 78/78 [00:00<00:00, 84.75it/s]\n"
     ]
    }
   ],
   "source": [
    "# Define tfrecord creation constants\n",
    "TFRECORD_DIR = os.path.join(DATASET_DIR, \"tfrecords\")\n",
    "\n",
    "# Remove if existing\n",
    "if len(os.listdir(TFRECORD_DIR))==4: \n",
    "    !rm -rf {os.path.join(TFRECORD_DIR, \"*\")}\n",
    "    \n",
    "N_PER = 100 # artificially low to replicate tfrecord amounts expected\n",
    "VERSION_TO_USE = \"v4\"\n",
    "\n",
    "for _df, _suffix in zip([rcts_uni_chunk_df, rcts_bpe_chunk_df, basic_uni_chunk_df, basic_bpe_chunk_df], \n",
    "                        [\"rcts_uni\", \"rcts_bpe\", \"basic_uni\", \"basic_bpe\"]):\n",
    "    # Create the respective tfrecords\n",
    "    write_tfrecords(\n",
    "        ds=_df[\"token_content\"],  n_ex=len(_df),  \n",
    "        output_suffix=_suffix,  version_str=VERSION_TO_USE, \n",
    "        n_ex_per_rec=N_PER, out_dir=TFRECORD_DIR, \n",
    "    )"
   ]
  },
  {
   "cell_type": "markdown",
   "id": "0075889a-00b8-4d08-ac86-b68f5868acb3",
   "metadata": {},
   "source": [
    "<br>\n",
    "\n",
    "**Check dataset**"
   ]
  },
  {
   "cell_type": "code",
   "execution_count": 14,
   "id": "53b2179a-823a-41a8-a2cd-f753a66f5354",
   "metadata": {},
   "outputs": [
    {
     "name": "stdout",
     "output_type": "stream",
     "text": [
      "\n",
      "... FROM TFRECORD ...\n",
      "\n"
     ]
    },
    {
     "data": {
      "text/html": [
       "<style>span.token {font-family: Courier New; font-size: 1.1em; font-weight: 300; padding: 0px; margin-right: 0px; border-color: rgba(0, 0, 0, 0.05); border-style: ridge; border-radius: 0px;}</style><div style='background-color: #FBFBFB; line-height: 175%; padding: 25px; border-radius: 8px; margin-left: 10px; margin-right: 10px; margin-top: 20px; margin-bottom: 20px; overflow-x: auto; white-space: nowrap;'><span class='token' style='background-color: rgba(179, 226, 205, 0.675);'>&nbsp;&nbsp;</span><span class='token' style='background-color: rgba(253, 205, 172, 0.675);'>'</span><span class='token' style='background-color: rgba(203, 213, 232, 0.675);'>O</span><span class='token' style='background-color: rgba(244, 202, 228, 0.675);'>,</span><span class='token' style='background-color: rgba(230, 245, 201, 0.675);'>&nbsp;that</span><span class='token' style='background-color: rgba(255, 242, 174, 0.675);'>&nbsp;infected</span><span class='token' style='background-color: rgba(241, 226, 204, 0.675);'>&nbsp;moist</span><span class='token' style='background-color: rgba(204, 204, 204, 0.675);'>ure</span><span class='token' style='background-color: rgba(179, 226, 205, 0.675);'>&nbsp;of</span><span class='token' style='background-color: rgba(253, 205, 172, 0.675);'>&nbsp;his</span><span class='token' style='background-color: rgba(203, 213, 232, 0.675);'>&nbsp;eye</span><span class='token' style='background-color: rgba(244, 202, 228, 0.675);'>,</span><span class='token' style='background-color: rgba(230, 245, 201, 0.675);'><br></span><span class='token' style='background-color: rgba(179, 226, 205, 0.675);'>&nbsp;&nbsp;</span><span class='token' style='background-color: rgba(253, 205, 172, 0.675);'>O</span><span class='token' style='background-color: rgba(203, 213, 232, 0.675);'>,</span><span class='token' style='background-color: rgba(244, 202, 228, 0.675);'>&nbsp;that</span><span class='token' style='background-color: rgba(230, 245, 201, 0.675);'>&nbsp;false</span><span class='token' style='background-color: rgba(255, 242, 174, 0.675);'>&nbsp;fire</span><span class='token' style='background-color: rgba(241, 226, 204, 0.675);'>&nbsp;which</span><span class='token' style='background-color: rgba(204, 204, 204, 0.675);'>&nbsp;in</span><span class='token' style='background-color: rgba(179, 226, 205, 0.675);'>&nbsp;his</span><span class='token' style='background-color: rgba(253, 205, 172, 0.675);'>&nbsp;cheek</span><span class='token' style='background-color: rgba(203, 213, 232, 0.675);'>&nbsp;so</span><span class='token' style='background-color: rgba(244, 202, 228, 0.675);'>&nbsp;glow</span><span class='token' style='background-color: rgba(230, 245, 201, 0.675);'>ed</span><span class='token' style='background-color: rgba(255, 242, 174, 0.675);'>,</span><span class='token' style='background-color: rgba(241, 226, 204, 0.675);'><br></span><span class='token' style='background-color: rgba(179, 226, 205, 0.675);'>&nbsp;&nbsp;</span><span class='token' style='background-color: rgba(253, 205, 172, 0.675);'>O</span><span class='token' style='background-color: rgba(203, 213, 232, 0.675);'>,</span><span class='token' style='background-color: rgba(244, 202, 228, 0.675);'>&nbsp;that</span><span class='token' style='background-color: rgba(230, 245, 201, 0.675);'>&nbsp;forced</span><span class='token' style='background-color: rgba(255, 242, 174, 0.675);'>&nbsp;thunder</span><span class='token' style='background-color: rgba(241, 226, 204, 0.675);'>&nbsp;from</span><span class='token' style='background-color: rgba(204, 204, 204, 0.675);'>&nbsp;his</span><span class='token' style='background-color: rgba(179, 226, 205, 0.675);'>&nbsp;heart</span><span class='token' style='background-color: rgba(253, 205, 172, 0.675);'>&nbsp;did</span><span class='token' style='background-color: rgba(203, 213, 232, 0.675);'>&nbsp;fly</span><span class='token' style='background-color: rgba(244, 202, 228, 0.675);'>,</span><span class='token' style='background-color: rgba(230, 245, 201, 0.675);'><br></span><span class='token' style='background-color: rgba(179, 226, 205, 0.675);'>&nbsp;&nbsp;</span><span class='token' style='background-color: rgba(253, 205, 172, 0.675);'>O</span><span class='token' style='background-color: rgba(203, 213, 232, 0.675);'>,</span><span class='token' style='background-color: rgba(244, 202, 228, 0.675);'>&nbsp;that</span><span class='token' style='background-color: rgba(230, 245, 201, 0.675);'>&nbsp;sad</span><span class='token' style='background-color: rgba(255, 242, 174, 0.675);'>&nbsp;breath</span><span class='token' style='background-color: rgba(241, 226, 204, 0.675);'>&nbsp;his</span><span class='token' style='background-color: rgba(204, 204, 204, 0.675);'>&nbsp;sp</span><span class='token' style='background-color: rgba(179, 226, 205, 0.675);'>ong</span><span class='token' style='background-color: rgba(253, 205, 172, 0.675);'>y</span><span class='token' style='background-color: rgba(203, 213, 232, 0.675);'>&nbsp;lungs</span><span class='token' style='background-color: rgba(244, 202, 228, 0.675);'>&nbsp;bestowed</span><span class='token' style='background-color: rgba(230, 245, 201, 0.675);'>,</span><span class='token' style='background-color: rgba(255, 242, 174, 0.675);'><br></span><span class='token' style='background-color: rgba(179, 226, 205, 0.675);'>&nbsp;&nbsp;</span><span class='token' style='background-color: rgba(253, 205, 172, 0.675);'>O</span><span class='token' style='background-color: rgba(203, 213, 232, 0.675);'>,</span><span class='token' style='background-color: rgba(244, 202, 228, 0.675);'>&nbsp;all</span><span class='token' style='background-color: rgba(230, 245, 201, 0.675);'>&nbsp;that</span><span class='token' style='background-color: rgba(255, 242, 174, 0.675);'>&nbsp;borrowed</span><span class='token' style='background-color: rgba(241, 226, 204, 0.675);'>&nbsp;motion</span><span class='token' style='background-color: rgba(204, 204, 204, 0.675);'>,</span><span class='token' style='background-color: rgba(179, 226, 205, 0.675);'>&nbsp;seeming</span><span class='token' style='background-color: rgba(253, 205, 172, 0.675);'>&nbsp;owed</span><span class='token' style='background-color: rgba(203, 213, 232, 0.675);'>,</span><span class='token' style='background-color: rgba(244, 202, 228, 0.675);'><br></span><span class='token' style='background-color: rgba(179, 226, 205, 0.675);'>&nbsp;&nbsp;</span><span class='token' style='background-color: rgba(253, 205, 172, 0.675);'>Would</span><span class='token' style='background-color: rgba(203, 213, 232, 0.675);'>&nbsp;yet</span><span class='token' style='background-color: rgba(244, 202, 228, 0.675);'>&nbsp;again</span><span class='token' style='background-color: rgba(230, 245, 201, 0.675);'>&nbsp;betray</span><span class='token' style='background-color: rgba(255, 242, 174, 0.675);'>&nbsp;the</span><span class='token' style='background-color: rgba(241, 226, 204, 0.675);'>&nbsp;fore</span><span class='token' style='background-color: rgba(204, 204, 204, 0.675);'>-</span><span class='token' style='background-color: rgba(179, 226, 205, 0.675);'>bet</span><span class='token' style='background-color: rgba(253, 205, 172, 0.675);'>ray</span><span class='token' style='background-color: rgba(203, 213, 232, 0.675);'>ed</span><span class='token' style='background-color: rgba(244, 202, 228, 0.675);'>,</span><span class='token' style='background-color: rgba(230, 245, 201, 0.675);'><br></span><span class='token' style='background-color: rgba(179, 226, 205, 0.675);'>&nbsp;&nbsp;</span><span class='token' style='background-color: rgba(253, 205, 172, 0.675);'>And</span><span class='token' style='background-color: rgba(203, 213, 232, 0.675);'>&nbsp;new</span><span class='token' style='background-color: rgba(244, 202, 228, 0.675);'>&nbsp;per</span><span class='token' style='background-color: rgba(230, 245, 201, 0.675);'>vert</span><span class='token' style='background-color: rgba(255, 242, 174, 0.675);'>&nbsp;a</span><span class='token' style='background-color: rgba(241, 226, 204, 0.675);'>&nbsp;reconci</span><span class='token' style='background-color: rgba(204, 204, 204, 0.675);'>led</span><span class='token' style='background-color: rgba(179, 226, 205, 0.675);'>&nbsp;maid</span><span class='token' style='background-color: rgba(253, 205, 172, 0.675);'>.'</span><span class='token' style='background-color: rgba(203, 213, 232, 0.675);'><br></span><span class='token' style='background-color: rgba(179, 226, 205, 0.675);'>&nbsp;&nbsp;</span><span class='token' style='background-color: rgba(253, 205, 172, 0.675);'>'</span><span class='token' style='background-color: rgba(203, 213, 232, 0.675);'>Thus</span><span class='token' style='background-color: rgba(244, 202, 228, 0.675);'>&nbsp;merely</span><span class='token' style='background-color: rgba(230, 245, 201, 0.675);'>&nbsp;with</span><span class='token' style='background-color: rgba(255, 242, 174, 0.675);'>&nbsp;the</span><span class='token' style='background-color: rgba(241, 226, 204, 0.675);'>&nbsp;garment</span><span class='token' style='background-color: rgba(204, 204, 204, 0.675);'>&nbsp;of</span><span class='token' style='background-color: rgba(179, 226, 205, 0.675);'>&nbsp;a</span><span class='token' style='background-color: rgba(253, 205, 172, 0.675);'>&nbsp;Grace</span><span class='token' style='background-color: rgba(203, 213, 232, 0.675);'>&nbsp;&nbsp;</span><span class='token' style='background-color: rgba(244, 202, 228, 0.675);'><br></span><span class='token' style='background-color: rgba(179, 226, 205, 0.675);'>&nbsp;&nbsp;</span><span class='token' style='background-color: rgba(253, 205, 172, 0.675);'>The</span><span class='token' style='background-color: rgba(203, 213, 232, 0.675);'>&nbsp;naked</span><span class='token' style='background-color: rgba(244, 202, 228, 0.675);'>&nbsp;and</span><span class='token' style='background-color: rgba(230, 245, 201, 0.675);'>&nbsp;conce</span><span class='token' style='background-color: rgba(255, 242, 174, 0.675);'>aled</span><span class='token' style='background-color: rgba(241, 226, 204, 0.675);'>&nbsp;fiend</span><span class='token' style='background-color: rgba(204, 204, 204, 0.675);'>&nbsp;he</span><span class='token' style='background-color: rgba(179, 226, 205, 0.675);'>&nbsp;cove</span><span class='token' style='background-color: rgba(253, 205, 172, 0.675);'>red</span><span class='token' style='background-color: rgba(203, 213, 232, 0.675);'>,</span><span class='token' style='background-color: rgba(244, 202, 228, 0.675);'><br></span><span class='token' style='background-color: rgba(179, 226, 205, 0.675);'>&nbsp;&nbsp;</span><span class='token' style='background-color: rgba(253, 205, 172, 0.675);'>That</span><span class='token' style='background-color: rgba(203, 213, 232, 0.675);'>&nbsp;th</span><span class='token' style='background-color: rgba(244, 202, 228, 0.675);'>'</span><span class='token' style='background-color: rgba(230, 245, 201, 0.675);'>&nbsp;unex</span><span class='token' style='background-color: rgba(255, 242, 174, 0.675);'>per</span><span class='token' style='background-color: rgba(241, 226, 204, 0.675);'>ient</span><span class='token' style='background-color: rgba(204, 204, 204, 0.675);'>&nbsp;gave</span><span class='token' style='background-color: rgba(179, 226, 205, 0.675);'>&nbsp;the</span><span class='token' style='background-color: rgba(253, 205, 172, 0.675);'>&nbsp;temp</span><span class='token' style='background-color: rgba(203, 213, 232, 0.675);'>ter</span><span class='token' style='background-color: rgba(244, 202, 228, 0.675);'>&nbsp;place</span><span class='token' style='background-color: rgba(230, 245, 201, 0.675);'>,</span><span class='token' style='background-color: rgba(255, 242, 174, 0.675);'><br></span><span class='token' style='background-color: rgba(179, 226, 205, 0.675);'>&nbsp;&nbsp;</span><span class='token' style='background-color: rgba(253, 205, 172, 0.675);'>Which</span><span class='token' style='background-color: rgba(203, 213, 232, 0.675);'>,</span><span class='token' style='background-color: rgba(244, 202, 228, 0.675);'>&nbsp;like</span><span class='token' style='background-color: rgba(230, 245, 201, 0.675);'>&nbsp;a</span><span class='token' style='background-color: rgba(255, 242, 174, 0.675);'>&nbsp;cherub</span><span class='token' style='background-color: rgba(241, 226, 204, 0.675);'>in</span><span class='token' style='background-color: rgba(204, 204, 204, 0.675);'>,</span><span class='token' style='background-color: rgba(179, 226, 205, 0.675);'>&nbsp;above</span><span class='token' style='background-color: rgba(253, 205, 172, 0.675);'>&nbsp;them</span><span class='token' style='background-color: rgba(203, 213, 232, 0.675);'>&nbsp;ho</span><span class='token' style='background-color: rgba(244, 202, 228, 0.675);'>ve</span><span class='token' style='background-color: rgba(230, 245, 201, 0.675);'>red</span><span class='token' style='background-color: rgba(255, 242, 174, 0.675);'>.</span><span class='token' style='background-color: rgba(241, 226, 204, 0.675);'><br></span><span class='token' style='background-color: rgba(179, 226, 205, 0.675);'>&nbsp;&nbsp;</span><span class='token' style='background-color: rgba(253, 205, 172, 0.675);'>Who</span><span class='token' style='background-color: rgba(203, 213, 232, 0.675);'>,</span><span class='token' style='background-color: rgba(244, 202, 228, 0.675);'>&nbsp;young</span><span class='token' style='background-color: rgba(230, 245, 201, 0.675);'>&nbsp;and</span><span class='token' style='background-color: rgba(255, 242, 174, 0.675);'>&nbsp;simple</span><span class='token' style='background-color: rgba(241, 226, 204, 0.675);'>,</span><span class='token' style='background-color: rgba(204, 204, 204, 0.675);'>&nbsp;would</span><span class='token' style='background-color: rgba(179, 226, 205, 0.675);'>&nbsp;not</span><span class='token' style='background-color: rgba(253, 205, 172, 0.675);'>&nbsp;be</span><span class='token' style='background-color: rgba(203, 213, 232, 0.675);'>&nbsp;so</span><span class='token' style='background-color: rgba(244, 202, 228, 0.675);'>&nbsp;love</span><span class='token' style='background-color: rgba(230, 245, 201, 0.675);'>red</span><span class='token' style='background-color: rgba(255, 242, 174, 0.675);'>?</span><span class='token' style='background-color: rgba(241, 226, 204, 0.675);'><br></span><span class='token' style='background-color: rgba(179, 226, 205, 0.675);'>&nbsp;&nbsp;</span><span class='token' style='background-color: rgba(253, 205, 172, 0.675);'>Ay</span><span class='token' style='background-color: rgba(203, 213, 232, 0.675);'>&nbsp;me</span><span class='token' style='background-color: rgba(244, 202, 228, 0.675);'>,</span><span class='token' style='background-color: rgba(230, 245, 201, 0.675);'>&nbsp;I</span><span class='token' style='background-color: rgba(255, 242, 174, 0.675);'>&nbsp;fell</span><span class='token' style='background-color: rgba(241, 226, 204, 0.675);'>,</span><span class='token' style='background-color: rgba(204, 204, 204, 0.675);'>&nbsp;and</span><span class='token' style='background-color: rgba(179, 226, 205, 0.675);'>&nbsp;yet</span><span class='token' style='background-color: rgba(253, 205, 172, 0.675);'>&nbsp;do</span><span class='token' style='background-color: rgba(203, 213, 232, 0.675);'>&nbsp;question</span><span class='token' style='background-color: rgba(244, 202, 228, 0.675);'>&nbsp;make</span><span class='token' style='background-color: rgba(230, 245, 201, 0.675);'><br></span><span class='token' style='background-color: rgba(179, 226, 205, 0.675);'>&nbsp;&nbsp;</span><span class='token' style='background-color: rgba(253, 205, 172, 0.675);'>What</span><span class='token' style='background-color: rgba(203, 213, 232, 0.675);'>&nbsp;I</span><span class='token' style='background-color: rgba(244, 202, 228, 0.675);'>&nbsp;should</span><span class='token' style='background-color: rgba(230, 245, 201, 0.675);'>&nbsp;do</span><span class='token' style='background-color: rgba(255, 242, 174, 0.675);'>&nbsp;again</span><span class='token' style='background-color: rgba(241, 226, 204, 0.675);'>&nbsp;for</span><span class='token' style='background-color: rgba(204, 204, 204, 0.675);'>&nbsp;such</span><span class='token' style='background-color: rgba(179, 226, 205, 0.675);'>&nbsp;a</span><span class='token' style='background-color: rgba(253, 205, 172, 0.675);'>&nbsp;sake</span><span class='token' style='background-color: rgba(203, 213, 232, 0.675);'>.</span><span class='token' style='background-color: rgba(244, 202, 228, 0.675);'><br></span></div>"
      ],
      "text/plain": [
       "<IPython.core.display.HTML object>"
      ]
     },
     "metadata": {},
     "output_type": "display_data"
    },
    {
     "name": "stdout",
     "output_type": "stream",
     "text": [
      "\n",
      "... FROM PANDAS DATAFRAME ...\n",
      "\n"
     ]
    },
    {
     "data": {
      "text/html": [
       "<style>span.token {font-family: Courier New; font-size: 1.1em; font-weight: 300; padding: 0px; margin-right: 0px; border-color: rgba(0, 0, 0, 0.05); border-style: ridge; border-radius: 0px;}</style><div style='background-color: #FBFBFB; line-height: 175%; padding: 25px; border-radius: 8px; margin-left: 10px; margin-right: 10px; margin-top: 20px; margin-bottom: 20px; overflow-x: auto; white-space: nowrap;'><span class='token' style='background-color: rgba(179, 226, 205, 0.675);'>&nbsp;&nbsp;</span><span class='token' style='background-color: rgba(253, 205, 172, 0.675);'>'</span><span class='token' style='background-color: rgba(203, 213, 232, 0.675);'>O</span><span class='token' style='background-color: rgba(244, 202, 228, 0.675);'>,</span><span class='token' style='background-color: rgba(230, 245, 201, 0.675);'>&nbsp;that</span><span class='token' style='background-color: rgba(255, 242, 174, 0.675);'>&nbsp;infected</span><span class='token' style='background-color: rgba(241, 226, 204, 0.675);'>&nbsp;moist</span><span class='token' style='background-color: rgba(204, 204, 204, 0.675);'>ure</span><span class='token' style='background-color: rgba(179, 226, 205, 0.675);'>&nbsp;of</span><span class='token' style='background-color: rgba(253, 205, 172, 0.675);'>&nbsp;his</span><span class='token' style='background-color: rgba(203, 213, 232, 0.675);'>&nbsp;eye</span><span class='token' style='background-color: rgba(244, 202, 228, 0.675);'>,</span><span class='token' style='background-color: rgba(230, 245, 201, 0.675);'><br></span><span class='token' style='background-color: rgba(179, 226, 205, 0.675);'>&nbsp;&nbsp;</span><span class='token' style='background-color: rgba(253, 205, 172, 0.675);'>O</span><span class='token' style='background-color: rgba(203, 213, 232, 0.675);'>,</span><span class='token' style='background-color: rgba(244, 202, 228, 0.675);'>&nbsp;that</span><span class='token' style='background-color: rgba(230, 245, 201, 0.675);'>&nbsp;false</span><span class='token' style='background-color: rgba(255, 242, 174, 0.675);'>&nbsp;fire</span><span class='token' style='background-color: rgba(241, 226, 204, 0.675);'>&nbsp;which</span><span class='token' style='background-color: rgba(204, 204, 204, 0.675);'>&nbsp;in</span><span class='token' style='background-color: rgba(179, 226, 205, 0.675);'>&nbsp;his</span><span class='token' style='background-color: rgba(253, 205, 172, 0.675);'>&nbsp;cheek</span><span class='token' style='background-color: rgba(203, 213, 232, 0.675);'>&nbsp;so</span><span class='token' style='background-color: rgba(244, 202, 228, 0.675);'>&nbsp;glow</span><span class='token' style='background-color: rgba(230, 245, 201, 0.675);'>ed</span><span class='token' style='background-color: rgba(255, 242, 174, 0.675);'>,</span><span class='token' style='background-color: rgba(241, 226, 204, 0.675);'><br></span><span class='token' style='background-color: rgba(179, 226, 205, 0.675);'>&nbsp;&nbsp;</span><span class='token' style='background-color: rgba(253, 205, 172, 0.675);'>O</span><span class='token' style='background-color: rgba(203, 213, 232, 0.675);'>,</span><span class='token' style='background-color: rgba(244, 202, 228, 0.675);'>&nbsp;that</span><span class='token' style='background-color: rgba(230, 245, 201, 0.675);'>&nbsp;forced</span><span class='token' style='background-color: rgba(255, 242, 174, 0.675);'>&nbsp;thunder</span><span class='token' style='background-color: rgba(241, 226, 204, 0.675);'>&nbsp;from</span><span class='token' style='background-color: rgba(204, 204, 204, 0.675);'>&nbsp;his</span><span class='token' style='background-color: rgba(179, 226, 205, 0.675);'>&nbsp;heart</span><span class='token' style='background-color: rgba(253, 205, 172, 0.675);'>&nbsp;did</span><span class='token' style='background-color: rgba(203, 213, 232, 0.675);'>&nbsp;fly</span><span class='token' style='background-color: rgba(244, 202, 228, 0.675);'>,</span><span class='token' style='background-color: rgba(230, 245, 201, 0.675);'><br></span><span class='token' style='background-color: rgba(179, 226, 205, 0.675);'>&nbsp;&nbsp;</span><span class='token' style='background-color: rgba(253, 205, 172, 0.675);'>O</span><span class='token' style='background-color: rgba(203, 213, 232, 0.675);'>,</span><span class='token' style='background-color: rgba(244, 202, 228, 0.675);'>&nbsp;that</span><span class='token' style='background-color: rgba(230, 245, 201, 0.675);'>&nbsp;sad</span><span class='token' style='background-color: rgba(255, 242, 174, 0.675);'>&nbsp;breath</span><span class='token' style='background-color: rgba(241, 226, 204, 0.675);'>&nbsp;his</span><span class='token' style='background-color: rgba(204, 204, 204, 0.675);'>&nbsp;sp</span><span class='token' style='background-color: rgba(179, 226, 205, 0.675);'>ong</span><span class='token' style='background-color: rgba(253, 205, 172, 0.675);'>y</span><span class='token' style='background-color: rgba(203, 213, 232, 0.675);'>&nbsp;lungs</span><span class='token' style='background-color: rgba(244, 202, 228, 0.675);'>&nbsp;bestowed</span><span class='token' style='background-color: rgba(230, 245, 201, 0.675);'>,</span><span class='token' style='background-color: rgba(255, 242, 174, 0.675);'><br></span><span class='token' style='background-color: rgba(179, 226, 205, 0.675);'>&nbsp;&nbsp;</span><span class='token' style='background-color: rgba(253, 205, 172, 0.675);'>O</span><span class='token' style='background-color: rgba(203, 213, 232, 0.675);'>,</span><span class='token' style='background-color: rgba(244, 202, 228, 0.675);'>&nbsp;all</span><span class='token' style='background-color: rgba(230, 245, 201, 0.675);'>&nbsp;that</span><span class='token' style='background-color: rgba(255, 242, 174, 0.675);'>&nbsp;borrowed</span><span class='token' style='background-color: rgba(241, 226, 204, 0.675);'>&nbsp;motion</span><span class='token' style='background-color: rgba(204, 204, 204, 0.675);'>,</span><span class='token' style='background-color: rgba(179, 226, 205, 0.675);'>&nbsp;seeming</span><span class='token' style='background-color: rgba(253, 205, 172, 0.675);'>&nbsp;owed</span><span class='token' style='background-color: rgba(203, 213, 232, 0.675);'>,</span><span class='token' style='background-color: rgba(244, 202, 228, 0.675);'><br></span><span class='token' style='background-color: rgba(179, 226, 205, 0.675);'>&nbsp;&nbsp;</span><span class='token' style='background-color: rgba(253, 205, 172, 0.675);'>Would</span><span class='token' style='background-color: rgba(203, 213, 232, 0.675);'>&nbsp;yet</span><span class='token' style='background-color: rgba(244, 202, 228, 0.675);'>&nbsp;again</span><span class='token' style='background-color: rgba(230, 245, 201, 0.675);'>&nbsp;betray</span><span class='token' style='background-color: rgba(255, 242, 174, 0.675);'>&nbsp;the</span><span class='token' style='background-color: rgba(241, 226, 204, 0.675);'>&nbsp;fore</span><span class='token' style='background-color: rgba(204, 204, 204, 0.675);'>-</span><span class='token' style='background-color: rgba(179, 226, 205, 0.675);'>bet</span><span class='token' style='background-color: rgba(253, 205, 172, 0.675);'>ray</span><span class='token' style='background-color: rgba(203, 213, 232, 0.675);'>ed</span><span class='token' style='background-color: rgba(244, 202, 228, 0.675);'>,</span><span class='token' style='background-color: rgba(230, 245, 201, 0.675);'><br></span><span class='token' style='background-color: rgba(179, 226, 205, 0.675);'>&nbsp;&nbsp;</span><span class='token' style='background-color: rgba(253, 205, 172, 0.675);'>And</span><span class='token' style='background-color: rgba(203, 213, 232, 0.675);'>&nbsp;new</span><span class='token' style='background-color: rgba(244, 202, 228, 0.675);'>&nbsp;per</span><span class='token' style='background-color: rgba(230, 245, 201, 0.675);'>vert</span><span class='token' style='background-color: rgba(255, 242, 174, 0.675);'>&nbsp;a</span><span class='token' style='background-color: rgba(241, 226, 204, 0.675);'>&nbsp;reconci</span><span class='token' style='background-color: rgba(204, 204, 204, 0.675);'>led</span><span class='token' style='background-color: rgba(179, 226, 205, 0.675);'>&nbsp;maid</span><span class='token' style='background-color: rgba(253, 205, 172, 0.675);'>.'</span><span class='token' style='background-color: rgba(203, 213, 232, 0.675);'><br></span><span class='token' style='background-color: rgba(179, 226, 205, 0.675);'>&nbsp;&nbsp;</span><span class='token' style='background-color: rgba(253, 205, 172, 0.675);'>'</span><span class='token' style='background-color: rgba(203, 213, 232, 0.675);'>Thus</span><span class='token' style='background-color: rgba(244, 202, 228, 0.675);'>&nbsp;merely</span><span class='token' style='background-color: rgba(230, 245, 201, 0.675);'>&nbsp;with</span><span class='token' style='background-color: rgba(255, 242, 174, 0.675);'>&nbsp;the</span><span class='token' style='background-color: rgba(241, 226, 204, 0.675);'>&nbsp;garment</span><span class='token' style='background-color: rgba(204, 204, 204, 0.675);'>&nbsp;of</span><span class='token' style='background-color: rgba(179, 226, 205, 0.675);'>&nbsp;a</span><span class='token' style='background-color: rgba(253, 205, 172, 0.675);'>&nbsp;Grace</span><span class='token' style='background-color: rgba(203, 213, 232, 0.675);'>&nbsp;&nbsp;</span><span class='token' style='background-color: rgba(244, 202, 228, 0.675);'><br></span><span class='token' style='background-color: rgba(179, 226, 205, 0.675);'>&nbsp;&nbsp;</span><span class='token' style='background-color: rgba(253, 205, 172, 0.675);'>The</span><span class='token' style='background-color: rgba(203, 213, 232, 0.675);'>&nbsp;naked</span><span class='token' style='background-color: rgba(244, 202, 228, 0.675);'>&nbsp;and</span><span class='token' style='background-color: rgba(230, 245, 201, 0.675);'>&nbsp;conce</span><span class='token' style='background-color: rgba(255, 242, 174, 0.675);'>aled</span><span class='token' style='background-color: rgba(241, 226, 204, 0.675);'>&nbsp;fiend</span><span class='token' style='background-color: rgba(204, 204, 204, 0.675);'>&nbsp;he</span><span class='token' style='background-color: rgba(179, 226, 205, 0.675);'>&nbsp;cove</span><span class='token' style='background-color: rgba(253, 205, 172, 0.675);'>red</span><span class='token' style='background-color: rgba(203, 213, 232, 0.675);'>,</span><span class='token' style='background-color: rgba(244, 202, 228, 0.675);'><br></span><span class='token' style='background-color: rgba(179, 226, 205, 0.675);'>&nbsp;&nbsp;</span><span class='token' style='background-color: rgba(253, 205, 172, 0.675);'>That</span><span class='token' style='background-color: rgba(203, 213, 232, 0.675);'>&nbsp;th</span><span class='token' style='background-color: rgba(244, 202, 228, 0.675);'>'</span><span class='token' style='background-color: rgba(230, 245, 201, 0.675);'>&nbsp;unex</span><span class='token' style='background-color: rgba(255, 242, 174, 0.675);'>per</span><span class='token' style='background-color: rgba(241, 226, 204, 0.675);'>ient</span><span class='token' style='background-color: rgba(204, 204, 204, 0.675);'>&nbsp;gave</span><span class='token' style='background-color: rgba(179, 226, 205, 0.675);'>&nbsp;the</span><span class='token' style='background-color: rgba(253, 205, 172, 0.675);'>&nbsp;temp</span><span class='token' style='background-color: rgba(203, 213, 232, 0.675);'>ter</span><span class='token' style='background-color: rgba(244, 202, 228, 0.675);'>&nbsp;place</span><span class='token' style='background-color: rgba(230, 245, 201, 0.675);'>,</span><span class='token' style='background-color: rgba(255, 242, 174, 0.675);'><br></span><span class='token' style='background-color: rgba(179, 226, 205, 0.675);'>&nbsp;&nbsp;</span><span class='token' style='background-color: rgba(253, 205, 172, 0.675);'>Which</span><span class='token' style='background-color: rgba(203, 213, 232, 0.675);'>,</span><span class='token' style='background-color: rgba(244, 202, 228, 0.675);'>&nbsp;like</span><span class='token' style='background-color: rgba(230, 245, 201, 0.675);'>&nbsp;a</span><span class='token' style='background-color: rgba(255, 242, 174, 0.675);'>&nbsp;cherub</span><span class='token' style='background-color: rgba(241, 226, 204, 0.675);'>in</span><span class='token' style='background-color: rgba(204, 204, 204, 0.675);'>,</span><span class='token' style='background-color: rgba(179, 226, 205, 0.675);'>&nbsp;above</span><span class='token' style='background-color: rgba(253, 205, 172, 0.675);'>&nbsp;them</span><span class='token' style='background-color: rgba(203, 213, 232, 0.675);'>&nbsp;ho</span><span class='token' style='background-color: rgba(244, 202, 228, 0.675);'>ve</span><span class='token' style='background-color: rgba(230, 245, 201, 0.675);'>red</span><span class='token' style='background-color: rgba(255, 242, 174, 0.675);'>.</span><span class='token' style='background-color: rgba(241, 226, 204, 0.675);'><br></span><span class='token' style='background-color: rgba(179, 226, 205, 0.675);'>&nbsp;&nbsp;</span><span class='token' style='background-color: rgba(253, 205, 172, 0.675);'>Who</span><span class='token' style='background-color: rgba(203, 213, 232, 0.675);'>,</span><span class='token' style='background-color: rgba(244, 202, 228, 0.675);'>&nbsp;young</span><span class='token' style='background-color: rgba(230, 245, 201, 0.675);'>&nbsp;and</span><span class='token' style='background-color: rgba(255, 242, 174, 0.675);'>&nbsp;simple</span><span class='token' style='background-color: rgba(241, 226, 204, 0.675);'>,</span><span class='token' style='background-color: rgba(204, 204, 204, 0.675);'>&nbsp;would</span><span class='token' style='background-color: rgba(179, 226, 205, 0.675);'>&nbsp;not</span><span class='token' style='background-color: rgba(253, 205, 172, 0.675);'>&nbsp;be</span><span class='token' style='background-color: rgba(203, 213, 232, 0.675);'>&nbsp;so</span><span class='token' style='background-color: rgba(244, 202, 228, 0.675);'>&nbsp;love</span><span class='token' style='background-color: rgba(230, 245, 201, 0.675);'>red</span><span class='token' style='background-color: rgba(255, 242, 174, 0.675);'>?</span><span class='token' style='background-color: rgba(241, 226, 204, 0.675);'><br></span><span class='token' style='background-color: rgba(179, 226, 205, 0.675);'>&nbsp;&nbsp;</span><span class='token' style='background-color: rgba(253, 205, 172, 0.675);'>Ay</span><span class='token' style='background-color: rgba(203, 213, 232, 0.675);'>&nbsp;me</span><span class='token' style='background-color: rgba(244, 202, 228, 0.675);'>,</span><span class='token' style='background-color: rgba(230, 245, 201, 0.675);'>&nbsp;I</span><span class='token' style='background-color: rgba(255, 242, 174, 0.675);'>&nbsp;fell</span><span class='token' style='background-color: rgba(241, 226, 204, 0.675);'>,</span><span class='token' style='background-color: rgba(204, 204, 204, 0.675);'>&nbsp;and</span><span class='token' style='background-color: rgba(179, 226, 205, 0.675);'>&nbsp;yet</span><span class='token' style='background-color: rgba(253, 205, 172, 0.675);'>&nbsp;do</span><span class='token' style='background-color: rgba(203, 213, 232, 0.675);'>&nbsp;question</span><span class='token' style='background-color: rgba(244, 202, 228, 0.675);'>&nbsp;make</span><span class='token' style='background-color: rgba(230, 245, 201, 0.675);'><br></span><span class='token' style='background-color: rgba(179, 226, 205, 0.675);'>&nbsp;&nbsp;</span><span class='token' style='background-color: rgba(253, 205, 172, 0.675);'>What</span><span class='token' style='background-color: rgba(203, 213, 232, 0.675);'>&nbsp;I</span><span class='token' style='background-color: rgba(244, 202, 228, 0.675);'>&nbsp;should</span><span class='token' style='background-color: rgba(230, 245, 201, 0.675);'>&nbsp;do</span><span class='token' style='background-color: rgba(255, 242, 174, 0.675);'>&nbsp;again</span><span class='token' style='background-color: rgba(241, 226, 204, 0.675);'>&nbsp;for</span><span class='token' style='background-color: rgba(204, 204, 204, 0.675);'>&nbsp;such</span><span class='token' style='background-color: rgba(179, 226, 205, 0.675);'>&nbsp;a</span><span class='token' style='background-color: rgba(253, 205, 172, 0.675);'>&nbsp;sake</span><span class='token' style='background-color: rgba(203, 213, 232, 0.675);'>.</span><span class='token' style='background-color: rgba(244, 202, 228, 0.675);'><br></span></div>"
      ],
      "text/plain": [
       "<IPython.core.display.HTML object>"
      ]
     },
     "metadata": {},
     "output_type": "display_data"
    }
   ],
   "source": [
    "DEMO_DS_CHUNK_STYLE, DEMO_DS_TOK_STYLE, DEMO_DS_VERSION = \"basic\", \"bpe\", \"v4\"\n",
    "DEMO_TFREC_PATHS = sorted(glob(os.path.join(\n",
    "    TFRECORD_DIR, f\"{DEMO_DS_CHUNK_STYLE}_{DEMO_DS_TOK_STYLE}_{DEMO_DS_VERSION}\", \"*.tfrec\"\n",
    ")))\n",
    "\n",
    "# Get respective tooling\n",
    "demo_ds = load_tfrecord_dataset(DEMO_TFREC_PATHS)\n",
    "viz_tool = bpe_token_viz if DEMO_DS_TOK_STYLE==\"bpe\" else uni_token_viz\n",
    "\n",
    "# Check and compare\n",
    "print(\"\\n... FROM TFRECORD ...\\n\")\n",
    "display(HTML(viz_tool.visualize(bpe_decoder(next(iter(demo_ds)).numpy().tolist()))))\n",
    "\n",
    "# TODO make modular... not important\n",
    "print(\"\\n... FROM PANDAS DATAFRAME ...\\n\")\n",
    "display(HTML(viz_tool.visualize(bpe_decoder(basic_bpe_chunk_df[\"token_content\"][0]))))"
   ]
  },
  {
   "cell_type": "markdown",
   "id": "31872fec-fe94-45dc-b0e5-cd9393444ab9",
   "metadata": {},
   "source": [
    "<br>\n",
    "\n",
    "<b>Send Some wandb Stuff</b>"
   ]
  },
  {
   "cell_type": "code",
   "execution_count": 10,
   "id": "2dfe10b3-a966-4b1a-9633-e5734013d5df",
   "metadata": {},
   "outputs": [
    {
     "data": {
      "text/html": [
       "Waiting for W&B process to finish... <strong style=\"color:green\">(success).</strong>"
      ],
      "text/plain": [
       "<IPython.core.display.HTML object>"
      ]
     },
     "metadata": {},
     "output_type": "display_data"
    },
    {
     "data": {
      "text/html": [
       " View run <strong style=\"color:#cdcd00\">neat-wave-6</strong> at: <a href='https://wandb.ai/ds-ml/spearecode-nbs/runs/gxxzilbb' target=\"_blank\">https://wandb.ai/ds-ml/spearecode-nbs/runs/gxxzilbb</a><br/>Synced 5 W&B file(s), 4 media file(s), 4 artifact file(s) and 0 other file(s)"
      ],
      "text/plain": [
       "<IPython.core.display.HTML object>"
      ]
     },
     "metadata": {},
     "output_type": "display_data"
    },
    {
     "data": {
      "text/html": [
       "Find logs at: <code>./wandb/run-20230419_183501-gxxzilbb/logs</code>"
      ],
      "text/plain": [
       "<IPython.core.display.HTML object>"
      ]
     },
     "metadata": {},
     "output_type": "display_data"
    }
   ],
   "source": [
    "from wandb import Table\n",
    "\n",
    "rcts_bpe_wandb_table  = Table(dataframe=get_metadata_df(rcts_bpe_chunk_df))\n",
    "rcts_uni_wandb_table  = Table(dataframe=get_metadata_df(rcts_uni_chunk_df))\n",
    "basic_bpe_wandb_table = Table(dataframe=get_metadata_df(basic_bpe_chunk_df))\n",
    "basic_uni_wandb_table = Table(dataframe=get_metadata_df(basic_uni_chunk_df))\n",
    "\n",
    "wandb.log({\n",
    "    \"rcts_bpe\": rcts_bpe_wandb_table,\n",
    "    \"rcts_uni\": rcts_uni_wandb_table,\n",
    "    \"basic_bpe\": basic_bpe_wandb_table,\n",
    "    \"basic_uni\": basic_uni_wandb_table,\n",
    "})\n",
    "wandb.finish()"
   ]
  }
 ],
 "metadata": {
  "kernelspec": {
   "display_name": "Python 3 (ipykernel)",
   "language": "python",
   "name": "python3"
  },
  "language_info": {
   "codemirror_mode": {
    "name": "ipython",
    "version": 3
   },
   "file_extension": ".py",
   "mimetype": "text/x-python",
   "name": "python",
   "nbconvert_exporter": "python",
   "pygments_lexer": "ipython3",
   "version": "3.9.16"
  }
 },
 "nbformat": 4,
 "nbformat_minor": 5
}
